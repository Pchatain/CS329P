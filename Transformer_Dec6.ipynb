{
 "cells": [
  {
   "cell_type": "code",
   "execution_count": 48,
   "metadata": {},
   "outputs": [
    {
     "data": {
      "text/plain": [
       "'/Users/peterchatain/Documents/Classes/CS329P/project/riiid-test-answer-prediction'"
      ]
     },
     "execution_count": 48,
     "metadata": {},
     "output_type": "execute_result"
    }
   ],
   "source": [
    "pwd"
   ]
  },
  {
   "cell_type": "code",
   "execution_count": 2,
   "metadata": {
    "colab": {
     "base_uri": "https://localhost:8080/"
    },
    "id": "gUal4vKaoZy6",
    "outputId": "facd8871-0a90-46a5-9b35-78865cbcab80"
   },
   "outputs": [
    {
     "name": "stdout",
     "output_type": "stream",
     "text": [
      "/Users/peterchatain/Documents/Classes/CS329P/project/riiid-test-answer-prediction\n",
      "cv1_train.pickle                     cv1_valid.pickle.zip\n",
      "cv1_train.pickle.zip                 cv1_valid_100k.pickle\n",
      "cv1_train_1000k.pickle               example_sample_submission.csv\n",
      "cv1_train_1000k_preprocessed.pickle  example_test.csv\n",
      "cv1_train_100k.pickle                lectures.csv\n",
      "cv1_train_100k_preprocessed.pickle   questions.csv\n",
      "cv1_val_100k_preprocessed.pickle     riiid-test-answer-prediction.zip\n",
      "cv1_val_10k.pickle                   \u001b[34mriiideducation\u001b[m\u001b[m/\n",
      "cv1_val_10k_preprocessed.pickle      train.csv\n",
      "cv1_valid.pickle\n",
      "cpu\n"
     ]
    }
   ],
   "source": [
    "import os\n",
    "import math\n",
    "import random\n",
    "import numpy as np\n",
    "import pandas as pd\n",
    "from collections import defaultdict\n",
    "import torch\n",
    "import seaborn as sns\n",
    "import matplotlib.pyplot as plt\n",
    "import gc\n",
    "from sklearn import tree\n",
    "from sklearn.tree import DecisionTreeClassifier\n",
    "from sklearn.metrics import roc_auc_score, log_loss, confusion_matrix, accuracy_score, roc_auc_score, roc_curve\n",
    "from torch import nn\n",
    "import sys\n",
    "%cd /Users/peterchatain/Documents/Classes/CS329P/project/riiid-test-answer-prediction\n",
    "%ls\n",
    "\n",
    "device = torch.device(\"cuda:0\" if torch.cuda.is_available() else \"cpu\")\n",
    "print(device)\n"
   ]
  },
  {
   "cell_type": "code",
   "execution_count": 49,
   "metadata": {
    "id": "Bj0XPTCHpGoe"
   },
   "outputs": [],
   "source": [
    "train_path = \"cv1_train_100k.pickle\"\n",
    "valid_path = \"cv1_valid_100k.pickle\"\n",
    "question_path = \"questions.csv\"\n",
    "lecture_path = \"lectures.csv\"\n",
    "train = pd.read_pickle(train_path)\n",
    "valid = pd.read_pickle(valid_path)\n",
    "questions =  pd.read_csv(question_path)\n",
    "lectures =  pd.read_csv(lecture_path)\n",
    "\n",
    "def clean_df(train, is_valid = False, train_mean = 0, train_std = 0):\n",
    "\n",
    "  train = train.sort_values(['user_id', 'timestamp'])\n",
    "  train = train.reset_index(drop=True)\n",
    "  train = train.drop(np.where(train['content_type_id'] == 1)[0], axis=0)\n",
    "  train = train.reset_index(drop=True)\n",
    "  train['part'] = np.array(questions['part'])[np.array(train['content_id'])]\n",
    "  train = pd.concat([train, pd.get_dummies(train.part, prefix='part')], axis = 1)\n",
    "  train = train.drop([\"row_id\", \"content_id\", \"content_type_id\", \"task_container_id\", \"user_answer\", \"max_time_stamp\", \"rand_time_stamp\", \"viretual_time_stamp\", \"part\"], axis=1)\n",
    "  train.drop_duplicates(['user_id','timestamp' ], inplace = True)\n",
    "  normalize_cols = [\"prior_question_elapsed_time\"]\n",
    "  if not is_valid:\n",
    "    train_mean = train[normalize_cols].mean()\n",
    "    train_std = train[normalize_cols].std()\n",
    "  train[normalize_cols] = (train[normalize_cols] - train_mean) / train_std\n",
    "  train = train.fillna(0)\n",
    "  return train, train_mean, train_std\n",
    "train, train_mean, train_std = clean_df(train)\n",
    "valid ,_, _ = clean_df(valid, is_valid = True, train_mean = train_mean, train_std = train_std)\n"
   ]
  },
  {
   "cell_type": "code",
   "execution_count": 50,
   "metadata": {
    "colab": {
     "base_uri": "https://localhost:8080/"
    },
    "id": "pfeof4SOkPOJ",
    "outputId": "41c8d7d0-e961-4d8c-df74-1e4099870c1e"
   },
   "outputs": [
    {
     "name": "stdout",
     "output_type": "stream",
     "text": [
      "there are 2210 unique users in train and 2824 unique users in valid, there are 2 duplicate users : {124443281, 1209880307}\n"
     ]
    }
   ],
   "source": [
    "user_id_train = set(np.unique(train[\"user_id\"]))\n",
    "user_id_valid = set(np.unique(valid[\"user_id\"]))\n",
    "intersection = user_id_train.intersection(user_id_valid)\n",
    "print(\"there are {} unique users in train and {} unique users in valid, there are {} duplicate users : {}\".format(len(user_id_train), len(user_id_valid), len(intersection), intersection))\n",
    "\n",
    "for duplicate_user in intersection:\n",
    "  valid = valid[valid[\"user_id\"]!=duplicate_user]\n",
    "\n",
    "train = train.reset_index(drop=True)\n",
    "\n",
    "valid = valid.reset_index(drop=True)\n",
    "\n"
   ]
  },
  {
   "cell_type": "code",
   "execution_count": 51,
   "metadata": {},
   "outputs": [
    {
     "name": "stdout",
     "output_type": "stream",
     "text": [
      "mu = 0.5826356667339117, sigma = 0.49312406814456117\n",
      "mu = 0.6522629586213401, sigma = 0.47625202512102355\n"
     ]
    }
   ],
   "source": [
    "mapmap_train = np.unique(train[\"user_id\"], return_counts = True)[1]\n",
    "mapmap_valid = np.unique(valid[\"user_id\"], return_counts = True)[1]\n",
    "\n",
    "mu = np.mean(train['answered_correctly'])\n",
    "sigma = np.std(train['answered_correctly'])\n",
    "train['prior_answered_correctly'] = (train['answered_correctly'] - mu) / sigma\n",
    "\n",
    "temp = np.append(0, train['prior_answered_correctly'][0:-1])\n",
    "temp[np.cumsum(mapmap_train)[:-1]] = 0\n",
    "train['prior_answered_correctly']= temp\n",
    "\n",
    "print(f\"mu = {mu}, sigma = {sigma}\")\n",
    "\n",
    "\n",
    "mu = np.mean(valid['answered_correctly'])\n",
    "sigma = np.std(valid['answered_correctly'])\n",
    "valid['prior_answered_correctly'] = (valid['answered_correctly'] - mu) / sigma\n",
    "\n",
    "print(f\"mu = {mu}, sigma = {sigma}\")\n",
    "\n",
    "temp = np.append(0, valid['prior_answered_correctly'][0:-1])\n",
    "temp[np.cumsum(mapmap_valid)[:-1]] = 0\n",
    "valid['prior_answered_correctly']= temp\n",
    "\n",
    "\n",
    "valid['prior_answered_correctly'] = (valid['prior_answered_correctly']>0) + 0\n",
    "train['prior_answered_correctly'] = (train['prior_answered_correctly']>0) + 0\n",
    "\n"
   ]
  },
  {
   "cell_type": "code",
   "execution_count": null,
   "metadata": {},
   "outputs": [],
   "source": []
  },
  {
   "cell_type": "code",
   "execution_count": 52,
   "metadata": {},
   "outputs": [
    {
     "data": {
      "text/html": [
       "<div>\n",
       "<style scoped>\n",
       "    .dataframe tbody tr th:only-of-type {\n",
       "        vertical-align: middle;\n",
       "    }\n",
       "\n",
       "    .dataframe tbody tr th {\n",
       "        vertical-align: top;\n",
       "    }\n",
       "\n",
       "    .dataframe thead th {\n",
       "        text-align: right;\n",
       "    }\n",
       "</style>\n",
       "<table border=\"1\" class=\"dataframe\">\n",
       "  <thead>\n",
       "    <tr style=\"text-align: right;\">\n",
       "      <th></th>\n",
       "      <th>timestamp</th>\n",
       "      <th>user_id</th>\n",
       "      <th>answered_correctly</th>\n",
       "      <th>prior_question_elapsed_time</th>\n",
       "      <th>prior_question_had_explanation</th>\n",
       "      <th>part_1</th>\n",
       "      <th>part_2</th>\n",
       "      <th>part_3</th>\n",
       "      <th>part_4</th>\n",
       "      <th>part_5</th>\n",
       "      <th>part_6</th>\n",
       "      <th>part_7</th>\n",
       "      <th>prior_answered_correctly</th>\n",
       "    </tr>\n",
       "  </thead>\n",
       "  <tbody>\n",
       "    <tr>\n",
       "      <th>0</th>\n",
       "      <td>0</td>\n",
       "      <td>44331</td>\n",
       "      <td>0</td>\n",
       "      <td>0.000000</td>\n",
       "      <td>False</td>\n",
       "      <td>0</td>\n",
       "      <td>0</td>\n",
       "      <td>0</td>\n",
       "      <td>0</td>\n",
       "      <td>1</td>\n",
       "      <td>0</td>\n",
       "      <td>0</td>\n",
       "      <td>0</td>\n",
       "    </tr>\n",
       "    <tr>\n",
       "      <th>1</th>\n",
       "      <td>35028</td>\n",
       "      <td>44331</td>\n",
       "      <td>0</td>\n",
       "      <td>1.339109</td>\n",
       "      <td>False</td>\n",
       "      <td>0</td>\n",
       "      <td>0</td>\n",
       "      <td>0</td>\n",
       "      <td>0</td>\n",
       "      <td>1</td>\n",
       "      <td>0</td>\n",
       "      <td>0</td>\n",
       "      <td>0</td>\n",
       "    </tr>\n",
       "    <tr>\n",
       "      <th>2</th>\n",
       "      <td>61706</td>\n",
       "      <td>44331</td>\n",
       "      <td>1</td>\n",
       "      <td>0.571721</td>\n",
       "      <td>False</td>\n",
       "      <td>0</td>\n",
       "      <td>0</td>\n",
       "      <td>0</td>\n",
       "      <td>0</td>\n",
       "      <td>1</td>\n",
       "      <td>0</td>\n",
       "      <td>0</td>\n",
       "      <td>0</td>\n",
       "    </tr>\n",
       "    <tr>\n",
       "      <th>3</th>\n",
       "      <td>85685</td>\n",
       "      <td>44331</td>\n",
       "      <td>0</td>\n",
       "      <td>0.060129</td>\n",
       "      <td>False</td>\n",
       "      <td>0</td>\n",
       "      <td>1</td>\n",
       "      <td>0</td>\n",
       "      <td>0</td>\n",
       "      <td>0</td>\n",
       "      <td>0</td>\n",
       "      <td>0</td>\n",
       "      <td>1</td>\n",
       "    </tr>\n",
       "    <tr>\n",
       "      <th>4</th>\n",
       "      <td>141228</td>\n",
       "      <td>44331</td>\n",
       "      <td>1</td>\n",
       "      <td>-0.131718</td>\n",
       "      <td>False</td>\n",
       "      <td>0</td>\n",
       "      <td>0</td>\n",
       "      <td>0</td>\n",
       "      <td>0</td>\n",
       "      <td>1</td>\n",
       "      <td>0</td>\n",
       "      <td>0</td>\n",
       "      <td>0</td>\n",
       "    </tr>\n",
       "    <tr>\n",
       "      <th>...</th>\n",
       "      <td>...</td>\n",
       "      <td>...</td>\n",
       "      <td>...</td>\n",
       "      <td>...</td>\n",
       "      <td>...</td>\n",
       "      <td>...</td>\n",
       "      <td>...</td>\n",
       "      <td>...</td>\n",
       "      <td>...</td>\n",
       "      <td>...</td>\n",
       "      <td>...</td>\n",
       "      <td>...</td>\n",
       "      <td>...</td>\n",
       "    </tr>\n",
       "    <tr>\n",
       "      <th>79307</th>\n",
       "      <td>223228</td>\n",
       "      <td>2144322103</td>\n",
       "      <td>1</td>\n",
       "      <td>0.124078</td>\n",
       "      <td>False</td>\n",
       "      <td>0</td>\n",
       "      <td>0</td>\n",
       "      <td>0</td>\n",
       "      <td>0</td>\n",
       "      <td>1</td>\n",
       "      <td>0</td>\n",
       "      <td>0</td>\n",
       "      <td>1</td>\n",
       "    </tr>\n",
       "    <tr>\n",
       "      <th>79308</th>\n",
       "      <td>246293</td>\n",
       "      <td>2144322103</td>\n",
       "      <td>1</td>\n",
       "      <td>-0.131718</td>\n",
       "      <td>False</td>\n",
       "      <td>0</td>\n",
       "      <td>1</td>\n",
       "      <td>0</td>\n",
       "      <td>0</td>\n",
       "      <td>0</td>\n",
       "      <td>0</td>\n",
       "      <td>0</td>\n",
       "      <td>1</td>\n",
       "    </tr>\n",
       "    <tr>\n",
       "      <th>79309</th>\n",
       "      <td>370646</td>\n",
       "      <td>2144322103</td>\n",
       "      <td>1</td>\n",
       "      <td>-0.387514</td>\n",
       "      <td>False</td>\n",
       "      <td>0</td>\n",
       "      <td>1</td>\n",
       "      <td>0</td>\n",
       "      <td>0</td>\n",
       "      <td>0</td>\n",
       "      <td>0</td>\n",
       "      <td>0</td>\n",
       "      <td>1</td>\n",
       "    </tr>\n",
       "    <tr>\n",
       "      <th>79310</th>\n",
       "      <td>403714</td>\n",
       "      <td>2144322103</td>\n",
       "      <td>1</td>\n",
       "      <td>-0.451463</td>\n",
       "      <td>True</td>\n",
       "      <td>0</td>\n",
       "      <td>1</td>\n",
       "      <td>0</td>\n",
       "      <td>0</td>\n",
       "      <td>0</td>\n",
       "      <td>0</td>\n",
       "      <td>0</td>\n",
       "      <td>1</td>\n",
       "    </tr>\n",
       "    <tr>\n",
       "      <th>79311</th>\n",
       "      <td>428849</td>\n",
       "      <td>2144322103</td>\n",
       "      <td>1</td>\n",
       "      <td>-0.259616</td>\n",
       "      <td>True</td>\n",
       "      <td>0</td>\n",
       "      <td>1</td>\n",
       "      <td>0</td>\n",
       "      <td>0</td>\n",
       "      <td>0</td>\n",
       "      <td>0</td>\n",
       "      <td>0</td>\n",
       "      <td>1</td>\n",
       "    </tr>\n",
       "  </tbody>\n",
       "</table>\n",
       "<p>79312 rows × 13 columns</p>\n",
       "</div>"
      ],
      "text/plain": [
       "       timestamp     user_id  answered_correctly  prior_question_elapsed_time  \\\n",
       "0              0       44331                   0                     0.000000   \n",
       "1          35028       44331                   0                     1.339109   \n",
       "2          61706       44331                   1                     0.571721   \n",
       "3          85685       44331                   0                     0.060129   \n",
       "4         141228       44331                   1                    -0.131718   \n",
       "...          ...         ...                 ...                          ...   \n",
       "79307     223228  2144322103                   1                     0.124078   \n",
       "79308     246293  2144322103                   1                    -0.131718   \n",
       "79309     370646  2144322103                   1                    -0.387514   \n",
       "79310     403714  2144322103                   1                    -0.451463   \n",
       "79311     428849  2144322103                   1                    -0.259616   \n",
       "\n",
       "       prior_question_had_explanation  part_1  part_2  part_3  part_4  part_5  \\\n",
       "0                               False       0       0       0       0       1   \n",
       "1                               False       0       0       0       0       1   \n",
       "2                               False       0       0       0       0       1   \n",
       "3                               False       0       1       0       0       0   \n",
       "4                               False       0       0       0       0       1   \n",
       "...                               ...     ...     ...     ...     ...     ...   \n",
       "79307                           False       0       0       0       0       1   \n",
       "79308                           False       0       1       0       0       0   \n",
       "79309                           False       0       1       0       0       0   \n",
       "79310                            True       0       1       0       0       0   \n",
       "79311                            True       0       1       0       0       0   \n",
       "\n",
       "       part_6  part_7  prior_answered_correctly  \n",
       "0           0       0                         0  \n",
       "1           0       0                         0  \n",
       "2           0       0                         0  \n",
       "3           0       0                         1  \n",
       "4           0       0                         0  \n",
       "...       ...     ...                       ...  \n",
       "79307       0       0                         1  \n",
       "79308       0       0                         1  \n",
       "79309       0       0                         1  \n",
       "79310       0       0                         1  \n",
       "79311       0       0                         1  \n",
       "\n",
       "[79312 rows x 13 columns]"
      ]
     },
     "execution_count": 52,
     "metadata": {},
     "output_type": "execute_result"
    }
   ],
   "source": [
    "train"
   ]
  },
  {
   "cell_type": "code",
   "execution_count": 53,
   "metadata": {
    "colab": {
     "base_uri": "https://localhost:8080/"
    },
    "id": "C-cMFuXrmjd3",
    "outputId": "be816914-a3bd-42ed-9ec2-c0f460c34aa8"
   },
   "outputs": [
    {
     "name": "stdout",
     "output_type": "stream",
     "text": [
      "<class 'pandas.core.frame.DataFrame'>\n",
      "RangeIndex: 74217 entries, 0 to 74216\n",
      "Data columns (total 13 columns):\n",
      " #   Column                          Non-Null Count  Dtype  \n",
      "---  ------                          --------------  -----  \n",
      " 0   timestamp                       74217 non-null  int64  \n",
      " 1   user_id                         74217 non-null  int32  \n",
      " 2   answered_correctly              74217 non-null  int8   \n",
      " 3   prior_question_elapsed_time     74217 non-null  float32\n",
      " 4   prior_question_had_explanation  74217 non-null  boolean\n",
      " 5   part_1                          74217 non-null  uint8  \n",
      " 6   part_2                          74217 non-null  uint8  \n",
      " 7   part_3                          74217 non-null  uint8  \n",
      " 8   part_4                          74217 non-null  uint8  \n",
      " 9   part_5                          74217 non-null  uint8  \n",
      " 10  part_6                          74217 non-null  uint8  \n",
      " 11  part_7                          74217 non-null  uint8  \n",
      " 12  prior_answered_correctly        74217 non-null  int64  \n",
      "dtypes: boolean(1), float32(1), int32(1), int64(2), int8(1), uint8(7)\n",
      "memory usage: 2.4 MB\n"
     ]
    }
   ],
   "source": [
    "valid.info()"
   ]
  },
  {
   "cell_type": "code",
   "execution_count": 10,
   "metadata": {},
   "outputs": [
    {
     "name": "stdout",
     "output_type": "stream",
     "text": [
      "train (79312, 13)\n",
      "valid (7456, 13)\n"
     ]
    }
   ],
   "source": [
    "print(\"train\", train.shape)\n",
    "print(\"valid\", valid.shape)\n"
   ]
  },
  {
   "cell_type": "code",
   "execution_count": null,
   "metadata": {},
   "outputs": [],
   "source": [
    "# mapmap_train = np.unique(train[\"user_id\"], return_counts = True)[1]\n",
    "# mapmap_valid = np.unique(valid[\"user_id\"], return_counts = True)[1]\n",
    "# plt.plot(mapmap_train)\n",
    "# plt.plot(mapmap_valid"
   ]
  },
  {
   "cell_type": "code",
   "execution_count": null,
   "metadata": {},
   "outputs": [],
   "source": [
    "# create a histogram of the "
   ]
  },
  {
   "cell_type": "code",
   "execution_count": 54,
   "metadata": {},
   "outputs": [
    {
     "name": "stderr",
     "output_type": "stream",
     "text": [
      "0it [00:00, ?it/s]/var/folders/l_/9kp_4l1d14g94h3qntsw3w7m0000gn/T/ipykernel_47189/1854552066.py:18: DeprecationWarning: `np.float` is a deprecated alias for the builtin `float`. To silence this warning, use `float` by itself. Doing this will not modify any behavior and is safe. If you specifically wanted the numpy scalar type, use `np.float64` here.\n",
      "Deprecated in NumPy 1.20; for more details and guidance: https://numpy.org/devdocs/release/1.20.0-notes.html#deprecations\n",
      "  temp[:,:l-start] = np.array(train.iloc[start:l], dtype = np.float)\n",
      "2210it [00:00, 2646.43it/s]\n",
      "2822it [00:00, 3175.27it/s]\n"
     ]
    }
   ],
   "source": [
    "from tqdm import tqdm\n",
    "\n",
    "WINDOW_LENGTH = 256\n",
    "FEATURE_DIM = train.shape[1]\n",
    "\n",
    "def add_window_padding(train):\n",
    "    train_padded = list()\n",
    "    loss_mask = list()\n",
    "    mapmap = np.unique(train['user_id'], return_counts=True)[1]\n",
    "    lower = np.cumsum(mapmap)\n",
    "    start = 0\n",
    "    for l, m in tqdm(zip(lower, mapmap)):\n",
    "        someee = (((l-start-1)//WINDOW_LENGTH)+1)*WINDOW_LENGTH\n",
    "        end_index = start + someee\n",
    "        padded = end_index - l\n",
    "        temp = np.zeros((1, someee, FEATURE_DIM))\n",
    "        mask = np.zeros((1, someee))\n",
    "        temp[:,:l-start] = np.array(train.iloc[start:l], dtype = np.float)\n",
    "        mask[:, :l-start] =1\n",
    "        temp = np.reshape(temp, (-1,WINDOW_LENGTH,FEATURE_DIM))\n",
    "        mask = np.reshape(mask, (-1, WINDOW_LENGTH))\n",
    "        #Append\n",
    "        train_padded.append(temp)\n",
    "        loss_mask.append(mask)\n",
    "        #Update start\n",
    "        start = l\n",
    "    train_padded = np.vstack(train_padded)\n",
    "    train_padded = torch.from_numpy(train_padded).to(device)\n",
    "    loss_mask = np.vstack(loss_mask)\n",
    "    loss_mask = torch.from_numpy(loss_mask).to(device)\n",
    "    return train_padded, mapmap, loss_mask\n",
    "\n",
    "train_padded, mapmap_train, loss_mask_train = add_window_padding(train)\n",
    "valid_padded, mapmap_valid, loss_mask_valid= add_window_padding(valid)"
   ]
  },
  {
   "cell_type": "code",
   "execution_count": 55,
   "metadata": {
    "colab": {
     "base_uri": "https://localhost:8080/"
    },
    "id": "u18JEIF1zKu4",
    "outputId": "028adc8b-ad43-4922-affd-ef84c16b75a7"
   },
   "outputs": [
    {
     "name": "stdout",
     "output_type": "stream",
     "text": [
      "torch.Size([2235, 256, 1])\n",
      "torch.Size([2235, 256, 10])\n",
      "torch.Size([2235, 256])\n",
      "torch.Size([2836, 256, 1])\n",
      "torch.Size([2836, 256, 10])\n",
      "torch.Size([2836, 256])\n"
     ]
    }
   ],
   "source": [
    "t_train_y =train_padded[:,:,2:3] > 0 \n",
    "t_train_x = train_padded[:,:,3:]\n",
    "print(t_train_y.shape)\n",
    "print(t_train_x.shape)\n",
    "print(loss_mask_train.shape)\n",
    "\n",
    "t_valid_y =valid_padded[:,:,2:3] > 0\n",
    "t_valid_x = valid_padded[:,:,3:]\n",
    "print(t_valid_y.shape)\n",
    "print(t_valid_x.shape)\n",
    "print(loss_mask_valid.shape)"
   ]
  },
  {
   "cell_type": "code",
   "execution_count": 56,
   "metadata": {
    "colab": {
     "base_uri": "https://localhost:8080/"
    },
    "id": "mK5kKetd-nT8",
    "outputId": "744297e0-29c2-486e-9c84-7a506ca4c909"
   },
   "outputs": [
    {
     "name": "stdout",
     "output_type": "stream",
     "text": [
      "torch.Size([138, 16, 256, 10])\n",
      "torch.Size([138, 16, 256])\n",
      "torch.Size([138, 16, 256])\n",
      "torch.Size([176, 16, 256, 10])\n",
      "torch.Size([176, 16, 256])\n",
      "torch.Size([176, 16, 256])\n"
     ]
    }
   ],
   "source": [
    "batch_size = 16\n",
    "\n",
    "def batchify(t_train_x, t_train_y, loss_mask_train, batch_size):\n",
    "  \n",
    "  total = (t_train_y.shape[0]//batch_size-1)*batch_size\n",
    "  t_train_y = t_train_y[:total]\n",
    "  t_train_x = t_train_x[:total, :, :] \n",
    "  loss_mask_train = loss_mask_train[:total,:]\n",
    "  num_batches = int(t_train_y.shape[0] / batch_size)\n",
    "  t_train_x = t_train_x.reshape(num_batches, batch_size, WINDOW_LENGTH, 10)\n",
    "  t_train_y = t_train_y.reshape(num_batches,batch_size, -1)\n",
    "  loss_mask_train = loss_mask_train.reshape(num_batches, batch_size, -1)\n",
    "  print(t_train_x.shape)\n",
    "  print(t_train_y.shape)\n",
    "  print(loss_mask_train.shape)\n",
    "  return t_train_x, t_train_y, loss_mask_train\n",
    "t_train_x, t_train_y , loss_mask_train=  batchify(t_train_x, t_train_y, loss_mask_train, batch_size)\n",
    "t_valid_x, t_valid_y , loss_mask_valid=  batchify(t_valid_x, t_valid_y, loss_mask_valid,batch_size)"
   ]
  },
  {
   "cell_type": "code",
   "execution_count": 57,
   "metadata": {},
   "outputs": [],
   "source": [
    "class PositionalEncoding(nn.Module):\n",
    "\n",
    "    def __init__(self, d_model: int = 9, dropout: float = 0.1, max_len: int = 512):\n",
    "        super().__init__()\n",
    "        self.dropout = nn.Dropout(p=dropout)\n",
    "\n",
    "        position = torch.arange(max_len).unsqueeze(1)\n",
    "        div_term = torch.exp(torch.arange(0, d_model, 2) * (-math.log(10000.0) / d_model))\n",
    "        pe = torch.zeros(max_len, 1, d_model)\n",
    "        pe[:, 0, 0::2] = torch.sin(position * div_term)\n",
    "        pe[:, 0, 1::2] = torch.cos(position * div_term)\n",
    "        self.register_buffer('pe', pe)\n",
    "\n",
    "    def forward(self, x):\n",
    "        \"\"\"\n",
    "        Args:\n",
    "            x: Tensor, shape [seq_len, batch_size, embedding_dim]\n",
    "        \"\"\"\n",
    "        x = x.permute(1, 0, 2) + self.pe[:x.size(1)]\n",
    "        x = x.permute(1, 0, 2)\n",
    "        return self.dropout(x)\n"
   ]
  },
  {
   "cell_type": "code",
   "execution_count": 58,
   "metadata": {},
   "outputs": [],
   "source": [
    "class TransformerModel(torch.nn.Module):\n",
    "    def __init__(self, n_encoder_layers=3, d_model=9, n_heads=3, dropout = 0.1):\n",
    "        super(TransformerModel, self).__init__()\n",
    "        self.n_encoder_layers = n_encoder_layers\n",
    "        self.d_model = d_model\n",
    "        self.positional_encoding = PositionalEncoding(d_model)\n",
    "        self.tranformer_encoder = TransformerModelEncoder(n_encoder_layers, d_model, n_heads,dropout)\n",
    "        self.decoder = torch.nn.Linear(d_model, 1)\n",
    "    def forward(self, X):\n",
    "        X = self.positional_encoding(X)\n",
    "        out = self.tranformer_encoder(X)\n",
    "        out = self.decoder(out)\n",
    "        return out"
   ]
  },
  {
   "cell_type": "code",
   "execution_count": 59,
   "metadata": {},
   "outputs": [],
   "source": [
    "class TransformerModelEncoder(torch.nn.Module):\n",
    "    def __init__(self, n_encoder_layers=3, d_model=9, n_heads=3, dropout= 0.1):\n",
    "        super(TransformerModelEncoder, self).__init__()\n",
    "        self.encoder = []\n",
    "        self.n_encoder_layers = n_encoder_layers\n",
    "        for i in range(n_encoder_layers):\n",
    "            self.encoder.append(TransformerEncoderLayer(n_heads,d_model, dropout))\n",
    "    def forward(self, X):\n",
    "        for i in range(self.n_encoder_layers):\n",
    "            X = self.encoder[i](X)\n",
    "        return X"
   ]
  },
  {
   "cell_type": "code",
   "execution_count": 60,
   "metadata": {},
   "outputs": [],
   "source": [
    "class TransformerEncoderLayer(torch.nn.Module):\n",
    "    def __init__(self, n_heads=3,d_model=9, dropout=0.1):\n",
    "        super(TransformerEncoderLayer, self).__init__()\n",
    "        self.attention = MultiheadAttention(n_heads,d_model, dropout)\n",
    "        self.linear = torch.nn.Linear(d_model, d_model)\n",
    "        self.linear2 = torch.nn.Linear(d_model, d_model)\n",
    "        self.dropout = torch.nn.Dropout(dropout)\n",
    "        self.layer_norm = torch.nn.LayerNorm([WINDOW_LENGTH, d_model])\n",
    "    def forward(self, X):\n",
    "        oldX = X\n",
    "        X = self.attention(X)\n",
    "        X = self.linear(X) \n",
    "        X = self.layer_norm(self.dropout(X) + oldX)\n",
    "        return X"
   ]
  },
  {
   "cell_type": "code",
   "execution_count": 62,
   "metadata": {},
   "outputs": [],
   "source": [
    "class MultiheadAttention(torch.nn.Module):\n",
    "    #Note that d_model should be divisible by the number of heads (n_heads)\n",
    "    def __init__(self, n_heads=3, d_model=9, dropout=0.1):\n",
    "        super(MultiheadAttention, self).__init__()\n",
    "        self.n_heads = n_heads\n",
    "        self.d_model = d_model\n",
    "        self.dropout = dropout\n",
    "        self.small_d = d_model//n_heads\n",
    "        \n",
    "        self.Q = torch.nn.Linear(d_model, d_model)\n",
    "        self.K = torch.nn.Linear(d_model, d_model)\n",
    "        self.V = torch.nn.Linear(d_model, d_model)\n",
    "        self.dropout = torch.nn.Dropout(dropout)\n",
    "        self.layer_norm = nn.LayerNorm([WINDOW_LENGTH, d_model])\n",
    "    #Note that X is input with the size (# of strings, Max Length of strings, #features of string)\n",
    "    def forward(self, X):\n",
    "        q_X = self.Q(X)\n",
    "        k_X =  self.K(X)\n",
    "        v_X =  self.V(X)\n",
    "        max_len = X.shape[1]\n",
    "        batch_size = X.shape[0]\n",
    "        q_X_h = q_X.reshape(batch_size, -1, self.n_heads, self.small_d).permute(0,2,1,3)\n",
    "        k_X_h = k_X.reshape(batch_size, -1, self.n_heads, self.small_d).permute(0,2,3,1)\n",
    "        v_X_h = v_X.reshape(batch_size, -1, self.n_heads, self.small_d).permute(0, 2, 1, 3)\n",
    "        mask = torch.triu(torch.ones(max_len,max_len)*float('-inf'), diagonal=1)\n",
    "        score = torch.softmax((q_X_h @ k_X_h)/np.sqrt(self.small_d) + mask, axis = -1)\n",
    "                \n",
    "        result = (score@v_X_h).permute(0, 2, 1, 3)\n",
    "        result = result.reshape(batch_size, max_len, self.d_model)\n",
    "        result = self.layer_norm(X + self.dropout(result))\n",
    "        return result"
   ]
  },
  {
   "cell_type": "code",
   "execution_count": 66,
   "metadata": {},
   "outputs": [],
   "source": [
    "Q = torch.randn((9, 15))\n",
    "K = torch.randn((9, 15))\n",
    "V = torch.randn((9, 15))\n",
    "small_d = 5\n",
    "n_heads = 3\n",
    "\n",
    "X = t_train_x[0]"
   ]
  },
  {
   "cell_type": "markdown",
   "metadata": {},
   "source": [
    "# Train LSTM"
   ]
  },
  {
   "cell_type": "code",
   "execution_count": 82,
   "metadata": {},
   "outputs": [
    {
     "name": "stderr",
     "output_type": "stream",
     "text": [
      "  8%|▊         | 4/50 [00:00<00:01, 31.30it/s]"
     ]
    },
    {
     "name": "stdout",
     "output_type": "stream",
     "text": [
      "torch.Size([16, 256])\n",
      "avg is 1.0\n",
      "\n",
      "torch.Size([16, 256])\n",
      "avg is 1.0\n",
      "\n",
      "torch.Size([16, 256])\n",
      "avg is 1.0\n",
      "\n",
      "torch.Size([16, 256])\n",
      "avg is 1.0\n",
      "\n",
      "torch.Size([16, 256])\n",
      "avg is 1.0\n",
      "\n",
      "torch.Size([16, 256])\n",
      "avg is 1.0\n",
      "\n",
      "torch.Size([16, 256])\n",
      "avg is 1.0\n",
      "\n"
     ]
    },
    {
     "name": "stderr",
     "output_type": "stream",
     "text": [
      " 24%|██▍       | 12/50 [00:00<00:01, 34.17it/s]"
     ]
    },
    {
     "name": "stdout",
     "output_type": "stream",
     "text": [
      "torch.Size([16, 256])\n",
      "avg is 1.0\n",
      "\n",
      "torch.Size([16, 256])\n",
      "avg is 1.0\n",
      "\n",
      "torch.Size([16, 256])\n",
      "avg is 1.0\n",
      "\n",
      "torch.Size([16, 256])\n",
      "avg is 1.0\n",
      "\n",
      "torch.Size([16, 256])\n",
      "avg is 1.0\n",
      "\n",
      "torch.Size([16, 256])\n",
      "avg is 1.0\n",
      "\n",
      "torch.Size([16, 256])\n",
      "avg is 1.0\n",
      "\n",
      "torch.Size([16, 256])\n"
     ]
    },
    {
     "name": "stderr",
     "output_type": "stream",
     "text": [
      " 40%|████      | 20/50 [00:00<00:00, 33.84it/s]"
     ]
    },
    {
     "name": "stdout",
     "output_type": "stream",
     "text": [
      "avg is 1.0\n",
      "\n",
      "torch.Size([16, 256])\n",
      "avg is 1.0\n",
      "\n",
      "torch.Size([16, 256])\n",
      "avg is 1.0\n",
      "\n",
      "torch.Size([16, 256])\n",
      "avg is 1.0\n",
      "\n",
      "torch.Size([16, 256])\n",
      "avg is 1.0\n",
      "\n",
      "torch.Size([16, 256])\n",
      "avg is 1.0\n",
      "\n",
      "torch.Size([16, 256])\n",
      "avg is 1.0\n",
      "\n"
     ]
    },
    {
     "name": "stderr",
     "output_type": "stream",
     "text": [
      " 48%|████▊     | 24/50 [00:00<00:00, 30.63it/s]"
     ]
    },
    {
     "name": "stdout",
     "output_type": "stream",
     "text": [
      "torch.Size([16, 256])\n",
      "avg is 1.0\n",
      "\n",
      "torch.Size([16, 256])\n",
      "avg is 1.0\n",
      "\n",
      "torch.Size([16, 256])\n",
      "avg is 1.0\n",
      "\n",
      "torch.Size([16, 256])\n",
      "avg is 1.0\n",
      "\n",
      "torch.Size([16, 256])\n",
      "avg is 1.0\n",
      "\n",
      "torch.Size([16, 256])\n"
     ]
    },
    {
     "name": "stderr",
     "output_type": "stream",
     "text": [
      " 62%|██████▏   | 31/50 [00:01<00:00, 28.30it/s]"
     ]
    },
    {
     "name": "stdout",
     "output_type": "stream",
     "text": [
      "avg is 1.0\n",
      "\n",
      "torch.Size([16, 256])\n",
      "avg is 1.0\n",
      "\n",
      "torch.Size([16, 256])\n",
      "avg is 1.0\n",
      "\n",
      "torch.Size([16, 256])\n",
      "avg is 1.0\n",
      "\n",
      "torch.Size([16, 256])\n",
      "avg is 1.0\n",
      "\n",
      "torch.Size([16, 256])\n",
      "avg is 1.0\n",
      "\n"
     ]
    },
    {
     "name": "stderr",
     "output_type": "stream",
     "text": [
      " 74%|███████▍  | 37/50 [00:01<00:00, 27.39it/s]"
     ]
    },
    {
     "name": "stdout",
     "output_type": "stream",
     "text": [
      "torch.Size([16, 256])\n",
      "avg is 1.0\n",
      "\n",
      "torch.Size([16, 256])\n",
      "avg is 1.0\n",
      "\n",
      "torch.Size([16, 256])\n",
      "avg is 1.0\n",
      "\n",
      "torch.Size([16, 256])\n",
      "avg is 1.0\n",
      "\n",
      "torch.Size([16, 256])\n",
      "avg is 1.0\n",
      "\n",
      "torch.Size([16, 256])\n"
     ]
    },
    {
     "name": "stderr",
     "output_type": "stream",
     "text": [
      " 86%|████████▌ | 43/50 [00:01<00:00, 26.94it/s]"
     ]
    },
    {
     "name": "stdout",
     "output_type": "stream",
     "text": [
      "avg is 1.0\n",
      "\n",
      "torch.Size([16, 256])\n",
      "avg is 1.0\n",
      "\n",
      "torch.Size([16, 256])\n",
      "avg is 1.0\n",
      "\n",
      "torch.Size([16, 256])\n",
      "avg is 0.997802734375\n",
      "\n",
      "torch.Size([16, 256])\n",
      "avg is 0.99560546875\n",
      "\n",
      "torch.Size([16, 256])\n",
      "avg is 0.99951171875\n",
      "\n"
     ]
    },
    {
     "name": "stderr",
     "output_type": "stream",
     "text": [
      " 92%|█████████▏| 46/50 [00:01<00:00, 26.81it/s]"
     ]
    },
    {
     "name": "stdout",
     "output_type": "stream",
     "text": [
      "torch.Size([16, 256])\n",
      "avg is 0.99853515625\n",
      "\n",
      "torch.Size([16, 256])\n",
      "avg is 0.992919921875\n",
      "\n",
      "torch.Size([16, 256])\n",
      "avg is 0.99560546875\n",
      "\n",
      "torch.Size([16, 256])\n",
      "avg is 0.9921875\n",
      "\n",
      "torch.Size([16, 256])\n",
      "avg is 0.998291015625\n",
      "\n",
      "torch.Size([16, 256])\n"
     ]
    },
    {
     "name": "stderr",
     "output_type": "stream",
     "text": [
      "100%|██████████| 50/50 [00:01<00:00, 28.93it/s]\n"
     ]
    },
    {
     "name": "stdout",
     "output_type": "stream",
     "text": [
      "avg is 0.98974609375\n",
      "\n",
      "torch.Size([16, 256])\n",
      "avg is 0.992431640625\n",
      "\n",
      "train\n",
      "evaluation acc: 0.5772834470010836, loss: 0.0012558019297057624\n",
      "valid\n",
      "evaluation acc: 0.649468646061491, loss: 0.0015145222619708\n"
     ]
    },
    {
     "name": "stderr",
     "output_type": "stream",
     "text": [
      "  0%|          | 0/50 [00:00<?, ?it/s]"
     ]
    },
    {
     "name": "stdout",
     "output_type": "stream",
     "text": [
      "torch.Size([16, 256])\n",
      "avg is 0.99560546875\n",
      "\n"
     ]
    },
    {
     "name": "stderr",
     "output_type": "stream",
     "text": [
      "  8%|▊         | 4/50 [00:00<00:01, 31.48it/s]"
     ]
    },
    {
     "name": "stdout",
     "output_type": "stream",
     "text": [
      "torch.Size([16, 256])\n",
      "avg is 0.991943359375\n",
      "\n",
      "torch.Size([16, 256])\n",
      "avg is 0.993408203125\n",
      "\n",
      "torch.Size([16, 256])\n",
      "avg is 0.989990234375\n",
      "\n",
      "torch.Size([16, 256])\n",
      "avg is 0.99658203125\n",
      "\n",
      "torch.Size([16, 256])\n",
      "avg is 0.990478515625\n",
      "\n",
      "torch.Size([16, 256])\n",
      "avg is 0.98388671875\n",
      "\n"
     ]
    },
    {
     "name": "stderr",
     "output_type": "stream",
     "text": [
      " 16%|█▌        | 8/50 [00:00<00:01, 33.40it/s]"
     ]
    },
    {
     "name": "stdout",
     "output_type": "stream",
     "text": [
      "torch.Size([16, 256])\n",
      "avg is 0.982177734375\n",
      "\n"
     ]
    },
    {
     "name": "stderr",
     "output_type": "stream",
     "text": [
      " 24%|██▍       | 12/50 [00:00<00:01, 33.85it/s]"
     ]
    },
    {
     "name": "stdout",
     "output_type": "stream",
     "text": [
      "torch.Size([16, 256])\n",
      "avg is 0.971435546875\n",
      "\n",
      "torch.Size([16, 256])\n",
      "avg is 0.958984375\n",
      "\n",
      "torch.Size([16, 256])\n",
      "avg is 0.946044921875\n",
      "\n",
      "torch.Size([16, 256])\n",
      "avg is 0.9677734375\n",
      "\n",
      "torch.Size([16, 256])\n",
      "avg is 0.970458984375\n",
      "\n",
      "torch.Size([16, 256])\n",
      "avg is 0.967041015625\n",
      "\n",
      "torch.Size([16, 256])\n",
      "avg is 0.98291015625\n",
      "\n"
     ]
    },
    {
     "name": "stderr",
     "output_type": "stream",
     "text": [
      " 40%|████      | 20/50 [00:00<00:00, 33.64it/s]"
     ]
    },
    {
     "name": "stdout",
     "output_type": "stream",
     "text": [
      "torch.Size([16, 256])\n",
      "avg is 0.971923828125\n",
      "\n",
      "torch.Size([16, 256])\n",
      "avg is 0.958740234375\n",
      "\n",
      "torch.Size([16, 256])\n",
      "avg is 0.97021484375\n",
      "\n",
      "torch.Size([16, 256])\n",
      "avg is 0.97265625\n",
      "\n",
      "torch.Size([16, 256])\n",
      "avg is 0.9736328125\n",
      "\n",
      "torch.Size([16, 256])\n",
      "avg is 0.97265625\n",
      "\n",
      "torch.Size([16, 256])\n",
      "avg is 0.978515625\n",
      "\n"
     ]
    },
    {
     "name": "stderr",
     "output_type": "stream",
     "text": [
      " 56%|█████▌    | 28/50 [00:00<00:00, 34.53it/s]"
     ]
    },
    {
     "name": "stdout",
     "output_type": "stream",
     "text": [
      "torch.Size([16, 256])\n",
      "avg is 0.96728515625\n",
      "\n",
      "torch.Size([16, 256])\n",
      "avg is 0.972412109375\n",
      "\n",
      "torch.Size([16, 256])\n",
      "avg is 0.9833984375\n",
      "\n",
      "torch.Size([16, 256])\n",
      "avg is 0.9814453125\n",
      "\n",
      "torch.Size([16, 256])\n",
      "avg is 0.97705078125\n",
      "\n",
      "torch.Size([16, 256])\n",
      "avg is 0.9755859375\n",
      "\n",
      "torch.Size([16, 256])\n",
      "avg is 0.979248046875\n",
      "\n",
      "torch.Size([16, 256])\n"
     ]
    },
    {
     "name": "stderr",
     "output_type": "stream",
     "text": [
      " 64%|██████▍   | 32/50 [00:00<00:00, 34.77it/s]"
     ]
    },
    {
     "name": "stdout",
     "output_type": "stream",
     "text": [
      "avg is 0.975341796875\n",
      "\n",
      "torch.Size([16, 256])\n",
      "avg is 0.978515625\n",
      "\n",
      "torch.Size([16, 256])\n",
      "avg is 0.952880859375\n",
      "\n",
      "torch.Size([16, 256])\n",
      "avg is 0.8896484375\n",
      "\n",
      "torch.Size([16, 256])\n",
      "avg is 0.957763671875\n",
      "\n",
      "torch.Size([16, 256])\n",
      "avg is 0.9033203125\n",
      "\n",
      "torch.Size([16, 256])\n",
      "avg is 0.922607421875\n",
      "\n"
     ]
    },
    {
     "name": "stderr",
     "output_type": "stream",
     "text": [
      " 72%|███████▏  | 36/50 [00:01<00:00, 34.95it/s]"
     ]
    },
    {
     "name": "stdout",
     "output_type": "stream",
     "text": [
      "torch.Size([16, 256])\n",
      "avg is 0.919677734375\n",
      "\n"
     ]
    },
    {
     "name": "stderr",
     "output_type": "stream",
     "text": [
      " 80%|████████  | 40/50 [00:01<00:00, 35.27it/s]"
     ]
    },
    {
     "name": "stdout",
     "output_type": "stream",
     "text": [
      "torch.Size([16, 256])\n",
      "avg is 0.931640625\n",
      "\n",
      "torch.Size([16, 256])\n",
      "avg is 0.9248046875\n",
      "\n",
      "torch.Size([16, 256])\n",
      "avg is 0.8740234375\n",
      "\n",
      "torch.Size([16, 256])\n",
      "avg is 0.94091796875\n",
      "\n",
      "torch.Size([16, 256])\n",
      "avg is 0.82763671875\n",
      "\n",
      "torch.Size([16, 256])\n",
      "avg is 0.950439453125\n",
      "\n",
      "torch.Size([16, 256])\n"
     ]
    },
    {
     "name": "stderr",
     "output_type": "stream",
     "text": [
      " 88%|████████▊ | 44/50 [00:01<00:00, 35.37it/s]"
     ]
    },
    {
     "name": "stdout",
     "output_type": "stream",
     "text": [
      "avg is 0.971923828125\n",
      "\n",
      "torch.Size([16, 256])\n"
     ]
    },
    {
     "name": "stderr",
     "output_type": "stream",
     "text": [
      "100%|██████████| 50/50 [00:01<00:00, 34.68it/s]"
     ]
    },
    {
     "name": "stdout",
     "output_type": "stream",
     "text": [
      "avg is 0.91796875\n",
      "\n",
      "torch.Size([16, 256])\n",
      "avg is 0.899658203125\n",
      "\n",
      "torch.Size([16, 256])\n",
      "avg is 0.752197265625\n",
      "\n",
      "torch.Size([16, 256])\n",
      "avg is 0.931396484375\n",
      "\n",
      "torch.Size([16, 256])\n",
      "avg is 0.92041015625\n",
      "\n",
      "torch.Size([16, 256])\n",
      "avg is 0.9697265625\n",
      "\n",
      "train\n"
     ]
    },
    {
     "name": "stderr",
     "output_type": "stream",
     "text": [
      "\n"
     ]
    },
    {
     "name": "stdout",
     "output_type": "stream",
     "text": [
      "evaluation acc: 0.6053285741602397, loss: 0.0012344544329187391\n",
      "valid\n",
      "evaluation acc: 0.6557962196803764, loss: 0.0015001647403984422\n"
     ]
    },
    {
     "name": "stderr",
     "output_type": "stream",
     "text": [
      "  0%|          | 0/50 [00:00<?, ?it/s]"
     ]
    },
    {
     "name": "stdout",
     "output_type": "stream",
     "text": [
      "torch.Size([16, 256])\n"
     ]
    },
    {
     "name": "stderr",
     "output_type": "stream",
     "text": [
      "  8%|▊         | 4/50 [00:00<00:01, 34.31it/s]"
     ]
    },
    {
     "name": "stdout",
     "output_type": "stream",
     "text": [
      "avg is 0.975830078125\n",
      "\n",
      "torch.Size([16, 256])\n",
      "avg is 0.96630859375\n",
      "\n",
      "torch.Size([16, 256])\n",
      "avg is 0.96728515625\n",
      "\n",
      "torch.Size([16, 256])\n",
      "avg is 0.95263671875\n",
      "\n",
      "torch.Size([16, 256])\n",
      "avg is 0.8974609375\n",
      "\n",
      "torch.Size([16, 256])\n",
      "avg is 0.8935546875\n",
      "\n",
      "torch.Size([16, 256])\n",
      "avg is 0.938232421875\n",
      "\n",
      "torch.Size([16, 256])\n",
      "avg is 0.894287109375\n",
      "\n"
     ]
    },
    {
     "name": "stderr",
     "output_type": "stream",
     "text": [
      " 24%|██▍       | 12/50 [00:00<00:01, 35.24it/s]"
     ]
    },
    {
     "name": "stdout",
     "output_type": "stream",
     "text": [
      "torch.Size([16, 256])\n",
      "avg is 0.9443359375\n",
      "\n",
      "torch.Size([16, 256])\n",
      "avg is 0.9306640625\n",
      "\n",
      "torch.Size([16, 256])\n",
      "avg is 0.90771484375\n",
      "\n",
      "torch.Size([16, 256])\n",
      "avg is 0.89404296875\n",
      "\n",
      "torch.Size([16, 256])\n",
      "avg is 0.9189453125\n",
      "\n",
      "torch.Size([16, 256])\n",
      "avg is 0.941162109375\n",
      "\n",
      "torch.Size([16, 256])\n"
     ]
    },
    {
     "name": "stderr",
     "output_type": "stream",
     "text": [
      " 40%|████      | 20/50 [00:00<00:00, 31.91it/s]"
     ]
    },
    {
     "name": "stdout",
     "output_type": "stream",
     "text": [
      "avg is 0.890380859375\n",
      "\n",
      "torch.Size([16, 256])\n",
      "avg is 0.792236328125\n",
      "\n",
      "torch.Size([16, 256])\n",
      "avg is 0.8974609375\n",
      "\n",
      "torch.Size([16, 256])\n",
      "avg is 0.913330078125\n",
      "\n",
      "torch.Size([16, 256])\n",
      "avg is 0.949462890625\n",
      "\n",
      "torch.Size([16, 256])\n",
      "avg is 0.900634765625\n",
      "\n",
      "torch.Size([16, 256])\n",
      "avg is 0.71728515625\n",
      "\n"
     ]
    },
    {
     "name": "stderr",
     "output_type": "stream",
     "text": [
      " 56%|█████▌    | 28/50 [00:00<00:00, 34.47it/s]"
     ]
    },
    {
     "name": "stdout",
     "output_type": "stream",
     "text": [
      "torch.Size([16, 256])\n",
      "avg is 0.956787109375\n",
      "\n",
      "torch.Size([16, 256])\n",
      "avg is 0.900634765625\n",
      "\n",
      "torch.Size([16, 256])\n",
      "avg is 0.723876953125\n",
      "\n",
      "torch.Size([16, 256])\n",
      "avg is 0.964111328125\n",
      "\n",
      "torch.Size([16, 256])\n",
      "avg is 0.9287109375\n",
      "\n",
      "torch.Size([16, 256])\n",
      "avg is 0.94140625\n",
      "\n",
      "torch.Size([16, 256])\n",
      "avg is 0.9619140625\n",
      "\n",
      "torch.Size([16, 256])\n"
     ]
    },
    {
     "name": "stderr",
     "output_type": "stream",
     "text": [
      " 64%|██████▍   | 32/50 [00:00<00:00, 34.95it/s]"
     ]
    },
    {
     "name": "stdout",
     "output_type": "stream",
     "text": [
      "avg is 0.9501953125\n",
      "\n",
      "torch.Size([16, 256])\n",
      "avg is 0.957763671875\n",
      "\n",
      "torch.Size([16, 256])\n",
      "avg is 0.9443359375\n",
      "\n",
      "torch.Size([16, 256])\n",
      "avg is 0.85302734375\n",
      "\n",
      "torch.Size([16, 256])\n",
      "avg is 0.854736328125\n",
      "\n",
      "torch.Size([16, 256])\n",
      "avg is 0.943115234375\n",
      "\n",
      "torch.Size([16, 256])\n",
      "avg is 0.783203125\n",
      "\n",
      "torch.Size([16, 256])\n"
     ]
    },
    {
     "name": "stderr",
     "output_type": "stream",
     "text": [
      " 80%|████████  | 40/50 [00:01<00:00, 31.61it/s]"
     ]
    },
    {
     "name": "stdout",
     "output_type": "stream",
     "text": [
      "avg is 0.89013671875\n",
      "\n",
      "torch.Size([16, 256])\n",
      "avg is 0.906982421875\n",
      "\n",
      "torch.Size([16, 256])\n",
      "avg is 0.929931640625\n",
      "\n",
      "torch.Size([16, 256])\n",
      "avg is 0.9248046875\n",
      "\n",
      "torch.Size([16, 256])\n",
      "avg is 0.878662109375\n",
      "\n",
      "torch.Size([16, 256])\n",
      "avg is 0.93408203125\n",
      "\n",
      "torch.Size([16, 256])\n",
      "avg is 0.79443359375\n",
      "\n"
     ]
    },
    {
     "name": "stderr",
     "output_type": "stream",
     "text": [
      " 96%|█████████▌| 48/50 [00:01<00:00, 34.04it/s]"
     ]
    },
    {
     "name": "stdout",
     "output_type": "stream",
     "text": [
      "torch.Size([16, 256])\n",
      "avg is 0.94580078125\n",
      "\n",
      "torch.Size([16, 256])\n",
      "avg is 0.9638671875\n",
      "\n",
      "torch.Size([16, 256])\n",
      "avg is 0.898681640625\n",
      "\n",
      "torch.Size([16, 256])\n",
      "avg is 0.845703125\n",
      "\n",
      "torch.Size([16, 256])\n",
      "avg is 0.675537109375\n",
      "\n",
      "torch.Size([16, 256])\n",
      "avg is 0.84716796875\n",
      "\n",
      "torch.Size([16, 256])\n",
      "avg is 0.881103515625\n",
      "\n",
      "torch.Size([16, 256])\n"
     ]
    },
    {
     "name": "stderr",
     "output_type": "stream",
     "text": [
      "100%|██████████| 50/50 [00:01<00:00, 33.72it/s]\n"
     ]
    },
    {
     "name": "stdout",
     "output_type": "stream",
     "text": [
      "avg is 0.94384765625\n",
      "\n",
      "train\n",
      "evaluation acc: 0.6155905411434763, loss: 0.0012233823188278208\n",
      "valid\n",
      "evaluation acc: 0.6485762959357508, loss: 0.0015014596092724564\n"
     ]
    },
    {
     "name": "stderr",
     "output_type": "stream",
     "text": [
      "  8%|▊         | 4/50 [00:00<00:01, 36.70it/s]"
     ]
    },
    {
     "name": "stdout",
     "output_type": "stream",
     "text": [
      "torch.Size([16, 256])\n",
      "avg is 0.9375\n",
      "\n",
      "torch.Size([16, 256])\n",
      "avg is 0.92626953125\n",
      "\n",
      "torch.Size([16, 256])\n",
      "avg is 0.87158203125\n",
      "\n",
      "torch.Size([16, 256])\n",
      "avg is 0.943359375\n",
      "\n",
      "torch.Size([16, 256])\n",
      "avg is 0.9072265625\n",
      "\n",
      "torch.Size([16, 256])\n",
      "avg is 0.9287109375\n",
      "\n",
      "torch.Size([16, 256])\n",
      "avg is 0.9453125\n",
      "\n",
      "torch.Size([16, 256])\n"
     ]
    },
    {
     "name": "stderr",
     "output_type": "stream",
     "text": [
      " 24%|██▍       | 12/50 [00:00<00:01, 37.13it/s]"
     ]
    },
    {
     "name": "stdout",
     "output_type": "stream",
     "text": [
      "avg is 0.917236328125\n",
      "\n",
      "torch.Size([16, 256])\n",
      "avg is 0.952392578125\n",
      "\n",
      "torch.Size([16, 256])\n",
      "avg is 0.939453125\n",
      "\n",
      "torch.Size([16, 256])\n",
      "avg is 0.92333984375\n",
      "\n",
      "torch.Size([16, 256])\n",
      "avg is 0.919189453125\n",
      "\n",
      "torch.Size([16, 256])\n",
      "avg is 0.927001953125\n",
      "\n",
      "torch.Size([16, 256])\n",
      "avg is 0.94580078125\n",
      "\n",
      "torch.Size([16, 256])\n",
      "avg is 0.904052734375\n",
      "\n",
      "torch.Size([16, 256])\n"
     ]
    },
    {
     "name": "stderr",
     "output_type": "stream",
     "text": [
      " 40%|████      | 20/50 [00:00<00:00, 35.46it/s]"
     ]
    },
    {
     "name": "stdout",
     "output_type": "stream",
     "text": [
      "avg is 0.790283203125\n",
      "\n",
      "torch.Size([16, 256])\n",
      "avg is 0.899169921875\n",
      "\n",
      "torch.Size([16, 256])\n",
      "avg is 0.91162109375\n",
      "\n",
      "torch.Size([16, 256])\n",
      "avg is 0.941650390625\n",
      "\n",
      "torch.Size([16, 256])\n",
      "avg is 0.882568359375\n",
      "\n",
      "torch.Size([16, 256])\n",
      "avg is 0.698974609375\n",
      "\n",
      "torch.Size([16, 256])\n",
      "avg is 0.947021484375\n",
      "\n"
     ]
    },
    {
     "name": "stderr",
     "output_type": "stream",
     "text": [
      " 56%|█████▌    | 28/50 [00:00<00:00, 32.46it/s]"
     ]
    },
    {
     "name": "stdout",
     "output_type": "stream",
     "text": [
      "torch.Size([16, 256])\n",
      "avg is 0.84228515625\n",
      "\n",
      "torch.Size([16, 256])\n",
      "avg is 0.643310546875\n",
      "\n",
      "torch.Size([16, 256])\n",
      "avg is 0.95361328125\n",
      "\n",
      "torch.Size([16, 256])\n",
      "avg is 0.92041015625\n",
      "\n",
      "torch.Size([16, 256])\n",
      "avg is 0.927490234375\n",
      "\n",
      "torch.Size([16, 256])\n",
      "avg is 0.954833984375\n",
      "\n",
      "torch.Size([16, 256])\n"
     ]
    },
    {
     "name": "stderr",
     "output_type": "stream",
     "text": [
      " 72%|███████▏  | 36/50 [00:01<00:00, 34.36it/s]"
     ]
    },
    {
     "name": "stdout",
     "output_type": "stream",
     "text": [
      "avg is 0.93212890625\n",
      "\n",
      "torch.Size([16, 256])\n",
      "avg is 0.950439453125\n",
      "\n",
      "torch.Size([16, 256])\n",
      "avg is 0.9365234375\n",
      "\n",
      "torch.Size([16, 256])\n",
      "avg is 0.837890625\n",
      "\n",
      "torch.Size([16, 256])\n",
      "avg is 0.87255859375\n",
      "\n",
      "torch.Size([16, 256])\n",
      "avg is 0.94384765625\n",
      "\n",
      "torch.Size([16, 256])\n",
      "avg is 0.78515625\n",
      "\n",
      "torch.Size([16, 256])\n",
      "avg is 0.900634765625\n",
      "\n"
     ]
    },
    {
     "name": "stderr",
     "output_type": "stream",
     "text": [
      " 80%|████████  | 40/50 [00:01<00:00, 35.07it/s]"
     ]
    },
    {
     "name": "stdout",
     "output_type": "stream",
     "text": [
      "torch.Size([16, 256])\n",
      "avg is 0.91650390625\n",
      "\n",
      "torch.Size([16, 256])\n",
      "avg is 0.941162109375\n",
      "\n",
      "torch.Size([16, 256])\n",
      "avg is 0.9443359375\n",
      "\n",
      "torch.Size([16, 256])\n",
      "avg is 0.920654296875\n",
      "\n",
      "torch.Size([16, 256])\n",
      "avg is 0.93408203125\n",
      "\n",
      "torch.Size([16, 256])\n",
      "avg is 0.821044921875\n",
      "\n",
      "torch.Size([16, 256])\n",
      "avg is 0.9541015625\n",
      "\n",
      "torch.Size([16, 256])\n"
     ]
    },
    {
     "name": "stderr",
     "output_type": "stream",
     "text": [
      " 96%|█████████▌| 48/50 [00:01<00:00, 31.99it/s]"
     ]
    },
    {
     "name": "stdout",
     "output_type": "stream",
     "text": [
      "avg is 0.96630859375\n",
      "\n",
      "torch.Size([16, 256])\n",
      "avg is 0.905029296875\n",
      "\n",
      "torch.Size([16, 256])\n",
      "avg is 0.85009765625\n",
      "\n",
      "torch.Size([16, 256])\n",
      "avg is 0.671875\n",
      "\n",
      "torch.Size([16, 256])\n",
      "avg is 0.82470703125\n",
      "\n",
      "torch.Size([16, 256])\n",
      "avg is 0.876708984375\n",
      "\n",
      "torch.Size([16, 256])\n"
     ]
    },
    {
     "name": "stderr",
     "output_type": "stream",
     "text": [
      "100%|██████████| 50/50 [00:01<00:00, 33.59it/s]\n"
     ]
    },
    {
     "name": "stdout",
     "output_type": "stream",
     "text": [
      "avg is 0.9443359375\n",
      "\n",
      "train\n",
      "evaluation acc: 0.6178851424564982, loss: 0.001220835051493333\n",
      "valid\n",
      "evaluation acc: 0.6500365052324166, loss: 0.0015017610744341347\n"
     ]
    },
    {
     "name": "stderr",
     "output_type": "stream",
     "text": [
      "  8%|▊         | 4/50 [00:00<00:01, 31.01it/s]"
     ]
    },
    {
     "name": "stdout",
     "output_type": "stream",
     "text": [
      "torch.Size([16, 256])\n",
      "avg is 0.93408203125\n",
      "\n",
      "torch.Size([16, 256])\n",
      "avg is 0.9033203125\n",
      "\n",
      "torch.Size([16, 256])\n",
      "avg is 0.7392578125\n",
      "\n",
      "torch.Size([16, 256])\n",
      "avg is 0.929931640625\n",
      "\n",
      "torch.Size([16, 256])\n",
      "avg is 0.8515625\n",
      "\n",
      "torch.Size([16, 256])\n",
      "avg is 0.868408203125\n",
      "\n"
     ]
    },
    {
     "name": "stderr",
     "output_type": "stream",
     "text": [
      " 22%|██▏       | 11/50 [00:00<00:01, 28.20it/s]"
     ]
    },
    {
     "name": "stdout",
     "output_type": "stream",
     "text": [
      "torch.Size([16, 256])\n",
      "avg is 0.9326171875\n",
      "\n",
      "torch.Size([16, 256])\n",
      "avg is 0.841064453125\n",
      "\n",
      "torch.Size([16, 256])\n",
      "avg is 0.947265625\n",
      "\n",
      "torch.Size([16, 256])\n",
      "avg is 0.935546875\n",
      "\n",
      "torch.Size([16, 256])\n",
      "avg is 0.911376953125\n",
      "\n",
      "torch.Size([16, 256])\n",
      "avg is 0.879638671875\n",
      "\n"
     ]
    },
    {
     "name": "stderr",
     "output_type": "stream",
     "text": [
      " 38%|███▊      | 19/50 [00:00<00:00, 32.47it/s]"
     ]
    },
    {
     "name": "stdout",
     "output_type": "stream",
     "text": [
      "torch.Size([16, 256])\n",
      "avg is 0.9208984375\n",
      "\n",
      "torch.Size([16, 256])\n",
      "avg is 0.94384765625\n",
      "\n",
      "torch.Size([16, 256])\n",
      "avg is 0.82763671875\n",
      "\n",
      "torch.Size([16, 256])\n",
      "avg is 0.76220703125\n",
      "\n",
      "torch.Size([16, 256])\n",
      "avg is 0.884765625\n",
      "\n",
      "torch.Size([16, 256])\n",
      "avg is 0.902587890625\n",
      "\n",
      "torch.Size([16, 256])\n",
      "avg is 0.93505859375\n",
      "\n",
      "torch.Size([16, 256])\n"
     ]
    },
    {
     "name": "stderr",
     "output_type": "stream",
     "text": [
      " 54%|█████▍    | 27/50 [00:00<00:00, 34.51it/s]"
     ]
    },
    {
     "name": "stdout",
     "output_type": "stream",
     "text": [
      "avg is 0.871826171875\n",
      "\n",
      "torch.Size([16, 256])\n",
      "avg is 0.6826171875\n",
      "\n",
      "torch.Size([16, 256])\n",
      "avg is 0.945068359375\n",
      "\n",
      "torch.Size([16, 256])\n",
      "avg is 0.774658203125\n",
      "\n",
      "torch.Size([16, 256])\n",
      "avg is 0.544677734375\n",
      "\n",
      "torch.Size([16, 256])\n",
      "avg is 0.942138671875\n",
      "\n",
      "torch.Size([16, 256])\n",
      "avg is 0.913818359375\n",
      "\n",
      "torch.Size([16, 256])\n",
      "avg is 0.919677734375\n",
      "\n"
     ]
    },
    {
     "name": "stderr",
     "output_type": "stream",
     "text": [
      " 62%|██████▏   | 31/50 [00:00<00:00, 35.08it/s]"
     ]
    },
    {
     "name": "stdout",
     "output_type": "stream",
     "text": [
      "torch.Size([16, 256])\n",
      "avg is 0.953125\n",
      "\n",
      "torch.Size([16, 256])\n",
      "avg is 0.884765625\n",
      "\n",
      "torch.Size([16, 256])\n",
      "avg is 0.947265625\n",
      "\n",
      "torch.Size([16, 256])\n",
      "avg is 0.919677734375\n",
      "\n",
      "torch.Size([16, 256])\n",
      "avg is 0.819580078125\n",
      "\n",
      "torch.Size([16, 256])\n",
      "avg is 0.877197265625\n",
      "\n",
      "torch.Size([16, 256])\n",
      "avg is 0.938232421875\n",
      "\n",
      "torch.Size([16, 256])\n"
     ]
    },
    {
     "name": "stderr",
     "output_type": "stream",
     "text": [
      " 78%|███████▊  | 39/50 [00:01<00:00, 35.78it/s]"
     ]
    },
    {
     "name": "stdout",
     "output_type": "stream",
     "text": [
      "avg is 0.752197265625\n",
      "\n",
      "torch.Size([16, 256])\n",
      "avg is 0.88427734375\n",
      "\n",
      "torch.Size([16, 256])\n",
      "avg is 0.907958984375\n",
      "\n",
      "torch.Size([16, 256])\n",
      "avg is 0.933349609375\n",
      "\n",
      "torch.Size([16, 256])\n",
      "avg is 0.940673828125\n",
      "\n",
      "torch.Size([16, 256])\n",
      "avg is 0.922119140625\n",
      "\n",
      "torch.Size([16, 256])\n",
      "avg is 0.933837890625\n",
      "\n",
      "torch.Size([16, 256])\n",
      "avg is 0.801513671875\n",
      "\n",
      "torch.Size([16, 256])\n"
     ]
    },
    {
     "name": "stderr",
     "output_type": "stream",
     "text": [
      "100%|██████████| 50/50 [00:01<00:00, 34.46it/s]"
     ]
    },
    {
     "name": "stdout",
     "output_type": "stream",
     "text": [
      "avg is 0.95703125\n",
      "\n",
      "torch.Size([16, 256])\n",
      "avg is 0.966064453125\n",
      "\n",
      "torch.Size([16, 256])\n",
      "avg is 0.911376953125\n",
      "\n",
      "torch.Size([16, 256])\n",
      "avg is 0.877685546875\n",
      "\n",
      "torch.Size([16, 256])\n",
      "avg is 0.688232421875\n",
      "\n",
      "torch.Size([16, 256])\n",
      "avg is 0.84326171875\n",
      "\n",
      "torch.Size([16, 256])\n",
      "avg is 0.880859375\n",
      "\n",
      "torch.Size([16, 256])\n",
      "avg is 0.947021484375\n",
      "\n",
      "train\n"
     ]
    },
    {
     "name": "stderr",
     "output_type": "stream",
     "text": [
      "\n"
     ]
    },
    {
     "name": "stdout",
     "output_type": "stream",
     "text": [
      "evaluation acc: 0.6180763592325833, loss: 0.0012196644954871698\n",
      "valid\n",
      "evaluation acc: 0.6519834509613045, loss: 0.0015008617222782776\n"
     ]
    },
    {
     "name": "stderr",
     "output_type": "stream",
     "text": [
      "  0%|          | 0/50 [00:00<?, ?it/s]"
     ]
    },
    {
     "name": "stdout",
     "output_type": "stream",
     "text": [
      "torch.Size([16, 256])\n",
      "avg is 0.94091796875\n",
      "\n",
      "torch.Size([16, 256])\n",
      "avg is 0.923583984375\n",
      "\n",
      "torch.Size([16, 256])\n"
     ]
    },
    {
     "name": "stderr",
     "output_type": "stream",
     "text": [
      "  8%|▊         | 4/50 [00:00<00:01, 36.36it/s]"
     ]
    },
    {
     "name": "stdout",
     "output_type": "stream",
     "text": [
      "avg is 0.79931640625\n",
      "\n",
      "torch.Size([16, 256])\n",
      "avg is 0.93603515625\n",
      "\n",
      "torch.Size([16, 256])\n",
      "avg is 0.8984375\n",
      "\n",
      "torch.Size([16, 256])\n",
      "avg is 0.929443359375\n",
      "\n",
      "torch.Size([16, 256])\n",
      "avg is 0.940673828125\n",
      "\n"
     ]
    },
    {
     "name": "stderr",
     "output_type": "stream",
     "text": [
      " 16%|█▌        | 8/50 [00:00<00:01, 31.90it/s]"
     ]
    },
    {
     "name": "stdout",
     "output_type": "stream",
     "text": [
      "torch.Size([16, 256])\n",
      "avg is 0.899169921875\n",
      "\n",
      "torch.Size([16, 256])\n"
     ]
    },
    {
     "name": "stderr",
     "output_type": "stream",
     "text": [
      " 24%|██▍       | 12/50 [00:00<00:01, 30.19it/s]"
     ]
    },
    {
     "name": "stdout",
     "output_type": "stream",
     "text": [
      "avg is 0.95361328125\n",
      "\n",
      "torch.Size([16, 256])\n",
      "avg is 0.942138671875\n",
      "\n",
      "torch.Size([16, 256])\n",
      "avg is 0.930908203125\n",
      "\n",
      "torch.Size([16, 256])\n",
      "avg is 0.922607421875\n",
      "\n",
      "torch.Size([16, 256])\n",
      "avg is 0.9345703125\n",
      "\n",
      "torch.Size([16, 256])\n",
      "avg is 0.94775390625\n",
      "\n",
      "torch.Size([16, 256])\n"
     ]
    },
    {
     "name": "stderr",
     "output_type": "stream",
     "text": [
      " 32%|███▏      | 16/50 [00:00<00:01, 29.58it/s]"
     ]
    },
    {
     "name": "stdout",
     "output_type": "stream",
     "text": [
      "avg is 0.9072265625\n",
      "\n",
      "torch.Size([16, 256])\n",
      "avg is 0.788330078125\n",
      "\n",
      "torch.Size([16, 256])\n",
      "avg is 0.89892578125\n",
      "\n",
      "torch.Size([16, 256])\n",
      "avg is 0.91259765625\n",
      "\n",
      "torch.Size([16, 256])\n",
      "avg is 0.94677734375\n",
      "\n",
      "torch.Size([16, 256])\n"
     ]
    },
    {
     "name": "stderr",
     "output_type": "stream",
     "text": [
      " 40%|████      | 20/50 [00:00<00:00, 31.17it/s]"
     ]
    },
    {
     "name": "stdout",
     "output_type": "stream",
     "text": [
      "avg is 0.88330078125\n",
      "\n",
      "torch.Size([16, 256])\n",
      "avg is 0.691162109375\n",
      "\n",
      "torch.Size([16, 256])\n"
     ]
    },
    {
     "name": "stderr",
     "output_type": "stream",
     "text": [
      " 48%|████▊     | 24/50 [00:00<00:00, 32.53it/s]"
     ]
    },
    {
     "name": "stdout",
     "output_type": "stream",
     "text": [
      "avg is 0.9453125\n",
      "\n",
      "torch.Size([16, 256])\n",
      "avg is 0.759521484375\n",
      "\n",
      "torch.Size([16, 256])\n",
      "avg is 0.528564453125\n",
      "\n",
      "torch.Size([16, 256])\n",
      "avg is 0.93212890625\n",
      "\n",
      "torch.Size([16, 256])\n",
      "avg is 0.907470703125\n",
      "\n",
      "torch.Size([16, 256])\n",
      "avg is 0.913818359375\n",
      "\n"
     ]
    },
    {
     "name": "stderr",
     "output_type": "stream",
     "text": [
      " 56%|█████▌    | 28/50 [00:00<00:00, 33.50it/s]"
     ]
    },
    {
     "name": "stdout",
     "output_type": "stream",
     "text": [
      "torch.Size([16, 256])\n",
      "avg is 0.95166015625\n",
      "\n",
      "torch.Size([16, 256])\n",
      "avg is 0.82666015625\n",
      "\n"
     ]
    },
    {
     "name": "stderr",
     "output_type": "stream",
     "text": [
      " 64%|██████▍   | 32/50 [00:00<00:00, 34.29it/s]"
     ]
    },
    {
     "name": "stdout",
     "output_type": "stream",
     "text": [
      "torch.Size([16, 256])\n",
      "avg is 0.943359375\n",
      "\n",
      "torch.Size([16, 256])\n",
      "avg is 0.875244140625\n",
      "\n",
      "torch.Size([16, 256])\n",
      "avg is 0.798095703125\n",
      "\n",
      "torch.Size([16, 256])\n",
      "avg is 0.83642578125\n",
      "\n",
      "torch.Size([16, 256])\n",
      "avg is 0.919921875\n",
      "\n",
      "torch.Size([16, 256])\n"
     ]
    },
    {
     "name": "stderr",
     "output_type": "stream",
     "text": [
      " 72%|███████▏  | 36/50 [00:01<00:00, 35.01it/s]"
     ]
    },
    {
     "name": "stdout",
     "output_type": "stream",
     "text": [
      "avg is 0.726806640625\n",
      "\n",
      "torch.Size([16, 256])\n",
      "avg is 0.864990234375\n",
      "\n",
      "torch.Size([16, 256])\n"
     ]
    },
    {
     "name": "stderr",
     "output_type": "stream",
     "text": [
      " 80%|████████  | 40/50 [00:01<00:00, 35.17it/s]"
     ]
    },
    {
     "name": "stdout",
     "output_type": "stream",
     "text": [
      "avg is 0.901123046875\n",
      "\n",
      "torch.Size([16, 256])\n",
      "avg is 0.904296875\n",
      "\n",
      "torch.Size([16, 256])\n",
      "avg is 0.91748046875\n",
      "\n",
      "torch.Size([16, 256])\n",
      "avg is 0.86865234375\n",
      "\n",
      "torch.Size([16, 256])\n",
      "avg is 0.915283203125\n",
      "\n",
      "torch.Size([16, 256])\n",
      "avg is 0.779296875\n",
      "\n",
      "torch.Size([16, 256])\n",
      "avg is 0.93701171875\n",
      "\n",
      "torch.Size([16, 256])\n",
      "avg is 0.962646484375\n",
      "\n"
     ]
    },
    {
     "name": "stderr",
     "output_type": "stream",
     "text": [
      " 96%|█████████▌| 48/50 [00:01<00:00, 35.41it/s]"
     ]
    },
    {
     "name": "stdout",
     "output_type": "stream",
     "text": [
      "torch.Size([16, 256])\n",
      "avg is 0.90283203125\n",
      "\n",
      "torch.Size([16, 256])\n",
      "avg is 0.855712890625\n",
      "\n",
      "torch.Size([16, 256])\n",
      "avg is 0.6806640625\n",
      "\n",
      "torch.Size([16, 256])\n",
      "avg is 0.829345703125\n",
      "\n",
      "torch.Size([16, 256])\n",
      "avg is 0.879150390625\n",
      "\n",
      "torch.Size([16, 256])\n"
     ]
    },
    {
     "name": "stderr",
     "output_type": "stream",
     "text": [
      "100%|██████████| 50/50 [00:01<00:00, 33.61it/s]\n"
     ]
    },
    {
     "name": "stdout",
     "output_type": "stream",
     "text": [
      "avg is 0.9462890625\n",
      "\n",
      "train\n",
      "evaluation acc: 0.6210083497992224, loss: 0.0012180301410702025\n",
      "valid\n",
      "evaluation acc: 0.6532002920418594, loss: 0.0015000772111158826\n"
     ]
    },
    {
     "name": "stderr",
     "output_type": "stream",
     "text": [
      "  0%|          | 0/50 [00:00<?, ?it/s]"
     ]
    },
    {
     "name": "stdout",
     "output_type": "stream",
     "text": [
      "torch.Size([16, 256])\n",
      "avg is 0.939208984375\n",
      "\n",
      "torch.Size([16, 256])\n"
     ]
    },
    {
     "name": "stderr",
     "output_type": "stream",
     "text": [
      "  8%|▊         | 4/50 [00:00<00:01, 36.62it/s]"
     ]
    },
    {
     "name": "stdout",
     "output_type": "stream",
     "text": [
      "avg is 0.922607421875\n",
      "\n",
      "torch.Size([16, 256])\n",
      "avg is 0.803466796875\n",
      "\n",
      "torch.Size([16, 256])\n",
      "avg is 0.9375\n",
      "\n",
      "torch.Size([16, 256])\n",
      "avg is 0.90771484375\n",
      "\n",
      "torch.Size([16, 256])\n",
      "avg is 0.940673828125\n",
      "\n",
      "torch.Size([16, 256])\n",
      "avg is 0.9423828125\n",
      "\n",
      "torch.Size([16, 256])\n"
     ]
    },
    {
     "name": "stderr",
     "output_type": "stream",
     "text": [
      " 16%|█▌        | 8/50 [00:00<00:01, 36.44it/s]"
     ]
    },
    {
     "name": "stdout",
     "output_type": "stream",
     "text": [
      "avg is 0.917724609375\n",
      "\n",
      "torch.Size([16, 256])\n",
      "avg is 0.957763671875\n",
      "\n"
     ]
    },
    {
     "name": "stderr",
     "output_type": "stream",
     "text": [
      " 24%|██▍       | 12/50 [00:00<00:01, 35.85it/s]"
     ]
    },
    {
     "name": "stdout",
     "output_type": "stream",
     "text": [
      "torch.Size([16, 256])\n",
      "avg is 0.94580078125\n",
      "\n",
      "torch.Size([16, 256])\n",
      "avg is 0.937255859375\n",
      "\n",
      "torch.Size([16, 256])\n",
      "avg is 0.934326171875\n",
      "\n",
      "torch.Size([16, 256])\n",
      "avg is 0.937255859375\n",
      "\n",
      "torch.Size([16, 256])\n",
      "avg is 0.949462890625\n",
      "\n",
      "torch.Size([16, 256])\n",
      "avg is 0.9423828125\n",
      "\n"
     ]
    },
    {
     "name": "stderr",
     "output_type": "stream",
     "text": [
      " 32%|███▏      | 16/50 [00:00<00:00, 36.02it/s]"
     ]
    },
    {
     "name": "stdout",
     "output_type": "stream",
     "text": [
      "torch.Size([16, 256])\n",
      "avg is 0.806640625\n",
      "\n",
      "torch.Size([16, 256])\n"
     ]
    },
    {
     "name": "stderr",
     "output_type": "stream",
     "text": [
      " 40%|████      | 20/50 [00:00<00:00, 35.64it/s]"
     ]
    },
    {
     "name": "stdout",
     "output_type": "stream",
     "text": [
      "avg is 0.910888671875\n",
      "\n",
      "torch.Size([16, 256])\n",
      "avg is 0.922119140625\n",
      "\n",
      "torch.Size([16, 256])\n",
      "avg is 0.951171875\n",
      "\n",
      "torch.Size([16, 256])\n",
      "avg is 0.90380859375\n",
      "\n",
      "torch.Size([16, 256])\n",
      "avg is 0.726806640625\n",
      "\n",
      "torch.Size([16, 256])\n",
      "avg is 0.948974609375\n",
      "\n",
      "torch.Size([16, 256])\n",
      "avg is 0.794677734375\n",
      "\n",
      "torch.Size([16, 256])\n"
     ]
    },
    {
     "name": "stderr",
     "output_type": "stream",
     "text": [
      " 48%|████▊     | 24/50 [00:00<00:00, 34.03it/s]"
     ]
    },
    {
     "name": "stdout",
     "output_type": "stream",
     "text": [
      "avg is 0.5849609375\n",
      "\n",
      "torch.Size([16, 256])\n",
      "avg is 0.94384765625\n",
      "\n",
      "torch.Size([16, 256])\n",
      "avg is 0.9130859375\n",
      "\n",
      "torch.Size([16, 256])\n",
      "avg is 0.91748046875\n",
      "\n",
      "torch.Size([16, 256])\n"
     ]
    },
    {
     "name": "stderr",
     "output_type": "stream",
     "text": [
      " 56%|█████▌    | 28/50 [00:00<00:00, 31.08it/s]"
     ]
    },
    {
     "name": "stdout",
     "output_type": "stream",
     "text": [
      "avg is 0.953125\n",
      "\n",
      "torch.Size([16, 256])\n",
      "avg is 0.868408203125\n",
      "\n"
     ]
    },
    {
     "name": "stderr",
     "output_type": "stream",
     "text": [
      " 64%|██████▍   | 32/50 [00:00<00:00, 31.13it/s]"
     ]
    },
    {
     "name": "stdout",
     "output_type": "stream",
     "text": [
      "torch.Size([16, 256])\n",
      "avg is 0.9453125\n",
      "\n",
      "torch.Size([16, 256])\n",
      "avg is 0.911865234375\n",
      "\n",
      "torch.Size([16, 256])\n",
      "avg is 0.81201171875\n",
      "\n",
      "torch.Size([16, 256])\n",
      "avg is 0.857177734375\n",
      "\n",
      "torch.Size([16, 256])\n",
      "avg is 0.9345703125\n",
      "\n",
      "torch.Size([16, 256])\n"
     ]
    },
    {
     "name": "stderr",
     "output_type": "stream",
     "text": [
      " 72%|███████▏  | 36/50 [00:01<00:00, 32.32it/s]"
     ]
    },
    {
     "name": "stdout",
     "output_type": "stream",
     "text": [
      "avg is 0.749267578125\n",
      "\n",
      "torch.Size([16, 256])\n",
      "avg is 0.88232421875\n",
      "\n"
     ]
    },
    {
     "name": "stderr",
     "output_type": "stream",
     "text": [
      " 80%|████████  | 40/50 [00:01<00:00, 33.45it/s]"
     ]
    },
    {
     "name": "stdout",
     "output_type": "stream",
     "text": [
      "torch.Size([16, 256])\n",
      "avg is 0.907470703125\n",
      "\n",
      "torch.Size([16, 256])\n",
      "avg is 0.92724609375\n",
      "\n",
      "torch.Size([16, 256])\n",
      "avg is 0.93798828125\n",
      "\n",
      "torch.Size([16, 256])\n",
      "avg is 0.912109375\n",
      "\n",
      "torch.Size([16, 256])\n",
      "avg is 0.9326171875\n",
      "\n",
      "torch.Size([16, 256])\n",
      "avg is 0.826416015625\n",
      "\n",
      "torch.Size([16, 256])\n",
      "avg is 0.94921875\n",
      "\n",
      "torch.Size([16, 256])\n"
     ]
    },
    {
     "name": "stderr",
     "output_type": "stream",
     "text": [
      " 96%|█████████▌| 48/50 [00:01<00:00, 34.88it/s]"
     ]
    },
    {
     "name": "stdout",
     "output_type": "stream",
     "text": [
      "avg is 0.967529296875\n",
      "\n",
      "torch.Size([16, 256])\n",
      "avg is 0.909912109375\n",
      "\n",
      "torch.Size([16, 256])\n",
      "avg is 0.87158203125\n",
      "\n",
      "torch.Size([16, 256])\n",
      "avg is 0.68115234375\n",
      "\n",
      "torch.Size([16, 256])\n",
      "avg is 0.813232421875\n",
      "\n",
      "torch.Size([16, 256])\n",
      "avg is 0.87353515625\n",
      "\n",
      "torch.Size([16, 256])\n"
     ]
    },
    {
     "name": "stderr",
     "output_type": "stream",
     "text": [
      "100%|██████████| 50/50 [00:01<00:00, 34.13it/s]"
     ]
    },
    {
     "name": "stdout",
     "output_type": "stream",
     "text": [
      "avg is 0.94189453125\n",
      "\n",
      "train\n"
     ]
    },
    {
     "name": "stderr",
     "output_type": "stream",
     "text": [
      "\n"
     ]
    },
    {
     "name": "stdout",
     "output_type": "stream",
     "text": [
      "evaluation acc: 0.6194786155905412, loss: 0.0012173454131361948\n",
      "valid\n",
      "evaluation acc: 0.653038046564452, loss: 0.0015010368261335236\n"
     ]
    },
    {
     "name": "stderr",
     "output_type": "stream",
     "text": [
      "  0%|          | 0/50 [00:00<?, ?it/s]"
     ]
    },
    {
     "name": "stdout",
     "output_type": "stream",
     "text": [
      "torch.Size([16, 256])\n",
      "avg is 0.929931640625\n",
      "\n"
     ]
    },
    {
     "name": "stderr",
     "output_type": "stream",
     "text": [
      "  8%|▊         | 4/50 [00:00<00:01, 36.68it/s]"
     ]
    },
    {
     "name": "stdout",
     "output_type": "stream",
     "text": [
      "torch.Size([16, 256])\n",
      "avg is 0.89306640625\n",
      "\n",
      "torch.Size([16, 256])\n",
      "avg is 0.681884765625\n",
      "\n",
      "torch.Size([16, 256])\n",
      "avg is 0.926513671875\n",
      "\n",
      "torch.Size([16, 256])\n",
      "avg is 0.8515625\n",
      "\n",
      "torch.Size([16, 256])\n",
      "avg is 0.883544921875\n",
      "\n",
      "torch.Size([16, 256])\n",
      "avg is 0.933349609375\n",
      "\n",
      "torch.Size([16, 256])\n"
     ]
    },
    {
     "name": "stderr",
     "output_type": "stream",
     "text": [
      " 16%|█▌        | 8/50 [00:00<00:01, 36.47it/s]"
     ]
    },
    {
     "name": "stdout",
     "output_type": "stream",
     "text": [
      "avg is 0.843505859375\n",
      "\n",
      "torch.Size([16, 256])\n"
     ]
    },
    {
     "name": "stderr",
     "output_type": "stream",
     "text": [
      " 24%|██▍       | 12/50 [00:00<00:01, 36.10it/s]"
     ]
    },
    {
     "name": "stdout",
     "output_type": "stream",
     "text": [
      "avg is 0.947509765625\n",
      "\n",
      "torch.Size([16, 256])\n",
      "avg is 0.93798828125\n",
      "\n",
      "torch.Size([16, 256])\n",
      "avg is 0.91943359375\n",
      "\n",
      "torch.Size([16, 256])\n",
      "avg is 0.886962890625\n",
      "\n",
      "torch.Size([16, 256])\n",
      "avg is 0.929443359375\n",
      "\n",
      "torch.Size([16, 256])\n",
      "avg is 0.9453125\n",
      "\n",
      "torch.Size([16, 256])\n",
      "avg is 0.869140625\n",
      "\n"
     ]
    },
    {
     "name": "stderr",
     "output_type": "stream",
     "text": [
      " 32%|███▏      | 16/50 [00:00<00:00, 36.12it/s]"
     ]
    },
    {
     "name": "stdout",
     "output_type": "stream",
     "text": [
      "torch.Size([16, 256])\n",
      "avg is 0.790283203125\n",
      "\n"
     ]
    },
    {
     "name": "stderr",
     "output_type": "stream",
     "text": [
      " 40%|████      | 20/50 [00:00<00:00, 36.27it/s]"
     ]
    },
    {
     "name": "stdout",
     "output_type": "stream",
     "text": [
      "torch.Size([16, 256])\n",
      "avg is 0.901123046875\n",
      "\n",
      "torch.Size([16, 256])\n",
      "avg is 0.916259765625\n",
      "\n",
      "torch.Size([16, 256])\n",
      "avg is 0.947998046875\n",
      "\n",
      "torch.Size([16, 256])\n",
      "avg is 0.895751953125\n",
      "\n",
      "torch.Size([16, 256])\n",
      "avg is 0.71337890625\n",
      "\n",
      "torch.Size([16, 256])\n",
      "avg is 0.94921875\n",
      "\n",
      "torch.Size([16, 256])\n",
      "avg is 0.76708984375\n",
      "\n",
      "torch.Size([16, 256])\n"
     ]
    },
    {
     "name": "stderr",
     "output_type": "stream",
     "text": [
      " 56%|█████▌    | 28/50 [00:00<00:00, 36.19it/s]"
     ]
    },
    {
     "name": "stdout",
     "output_type": "stream",
     "text": [
      "avg is 0.590576171875\n",
      "\n",
      "torch.Size([16, 256])\n",
      "avg is 0.94580078125\n",
      "\n",
      "torch.Size([16, 256])\n",
      "avg is 0.92236328125\n",
      "\n",
      "torch.Size([16, 256])\n",
      "avg is 0.921875\n",
      "\n",
      "torch.Size([16, 256])\n",
      "avg is 0.95556640625\n",
      "\n",
      "torch.Size([16, 256])\n",
      "avg is 0.8935546875\n",
      "\n",
      "torch.Size([16, 256])\n",
      "avg is 0.947021484375\n",
      "\n",
      "torch.Size([16, 256])\n",
      "avg is 0.9189453125\n",
      "\n"
     ]
    },
    {
     "name": "stderr",
     "output_type": "stream",
     "text": [
      " 72%|███████▏  | 36/50 [00:01<00:00, 33.10it/s]"
     ]
    },
    {
     "name": "stdout",
     "output_type": "stream",
     "text": [
      "torch.Size([16, 256])\n",
      "avg is 0.817138671875\n",
      "\n",
      "torch.Size([16, 256])\n",
      "avg is 0.890380859375\n",
      "\n",
      "torch.Size([16, 256])\n",
      "avg is 0.937255859375\n",
      "\n",
      "torch.Size([16, 256])\n",
      "avg is 0.75390625\n",
      "\n",
      "torch.Size([16, 256])\n",
      "avg is 0.892333984375\n",
      "\n",
      "torch.Size([16, 256])\n",
      "avg is 0.9111328125\n",
      "\n"
     ]
    },
    {
     "name": "stderr",
     "output_type": "stream",
     "text": [
      " 80%|████████  | 40/50 [00:01<00:00, 32.03it/s]"
     ]
    },
    {
     "name": "stdout",
     "output_type": "stream",
     "text": [
      "torch.Size([16, 256])\n",
      "avg is 0.936767578125\n",
      "\n",
      "torch.Size([16, 256])\n",
      "avg is 0.94140625\n",
      "\n",
      "torch.Size([16, 256])\n",
      "avg is 0.9296875\n",
      "\n",
      "torch.Size([16, 256])\n",
      "avg is 0.930419921875\n",
      "\n",
      "torch.Size([16, 256])\n",
      "avg is 0.79150390625\n",
      "\n",
      "torch.Size([16, 256])\n",
      "avg is 0.946044921875\n",
      "\n",
      "torch.Size([16, 256])\n"
     ]
    },
    {
     "name": "stderr",
     "output_type": "stream",
     "text": [
      " 96%|█████████▌| 48/50 [00:01<00:00, 30.53it/s]"
     ]
    },
    {
     "name": "stdout",
     "output_type": "stream",
     "text": [
      "avg is 0.962158203125\n",
      "\n",
      "torch.Size([16, 256])\n",
      "avg is 0.904296875\n",
      "\n",
      "torch.Size([16, 256])\n",
      "avg is 0.847900390625\n",
      "\n",
      "torch.Size([16, 256])\n",
      "avg is 0.658935546875\n",
      "\n",
      "torch.Size([16, 256])\n",
      "avg is 0.79541015625\n",
      "\n",
      "torch.Size([16, 256])\n",
      "avg is 0.875732421875\n",
      "\n",
      "torch.Size([16, 256])\n"
     ]
    },
    {
     "name": "stderr",
     "output_type": "stream",
     "text": [
      "100%|██████████| 50/50 [00:01<00:00, 33.22it/s]\n"
     ]
    },
    {
     "name": "stdout",
     "output_type": "stream",
     "text": [
      "avg is 0.946044921875\n",
      "\n",
      "train\n",
      "evaluation acc: 0.622219389381095, loss: 0.0012155077038412824\n",
      "valid\n",
      "evaluation acc: 0.6536059057353776, loss: 0.0015007080610561071\n"
     ]
    },
    {
     "name": "stderr",
     "output_type": "stream",
     "text": [
      "  0%|          | 0/50 [00:00<?, ?it/s]"
     ]
    },
    {
     "name": "stdout",
     "output_type": "stream",
     "text": [
      "torch.Size([16, 256])\n",
      "avg is 0.931884765625\n",
      "\n",
      "torch.Size([16, 256])\n"
     ]
    },
    {
     "name": "stderr",
     "output_type": "stream",
     "text": [
      "  8%|▊         | 4/50 [00:00<00:01, 36.32it/s]"
     ]
    },
    {
     "name": "stdout",
     "output_type": "stream",
     "text": [
      "avg is 0.8994140625\n",
      "\n",
      "torch.Size([16, 256])\n",
      "avg is 0.670166015625\n",
      "\n",
      "torch.Size([16, 256])\n",
      "avg is 0.927001953125\n",
      "\n",
      "torch.Size([16, 256])\n",
      "avg is 0.869873046875\n",
      "\n",
      "torch.Size([16, 256])\n",
      "avg is 0.902099609375\n",
      "\n",
      "torch.Size([16, 256])\n",
      "avg is 0.9345703125\n",
      "\n",
      "torch.Size([16, 256])\n"
     ]
    },
    {
     "name": "stderr",
     "output_type": "stream",
     "text": [
      " 16%|█▌        | 8/50 [00:00<00:01, 36.15it/s]"
     ]
    },
    {
     "name": "stdout",
     "output_type": "stream",
     "text": [
      "avg is 0.869384765625\n",
      "\n",
      "torch.Size([16, 256])\n",
      "avg is 0.950927734375\n",
      "\n"
     ]
    },
    {
     "name": "stderr",
     "output_type": "stream",
     "text": [
      " 24%|██▍       | 12/50 [00:00<00:01, 35.82it/s]"
     ]
    },
    {
     "name": "stdout",
     "output_type": "stream",
     "text": [
      "torch.Size([16, 256])\n",
      "avg is 0.940185546875\n",
      "\n",
      "torch.Size([16, 256])\n",
      "avg is 0.9267578125\n",
      "\n",
      "torch.Size([16, 256])\n",
      "avg is 0.912353515625\n",
      "\n",
      "torch.Size([16, 256])\n",
      "avg is 0.932373046875\n",
      "\n",
      "torch.Size([16, 256])\n",
      "avg is 0.9462890625\n",
      "\n",
      "torch.Size([16, 256])\n",
      "avg is 0.869140625\n",
      "\n"
     ]
    },
    {
     "name": "stderr",
     "output_type": "stream",
     "text": [
      " 32%|███▏      | 16/50 [00:00<00:00, 35.85it/s]"
     ]
    },
    {
     "name": "stdout",
     "output_type": "stream",
     "text": [
      "torch.Size([16, 256])\n",
      "avg is 0.783447265625\n",
      "\n",
      "torch.Size([16, 256])\n"
     ]
    },
    {
     "name": "stderr",
     "output_type": "stream",
     "text": [
      " 40%|████      | 20/50 [00:00<00:00, 35.62it/s]"
     ]
    },
    {
     "name": "stdout",
     "output_type": "stream",
     "text": [
      "avg is 0.88623046875\n",
      "\n",
      "torch.Size([16, 256])\n",
      "avg is 0.91015625\n",
      "\n",
      "torch.Size([16, 256])\n",
      "avg is 0.939697265625\n",
      "\n",
      "torch.Size([16, 256])\n",
      "avg is 0.8798828125\n",
      "\n",
      "torch.Size([16, 256])\n",
      "avg is 0.69189453125\n",
      "\n",
      "torch.Size([16, 256])\n",
      "avg is 0.945556640625\n",
      "\n",
      "torch.Size([16, 256])\n",
      "avg is 0.710693359375\n",
      "\n",
      "torch.Size([16, 256])\n"
     ]
    },
    {
     "name": "stderr",
     "output_type": "stream",
     "text": [
      " 48%|████▊     | 24/50 [00:00<00:00, 32.85it/s]"
     ]
    },
    {
     "name": "stdout",
     "output_type": "stream",
     "text": [
      "avg is 0.52587890625\n",
      "\n",
      "torch.Size([16, 256])\n",
      "avg is 0.93212890625\n",
      "\n",
      "torch.Size([16, 256])\n",
      "avg is 0.911376953125\n",
      "\n",
      "torch.Size([16, 256])\n",
      "avg is 0.916259765625\n",
      "\n",
      "torch.Size([16, 256])\n"
     ]
    },
    {
     "name": "stderr",
     "output_type": "stream",
     "text": [
      " 56%|█████▌    | 28/50 [00:00<00:00, 30.54it/s]"
     ]
    },
    {
     "name": "stdout",
     "output_type": "stream",
     "text": [
      "avg is 0.9521484375\n",
      "\n",
      "torch.Size([16, 256])\n",
      "avg is 0.817138671875\n",
      "\n"
     ]
    },
    {
     "name": "stderr",
     "output_type": "stream",
     "text": [
      " 64%|██████▍   | 32/50 [00:01<00:00, 29.08it/s]"
     ]
    },
    {
     "name": "stdout",
     "output_type": "stream",
     "text": [
      "torch.Size([16, 256])\n",
      "avg is 0.9453125\n",
      "\n",
      "torch.Size([16, 256])\n",
      "avg is 0.906982421875\n",
      "\n",
      "torch.Size([16, 256])\n",
      "avg is 0.803466796875\n",
      "\n",
      "torch.Size([16, 256])\n",
      "avg is 0.86181640625\n",
      "\n",
      "torch.Size([16, 256])\n",
      "avg is 0.92724609375\n",
      "\n",
      "torch.Size([16, 256])\n"
     ]
    },
    {
     "name": "stderr",
     "output_type": "stream",
     "text": [
      " 78%|███████▊  | 39/50 [00:01<00:00, 29.65it/s]"
     ]
    },
    {
     "name": "stdout",
     "output_type": "stream",
     "text": [
      "avg is 0.7431640625\n",
      "\n",
      "torch.Size([16, 256])\n",
      "avg is 0.881103515625\n",
      "\n",
      "torch.Size([16, 256])\n",
      "avg is 0.90625\n",
      "\n",
      "torch.Size([16, 256])\n",
      "avg is 0.926025390625\n",
      "\n",
      "torch.Size([16, 256])\n",
      "avg is 0.936767578125\n",
      "\n",
      "torch.Size([16, 256])\n",
      "avg is 0.922119140625\n",
      "\n",
      "torch.Size([16, 256])\n",
      "avg is 0.931884765625\n",
      "\n",
      "torch.Size([16, 256])\n",
      "avg is 0.8212890625\n",
      "\n"
     ]
    },
    {
     "name": "stderr",
     "output_type": "stream",
     "text": [
      " 94%|█████████▍| 47/50 [00:01<00:00, 32.80it/s]"
     ]
    },
    {
     "name": "stdout",
     "output_type": "stream",
     "text": [
      "torch.Size([16, 256])\n",
      "avg is 0.94775390625\n",
      "\n",
      "torch.Size([16, 256])\n",
      "avg is 0.967529296875\n",
      "\n",
      "torch.Size([16, 256])\n",
      "avg is 0.91748046875\n",
      "\n",
      "torch.Size([16, 256])\n",
      "avg is 0.89697265625\n",
      "\n",
      "torch.Size([16, 256])\n",
      "avg is 0.715576171875\n",
      "\n",
      "torch.Size([16, 256])\n",
      "avg is 0.849853515625\n",
      "\n",
      "torch.Size([16, 256])\n",
      "avg is 0.88037109375\n",
      "\n",
      "torch.Size([16, 256])\n"
     ]
    },
    {
     "name": "stderr",
     "output_type": "stream",
     "text": [
      "100%|██████████| 50/50 [00:01<00:00, 32.45it/s]\n"
     ]
    },
    {
     "name": "stdout",
     "output_type": "stream",
     "text": [
      "avg is 0.94921875\n",
      "\n",
      "train\n",
      "evaluation acc: 0.6193511377398178, loss: 0.0012155910244045956\n",
      "valid\n",
      "evaluation acc: 0.6527135556096374, loss: 0.0014994983782500716\n"
     ]
    },
    {
     "name": "stderr",
     "output_type": "stream",
     "text": [
      "  8%|▊         | 4/50 [00:00<00:01, 32.05it/s]"
     ]
    },
    {
     "name": "stdout",
     "output_type": "stream",
     "text": [
      "torch.Size([16, 256])\n",
      "avg is 0.936767578125\n",
      "\n",
      "torch.Size([16, 256])\n",
      "avg is 0.9208984375\n",
      "\n",
      "torch.Size([16, 256])\n",
      "avg is 0.7822265625\n",
      "\n",
      "torch.Size([16, 256])\n",
      "avg is 0.934326171875\n",
      "\n",
      "torch.Size([16, 256])\n",
      "avg is 0.914306640625\n",
      "\n",
      "torch.Size([16, 256])\n",
      "avg is 0.93798828125\n",
      "\n",
      "torch.Size([16, 256])\n",
      "avg is 0.9375\n",
      "\n",
      "torch.Size([16, 256])\n"
     ]
    },
    {
     "name": "stderr",
     "output_type": "stream",
     "text": [
      " 24%|██▍       | 12/50 [00:00<00:01, 35.91it/s]"
     ]
    },
    {
     "name": "stdout",
     "output_type": "stream",
     "text": [
      "avg is 0.9130859375\n",
      "\n",
      "torch.Size([16, 256])\n",
      "avg is 0.955078125\n",
      "\n",
      "torch.Size([16, 256])\n",
      "avg is 0.9423828125\n",
      "\n",
      "torch.Size([16, 256])\n",
      "avg is 0.932373046875\n",
      "\n",
      "torch.Size([16, 256])\n",
      "avg is 0.92626953125\n",
      "\n",
      "torch.Size([16, 256])\n",
      "avg is 0.94091796875\n",
      "\n",
      "torch.Size([16, 256])\n",
      "avg is 0.94775390625\n",
      "\n",
      "torch.Size([16, 256])\n",
      "avg is 0.89990234375\n",
      "\n"
     ]
    },
    {
     "name": "stderr",
     "output_type": "stream",
     "text": [
      " 40%|████      | 20/50 [00:00<00:00, 36.24it/s]"
     ]
    },
    {
     "name": "stdout",
     "output_type": "stream",
     "text": [
      "torch.Size([16, 256])\n",
      "avg is 0.795166015625\n",
      "\n",
      "torch.Size([16, 256])\n",
      "avg is 0.888916015625\n",
      "\n",
      "torch.Size([16, 256])\n",
      "avg is 0.912353515625\n",
      "\n",
      "torch.Size([16, 256])\n",
      "avg is 0.943115234375\n",
      "\n",
      "torch.Size([16, 256])\n",
      "avg is 0.886474609375\n",
      "\n",
      "torch.Size([16, 256])\n",
      "avg is 0.709228515625\n",
      "\n",
      "torch.Size([16, 256])\n",
      "avg is 0.945556640625\n",
      "\n",
      "torch.Size([16, 256])\n"
     ]
    },
    {
     "name": "stderr",
     "output_type": "stream",
     "text": [
      " 48%|████▊     | 24/50 [00:00<00:00, 35.74it/s]"
     ]
    },
    {
     "name": "stdout",
     "output_type": "stream",
     "text": [
      "avg is 0.73486328125\n",
      "\n",
      "torch.Size([16, 256])\n",
      "avg is 0.55419921875\n",
      "\n",
      "torch.Size([16, 256])\n",
      "avg is 0.9345703125\n",
      "\n",
      "torch.Size([16, 256])\n",
      "avg is 0.9111328125\n",
      "\n",
      "torch.Size([16, 256])\n",
      "avg is 0.91455078125\n",
      "\n",
      "torch.Size([16, 256])\n",
      "avg is 0.950927734375\n",
      "\n"
     ]
    },
    {
     "name": "stderr",
     "output_type": "stream",
     "text": [
      " 64%|██████▍   | 32/50 [00:00<00:00, 29.75it/s]"
     ]
    },
    {
     "name": "stdout",
     "output_type": "stream",
     "text": [
      "torch.Size([16, 256])\n",
      "avg is 0.8037109375\n",
      "\n",
      "torch.Size([16, 256])\n",
      "avg is 0.946044921875\n",
      "\n",
      "torch.Size([16, 256])\n",
      "avg is 0.8642578125\n",
      "\n",
      "torch.Size([16, 256])\n",
      "avg is 0.735107421875\n",
      "\n",
      "torch.Size([16, 256])\n",
      "avg is 0.788330078125\n",
      "\n",
      "torch.Size([16, 256])\n"
     ]
    },
    {
     "name": "stderr",
     "output_type": "stream",
     "text": [
      " 78%|███████▊  | 39/50 [00:01<00:00, 27.99it/s]"
     ]
    },
    {
     "name": "stdout",
     "output_type": "stream",
     "text": [
      "avg is 0.86181640625\n",
      "\n",
      "torch.Size([16, 256])\n",
      "avg is 0.677978515625\n",
      "\n",
      "torch.Size([16, 256])\n",
      "avg is 0.822021484375\n",
      "\n",
      "torch.Size([16, 256])\n",
      "avg is 0.841796875\n",
      "\n",
      "torch.Size([16, 256])\n",
      "avg is 0.849853515625\n",
      "\n",
      "torch.Size([16, 256])\n",
      "avg is 0.86767578125\n",
      "\n"
     ]
    },
    {
     "name": "stderr",
     "output_type": "stream",
     "text": [
      " 84%|████████▍ | 42/50 [00:01<00:00, 27.72it/s]"
     ]
    },
    {
     "name": "stdout",
     "output_type": "stream",
     "text": [
      "torch.Size([16, 256])\n",
      "avg is 0.827392578125\n",
      "\n",
      "torch.Size([16, 256])\n",
      "avg is 0.855224609375\n",
      "\n",
      "torch.Size([16, 256])\n",
      "avg is 0.783203125\n",
      "\n",
      "torch.Size([16, 256])\n",
      "avg is 0.87451171875\n",
      "\n",
      "torch.Size([16, 256])\n",
      "avg is 0.9072265625\n",
      "\n",
      "torch.Size([16, 256])\n",
      "avg is 0.853515625\n",
      "\n"
     ]
    },
    {
     "name": "stderr",
     "output_type": "stream",
     "text": [
      "100%|██████████| 50/50 [00:01<00:00, 30.84it/s]\n"
     ]
    },
    {
     "name": "stdout",
     "output_type": "stream",
     "text": [
      "torch.Size([16, 256])\n",
      "avg is 0.831787109375\n",
      "\n",
      "torch.Size([16, 256])\n",
      "avg is 0.686767578125\n",
      "\n",
      "torch.Size([16, 256])\n",
      "avg is 0.79150390625\n",
      "\n",
      "torch.Size([16, 256])\n",
      "avg is 0.828125\n",
      "\n",
      "torch.Size([16, 256])\n",
      "avg is 0.888916015625\n",
      "\n",
      "train\n",
      "evaluation acc: 0.6193511377398178, loss: 0.0012151785342800257\n",
      "valid\n",
      "evaluation acc: 0.6526324328709338, loss: 0.001499965326833272\n"
     ]
    },
    {
     "data": {
      "image/png": "[encoded data removed]",
      "text/plain": [
       "<Figure size 432x288 with 1 Axes>"
      ]
     },
     "metadata": {
      "needs_background": "light"
     },
     "output_type": "display_data"
    },
    {
     "data": {
      "image/png": "[encoded data removed]",
      "text/plain": [
       "<Figure size 432x288 with 1 Axes>"
      ]
     },
     "metadata": {
      "needs_background": "light"
     },
     "output_type": "display_data"
    }
   ],
   "source": [
    "all_preds = []\n",
    "all_preds2 = []\n",
    "def evaluate_rnn(transformer_model, t_valid_x, t_valid_y, loss_mask_valid):\n",
    "    transformer_model.eval()\n",
    "    with torch.no_grad():\n",
    "      acc = 0\n",
    "      count = 0\n",
    "      acc_total = 0\n",
    "      loss_total = 0\n",
    "      num_batches = t_valid_x.shape[0]\n",
    "      for batch in range(29):\n",
    "          src = t_valid_x[batch,:,:,:].to(device).float()\n",
    "          tgt = t_valid_y[batch] + 0\n",
    "          loss_mask_batch = loss_mask_valid[batch, :, :]\n",
    "          out, _ = transformer_model(src)\n",
    "          out = torch.sigmoid(out[:,:, [0]]).squeeze(-1)\n",
    "          prediction = out>0.5\n",
    "          all_preds.append(prediction)\n",
    "          acc = torch.sum((tgt== prediction) *(loss_mask_batch))\n",
    "          loss = torch.sum((-tgt*torch.log(out) -(1-tgt)*torch.log(1-out))*loss_mask_batch)/torch.sum(loss_mask_batch)\n",
    "          loss_total += loss\n",
    "          acc_total += acc\n",
    "          count+= torch.sum(loss_mask_batch)\n",
    "      print(\"evaluation acc: {}, loss: {}\".format(acc_total/count, loss_total / count))\n",
    "    return acc_total/count, loss_total / count\n",
    "\n",
    "num_batches = t_train_x.shape[0]\n",
    "lstm_model = torch.nn.LSTM(10, 10, 2)\n",
    "optim = torch.optim.Adam(lstm_model.parameters(), lr=0.01)\n",
    "lstm_model.train()\n",
    "num_batches = t_train_x.shape[0]\n",
    "num_epochs = 10\n",
    "log_interval = 10\n",
    "total_loss = 0\n",
    "plot_loss= []\n",
    "plot_acc= []\n",
    "train_losses = []\n",
    "train_accs = []\n",
    "valid_losses = []\n",
    "valid_accs = []\n",
    "\n",
    "for epoch in range(num_epochs):\n",
    "    for batch in tqdm(range(50)):\n",
    "      optim.zero_grad()\n",
    "      src = t_train_x[batch,:,:,:].to(device).float()\n",
    "      tgt = t_train_y[batch] + 0\n",
    "      loss_mask_batch = loss_mask_train[batch, :, :]\n",
    "      out, _ = lstm_model(src)\n",
    "      out = torch.sigmoid(out[:, :, 0]).squeeze(-1)\n",
    "      prediction = out>0.5\n",
    "      all_preds_count = 0\n",
    "      true_pred = 0\n",
    "      # print(prediction.shape) # calculates the average number of predicted correct answers.\n",
    "      # for row in prediction:\n",
    "      #   for p in row:\n",
    "      #     if p == True:\n",
    "      #       true_pred+=1\n",
    "      #     all_preds_count+=1\n",
    "      # print(f\"avg is {true_pred/all_preds_count}\")\n",
    "      # print()\n",
    "      acc = torch.sum((tgt== prediction) *(loss_mask_batch)) /torch.sum(loss_mask_batch)\n",
    "      plot_acc.append(acc)\n",
    "      loss = torch.sum((-tgt*torch.log(out) -(1-tgt)*torch.log(1-out))*loss_mask_batch)/torch.sum(loss_mask_batch)\n",
    "      loss.backward()\n",
    "      optim.step()\n",
    "      if (batch+1)%log_interval == 0:\n",
    "        plot_loss.append(total_loss)\n",
    "        total_loss = 0\n",
    "      total_loss += loss.item()\n",
    "    print(\"train\")\n",
    "    train_acc, train_loss = evaluate_rnn(lstm_model, t_train_x,  t_train_y, loss_mask_train)\n",
    "    print(\"valid\")\n",
    "    valid_acc, valid_loss = evaluate_rnn(lstm_model, t_valid_x,  t_valid_y, loss_mask_valid)\n",
    "    train_losses.append(train_loss.item())\n",
    "    train_accs.append(train_acc*100)\n",
    "    valid_losses.append(valid_loss)\n",
    "    valid_accs.append(valid_acc*100)\n",
    "plt.plot(train_losses, label = \"train\")\n",
    "plt.plot(valid_losses, label = \"valid\")\n",
    "plt.title('Cross Entropy Loss')\n",
    "plt.xlabel('# Epochs')\n",
    "plt.ylabel('loss')\n",
    "plt.legend()\n",
    "plt.show()\n",
    "plt.plot(train_accs,  label = \"train\")\n",
    "plt.plot(valid_accs,  label = \"valid\")\n",
    "plt.title('Accuracy')\n",
    "plt.xlabel('# Epochs')\n",
    "plt.ylabel('% Accuracy')\n",
    "plt.legend()\n",
    "plt.show()\n"
   ]
  },
  {
   "cell_type": "code",
   "execution_count": 78,
   "metadata": {},
   "outputs": [
    {
     "name": "stdout",
     "output_type": "stream",
     "text": [
      "torch.Size([16, 256])\n",
      "tensor([[0.7414, 0.8466, 0.7810,  ..., 0.6000, 0.6000, 0.6000],\n",
      "        [0.7017, 0.8276, 0.7483,  ..., 1.0000, 1.0000, 1.0000],\n",
      "        [0.8121, 0.8517, 0.8207,  ..., 1.0000, 1.0000, 1.0000],\n",
      "        ...,\n",
      "        [0.7586, 0.5845, 0.5466,  ..., 0.9983, 1.0000, 0.9983],\n",
      "        [0.7552, 0.6724, 0.5845,  ..., 0.9966, 0.9983, 0.9966],\n",
      "        [0.7155, 0.6397, 0.5914,  ..., 0.9966, 0.9983, 0.9983]])\n",
      "[<generator object <genexpr> at 0x131e31190>, <generator object <genexpr> at 0x131e31580>, <generator object <genexpr> at 0x131e312e0>, <generator object <genexpr> at 0x131e319e0>, <generator object <genexpr> at 0x131e31900>, <generator object <genexpr> at 0x131e31120>, <generator object <genexpr> at 0x131e31040>, <generator object <genexpr> at 0x1316c3f20>, <generator object <genexpr> at 0x1316c3e40>, <generator object <genexpr> at 0x1316c3d60>, <generator object <genexpr> at 0x1316c3c80>, <generator object <genexpr> at 0x1316c3f90>, <generator object <genexpr> at 0x1316c3eb0>, <generator object <genexpr> at 0x1316c3dd0>, <generator object <genexpr> at 0x1316c3cf0>, <generator object <genexpr> at 0x131e314a0>, <generator object <genexpr> at 0x1316c3ba0>, <generator object <genexpr> at 0x1316c3a50>, <generator object <genexpr> at 0x1316c3970>, <generator object <genexpr> at 0x1316c3b30>, <generator object <genexpr> at 0x1316c39e0>, <generator object <genexpr> at 0x1316c3900>, <generator object <genexpr> at 0x1316c3890>, <generator object <genexpr> at 0x1316c37b0>, <generator object <genexpr> at 0x131e310b0>, <generator object <genexpr> at 0x1316c35f0>, <generator object <genexpr> at 0x1316c3510>, <generator object <genexpr> at 0x1316c3430>, <generator object <genexpr> at 0x1316c3820>, <generator object <genexpr> at 0x1316c3740>, <generator object <genexpr> at 0x1316c3660>, <generator object <genexpr> at 0x1316c3580>, <generator object <genexpr> at 0x1316c34a0>, <generator object <genexpr> at 0x1316c3c10>, <generator object <genexpr> at 0x1316c3350>, <generator object <genexpr> at 0x1316c30b0>, <generator object <genexpr> at 0x1316c3040>, <generator object <genexpr> at 0x1316c32e0>, <generator object <genexpr> at 0x13160d040>, <generator object <genexpr> at 0x13160d0b0>, <generator object <genexpr> at 0x13160df20>, <generator object <genexpr> at 0x13160deb0>, <generator object <genexpr> at 0x1316c36d0>, <generator object <genexpr> at 0x13160dcf0>, <generator object <genexpr> at 0x13160dc10>, <generator object <genexpr> at 0x13160db30>, <generator object <genexpr> at 0x13160da50>, <generator object <genexpr> at 0x13160de40>, <generator object <genexpr> at 0x13160dd60>, <generator object <genexpr> at 0x13160dc80>, <generator object <genexpr> at 0x13160dba0>, <generator object <genexpr> at 0x13160dac0>, <generator object <genexpr> at 0x13160d900>, <generator object <genexpr> at 0x13160d890>, <generator object <genexpr> at 0x13160d7b0>, <generator object <genexpr> at 0x13160d970>, <generator object <genexpr> at 0x13160d740>, <generator object <genexpr> at 0x13160d660>, <generator object <genexpr> at 0x13160d580>, <generator object <genexpr> at 0x13160d4a0>, <generator object <genexpr> at 0x13160d3c0>, <generator object <genexpr> at 0x13160d2e0>, <generator object <genexpr> at 0x1316c33c0>, <generator object <genexpr> at 0x131e31ac0>, <generator object <genexpr> at 0x13160d6d0>, <generator object <genexpr> at 0x13160d5f0>, <generator object <genexpr> at 0x13160d510>, <generator object <genexpr> at 0x13160d430>, <generator object <genexpr> at 0x13160d350>, <generator object <genexpr> at 0x13160d270>, <generator object <genexpr> at 0x1315adeb0>, <generator object <genexpr> at 0x13160d820>, <generator object <genexpr> at 0x1315adf20>, <generator object <genexpr> at 0x13147add0>, <generator object <genexpr> at 0x13147ae40>, <generator object <genexpr> at 0x13147af20>, <generator object <genexpr> at 0x13147aeb0>, <generator object <genexpr> at 0x13147ac80>, <generator object <genexpr> at 0x1311de510>, <generator object <genexpr> at 0x1311de3c0>, <generator object <genexpr> at 0x13160d200>, <generator object <genexpr> at 0x1311de890>, <generator object <genexpr> at 0x1311de430>, <generator object <genexpr> at 0x1311de660>, <generator object <genexpr> at 0x1311de900>, <generator object <genexpr> at 0x1311247b0>, <generator object <genexpr> at 0x13147ad60>, <generator object <genexpr> at 0x130fbd430>, <generator object <genexpr> at 0x130fbd190>, <generator object <genexpr> at 0x130fbd900>, <generator object <genexpr> at 0x130fbd6d0>, <generator object <genexpr> at 0x130fbd200>, <generator object <genexpr> at 0x1311de7b0>, <generator object <genexpr> at 0x130fbd660>, <generator object <genexpr> at 0x130fbd740>, <generator object <genexpr> at 0x130fbd040>, <generator object <genexpr> at 0x130fa9740>, <generator object <genexpr> at 0x130fa9200>, <generator object <genexpr> at 0x130fa9dd0>, <generator object <genexpr> at 0x131f367b0>, <generator object <genexpr> at 0x130fbd7b0>, <generator object <genexpr> at 0x131f36890>, <generator object <genexpr> at 0x131f36900>, <generator object <genexpr> at 0x131f36970>, <generator object <genexpr> at 0x131f369e0>, <generator object <genexpr> at 0x131f36a50>, <generator object <genexpr> at 0x131f36b30>, <generator object <genexpr> at 0x131f36ba0>, <generator object <genexpr> at 0x131f36c10>, <generator object <genexpr> at 0x131f36c80>, <generator object <genexpr> at 0x131f36cf0>, <generator object <genexpr> at 0x131f36d60>, <generator object <genexpr> at 0x130fa9510>, <generator object <genexpr> at 0x131f36dd0>, <generator object <genexpr> at 0x131f36e40>, <generator object <genexpr> at 0x131f36eb0>, <generator object <genexpr> at 0x131f36f20>, <generator object <genexpr> at 0x131f36f90>, <generator object <genexpr> at 0x132028040>, <generator object <genexpr> at 0x1320280b0>, <generator object <genexpr> at 0x132028120>, <generator object <genexpr> at 0x131f36ac0>, <generator object <genexpr> at 0x132028200>, <generator object <genexpr> at 0x132028270>, <generator object <genexpr> at 0x1320282e0>, <generator object <genexpr> at 0x132028350>, <generator object <genexpr> at 0x1320283c0>, <generator object <genexpr> at 0x132028430>, <generator object <genexpr> at 0x1320284a0>, <generator object <genexpr> at 0x132028510>, <generator object <genexpr> at 0x132028580>, <generator object <genexpr> at 0x1320285f0>, <generator object <genexpr> at 0x132028660>, <generator object <genexpr> at 0x1320286d0>, <generator object <genexpr> at 0x132028740>, <generator object <genexpr> at 0x1320287b0>, <generator object <genexpr> at 0x132028820>, <generator object <genexpr> at 0x132028190>, <generator object <genexpr> at 0x132028890>, <generator object <genexpr> at 0x132028970>, <generator object <genexpr> at 0x1320289e0>, <generator object <genexpr> at 0x132028a50>, <generator object <genexpr> at 0x132028ac0>, <generator object <genexpr> at 0x13160ddd0>, <generator object <genexpr> at 0x132028b30>, <generator object <genexpr> at 0x132028ba0>, <generator object <genexpr> at 0x132028c10>, <generator object <genexpr> at 0x132028cf0>, <generator object <genexpr> at 0x132028d60>, <generator object <genexpr> at 0x132028dd0>, <generator object <genexpr> at 0x132028e40>, <generator object <genexpr> at 0x132028f20>, <generator object <genexpr> at 0x132028900>, <generator object <genexpr> at 0x132028f90>, <generator object <genexpr> at 0x13164b040>, <generator object <genexpr> at 0x13164b0b0>, <generator object <genexpr> at 0x13164b120>, <generator object <genexpr> at 0x13164b200>, <generator object <genexpr> at 0x13164b270>, <generator object <genexpr> at 0x13164b2e0>, <generator object <genexpr> at 0x13164b350>, <generator object <genexpr> at 0x13164b3c0>, <generator object <genexpr> at 0x131f36820>, <generator object <genexpr> at 0x132028eb0>, <generator object <genexpr> at 0x13164b4a0>, <generator object <genexpr> at 0x13164b510>, <generator object <genexpr> at 0x13164b580>, <generator object <genexpr> at 0x13164b5f0>, <generator object <genexpr> at 0x13164b660>, <generator object <genexpr> at 0x13164b6d0>, <generator object <genexpr> at 0x13164b740>, <generator object <genexpr> at 0x13164b190>, <generator object <genexpr> at 0x13164b820>, <generator object <genexpr> at 0x13164b890>, <generator object <genexpr> at 0x13164b900>, <generator object <genexpr> at 0x13164b970>, <generator object <genexpr> at 0x13164b9e0>, <generator object <genexpr> at 0x13164ba50>, <generator object <genexpr> at 0x13164bac0>, <generator object <genexpr> at 0x13164bb30>, <generator object <genexpr> at 0x13164b430>, <generator object <genexpr> at 0x13164bc10>, <generator object <genexpr> at 0x13164bc80>, <generator object <genexpr> at 0x13164bcf0>, <generator object <genexpr> at 0x13164bd60>, <generator object <genexpr> at 0x13164bdd0>, <generator object <genexpr> at 0x13164b7b0>, <generator object <genexpr> at 0x13164be40>, <generator object <genexpr> at 0x13164beb0>, <generator object <genexpr> at 0x13164bf90>, <generator object <genexpr> at 0x13164bba0>, <generator object <genexpr> at 0x1312a3040>, <generator object <genexpr> at 0x1312a30b0>, <generator object <genexpr> at 0x1312a3120>, <generator object <genexpr> at 0x1312a3190>, <generator object <genexpr> at 0x1312a3200>, <generator object <genexpr> at 0x1312a32e0>, <generator object <genexpr> at 0x13164bf20>, <generator object <genexpr> at 0x1312a3350>, <generator object <genexpr> at 0x1312a33c0>, <generator object <genexpr> at 0x1312a3430>, <generator object <genexpr> at 0x1312a3510>, <generator object <genexpr> at 0x1312a3580>, <generator object <genexpr> at 0x1312a35f0>, <generator object <genexpr> at 0x1312a3660>, <generator object <genexpr> at 0x1312a36d0>, <generator object <genexpr> at 0x1312a37b0>, <generator object <genexpr> at 0x1312a3820>, <generator object <genexpr> at 0x1312a3890>, <generator object <genexpr> at 0x1312a3900>, <generator object <genexpr> at 0x1312a3970>, <generator object <genexpr> at 0x1312a39e0>, <generator object <genexpr> at 0x1312a3a50>, <generator object <genexpr> at 0x132028c80>, <generator object <genexpr> at 0x1312a3ac0>, <generator object <genexpr> at 0x1312a3b30>, <generator object <genexpr> at 0x1312a3ba0>, <generator object <genexpr> at 0x1312a3c10>, <generator object <genexpr> at 0x1312a3c80>, <generator object <genexpr> at 0x1312a3cf0>, <generator object <genexpr> at 0x1312a3740>, <generator object <genexpr> at 0x1312a3dd0>, <generator object <genexpr> at 0x1312a3e40>, <generator object <genexpr> at 0x1312a3eb0>, <generator object <genexpr> at 0x1312a3f20>, <generator object <genexpr> at 0x1312a3f90>, <generator object <genexpr> at 0x1312a34a0>, <generator object <genexpr> at 0x131299040>, <generator object <genexpr> at 0x131299120>, <generator object <genexpr> at 0x131299190>, <generator object <genexpr> at 0x131299200>, <generator object <genexpr> at 0x131299270>, <generator object <genexpr> at 0x1312992e0>, <generator object <genexpr> at 0x131299350>, <generator object <genexpr> at 0x1312a3d60>, <generator object <genexpr> at 0x1312993c0>, <generator object <genexpr> at 0x1312994a0>, <generator object <genexpr> at 0x131299510>, <generator object <genexpr> at 0x131299580>, <generator object <genexpr> at 0x1312995f0>, <generator object <genexpr> at 0x131299660>, <generator object <genexpr> at 0x1312996d0>, <generator object <genexpr> at 0x131299740>, <generator object <genexpr> at 0x1312997b0>, <generator object <genexpr> at 0x1312990b0>, <generator object <genexpr> at 0x131299890>, <generator object <genexpr> at 0x131299900>, <generator object <genexpr> at 0x131299970>, <generator object <genexpr> at 0x1312999e0>, <generator object <genexpr> at 0x131299a50>, <generator object <genexpr> at 0x131299ac0>, <generator object <genexpr> at 0x131299820>, <generator object <genexpr> at 0x131299430>, <generator object <genexpr> at 0x131299c10>, <generator object <genexpr> at 0x131299c80>, <generator object <genexpr> at 0x131299cf0>, <generator object <genexpr> at 0x131299dd0>, <generator object <genexpr> at 0x131299e40>, <generator object <genexpr> at 0x131299eb0>, <generator object <genexpr> at 0x131299f20>, <generator object <genexpr> at 0x131299f90>, <generator object <genexpr> at 0x131640040>, <generator object <genexpr> at 0x1316400b0>, <generator object <genexpr> at 0x1312a3270>, <generator object <genexpr> at 0x131299b30>, <generator object <genexpr> at 0x131640190>, <generator object <genexpr> at 0x131640200>, <generator object <genexpr> at 0x131640270>, <generator object <genexpr> at 0x1316402e0>, <generator object <genexpr> at 0x131640350>, <generator object <genexpr> at 0x1316403c0>, <generator object <genexpr> at 0x131640430>, <generator object <genexpr> at 0x1316404a0>, <generator object <genexpr> at 0x131299d60>, <generator object <genexpr> at 0x131640580>, <generator object <genexpr> at 0x1316405f0>, <generator object <genexpr> at 0x131640660>, <generator object <genexpr> at 0x1316406d0>, <generator object <genexpr> at 0x131640740>, <generator object <genexpr> at 0x1316407b0>, <generator object <genexpr> at 0x131640820>, <generator object <genexpr> at 0x131640890>, <generator object <genexpr> at 0x131640120>, <generator object <genexpr> at 0x131640970>, <generator object <genexpr> at 0x1316409e0>, <generator object <genexpr> at 0x131640a50>, <generator object <genexpr> at 0x131640ac0>, <generator object <genexpr> at 0x131640b30>, <generator object <genexpr> at 0x131640ba0>, <generator object <genexpr> at 0x131640c10>, <generator object <genexpr> at 0x131640c80>, <generator object <genexpr> at 0x131640510>, <generator object <genexpr> at 0x131640d60>, <generator object <genexpr> at 0x131640dd0>, <generator object <genexpr> at 0x131640e40>, <generator object <genexpr> at 0x131640eb0>, <generator object <genexpr> at 0x131640f20>, <generator object <genexpr> at 0x131640f90>, <generator object <genexpr> at 0x131f59040>, <generator object <genexpr> at 0x131f590b0>, <generator object <genexpr> at 0x131640900>, <generator object <genexpr> at 0x131f59190>, <generator object <genexpr> at 0x131f59200>, <generator object <genexpr> at 0x131f59270>, <generator object <genexpr> at 0x131f592e0>, <generator object <genexpr> at 0x131f59350>, <generator object <genexpr> at 0x131f593c0>, <generator object <genexpr> at 0x131f59430>, <generator object <genexpr> at 0x131f59510>, <generator object <genexpr> at 0x131f59580>, <generator object <genexpr> at 0x131f595f0>, <generator object <genexpr> at 0x131f59660>, <generator object <genexpr> at 0x131f596d0>, <generator object <genexpr> at 0x131f59740>, <generator object <genexpr> at 0x131f597b0>, <generator object <genexpr> at 0x131f59820>, <generator object <genexpr> at 0x131299ba0>, <generator object <genexpr> at 0x131f59890>, <generator object <genexpr> at 0x131f59900>, <generator object <genexpr> at 0x131f59970>, <generator object <genexpr> at 0x131f599e0>, <generator object <genexpr> at 0x131f59a50>, <generator object <genexpr> at 0x131f59ac0>, <generator object <genexpr> at 0x131f59b30>, <generator object <genexpr> at 0x131f594a0>, <generator object <genexpr> at 0x131f59ba0>, <generator object <genexpr> at 0x131f59c80>, <generator object <genexpr> at 0x131f59cf0>, <generator object <genexpr> at 0x131f59d60>, <generator object <genexpr> at 0x131f59dd0>, <generator object <genexpr> at 0x131f59e40>, <generator object <genexpr> at 0x131f59eb0>, <generator object <genexpr> at 0x131f59f20>, <generator object <genexpr> at 0x131640cf0>, <generator object <genexpr> at 0x131f59f90>, <generator object <genexpr> at 0x131e560b0>, <generator object <genexpr> at 0x131e56120>, <generator object <genexpr> at 0x131e56190>, <generator object <genexpr> at 0x131e56200>, <generator object <genexpr> at 0x131e56270>, <generator object <genexpr> at 0x131e562e0>, <generator object <genexpr> at 0x131e56350>, <generator object <genexpr> at 0x131f59c10>, <generator object <genexpr> at 0x131e563c0>, <generator object <genexpr> at 0x131e564a0>, <generator object <genexpr> at 0x131e56510>, <generator object <genexpr> at 0x131e56580>, <generator object <genexpr> at 0x131e565f0>, <generator object <genexpr> at 0x131e56660>, <generator object <genexpr> at 0x131e566d0>, <generator object <genexpr> at 0x131e56740>, <generator object <genexpr> at 0x131e56430>, <generator object <genexpr> at 0x131e56040>, <generator object <genexpr> at 0x131e56890>, <generator object <genexpr> at 0x131e56900>, <generator object <genexpr> at 0x131e56970>, <generator object <genexpr> at 0x131e569e0>, <generator object <genexpr> at 0x131e56a50>, <generator object <genexpr> at 0x131e56b30>, <generator object <genexpr> at 0x131e56ba0>, <generator object <genexpr> at 0x131e56c10>, <generator object <genexpr> at 0x131e56c80>, <generator object <genexpr> at 0x131e56cf0>, <generator object <genexpr> at 0x131e56d60>, <generator object <genexpr> at 0x131e56dd0>, <generator object <genexpr> at 0x131e56e40>, <generator object <genexpr> at 0x131f59120>, <generator object <genexpr> at 0x131e56eb0>, <generator object <genexpr> at 0x131e56f20>, <generator object <genexpr> at 0x131e56f90>, <generator object <genexpr> at 0x131e54040>, <generator object <genexpr> at 0x131e540b0>, <generator object <genexpr> at 0x131e54120>, <generator object <genexpr> at 0x131e54190>, <generator object <genexpr> at 0x131e54200>, <generator object <genexpr> at 0x131e56ac0>, <generator object <genexpr> at 0x131e542e0>, <generator object <genexpr> at 0x131e54350>, <generator object <genexpr> at 0x131e543c0>, <generator object <genexpr> at 0x131e54430>, <generator object <genexpr> at 0x131e544a0>, <generator object <genexpr> at 0x131e54510>, <generator object <genexpr> at 0x131e54580>, <generator object <genexpr> at 0x131e545f0>, <generator object <genexpr> at 0x131e567b0>, <generator object <genexpr> at 0x131e546d0>, <generator object <genexpr> at 0x131e54740>, <generator object <genexpr> at 0x131e547b0>, <generator object <genexpr> at 0x131e54820>, <generator object <genexpr> at 0x131e54890>, <generator object <genexpr> at 0x131e54900>, <generator object <genexpr> at 0x131e54970>, <generator object <genexpr> at 0x131e549e0>, <generator object <genexpr> at 0x131e54a50>, <generator object <genexpr> at 0x131e54ac0>, <generator object <genexpr> at 0x131e54b30>, <generator object <genexpr> at 0x131e54ba0>, <generator object <genexpr> at 0x131e54c10>, <generator object <genexpr> at 0x131e54c80>, <generator object <genexpr> at 0x131e54cf0>, <generator object <genexpr> at 0x131e54d60>, <generator object <genexpr> at 0x131e54270>, <generator object <genexpr> at 0x131e54660>, <generator object <genexpr> at 0x131e54eb0>, <generator object <genexpr> at 0x131e54f20>, <generator object <genexpr> at 0x131e54f90>, <generator object <genexpr> at 0x13173e040>, <generator object <genexpr> at 0x13173e0b0>, <generator object <genexpr> at 0x13173e190>, <generator object <genexpr> at 0x13173e200>, <generator object <genexpr> at 0x13173e270>, <generator object <genexpr> at 0x13173e2e0>, <generator object <genexpr> at 0x13173e350>, <generator object <genexpr> at 0x13173e3c0>, <generator object <genexpr> at 0x13173e430>, <generator object <genexpr> at 0x13173e4a0>, <generator object <genexpr> at 0x131e56820>, <generator object <genexpr> at 0x13173e510>, <generator object <genexpr> at 0x13173e580>, <generator object <genexpr> at 0x13173e5f0>, <generator object <genexpr> at 0x13173e660>, <generator object <genexpr> at 0x13173e6d0>, <generator object <genexpr> at 0x13173e740>, <generator object <genexpr> at 0x13173e7b0>, <generator object <genexpr> at 0x13173e820>, <generator object <genexpr> at 0x13173e890>, <generator object <genexpr> at 0x13173e900>, <generator object <genexpr> at 0x13173e970>, <generator object <genexpr> at 0x13173e9e0>, <generator object <genexpr> at 0x13173ea50>, <generator object <genexpr> at 0x13173eac0>, <generator object <genexpr> at 0x13173eb30>, <generator object <genexpr> at 0x13173eba0>, <generator object <genexpr> at 0x13173ec10>, <generator object <genexpr> at 0x131e54dd0>, <generator object <genexpr> at 0x13173ecf0>, <generator object <genexpr> at 0x13173ed60>, <generator object <genexpr> at 0x13173edd0>, <generator object <genexpr> at 0x13173ee40>, <generator object <genexpr> at 0x13173eeb0>, <generator object <genexpr> at 0x13173ef20>, <generator object <genexpr> at 0x13173ef90>, <generator object <genexpr> at 0x13173e120>, <generator object <genexpr> at 0x131f04040>, <generator object <genexpr> at 0x131f04120>, <generator object <genexpr> at 0x131f04190>, <generator object <genexpr> at 0x131f04200>, <generator object <genexpr> at 0x131f04270>, <generator object <genexpr> at 0x131f042e0>, <generator object <genexpr> at 0x131f04350>, <generator object <genexpr> at 0x131f043c0>, <generator object <genexpr> at 0x131f04430>, <generator object <genexpr> at 0x131f044a0>, <generator object <genexpr> at 0x131f04510>, <generator object <genexpr> at 0x131f04580>, <generator object <genexpr> at 0x131f045f0>, <generator object <genexpr> at 0x131f04660>, <generator object <genexpr> at 0x131f046d0>, <generator object <genexpr> at 0x131f047b0>, <generator object <genexpr> at 0x131f04820>, <generator object <genexpr> at 0x131f04890>, <generator object <genexpr> at 0x131f04900>, <generator object <genexpr> at 0x131f04970>, <generator object <genexpr> at 0x131f049e0>, <generator object <genexpr> at 0x131f04a50>, <generator object <genexpr> at 0x131f04ac0>, <generator object <genexpr> at 0x13173ec80>, <generator object <genexpr> at 0x131f04b30>, <generator object <genexpr> at 0x131f04ba0>, <generator object <genexpr> at 0x131f04c10>, <generator object <genexpr> at 0x131f04c80>, <generator object <genexpr> at 0x131f04cf0>, <generator object <genexpr> at 0x131f04d60>, <generator object <genexpr> at 0x131f04dd0>, <generator object <genexpr> at 0x131f04e40>, <generator object <genexpr> at 0x131f04740>, <generator object <genexpr> at 0x131f04f20>, <generator object <genexpr> at 0x131f04f90>, <generator object <genexpr> at 0x131eea040>, <generator object <genexpr> at 0x131eea0b0>, <generator object <genexpr> at 0x131eea120>, <generator object <genexpr> at 0x131eea190>, <generator object <genexpr> at 0x131eea200>, <generator object <genexpr> at 0x131eea270>, <generator object <genexpr> at 0x131eea2e0>, <generator object <genexpr> at 0x131eea350>, <generator object <genexpr> at 0x131eea3c0>, <generator object <genexpr> at 0x131eea430>, <generator object <genexpr> at 0x131eea4a0>, <generator object <genexpr> at 0x131eea510>, <generator object <genexpr> at 0x131eea580>, <generator object <genexpr> at 0x131eea5f0>, <generator object <genexpr> at 0x131eea660>, <generator object <genexpr> at 0x131eea6d0>, <generator object <genexpr> at 0x131eea740>, <generator object <genexpr> at 0x131eea7b0>, <generator object <genexpr> at 0x131eea820>, <generator object <genexpr> at 0x131eea890>, <generator object <genexpr> at 0x131eea900>, <generator object <genexpr> at 0x131eea970>]\n",
      "torch.Size([256])\n",
      "tensor([11.1000,  9.6380,  8.2780,  9.5260,  6.8900,  4.8440,  4.4440,  5.1020,\n",
      "         6.8280,  7.2200,  7.5420,  8.0260,  8.1560,  8.2820,  8.8420,  8.5480,\n",
      "        10.6540, 10.6680, 10.4620, 10.6620, 10.6040, 10.3360, 10.4960, 10.3700,\n",
      "        10.4840, 10.3000, 10.6960, 10.6180, 11.1900, 10.5160, 10.6540, 10.7600,\n",
      "        10.8400, 10.8000, 11.0120, 11.3780, 11.7620, 11.2940, 11.5020, 11.5860,\n",
      "        11.6320, 11.6140, 11.6600, 11.4440, 11.3520, 11.6240, 11.5900, 11.8440,\n",
      "        11.9060, 12.0100, 11.9160, 11.7880, 12.1880, 12.1840, 11.9740, 12.1920,\n",
      "        12.3520, 12.4660, 12.3480, 12.4440, 12.5120, 12.7820, 12.4440, 12.6580,\n",
      "        12.5020, 12.9540, 12.4780, 12.5800, 12.8080, 12.5360, 12.5960, 13.0160,\n",
      "        12.5940, 12.7620, 12.6580, 12.7840, 12.5720, 13.0320, 13.0060, 12.8140,\n",
      "        12.9140, 13.0380, 13.4540, 13.1040, 12.9400, 13.1220, 13.1860, 12.9960,\n",
      "        13.1340, 13.4280, 13.3220, 13.0880, 13.3460, 13.3520, 13.3280, 13.2720,\n",
      "        13.3260, 13.7220, 13.4680, 13.5460, 13.4140, 13.5980, 13.4600, 13.5440,\n",
      "        13.5060, 13.6580, 13.4780, 13.6020, 13.6220, 13.6620, 13.3520, 13.6480,\n",
      "        13.6380, 13.5180, 13.5840, 13.6580, 13.7800, 13.7000, 13.9080, 13.7660,\n",
      "        13.9560, 13.8800, 14.0660, 13.9360, 13.9280, 13.8420, 14.0600, 14.0280,\n",
      "        13.8580, 13.8700, 13.9340, 14.0540, 14.0500, 13.9420, 14.0300, 14.0480,\n",
      "        14.1000, 14.0360, 14.1640, 14.0180, 14.1100, 14.2240, 14.1700, 14.2680,\n",
      "        14.2360, 14.4520, 14.3600, 14.1600, 14.2740, 14.4140, 14.3960, 14.3640,\n",
      "        14.4240, 14.3820, 14.4220, 14.3380, 14.4300, 14.4420, 14.3460, 14.2040,\n",
      "        14.2640, 14.3300, 14.3920, 14.2940, 14.2900, 14.3580, 14.3620, 14.4700,\n",
      "        14.3040, 14.3620, 14.4140, 14.4540, 14.4920, 14.5400, 14.5020, 14.4340,\n",
      "        14.5820, 14.5420, 14.4280, 14.4560, 14.4880, 14.3920, 14.4920, 14.4680,\n",
      "        14.4900, 14.3800, 14.3880, 14.3680, 14.4600, 14.5000, 14.4820, 14.4100,\n",
      "        14.4720, 14.4220, 14.4200, 14.4320, 14.4620, 14.5440, 14.4200, 14.4520,\n",
      "        14.5180, 14.4600, 14.5220, 14.5160, 14.4480, 14.5020, 14.4860, 14.5220,\n",
      "        14.5320, 14.5760, 14.4280, 14.4780, 14.5340, 14.4740, 14.4600, 14.5280,\n",
      "        14.4480, 14.5260, 14.5100, 14.4260, 14.4960, 14.5340, 14.5600, 14.4300,\n",
      "        14.5680, 14.5360, 14.5520, 14.4840, 14.4460, 14.5320, 14.4560, 14.4800,\n",
      "        14.5480, 14.5540, 14.5200, 14.4720, 14.5340, 14.4720, 14.4620, 14.5400,\n",
      "        14.5600, 14.5500, 14.5420, 14.5400, 14.5300, 14.5520, 14.5580, 14.5460,\n",
      "        14.5460, 14.5300, 14.5280, 14.5320, 14.5240, 14.5480, 14.5780, 14.5580])\n"
     ]
    }
   ],
   "source": [
    "total_all_sum = 0\n",
    "for i in all_preds:\n",
    "    total_all_sum += i\n",
    "print(total_all_sum.shape)\n",
    "print(total_all_sum / len(all_preds))\n",
    "\n",
    "print(all_preds2)\n",
    "total_all_sum2 = 0\n",
    "for i in all_preds2:\n",
    "    for x in i:\n",
    "        total_all_sum2 += x\n",
    "print(total_all_sum2.shape)\n",
    "print(total_all_sum2 / len(all_preds2))"
   ]
  },
  {
   "cell_type": "code",
   "execution_count": 123,
   "metadata": {},
   "outputs": [
    {
     "data": {
      "image/png": "[encoded data removed]",
      "text/plain": [
       "<Figure size 432x288 with 1 Axes>"
      ]
     },
     "metadata": {
      "needs_background": "light"
     },
     "output_type": "display_data"
    }
   ],
   "source": [
    "\n",
    "# Example AUC calculation and printing code\n",
    "from scipy.special import softmax\n",
    "y_aucs = np.random.randint(0, 2, size=2000)\n",
    "y_preds_auc = softmax(y_aucs + np.random.uniform(-1,1, size=2000))\n",
    "# y_aucs =      [1,1,1,1,1,1,1,1,0,0]\n",
    "# y_preds_auc = [0,.1,.1,.1,.1,.1,.1,.1,.1,0]\n",
    "roc_auc_score_testing = roc_auc_score(y_aucs, y_preds_auc)\n",
    "fpr, tpr, thresholds = roc_curve(y_aucs, y_preds_auc)\n",
    "plt.figure()\n",
    "lw = 2\n",
    "# print(fpr)\n",
    "plt.plot(\n",
    "    fpr,\n",
    "    tpr,\n",
    "    color=\"orange\",\n",
    "    lw=lw,\n",
    "    label=\"ROC curve (area = %0.2f)\" % roc_auc_score_testing,\n",
    ")\n",
    "plt.plot([0, 1], [0, 1], color=\"navy\", lw=lw, linestyle=\"--\")\n",
    "plt.xlim([0.0, 1.0])\n",
    "plt.ylim([0.0, 1.05])\n",
    "plt.xlabel(\"False Positive Rate\")\n",
    "plt.ylabel(\"True Positive Rate\")\n",
    "plt.title(\"Receiver operating characteristic example\")\n",
    "plt.legend(loc=\"lower right\")\n",
    "plt.show()"
   ]
  },
  {
   "cell_type": "code",
   "execution_count": 131,
   "metadata": {},
   "outputs": [
    {
     "name": "stdout",
     "output_type": "stream",
     "text": [
      "shape of all_tests is torch.Size([64, 256])\n"
     ]
    }
   ],
   "source": [
    "new_test_1 = torch.rand(size=(16, 256))\n",
    "new_test_2 = torch.rand(size=(16, 256))\n",
    "new_test_5 = torch.rand(size=(16, 256))\n",
    "new_test_6 = torch.rand(size=(16, 256))\n",
    "lst_all_tests = [new_test_1, new_test_2, new_test_5, new_test_6]\n",
    "\n",
    "for i in range(4):\n",
    "  if i == 0:\n",
    "    all_tests = new_test_1\n",
    "  else:\n",
    "    all_tests = torch.cat((lst_all_tests[i], all_tests), dim=0)\n",
    "\n",
    "print(f\"shape of all_tests is {all_tests.shape}\")"
   ]
  },
  {
   "cell_type": "markdown",
   "metadata": {},
   "source": [
    "# Train transfomer"
   ]
  },
  {
   "cell_type": "code",
   "execution_count": 137,
   "metadata": {
    "colab": {
     "base_uri": "https://localhost:8080/",
     "height": 630
    },
    "id": "GgQrXXdHzdqB",
    "outputId": "6c58fc40-dec0-4d0a-9a29-a8cf259e910f"
   },
   "outputs": [
    {
     "name": "stdout",
     "output_type": "stream",
     "text": [
      "cpu\n"
     ]
    },
    {
     "name": "stderr",
     "output_type": "stream",
     "text": [
      "100%|██████████| 138/138 [00:11<00:00, 12.24it/s]\n"
     ]
    },
    {
     "name": "stdout",
     "output_type": "stream",
     "text": [
      "evaluation acc of train: 0.5525316698411075, loss: 0.001226489726903103, auc: 0.7416457842311016\n",
      "evaluation acc of valid: 0.6140934133036611, loss: 0.0016039482121015353, auc: 0.7643769698043269\n"
     ]
    },
    {
     "name": "stderr",
     "output_type": "stream",
     "text": [
      "100%|██████████| 138/138 [00:10<00:00, 13.52it/s]\n"
     ]
    },
    {
     "name": "stdout",
     "output_type": "stream",
     "text": [
      "evaluation acc of train: 0.5746334479540836, loss: 0.0012025569743612417, auc: 0.8326221856126834\n",
      "evaluation acc of valid: 0.6370803593236899, loss: 0.0015794122258380693, auc: 0.8663968554293524\n"
     ]
    },
    {
     "name": "stderr",
     "output_type": "stream",
     "text": [
      "100%|██████████| 138/138 [00:10<00:00, 13.52it/s]\n"
     ]
    },
    {
     "name": "stdout",
     "output_type": "stream",
     "text": [
      "evaluation acc of train: 0.5808971097674775, loss: 0.0011931813841871521, auc: 0.8484033758761678\n",
      "evaluation acc of valid: 0.6380709420034195, loss: 0.001570163140338512, auc: 0.8776490674694949\n"
     ]
    },
    {
     "name": "stderr",
     "output_type": "stream",
     "text": [
      "100%|██████████| 138/138 [00:11<00:00, 12.43it/s]\n"
     ]
    }
   ],
   "source": [
    "def evaluate(transformer_model,t_valid_x, t_valid_y , loss_mask_valid, name_data = \"\"):\n",
    "    transformer_model.eval()\n",
    "    with torch.no_grad():\n",
    "      acc = 0\n",
    "      count = 0\n",
    "      acc_total = 0\n",
    "      loss_total = 0\n",
    "      num_batches = t_valid_x.shape[0]\n",
    "      for batch in range(num_batches):\n",
    "\n",
    "          src = t_valid_x[batch,:,:,:].to(device).float()\n",
    "          tgt = t_valid_y[batch] + 0\n",
    "          loss_mask_batch = loss_mask_valid[batch, :, :]\n",
    "          out = transformer_model(src)\n",
    "          out = torch.sigmoid(out).squeeze(-1)\n",
    "          if batch == 0: \n",
    "            # initialize objects to keep track of auc\n",
    "            all_outs = out\n",
    "            all_tgts = tgt\n",
    "          else:\n",
    "            # cat along the rows dimension = 0 since each row is an example.\n",
    "            all_outs = torch.cat((all_outs, out), dim=0) \n",
    "            all_tgts = torch.cat((all_tgts, tgt), dim=0)\n",
    "  \n",
    "          prediction = out>0.5\n",
    "          acc = torch.sum((tgt== prediction) *(loss_mask_batch))\n",
    "          loss = torch.sum((-tgt*torch.log(out) -(1-tgt)*torch.log(1-out))*loss_mask_batch)/torch.sum(loss_mask_batch)\n",
    "          loss_total += loss\n",
    "          acc_total += acc\n",
    "          count+= torch.sum(loss_mask_batch)\n",
    "      roc_auc_total = roc_auc_score(all_tgts, all_outs)\n",
    "      print(\"evaluation acc of {}: {}, loss: {}, auc: {}\".format(name_data, acc_total/count, loss_total / count, roc_auc_total))\n",
    "    return acc_total/count, loss_total / count, roc_auc_total / num_batches\n",
    "\n",
    "\n",
    "device = torch.device(\"cuda:0\" if torch.cuda.is_available() else \"cpu\")\n",
    "print(device)\n",
    "num_batches = t_train_x.shape[0]\n",
    "transformer_model = TransformerModel(d_model = 10, n_heads=2, n_encoder_layers=3, dropout = 0.1)\n",
    "optim = torch.optim.Adam(transformer_model.parameters(), lr=0.001)\n",
    "transformer_model.train()\n",
    "num_batches = t_train_x.shape[0]\n",
    "num_epochs = 8\n",
    "log_interval = 10\n",
    "total_loss = 0\n",
    "plot_loss= []\n",
    "plot_acc= []\n",
    "# plot_roc_aucs = []\n",
    "train_losses = []\n",
    "train_accs = []\n",
    "valid_losses = []\n",
    "valid_accs = []\n",
    "train_roc_aucs = []\n",
    "valid_roc_aucs = []\n",
    "for epoch in range(num_epochs):\n",
    "    for batch in tqdm(range(num_batches)):\n",
    "      optim.zero_grad()\n",
    "      src = t_train_x[batch,:,:,:].to(device).float()\n",
    "      tgt = t_train_y[batch] + 0\n",
    "      loss_mask_batch = loss_mask_train[batch, :, :]\n",
    "      out = transformer_model(src)\n",
    "      out = torch.sigmoid(out).squeeze(-1)\n",
    "      prediction = out>0.5\n",
    "      # plot_roc_aucs.append(roc_auc_score(out, tgt)) # I guess I can't use numpy in here since there's no gradient?\n",
    "      acc = torch.sum((tgt== prediction) *(loss_mask_batch)) /torch.sum(loss_mask_batch)\n",
    "      plot_acc.append(acc)\n",
    "      loss = torch.sum((-tgt*torch.log(out) -(1-tgt)*torch.log(1-out))*loss_mask_batch)/torch.sum(loss_mask_batch)\n",
    "      loss.backward()\n",
    "      optim.step()\n",
    "    train_acc, train_loss, train_auc = evaluate(transformer_model, t_train_x,  t_train_y, loss_mask_train, \"train\")\n",
    "    valid_acc, valid_loss, valid_auc = evaluate(transformer_model, t_valid_x,  t_valid_y, loss_mask_valid, \"valid\")\n",
    "    train_losses.append(train_loss.item())\n",
    "    train_accs.append(train_acc*100) \n",
    "    valid_losses.append(valid_loss)\n",
    "    valid_accs.append(valid_acc*100)\n",
    "    train_roc_aucs.append(train_auc)\n",
    "    valid_roc_aucs.append(valid_auc)\n"
   ]
  },
  {
   "cell_type": "code",
   "execution_count": 136,
   "metadata": {
    "colab": {
     "base_uri": "https://localhost:8080/"
    },
    "id": "zvryR-IUD21W",
    "outputId": "de520071-d476-4b5e-ade7-95c6c4778d51"
   },
   "outputs": [
    {
     "data": {
      "image/png": "[encoded data removed]",
      "text/plain": [
       "<Figure size 432x288 with 1 Axes>"
      ]
     },
     "metadata": {
      "needs_background": "light"
     },
     "output_type": "display_data"
    },
    {
     "data": {
      "image/png": "[encoded data removed]",
      "text/plain": [
       "<Figure size 432x288 with 1 Axes>"
      ]
     },
     "metadata": {
      "needs_background": "light"
     },
     "output_type": "display_data"
    },
    {
     "data": {
      "image/png": "[encoded data removed]",
      "text/plain": [
       "<Figure size 432x288 with 1 Axes>"
      ]
     },
     "metadata": {
      "needs_background": "light"
     },
     "output_type": "display_data"
    }
   ],
   "source": [
    "plt.plot(train_losses, label = \"train\")\n",
    "plt.plot(valid_losses, label = \"valid\")\n",
    "plt.title('Cross Entropy Loss')\n",
    "plt.xlabel('# Epochs')\n",
    "plt.ylabel('loss')\n",
    "plt.legend()\n",
    "plt.show()\n",
    "plt.plot(train_accs,  label = \"train\")\n",
    "plt.plot(valid_accs,  label = \"valid\")\n",
    "plt.title('Accuracy')\n",
    "plt.xlabel('# Epochs')\n",
    "plt.ylabel('% Accuracy')\n",
    "plt.legend()\n",
    "plt.show()\n",
    "plt.plot(train_roc_aucs,  label = \"train\")\n",
    "plt.plot(valid_roc_aucs,  label = \"valid\")\n",
    "plt.title('ROC_AUC')\n",
    "plt.xlabel('# Epochs')\n",
    "plt.ylabel('% Accuracy')\n",
    "plt.legend()\n",
    "plt.show()"
   ]
  },
  {
   "cell_type": "code",
   "execution_count": null,
   "metadata": {
    "id": "0qHSo2iZgxhz"
   },
   "outputs": [],
   "source": []
  }
 ],
 "metadata": {
  "accelerator": "GPU",
  "colab": {
   "name": "Transformer.ipynb",
   "provenance": []
  },
  "kernelspec": {
   "display_name": "cs131k",
   "language": "python",
   "name": "cs131k"
  },
  "language_info": {
   "codemirror_mode": {
    "name": "ipython",
    "version": 3
   },
   "file_extension": ".py",
   "mimetype": "text/x-python",
   "name": "python",
   "nbconvert_exporter": "python",
   "pygments_lexer": "ipython3",
   "version": "3.9.6"
  }
 },
 "nbformat": 4,
 "nbformat_minor": 1
}

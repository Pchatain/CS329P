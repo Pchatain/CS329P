{
 "cells": [
  {
   "cell_type": "code",
   "execution_count": 172,
   "metadata": {
    "colab": {
     "base_uri": "https://localhost:8080/"
    },
    "id": "gUal4vKaoZy6",
    "outputId": "facd8871-0a90-46a5-9b35-78865cbcab80"
   },
   "outputs": [
    {
     "name": "stdout",
     "output_type": "stream",
     "text": [
      "/Users/wenxindong/Desktop/Stanford/CS329P/project/riiid-test-answer-prediction\n",
      "\u001b[34mAutogluonModels\u001b[m\u001b[m/                       cv1_valid.pickle.zip\n",
      "cv1_train.pickle                       cv1_valid_100k.pickle\n",
      "cv1_train.pickle.zip                   example_sample_submission.csv\n",
      "cv1_train_10000k.pickle                example_test.csv\n",
      "cv1_train_10000k_preprocessed.pickle   lectures.csv\n",
      "cv1_train_1000k.pickle                 questions.csv\n",
      "cv1_train_1000k_preprocessed.pickle    riiid-test-answer-prediction.zip\n",
      "cv1_train_100k.pickle                  \u001b[34mriiideducation\u001b[m\u001b[m/\n",
      "cv1_train_100k_preprocessed.pickle     test_4920_users.pickle\n",
      "cv1_train_preprocessed.pickle          test_4920_users_preprocessed.pickle\n",
      "cv1_val_100k_preprocessed.pickle       train.csv\n",
      "cv1_val_10k.pickle                     train_39360_users.pickle\n",
      "cv1_val_10k_preprocessed.pickle        train_39360_users_preprocessed.pickle\n",
      "cv1_val_preprocessed.pickle            valid_4920_users.pickle\n",
      "cv1_valid.pickle                       valid_4920_users_preprocessed.pickle\n",
      "cpu\n"
     ]
    }
   ],
   "source": [
    "import os\n",
    "import math\n",
    "import random\n",
    "import numpy as np\n",
    "import pandas as pd\n",
    "from collections import defaultdict\n",
    "import torch\n",
    "import seaborn as sns\n",
    "import matplotlib.pyplot as plt\n",
    "import gc\n",
    "from sklearn import tree\n",
    "from sklearn.tree import DecisionTreeClassifier\n",
    "from sklearn.metrics import roc_auc_score, log_loss, confusion_matrix, accuracy_score, roc_auc_score, roc_curve\n",
    "from torch import nn\n",
    "import sys\n",
    "%cd /Users/wenxindong/Desktop/Stanford/CS329P/project/riiid-test-answer-prediction\n",
    "# %cd /Users/peterchatain/Documents/Classes/CS329P/project/riiid-test-answer-prediction\n",
    "%ls\n",
    "\n",
    "device = torch.device(\"cuda:0\" if torch.cuda.is_available() else \"cpu\")\n",
    "print(device)\n"
   ]
  },
  {
   "cell_type": "code",
   "execution_count": 221,
   "metadata": {
    "id": "Bj0XPTCHpGoe"
   },
   "outputs": [
    {
     "name": "stdout",
     "output_type": "stream",
     "text": [
      "there are 10091411 raw examples\n",
      "after dropping lectures, there are 9897114 examples\n",
      "there are 1293123 raw examples\n",
      "after dropping lectures, there are 1267253 examples\n",
      "there are 1214915 raw examples\n",
      "after dropping lectures, there are 1191168 examples\n"
     ]
    }
   ],
   "source": [
    "train_path = \"train_39360_users.pickle\"\n",
    "valid_path = \"valid_4920_users.pickle\"\n",
    "test_path = \"test_4920_users.pickle\"\n",
    "question_path = \"questions.csv\"\n",
    "lecture_path = \"lectures.csv\"\n",
    "train = pd.read_pickle(train_path)\n",
    "valid = pd.read_pickle(valid_path)\n",
    "test = pd.read_pickle(test_path)\n",
    "questions =  pd.read_csv(question_path)\n",
    "lectures =  pd.read_csv(lecture_path)\n",
    "\n",
    "def clean_df(train, is_valid = False, train_mean = 0, train_std = 0):\n",
    "  print(f\"there are {len(train)} raw examples\")\n",
    "  train = train.sort_values(['user_id', 'timestamp']).reset_index(drop=True)\n",
    "  train = train.drop(np.where(train['content_type_id'] == 1)[0], axis=0).reset_index(drop=True)\n",
    "  print(f\"after dropping lectures, there are {len(train)} examples\")\n",
    "  train['part'] = np.array(questions['part'])[np.array(train['content_id'])]\n",
    "  train = pd.concat([train, pd.get_dummies(train.part, prefix='part')], axis = 1)\n",
    "  train = train.drop([\"row_id\", \"task_container_id\", \"part\"], axis=1)\n",
    "  normalize_cols = [\"prior_question_elapsed_time\"]\n",
    "  if not is_valid:\n",
    "    train_mean = train[normalize_cols].mean()\n",
    "    train_std = train[normalize_cols].std()\n",
    "  train[normalize_cols] = (train[normalize_cols] - train_mean) / train_std\n",
    "  train = train.fillna(0)\n",
    "  return train, train_mean, train_std\n",
    "train, train_mean, train_std = clean_df(train)\n",
    "valid ,_, _ = clean_df(valid, is_valid = True, train_mean = train_mean, train_std = train_std)\n",
    "test ,_, _ = clean_df(test, is_valid = True, train_mean = train_mean, train_std = train_std)\n"
   ]
  },
  {
   "cell_type": "code",
   "execution_count": 222,
   "metadata": {},
   "outputs": [
    {
     "name": "stdout",
     "output_type": "stream",
     "text": [
      "mu = 0.6583242347213542, sigma = 0.47427147995625624\n",
      "mu = 0.6581132575736652, sigma = 0.4743418575030502\n",
      "mu = 0.6543661347517731, sigma = 0.4755744909494174\n"
     ]
    }
   ],
   "source": [
    "def add_prior_answered_correctly(train):\n",
    "    \n",
    "    mapmap_train = np.unique(train[\"user_id\"], return_counts = True)[1]\n",
    "    mu = np.mean(train['answered_correctly'])\n",
    "    sigma = np.std(train['answered_correctly'])\n",
    "    train['prior_answered_correctly'] = (train['answered_correctly'] - mu) / sigma\n",
    "\n",
    "    temp = np.append(0, train['prior_answered_correctly'][0:-1])\n",
    "    temp[np.cumsum(mapmap_train)[:-1]] = 0\n",
    "    train['prior_answered_correctly']= temp\n",
    "    train['prior_answered_correctly'] = (train['prior_answered_correctly']>0) + 0\n",
    "    print(f\"mu = {mu}, sigma = {sigma}\")\n",
    "\n",
    "    return train\n",
    "\n",
    "train = add_prior_answered_correctly(train)\n",
    "valid = add_prior_answered_correctly(valid)\n",
    "test = add_prior_answered_correctly(test)"
   ]
  },
  {
   "cell_type": "code",
   "execution_count": 223,
   "metadata": {},
   "outputs": [
    {
     "data": {
      "text/html": [
       "<div>\n",
       "<style scoped>\n",
       "    .dataframe tbody tr th:only-of-type {\n",
       "        vertical-align: middle;\n",
       "    }\n",
       "\n",
       "    .dataframe tbody tr th {\n",
       "        vertical-align: top;\n",
       "    }\n",
       "\n",
       "    .dataframe thead th {\n",
       "        text-align: right;\n",
       "    }\n",
       "</style>\n",
       "<table border=\"1\" class=\"dataframe\">\n",
       "  <thead>\n",
       "    <tr style=\"text-align: right;\">\n",
       "      <th></th>\n",
       "      <th>timestamp</th>\n",
       "      <th>user_id</th>\n",
       "      <th>content_id</th>\n",
       "      <th>content_type_id</th>\n",
       "      <th>user_answer</th>\n",
       "      <th>answered_correctly</th>\n",
       "      <th>prior_question_elapsed_time</th>\n",
       "      <th>prior_question_had_explanation</th>\n",
       "      <th>part_1</th>\n",
       "      <th>part_2</th>\n",
       "      <th>part_3</th>\n",
       "      <th>part_4</th>\n",
       "      <th>part_5</th>\n",
       "      <th>part_6</th>\n",
       "      <th>part_7</th>\n",
       "      <th>prior_answered_correctly</th>\n",
       "    </tr>\n",
       "  </thead>\n",
       "  <tbody>\n",
       "    <tr>\n",
       "      <th>0</th>\n",
       "      <td>0</td>\n",
       "      <td>251201</td>\n",
       "      <td>7900</td>\n",
       "      <td>0</td>\n",
       "      <td>2</td>\n",
       "      <td>0</td>\n",
       "      <td>0.000000</td>\n",
       "      <td>0</td>\n",
       "      <td>1</td>\n",
       "      <td>0</td>\n",
       "      <td>0</td>\n",
       "      <td>0</td>\n",
       "      <td>0</td>\n",
       "      <td>0</td>\n",
       "      <td>0</td>\n",
       "      <td>0</td>\n",
       "    </tr>\n",
       "    <tr>\n",
       "      <th>1</th>\n",
       "      <td>24821</td>\n",
       "      <td>251201</td>\n",
       "      <td>7876</td>\n",
       "      <td>0</td>\n",
       "      <td>2</td>\n",
       "      <td>0</td>\n",
       "      <td>0.180105</td>\n",
       "      <td>False</td>\n",
       "      <td>1</td>\n",
       "      <td>0</td>\n",
       "      <td>0</td>\n",
       "      <td>0</td>\n",
       "      <td>0</td>\n",
       "      <td>0</td>\n",
       "      <td>0</td>\n",
       "      <td>0</td>\n",
       "    </tr>\n",
       "    <tr>\n",
       "      <th>2</th>\n",
       "      <td>48790</td>\n",
       "      <td>251201</td>\n",
       "      <td>175</td>\n",
       "      <td>0</td>\n",
       "      <td>0</td>\n",
       "      <td>0</td>\n",
       "      <td>-0.168350</td>\n",
       "      <td>False</td>\n",
       "      <td>1</td>\n",
       "      <td>0</td>\n",
       "      <td>0</td>\n",
       "      <td>0</td>\n",
       "      <td>0</td>\n",
       "      <td>0</td>\n",
       "      <td>0</td>\n",
       "      <td>0</td>\n",
       "    </tr>\n",
       "    <tr>\n",
       "      <th>3</th>\n",
       "      <td>69151</td>\n",
       "      <td>251201</td>\n",
       "      <td>1278</td>\n",
       "      <td>0</td>\n",
       "      <td>1</td>\n",
       "      <td>0</td>\n",
       "      <td>-0.168350</td>\n",
       "      <td>False</td>\n",
       "      <td>0</td>\n",
       "      <td>1</td>\n",
       "      <td>0</td>\n",
       "      <td>0</td>\n",
       "      <td>0</td>\n",
       "      <td>0</td>\n",
       "      <td>0</td>\n",
       "      <td>0</td>\n",
       "    </tr>\n",
       "    <tr>\n",
       "      <th>4</th>\n",
       "      <td>176087</td>\n",
       "      <td>251201</td>\n",
       "      <td>2063</td>\n",
       "      <td>0</td>\n",
       "      <td>3</td>\n",
       "      <td>0</td>\n",
       "      <td>-0.367467</td>\n",
       "      <td>False</td>\n",
       "      <td>0</td>\n",
       "      <td>0</td>\n",
       "      <td>1</td>\n",
       "      <td>0</td>\n",
       "      <td>0</td>\n",
       "      <td>0</td>\n",
       "      <td>0</td>\n",
       "      <td>0</td>\n",
       "    </tr>\n",
       "    <tr>\n",
       "      <th>...</th>\n",
       "      <td>...</td>\n",
       "      <td>...</td>\n",
       "      <td>...</td>\n",
       "      <td>...</td>\n",
       "      <td>...</td>\n",
       "      <td>...</td>\n",
       "      <td>...</td>\n",
       "      <td>...</td>\n",
       "      <td>...</td>\n",
       "      <td>...</td>\n",
       "      <td>...</td>\n",
       "      <td>...</td>\n",
       "      <td>...</td>\n",
       "      <td>...</td>\n",
       "      <td>...</td>\n",
       "      <td>...</td>\n",
       "    </tr>\n",
       "    <tr>\n",
       "      <th>9897109</th>\n",
       "      <td>553295</td>\n",
       "      <td>2147406199</td>\n",
       "      <td>6880</td>\n",
       "      <td>0</td>\n",
       "      <td>1</td>\n",
       "      <td>0</td>\n",
       "      <td>-0.815481</td>\n",
       "      <td>False</td>\n",
       "      <td>0</td>\n",
       "      <td>0</td>\n",
       "      <td>0</td>\n",
       "      <td>0</td>\n",
       "      <td>0</td>\n",
       "      <td>1</td>\n",
       "      <td>0</td>\n",
       "      <td>0</td>\n",
       "    </tr>\n",
       "    <tr>\n",
       "      <th>9897110</th>\n",
       "      <td>638029</td>\n",
       "      <td>2147406199</td>\n",
       "      <td>7218</td>\n",
       "      <td>0</td>\n",
       "      <td>2</td>\n",
       "      <td>1</td>\n",
       "      <td>0.852126</td>\n",
       "      <td>False</td>\n",
       "      <td>0</td>\n",
       "      <td>0</td>\n",
       "      <td>0</td>\n",
       "      <td>0</td>\n",
       "      <td>0</td>\n",
       "      <td>0</td>\n",
       "      <td>1</td>\n",
       "      <td>0</td>\n",
       "    </tr>\n",
       "    <tr>\n",
       "      <th>9897111</th>\n",
       "      <td>638029</td>\n",
       "      <td>2147406199</td>\n",
       "      <td>7216</td>\n",
       "      <td>0</td>\n",
       "      <td>0</td>\n",
       "      <td>0</td>\n",
       "      <td>0.852126</td>\n",
       "      <td>False</td>\n",
       "      <td>0</td>\n",
       "      <td>0</td>\n",
       "      <td>0</td>\n",
       "      <td>0</td>\n",
       "      <td>0</td>\n",
       "      <td>0</td>\n",
       "      <td>1</td>\n",
       "      <td>1</td>\n",
       "    </tr>\n",
       "    <tr>\n",
       "      <th>9897112</th>\n",
       "      <td>638029</td>\n",
       "      <td>2147406199</td>\n",
       "      <td>7217</td>\n",
       "      <td>0</td>\n",
       "      <td>0</td>\n",
       "      <td>0</td>\n",
       "      <td>0.852126</td>\n",
       "      <td>False</td>\n",
       "      <td>0</td>\n",
       "      <td>0</td>\n",
       "      <td>0</td>\n",
       "      <td>0</td>\n",
       "      <td>0</td>\n",
       "      <td>0</td>\n",
       "      <td>1</td>\n",
       "      <td>0</td>\n",
       "    </tr>\n",
       "    <tr>\n",
       "      <th>9897113</th>\n",
       "      <td>638029</td>\n",
       "      <td>2147406199</td>\n",
       "      <td>7219</td>\n",
       "      <td>0</td>\n",
       "      <td>1</td>\n",
       "      <td>0</td>\n",
       "      <td>0.852126</td>\n",
       "      <td>False</td>\n",
       "      <td>0</td>\n",
       "      <td>0</td>\n",
       "      <td>0</td>\n",
       "      <td>0</td>\n",
       "      <td>0</td>\n",
       "      <td>0</td>\n",
       "      <td>1</td>\n",
       "      <td>0</td>\n",
       "    </tr>\n",
       "  </tbody>\n",
       "</table>\n",
       "<p>9897114 rows × 16 columns</p>\n",
       "</div>"
      ],
      "text/plain": [
       "         timestamp     user_id  content_id  content_type_id  user_answer  \\\n",
       "0                0      251201        7900                0            2   \n",
       "1            24821      251201        7876                0            2   \n",
       "2            48790      251201         175                0            0   \n",
       "3            69151      251201        1278                0            1   \n",
       "4           176087      251201        2063                0            3   \n",
       "...            ...         ...         ...              ...          ...   \n",
       "9897109     553295  2147406199        6880                0            1   \n",
       "9897110     638029  2147406199        7218                0            2   \n",
       "9897111     638029  2147406199        7216                0            0   \n",
       "9897112     638029  2147406199        7217                0            0   \n",
       "9897113     638029  2147406199        7219                0            1   \n",
       "\n",
       "         answered_correctly  prior_question_elapsed_time  \\\n",
       "0                         0                     0.000000   \n",
       "1                         0                     0.180105   \n",
       "2                         0                    -0.168350   \n",
       "3                         0                    -0.168350   \n",
       "4                         0                    -0.367467   \n",
       "...                     ...                          ...   \n",
       "9897109                   0                    -0.815481   \n",
       "9897110                   1                     0.852126   \n",
       "9897111                   0                     0.852126   \n",
       "9897112                   0                     0.852126   \n",
       "9897113                   0                     0.852126   \n",
       "\n",
       "        prior_question_had_explanation  part_1  part_2  part_3  part_4  \\\n",
       "0                                    0       1       0       0       0   \n",
       "1                                False       1       0       0       0   \n",
       "2                                False       1       0       0       0   \n",
       "3                                False       0       1       0       0   \n",
       "4                                False       0       0       1       0   \n",
       "...                                ...     ...     ...     ...     ...   \n",
       "9897109                          False       0       0       0       0   \n",
       "9897110                          False       0       0       0       0   \n",
       "9897111                          False       0       0       0       0   \n",
       "9897112                          False       0       0       0       0   \n",
       "9897113                          False       0       0       0       0   \n",
       "\n",
       "         part_5  part_6  part_7  prior_answered_correctly  \n",
       "0             0       0       0                         0  \n",
       "1             0       0       0                         0  \n",
       "2             0       0       0                         0  \n",
       "3             0       0       0                         0  \n",
       "4             0       0       0                         0  \n",
       "...         ...     ...     ...                       ...  \n",
       "9897109       0       1       0                         0  \n",
       "9897110       0       0       1                         0  \n",
       "9897111       0       0       1                         1  \n",
       "9897112       0       0       1                         0  \n",
       "9897113       0       0       1                         0  \n",
       "\n",
       "[9897114 rows x 16 columns]"
      ]
     },
     "execution_count": 223,
     "metadata": {},
     "output_type": "execute_result"
    }
   ],
   "source": [
    "train"
   ]
  },
  {
   "cell_type": "code",
   "execution_count": 224,
   "metadata": {},
   "outputs": [
    {
     "name": "stdout",
     "output_type": "stream",
     "text": [
      "train (9897114, 16)\n",
      "valid (1267253, 16)\n",
      "test  (1191168, 16)\n"
     ]
    }
   ],
   "source": [
    "print(\"train\", train.shape)\n",
    "print(\"valid\", valid.shape)\n",
    "print(\"test \", test.shape)"
   ]
  },
  {
   "cell_type": "code",
   "execution_count": 225,
   "metadata": {},
   "outputs": [
    {
     "name": "stderr",
     "output_type": "stream",
     "text": [
      "39360it [00:39, 1008.39it/s]\n",
      "4920it [00:02, 2106.56it/s]\n",
      "4920it [00:02, 2223.26it/s]\n"
     ]
    }
   ],
   "source": [
    "from tqdm import tqdm\n",
    "\n",
    "WINDOW_LENGTH = 256\n",
    "FEATURE_DIM = train.shape[1]\n",
    "\n",
    "def add_window_padding(train):\n",
    "    train_padded = list()\n",
    "    loss_mask = list()\n",
    "    mapmap = np.unique(train['user_id'], return_counts=True)[1]\n",
    "    lower = np.cumsum(mapmap)\n",
    "    start = 0\n",
    "    for l, m in tqdm(zip(lower, mapmap)):\n",
    "        someee = (((l-start-1)//WINDOW_LENGTH)+1)*WINDOW_LENGTH\n",
    "        end_index = start + someee\n",
    "        padded = end_index - l\n",
    "        temp = np.zeros((1, someee, FEATURE_DIM))\n",
    "        mask = np.zeros((1, someee))\n",
    "        temp[:,:l-start] = np.array(train.iloc[start:l], dtype = np.float)\n",
    "        mask[:, :l-start] =1\n",
    "        temp = np.reshape(temp, (-1,WINDOW_LENGTH,FEATURE_DIM))\n",
    "        mask = np.reshape(mask, (-1, WINDOW_LENGTH))\n",
    "        #Append\n",
    "        train_padded.append(temp)\n",
    "        loss_mask.append(mask)\n",
    "        #Update start\n",
    "        start = l\n",
    "    train_padded = np.vstack(train_padded)\n",
    "    train_padded = torch.from_numpy(train_padded).to(device)\n",
    "    loss_mask = np.vstack(loss_mask)\n",
    "    loss_mask = torch.from_numpy(loss_mask).to(device)\n",
    "    return train_padded, mapmap, loss_mask\n",
    "\n",
    "train_padded, mapmap_train, loss_mask_train = add_window_padding(train)\n",
    "valid_padded, mapmap_valid, loss_mask_valid= add_window_padding(valid)\n",
    "test_padded, mapmap_test, loss_mask_test= add_window_padding(test)"
   ]
  },
  {
   "cell_type": "code",
   "execution_count": 226,
   "metadata": {
    "colab": {
     "base_uri": "https://localhost:8080/"
    },
    "id": "u18JEIF1zKu4",
    "outputId": "028adc8b-ad43-4922-affd-ef84c16b75a7"
   },
   "outputs": [
    {
     "name": "stdout",
     "output_type": "stream",
     "text": [
      "torch.Size([67639, 256, 1])\n",
      "torch.Size([67639, 256, 10])\n",
      "torch.Size([67639, 256])\n",
      "torch.Size([8580, 256, 1])\n",
      "torch.Size([8580, 256, 10])\n",
      "torch.Size([8580, 256])\n",
      "torch.Size([8287, 256, 1])\n",
      "torch.Size([8287, 256, 10])\n",
      "torch.Size([8287, 256])\n"
     ]
    }
   ],
   "source": [
    "label_idx = list(train.columns).index(\"answered_correctly\")\n",
    "t_train_y =train_padded[:,:,label_idx:label_idx+1] > 0 \n",
    "t_train_x = train_padded[:,:,label_idx+1:]\n",
    "print(t_train_y.shape)\n",
    "print(t_train_x.shape)\n",
    "print(loss_mask_train.shape)\n",
    "\n",
    "t_valid_y =valid_padded[:,:,label_idx:label_idx+1] > 0\n",
    "t_valid_x = valid_padded[:,:,label_idx+1:]\n",
    "print(t_valid_y.shape)\n",
    "print(t_valid_x.shape)\n",
    "print(loss_mask_valid.shape)\n",
    "\n",
    "t_test_y =test_padded[:,:,label_idx:label_idx+1] > 0\n",
    "t_test_x = test_padded[:,:,label_idx+1:]\n",
    "print(t_test_y.shape)\n",
    "print(t_test_x.shape)\n",
    "print(loss_mask_test.shape)"
   ]
  },
  {
   "cell_type": "code",
   "execution_count": 227,
   "metadata": {
    "colab": {
     "base_uri": "https://localhost:8080/"
    },
    "id": "mK5kKetd-nT8",
    "outputId": "744297e0-29c2-486e-9c84-7a506ca4c909"
   },
   "outputs": [
    {
     "name": "stdout",
     "output_type": "stream",
     "text": [
      "torch.Size([4226, 16, 256, 10])\n",
      "torch.Size([4226, 16, 256])\n",
      "torch.Size([4226, 16, 256])\n",
      "torch.Size([535, 16, 256, 10])\n",
      "torch.Size([535, 16, 256])\n",
      "torch.Size([535, 16, 256])\n",
      "torch.Size([516, 16, 256, 10])\n",
      "torch.Size([516, 16, 256])\n",
      "torch.Size([516, 16, 256])\n"
     ]
    }
   ],
   "source": [
    "batch_size = 16\n",
    "\n",
    "def batchify(t_train_x, t_train_y, loss_mask_train, batch_size):\n",
    "  \n",
    "  total = (t_train_y.shape[0]//batch_size-1)*batch_size\n",
    "  t_train_y = t_train_y[:total]\n",
    "  t_train_x = t_train_x[:total, :, :] \n",
    "  loss_mask_train = loss_mask_train[:total,:]\n",
    "  num_batches = int(t_train_y.shape[0] / batch_size)\n",
    "  t_train_x = t_train_x.reshape(num_batches, batch_size, WINDOW_LENGTH, 10)\n",
    "  t_train_y = t_train_y.reshape(num_batches,batch_size, -1)\n",
    "  loss_mask_train = loss_mask_train.reshape(num_batches, batch_size, -1)\n",
    "  print(t_train_x.shape)\n",
    "  print(t_train_y.shape)\n",
    "  print(loss_mask_train.shape)\n",
    "  return t_train_x, t_train_y, loss_mask_train\n",
    "t_train_x, t_train_y , loss_mask_train=  batchify(t_train_x, t_train_y, loss_mask_train, batch_size)\n",
    "t_valid_x, t_valid_y , loss_mask_valid=  batchify(t_valid_x, t_valid_y, loss_mask_valid,batch_size)\n",
    "t_test_x, t_test_y , loss_mask_test=  batchify(t_test_x, t_test_y, loss_mask_test,batch_size)"
   ]
  },
  {
   "cell_type": "code",
   "execution_count": 228,
   "metadata": {},
   "outputs": [],
   "source": [
    "class PositionalEncoding(nn.Module):\n",
    "\n",
    "    def __init__(self, d_model: int = 9, dropout: float = 0.1, max_len: int = 512):\n",
    "        super().__init__()\n",
    "        self.dropout = nn.Dropout(p=dropout)\n",
    "\n",
    "        position = torch.arange(max_len).unsqueeze(1)\n",
    "        div_term = torch.exp(torch.arange(0, d_model, 2) * (-math.log(10000.0) / d_model))\n",
    "        pe = torch.zeros(max_len, 1, d_model)\n",
    "        pe[:, 0, 0::2] = torch.sin(position * div_term)\n",
    "        pe[:, 0, 1::2] = torch.cos(position * div_term)\n",
    "        self.register_buffer('pe', pe)\n",
    "\n",
    "    def forward(self, x):\n",
    "        \"\"\"\n",
    "        Args:\n",
    "            x: Tensor, shape [seq_len, batch_size, embedding_dim]\n",
    "        \"\"\"\n",
    "        x = x.permute(1, 0, 2) + self.pe[:x.size(1)]\n",
    "        x = x.permute(1, 0, 2)\n",
    "        return self.dropout(x)\n"
   ]
  },
  {
   "cell_type": "code",
   "execution_count": 229,
   "metadata": {},
   "outputs": [],
   "source": [
    "class TransformerModel(torch.nn.Module):\n",
    "    def __init__(self, n_encoder_layers=3, d_model=9, n_heads=3, dropout = 0.1):\n",
    "        super(TransformerModel, self).__init__()\n",
    "        self.n_encoder_layers = n_encoder_layers\n",
    "        self.d_model = d_model\n",
    "        self.positional_encoding = PositionalEncoding(d_model)\n",
    "        self.tranformer_encoder = TransformerModelEncoder(n_encoder_layers, d_model, n_heads,dropout)\n",
    "        self.decoder = torch.nn.Linear(d_model, 1)\n",
    "    def forward(self, X):\n",
    "        X = self.positional_encoding(X)\n",
    "        out = self.tranformer_encoder(X)\n",
    "        out = self.decoder(out)\n",
    "        return out"
   ]
  },
  {
   "cell_type": "code",
   "execution_count": 230,
   "metadata": {},
   "outputs": [],
   "source": [
    "class TransformerModelEncoder(torch.nn.Module):\n",
    "    def __init__(self, n_encoder_layers=3, d_model=9, n_heads=3, dropout= 0.1):\n",
    "        super(TransformerModelEncoder, self).__init__()\n",
    "        self.encoder = []\n",
    "        self.n_encoder_layers = n_encoder_layers\n",
    "        for i in range(n_encoder_layers):\n",
    "            self.encoder.append(TransformerEncoderLayer(n_heads,d_model, dropout))\n",
    "    def forward(self, X):\n",
    "        for i in range(self.n_encoder_layers):\n",
    "            X = self.encoder[i](X)\n",
    "        return X"
   ]
  },
  {
   "cell_type": "code",
   "execution_count": 231,
   "metadata": {},
   "outputs": [],
   "source": [
    "class TransformerEncoderLayer(torch.nn.Module):\n",
    "    def __init__(self, n_heads=3,d_model=9, dropout=0.1):\n",
    "        super(TransformerEncoderLayer, self).__init__()\n",
    "        self.attention = MultiheadAttention(n_heads,d_model, dropout)\n",
    "        self.linear = torch.nn.Linear(d_model, d_model)\n",
    "        self.linear2 = torch.nn.Linear(d_model, d_model)\n",
    "        self.dropout = torch.nn.Dropout(dropout)\n",
    "        self.layer_norm = torch.nn.LayerNorm([WINDOW_LENGTH, d_model])\n",
    "    def forward(self, X):\n",
    "        oldX = X\n",
    "        X = self.attention(X)\n",
    "        X = self.linear(X) \n",
    "        X = self.layer_norm(self.dropout(X) + oldX)\n",
    "        return X"
   ]
  },
  {
   "cell_type": "code",
   "execution_count": 232,
   "metadata": {},
   "outputs": [],
   "source": [
    "class MultiheadAttention(torch.nn.Module):\n",
    "    #Note that d_model should be divisible by the number of heads (n_heads)\n",
    "    def __init__(self, n_heads=3, d_model=9, dropout=0.1):\n",
    "        super(MultiheadAttention, self).__init__()\n",
    "        self.n_heads = n_heads\n",
    "        self.d_model = d_model\n",
    "        self.dropout = dropout\n",
    "        self.small_d = d_model//n_heads\n",
    "        \n",
    "        self.Q = torch.nn.Linear(d_model, d_model)\n",
    "        self.K = torch.nn.Linear(d_model, d_model)\n",
    "        self.V = torch.nn.Linear(d_model, d_model)\n",
    "        self.dropout = torch.nn.Dropout(dropout)\n",
    "        self.layer_norm = nn.LayerNorm([WINDOW_LENGTH, d_model])\n",
    "    #Note that X is input with the size (# of strings, Max Length of strings, #features of string)\n",
    "    def forward(self, X):\n",
    "        q_X = self.Q(X)\n",
    "        k_X =  self.K(X)\n",
    "        v_X =  self.V(X)\n",
    "        max_len = X.shape[1]\n",
    "        batch_size = X.shape[0]\n",
    "        q_X_h = q_X.reshape(batch_size, -1, self.n_heads, self.small_d).permute(0,2,1,3)\n",
    "        k_X_h = k_X.reshape(batch_size, -1, self.n_heads, self.small_d).permute(0,2,3,1)\n",
    "        v_X_h = v_X.reshape(batch_size, -1, self.n_heads, self.small_d).permute(0, 2, 1, 3)\n",
    "        mask = torch.triu(torch.ones(max_len,max_len)*float('-inf'), diagonal=1)\n",
    "        score = torch.softmax((q_X_h @ k_X_h)/np.sqrt(self.small_d) + mask, axis = -1)\n",
    "                \n",
    "        result = (score@v_X_h).permute(0, 2, 1, 3)\n",
    "        result = result.reshape(batch_size, max_len, self.d_model)\n",
    "        result = self.layer_norm(X + self.dropout(result))\n",
    "        return result"
   ]
  },
  {
   "cell_type": "code",
   "execution_count": 233,
   "metadata": {},
   "outputs": [],
   "source": [
    "# Q = torch.randn((9, 15))\n",
    "# K = torch.randn((9, 15))\n",
    "# V = torch.randn((9, 15))\n",
    "# small_d = 5\n",
    "# n_heads = 3\n",
    "\n",
    "# X = t_train_x[0]"
   ]
  },
  {
   "cell_type": "markdown",
   "metadata": {},
   "source": [
    "# Train LSTM"
   ]
  },
  {
   "cell_type": "code",
   "execution_count": 234,
   "metadata": {},
   "outputs": [
    {
     "name": "stderr",
     "output_type": "stream",
     "text": [
      "100%|██████████| 4226/4226 [00:52<00:00, 80.21it/s]\n"
     ]
    },
    {
     "name": "stdout",
     "output_type": "stream",
     "text": [
      "train\n"
     ]
    },
    {
     "name": "stderr",
     "output_type": "stream",
     "text": [
      "100%|██████████| 100/100 [00:00<00:00, 217.37it/s]\n"
     ]
    },
    {
     "name": "stdout",
     "output_type": "stream",
     "text": [
      "evaluation of  has acc: 0.671792613100107, loss: 0.0002637803473270974, auc: 0.6834992690553633\n",
      "valid\n"
     ]
    },
    {
     "name": "stderr",
     "output_type": "stream",
     "text": [
      "100%|██████████| 100/100 [00:00<00:00, 215.41it/s]\n"
     ]
    },
    {
     "name": "stdout",
     "output_type": "stream",
     "text": [
      "evaluation of  has acc: 0.6784826190598686, loss: 0.00026890946935206265, auc: 0.6836191823136817\n"
     ]
    },
    {
     "name": "stderr",
     "output_type": "stream",
     "text": [
      "100%|██████████| 4226/4226 [00:52<00:00, 80.81it/s]\n"
     ]
    },
    {
     "name": "stdout",
     "output_type": "stream",
     "text": [
      "train\n"
     ]
    },
    {
     "name": "stderr",
     "output_type": "stream",
     "text": [
      "100%|██████████| 100/100 [00:00<00:00, 221.94it/s]\n"
     ]
    },
    {
     "name": "stdout",
     "output_type": "stream",
     "text": [
      "evaluation of  has acc: 0.6717758342247111, loss: 0.00026360834210614493, auc: 0.6399593815193846\n",
      "valid\n"
     ]
    },
    {
     "name": "stderr",
     "output_type": "stream",
     "text": [
      "100%|██████████| 100/100 [00:00<00:00, 188.25it/s]\n"
     ]
    },
    {
     "name": "stdout",
     "output_type": "stream",
     "text": [
      "evaluation of  has acc: 0.6785512167515563, loss: 0.000268774294355558, auc: 0.6401754109426082\n"
     ]
    },
    {
     "name": "stderr",
     "output_type": "stream",
     "text": [
      "100%|██████████| 4226/4226 [00:54<00:00, 77.89it/s]\n"
     ]
    },
    {
     "name": "stdout",
     "output_type": "stream",
     "text": [
      "train\n"
     ]
    },
    {
     "name": "stderr",
     "output_type": "stream",
     "text": [
      "100%|██████████| 100/100 [00:00<00:00, 219.55it/s]\n"
     ]
    },
    {
     "name": "stdout",
     "output_type": "stream",
     "text": [
      "evaluation of  has acc: 0.6719939596048575, loss: 0.00026352124594606886, auc: 0.6701030996593255\n",
      "valid\n"
     ]
    },
    {
     "name": "stderr",
     "output_type": "stream",
     "text": [
      "100%|██████████| 100/100 [00:00<00:00, 220.74it/s]\n"
     ]
    },
    {
     "name": "stdout",
     "output_type": "stream",
     "text": [
      "evaluation of  has acc: 0.6788384695854984, loss: 0.0002686854121543827, auc: 0.6696411714398867\n"
     ]
    },
    {
     "name": "stderr",
     "output_type": "stream",
     "text": [
      "100%|██████████| 4226/4226 [00:53<00:00, 79.33it/s]\n"
     ]
    },
    {
     "name": "stdout",
     "output_type": "stream",
     "text": [
      "train\n"
     ]
    },
    {
     "name": "stderr",
     "output_type": "stream",
     "text": [
      "100%|██████████| 100/100 [00:00<00:00, 221.63it/s]\n"
     ]
    },
    {
     "name": "stdout",
     "output_type": "stream",
     "text": [
      "evaluation of  has acc: 0.6722624216111915, loss: 0.00026344303969851014, auc: 0.675630551375891\n",
      "valid\n"
     ]
    },
    {
     "name": "stderr",
     "output_type": "stream",
     "text": [
      "100%|██████████| 100/100 [00:00<00:00, 221.42it/s]\n"
     ]
    },
    {
     "name": "stdout",
     "output_type": "stream",
     "text": [
      "evaluation of  has acc: 0.6787055615578536, loss: 0.00026863454221990934, auc: 0.6748003211594034\n"
     ]
    },
    {
     "name": "stderr",
     "output_type": "stream",
     "text": [
      "100%|██████████| 4226/4226 [00:53<00:00, 79.42it/s]\n"
     ]
    },
    {
     "name": "stdout",
     "output_type": "stream",
     "text": [
      "train\n"
     ]
    },
    {
     "name": "stderr",
     "output_type": "stream",
     "text": [
      "100%|██████████| 100/100 [00:00<00:00, 216.10it/s]\n"
     ]
    },
    {
     "name": "stdout",
     "output_type": "stream",
     "text": [
      "evaluation of  has acc: 0.6724260156463013, loss: 0.00026338843959351586, auc: 0.6508781145516314\n",
      "valid\n"
     ]
    },
    {
     "name": "stderr",
     "output_type": "stream",
     "text": [
      "100%|██████████| 100/100 [00:00<00:00, 221.34it/s]\n"
     ]
    },
    {
     "name": "stdout",
     "output_type": "stream",
     "text": [
      "evaluation of  has acc: 0.678842756941229, loss: 0.0002686113641607948, auc: 0.64903339945962\n"
     ]
    },
    {
     "name": "stderr",
     "output_type": "stream",
     "text": [
      "100%|██████████| 4226/4226 [00:52<00:00, 80.21it/s]\n"
     ]
    },
    {
     "name": "stdout",
     "output_type": "stream",
     "text": [
      "train\n"
     ]
    },
    {
     "name": "stderr",
     "output_type": "stream",
     "text": [
      "100%|██████████| 100/100 [00:00<00:00, 222.85it/s]\n"
     ]
    },
    {
     "name": "stdout",
     "output_type": "stream",
     "text": [
      "evaluation of  has acc: 0.6724302103651503, loss: 0.0002633699653691894, auc: 0.6206043044911655\n",
      "valid\n"
     ]
    },
    {
     "name": "stderr",
     "output_type": "stream",
     "text": [
      "100%|██████████| 100/100 [00:00<00:00, 196.02it/s]\n"
     ]
    },
    {
     "name": "stdout",
     "output_type": "stream",
     "text": [
      "evaluation of  has acc: 0.6789542281902214, loss: 0.00026860264539348903, auc: 0.6183126019659939\n"
     ]
    },
    {
     "name": "stderr",
     "output_type": "stream",
     "text": [
      "100%|██████████| 4226/4226 [00:51<00:00, 81.44it/s]\n"
     ]
    },
    {
     "name": "stdout",
     "output_type": "stream",
     "text": [
      "train\n"
     ]
    },
    {
     "name": "stderr",
     "output_type": "stream",
     "text": [
      "100%|██████████| 100/100 [00:00<00:00, 222.77it/s]\n"
     ]
    },
    {
     "name": "stdout",
     "output_type": "stream",
     "text": [
      "evaluation of  has acc: 0.6725644413683173, loss: 0.00026335792010662574, auc: 0.5836510463719348\n",
      "valid\n"
     ]
    },
    {
     "name": "stderr",
     "output_type": "stream",
     "text": [
      "100%|██████████| 100/100 [00:00<00:00, 219.65it/s]\n"
     ]
    },
    {
     "name": "stdout",
     "output_type": "stream",
     "text": [
      "evaluation of  has acc: 0.6790571247277529, loss: 0.0002685985213418395, auc: 0.5810970114063762\n"
     ]
    },
    {
     "name": "stderr",
     "output_type": "stream",
     "text": [
      "100%|██████████| 4226/4226 [00:52<00:00, 80.76it/s]\n"
     ]
    },
    {
     "name": "stdout",
     "output_type": "stream",
     "text": [
      "train\n"
     ]
    },
    {
     "name": "stderr",
     "output_type": "stream",
     "text": [
      "100%|██████████| 100/100 [00:00<00:00, 226.63it/s]\n"
     ]
    },
    {
     "name": "stdout",
     "output_type": "stream",
     "text": [
      "evaluation of  has acc: 0.672606388556807, loss: 0.00026333332966788466, auc: 0.5561438268549204\n",
      "valid\n"
     ]
    },
    {
     "name": "stderr",
     "output_type": "stream",
     "text": [
      "100%|██████████| 100/100 [00:00<00:00, 223.93it/s]\n"
     ]
    },
    {
     "name": "stdout",
     "output_type": "stream",
     "text": [
      "evaluation of  has acc: 0.6789113546329166, loss: 0.00026860099282269214, auc: 0.5535613966325064\n"
     ]
    },
    {
     "name": "stderr",
     "output_type": "stream",
     "text": [
      "100%|██████████| 4226/4226 [00:52<00:00, 81.04it/s]\n"
     ]
    },
    {
     "name": "stdout",
     "output_type": "stream",
     "text": [
      "train\n"
     ]
    },
    {
     "name": "stderr",
     "output_type": "stream",
     "text": [
      "100%|██████████| 100/100 [00:00<00:00, 221.09it/s]\n"
     ]
    },
    {
     "name": "stdout",
     "output_type": "stream",
     "text": [
      "evaluation of  has acc: 0.6726986723714843, loss: 0.00026331884984201, auc: 0.5204016674403528\n",
      "valid\n"
     ]
    },
    {
     "name": "stderr",
     "output_type": "stream",
     "text": [
      "100%|██████████| 100/100 [00:00<00:00, 219.61it/s]\n"
     ]
    },
    {
     "name": "stdout",
     "output_type": "stream",
     "text": [
      "evaluation of  has acc: 0.6790957109293272, loss: 0.0002685835109325691, auc: 0.5181622094451429\n"
     ]
    },
    {
     "name": "stderr",
     "output_type": "stream",
     "text": [
      "100%|██████████| 4226/4226 [00:54<00:00, 78.07it/s]\n"
     ]
    },
    {
     "name": "stdout",
     "output_type": "stream",
     "text": [
      "train\n"
     ]
    },
    {
     "name": "stderr",
     "output_type": "stream",
     "text": [
      "100%|██████████| 100/100 [00:00<00:00, 226.04it/s]\n"
     ]
    },
    {
     "name": "stdout",
     "output_type": "stream",
     "text": [
      "evaluation of  has acc: 0.6726105832756559, loss: 0.00026332110896761397, auc: 0.5054950037364662\n",
      "valid\n"
     ]
    },
    {
     "name": "stderr",
     "output_type": "stream",
     "text": [
      "100%|██████████| 100/100 [00:00<00:00, 225.81it/s]\n"
     ]
    },
    {
     "name": "stdout",
     "output_type": "stream",
     "text": [
      "evaluation of  has acc: 0.6792114695340502, loss: 0.00026857200573245153, auc: 0.5032616083167939\n"
     ]
    },
    {
     "data": {
      "image/png": "[encoded data removed]",
      "text/plain": [
       "<Figure size 432x288 with 1 Axes>"
      ]
     },
     "metadata": {
      "needs_background": "light"
     },
     "output_type": "display_data"
    },
    {
     "data": {
      "image/png": "[encoded data removed]",
      "text/plain": [
       "<Figure size 432x288 with 1 Axes>"
      ]
     },
     "metadata": {
      "needs_background": "light"
     },
     "output_type": "display_data"
    },
    {
     "data": {
      "image/png": "[encoded data removed]",
      "text/plain": [
       "<Figure size 432x288 with 1 Axes>"
      ]
     },
     "metadata": {
      "needs_background": "light"
     },
     "output_type": "display_data"
    }
   ],
   "source": [
    "all_preds = []\n",
    "all_preds2 = []\n",
    "def evaluate_rnn(transformer_model, t_valid_x, t_valid_y, loss_mask_valid, name_data = \"\"):\n",
    "    transformer_model.eval()\n",
    "    out_all=[]\n",
    "    tgt_all=[]\n",
    "    with torch.no_grad():\n",
    "      acc = 0\n",
    "      count = 0\n",
    "      acc_total = 0\n",
    "      loss_total = 0\n",
    "      num_batches = t_valid_x.shape[0]\n",
    "      num_batches =100\n",
    "      for batch in tqdm(range(num_batches)):\n",
    "          src = t_valid_x[batch,:,:,:].to(device).float()\n",
    "          tgt = t_valid_y[batch] + 0\n",
    "          loss_mask_batch = loss_mask_valid[batch, :, :]\n",
    "          out, _ = transformer_model(src)\n",
    "          out = torch.sigmoid(out[:,:, [0]]).squeeze(-1)\n",
    "          out_all.append(out.cpu().numpy()[:int(torch.sum(loss_mask_batch))])\n",
    "          tgt_all.append(tgt.cpu().numpy()[:int(torch.sum(loss_mask_batch))])\n",
    "          \n",
    "          prediction = out>0.5\n",
    "          all_preds.append(prediction)\n",
    "\n",
    "          acc = torch.sum((tgt== prediction) *(loss_mask_batch))\n",
    "          loss = torch.sum((-tgt*torch.log(out) -(1-tgt)*torch.log(1-out))*loss_mask_batch)/torch.sum(loss_mask_batch)\n",
    "          loss_total += loss\n",
    "          acc_total += acc\n",
    "          count+= torch.sum(loss_mask_batch)\n",
    "      out_all = np.concatenate(out_all, axis=None)\n",
    "      tgt_all = np.concatenate(tgt_all, axis=None)\n",
    "      roc_auc_score_total = roc_auc_score(tgt_all, out_all)\n",
    "      print(\"evaluation of {} has acc: {}, loss: {}, auc: {}\".format(name_data, acc_total/count, loss_total / count, roc_auc_score_total))\n",
    "    return acc_total/count, loss_total / count, roc_auc_score_total, out_all, tgt_all\n",
    "\n",
    "num_batches = t_train_x.shape[0]\n",
    "lstm_model = torch.nn.LSTM(10, 10, 2)\n",
    "optim = torch.optim.Adam(lstm_model.parameters(), lr=0.01)\n",
    "num_epochs = 10\n",
    "total_loss = 0\n",
    "train_losses = []\n",
    "train_accs = []\n",
    "valid_losses = []\n",
    "valid_accs = []\n",
    "train_roc_aucs = []\n",
    "valid_roc_aucs = []\n",
    "lstm_model.train()\n",
    "for epoch in range(num_epochs):\n",
    "    for batch in tqdm(range(num_batches)):\n",
    "      optim.zero_grad()\n",
    "      src = t_train_x[batch,:,:,:].to(device).float()\n",
    "      tgt = t_train_y[batch] + 0\n",
    "      loss_mask_batch = loss_mask_train[batch, :, :]\n",
    "      \n",
    "      class_weight = loss_mask_batch - tgt*(1 - 0.4/0.6)\n",
    "      out, _ = lstm_model(src)\n",
    "      out = torch.sigmoid(out[:, :, 0]).squeeze(-1)\n",
    "      prediction = out>0.5\n",
    "      all_preds_count = 0\n",
    "      true_pred = 0\n",
    "      acc = torch.sum((tgt== prediction) *(loss_mask_batch)) /torch.sum(loss_mask_batch)\n",
    "      plot_acc.append(acc)\n",
    "      loss = torch.sum((-tgt*torch.log(out) -(1-tgt)*torch.log(1-out))*loss_mask_batch)/torch.sum(loss_mask_batch)\n",
    "      loss.backward()\n",
    "      optim.step()\n",
    "      total_loss += loss.item()\n",
    "    print(\"train\")\n",
    "    train_acc, train_loss, train_roc_auc,_,_ = evaluate_rnn(lstm_model, t_train_x,  t_train_y, loss_mask_train)\n",
    "    print(\"valid\")\n",
    "    valid_acc, valid_loss, valid_roc_auc,_,_ = evaluate_rnn(lstm_model, t_valid_x,  t_valid_y, loss_mask_valid)\n",
    "    train_losses.append(train_loss.item()), train_accs.append(train_acc*100), train_roc_aucs.append(train_roc_auc)\n",
    "    valid_losses.append(valid_loss), valid_accs.append(valid_acc*100), valid_roc_aucs.append(valid_roc_auc)\n",
    "\n",
    "plt.plot(train_losses, label = \"train\")\n",
    "plt.plot(valid_losses, label = \"valid\")\n",
    "plt.title('Cross Entropy Loss')\n",
    "plt.xlabel('# Epochs')\n",
    "plt.ylabel('loss')\n",
    "plt.legend()\n",
    "plt.show()\n",
    "plt.plot(train_accs,  label = \"train\")\n",
    "plt.plot(valid_accs,  label = \"valid\")\n",
    "plt.title('Accuracy')\n",
    "plt.xlabel('# Epochs')\n",
    "plt.ylabel('% Accuracy')\n",
    "plt.legend()\n",
    "plt.show()\n",
    "plt.plot(train_roc_aucs,  label = \"train\")\n",
    "plt.plot(valid_roc_aucs,  label = \"valid\")\n",
    "plt.title('ROC_AUC')\n",
    "plt.xlabel('# Epochs')\n",
    "plt.ylabel('ROC_AUC')\n",
    "plt.legend()\n",
    "plt.show()\n"
   ]
  },
  {
   "cell_type": "code",
   "execution_count": 235,
   "metadata": {
    "scrolled": true
   },
   "outputs": [
    {
     "name": "stderr",
     "output_type": "stream",
     "text": [
      "100%|██████████| 100/100 [00:00<00:00, 216.81it/s]\n"
     ]
    },
    {
     "name": "stdout",
     "output_type": "stream",
     "text": [
      "evaluation of  has acc: 0.670643277857681, loss: 0.0002695343157533957, auc: 0.49498771416974296\n"
     ]
    }
   ],
   "source": [
    "valid_acc, valid_loss, valid_roc_auc, pred_proba ,target  = evaluate_rnn(lstm_model,t_test_x, t_test_y, loss_mask_test)"
   ]
  },
  {
   "cell_type": "code",
   "execution_count": 236,
   "metadata": {
    "scrolled": true
   },
   "outputs": [
    {
     "data": {
      "text/plain": [
       "[<matplotlib.lines.Line2D at 0x13c6fe668>]"
      ]
     },
     "execution_count": 236,
     "metadata": {},
     "output_type": "execute_result"
    },
    {
     "data": {
      "image/png": "[encoded data removed]",
      "text/plain": [
       "<Figure size 432x288 with 1 Axes>"
      ]
     },
     "metadata": {
      "needs_background": "light"
     },
     "output_type": "display_data"
    }
   ],
   "source": [
    "plt.plot(sorted(pred_proba))"
   ]
  },
  {
   "cell_type": "code",
   "execution_count": 237,
   "metadata": {},
   "outputs": [
    {
     "data": {
      "text/plain": [
       "array([1, 0, 0, ..., 0, 0, 0])"
      ]
     },
     "execution_count": 237,
     "metadata": {},
     "output_type": "execute_result"
    }
   ],
   "source": [
    "target"
   ]
  },
  {
   "cell_type": "markdown",
   "metadata": {},
   "source": [
    "# Train transfomer"
   ]
  },
  {
   "cell_type": "code",
   "execution_count": 239,
   "metadata": {
    "colab": {
     "base_uri": "https://localhost:8080/",
     "height": 630
    },
    "id": "GgQrXXdHzdqB",
    "outputId": "6c58fc40-dec0-4d0a-9a29-a8cf259e910f"
   },
   "outputs": [
    {
     "name": "stdout",
     "output_type": "stream",
     "text": [
      "cpu\n"
     ]
    },
    {
     "name": "stderr",
     "output_type": "stream",
     "text": [
      "100%|██████████| 4226/4226 [05:04<00:00, 13.89it/s]\n"
     ]
    },
    {
     "name": "stdout",
     "output_type": "stream",
     "text": [
      "evaluation acc of train: 0.6528115103085216, loss: 0.00027672404460968303, auc: 0.61118164065278\n",
      "evaluation acc of valid: 0.657963334533793, loss: 0.00028285806102863205, auc: 0.6087551836972077\n"
     ]
    },
    {
     "name": "stderr",
     "output_type": "stream",
     "text": [
      "100%|██████████| 4226/4226 [05:05<00:00, 13.84it/s]\n"
     ]
    },
    {
     "name": "stdout",
     "output_type": "stream",
     "text": [
      "evaluation acc of train: 0.6467459468529122, loss: 0.0002766596794901462, auc: 0.6152732000116583\n",
      "evaluation acc of valid: 0.6523640479497865, loss: 0.00028263699155986276, auc: 0.6150771066237544\n"
     ]
    },
    {
     "name": "stderr",
     "output_type": "stream",
     "text": [
      "100%|██████████| 4226/4226 [04:59<00:00, 14.09it/s]\n"
     ]
    },
    {
     "name": "stdout",
     "output_type": "stream",
     "text": [
      "evaluation acc of train: 0.6469766563896054, loss: 0.0002766414402066412, auc: 0.6144592388316307\n",
      "evaluation acc of valid: 0.6512964963728971, loss: 0.0002827133195746483, auc: 0.6137874518897266\n"
     ]
    },
    {
     "name": "stderr",
     "output_type": "stream",
     "text": [
      "100%|██████████| 4226/4226 [04:55<00:00, 14.32it/s]\n"
     ]
    },
    {
     "name": "stdout",
     "output_type": "stream",
     "text": [
      "evaluation acc of train: 0.646372616875354, loss: 0.0002767572626198631, auc: 0.6140543293646846\n",
      "evaluation acc of valid: 0.6510735538749121, loss: 0.00028267975571219967, auc: 0.6133882692409808\n"
     ]
    },
    {
     "name": "stderr",
     "output_type": "stream",
     "text": [
      "100%|██████████| 4226/4226 [09:52<00:00,  7.13it/s]   \n"
     ]
    },
    {
     "name": "stdout",
     "output_type": "stream",
     "text": [
      "evaluation acc of train: 0.6450890329075694, loss: 0.0002767846929916048, auc: 0.6122224473695832\n",
      "evaluation acc of valid: 0.6510864159421036, loss: 0.00028273357050292807, auc: 0.6131675046663982\n"
     ]
    },
    {
     "name": "stderr",
     "output_type": "stream",
     "text": [
      "100%|██████████| 4226/4226 [04:53<00:00, 14.39it/s]\n"
     ]
    },
    {
     "name": "stdout",
     "output_type": "stream",
     "text": [
      "evaluation acc of train: 0.6462761383418276, loss: 0.00027671085219331906, auc: 0.6128193305786632\n",
      "evaluation acc of valid: 0.6506834045034384, loss: 0.00028281191882374024, auc: 0.6127053861969879\n"
     ]
    },
    {
     "name": "stderr",
     "output_type": "stream",
     "text": [
      "100%|██████████| 4226/4226 [04:54<00:00, 14.33it/s]\n"
     ]
    },
    {
     "name": "stdout",
     "output_type": "stream",
     "text": [
      "evaluation acc of train: 0.6462761383418276, loss: 0.00027658184956719207, auc: 0.6142042820903583\n",
      "evaluation acc of valid: 0.6510306803176074, loss: 0.0002825636715569816, auc: 0.6136825776109126\n"
     ]
    },
    {
     "name": "stderr",
     "output_type": "stream",
     "text": [
      "100%|██████████| 4226/4226 [05:01<00:00, 14.02it/s]\n"
     ]
    },
    {
     "name": "stdout",
     "output_type": "stream",
     "text": [
      "evaluation acc of train: 0.6462887224983745, loss: 0.00027671883455622644, auc: 0.6128678402587087\n",
      "evaluation acc of valid: 0.6509706573373806, loss: 0.00028276244513365974, auc: 0.612857939697066\n",
      "We finnished training with 8 epochs\n"
     ]
    }
   ],
   "source": [
    "def evaluate(transformer_model,t_valid_x, t_valid_y , loss_mask_valid, name_data = \"\"):\n",
    "    transformer_model.eval()\n",
    "    with torch.no_grad():\n",
    "      acc = 0\n",
    "      count = 0\n",
    "      acc_total = 0\n",
    "      loss_total = 0\n",
    "      out_all = []\n",
    "      tgt_all =[]\n",
    "      num_batches = t_valid_x.shape[0]\n",
    "      num_batches = 100\n",
    "      for batch in range(num_batches):\n",
    "\n",
    "          src = t_valid_x[batch,:,:,:].to(device).float()\n",
    "          tgt = t_valid_y[batch] + 0\n",
    "          loss_mask_batch = loss_mask_valid[batch, :, :]\n",
    "          out = transformer_model(src)\n",
    "          out = torch.sigmoid(out).squeeze(-1)\n",
    "          out_all.append(out.cpu().numpy()[:int(torch.sum(loss_mask_batch))])\n",
    "          tgt_all.append(tgt.cpu().numpy()[:int(torch.sum(loss_mask_batch))])\n",
    "          prediction = out>0.5\n",
    "          acc = torch.sum((tgt== prediction) *(loss_mask_batch))\n",
    "          loss = torch.sum((-tgt*torch.log(out) -(1-tgt)*torch.log(1-out))*loss_mask_batch)/torch.sum(loss_mask_batch)\n",
    "          loss_total += loss\n",
    "          acc_total += acc\n",
    "          count+= torch.sum(loss_mask_batch)\n",
    "      out_all = np.concatenate(out_all, axis = None)\n",
    "      tgt_all = np.concatenate(tgt_all, axis = None)\n",
    "      roc_auc_total = roc_auc_score(tgt_all, out_all)\n",
    "      print(\"evaluation acc of {}: {}, loss: {}, auc: {}\".format(name_data, acc_total/count, loss_total / count, roc_auc_total))\n",
    "    return acc_total/count, loss_total / count, roc_auc_total, out_all, tgt_all\n",
    "\n",
    "\n",
    "device = torch.device(\"cuda:0\" if torch.cuda.is_available() else \"cpu\")\n",
    "print(device)\n",
    "num_batches = t_train_x.shape[0]\n",
    "transformer_model = TransformerModel(d_model = 10, n_heads=2, n_encoder_layers=3, dropout = 0.1)\n",
    "optim = torch.optim.Adam(transformer_model.parameters(), lr=0.001)\n",
    "transformer_model.train()\n",
    "num_batches = t_train_x.shape[0]\n",
    "num_epochs = 8\n",
    "log_interval = 10\n",
    "total_loss = 0\n",
    "plot_loss= []\n",
    "plot_acc= []\n",
    "# plot_roc_aucs = []\n",
    "train_losses = []\n",
    "train_accs = []\n",
    "valid_losses = []\n",
    "valid_accs = []\n",
    "train_roc_aucs = []\n",
    "valid_roc_aucs = []\n",
    "for epoch in range(num_epochs):\n",
    "    for batch in tqdm(range(num_batches)):\n",
    "      optim.zero_grad()\n",
    "      src = t_train_x[batch,:,:,:].to(device).float()\n",
    "      tgt = t_train_y[batch] + 0\n",
    "      loss_mask_batch = loss_mask_train[batch, :, :]\n",
    "      class_weight = loss_mask_batch - tgt*(1 - 0.4/0.6)\n",
    "      out = transformer_model(src)\n",
    "      out = torch.sigmoid(out).squeeze(-1)\n",
    "      prediction = out>0.5\n",
    "      # plot_roc_aucs.append(roc_auc_score(out, tgt)) # I guess I can't use numpy in here since there's no gradient?\n",
    "      acc = torch.sum((tgt== prediction) *(loss_mask_batch)) /torch.sum(loss_mask_batch)\n",
    "      plot_acc.append(acc)\n",
    "      loss = torch.sum((-tgt*torch.log(out) -(1-tgt)*torch.log(1-out))*loss_mask_batch*class_weight)/torch.sum(loss_mask_batch)\n",
    "      loss.backward()\n",
    "      optim.step()\n",
    "    train_acc, train_loss, train_auc, _, _ = evaluate(transformer_model, t_train_x,  t_train_y, loss_mask_train, \"train\")\n",
    "    valid_acc, valid_loss, valid_auc, _, _ = evaluate(transformer_model, t_valid_x,  t_valid_y, loss_mask_valid, \"valid\")\n",
    "    train_losses.append(train_loss.item())\n",
    "    train_accs.append(train_acc*100) \n",
    "    valid_losses.append(valid_loss)\n",
    "    valid_accs.append(valid_acc*100)\n",
    "    train_roc_aucs.append(train_auc)\n",
    "    valid_roc_aucs.append(valid_auc)\n",
    "print(f\"We finnished training with {num_epochs} epochs\")"
   ]
  },
  {
   "cell_type": "code",
   "execution_count": 240,
   "metadata": {},
   "outputs": [
    {
     "data": {
      "image/png": "[encoded data removed]",
      "text/plain": [
       "<Figure size 432x288 with 1 Axes>"
      ]
     },
     "metadata": {
      "needs_background": "light"
     },
     "output_type": "display_data"
    },
    {
     "data": {
      "image/png": "[encoded data removed]",
      "text/plain": [
       "<Figure size 432x288 with 1 Axes>"
      ]
     },
     "metadata": {
      "needs_background": "light"
     },
     "output_type": "display_data"
    },
    {
     "data": {
      "image/png": "[encoded data removed]",
      "text/plain": [
       "<Figure size 432x288 with 1 Axes>"
      ]
     },
     "metadata": {
      "needs_background": "light"
     },
     "output_type": "display_data"
    }
   ],
   "source": [
    "plt.plot(train_losses, label = \"train\")\n",
    "plt.plot(valid_losses, label = \"valid\")\n",
    "plt.title('Cross Entropy Loss')\n",
    "plt.xlabel('# Epochs')\n",
    "plt.ylabel('loss')\n",
    "plt.legend()\n",
    "plt.show()\n",
    "plt.plot(train_accs,  label = \"train\")\n",
    "plt.plot(valid_accs,  label = \"valid\")\n",
    "plt.title('Accuracy')\n",
    "plt.xlabel('# Epochs')\n",
    "plt.ylabel('% Accuracy')\n",
    "plt.legend()\n",
    "plt.show()\n",
    "plt.plot(train_roc_aucs,  label = \"train\")\n",
    "plt.plot(valid_roc_aucs,  label = \"valid\")\n",
    "plt.title('ROC_AUC')\n",
    "plt.xlabel('# Epochs')\n",
    "plt.ylabel('ROC_AUC')\n",
    "plt.legend()\n",
    "plt.show()"
   ]
  },
  {
   "cell_type": "code",
   "execution_count": null,
   "metadata": {
    "id": "0qHSo2iZgxhz"
   },
   "outputs": [],
   "source": []
  }
 ],
 "metadata": {
  "accelerator": "GPU",
  "colab": {
   "name": "Transformer.ipynb",
   "provenance": []
  },
  "kernelspec": {
   "display_name": "Python 3",
   "language": "python",
   "name": "python3"
  },
  "language_info": {
   "codemirror_mode": {
    "name": "ipython",
    "version": 3
   },
   "file_extension": ".py",
   "mimetype": "text/x-python",
   "name": "python",
   "nbconvert_exporter": "python",
   "pygments_lexer": "ipython3",
   "version": "3.6.9"
  }
 },
 "nbformat": 4,
 "nbformat_minor": 1
}

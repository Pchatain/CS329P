{
 "cells": [
  {
   "cell_type": "markdown",
   "metadata": {
    "id": "c2RcwdfTS8hr"
   },
   "source": [
    "# Homework 3: Hyperparameter Tuning\n",
    "\n",
    "**Author(s)**: [YOUR_NAMES,]\n",
    "\n",
    "**Email**: [YOUR_IDs@stanford.edu,]\n",
    "\n",
    "**Submission**: Please insert your name and email above, save your code in this notebook, and\n",
    "explain what you are doing and your findings in text cells. You can think of it as a technical report with code.\n",
    "\n",
    "* Note: If you leave your Colab unattended, it may delete any files generated during the hyperparameter tuning. May sure to save frequently via **File->Save and pin revision**.\n",
    "\n",
    "\n",
    "The goal of this homework will be to familiarize yourself with hyperparameter optimization. Two powerful and widely used methods in practice are PBT (population-based training) and ASHA (asynchronous successive halving algorithm). We will start off with a simple random search model, then implement PBT and ASHA using the Ray library.\n",
    "\n",
    "**Population-based training** was introduced by Deepmind in 2017 (https://arxiv.org/abs/1711.09846), while **ASHA** was published in late 2018 by Carnegie Mellon's AI Institute (https://arxiv.org/abs/1810.05934). You may find it helpful to read through the accompanying blog posts (https://deepmind.com/blog/article/population-based-training-neural-networks and https://blog.ml.cmu.edu/2018/12/12/massively-parallel-hyperparameter-optimization/) before beginning this assignment.\n",
    "\n",
    "If using Google Colab for this assignment, we recommend using a (free) TPU by selecting `Runtime->Change Runtime Type->TPU`."
   ]
  },
  {
   "cell_type": "markdown",
   "metadata": {
    "id": "JXMrw48UXPIE"
   },
   "source": [
    "First, let's define our model. Let's start by loading in the CIFAR-10 dataset using PyTorch's `torchvision` library:"
   ]
  },
  {
   "cell_type": "code",
   "execution_count": 4,
   "metadata": {},
   "outputs": [],
   "source": [
    "# Import PyTorch and vision libraries\n",
    "import torch\n",
    "import torchvision\n",
    "import torchvision.transforms as transforms\n",
    "import torch.nn as nn\n",
    "import torch.nn.functional as F\n",
    "import torch.optim as optim\n",
    "import ray\n",
    "from ray import tune\n",
    "import ray\n",
    "from ray import tune\n",
    "from ray.tune.schedulers import PopulationBasedTraining\n",
    "from ray.tune.trial import ExportFormat\n",
    "import numpy as np\n"
   ]
  },
  {
   "cell_type": "code",
   "execution_count": 5,
   "metadata": {
    "id": "ZsxBGYZ1XN3K"
   },
   "outputs": [],
   "source": [
    "def get_data_loaders():\n",
    "  # Define a transform to map from pixel space (255, 255, 255) to a normalized\n",
    "  # range with mean and variance 0.5:\n",
    "\n",
    "  transform = transforms.Compose(\n",
    "    [transforms.ToTensor(),\n",
    "     transforms.Normalize((0.5, 0.5, 0.5), (0.5, 0.5, 0.5))])\n",
    "\n",
    "  # Load our train and test datasets and define class label correspondence\n",
    "  train_dataset = torchvision.datasets.CIFAR10(root='./data', train=True,\n",
    "                                          download=True, transform=transform)\n",
    "  train_loader = torch.utils.data.DataLoader(train_dataset, batch_size=4,\n",
    "                                            shuffle=True, num_workers=2)\n",
    "\n",
    "  test_dataset = torchvision.datasets.CIFAR10(root='./data', train=False,\n",
    "                                        download=True, transform=transform)\n",
    "  test_loader = torch.utils.data.DataLoader(test_dataset, batch_size=4,\n",
    "                                          shuffle=False, num_workers=2)\n",
    "\n",
    "  classes = ('plane', 'car', 'bird', 'cat',\n",
    "            'deer', 'dog', 'frog', 'horse', 'ship', 'truck')\n",
    "  return train_loader, test_loader"
   ]
  },
  {
   "cell_type": "code",
   "execution_count": 6,
   "metadata": {
    "id": "0F-5qY6KtUZO"
   },
   "outputs": [
    {
     "name": "stdout",
     "output_type": "stream",
     "text": [
      "Downloading https://www.cs.toronto.edu/~kriz/cifar-10-python.tar.gz to ./data/cifar-10-python.tar.gz\n"
     ]
    },
    {
     "name": "stderr",
     "output_type": "stream",
     "text": [
      "2.4%IOPub message rate exceeded.\n",
      "The notebook server will temporarily stop sending output\n",
      "to the client in order to avoid crashing it.\n",
      "To change this limit, set the config variable\n",
      "`--NotebookApp.iopub_msg_rate_limit`.\n",
      "\n",
      "Current values:\n",
      "NotebookApp.iopub_msg_rate_limit=1000.0 (msgs/sec)\n",
      "NotebookApp.rate_limit_window=3.0 (secs)\n",
      "\n",
      "4.7%IOPub message rate exceeded.\n",
      "The notebook server will temporarily stop sending output\n",
      "to the client in order to avoid crashing it.\n",
      "To change this limit, set the config variable\n",
      "`--NotebookApp.iopub_msg_rate_limit`.\n",
      "\n",
      "Current values:\n",
      "NotebookApp.iopub_msg_rate_limit=1000.0 (msgs/sec)\n",
      "NotebookApp.rate_limit_window=3.0 (secs)\n",
      "\n",
      "7.1%IOPub message rate exceeded.\n",
      "The notebook server will temporarily stop sending output\n",
      "to the client in order to avoid crashing it.\n",
      "To change this limit, set the config variable\n",
      "`--NotebookApp.iopub_msg_rate_limit`.\n",
      "\n",
      "Current values:\n",
      "NotebookApp.iopub_msg_rate_limit=1000.0 (msgs/sec)\n",
      "NotebookApp.rate_limit_window=3.0 (secs)\n",
      "\n",
      "10.2%IOPub message rate exceeded.\n",
      "The notebook server will temporarily stop sending output\n",
      "to the client in order to avoid crashing it.\n",
      "To change this limit, set the config variable\n",
      "`--NotebookApp.iopub_msg_rate_limit`.\n",
      "\n",
      "Current values:\n",
      "NotebookApp.iopub_msg_rate_limit=1000.0 (msgs/sec)\n",
      "NotebookApp.rate_limit_window=3.0 (secs)\n",
      "\n",
      "13.5%IOPub message rate exceeded.\n",
      "The notebook server will temporarily stop sending output\n",
      "to the client in order to avoid crashing it.\n",
      "To change this limit, set the config variable\n",
      "`--NotebookApp.iopub_msg_rate_limit`.\n",
      "\n",
      "Current values:\n",
      "NotebookApp.iopub_msg_rate_limit=1000.0 (msgs/sec)\n",
      "NotebookApp.rate_limit_window=3.0 (secs)\n",
      "\n",
      "16.7%IOPub message rate exceeded.\n",
      "The notebook server will temporarily stop sending output\n",
      "to the client in order to avoid crashing it.\n",
      "To change this limit, set the config variable\n",
      "`--NotebookApp.iopub_msg_rate_limit`.\n",
      "\n",
      "Current values:\n",
      "NotebookApp.iopub_msg_rate_limit=1000.0 (msgs/sec)\n",
      "NotebookApp.rate_limit_window=3.0 (secs)\n",
      "\n",
      "20.1%IOPub message rate exceeded.\n",
      "The notebook server will temporarily stop sending output\n",
      "to the client in order to avoid crashing it.\n",
      "To change this limit, set the config variable\n",
      "`--NotebookApp.iopub_msg_rate_limit`.\n",
      "\n",
      "Current values:\n",
      "NotebookApp.iopub_msg_rate_limit=1000.0 (msgs/sec)\n",
      "NotebookApp.rate_limit_window=3.0 (secs)\n",
      "\n",
      "23.4%IOPub message rate exceeded.\n",
      "The notebook server will temporarily stop sending output\n",
      "to the client in order to avoid crashing it.\n",
      "To change this limit, set the config variable\n",
      "`--NotebookApp.iopub_msg_rate_limit`.\n",
      "\n",
      "Current values:\n",
      "NotebookApp.iopub_msg_rate_limit=1000.0 (msgs/sec)\n",
      "NotebookApp.rate_limit_window=3.0 (secs)\n",
      "\n",
      "26.4%IOPub message rate exceeded.\n",
      "The notebook server will temporarily stop sending output\n",
      "to the client in order to avoid crashing it.\n",
      "To change this limit, set the config variable\n",
      "`--NotebookApp.iopub_msg_rate_limit`.\n",
      "\n",
      "Current values:\n",
      "NotebookApp.iopub_msg_rate_limit=1000.0 (msgs/sec)\n",
      "NotebookApp.rate_limit_window=3.0 (secs)\n",
      "\n",
      "29.7%IOPub message rate exceeded.\n",
      "The notebook server will temporarily stop sending output\n",
      "to the client in order to avoid crashing it.\n",
      "To change this limit, set the config variable\n",
      "`--NotebookApp.iopub_msg_rate_limit`.\n",
      "\n",
      "Current values:\n",
      "NotebookApp.iopub_msg_rate_limit=1000.0 (msgs/sec)\n",
      "NotebookApp.rate_limit_window=3.0 (secs)\n",
      "\n",
      "36.1%IOPub message rate exceeded.\n",
      "The notebook server will temporarily stop sending output\n",
      "to the client in order to avoid crashing it.\n",
      "To change this limit, set the config variable\n",
      "`--NotebookApp.iopub_msg_rate_limit`.\n",
      "\n",
      "Current values:\n",
      "NotebookApp.iopub_msg_rate_limit=1000.0 (msgs/sec)\n",
      "NotebookApp.rate_limit_window=3.0 (secs)\n",
      "\n",
      "38.9%IOPub message rate exceeded.\n",
      "The notebook server will temporarily stop sending output\n",
      "to the client in order to avoid crashing it.\n",
      "To change this limit, set the config variable\n",
      "`--NotebookApp.iopub_msg_rate_limit`.\n",
      "\n",
      "Current values:\n",
      "NotebookApp.iopub_msg_rate_limit=1000.0 (msgs/sec)\n",
      "NotebookApp.rate_limit_window=3.0 (secs)\n",
      "\n",
      "42.5%IOPub message rate exceeded.\n",
      "The notebook server will temporarily stop sending output\n",
      "to the client in order to avoid crashing it.\n",
      "To change this limit, set the config variable\n",
      "`--NotebookApp.iopub_msg_rate_limit`.\n",
      "\n",
      "Current values:\n",
      "NotebookApp.iopub_msg_rate_limit=1000.0 (msgs/sec)\n",
      "NotebookApp.rate_limit_window=3.0 (secs)\n",
      "\n",
      "46.5%IOPub message rate exceeded.\n",
      "The notebook server will temporarily stop sending output\n",
      "to the client in order to avoid crashing it.\n",
      "To change this limit, set the config variable\n",
      "`--NotebookApp.iopub_msg_rate_limit`.\n",
      "\n",
      "Current values:\n",
      "NotebookApp.iopub_msg_rate_limit=1000.0 (msgs/sec)\n",
      "NotebookApp.rate_limit_window=3.0 (secs)\n",
      "\n",
      "49.6%IOPub message rate exceeded.\n",
      "The notebook server will temporarily stop sending output\n",
      "to the client in order to avoid crashing it.\n",
      "To change this limit, set the config variable\n",
      "`--NotebookApp.iopub_msg_rate_limit`.\n",
      "\n",
      "Current values:\n",
      "NotebookApp.iopub_msg_rate_limit=1000.0 (msgs/sec)\n",
      "NotebookApp.rate_limit_window=3.0 (secs)\n",
      "\n",
      "53.0%IOPub message rate exceeded.\n",
      "The notebook server will temporarily stop sending output\n",
      "to the client in order to avoid crashing it.\n",
      "To change this limit, set the config variable\n",
      "`--NotebookApp.iopub_msg_rate_limit`.\n",
      "\n",
      "Current values:\n",
      "NotebookApp.iopub_msg_rate_limit=1000.0 (msgs/sec)\n",
      "NotebookApp.rate_limit_window=3.0 (secs)\n",
      "\n",
      "56.6%IOPub message rate exceeded.\n",
      "The notebook server will temporarily stop sending output\n",
      "to the client in order to avoid crashing it.\n",
      "To change this limit, set the config variable\n",
      "`--NotebookApp.iopub_msg_rate_limit`.\n",
      "\n",
      "Current values:\n",
      "NotebookApp.iopub_msg_rate_limit=1000.0 (msgs/sec)\n",
      "NotebookApp.rate_limit_window=3.0 (secs)\n",
      "\n",
      "60.1%IOPub message rate exceeded.\n",
      "The notebook server will temporarily stop sending output\n",
      "to the client in order to avoid crashing it.\n",
      "To change this limit, set the config variable\n",
      "`--NotebookApp.iopub_msg_rate_limit`.\n",
      "\n",
      "Current values:\n",
      "NotebookApp.iopub_msg_rate_limit=1000.0 (msgs/sec)\n",
      "NotebookApp.rate_limit_window=3.0 (secs)\n",
      "\n",
      "63.2%IOPub message rate exceeded.\n",
      "The notebook server will temporarily stop sending output\n",
      "to the client in order to avoid crashing it.\n",
      "To change this limit, set the config variable\n",
      "`--NotebookApp.iopub_msg_rate_limit`.\n",
      "\n",
      "Current values:\n",
      "NotebookApp.iopub_msg_rate_limit=1000.0 (msgs/sec)\n",
      "NotebookApp.rate_limit_window=3.0 (secs)\n",
      "\n",
      "66.9%IOPub message rate exceeded.\n",
      "The notebook server will temporarily stop sending output\n",
      "to the client in order to avoid crashing it.\n",
      "To change this limit, set the config variable\n",
      "`--NotebookApp.iopub_msg_rate_limit`.\n",
      "\n",
      "Current values:\n",
      "NotebookApp.iopub_msg_rate_limit=1000.0 (msgs/sec)\n",
      "NotebookApp.rate_limit_window=3.0 (secs)\n",
      "\n",
      "69.8%IOPub message rate exceeded.\n",
      "The notebook server will temporarily stop sending output\n",
      "to the client in order to avoid crashing it.\n",
      "To change this limit, set the config variable\n",
      "`--NotebookApp.iopub_msg_rate_limit`.\n",
      "\n",
      "Current values:\n",
      "NotebookApp.iopub_msg_rate_limit=1000.0 (msgs/sec)\n",
      "NotebookApp.rate_limit_window=3.0 (secs)\n",
      "\n",
      "73.3%IOPub message rate exceeded.\n",
      "The notebook server will temporarily stop sending output\n",
      "to the client in order to avoid crashing it.\n",
      "To change this limit, set the config variable\n",
      "`--NotebookApp.iopub_msg_rate_limit`.\n",
      "\n",
      "Current values:\n",
      "NotebookApp.iopub_msg_rate_limit=1000.0 (msgs/sec)\n",
      "NotebookApp.rate_limit_window=3.0 (secs)\n",
      "\n",
      "77.0%IOPub message rate exceeded.\n",
      "The notebook server will temporarily stop sending output\n",
      "to the client in order to avoid crashing it.\n",
      "To change this limit, set the config variable\n",
      "`--NotebookApp.iopub_msg_rate_limit`.\n",
      "\n",
      "Current values:\n",
      "NotebookApp.iopub_msg_rate_limit=1000.0 (msgs/sec)\n",
      "NotebookApp.rate_limit_window=3.0 (secs)\n",
      "\n",
      "80.1%IOPub message rate exceeded.\n",
      "The notebook server will temporarily stop sending output\n",
      "to the client in order to avoid crashing it.\n",
      "To change this limit, set the config variable\n",
      "`--NotebookApp.iopub_msg_rate_limit`.\n",
      "\n",
      "Current values:\n",
      "NotebookApp.iopub_msg_rate_limit=1000.0 (msgs/sec)\n",
      "NotebookApp.rate_limit_window=3.0 (secs)\n",
      "\n",
      "84.3%IOPub message rate exceeded.\n",
      "The notebook server will temporarily stop sending output\n",
      "to the client in order to avoid crashing it.\n",
      "To change this limit, set the config variable\n",
      "`--NotebookApp.iopub_msg_rate_limit`.\n",
      "\n",
      "Current values:\n",
      "NotebookApp.iopub_msg_rate_limit=1000.0 (msgs/sec)\n",
      "NotebookApp.rate_limit_window=3.0 (secs)\n",
      "\n"
     ]
    },
    {
     "name": "stderr",
     "output_type": "stream",
     "text": [
      "87.4%IOPub message rate exceeded.\n",
      "The notebook server will temporarily stop sending output\n",
      "to the client in order to avoid crashing it.\n",
      "To change this limit, set the config variable\n",
      "`--NotebookApp.iopub_msg_rate_limit`.\n",
      "\n",
      "Current values:\n",
      "NotebookApp.iopub_msg_rate_limit=1000.0 (msgs/sec)\n",
      "NotebookApp.rate_limit_window=3.0 (secs)\n",
      "\n",
      "91.2%IOPub message rate exceeded.\n",
      "The notebook server will temporarily stop sending output\n",
      "to the client in order to avoid crashing it.\n",
      "To change this limit, set the config variable\n",
      "`--NotebookApp.iopub_msg_rate_limit`.\n",
      "\n",
      "Current values:\n",
      "NotebookApp.iopub_msg_rate_limit=1000.0 (msgs/sec)\n",
      "NotebookApp.rate_limit_window=3.0 (secs)\n",
      "\n",
      "94.7%IOPub message rate exceeded.\n",
      "The notebook server will temporarily stop sending output\n",
      "to the client in order to avoid crashing it.\n",
      "To change this limit, set the config variable\n",
      "`--NotebookApp.iopub_msg_rate_limit`.\n",
      "\n",
      "Current values:\n",
      "NotebookApp.iopub_msg_rate_limit=1000.0 (msgs/sec)\n",
      "NotebookApp.rate_limit_window=3.0 (secs)\n",
      "\n",
      "97.9%IOPub message rate exceeded.\n",
      "The notebook server will temporarily stop sending output\n",
      "to the client in order to avoid crashing it.\n",
      "To change this limit, set the config variable\n",
      "`--NotebookApp.iopub_msg_rate_limit`.\n",
      "\n",
      "Current values:\n",
      "NotebookApp.iopub_msg_rate_limit=1000.0 (msgs/sec)\n",
      "NotebookApp.rate_limit_window=3.0 (secs)\n",
      "\n",
      "99.8%"
     ]
    },
    {
     "name": "stdout",
     "output_type": "stream",
     "text": [
      "Extracting ./data/cifar-10-python.tar.gz to ./data\n",
      "Files already downloaded and verified\n"
     ]
    }
   ],
   "source": [
    "train_loader, test_loader = get_data_loaders()"
   ]
  },
  {
   "cell_type": "markdown",
   "metadata": {
    "id": "GJypeiCdXe8C"
   },
   "source": [
    "Next, we'll define our convolutional neural network (CNN) architecture:"
   ]
  },
  {
   "cell_type": "code",
   "execution_count": 7,
   "metadata": {
    "id": "fmY6E1G_UUkb"
   },
   "outputs": [],
   "source": [
    "# Define our CNN (convolutional neural network)\n",
    "class ConvNet(nn.Module):\n",
    "    def __init__(self):\n",
    "        super().__init__()\n",
    "        # The following is a conv layer with 3 input channels,\n",
    "        # 6 output channels, and a kernel size of 5\n",
    "        self.conv1 = nn.Conv2d(3, 6, 5)\n",
    "        self.pool = nn.MaxPool2d(2, 2)\n",
    "        self.conv2 = nn.Conv2d(6, 16, 5)# TODO: Add another conv layer with 6 input channels,\n",
    "                     # 16 output channels, and a kernel size of 5\n",
    "        self.fc1 = nn.Linear(16 * 5 * 5, 120)\n",
    "        self.fc2 = nn.Linear(120, 84)\n",
    "        self.fc3 = nn.Linear( 84,10)# TODO: Add a final dense layer\n",
    "\n",
    "    def forward(self, x):\n",
    "      # \n",
    "      x = self.pool(F.relu(self.conv1(x)))\n",
    "      x = self.pool(F.relu(self.conv2(x)))\n",
    "      x = torch.flatten(x, 1) # flatten all dimensions except batch\n",
    "      x = F.relu(self.fc1(x))\n",
    "      x = F.relu(self.fc2(x))\n",
    "      x = self.fc3(x)\n",
    "      return x"
   ]
  },
  {
   "cell_type": "markdown",
   "metadata": {
    "id": "SVI6ulUNXryw"
   },
   "source": [
    "Now, we need to write a function to train and optimize the neural network model we have defined by training on the CIFAR-10 dataset:"
   ]
  },
  {
   "cell_type": "code",
   "execution_count": 51,
   "metadata": {
    "id": "vN4swsqmXo-R",
    "scrolled": true
   },
   "outputs": [],
   "source": [
    "def train_model():\n",
    "  net = ConvNet()\n",
    "  loss_function = nn.CrossEntropyLoss()\n",
    "  optimizer = optim.SGD(net.parameters(), lr=0.001, momentum=0.9)\n",
    "  num_epochs = 2\n",
    "  print(f\"[Epoch #, Batch #, Average Loss]:\")\n",
    "  for epoch in range(num_epochs):\n",
    "      total_loss = 0.0\n",
    "      for idx, data in enumerate(train_loader, 0):\n",
    "          inputs, labels = data\n",
    "          optimizer.zero_grad()\n",
    "\n",
    "          outputs = net(inputs)\n",
    "          batch_loss = loss_function(outputs, labels)\n",
    "          batch_loss.backward()\n",
    "          optimizer.step()\n",
    "\n",
    "          total_loss += batch_loss.item()\n",
    "          if idx % 2000 == 1999:    # Log average loss every 2000 mini-batches\n",
    "              print(f\"[{epoch + 1}, {idx + 1}, {total_loss / 2000}]\")\n",
    "              total_loss = 0 # Reset total loss\n",
    "  return net\n",
    "\n",
    "trained_net = train_model()"
   ]
  },
  {
   "cell_type": "markdown",
   "metadata": {
    "id": "OQ7M35emX6KV"
   },
   "source": [
    "Finally, let's evaluate our baseline model's performance on the validation dataset:"
   ]
  },
  {
   "cell_type": "code",
   "execution_count": null,
   "metadata": {
    "id": "uozN7noHX4Tu"
   },
   "outputs": [],
   "source": [
    "# Now we use our trained model to find our accuracy on the test dataset:\n",
    "\n",
    "with torch.no_grad():\n",
    "  correct_count = 0\n",
    "  total_count = 0\n",
    "  for data in test_loader:\n",
    "    images, labels = data\n",
    "    outputs = trained_net(images)\n",
    "    # Find the index with the highest predicted value in our model output:\n",
    "    _, predicted = torch.max(outputs.data, 1)\n",
    "    total_count += labels.size(0)\n",
    "    correct_count += (predicted == labels).sum().item()\n",
    "\n",
    "print(f\"Baseline model accuracy: {100 * correct_count / total_count}%\")"
   ]
  },
  {
   "cell_type": "markdown",
   "metadata": {
    "id": "pFyRvvysgXv1"
   },
   "source": [
    "You should get something in the range 40-60%. Not bad, given that a naïve guess would give us 10% accuracy, but we can do a lot better. Let's first try using the `ray.tune` package to implement a simple random search."
   ]
  },
  {
   "cell_type": "markdown",
   "metadata": {
    "id": "9mEWP3TrhzL5"
   },
   "source": [
    "First, we need to combine our training and validation steps into a single dataset. Ray requires a single function, and we would like to optimize over the mean accuracy on our validation dataset."
   ]
  },
  {
   "cell_type": "code",
   "execution_count": 8,
   "metadata": {
    "id": "mEoQ2LZclSR4"
   },
   "outputs": [],
   "source": [
    "def evaluate_model(net, data_loader):\n",
    "  with torch.no_grad():\n",
    "    correct_count = 0\n",
    "    total_count = 0\n",
    "    for data in data_loader:\n",
    "      images, labels = data\n",
    "      outputs = net(images)\n",
    "      # Find the index with the highest predicted value in our model output:\n",
    "      _, predicted = torch.max(outputs.data, 1)\n",
    "      total_count += labels.size(0)\n",
    "      correct_count += (predicted == labels).sum().item()\n",
    "  mean_val_accuracy = correct_count / total_count\n",
    "  return mean_val_accuracy"
   ]
  },
  {
   "cell_type": "code",
   "execution_count": 9,
   "metadata": {
    "id": "LAAXpPcjhxCj"
   },
   "outputs": [],
   "source": [
    "import os\n",
    "def train_eval_model(config, checkpoint_dir=\"/checkpoints\"):\n",
    "  # Create our data loaders, model, and optimizer.\n",
    "  step = 0\n",
    "  train_loader, test_loader = get_data_loaders()\n",
    "\n",
    "  model = ConvNet()\n",
    "  loss_function = nn.CrossEntropyLoss()\n",
    "  # Notice that we dynamically extract hyperparameters from the config dict:\n",
    "  optimizer = optim.SGD(model.parameters(),\n",
    "                        lr=config.get(\"lr\", 0.01),\n",
    "                        momentum=config.get(\"momentum\", 0.9))\n",
    "  print(f\"[Epoch #, Batch #, Average Loss]:\")\n",
    "  while True:\n",
    "    # Train model\n",
    "    for epoch in range(config.get(\"num_epochs\", 2)):\n",
    "      total_loss = 0.0\n",
    "      for idx, data in enumerate(train_loader, 0):\n",
    "          inputs, labels = data\n",
    "          optimizer.zero_grad()\n",
    "\n",
    "          outputs = model(inputs)\n",
    "          batch_loss = loss_function(outputs, labels)\n",
    "          batch_loss.backward()\n",
    "          optimizer.step()\n",
    "\n",
    "          total_loss += batch_loss.item()\n",
    "          if idx % 2000 == 1999:    # Log average loss every 2000 mini-batches\n",
    "              print(f\"[{epoch + 1}, {idx + 1}, {total_loss / 2000}]\")\n",
    "              total_loss = 0 # Reset total loss\n",
    "    mean_val_accuracy = evaluate_model(net, test_loader)\n",
    "    print(f\"Step {step} mean validation accuracy: {mean_val_accuracy}\")\n",
    "\n",
    "    # Report to Ray to manage HP tuning\n",
    "    if step % 5 == 0:\n",
    "      # Every 5 steps, checkpoint our current state\n",
    "      with tune.checkpoint_dir(step=step) as checkpoint_dir:\n",
    "          path = os.path.join(checkpoint_dir, \"checkpoint\")\n",
    "          torch.save({\n",
    "              \"step\": step,\n",
    "              \"model_state_dict\": model.state_dict(),\n",
    "              \"mean_accuracy\": mean_val_accuracy\n",
    "          }, path)\n",
    "    step += 1\n",
    "    tune.report(mean_accuracy=mean_val_accuracy, iterations=step)"
   ]
  },
  {
   "cell_type": "code",
   "execution_count": null,
   "metadata": {
    "id": "WZjkWnqdgOaC"
   },
   "outputs": [],
   "source": [
    "analysis = tune.run(\n",
    "  train_eval_model,\n",
    "  metric=\"mean_accuracy\",\n",
    "  mode=\"max\",\n",
    "  num_samples=5,\n",
    "  config={\n",
    "      # TODO: Using tune.choice and tune.uniform, provide a sample range\n",
    "      # for random search for the epoch count, learning rate, and momentum:\n",
    "      # \"epochs\": <your code>,\n",
    "      # \"lr\": <your code>,\n",
    "      # \"momentum\": <your code>,\n",
    "  })"
   ]
  },
  {
   "cell_type": "markdown",
   "metadata": {
    "id": "Ee7Y5onKongs"
   },
   "source": [
    "With a purely random approach, you will likely see a wide variety of model performances. Instead, we should try to select our hyperparameters more cleverly."
   ]
  },
  {
   "cell_type": "markdown",
   "metadata": {
    "id": "cSposfpgpIIo"
   },
   "source": [
    "## Problem 1: Population-Based Training\n",
    "\n",
    "Population-based training builds off of the random and grid search approaches to hyperparameter tuning that we have explored in class, by choosing a more clever way of refining . This same technique was used by DeepMind in optimizing hyperparameters for solving Atari, StarCraft II, and has also proven successful in tuning other types of models like generative adversarial networks (GANs) and machine translation models. In essence, it's a highly adaptable, largely model-agnostic method that can greatly streamline the hyperparameter tuning process.\n",
    "\n"
   ]
  },
  {
   "cell_type": "markdown",
   "metadata": {
    "id": "j0s7f0Rs3WQZ"
   },
   "source": [
    "First, we define our scheduler. This is the principal component of PBT that allocates different HP configurations for different trials during the HPO process:"
   ]
  },
  {
   "cell_type": "code",
   "execution_count": 16,
   "metadata": {
    "id": "gxviviX2om6p"
   },
   "outputs": [],
   "source": [
    "pbt_scheduler = PopulationBasedTraining(\n",
    "    perturbation_interval=2,\n",
    "    hyperparam_mutations={\n",
    "        # distribution for resampling\n",
    "        \"lr\": lambda: np.random.uniform(0.0001, 1),\n",
    "        # allow perturbations within this set of categorical values\n",
    "        \"momentum\": [0.8, 0.9, 0.99],\n",
    "    }\n",
    ")"
   ]
  },
  {
   "cell_type": "markdown",
   "metadata": {
    "id": "rX1H067w3dZp"
   },
   "source": [
    "Next, we define a Stopper to halt the HP optimization when we reach 20 trials or the mean validation accuracy exceeds 60%."
   ]
  },
  {
   "cell_type": "code",
   "execution_count": 10,
   "metadata": {
    "id": "Zn-HCd9Uk-8K"
   },
   "outputs": [],
   "source": [
    "class Stopper(tune.Stopper):\n",
    "        def __init__(self):\n",
    "            self.should_stop = False\n",
    "\n",
    "        def __call__(self, trial_id, result):\n",
    "            max_num_trials = 20\n",
    "            if not self.should_stop and result[\"mean_accuracy\"] > 0.7:\n",
    "              self.should_stop = True\n",
    "            return self.should_stop or result[\"training_iteration\"] >= max_num_trials\n",
    "\n",
    "        def stop_all(self):\n",
    "            return self.should_stop"
   ]
  },
  {
   "cell_type": "code",
   "execution_count": 18,
   "metadata": {
    "colab": {
     "background_save": true
    },
    "id": "8VaxxcM2k8rz"
   },
   "outputs": [
    {
     "data": {
      "text/html": [
       "== Status ==<br>Current time: 2021-11-30 23:36:06 (running for 00:01:15.97)<br>Memory usage on this node: 10.8/16.0 GiB<br>PopulationBasedTraining: 0 checkpoints, 0 perturbs<br>Resources requested: 4.0/12 CPUs, 0/0 GPUs, 0.0/4.75 GiB heap, 0.0/2.37 GiB objects<br>Result logdir: /Users/wenxindong/ray_results/pbt_test<br>Number of trials: 4/4 (4 RUNNING)<br><br>"
      ],
      "text/plain": [
       "<IPython.core.display.HTML object>"
      ]
     },
     "metadata": {},
     "output_type": "display_data"
    },
    {
     "name": "stderr",
     "output_type": "stream",
     "text": [
      "2021-11-30 23:36:06,668\tERROR tune.py:626 -- Trials did not complete: [train_eval_model_2aa5e_00000, train_eval_model_2aa5e_00001, train_eval_model_2aa5e_00002, train_eval_model_2aa5e_00003]\n",
      "2021-11-30 23:36:06,670\tINFO tune.py:630 -- Total run time: 76.53 seconds (75.97 seconds for the tuning loop).\n",
      "2021-11-30 23:36:06,671\tWARNING tune.py:635 -- Experiment has been interrupted, but the most recent state was saved. You can continue running this experiment by passing `resume=True` to `tune.run()`\n"
     ]
    }
   ],
   "source": [
    "pbt_analysis = tune.run(\n",
    "    train_eval_model,\n",
    "    name=\"pbt_test\",\n",
    "    scheduler=pbt_scheduler,\n",
    "    metric=\"mean_accuracy\",\n",
    "    mode=\"max\",\n",
    "    verbose=1,\n",
    "    stop=Stopper(),\n",
    "    export_formats=[ExportFormat.MODEL],\n",
    "    checkpoint_score_attr=\"mean_accuracy\",\n",
    "    keep_checkpoints_num=4,\n",
    "    num_samples=4,\n",
    "    config={\"lr\": tune.choice([1e-5, 1e-3]),\"momentum\": tune.choice([0.85, 0.95]),})"
   ]
  },
  {
   "cell_type": "markdown",
   "metadata": {
    "id": "IC_DeaqZIhXF"
   },
   "source": [
    "Use the following code to plot your results. What is your best mean validation accuracy? What would you need to get it even higher and gain substantial improvement over random search HPO?\n",
    "\n",
    "  **TODO**: Your response."
   ]
  },
  {
   "cell_type": "code",
   "execution_count": 53,
   "metadata": {
    "id": "sO_Apr7W1oxn"
   },
   "outputs": [],
   "source": [
    "pbt_analysis.best_result['mean_accuracy']"
   ]
  },
  {
   "cell_type": "code",
   "execution_count": 1,
   "metadata": {
    "id": "6x8zTzOG0nO2"
   },
   "outputs": [
    {
     "ename": "NameError",
     "evalue": "name 'pbt_analysis' is not defined",
     "output_type": "error",
     "traceback": [
      "\u001b[0;31m---------------------------------------------------------------------------\u001b[0m",
      "\u001b[0;31mNameError\u001b[0m                                 Traceback (most recent call last)",
      "\u001b[0;32m<ipython-input-1-461c6b6f7b32>\u001b[0m in \u001b[0;36m<module>\u001b[0;34m\u001b[0m\n\u001b[1;32m      2\u001b[0m \u001b[0;31m# Plot by wall-clock time\u001b[0m\u001b[0;34m\u001b[0m\u001b[0;34m\u001b[0m\u001b[0;34m\u001b[0m\u001b[0m\n\u001b[1;32m      3\u001b[0m \u001b[0;34m\u001b[0m\u001b[0m\n\u001b[0;32m----> 4\u001b[0;31m \u001b[0mdfs\u001b[0m \u001b[0;34m=\u001b[0m \u001b[0mpbt_analysis\u001b[0m\u001b[0;34m.\u001b[0m\u001b[0mfetch_trial_dataframes\u001b[0m\u001b[0;34m(\u001b[0m\u001b[0;34m)\u001b[0m\u001b[0;34m\u001b[0m\u001b[0;34m\u001b[0m\u001b[0m\n\u001b[0m\u001b[1;32m      5\u001b[0m \u001b[0mprint\u001b[0m\u001b[0;34m(\u001b[0m\u001b[0mdfs\u001b[0m\u001b[0;34m)\u001b[0m\u001b[0;34m\u001b[0m\u001b[0;34m\u001b[0m\u001b[0m\n\u001b[1;32m      6\u001b[0m \u001b[0;31m# This plots everything on the same plot\u001b[0m\u001b[0;34m\u001b[0m\u001b[0;34m\u001b[0m\u001b[0;34m\u001b[0m\u001b[0m\n",
      "\u001b[0;31mNameError\u001b[0m: name 'pbt_analysis' is not defined"
     ]
    }
   ],
   "source": [
    "from matplotlib import pyplot as plt\n",
    "# Plot by wall-clock time\n",
    "\n",
    "dfs = pbt_analysis.fetch_trial_dataframes()\n",
    "print(dfs)\n",
    "# This plots everything on the same plot\n",
    "ax = None\n",
    "for d in dfs.values():\n",
    "    ax = d.plot(\"training_iteration\", \"mean_accuracy\", ax=ax, legend=False)\n",
    "\n",
    "plt.xlabel(\"epoch\"); plt.ylabel(\"Test Accuracy\"); "
   ]
  },
  {
   "cell_type": "markdown",
   "metadata": {
    "id": "E34W26bRq9C5"
   },
   "source": [
    "# Questions\n",
    "\n",
    "1. Why does PBT tend to find good regions of hyperparameter space faster than random search? \n",
    "\n",
    "    **TODO**: Your response.\n",
    "\n",
    "2. In what cases might you begin with random search rather than a more complex algorithm like PBT?\n",
    "\n",
    "    **TODO**: Your response.\n",
    "\n",
    "3. Why is it that PBT cannot be used to tune model architecture hyperparameters?\n",
    "\n",
    "    **TODO**: Your response."
   ]
  },
  {
   "cell_type": "markdown",
   "metadata": {
    "id": "1JQEKrOisNVF"
   },
   "source": [
    "## Problem 2: ASHA\n",
    "\n",
    "With ASHA, we will attempt to address some of the deficits that we encountered using PBT. ASHA is one of the options including in the `ray.tune` library, so we can use a similar `scheduler` and `analysis` definition in preparing our ASHA hyperparameter search. "
   ]
  },
  {
   "cell_type": "code",
   "execution_count": 11,
   "metadata": {
    "id": "o1d-Fd4Yq7uk"
   },
   "outputs": [],
   "source": [
    "# Import PyTorch and vision libraries\n",
    "import torch\n",
    "import torchvision\n",
    "import torchvision.transforms as transforms\n",
    "import torch.nn as nn\n",
    "import torch.nn.functional as F\n",
    "import torch.optim as optim\n",
    "import ray\n",
    "from ray import tune\n",
    "from ray.tune.schedulers import PopulationBasedTraining\n",
    "from ray.tune.trial import ExportFormat\n",
    "import numpy as np\n",
    "\n",
    "def evaluate_model(net, data_loader):\n",
    "  with torch.no_grad():\n",
    "    correct_count = 0\n",
    "    total_count = 0\n",
    "    for data in data_loader:\n",
    "      images, labels = data\n",
    "      outputs = net(images)\n",
    "      # Find the index with the highest predicted value in our model output:\n",
    "      _, predicted = torch.max(outputs.data, 1)\n",
    "      total_count += labels.size(0)\n",
    "      correct_count += (predicted == labels).sum().item()\n",
    "  mean_val_accuracy = correct_count / total_count\n",
    "  return mean_val_accuracy\n",
    "\n",
    "def get_data_loaders(config):\n",
    "  transform = transforms.Compose(\n",
    "    [transforms.ToTensor(),\n",
    "     transforms.Normalize((0.5, 0.5, 0.5), (0.5, 0.5, 0.5))])\n",
    "  train_dataset = torchvision.datasets.CIFAR10(root='./data', train=True,\n",
    "                                              download=True, transform=transform)\n",
    "\n",
    "  test_dataset = torchvision.datasets.CIFAR10(root='./data', train=False,\n",
    "                                            download=True, transform=transform)\n",
    "\n",
    "  batch_size = config[\"batch\"]\n",
    "  train_loader = torch.utils.data.DataLoader(train_dataset, batch_size=batch_size,\n",
    "                                            shuffle=True, num_workers=2)\n",
    "\n",
    "  test_loader = torch.utils.data.DataLoader(test_dataset, batch_size=batch_size,\n",
    "                                          shuffle=False, num_workers=2)\n",
    "\n",
    "  classes = ('plane', 'car', 'bird', 'cat',\n",
    "            'deer', 'dog', 'frog', 'horse', 'ship', 'truck')\n",
    "  return train_loader, test_loader\n",
    "\n",
    "class HPNet(nn.Module):\n",
    "  # TODO: Fill in these methods, letting the config set the number of \n",
    "  # input/output channels in the first and second layers:\n",
    "  # config is expected to be a dictionary, with values\n",
    "  # config[\"layer1\"] = (kernel size, output channels)\n",
    "  def __init__(self, config):\n",
    "    super().__init__()\n",
    "    kernel_1 = 3\n",
    "    output_channel_1 = config[\"layer1_out\"]\n",
    "    self.conv1 = nn.Conv2d(3, output_channel_1, kernel_1) \n",
    "    self.pool = nn.MaxPool2d(2, 2)\n",
    "    kernel_2 = 3\n",
    "    output_channel_2 = config[\"layer2_out\"] \n",
    "\n",
    "    self.conv2 = nn.Conv2d(output_channel_1, output_channel_2, kernel_2) \n",
    "    self.flattened_linear_input =  int(((32-kernel_1+1)/2 - kernel_2+1) //2) *int(((32-kernel_1+1)/2 - kernel_2+1) //2) *  output_channel_2\n",
    "\n",
    "    self.fc1 = nn.Linear(self.flattened_linear_input, 120) #we need to change 180 to a variable 180 = 5*6*6\n",
    "    self.fc2 = nn.Linear(120, 84)\n",
    "    self.fc3 = nn.Linear(84, 10) # TODO: Add a final dense layer\n",
    "\n",
    "\n",
    "  def forward(self, x):\n",
    "#       print(\"x1\",x.shape)\n",
    "      x = self.pool(F.relu(self.conv1(x)))\n",
    "#       print(\"x2\", x.shape)\n",
    "      x = self.pool(F.relu(self.conv2(x)))\n",
    "#       print(\"x3\", x.shape)  output_channel_1, (32-kernel_1+1)/2 , (32-kernel_1+1)/2\n",
    "      x = torch.flatten(x, 1) # flatten all dimensions except batch\n",
    "#       print(\"x4\", x.shape)\n",
    "      x = F.relu(self.fc1(x))\n",
    "#       print(\"x5\", x.shape)\n",
    "      x = F.relu(self.fc2(x))\n",
    "#       print(\"x6\", x.shape)\n",
    "      x = self.fc3(x)\n",
    "#       print(\"x7\", x.shape)\n",
    "      return x\n",
    "  "
   ]
  },
  {
   "cell_type": "code",
   "execution_count": 12,
   "metadata": {
    "id": "sbtECe2ogW5l"
   },
   "outputs": [],
   "source": [
    "import os\n",
    "def train_eval_model(config, checkpoint_dir=\"/checkpoints\"):\n",
    "  # Create our data loaders, model, and optimizer.\n",
    "  step = 0\n",
    "  train_loader, test_loader = get_data_loaders(config)\n",
    "\n",
    "  model = HPNet(config)\n",
    "  loss_function = nn.CrossEntropyLoss()\n",
    "  optimizer = optim.SGD(model.parameters(),\n",
    "                        lr=config.get(\"lr\", 0.01),\n",
    "                        momentum=config.get(\"momentum\", 0.9))\n",
    "  print(f\"[Epoch #, Batch #, Average Loss]:\")\n",
    "  # Train model\n",
    "  while True:\n",
    "      for epoch in range(config.get(\"num_epochs\", 2)):\n",
    "          total_loss = 0.0\n",
    "          for idx, data in enumerate(train_loader, 0):\n",
    "              inputs, labels = data\n",
    "              optimizer.zero_grad()\n",
    "\n",
    "              outputs = model(inputs)\n",
    "              batch_loss = loss_function(outputs, labels)\n",
    "              batch_loss.backward()\n",
    "              optimizer.step()\n",
    "\n",
    "              total_loss += batch_loss.item()\n",
    "              if idx % 2000 == 1999:    # Log average loss every 2000 mini-batches\n",
    "                  print(f\"[{epoch + 1}, {idx + 1}, {total_loss / 2000}]\")\n",
    "                  total_loss = 0 # Reset total loss\n",
    "\n",
    "      # Evaluate model on validation dataset\n",
    "      mean_val_accuracy = evaluate_model(model, test_loader)\n",
    "\n",
    "      # Report to Ray to manage HP tuning\n",
    "      if step % 5 == 0:\n",
    "        # Every 5 steps, checkpoint our current state.\n",
    "        with tune.checkpoint_dir(step=step) as checkpoint_dir:\n",
    "            # Then create a checkpoint file in this directory.\n",
    "            path = os.path.join(checkpoint_dir, \"checkpoint\")\n",
    "            # Save state to checkpoint file.\n",
    "            # No need to save optimizer for SGD.\n",
    "            torch.save({\n",
    "                \"step\": step,\n",
    "                \"model_state_dict\": model.state_dict(),\n",
    "                \"mean_accuracy\": mean_val_accuracy\n",
    "            }, path)\n",
    "      step += 1\n",
    "      tune.report(mean_accuracy=mean_val_accuracy, iterations=step, training_iteration=step)"
   ]
  },
  {
   "cell_type": "code",
   "execution_count": 16,
   "metadata": {
    "id": "sGVO34Dmgi1n"
   },
   "outputs": [
    {
     "data": {
      "text/html": [
       "== Status ==<br>Current time: 2021-12-02 21:26:26 (running for 00:00:01.76)<br>Memory usage on this node: 9.1/16.0 GiB<br>Using AsyncHyperBand: num_stopped=0\n",
       "Bracket: Iter 512.000: None | Iter 256.000: None | Iter 128.000: None | Iter 64.000: None | Iter 32.000: None | Iter 16.000: None | Iter 8.000: None | Iter 4.000: None | Iter 2.000: None<br>Resources requested: 1.0/12 CPUs, 0/0 GPUs, 0.0/6.1 GiB heap, 0.0/3.05 GiB objects<br>Result logdir: /Users/peterchatain/ray_results/train_asha<br>Number of trials: 4/4 (3 PENDING, 1 RUNNING)<br><br>"
      ],
      "text/plain": [
       "<IPython.core.display.HTML object>"
      ]
     },
     "metadata": {},
     "output_type": "display_data"
    },
    {
     "data": {
      "text/html": [
       "== Status ==<br>Current time: 2021-12-02 21:26:30 (running for 00:00:05.79)<br>Memory usage on this node: 9.4/16.0 GiB<br>Using AsyncHyperBand: num_stopped=0\n",
       "Bracket: Iter 512.000: None | Iter 256.000: None | Iter 128.000: None | Iter 64.000: None | Iter 32.000: None | Iter 16.000: None | Iter 8.000: None | Iter 4.000: None | Iter 2.000: None<br>Resources requested: 4.0/12 CPUs, 0/0 GPUs, 0.0/6.1 GiB heap, 0.0/3.05 GiB objects<br>Result logdir: /Users/peterchatain/ray_results/train_asha<br>Number of trials: 4/4 (4 RUNNING)<br><br>"
      ],
      "text/plain": [
       "<IPython.core.display.HTML object>"
      ]
     },
     "metadata": {},
     "output_type": "display_data"
    },
    {
     "data": {
      "text/html": [
       "== Status ==<br>Current time: 2021-12-02 21:26:35 (running for 00:00:10.81)<br>Memory usage on this node: 9.4/16.0 GiB<br>Using AsyncHyperBand: num_stopped=0\n",
       "Bracket: Iter 512.000: None | Iter 256.000: None | Iter 128.000: None | Iter 64.000: None | Iter 32.000: None | Iter 16.000: None | Iter 8.000: None | Iter 4.000: None | Iter 2.000: None<br>Resources requested: 4.0/12 CPUs, 0/0 GPUs, 0.0/6.1 GiB heap, 0.0/3.05 GiB objects<br>Result logdir: /Users/peterchatain/ray_results/train_asha<br>Number of trials: 4/4 (4 RUNNING)<br><br>"
      ],
      "text/plain": [
       "<IPython.core.display.HTML object>"
      ]
     },
     "metadata": {},
     "output_type": "display_data"
    },
    {
     "data": {
      "text/html": [
       "== Status ==<br>Current time: 2021-12-02 21:26:40 (running for 00:00:15.83)<br>Memory usage on this node: 9.5/16.0 GiB<br>Using AsyncHyperBand: num_stopped=0\n",
       "Bracket: Iter 512.000: None | Iter 256.000: None | Iter 128.000: None | Iter 64.000: None | Iter 32.000: None | Iter 16.000: None | Iter 8.000: None | Iter 4.000: None | Iter 2.000: None<br>Resources requested: 4.0/12 CPUs, 0/0 GPUs, 0.0/6.1 GiB heap, 0.0/3.05 GiB objects<br>Result logdir: /Users/peterchatain/ray_results/train_asha<br>Number of trials: 4/4 (4 RUNNING)<br><br>"
      ],
      "text/plain": [
       "<IPython.core.display.HTML object>"
      ]
     },
     "metadata": {},
     "output_type": "display_data"
    },
    {
     "data": {
      "text/html": [
       "== Status ==<br>Current time: 2021-12-02 21:26:45 (running for 00:00:20.86)<br>Memory usage on this node: 9.5/16.0 GiB<br>Using AsyncHyperBand: num_stopped=0\n",
       "Bracket: Iter 512.000: None | Iter 256.000: None | Iter 128.000: None | Iter 64.000: None | Iter 32.000: None | Iter 16.000: None | Iter 8.000: None | Iter 4.000: None | Iter 2.000: None<br>Resources requested: 4.0/12 CPUs, 0/0 GPUs, 0.0/6.1 GiB heap, 0.0/3.05 GiB objects<br>Result logdir: /Users/peterchatain/ray_results/train_asha<br>Number of trials: 4/4 (4 RUNNING)<br><br>"
      ],
      "text/plain": [
       "<IPython.core.display.HTML object>"
      ]
     },
     "metadata": {},
     "output_type": "display_data"
    },
    {
     "data": {
      "text/html": [
       "== Status ==<br>Current time: 2021-12-02 21:26:50 (running for 00:00:25.88)<br>Memory usage on this node: 10.1/16.0 GiB<br>Using AsyncHyperBand: num_stopped=0\n",
       "Bracket: Iter 512.000: None | Iter 256.000: None | Iter 128.000: None | Iter 64.000: None | Iter 32.000: None | Iter 16.000: None | Iter 8.000: None | Iter 4.000: None | Iter 2.000: None<br>Resources requested: 4.0/12 CPUs, 0/0 GPUs, 0.0/6.1 GiB heap, 0.0/3.05 GiB objects<br>Result logdir: /Users/peterchatain/ray_results/train_asha<br>Number of trials: 4/4 (4 RUNNING)<br><br>"
      ],
      "text/plain": [
       "<IPython.core.display.HTML object>"
      ]
     },
     "metadata": {},
     "output_type": "display_data"
    },
    {
     "data": {
      "text/html": [
       "== Status ==<br>Current time: 2021-12-02 21:26:55 (running for 00:00:30.90)<br>Memory usage on this node: 10.1/16.0 GiB<br>Using AsyncHyperBand: num_stopped=0\n",
       "Bracket: Iter 512.000: None | Iter 256.000: None | Iter 128.000: None | Iter 64.000: None | Iter 32.000: None | Iter 16.000: None | Iter 8.000: None | Iter 4.000: None | Iter 2.000: None<br>Resources requested: 4.0/12 CPUs, 0/0 GPUs, 0.0/6.1 GiB heap, 0.0/3.05 GiB objects<br>Result logdir: /Users/peterchatain/ray_results/train_asha<br>Number of trials: 4/4 (4 RUNNING)<br><br>"
      ],
      "text/plain": [
       "<IPython.core.display.HTML object>"
      ]
     },
     "metadata": {},
     "output_type": "display_data"
    },
    {
     "data": {
      "text/html": [
       "== Status ==<br>Current time: 2021-12-02 21:27:00 (running for 00:00:35.91)<br>Memory usage on this node: 10.1/16.0 GiB<br>Using AsyncHyperBand: num_stopped=0\n",
       "Bracket: Iter 512.000: None | Iter 256.000: None | Iter 128.000: None | Iter 64.000: None | Iter 32.000: None | Iter 16.000: None | Iter 8.000: None | Iter 4.000: None | Iter 2.000: None<br>Resources requested: 4.0/12 CPUs, 0/0 GPUs, 0.0/6.1 GiB heap, 0.0/3.05 GiB objects<br>Result logdir: /Users/peterchatain/ray_results/train_asha<br>Number of trials: 4/4 (4 RUNNING)<br><br>"
      ],
      "text/plain": [
       "<IPython.core.display.HTML object>"
      ]
     },
     "metadata": {},
     "output_type": "display_data"
    },
    {
     "data": {
      "text/html": [
       "== Status ==<br>Current time: 2021-12-02 21:27:05 (running for 00:00:40.94)<br>Memory usage on this node: 9.7/16.0 GiB<br>Using AsyncHyperBand: num_stopped=0\n",
       "Bracket: Iter 512.000: None | Iter 256.000: None | Iter 128.000: None | Iter 64.000: None | Iter 32.000: None | Iter 16.000: None | Iter 8.000: None | Iter 4.000: None | Iter 2.000: None<br>Resources requested: 4.0/12 CPUs, 0/0 GPUs, 0.0/6.1 GiB heap, 0.0/3.05 GiB objects<br>Result logdir: /Users/peterchatain/ray_results/train_asha<br>Number of trials: 4/4 (4 RUNNING)<br><br>"
      ],
      "text/plain": [
       "<IPython.core.display.HTML object>"
      ]
     },
     "metadata": {},
     "output_type": "display_data"
    },
    {
     "data": {
      "text/html": [
       "== Status ==<br>Current time: 2021-12-02 21:27:10 (running for 00:00:45.95)<br>Memory usage on this node: 10.0/16.0 GiB<br>Using AsyncHyperBand: num_stopped=0\n",
       "Bracket: Iter 512.000: None | Iter 256.000: None | Iter 128.000: None | Iter 64.000: None | Iter 32.000: None | Iter 16.000: None | Iter 8.000: None | Iter 4.000: None | Iter 2.000: None<br>Resources requested: 4.0/12 CPUs, 0/0 GPUs, 0.0/6.1 GiB heap, 0.0/3.05 GiB objects<br>Result logdir: /Users/peterchatain/ray_results/train_asha<br>Number of trials: 4/4 (4 RUNNING)<br><br>"
      ],
      "text/plain": [
       "<IPython.core.display.HTML object>"
      ]
     },
     "metadata": {},
     "output_type": "display_data"
    },
    {
     "data": {
      "text/html": [
       "== Status ==<br>Current time: 2021-12-02 21:27:15 (running for 00:00:50.97)<br>Memory usage on this node: 10.5/16.0 GiB<br>Using AsyncHyperBand: num_stopped=0\n",
       "Bracket: Iter 512.000: None | Iter 256.000: None | Iter 128.000: None | Iter 64.000: None | Iter 32.000: None | Iter 16.000: None | Iter 8.000: None | Iter 4.000: None | Iter 2.000: None<br>Resources requested: 4.0/12 CPUs, 0/0 GPUs, 0.0/6.1 GiB heap, 0.0/3.05 GiB objects<br>Result logdir: /Users/peterchatain/ray_results/train_asha<br>Number of trials: 4/4 (4 RUNNING)<br><br>"
      ],
      "text/plain": [
       "<IPython.core.display.HTML object>"
      ]
     },
     "metadata": {},
     "output_type": "display_data"
    },
    {
     "data": {
      "text/html": [
       "== Status ==<br>Current time: 2021-12-02 21:27:20 (running for 00:00:55.99)<br>Memory usage on this node: 10.7/16.0 GiB<br>Using AsyncHyperBand: num_stopped=0\n",
       "Bracket: Iter 512.000: None | Iter 256.000: None | Iter 128.000: None | Iter 64.000: None | Iter 32.000: None | Iter 16.000: None | Iter 8.000: None | Iter 4.000: None | Iter 2.000: None<br>Resources requested: 4.0/12 CPUs, 0/0 GPUs, 0.0/6.1 GiB heap, 0.0/3.05 GiB objects<br>Result logdir: /Users/peterchatain/ray_results/train_asha<br>Number of trials: 4/4 (4 RUNNING)<br><br>"
      ],
      "text/plain": [
       "<IPython.core.display.HTML object>"
      ]
     },
     "metadata": {},
     "output_type": "display_data"
    },
    {
     "data": {
      "text/html": [
       "== Status ==<br>Current time: 2021-12-02 21:27:25 (running for 00:01:01.02)<br>Memory usage on this node: 10.5/16.0 GiB<br>Using AsyncHyperBand: num_stopped=0\n",
       "Bracket: Iter 512.000: None | Iter 256.000: None | Iter 128.000: None | Iter 64.000: None | Iter 32.000: None | Iter 16.000: None | Iter 8.000: None | Iter 4.000: None | Iter 2.000: None<br>Resources requested: 4.0/12 CPUs, 0/0 GPUs, 0.0/6.1 GiB heap, 0.0/3.05 GiB objects<br>Result logdir: /Users/peterchatain/ray_results/train_asha<br>Number of trials: 4/4 (4 RUNNING)<br><br>"
      ],
      "text/plain": [
       "<IPython.core.display.HTML object>"
      ]
     },
     "metadata": {},
     "output_type": "display_data"
    },
    {
     "data": {
      "text/html": [
       "== Status ==<br>Current time: 2021-12-02 21:27:30 (running for 00:01:06.04)<br>Memory usage on this node: 9.6/16.0 GiB<br>Using AsyncHyperBand: num_stopped=0\n",
       "Bracket: Iter 512.000: None | Iter 256.000: None | Iter 128.000: None | Iter 64.000: None | Iter 32.000: None | Iter 16.000: None | Iter 8.000: None | Iter 4.000: None | Iter 2.000: None<br>Resources requested: 4.0/12 CPUs, 0/0 GPUs, 0.0/6.1 GiB heap, 0.0/3.05 GiB objects<br>Result logdir: /Users/peterchatain/ray_results/train_asha<br>Number of trials: 4/4 (4 RUNNING)<br><br>"
      ],
      "text/plain": [
       "<IPython.core.display.HTML object>"
      ]
     },
     "metadata": {},
     "output_type": "display_data"
    },
    {
     "data": {
      "text/html": [
       "== Status ==<br>Current time: 2021-12-02 21:27:35 (running for 00:01:11.06)<br>Memory usage on this node: 9.7/16.0 GiB<br>Using AsyncHyperBand: num_stopped=0\n",
       "Bracket: Iter 512.000: None | Iter 256.000: None | Iter 128.000: None | Iter 64.000: None | Iter 32.000: None | Iter 16.000: None | Iter 8.000: None | Iter 4.000: None | Iter 2.000: None<br>Resources requested: 4.0/12 CPUs, 0/0 GPUs, 0.0/6.1 GiB heap, 0.0/3.05 GiB objects<br>Result logdir: /Users/peterchatain/ray_results/train_asha<br>Number of trials: 4/4 (4 RUNNING)<br><br>"
      ],
      "text/plain": [
       "<IPython.core.display.HTML object>"
      ]
     },
     "metadata": {},
     "output_type": "display_data"
    },
    {
     "data": {
      "text/html": [
       "== Status ==<br>Current time: 2021-12-02 21:27:40 (running for 00:01:16.08)<br>Memory usage on this node: 9.7/16.0 GiB<br>Using AsyncHyperBand: num_stopped=0\n",
       "Bracket: Iter 512.000: None | Iter 256.000: None | Iter 128.000: None | Iter 64.000: None | Iter 32.000: None | Iter 16.000: None | Iter 8.000: None | Iter 4.000: None | Iter 2.000: None<br>Resources requested: 4.0/12 CPUs, 0/0 GPUs, 0.0/6.1 GiB heap, 0.0/3.05 GiB objects<br>Result logdir: /Users/peterchatain/ray_results/train_asha<br>Number of trials: 4/4 (4 RUNNING)<br><br>"
      ],
      "text/plain": [
       "<IPython.core.display.HTML object>"
      ]
     },
     "metadata": {},
     "output_type": "display_data"
    },
    {
     "data": {
      "text/html": [
       "== Status ==<br>Current time: 2021-12-02 21:27:45 (running for 00:01:21.10)<br>Memory usage on this node: 9.6/16.0 GiB<br>Using AsyncHyperBand: num_stopped=0\n",
       "Bracket: Iter 512.000: None | Iter 256.000: None | Iter 128.000: None | Iter 64.000: None | Iter 32.000: None | Iter 16.000: None | Iter 8.000: None | Iter 4.000: None | Iter 2.000: None<br>Resources requested: 4.0/12 CPUs, 0/0 GPUs, 0.0/6.1 GiB heap, 0.0/3.05 GiB objects<br>Result logdir: /Users/peterchatain/ray_results/train_asha<br>Number of trials: 4/4 (4 RUNNING)<br><br>"
      ],
      "text/plain": [
       "<IPython.core.display.HTML object>"
      ]
     },
     "metadata": {},
     "output_type": "display_data"
    },
    {
     "data": {
      "text/html": [
       "== Status ==<br>Current time: 2021-12-02 21:27:50 (running for 00:01:26.12)<br>Memory usage on this node: 9.7/16.0 GiB<br>Using AsyncHyperBand: num_stopped=0\n",
       "Bracket: Iter 512.000: None | Iter 256.000: None | Iter 128.000: None | Iter 64.000: None | Iter 32.000: None | Iter 16.000: None | Iter 8.000: None | Iter 4.000: None | Iter 2.000: None<br>Resources requested: 4.0/12 CPUs, 0/0 GPUs, 0.0/6.1 GiB heap, 0.0/3.05 GiB objects<br>Result logdir: /Users/peterchatain/ray_results/train_asha<br>Number of trials: 4/4 (4 RUNNING)<br><br>"
      ],
      "text/plain": [
       "<IPython.core.display.HTML object>"
      ]
     },
     "metadata": {},
     "output_type": "display_data"
    },
    {
     "name": "stdout",
     "output_type": "stream",
     "text": [
      "Trial train_eval_model_8eaae_00000 reported mean_accuracy=0.31 with parameters={'layer1_out': 6, 'layer2_out': 18, 'batch': 32, 'lr': 0.0008249470865456945, 'momentum': 0.8721267306546336}.\n"
     ]
    },
    {
     "data": {
      "text/html": [
       "== Status ==<br>Current time: 2021-12-02 21:27:56 (running for 00:01:31.86)<br>Memory usage on this node: 10.1/16.0 GiB<br>Using AsyncHyperBand: num_stopped=0\n",
       "Bracket: Iter 512.000: None | Iter 256.000: None | Iter 128.000: None | Iter 64.000: None | Iter 32.000: None | Iter 16.000: None | Iter 8.000: None | Iter 4.000: None | Iter 2.000: None<br>Resources requested: 4.0/12 CPUs, 0/0 GPUs, 0.0/6.1 GiB heap, 0.0/3.05 GiB objects<br>Current best trial: 8eaae_00000 with mean_accuracy=0.3124 and parameters={'layer1_out': 6, 'layer2_out': 18, 'batch': 32, 'lr': 0.0008249470865456945, 'momentum': 0.8721267306546336}<br>Result logdir: /Users/peterchatain/ray_results/train_asha<br>Number of trials: 4/4 (4 RUNNING)<br><br>"
      ],
      "text/plain": [
       "<IPython.core.display.HTML object>"
      ]
     },
     "metadata": {},
     "output_type": "display_data"
    },
    {
     "data": {
      "text/html": [
       "== Status ==<br>Current time: 2021-12-02 21:28:01 (running for 00:01:36.88)<br>Memory usage on this node: 10.2/16.0 GiB<br>Using AsyncHyperBand: num_stopped=0\n",
       "Bracket: Iter 512.000: None | Iter 256.000: None | Iter 128.000: None | Iter 64.000: None | Iter 32.000: None | Iter 16.000: None | Iter 8.000: None | Iter 4.000: None | Iter 2.000: None<br>Resources requested: 4.0/12 CPUs, 0/0 GPUs, 0.0/6.1 GiB heap, 0.0/3.05 GiB objects<br>Current best trial: 8eaae_00000 with mean_accuracy=0.3124 and parameters={'layer1_out': 6, 'layer2_out': 18, 'batch': 32, 'lr': 0.0008249470865456945, 'momentum': 0.8721267306546336}<br>Result logdir: /Users/peterchatain/ray_results/train_asha<br>Number of trials: 4/4 (4 RUNNING)<br><br>"
      ],
      "text/plain": [
       "<IPython.core.display.HTML object>"
      ]
     },
     "metadata": {},
     "output_type": "display_data"
    },
    {
     "data": {
      "text/html": [
       "== Status ==<br>Current time: 2021-12-02 21:28:06 (running for 00:01:41.90)<br>Memory usage on this node: 9.8/16.0 GiB<br>Using AsyncHyperBand: num_stopped=0\n",
       "Bracket: Iter 512.000: None | Iter 256.000: None | Iter 128.000: None | Iter 64.000: None | Iter 32.000: None | Iter 16.000: None | Iter 8.000: None | Iter 4.000: None | Iter 2.000: None<br>Resources requested: 4.0/12 CPUs, 0/0 GPUs, 0.0/6.1 GiB heap, 0.0/3.05 GiB objects<br>Current best trial: 8eaae_00000 with mean_accuracy=0.3124 and parameters={'layer1_out': 6, 'layer2_out': 18, 'batch': 32, 'lr': 0.0008249470865456945, 'momentum': 0.8721267306546336}<br>Result logdir: /Users/peterchatain/ray_results/train_asha<br>Number of trials: 4/4 (4 RUNNING)<br><br>"
      ],
      "text/plain": [
       "<IPython.core.display.HTML object>"
      ]
     },
     "metadata": {},
     "output_type": "display_data"
    },
    {
     "data": {
      "text/html": [
       "== Status ==<br>Current time: 2021-12-02 21:28:11 (running for 00:01:46.93)<br>Memory usage on this node: 9.4/16.0 GiB<br>Using AsyncHyperBand: num_stopped=0\n",
       "Bracket: Iter 512.000: None | Iter 256.000: None | Iter 128.000: None | Iter 64.000: None | Iter 32.000: None | Iter 16.000: None | Iter 8.000: None | Iter 4.000: None | Iter 2.000: None<br>Resources requested: 4.0/12 CPUs, 0/0 GPUs, 0.0/6.1 GiB heap, 0.0/3.05 GiB objects<br>Current best trial: 8eaae_00000 with mean_accuracy=0.3124 and parameters={'layer1_out': 6, 'layer2_out': 18, 'batch': 32, 'lr': 0.0008249470865456945, 'momentum': 0.8721267306546336}<br>Result logdir: /Users/peterchatain/ray_results/train_asha<br>Number of trials: 4/4 (4 RUNNING)<br><br>"
      ],
      "text/plain": [
       "<IPython.core.display.HTML object>"
      ]
     },
     "metadata": {},
     "output_type": "display_data"
    },
    {
     "name": "stdout",
     "output_type": "stream",
     "text": [
      "Trial train_eval_model_8eaae_00002 reported mean_accuracy=0.48 with parameters={'layer1_out': 7, 'layer2_out': 14, 'batch': 64, 'lr': 0.0054551087797274755, 'momentum': 0.8893105126910178}.\n"
     ]
    },
    {
     "data": {
      "text/html": [
       "== Status ==<br>Current time: 2021-12-02 21:28:17 (running for 00:01:52.80)<br>Memory usage on this node: 9.8/16.0 GiB<br>Using AsyncHyperBand: num_stopped=0\n",
       "Bracket: Iter 512.000: None | Iter 256.000: None | Iter 128.000: None | Iter 64.000: None | Iter 32.000: None | Iter 16.000: None | Iter 8.000: None | Iter 4.000: None | Iter 2.000: None<br>Resources requested: 4.0/12 CPUs, 0/0 GPUs, 0.0/6.1 GiB heap, 0.0/3.05 GiB objects<br>Current best trial: 8eaae_00002 with mean_accuracy=0.4844 and parameters={'layer1_out': 7, 'layer2_out': 14, 'batch': 64, 'lr': 0.0054551087797274755, 'momentum': 0.8893105126910178}<br>Result logdir: /Users/peterchatain/ray_results/train_asha<br>Number of trials: 4/4 (4 RUNNING)<br><br>"
      ],
      "text/plain": [
       "<IPython.core.display.HTML object>"
      ]
     },
     "metadata": {},
     "output_type": "display_data"
    },
    {
     "data": {
      "text/html": [
       "== Status ==<br>Current time: 2021-12-02 21:28:22 (running for 00:01:57.82)<br>Memory usage on this node: 10.0/16.0 GiB<br>Using AsyncHyperBand: num_stopped=0\n",
       "Bracket: Iter 512.000: None | Iter 256.000: None | Iter 128.000: None | Iter 64.000: None | Iter 32.000: None | Iter 16.000: None | Iter 8.000: None | Iter 4.000: None | Iter 2.000: None<br>Resources requested: 4.0/12 CPUs, 0/0 GPUs, 0.0/6.1 GiB heap, 0.0/3.05 GiB objects<br>Current best trial: 8eaae_00002 with mean_accuracy=0.4844 and parameters={'layer1_out': 7, 'layer2_out': 14, 'batch': 64, 'lr': 0.0054551087797274755, 'momentum': 0.8893105126910178}<br>Result logdir: /Users/peterchatain/ray_results/train_asha<br>Number of trials: 4/4 (4 RUNNING)<br><br>"
      ],
      "text/plain": [
       "<IPython.core.display.HTML object>"
      ]
     },
     "metadata": {},
     "output_type": "display_data"
    },
    {
     "data": {
      "text/html": [
       "== Status ==<br>Current time: 2021-12-02 21:28:27 (running for 00:02:02.84)<br>Memory usage on this node: 10.2/16.0 GiB<br>Using AsyncHyperBand: num_stopped=0\n",
       "Bracket: Iter 512.000: None | Iter 256.000: None | Iter 128.000: None | Iter 64.000: None | Iter 32.000: None | Iter 16.000: None | Iter 8.000: None | Iter 4.000: None | Iter 2.000: None<br>Resources requested: 4.0/12 CPUs, 0/0 GPUs, 0.0/6.1 GiB heap, 0.0/3.05 GiB objects<br>Current best trial: 8eaae_00002 with mean_accuracy=0.4844 and parameters={'layer1_out': 7, 'layer2_out': 14, 'batch': 64, 'lr': 0.0054551087797274755, 'momentum': 0.8893105126910178}<br>Result logdir: /Users/peterchatain/ray_results/train_asha<br>Number of trials: 4/4 (4 RUNNING)<br><br>"
      ],
      "text/plain": [
       "<IPython.core.display.HTML object>"
      ]
     },
     "metadata": {},
     "output_type": "display_data"
    },
    {
     "name": "stdout",
     "output_type": "stream",
     "text": [
      "Trial train_eval_model_8eaae_00003 reported mean_accuracy=0.37 with parameters={'layer1_out': 4, 'layer2_out': 14, 'batch': 16, 'lr': 0.021613837508128876, 'momentum': 0.9332141472803626}.\n",
      "Trial train_eval_model_8eaae_00001 reported mean_accuracy=0.44 with parameters={'layer1_out': 6, 'layer2_out': 14, 'batch': 16, 'lr': 0.014954436608229168, 'momentum': 0.939618612981815}.\n"
     ]
    },
    {
     "data": {
      "text/html": [
       "== Status ==<br>Current time: 2021-12-02 21:28:33 (running for 00:02:08.46)<br>Memory usage on this node: 10.3/16.0 GiB<br>Using AsyncHyperBand: num_stopped=0\n",
       "Bracket: Iter 512.000: None | Iter 256.000: None | Iter 128.000: None | Iter 64.000: None | Iter 32.000: None | Iter 16.000: None | Iter 8.000: None | Iter 4.000: None | Iter 2.000: None<br>Resources requested: 4.0/12 CPUs, 0/0 GPUs, 0.0/6.1 GiB heap, 0.0/3.05 GiB objects<br>Current best trial: 8eaae_00002 with mean_accuracy=0.4844 and parameters={'layer1_out': 7, 'layer2_out': 14, 'batch': 64, 'lr': 0.0054551087797274755, 'momentum': 0.8893105126910178}<br>Result logdir: /Users/peterchatain/ray_results/train_asha<br>Number of trials: 4/4 (4 RUNNING)<br><br>"
      ],
      "text/plain": [
       "<IPython.core.display.HTML object>"
      ]
     },
     "metadata": {},
     "output_type": "display_data"
    },
    {
     "data": {
      "text/html": [
       "== Status ==<br>Current time: 2021-12-02 21:28:38 (running for 00:02:13.48)<br>Memory usage on this node: 10.0/16.0 GiB<br>Using AsyncHyperBand: num_stopped=0\n",
       "Bracket: Iter 512.000: None | Iter 256.000: None | Iter 128.000: None | Iter 64.000: None | Iter 32.000: None | Iter 16.000: None | Iter 8.000: None | Iter 4.000: None | Iter 2.000: None<br>Resources requested: 4.0/12 CPUs, 0/0 GPUs, 0.0/6.1 GiB heap, 0.0/3.05 GiB objects<br>Current best trial: 8eaae_00002 with mean_accuracy=0.4844 and parameters={'layer1_out': 7, 'layer2_out': 14, 'batch': 64, 'lr': 0.0054551087797274755, 'momentum': 0.8893105126910178}<br>Result logdir: /Users/peterchatain/ray_results/train_asha<br>Number of trials: 4/4 (4 RUNNING)<br><br>"
      ],
      "text/plain": [
       "<IPython.core.display.HTML object>"
      ]
     },
     "metadata": {},
     "output_type": "display_data"
    },
    {
     "data": {
      "text/html": [
       "== Status ==<br>Current time: 2021-12-02 21:28:43 (running for 00:02:18.50)<br>Memory usage on this node: 10.3/16.0 GiB<br>Using AsyncHyperBand: num_stopped=0\n",
       "Bracket: Iter 512.000: None | Iter 256.000: None | Iter 128.000: None | Iter 64.000: None | Iter 32.000: None | Iter 16.000: None | Iter 8.000: None | Iter 4.000: None | Iter 2.000: None<br>Resources requested: 4.0/12 CPUs, 0/0 GPUs, 0.0/6.1 GiB heap, 0.0/3.05 GiB objects<br>Current best trial: 8eaae_00002 with mean_accuracy=0.4844 and parameters={'layer1_out': 7, 'layer2_out': 14, 'batch': 64, 'lr': 0.0054551087797274755, 'momentum': 0.8893105126910178}<br>Result logdir: /Users/peterchatain/ray_results/train_asha<br>Number of trials: 4/4 (4 RUNNING)<br><br>"
      ],
      "text/plain": [
       "<IPython.core.display.HTML object>"
      ]
     },
     "metadata": {},
     "output_type": "display_data"
    },
    {
     "data": {
      "text/html": [
       "== Status ==<br>Current time: 2021-12-02 21:28:48 (running for 00:02:23.53)<br>Memory usage on this node: 10.5/16.0 GiB<br>Using AsyncHyperBand: num_stopped=0\n",
       "Bracket: Iter 512.000: None | Iter 256.000: None | Iter 128.000: None | Iter 64.000: None | Iter 32.000: None | Iter 16.000: None | Iter 8.000: None | Iter 4.000: None | Iter 2.000: None<br>Resources requested: 4.0/12 CPUs, 0/0 GPUs, 0.0/6.1 GiB heap, 0.0/3.05 GiB objects<br>Current best trial: 8eaae_00002 with mean_accuracy=0.4844 and parameters={'layer1_out': 7, 'layer2_out': 14, 'batch': 64, 'lr': 0.0054551087797274755, 'momentum': 0.8893105126910178}<br>Result logdir: /Users/peterchatain/ray_results/train_asha<br>Number of trials: 4/4 (4 RUNNING)<br><br>"
      ],
      "text/plain": [
       "<IPython.core.display.HTML object>"
      ]
     },
     "metadata": {},
     "output_type": "display_data"
    },
    {
     "data": {
      "text/html": [
       "== Status ==<br>Current time: 2021-12-02 21:28:53 (running for 00:02:28.55)<br>Memory usage on this node: 10.2/16.0 GiB<br>Using AsyncHyperBand: num_stopped=0\n",
       "Bracket: Iter 512.000: None | Iter 256.000: None | Iter 128.000: None | Iter 64.000: None | Iter 32.000: None | Iter 16.000: None | Iter 8.000: None | Iter 4.000: None | Iter 2.000: None<br>Resources requested: 4.0/12 CPUs, 0/0 GPUs, 0.0/6.1 GiB heap, 0.0/3.05 GiB objects<br>Current best trial: 8eaae_00002 with mean_accuracy=0.4844 and parameters={'layer1_out': 7, 'layer2_out': 14, 'batch': 64, 'lr': 0.0054551087797274755, 'momentum': 0.8893105126910178}<br>Result logdir: /Users/peterchatain/ray_results/train_asha<br>Number of trials: 4/4 (4 RUNNING)<br><br>"
      ],
      "text/plain": [
       "<IPython.core.display.HTML object>"
      ]
     },
     "metadata": {},
     "output_type": "display_data"
    },
    {
     "data": {
      "text/html": [
       "== Status ==<br>Current time: 2021-12-02 21:28:58 (running for 00:02:33.57)<br>Memory usage on this node: 9.6/16.0 GiB<br>Using AsyncHyperBand: num_stopped=0\n",
       "Bracket: Iter 512.000: None | Iter 256.000: None | Iter 128.000: None | Iter 64.000: None | Iter 32.000: None | Iter 16.000: None | Iter 8.000: None | Iter 4.000: None | Iter 2.000: None<br>Resources requested: 4.0/12 CPUs, 0/0 GPUs, 0.0/6.1 GiB heap, 0.0/3.05 GiB objects<br>Current best trial: 8eaae_00002 with mean_accuracy=0.4844 and parameters={'layer1_out': 7, 'layer2_out': 14, 'batch': 64, 'lr': 0.0054551087797274755, 'momentum': 0.8893105126910178}<br>Result logdir: /Users/peterchatain/ray_results/train_asha<br>Number of trials: 4/4 (4 RUNNING)<br><br>"
      ],
      "text/plain": [
       "<IPython.core.display.HTML object>"
      ]
     },
     "metadata": {},
     "output_type": "display_data"
    },
    {
     "name": "stdout",
     "output_type": "stream",
     "text": [
      "Trial train_eval_model_8eaae_00000 reported mean_accuracy=0.42 with parameters={'layer1_out': 6, 'layer2_out': 18, 'batch': 32, 'lr': 0.0008249470865456945, 'momentum': 0.8721267306546336}.\n"
     ]
    },
    {
     "data": {
      "text/html": [
       "== Status ==<br>Current time: 2021-12-02 21:29:03 (running for 00:02:38.64)<br>Memory usage on this node: 10.0/16.0 GiB<br>Using AsyncHyperBand: num_stopped=0\n",
       "Bracket: Iter 512.000: None | Iter 256.000: None | Iter 128.000: None | Iter 64.000: None | Iter 32.000: None | Iter 16.000: None | Iter 8.000: None | Iter 4.000: None | Iter 2.000: 0.417<br>Resources requested: 4.0/12 CPUs, 0/0 GPUs, 0.0/6.1 GiB heap, 0.0/3.05 GiB objects<br>Current best trial: 8eaae_00002 with mean_accuracy=0.4844 and parameters={'layer1_out': 7, 'layer2_out': 14, 'batch': 64, 'lr': 0.0054551087797274755, 'momentum': 0.8893105126910178}<br>Result logdir: /Users/peterchatain/ray_results/train_asha<br>Number of trials: 4/4 (4 RUNNING)<br><br>"
      ],
      "text/plain": [
       "<IPython.core.display.HTML object>"
      ]
     },
     "metadata": {},
     "output_type": "display_data"
    },
    {
     "data": {
      "text/html": [
       "== Status ==<br>Current time: 2021-12-02 21:29:08 (running for 00:02:43.67)<br>Memory usage on this node: 10.5/16.0 GiB<br>Using AsyncHyperBand: num_stopped=0\n",
       "Bracket: Iter 512.000: None | Iter 256.000: None | Iter 128.000: None | Iter 64.000: None | Iter 32.000: None | Iter 16.000: None | Iter 8.000: None | Iter 4.000: None | Iter 2.000: 0.417<br>Resources requested: 4.0/12 CPUs, 0/0 GPUs, 0.0/6.1 GiB heap, 0.0/3.05 GiB objects<br>Current best trial: 8eaae_00002 with mean_accuracy=0.4844 and parameters={'layer1_out': 7, 'layer2_out': 14, 'batch': 64, 'lr': 0.0054551087797274755, 'momentum': 0.8893105126910178}<br>Result logdir: /Users/peterchatain/ray_results/train_asha<br>Number of trials: 4/4 (4 RUNNING)<br><br>"
      ],
      "text/plain": [
       "<IPython.core.display.HTML object>"
      ]
     },
     "metadata": {},
     "output_type": "display_data"
    },
    {
     "data": {
      "text/html": [
       "== Status ==<br>Current time: 2021-12-02 21:29:13 (running for 00:02:48.70)<br>Memory usage on this node: 10.6/16.0 GiB<br>Using AsyncHyperBand: num_stopped=0\n",
       "Bracket: Iter 512.000: None | Iter 256.000: None | Iter 128.000: None | Iter 64.000: None | Iter 32.000: None | Iter 16.000: None | Iter 8.000: None | Iter 4.000: None | Iter 2.000: 0.417<br>Resources requested: 4.0/12 CPUs, 0/0 GPUs, 0.0/6.1 GiB heap, 0.0/3.05 GiB objects<br>Current best trial: 8eaae_00002 with mean_accuracy=0.4844 and parameters={'layer1_out': 7, 'layer2_out': 14, 'batch': 64, 'lr': 0.0054551087797274755, 'momentum': 0.8893105126910178}<br>Result logdir: /Users/peterchatain/ray_results/train_asha<br>Number of trials: 4/4 (4 RUNNING)<br><br>"
      ],
      "text/plain": [
       "<IPython.core.display.HTML object>"
      ]
     },
     "metadata": {},
     "output_type": "display_data"
    },
    {
     "data": {
      "text/html": [
       "== Status ==<br>Current time: 2021-12-02 21:29:18 (running for 00:02:53.72)<br>Memory usage on this node: 10.4/16.0 GiB<br>Using AsyncHyperBand: num_stopped=0\n",
       "Bracket: Iter 512.000: None | Iter 256.000: None | Iter 128.000: None | Iter 64.000: None | Iter 32.000: None | Iter 16.000: None | Iter 8.000: None | Iter 4.000: None | Iter 2.000: 0.417<br>Resources requested: 4.0/12 CPUs, 0/0 GPUs, 0.0/6.1 GiB heap, 0.0/3.05 GiB objects<br>Current best trial: 8eaae_00002 with mean_accuracy=0.4844 and parameters={'layer1_out': 7, 'layer2_out': 14, 'batch': 64, 'lr': 0.0054551087797274755, 'momentum': 0.8893105126910178}<br>Result logdir: /Users/peterchatain/ray_results/train_asha<br>Number of trials: 4/4 (4 RUNNING)<br><br>"
      ],
      "text/plain": [
       "<IPython.core.display.HTML object>"
      ]
     },
     "metadata": {},
     "output_type": "display_data"
    },
    {
     "name": "stdout",
     "output_type": "stream",
     "text": [
      "Trial train_eval_model_8eaae_00002 reported mean_accuracy=0.59 with parameters={'layer1_out': 7, 'layer2_out': 14, 'batch': 64, 'lr': 0.0054551087797274755, 'momentum': 0.8893105126910178}.\n"
     ]
    },
    {
     "data": {
      "text/html": [
       "== Status ==<br>Current time: 2021-12-02 21:29:24 (running for 00:02:59.47)<br>Memory usage on this node: 10.0/16.0 GiB<br>Using AsyncHyperBand: num_stopped=0\n",
       "Bracket: Iter 512.000: None | Iter 256.000: None | Iter 128.000: None | Iter 64.000: None | Iter 32.000: None | Iter 16.000: None | Iter 8.000: None | Iter 4.000: None | Iter 2.000: 0.5014<br>Resources requested: 4.0/12 CPUs, 0/0 GPUs, 0.0/6.1 GiB heap, 0.0/3.05 GiB objects<br>Current best trial: 8eaae_00002 with mean_accuracy=0.5858 and parameters={'layer1_out': 7, 'layer2_out': 14, 'batch': 64, 'lr': 0.0054551087797274755, 'momentum': 0.8893105126910178}<br>Result logdir: /Users/peterchatain/ray_results/train_asha<br>Number of trials: 4/4 (4 RUNNING)<br><br>"
      ],
      "text/plain": [
       "<IPython.core.display.HTML object>"
      ]
     },
     "metadata": {},
     "output_type": "display_data"
    },
    {
     "data": {
      "text/html": [
       "== Status ==<br>Current time: 2021-12-02 21:29:29 (running for 00:03:04.50)<br>Memory usage on this node: 10.0/16.0 GiB<br>Using AsyncHyperBand: num_stopped=0\n",
       "Bracket: Iter 512.000: None | Iter 256.000: None | Iter 128.000: None | Iter 64.000: None | Iter 32.000: None | Iter 16.000: None | Iter 8.000: None | Iter 4.000: None | Iter 2.000: 0.5014<br>Resources requested: 4.0/12 CPUs, 0/0 GPUs, 0.0/6.1 GiB heap, 0.0/3.05 GiB objects<br>Current best trial: 8eaae_00002 with mean_accuracy=0.5858 and parameters={'layer1_out': 7, 'layer2_out': 14, 'batch': 64, 'lr': 0.0054551087797274755, 'momentum': 0.8893105126910178}<br>Result logdir: /Users/peterchatain/ray_results/train_asha<br>Number of trials: 4/4 (4 RUNNING)<br><br>"
      ],
      "text/plain": [
       "<IPython.core.display.HTML object>"
      ]
     },
     "metadata": {},
     "output_type": "display_data"
    },
    {
     "data": {
      "text/html": [
       "== Status ==<br>Current time: 2021-12-02 21:29:34 (running for 00:03:09.52)<br>Memory usage on this node: 10.1/16.0 GiB<br>Using AsyncHyperBand: num_stopped=0\n",
       "Bracket: Iter 512.000: None | Iter 256.000: None | Iter 128.000: None | Iter 64.000: None | Iter 32.000: None | Iter 16.000: None | Iter 8.000: None | Iter 4.000: None | Iter 2.000: 0.5014<br>Resources requested: 4.0/12 CPUs, 0/0 GPUs, 0.0/6.1 GiB heap, 0.0/3.05 GiB objects<br>Current best trial: 8eaae_00002 with mean_accuracy=0.5858 and parameters={'layer1_out': 7, 'layer2_out': 14, 'batch': 64, 'lr': 0.0054551087797274755, 'momentum': 0.8893105126910178}<br>Result logdir: /Users/peterchatain/ray_results/train_asha<br>Number of trials: 4/4 (4 RUNNING)<br><br>"
      ],
      "text/plain": [
       "<IPython.core.display.HTML object>"
      ]
     },
     "metadata": {},
     "output_type": "display_data"
    },
    {
     "data": {
      "text/html": [
       "== Status ==<br>Current time: 2021-12-02 21:29:39 (running for 00:03:14.54)<br>Memory usage on this node: 10.3/16.0 GiB<br>Using AsyncHyperBand: num_stopped=0\n",
       "Bracket: Iter 512.000: None | Iter 256.000: None | Iter 128.000: None | Iter 64.000: None | Iter 32.000: None | Iter 16.000: None | Iter 8.000: None | Iter 4.000: None | Iter 2.000: 0.5014<br>Resources requested: 4.0/12 CPUs, 0/0 GPUs, 0.0/6.1 GiB heap, 0.0/3.05 GiB objects<br>Current best trial: 8eaae_00002 with mean_accuracy=0.5858 and parameters={'layer1_out': 7, 'layer2_out': 14, 'batch': 64, 'lr': 0.0054551087797274755, 'momentum': 0.8893105126910178}<br>Result logdir: /Users/peterchatain/ray_results/train_asha<br>Number of trials: 4/4 (4 RUNNING)<br><br>"
      ],
      "text/plain": [
       "<IPython.core.display.HTML object>"
      ]
     },
     "metadata": {},
     "output_type": "display_data"
    },
    {
     "name": "stdout",
     "output_type": "stream",
     "text": [
      "Trial train_eval_model_8eaae_00003 reported mean_accuracy=0.33 with parameters={'layer1_out': 4, 'layer2_out': 14, 'batch': 16, 'lr': 0.021613837508128876, 'momentum': 0.9332141472803626}. This trial completed.\n"
     ]
    },
    {
     "data": {
      "text/html": [
       "== Status ==<br>Current time: 2021-12-02 21:29:44 (running for 00:03:19.55)<br>Memory usage on this node: 10.0/16.0 GiB<br>Using AsyncHyperBand: num_stopped=1\n",
       "Bracket: Iter 512.000: None | Iter 256.000: None | Iter 128.000: None | Iter 64.000: None | Iter 32.000: None | Iter 16.000: None | Iter 8.000: None | Iter 4.000: None | Iter 2.000: 0.417<br>Resources requested: 3.0/12 CPUs, 0/0 GPUs, 0.0/6.1 GiB heap, 0.0/3.05 GiB objects<br>Current best trial: 8eaae_00002 with mean_accuracy=0.5858 and parameters={'layer1_out': 7, 'layer2_out': 14, 'batch': 64, 'lr': 0.0054551087797274755, 'momentum': 0.8893105126910178}<br>Result logdir: /Users/peterchatain/ray_results/train_asha<br>Number of trials: 4/4 (3 RUNNING, 1 TERMINATED)<br><br>"
      ],
      "text/plain": [
       "<IPython.core.display.HTML object>"
      ]
     },
     "metadata": {},
     "output_type": "display_data"
    },
    {
     "data": {
      "text/html": [
       "== Status ==<br>Current time: 2021-12-02 21:29:49 (running for 00:03:24.57)<br>Memory usage on this node: 9.9/16.0 GiB<br>Using AsyncHyperBand: num_stopped=1\n",
       "Bracket: Iter 512.000: None | Iter 256.000: None | Iter 128.000: None | Iter 64.000: None | Iter 32.000: None | Iter 16.000: None | Iter 8.000: None | Iter 4.000: None | Iter 2.000: 0.417<br>Resources requested: 3.0/12 CPUs, 0/0 GPUs, 0.0/6.1 GiB heap, 0.0/3.05 GiB objects<br>Current best trial: 8eaae_00002 with mean_accuracy=0.5858 and parameters={'layer1_out': 7, 'layer2_out': 14, 'batch': 64, 'lr': 0.0054551087797274755, 'momentum': 0.8893105126910178}<br>Result logdir: /Users/peterchatain/ray_results/train_asha<br>Number of trials: 4/4 (3 RUNNING, 1 TERMINATED)<br><br>"
      ],
      "text/plain": [
       "<IPython.core.display.HTML object>"
      ]
     },
     "metadata": {},
     "output_type": "display_data"
    },
    {
     "name": "stdout",
     "output_type": "stream",
     "text": [
      "Trial train_eval_model_8eaae_00001 reported mean_accuracy=0.44 with parameters={'layer1_out': 6, 'layer2_out': 14, 'batch': 16, 'lr': 0.014954436608229168, 'momentum': 0.939618612981815}.\n"
     ]
    },
    {
     "data": {
      "text/html": [
       "== Status ==<br>Current time: 2021-12-02 21:29:54 (running for 00:03:30.05)<br>Memory usage on this node: 10.1/16.0 GiB<br>Using AsyncHyperBand: num_stopped=1\n",
       "Bracket: Iter 512.000: None | Iter 256.000: None | Iter 128.000: None | Iter 64.000: None | Iter 32.000: None | Iter 16.000: None | Iter 8.000: None | Iter 4.000: None | Iter 2.000: 0.4266<br>Resources requested: 3.0/12 CPUs, 0/0 GPUs, 0.0/6.1 GiB heap, 0.0/3.05 GiB objects<br>Current best trial: 8eaae_00002 with mean_accuracy=0.5858 and parameters={'layer1_out': 7, 'layer2_out': 14, 'batch': 64, 'lr': 0.0054551087797274755, 'momentum': 0.8893105126910178}<br>Result logdir: /Users/peterchatain/ray_results/train_asha<br>Number of trials: 4/4 (3 RUNNING, 1 TERMINATED)<br><br>"
      ],
      "text/plain": [
       "<IPython.core.display.HTML object>"
      ]
     },
     "metadata": {},
     "output_type": "display_data"
    },
    {
     "data": {
      "text/html": [
       "== Status ==<br>Current time: 2021-12-02 21:29:59 (running for 00:03:35.07)<br>Memory usage on this node: 10.3/16.0 GiB<br>Using AsyncHyperBand: num_stopped=1\n",
       "Bracket: Iter 512.000: None | Iter 256.000: None | Iter 128.000: None | Iter 64.000: None | Iter 32.000: None | Iter 16.000: None | Iter 8.000: None | Iter 4.000: None | Iter 2.000: 0.4266<br>Resources requested: 3.0/12 CPUs, 0/0 GPUs, 0.0/6.1 GiB heap, 0.0/3.05 GiB objects<br>Current best trial: 8eaae_00002 with mean_accuracy=0.5858 and parameters={'layer1_out': 7, 'layer2_out': 14, 'batch': 64, 'lr': 0.0054551087797274755, 'momentum': 0.8893105126910178}<br>Result logdir: /Users/peterchatain/ray_results/train_asha<br>Number of trials: 4/4 (3 RUNNING, 1 TERMINATED)<br><br>"
      ],
      "text/plain": [
       "<IPython.core.display.HTML object>"
      ]
     },
     "metadata": {},
     "output_type": "display_data"
    },
    {
     "data": {
      "text/html": [
       "== Status ==<br>Current time: 2021-12-02 21:30:04 (running for 00:03:40.10)<br>Memory usage on this node: 10.1/16.0 GiB<br>Using AsyncHyperBand: num_stopped=1\n",
       "Bracket: Iter 512.000: None | Iter 256.000: None | Iter 128.000: None | Iter 64.000: None | Iter 32.000: None | Iter 16.000: None | Iter 8.000: None | Iter 4.000: None | Iter 2.000: 0.4266<br>Resources requested: 3.0/12 CPUs, 0/0 GPUs, 0.0/6.1 GiB heap, 0.0/3.05 GiB objects<br>Current best trial: 8eaae_00002 with mean_accuracy=0.5858 and parameters={'layer1_out': 7, 'layer2_out': 14, 'batch': 64, 'lr': 0.0054551087797274755, 'momentum': 0.8893105126910178}<br>Result logdir: /Users/peterchatain/ray_results/train_asha<br>Number of trials: 4/4 (3 RUNNING, 1 TERMINATED)<br><br>"
      ],
      "text/plain": [
       "<IPython.core.display.HTML object>"
      ]
     },
     "metadata": {},
     "output_type": "display_data"
    },
    {
     "data": {
      "text/html": [
       "== Status ==<br>Current time: 2021-12-02 21:30:09 (running for 00:03:45.12)<br>Memory usage on this node: 9.8/16.0 GiB<br>Using AsyncHyperBand: num_stopped=1\n",
       "Bracket: Iter 512.000: None | Iter 256.000: None | Iter 128.000: None | Iter 64.000: None | Iter 32.000: None | Iter 16.000: None | Iter 8.000: None | Iter 4.000: None | Iter 2.000: 0.4266<br>Resources requested: 3.0/12 CPUs, 0/0 GPUs, 0.0/6.1 GiB heap, 0.0/3.05 GiB objects<br>Current best trial: 8eaae_00002 with mean_accuracy=0.5858 and parameters={'layer1_out': 7, 'layer2_out': 14, 'batch': 64, 'lr': 0.0054551087797274755, 'momentum': 0.8893105126910178}<br>Result logdir: /Users/peterchatain/ray_results/train_asha<br>Number of trials: 4/4 (3 RUNNING, 1 TERMINATED)<br><br>"
      ],
      "text/plain": [
       "<IPython.core.display.HTML object>"
      ]
     },
     "metadata": {},
     "output_type": "display_data"
    },
    {
     "name": "stdout",
     "output_type": "stream",
     "text": [
      "Trial train_eval_model_8eaae_00000 reported mean_accuracy=0.48 with parameters={'layer1_out': 6, 'layer2_out': 18, 'batch': 32, 'lr': 0.0008249470865456945, 'momentum': 0.8721267306546336}.\n"
     ]
    },
    {
     "data": {
      "text/html": [
       "== Status ==<br>Current time: 2021-12-02 21:30:15 (running for 00:03:50.39)<br>Memory usage on this node: 9.8/16.0 GiB<br>Using AsyncHyperBand: num_stopped=1\n",
       "Bracket: Iter 512.000: None | Iter 256.000: None | Iter 128.000: None | Iter 64.000: None | Iter 32.000: None | Iter 16.000: None | Iter 8.000: None | Iter 4.000: None | Iter 2.000: 0.4266<br>Resources requested: 3.0/12 CPUs, 0/0 GPUs, 0.0/6.1 GiB heap, 0.0/3.05 GiB objects<br>Current best trial: 8eaae_00002 with mean_accuracy=0.5858 and parameters={'layer1_out': 7, 'layer2_out': 14, 'batch': 64, 'lr': 0.0054551087797274755, 'momentum': 0.8893105126910178}<br>Result logdir: /Users/peterchatain/ray_results/train_asha<br>Number of trials: 4/4 (3 RUNNING, 1 TERMINATED)<br><br>"
      ],
      "text/plain": [
       "<IPython.core.display.HTML object>"
      ]
     },
     "metadata": {},
     "output_type": "display_data"
    },
    {
     "data": {
      "text/html": [
       "== Status ==<br>Current time: 2021-12-02 21:30:20 (running for 00:03:55.41)<br>Memory usage on this node: 10.9/16.0 GiB<br>Using AsyncHyperBand: num_stopped=1\n",
       "Bracket: Iter 512.000: None | Iter 256.000: None | Iter 128.000: None | Iter 64.000: None | Iter 32.000: None | Iter 16.000: None | Iter 8.000: None | Iter 4.000: None | Iter 2.000: 0.4266<br>Resources requested: 3.0/12 CPUs, 0/0 GPUs, 0.0/6.1 GiB heap, 0.0/3.05 GiB objects<br>Current best trial: 8eaae_00002 with mean_accuracy=0.5858 and parameters={'layer1_out': 7, 'layer2_out': 14, 'batch': 64, 'lr': 0.0054551087797274755, 'momentum': 0.8893105126910178}<br>Result logdir: /Users/peterchatain/ray_results/train_asha<br>Number of trials: 4/4 (3 RUNNING, 1 TERMINATED)<br><br>"
      ],
      "text/plain": [
       "<IPython.core.display.HTML object>"
      ]
     },
     "metadata": {},
     "output_type": "display_data"
    },
    {
     "data": {
      "text/html": [
       "== Status ==<br>Current time: 2021-12-02 21:30:25 (running for 00:04:00.42)<br>Memory usage on this node: 10.7/16.0 GiB<br>Using AsyncHyperBand: num_stopped=1\n",
       "Bracket: Iter 512.000: None | Iter 256.000: None | Iter 128.000: None | Iter 64.000: None | Iter 32.000: None | Iter 16.000: None | Iter 8.000: None | Iter 4.000: None | Iter 2.000: 0.4266<br>Resources requested: 3.0/12 CPUs, 0/0 GPUs, 0.0/6.1 GiB heap, 0.0/3.05 GiB objects<br>Current best trial: 8eaae_00002 with mean_accuracy=0.5858 and parameters={'layer1_out': 7, 'layer2_out': 14, 'batch': 64, 'lr': 0.0054551087797274755, 'momentum': 0.8893105126910178}<br>Result logdir: /Users/peterchatain/ray_results/train_asha<br>Number of trials: 4/4 (3 RUNNING, 1 TERMINATED)<br><br>"
      ],
      "text/plain": [
       "<IPython.core.display.HTML object>"
      ]
     },
     "metadata": {},
     "output_type": "display_data"
    },
    {
     "name": "stdout",
     "output_type": "stream",
     "text": [
      "Trial train_eval_model_8eaae_00002 reported mean_accuracy=0.63 with parameters={'layer1_out': 7, 'layer2_out': 14, 'batch': 64, 'lr': 0.0054551087797274755, 'momentum': 0.8893105126910178}.\n"
     ]
    },
    {
     "data": {
      "text/html": [
       "== Status ==<br>Current time: 2021-12-02 21:30:30 (running for 00:04:06.12)<br>Memory usage on this node: 10.6/16.0 GiB<br>Using AsyncHyperBand: num_stopped=1\n",
       "Bracket: Iter 512.000: None | Iter 256.000: None | Iter 128.000: None | Iter 64.000: None | Iter 32.000: None | Iter 16.000: None | Iter 8.000: None | Iter 4.000: None | Iter 2.000: 0.4266<br>Resources requested: 3.0/12 CPUs, 0/0 GPUs, 0.0/6.1 GiB heap, 0.0/3.05 GiB objects<br>Current best trial: 8eaae_00002 with mean_accuracy=0.6257 and parameters={'layer1_out': 7, 'layer2_out': 14, 'batch': 64, 'lr': 0.0054551087797274755, 'momentum': 0.8893105126910178}<br>Result logdir: /Users/peterchatain/ray_results/train_asha<br>Number of trials: 4/4 (3 RUNNING, 1 TERMINATED)<br><br>"
      ],
      "text/plain": [
       "<IPython.core.display.HTML object>"
      ]
     },
     "metadata": {},
     "output_type": "display_data"
    },
    {
     "data": {
      "text/html": [
       "== Status ==<br>Current time: 2021-12-02 21:30:35 (running for 00:04:11.14)<br>Memory usage on this node: 10.6/16.0 GiB<br>Using AsyncHyperBand: num_stopped=1\n",
       "Bracket: Iter 512.000: None | Iter 256.000: None | Iter 128.000: None | Iter 64.000: None | Iter 32.000: None | Iter 16.000: None | Iter 8.000: None | Iter 4.000: None | Iter 2.000: 0.4266<br>Resources requested: 3.0/12 CPUs, 0/0 GPUs, 0.0/6.1 GiB heap, 0.0/3.05 GiB objects<br>Current best trial: 8eaae_00002 with mean_accuracy=0.6257 and parameters={'layer1_out': 7, 'layer2_out': 14, 'batch': 64, 'lr': 0.0054551087797274755, 'momentum': 0.8893105126910178}<br>Result logdir: /Users/peterchatain/ray_results/train_asha<br>Number of trials: 4/4 (3 RUNNING, 1 TERMINATED)<br><br>"
      ],
      "text/plain": [
       "<IPython.core.display.HTML object>"
      ]
     },
     "metadata": {},
     "output_type": "display_data"
    },
    {
     "data": {
      "text/html": [
       "== Status ==<br>Current time: 2021-12-02 21:30:40 (running for 00:04:16.18)<br>Memory usage on this node: 10.2/16.0 GiB<br>Using AsyncHyperBand: num_stopped=1\n",
       "Bracket: Iter 512.000: None | Iter 256.000: None | Iter 128.000: None | Iter 64.000: None | Iter 32.000: None | Iter 16.000: None | Iter 8.000: None | Iter 4.000: None | Iter 2.000: 0.4266<br>Resources requested: 3.0/12 CPUs, 0/0 GPUs, 0.0/6.1 GiB heap, 0.0/3.05 GiB objects<br>Current best trial: 8eaae_00002 with mean_accuracy=0.6257 and parameters={'layer1_out': 7, 'layer2_out': 14, 'batch': 64, 'lr': 0.0054551087797274755, 'momentum': 0.8893105126910178}<br>Result logdir: /Users/peterchatain/ray_results/train_asha<br>Number of trials: 4/4 (3 RUNNING, 1 TERMINATED)<br><br>"
      ],
      "text/plain": [
       "<IPython.core.display.HTML object>"
      ]
     },
     "metadata": {},
     "output_type": "display_data"
    },
    {
     "data": {
      "text/html": [
       "== Status ==<br>Current time: 2021-12-02 21:30:45 (running for 00:04:21.20)<br>Memory usage on this node: 10.1/16.0 GiB<br>Using AsyncHyperBand: num_stopped=1\n",
       "Bracket: Iter 512.000: None | Iter 256.000: None | Iter 128.000: None | Iter 64.000: None | Iter 32.000: None | Iter 16.000: None | Iter 8.000: None | Iter 4.000: None | Iter 2.000: 0.4266<br>Resources requested: 3.0/12 CPUs, 0/0 GPUs, 0.0/6.1 GiB heap, 0.0/3.05 GiB objects<br>Current best trial: 8eaae_00002 with mean_accuracy=0.6257 and parameters={'layer1_out': 7, 'layer2_out': 14, 'batch': 64, 'lr': 0.0054551087797274755, 'momentum': 0.8893105126910178}<br>Result logdir: /Users/peterchatain/ray_results/train_asha<br>Number of trials: 4/4 (3 RUNNING, 1 TERMINATED)<br><br>"
      ],
      "text/plain": [
       "<IPython.core.display.HTML object>"
      ]
     },
     "metadata": {},
     "output_type": "display_data"
    },
    {
     "data": {
      "text/html": [
       "== Status ==<br>Current time: 2021-12-02 21:30:50 (running for 00:04:26.22)<br>Memory usage on this node: 10.3/16.0 GiB<br>Using AsyncHyperBand: num_stopped=1\n",
       "Bracket: Iter 512.000: None | Iter 256.000: None | Iter 128.000: None | Iter 64.000: None | Iter 32.000: None | Iter 16.000: None | Iter 8.000: None | Iter 4.000: None | Iter 2.000: 0.4266<br>Resources requested: 3.0/12 CPUs, 0/0 GPUs, 0.0/6.1 GiB heap, 0.0/3.05 GiB objects<br>Current best trial: 8eaae_00002 with mean_accuracy=0.6257 and parameters={'layer1_out': 7, 'layer2_out': 14, 'batch': 64, 'lr': 0.0054551087797274755, 'momentum': 0.8893105126910178}<br>Result logdir: /Users/peterchatain/ray_results/train_asha<br>Number of trials: 4/4 (3 RUNNING, 1 TERMINATED)<br><br>"
      ],
      "text/plain": [
       "<IPython.core.display.HTML object>"
      ]
     },
     "metadata": {},
     "output_type": "display_data"
    },
    {
     "data": {
      "text/html": [
       "== Status ==<br>Current time: 2021-12-02 21:30:55 (running for 00:04:31.24)<br>Memory usage on this node: 10.2/16.0 GiB<br>Using AsyncHyperBand: num_stopped=1\n",
       "Bracket: Iter 512.000: None | Iter 256.000: None | Iter 128.000: None | Iter 64.000: None | Iter 32.000: None | Iter 16.000: None | Iter 8.000: None | Iter 4.000: None | Iter 2.000: 0.4266<br>Resources requested: 3.0/12 CPUs, 0/0 GPUs, 0.0/6.1 GiB heap, 0.0/3.05 GiB objects<br>Current best trial: 8eaae_00002 with mean_accuracy=0.6257 and parameters={'layer1_out': 7, 'layer2_out': 14, 'batch': 64, 'lr': 0.0054551087797274755, 'momentum': 0.8893105126910178}<br>Result logdir: /Users/peterchatain/ray_results/train_asha<br>Number of trials: 4/4 (3 RUNNING, 1 TERMINATED)<br><br>"
      ],
      "text/plain": [
       "<IPython.core.display.HTML object>"
      ]
     },
     "metadata": {},
     "output_type": "display_data"
    },
    {
     "data": {
      "text/html": [
       "== Status ==<br>Current time: 2021-12-02 21:31:00 (running for 00:04:36.26)<br>Memory usage on this node: 10.2/16.0 GiB<br>Using AsyncHyperBand: num_stopped=1\n",
       "Bracket: Iter 512.000: None | Iter 256.000: None | Iter 128.000: None | Iter 64.000: None | Iter 32.000: None | Iter 16.000: None | Iter 8.000: None | Iter 4.000: None | Iter 2.000: 0.4266<br>Resources requested: 3.0/12 CPUs, 0/0 GPUs, 0.0/6.1 GiB heap, 0.0/3.05 GiB objects<br>Current best trial: 8eaae_00002 with mean_accuracy=0.6257 and parameters={'layer1_out': 7, 'layer2_out': 14, 'batch': 64, 'lr': 0.0054551087797274755, 'momentum': 0.8893105126910178}<br>Result logdir: /Users/peterchatain/ray_results/train_asha<br>Number of trials: 4/4 (3 RUNNING, 1 TERMINATED)<br><br>"
      ],
      "text/plain": [
       "<IPython.core.display.HTML object>"
      ]
     },
     "metadata": {},
     "output_type": "display_data"
    },
    {
     "name": "stdout",
     "output_type": "stream",
     "text": [
      "Trial train_eval_model_8eaae_00001 reported mean_accuracy=0.42 with parameters={'layer1_out': 6, 'layer2_out': 14, 'batch': 16, 'lr': 0.014954436608229168, 'momentum': 0.939618612981815}.\n"
     ]
    },
    {
     "data": {
      "text/html": [
       "== Status ==<br>Current time: 2021-12-02 21:31:06 (running for 00:04:41.32)<br>Memory usage on this node: 10.4/16.0 GiB<br>Using AsyncHyperBand: num_stopped=1\n",
       "Bracket: Iter 512.000: None | Iter 256.000: None | Iter 128.000: None | Iter 64.000: None | Iter 32.000: None | Iter 16.000: None | Iter 8.000: None | Iter 4.000: None | Iter 2.000: 0.4266<br>Resources requested: 3.0/12 CPUs, 0/0 GPUs, 0.0/6.1 GiB heap, 0.0/3.05 GiB objects<br>Current best trial: 8eaae_00002 with mean_accuracy=0.6257 and parameters={'layer1_out': 7, 'layer2_out': 14, 'batch': 64, 'lr': 0.0054551087797274755, 'momentum': 0.8893105126910178}<br>Result logdir: /Users/peterchatain/ray_results/train_asha<br>Number of trials: 4/4 (3 RUNNING, 1 TERMINATED)<br><br>"
      ],
      "text/plain": [
       "<IPython.core.display.HTML object>"
      ]
     },
     "metadata": {},
     "output_type": "display_data"
    },
    {
     "data": {
      "text/html": [
       "== Status ==<br>Current time: 2021-12-02 21:31:11 (running for 00:04:46.33)<br>Memory usage on this node: 10.3/16.0 GiB<br>Using AsyncHyperBand: num_stopped=1\n",
       "Bracket: Iter 512.000: None | Iter 256.000: None | Iter 128.000: None | Iter 64.000: None | Iter 32.000: None | Iter 16.000: None | Iter 8.000: None | Iter 4.000: None | Iter 2.000: 0.4266<br>Resources requested: 3.0/12 CPUs, 0/0 GPUs, 0.0/6.1 GiB heap, 0.0/3.05 GiB objects<br>Current best trial: 8eaae_00002 with mean_accuracy=0.6257 and parameters={'layer1_out': 7, 'layer2_out': 14, 'batch': 64, 'lr': 0.0054551087797274755, 'momentum': 0.8893105126910178}<br>Result logdir: /Users/peterchatain/ray_results/train_asha<br>Number of trials: 4/4 (3 RUNNING, 1 TERMINATED)<br><br>"
      ],
      "text/plain": [
       "<IPython.core.display.HTML object>"
      ]
     },
     "metadata": {},
     "output_type": "display_data"
    },
    {
     "data": {
      "text/html": [
       "== Status ==<br>Current time: 2021-12-02 21:31:16 (running for 00:04:51.36)<br>Memory usage on this node: 10.5/16.0 GiB<br>Using AsyncHyperBand: num_stopped=1\n",
       "Bracket: Iter 512.000: None | Iter 256.000: None | Iter 128.000: None | Iter 64.000: None | Iter 32.000: None | Iter 16.000: None | Iter 8.000: None | Iter 4.000: None | Iter 2.000: 0.4266<br>Resources requested: 3.0/12 CPUs, 0/0 GPUs, 0.0/6.1 GiB heap, 0.0/3.05 GiB objects<br>Current best trial: 8eaae_00002 with mean_accuracy=0.6257 and parameters={'layer1_out': 7, 'layer2_out': 14, 'batch': 64, 'lr': 0.0054551087797274755, 'momentum': 0.8893105126910178}<br>Result logdir: /Users/peterchatain/ray_results/train_asha<br>Number of trials: 4/4 (3 RUNNING, 1 TERMINATED)<br><br>"
      ],
      "text/plain": [
       "<IPython.core.display.HTML object>"
      ]
     },
     "metadata": {},
     "output_type": "display_data"
    },
    {
     "name": "stdout",
     "output_type": "stream",
     "text": [
      "Trial train_eval_model_8eaae_00000 reported mean_accuracy=0.52 with parameters={'layer1_out': 6, 'layer2_out': 18, 'batch': 32, 'lr': 0.0008249470865456945, 'momentum': 0.8721267306546336}.\n"
     ]
    },
    {
     "data": {
      "text/html": [
       "== Status ==<br>Current time: 2021-12-02 21:31:21 (running for 00:04:57.11)<br>Memory usage on this node: 10.3/16.0 GiB<br>Using AsyncHyperBand: num_stopped=1\n",
       "Bracket: Iter 512.000: None | Iter 256.000: None | Iter 128.000: None | Iter 64.000: None | Iter 32.000: None | Iter 16.000: None | Iter 8.000: None | Iter 4.000: 0.5158 | Iter 2.000: 0.4266<br>Resources requested: 3.0/12 CPUs, 0/0 GPUs, 0.0/6.1 GiB heap, 0.0/3.05 GiB objects<br>Current best trial: 8eaae_00002 with mean_accuracy=0.6257 and parameters={'layer1_out': 7, 'layer2_out': 14, 'batch': 64, 'lr': 0.0054551087797274755, 'momentum': 0.8893105126910178}<br>Result logdir: /Users/peterchatain/ray_results/train_asha<br>Number of trials: 4/4 (3 RUNNING, 1 TERMINATED)<br><br>"
      ],
      "text/plain": [
       "<IPython.core.display.HTML object>"
      ]
     },
     "metadata": {},
     "output_type": "display_data"
    },
    {
     "data": {
      "text/html": [
       "== Status ==<br>Current time: 2021-12-02 21:31:26 (running for 00:05:02.13)<br>Memory usage on this node: 10.3/16.0 GiB<br>Using AsyncHyperBand: num_stopped=1\n",
       "Bracket: Iter 512.000: None | Iter 256.000: None | Iter 128.000: None | Iter 64.000: None | Iter 32.000: None | Iter 16.000: None | Iter 8.000: None | Iter 4.000: 0.5158 | Iter 2.000: 0.4266<br>Resources requested: 3.0/12 CPUs, 0/0 GPUs, 0.0/6.1 GiB heap, 0.0/3.05 GiB objects<br>Current best trial: 8eaae_00002 with mean_accuracy=0.6257 and parameters={'layer1_out': 7, 'layer2_out': 14, 'batch': 64, 'lr': 0.0054551087797274755, 'momentum': 0.8893105126910178}<br>Result logdir: /Users/peterchatain/ray_results/train_asha<br>Number of trials: 4/4 (3 RUNNING, 1 TERMINATED)<br><br>"
      ],
      "text/plain": [
       "<IPython.core.display.HTML object>"
      ]
     },
     "metadata": {},
     "output_type": "display_data"
    },
    {
     "name": "stdout",
     "output_type": "stream",
     "text": [
      "Trial train_eval_model_8eaae_00002 reported mean_accuracy=0.61 with parameters={'layer1_out': 7, 'layer2_out': 14, 'batch': 64, 'lr': 0.0054551087797274755, 'momentum': 0.8893105126910178}.\n"
     ]
    },
    {
     "data": {
      "text/html": [
       "== Status ==<br>Current time: 2021-12-02 21:31:32 (running for 00:05:07.30)<br>Memory usage on this node: 10.4/16.0 GiB<br>Using AsyncHyperBand: num_stopped=1\n",
       "Bracket: Iter 512.000: None | Iter 256.000: None | Iter 128.000: None | Iter 64.000: None | Iter 32.000: None | Iter 16.000: None | Iter 8.000: None | Iter 4.000: 0.5654 | Iter 2.000: 0.4266<br>Resources requested: 3.0/12 CPUs, 0/0 GPUs, 0.0/6.1 GiB heap, 0.0/3.05 GiB objects<br>Current best trial: 8eaae_00002 with mean_accuracy=0.615 and parameters={'layer1_out': 7, 'layer2_out': 14, 'batch': 64, 'lr': 0.0054551087797274755, 'momentum': 0.8893105126910178}<br>Result logdir: /Users/peterchatain/ray_results/train_asha<br>Number of trials: 4/4 (3 RUNNING, 1 TERMINATED)<br><br>"
      ],
      "text/plain": [
       "<IPython.core.display.HTML object>"
      ]
     },
     "metadata": {},
     "output_type": "display_data"
    },
    {
     "data": {
      "text/html": [
       "== Status ==<br>Current time: 2021-12-02 21:31:37 (running for 00:05:12.32)<br>Memory usage on this node: 10.4/16.0 GiB<br>Using AsyncHyperBand: num_stopped=1\n",
       "Bracket: Iter 512.000: None | Iter 256.000: None | Iter 128.000: None | Iter 64.000: None | Iter 32.000: None | Iter 16.000: None | Iter 8.000: None | Iter 4.000: 0.5654 | Iter 2.000: 0.4266<br>Resources requested: 3.0/12 CPUs, 0/0 GPUs, 0.0/6.1 GiB heap, 0.0/3.05 GiB objects<br>Current best trial: 8eaae_00002 with mean_accuracy=0.615 and parameters={'layer1_out': 7, 'layer2_out': 14, 'batch': 64, 'lr': 0.0054551087797274755, 'momentum': 0.8893105126910178}<br>Result logdir: /Users/peterchatain/ray_results/train_asha<br>Number of trials: 4/4 (3 RUNNING, 1 TERMINATED)<br><br>"
      ],
      "text/plain": [
       "<IPython.core.display.HTML object>"
      ]
     },
     "metadata": {},
     "output_type": "display_data"
    },
    {
     "data": {
      "text/html": [
       "== Status ==<br>Current time: 2021-12-02 21:31:42 (running for 00:05:17.35)<br>Memory usage on this node: 10.3/16.0 GiB<br>Using AsyncHyperBand: num_stopped=1\n",
       "Bracket: Iter 512.000: None | Iter 256.000: None | Iter 128.000: None | Iter 64.000: None | Iter 32.000: None | Iter 16.000: None | Iter 8.000: None | Iter 4.000: 0.5654 | Iter 2.000: 0.4266<br>Resources requested: 3.0/12 CPUs, 0/0 GPUs, 0.0/6.1 GiB heap, 0.0/3.05 GiB objects<br>Current best trial: 8eaae_00002 with mean_accuracy=0.615 and parameters={'layer1_out': 7, 'layer2_out': 14, 'batch': 64, 'lr': 0.0054551087797274755, 'momentum': 0.8893105126910178}<br>Result logdir: /Users/peterchatain/ray_results/train_asha<br>Number of trials: 4/4 (3 RUNNING, 1 TERMINATED)<br><br>"
      ],
      "text/plain": [
       "<IPython.core.display.HTML object>"
      ]
     },
     "metadata": {},
     "output_type": "display_data"
    },
    {
     "data": {
      "text/html": [
       "== Status ==<br>Current time: 2021-12-02 21:31:47 (running for 00:05:22.37)<br>Memory usage on this node: 10.2/16.0 GiB<br>Using AsyncHyperBand: num_stopped=1\n",
       "Bracket: Iter 512.000: None | Iter 256.000: None | Iter 128.000: None | Iter 64.000: None | Iter 32.000: None | Iter 16.000: None | Iter 8.000: None | Iter 4.000: 0.5654 | Iter 2.000: 0.4266<br>Resources requested: 3.0/12 CPUs, 0/0 GPUs, 0.0/6.1 GiB heap, 0.0/3.05 GiB objects<br>Current best trial: 8eaae_00002 with mean_accuracy=0.615 and parameters={'layer1_out': 7, 'layer2_out': 14, 'batch': 64, 'lr': 0.0054551087797274755, 'momentum': 0.8893105126910178}<br>Result logdir: /Users/peterchatain/ray_results/train_asha<br>Number of trials: 4/4 (3 RUNNING, 1 TERMINATED)<br><br>"
      ],
      "text/plain": [
       "<IPython.core.display.HTML object>"
      ]
     },
     "metadata": {},
     "output_type": "display_data"
    },
    {
     "data": {
      "text/html": [
       "== Status ==<br>Current time: 2021-12-02 21:31:52 (running for 00:05:27.46)<br>Memory usage on this node: 10.2/16.0 GiB<br>Using AsyncHyperBand: num_stopped=1\n",
       "Bracket: Iter 512.000: None | Iter 256.000: None | Iter 128.000: None | Iter 64.000: None | Iter 32.000: None | Iter 16.000: None | Iter 8.000: None | Iter 4.000: 0.5654 | Iter 2.000: 0.4266<br>Resources requested: 3.0/12 CPUs, 0/0 GPUs, 0.0/6.1 GiB heap, 0.0/3.05 GiB objects<br>Current best trial: 8eaae_00002 with mean_accuracy=0.615 and parameters={'layer1_out': 7, 'layer2_out': 14, 'batch': 64, 'lr': 0.0054551087797274755, 'momentum': 0.8893105126910178}<br>Result logdir: /Users/peterchatain/ray_results/train_asha<br>Number of trials: 4/4 (3 RUNNING, 1 TERMINATED)<br><br>"
      ],
      "text/plain": [
       "<IPython.core.display.HTML object>"
      ]
     },
     "metadata": {},
     "output_type": "display_data"
    },
    {
     "data": {
      "text/html": [
       "== Status ==<br>Current time: 2021-12-02 21:31:57 (running for 00:05:32.49)<br>Memory usage on this node: 10.7/16.0 GiB<br>Using AsyncHyperBand: num_stopped=1\n",
       "Bracket: Iter 512.000: None | Iter 256.000: None | Iter 128.000: None | Iter 64.000: None | Iter 32.000: None | Iter 16.000: None | Iter 8.000: None | Iter 4.000: 0.5654 | Iter 2.000: 0.4266<br>Resources requested: 3.0/12 CPUs, 0/0 GPUs, 0.0/6.1 GiB heap, 0.0/3.05 GiB objects<br>Current best trial: 8eaae_00002 with mean_accuracy=0.615 and parameters={'layer1_out': 7, 'layer2_out': 14, 'batch': 64, 'lr': 0.0054551087797274755, 'momentum': 0.8893105126910178}<br>Result logdir: /Users/peterchatain/ray_results/train_asha<br>Number of trials: 4/4 (3 RUNNING, 1 TERMINATED)<br><br>"
      ],
      "text/plain": [
       "<IPython.core.display.HTML object>"
      ]
     },
     "metadata": {},
     "output_type": "display_data"
    },
    {
     "data": {
      "text/html": [
       "== Status ==<br>Current time: 2021-12-02 21:32:02 (running for 00:05:37.51)<br>Memory usage on this node: 10.4/16.0 GiB<br>Using AsyncHyperBand: num_stopped=1\n",
       "Bracket: Iter 512.000: None | Iter 256.000: None | Iter 128.000: None | Iter 64.000: None | Iter 32.000: None | Iter 16.000: None | Iter 8.000: None | Iter 4.000: 0.5654 | Iter 2.000: 0.4266<br>Resources requested: 3.0/12 CPUs, 0/0 GPUs, 0.0/6.1 GiB heap, 0.0/3.05 GiB objects<br>Current best trial: 8eaae_00002 with mean_accuracy=0.615 and parameters={'layer1_out': 7, 'layer2_out': 14, 'batch': 64, 'lr': 0.0054551087797274755, 'momentum': 0.8893105126910178}<br>Result logdir: /Users/peterchatain/ray_results/train_asha<br>Number of trials: 4/4 (3 RUNNING, 1 TERMINATED)<br><br>"
      ],
      "text/plain": [
       "<IPython.core.display.HTML object>"
      ]
     },
     "metadata": {},
     "output_type": "display_data"
    },
    {
     "data": {
      "text/html": [
       "== Status ==<br>Current time: 2021-12-02 21:32:07 (running for 00:05:42.54)<br>Memory usage on this node: 10.4/16.0 GiB<br>Using AsyncHyperBand: num_stopped=1\n",
       "Bracket: Iter 512.000: None | Iter 256.000: None | Iter 128.000: None | Iter 64.000: None | Iter 32.000: None | Iter 16.000: None | Iter 8.000: None | Iter 4.000: 0.5654 | Iter 2.000: 0.4266<br>Resources requested: 3.0/12 CPUs, 0/0 GPUs, 0.0/6.1 GiB heap, 0.0/3.05 GiB objects<br>Current best trial: 8eaae_00002 with mean_accuracy=0.615 and parameters={'layer1_out': 7, 'layer2_out': 14, 'batch': 64, 'lr': 0.0054551087797274755, 'momentum': 0.8893105126910178}<br>Result logdir: /Users/peterchatain/ray_results/train_asha<br>Number of trials: 4/4 (3 RUNNING, 1 TERMINATED)<br><br>"
      ],
      "text/plain": [
       "<IPython.core.display.HTML object>"
      ]
     },
     "metadata": {},
     "output_type": "display_data"
    },
    {
     "name": "stdout",
     "output_type": "stream",
     "text": [
      "Trial train_eval_model_8eaae_00001 reported mean_accuracy=0.42 with parameters={'layer1_out': 6, 'layer2_out': 14, 'batch': 16, 'lr': 0.014954436608229168, 'momentum': 0.939618612981815}. This trial completed.\n"
     ]
    },
    {
     "data": {
      "text/html": [
       "== Status ==<br>Current time: 2021-12-02 21:32:12 (running for 00:05:47.65)<br>Memory usage on this node: 10.2/16.0 GiB<br>Using AsyncHyperBand: num_stopped=2\n",
       "Bracket: Iter 512.000: None | Iter 256.000: None | Iter 128.000: None | Iter 64.000: None | Iter 32.000: None | Iter 16.000: None | Iter 8.000: None | Iter 4.000: 0.5158 | Iter 2.000: 0.4266<br>Resources requested: 2.0/12 CPUs, 0/0 GPUs, 0.0/6.1 GiB heap, 0.0/3.05 GiB objects<br>Current best trial: 8eaae_00002 with mean_accuracy=0.615 and parameters={'layer1_out': 7, 'layer2_out': 14, 'batch': 64, 'lr': 0.0054551087797274755, 'momentum': 0.8893105126910178}<br>Result logdir: /Users/peterchatain/ray_results/train_asha<br>Number of trials: 4/4 (2 RUNNING, 2 TERMINATED)<br><br>"
      ],
      "text/plain": [
       "<IPython.core.display.HTML object>"
      ]
     },
     "metadata": {},
     "output_type": "display_data"
    },
    {
     "data": {
      "text/html": [
       "== Status ==<br>Current time: 2021-12-02 21:32:17 (running for 00:05:52.67)<br>Memory usage on this node: 9.5/16.0 GiB<br>Using AsyncHyperBand: num_stopped=2\n",
       "Bracket: Iter 512.000: None | Iter 256.000: None | Iter 128.000: None | Iter 64.000: None | Iter 32.000: None | Iter 16.000: None | Iter 8.000: None | Iter 4.000: 0.5158 | Iter 2.000: 0.4266<br>Resources requested: 2.0/12 CPUs, 0/0 GPUs, 0.0/6.1 GiB heap, 0.0/3.05 GiB objects<br>Current best trial: 8eaae_00002 with mean_accuracy=0.615 and parameters={'layer1_out': 7, 'layer2_out': 14, 'batch': 64, 'lr': 0.0054551087797274755, 'momentum': 0.8893105126910178}<br>Result logdir: /Users/peterchatain/ray_results/train_asha<br>Number of trials: 4/4 (2 RUNNING, 2 TERMINATED)<br><br>"
      ],
      "text/plain": [
       "<IPython.core.display.HTML object>"
      ]
     },
     "metadata": {},
     "output_type": "display_data"
    },
    {
     "data": {
      "text/html": [
       "== Status ==<br>Current time: 2021-12-02 21:32:22 (running for 00:05:57.70)<br>Memory usage on this node: 9.8/16.0 GiB<br>Using AsyncHyperBand: num_stopped=2\n",
       "Bracket: Iter 512.000: None | Iter 256.000: None | Iter 128.000: None | Iter 64.000: None | Iter 32.000: None | Iter 16.000: None | Iter 8.000: None | Iter 4.000: 0.5158 | Iter 2.000: 0.4266<br>Resources requested: 2.0/12 CPUs, 0/0 GPUs, 0.0/6.1 GiB heap, 0.0/3.05 GiB objects<br>Current best trial: 8eaae_00002 with mean_accuracy=0.615 and parameters={'layer1_out': 7, 'layer2_out': 14, 'batch': 64, 'lr': 0.0054551087797274755, 'momentum': 0.8893105126910178}<br>Result logdir: /Users/peterchatain/ray_results/train_asha<br>Number of trials: 4/4 (2 RUNNING, 2 TERMINATED)<br><br>"
      ],
      "text/plain": [
       "<IPython.core.display.HTML object>"
      ]
     },
     "metadata": {},
     "output_type": "display_data"
    },
    {
     "name": "stdout",
     "output_type": "stream",
     "text": [
      "Trial train_eval_model_8eaae_00000 reported mean_accuracy=0.54 with parameters={'layer1_out': 6, 'layer2_out': 18, 'batch': 32, 'lr': 0.0008249470865456945, 'momentum': 0.8721267306546336}.\n"
     ]
    },
    {
     "data": {
      "text/html": [
       "== Status ==<br>Current time: 2021-12-02 21:32:28 (running for 00:06:03.33)<br>Memory usage on this node: 10.0/16.0 GiB<br>Using AsyncHyperBand: num_stopped=2\n",
       "Bracket: Iter 512.000: None | Iter 256.000: None | Iter 128.000: None | Iter 64.000: None | Iter 32.000: None | Iter 16.000: None | Iter 8.000: None | Iter 4.000: 0.5158 | Iter 2.000: 0.4266<br>Resources requested: 2.0/12 CPUs, 0/0 GPUs, 0.0/6.1 GiB heap, 0.0/3.05 GiB objects<br>Current best trial: 8eaae_00002 with mean_accuracy=0.615 and parameters={'layer1_out': 7, 'layer2_out': 14, 'batch': 64, 'lr': 0.0054551087797274755, 'momentum': 0.8893105126910178}<br>Result logdir: /Users/peterchatain/ray_results/train_asha<br>Number of trials: 4/4 (2 RUNNING, 2 TERMINATED)<br><br>"
      ],
      "text/plain": [
       "<IPython.core.display.HTML object>"
      ]
     },
     "metadata": {},
     "output_type": "display_data"
    },
    {
     "data": {
      "text/html": [
       "== Status ==<br>Current time: 2021-12-02 21:32:33 (running for 00:06:08.35)<br>Memory usage on this node: 9.9/16.0 GiB<br>Using AsyncHyperBand: num_stopped=2\n",
       "Bracket: Iter 512.000: None | Iter 256.000: None | Iter 128.000: None | Iter 64.000: None | Iter 32.000: None | Iter 16.000: None | Iter 8.000: None | Iter 4.000: 0.5158 | Iter 2.000: 0.4266<br>Resources requested: 2.0/12 CPUs, 0/0 GPUs, 0.0/6.1 GiB heap, 0.0/3.05 GiB objects<br>Current best trial: 8eaae_00002 with mean_accuracy=0.615 and parameters={'layer1_out': 7, 'layer2_out': 14, 'batch': 64, 'lr': 0.0054551087797274755, 'momentum': 0.8893105126910178}<br>Result logdir: /Users/peterchatain/ray_results/train_asha<br>Number of trials: 4/4 (2 RUNNING, 2 TERMINATED)<br><br>"
      ],
      "text/plain": [
       "<IPython.core.display.HTML object>"
      ]
     },
     "metadata": {},
     "output_type": "display_data"
    },
    {
     "name": "stdout",
     "output_type": "stream",
     "text": [
      "Trial train_eval_model_8eaae_00002 reported mean_accuracy=0.65 with parameters={'layer1_out': 7, 'layer2_out': 14, 'batch': 64, 'lr': 0.0054551087797274755, 'momentum': 0.8893105126910178}.\n"
     ]
    },
    {
     "data": {
      "text/html": [
       "== Status ==<br>Current time: 2021-12-02 21:32:38 (running for 00:06:14.02)<br>Memory usage on this node: 9.9/16.0 GiB<br>Using AsyncHyperBand: num_stopped=2\n",
       "Bracket: Iter 512.000: None | Iter 256.000: None | Iter 128.000: None | Iter 64.000: None | Iter 32.000: None | Iter 16.000: None | Iter 8.000: None | Iter 4.000: 0.5158 | Iter 2.000: 0.4266<br>Resources requested: 2.0/12 CPUs, 0/0 GPUs, 0.0/6.1 GiB heap, 0.0/3.05 GiB objects<br>Current best trial: 8eaae_00002 with mean_accuracy=0.647 and parameters={'layer1_out': 7, 'layer2_out': 14, 'batch': 64, 'lr': 0.0054551087797274755, 'momentum': 0.8893105126910178}<br>Result logdir: /Users/peterchatain/ray_results/train_asha<br>Number of trials: 4/4 (2 RUNNING, 2 TERMINATED)<br><br>"
      ],
      "text/plain": [
       "<IPython.core.display.HTML object>"
      ]
     },
     "metadata": {},
     "output_type": "display_data"
    },
    {
     "data": {
      "text/html": [
       "== Status ==<br>Current time: 2021-12-02 21:32:43 (running for 00:06:19.04)<br>Memory usage on this node: 10.0/16.0 GiB<br>Using AsyncHyperBand: num_stopped=2\n",
       "Bracket: Iter 512.000: None | Iter 256.000: None | Iter 128.000: None | Iter 64.000: None | Iter 32.000: None | Iter 16.000: None | Iter 8.000: None | Iter 4.000: 0.5158 | Iter 2.000: 0.4266<br>Resources requested: 2.0/12 CPUs, 0/0 GPUs, 0.0/6.1 GiB heap, 0.0/3.05 GiB objects<br>Current best trial: 8eaae_00002 with mean_accuracy=0.647 and parameters={'layer1_out': 7, 'layer2_out': 14, 'batch': 64, 'lr': 0.0054551087797274755, 'momentum': 0.8893105126910178}<br>Result logdir: /Users/peterchatain/ray_results/train_asha<br>Number of trials: 4/4 (2 RUNNING, 2 TERMINATED)<br><br>"
      ],
      "text/plain": [
       "<IPython.core.display.HTML object>"
      ]
     },
     "metadata": {},
     "output_type": "display_data"
    },
    {
     "data": {
      "text/html": [
       "== Status ==<br>Current time: 2021-12-02 21:32:48 (running for 00:06:24.06)<br>Memory usage on this node: 9.8/16.0 GiB<br>Using AsyncHyperBand: num_stopped=2\n",
       "Bracket: Iter 512.000: None | Iter 256.000: None | Iter 128.000: None | Iter 64.000: None | Iter 32.000: None | Iter 16.000: None | Iter 8.000: None | Iter 4.000: 0.5158 | Iter 2.000: 0.4266<br>Resources requested: 2.0/12 CPUs, 0/0 GPUs, 0.0/6.1 GiB heap, 0.0/3.05 GiB objects<br>Current best trial: 8eaae_00002 with mean_accuracy=0.647 and parameters={'layer1_out': 7, 'layer2_out': 14, 'batch': 64, 'lr': 0.0054551087797274755, 'momentum': 0.8893105126910178}<br>Result logdir: /Users/peterchatain/ray_results/train_asha<br>Number of trials: 4/4 (2 RUNNING, 2 TERMINATED)<br><br>"
      ],
      "text/plain": [
       "<IPython.core.display.HTML object>"
      ]
     },
     "metadata": {},
     "output_type": "display_data"
    },
    {
     "data": {
      "text/html": [
       "== Status ==<br>Current time: 2021-12-02 21:32:53 (running for 00:06:29.08)<br>Memory usage on this node: 10.1/16.0 GiB<br>Using AsyncHyperBand: num_stopped=2\n",
       "Bracket: Iter 512.000: None | Iter 256.000: None | Iter 128.000: None | Iter 64.000: None | Iter 32.000: None | Iter 16.000: None | Iter 8.000: None | Iter 4.000: 0.5158 | Iter 2.000: 0.4266<br>Resources requested: 2.0/12 CPUs, 0/0 GPUs, 0.0/6.1 GiB heap, 0.0/3.05 GiB objects<br>Current best trial: 8eaae_00002 with mean_accuracy=0.647 and parameters={'layer1_out': 7, 'layer2_out': 14, 'batch': 64, 'lr': 0.0054551087797274755, 'momentum': 0.8893105126910178}<br>Result logdir: /Users/peterchatain/ray_results/train_asha<br>Number of trials: 4/4 (2 RUNNING, 2 TERMINATED)<br><br>"
      ],
      "text/plain": [
       "<IPython.core.display.HTML object>"
      ]
     },
     "metadata": {},
     "output_type": "display_data"
    },
    {
     "data": {
      "text/html": [
       "== Status ==<br>Current time: 2021-12-02 21:32:58 (running for 00:06:34.11)<br>Memory usage on this node: 10.1/16.0 GiB<br>Using AsyncHyperBand: num_stopped=2\n",
       "Bracket: Iter 512.000: None | Iter 256.000: None | Iter 128.000: None | Iter 64.000: None | Iter 32.000: None | Iter 16.000: None | Iter 8.000: None | Iter 4.000: 0.5158 | Iter 2.000: 0.4266<br>Resources requested: 2.0/12 CPUs, 0/0 GPUs, 0.0/6.1 GiB heap, 0.0/3.05 GiB objects<br>Current best trial: 8eaae_00002 with mean_accuracy=0.647 and parameters={'layer1_out': 7, 'layer2_out': 14, 'batch': 64, 'lr': 0.0054551087797274755, 'momentum': 0.8893105126910178}<br>Result logdir: /Users/peterchatain/ray_results/train_asha<br>Number of trials: 4/4 (2 RUNNING, 2 TERMINATED)<br><br>"
      ],
      "text/plain": [
       "<IPython.core.display.HTML object>"
      ]
     },
     "metadata": {},
     "output_type": "display_data"
    },
    {
     "data": {
      "text/html": [
       "== Status ==<br>Current time: 2021-12-02 21:33:03 (running for 00:06:39.13)<br>Memory usage on this node: 10.0/16.0 GiB<br>Using AsyncHyperBand: num_stopped=2\n",
       "Bracket: Iter 512.000: None | Iter 256.000: None | Iter 128.000: None | Iter 64.000: None | Iter 32.000: None | Iter 16.000: None | Iter 8.000: None | Iter 4.000: 0.5158 | Iter 2.000: 0.4266<br>Resources requested: 2.0/12 CPUs, 0/0 GPUs, 0.0/6.1 GiB heap, 0.0/3.05 GiB objects<br>Current best trial: 8eaae_00002 with mean_accuracy=0.647 and parameters={'layer1_out': 7, 'layer2_out': 14, 'batch': 64, 'lr': 0.0054551087797274755, 'momentum': 0.8893105126910178}<br>Result logdir: /Users/peterchatain/ray_results/train_asha<br>Number of trials: 4/4 (2 RUNNING, 2 TERMINATED)<br><br>"
      ],
      "text/plain": [
       "<IPython.core.display.HTML object>"
      ]
     },
     "metadata": {},
     "output_type": "display_data"
    },
    {
     "data": {
      "text/html": [
       "== Status ==<br>Current time: 2021-12-02 21:33:08 (running for 00:06:44.15)<br>Memory usage on this node: 10.0/16.0 GiB<br>Using AsyncHyperBand: num_stopped=2\n",
       "Bracket: Iter 512.000: None | Iter 256.000: None | Iter 128.000: None | Iter 64.000: None | Iter 32.000: None | Iter 16.000: None | Iter 8.000: None | Iter 4.000: 0.5158 | Iter 2.000: 0.4266<br>Resources requested: 2.0/12 CPUs, 0/0 GPUs, 0.0/6.1 GiB heap, 0.0/3.05 GiB objects<br>Current best trial: 8eaae_00002 with mean_accuracy=0.647 and parameters={'layer1_out': 7, 'layer2_out': 14, 'batch': 64, 'lr': 0.0054551087797274755, 'momentum': 0.8893105126910178}<br>Result logdir: /Users/peterchatain/ray_results/train_asha<br>Number of trials: 4/4 (2 RUNNING, 2 TERMINATED)<br><br>"
      ],
      "text/plain": [
       "<IPython.core.display.HTML object>"
      ]
     },
     "metadata": {},
     "output_type": "display_data"
    },
    {
     "data": {
      "text/html": [
       "== Status ==<br>Current time: 2021-12-02 21:33:13 (running for 00:06:49.17)<br>Memory usage on this node: 9.8/16.0 GiB<br>Using AsyncHyperBand: num_stopped=2\n",
       "Bracket: Iter 512.000: None | Iter 256.000: None | Iter 128.000: None | Iter 64.000: None | Iter 32.000: None | Iter 16.000: None | Iter 8.000: None | Iter 4.000: 0.5158 | Iter 2.000: 0.4266<br>Resources requested: 2.0/12 CPUs, 0/0 GPUs, 0.0/6.1 GiB heap, 0.0/3.05 GiB objects<br>Current best trial: 8eaae_00002 with mean_accuracy=0.647 and parameters={'layer1_out': 7, 'layer2_out': 14, 'batch': 64, 'lr': 0.0054551087797274755, 'momentum': 0.8893105126910178}<br>Result logdir: /Users/peterchatain/ray_results/train_asha<br>Number of trials: 4/4 (2 RUNNING, 2 TERMINATED)<br><br>"
      ],
      "text/plain": [
       "<IPython.core.display.HTML object>"
      ]
     },
     "metadata": {},
     "output_type": "display_data"
    },
    {
     "data": {
      "text/html": [
       "== Status ==<br>Current time: 2021-12-02 21:33:18 (running for 00:06:54.19)<br>Memory usage on this node: 9.8/16.0 GiB<br>Using AsyncHyperBand: num_stopped=2\n",
       "Bracket: Iter 512.000: None | Iter 256.000: None | Iter 128.000: None | Iter 64.000: None | Iter 32.000: None | Iter 16.000: None | Iter 8.000: None | Iter 4.000: 0.5158 | Iter 2.000: 0.4266<br>Resources requested: 2.0/12 CPUs, 0/0 GPUs, 0.0/6.1 GiB heap, 0.0/3.05 GiB objects<br>Current best trial: 8eaae_00002 with mean_accuracy=0.647 and parameters={'layer1_out': 7, 'layer2_out': 14, 'batch': 64, 'lr': 0.0054551087797274755, 'momentum': 0.8893105126910178}<br>Result logdir: /Users/peterchatain/ray_results/train_asha<br>Number of trials: 4/4 (2 RUNNING, 2 TERMINATED)<br><br>"
      ],
      "text/plain": [
       "<IPython.core.display.HTML object>"
      ]
     },
     "metadata": {},
     "output_type": "display_data"
    },
    {
     "data": {
      "text/html": [
       "== Status ==<br>Current time: 2021-12-02 21:33:23 (running for 00:06:59.22)<br>Memory usage on this node: 9.8/16.0 GiB<br>Using AsyncHyperBand: num_stopped=2\n",
       "Bracket: Iter 512.000: None | Iter 256.000: None | Iter 128.000: None | Iter 64.000: None | Iter 32.000: None | Iter 16.000: None | Iter 8.000: None | Iter 4.000: 0.5158 | Iter 2.000: 0.4266<br>Resources requested: 2.0/12 CPUs, 0/0 GPUs, 0.0/6.1 GiB heap, 0.0/3.05 GiB objects<br>Current best trial: 8eaae_00002 with mean_accuracy=0.647 and parameters={'layer1_out': 7, 'layer2_out': 14, 'batch': 64, 'lr': 0.0054551087797274755, 'momentum': 0.8893105126910178}<br>Result logdir: /Users/peterchatain/ray_results/train_asha<br>Number of trials: 4/4 (2 RUNNING, 2 TERMINATED)<br><br>"
      ],
      "text/plain": [
       "<IPython.core.display.HTML object>"
      ]
     },
     "metadata": {},
     "output_type": "display_data"
    },
    {
     "name": "stdout",
     "output_type": "stream",
     "text": [
      "Trial train_eval_model_8eaae_00000 reported mean_accuracy=0.56 with parameters={'layer1_out': 6, 'layer2_out': 18, 'batch': 32, 'lr': 0.0008249470865456945, 'momentum': 0.8721267306546336}.\n"
     ]
    },
    {
     "data": {
      "text/html": [
       "== Status ==<br>Current time: 2021-12-02 21:33:29 (running for 00:07:04.88)<br>Memory usage on this node: 10.1/16.0 GiB<br>Using AsyncHyperBand: num_stopped=2\n",
       "Bracket: Iter 512.000: None | Iter 256.000: None | Iter 128.000: None | Iter 64.000: None | Iter 32.000: None | Iter 16.000: None | Iter 8.000: None | Iter 4.000: 0.5158 | Iter 2.000: 0.4266<br>Resources requested: 2.0/12 CPUs, 0/0 GPUs, 0.0/6.1 GiB heap, 0.0/3.05 GiB objects<br>Current best trial: 8eaae_00002 with mean_accuracy=0.647 and parameters={'layer1_out': 7, 'layer2_out': 14, 'batch': 64, 'lr': 0.0054551087797274755, 'momentum': 0.8893105126910178}<br>Result logdir: /Users/peterchatain/ray_results/train_asha<br>Number of trials: 4/4 (2 RUNNING, 2 TERMINATED)<br><br>"
      ],
      "text/plain": [
       "<IPython.core.display.HTML object>"
      ]
     },
     "metadata": {},
     "output_type": "display_data"
    },
    {
     "name": "stdout",
     "output_type": "stream",
     "text": [
      "Trial train_eval_model_8eaae_00002 reported mean_accuracy=0.63 with parameters={'layer1_out': 7, 'layer2_out': 14, 'batch': 64, 'lr': 0.0054551087797274755, 'momentum': 0.8893105126910178}.\n"
     ]
    },
    {
     "data": {
      "text/html": [
       "== Status ==<br>Current time: 2021-12-02 21:33:35 (running for 00:07:10.50)<br>Memory usage on this node: 10.2/16.0 GiB<br>Using AsyncHyperBand: num_stopped=2\n",
       "Bracket: Iter 512.000: None | Iter 256.000: None | Iter 128.000: None | Iter 64.000: None | Iter 32.000: None | Iter 16.000: None | Iter 8.000: None | Iter 4.000: 0.5158 | Iter 2.000: 0.4266<br>Resources requested: 2.0/12 CPUs, 0/0 GPUs, 0.0/6.1 GiB heap, 0.0/3.05 GiB objects<br>Current best trial: 8eaae_00002 with mean_accuracy=0.6336 and parameters={'layer1_out': 7, 'layer2_out': 14, 'batch': 64, 'lr': 0.0054551087797274755, 'momentum': 0.8893105126910178}<br>Result logdir: /Users/peterchatain/ray_results/train_asha<br>Number of trials: 4/4 (2 RUNNING, 2 TERMINATED)<br><br>"
      ],
      "text/plain": [
       "<IPython.core.display.HTML object>"
      ]
     },
     "metadata": {},
     "output_type": "display_data"
    },
    {
     "data": {
      "text/html": [
       "== Status ==<br>Current time: 2021-12-02 21:33:40 (running for 00:07:15.52)<br>Memory usage on this node: 10.0/16.0 GiB<br>Using AsyncHyperBand: num_stopped=2\n",
       "Bracket: Iter 512.000: None | Iter 256.000: None | Iter 128.000: None | Iter 64.000: None | Iter 32.000: None | Iter 16.000: None | Iter 8.000: None | Iter 4.000: 0.5158 | Iter 2.000: 0.4266<br>Resources requested: 2.0/12 CPUs, 0/0 GPUs, 0.0/6.1 GiB heap, 0.0/3.05 GiB objects<br>Current best trial: 8eaae_00002 with mean_accuracy=0.6336 and parameters={'layer1_out': 7, 'layer2_out': 14, 'batch': 64, 'lr': 0.0054551087797274755, 'momentum': 0.8893105126910178}<br>Result logdir: /Users/peterchatain/ray_results/train_asha<br>Number of trials: 4/4 (2 RUNNING, 2 TERMINATED)<br><br>"
      ],
      "text/plain": [
       "<IPython.core.display.HTML object>"
      ]
     },
     "metadata": {},
     "output_type": "display_data"
    },
    {
     "data": {
      "text/html": [
       "== Status ==<br>Current time: 2021-12-02 21:33:45 (running for 00:07:20.54)<br>Memory usage on this node: 10.0/16.0 GiB<br>Using AsyncHyperBand: num_stopped=2\n",
       "Bracket: Iter 512.000: None | Iter 256.000: None | Iter 128.000: None | Iter 64.000: None | Iter 32.000: None | Iter 16.000: None | Iter 8.000: None | Iter 4.000: 0.5158 | Iter 2.000: 0.4266<br>Resources requested: 2.0/12 CPUs, 0/0 GPUs, 0.0/6.1 GiB heap, 0.0/3.05 GiB objects<br>Current best trial: 8eaae_00002 with mean_accuracy=0.6336 and parameters={'layer1_out': 7, 'layer2_out': 14, 'batch': 64, 'lr': 0.0054551087797274755, 'momentum': 0.8893105126910178}<br>Result logdir: /Users/peterchatain/ray_results/train_asha<br>Number of trials: 4/4 (2 RUNNING, 2 TERMINATED)<br><br>"
      ],
      "text/plain": [
       "<IPython.core.display.HTML object>"
      ]
     },
     "metadata": {},
     "output_type": "display_data"
    },
    {
     "data": {
      "text/html": [
       "== Status ==<br>Current time: 2021-12-02 21:33:50 (running for 00:07:25.57)<br>Memory usage on this node: 9.9/16.0 GiB<br>Using AsyncHyperBand: num_stopped=2\n",
       "Bracket: Iter 512.000: None | Iter 256.000: None | Iter 128.000: None | Iter 64.000: None | Iter 32.000: None | Iter 16.000: None | Iter 8.000: None | Iter 4.000: 0.5158 | Iter 2.000: 0.4266<br>Resources requested: 2.0/12 CPUs, 0/0 GPUs, 0.0/6.1 GiB heap, 0.0/3.05 GiB objects<br>Current best trial: 8eaae_00002 with mean_accuracy=0.6336 and parameters={'layer1_out': 7, 'layer2_out': 14, 'batch': 64, 'lr': 0.0054551087797274755, 'momentum': 0.8893105126910178}<br>Result logdir: /Users/peterchatain/ray_results/train_asha<br>Number of trials: 4/4 (2 RUNNING, 2 TERMINATED)<br><br>"
      ],
      "text/plain": [
       "<IPython.core.display.HTML object>"
      ]
     },
     "metadata": {},
     "output_type": "display_data"
    },
    {
     "data": {
      "text/html": [
       "== Status ==<br>Current time: 2021-12-02 21:33:55 (running for 00:07:30.59)<br>Memory usage on this node: 10.2/16.0 GiB<br>Using AsyncHyperBand: num_stopped=2\n",
       "Bracket: Iter 512.000: None | Iter 256.000: None | Iter 128.000: None | Iter 64.000: None | Iter 32.000: None | Iter 16.000: None | Iter 8.000: None | Iter 4.000: 0.5158 | Iter 2.000: 0.4266<br>Resources requested: 2.0/12 CPUs, 0/0 GPUs, 0.0/6.1 GiB heap, 0.0/3.05 GiB objects<br>Current best trial: 8eaae_00002 with mean_accuracy=0.6336 and parameters={'layer1_out': 7, 'layer2_out': 14, 'batch': 64, 'lr': 0.0054551087797274755, 'momentum': 0.8893105126910178}<br>Result logdir: /Users/peterchatain/ray_results/train_asha<br>Number of trials: 4/4 (2 RUNNING, 2 TERMINATED)<br><br>"
      ],
      "text/plain": [
       "<IPython.core.display.HTML object>"
      ]
     },
     "metadata": {},
     "output_type": "display_data"
    },
    {
     "data": {
      "text/html": [
       "== Status ==<br>Current time: 2021-12-02 21:34:00 (running for 00:07:35.62)<br>Memory usage on this node: 10.5/16.0 GiB<br>Using AsyncHyperBand: num_stopped=2\n",
       "Bracket: Iter 512.000: None | Iter 256.000: None | Iter 128.000: None | Iter 64.000: None | Iter 32.000: None | Iter 16.000: None | Iter 8.000: None | Iter 4.000: 0.5158 | Iter 2.000: 0.4266<br>Resources requested: 2.0/12 CPUs, 0/0 GPUs, 0.0/6.1 GiB heap, 0.0/3.05 GiB objects<br>Current best trial: 8eaae_00002 with mean_accuracy=0.6336 and parameters={'layer1_out': 7, 'layer2_out': 14, 'batch': 64, 'lr': 0.0054551087797274755, 'momentum': 0.8893105126910178}<br>Result logdir: /Users/peterchatain/ray_results/train_asha<br>Number of trials: 4/4 (2 RUNNING, 2 TERMINATED)<br><br>"
      ],
      "text/plain": [
       "<IPython.core.display.HTML object>"
      ]
     },
     "metadata": {},
     "output_type": "display_data"
    },
    {
     "data": {
      "text/html": [
       "== Status ==<br>Current time: 2021-12-02 21:34:05 (running for 00:07:40.64)<br>Memory usage on this node: 10.6/16.0 GiB<br>Using AsyncHyperBand: num_stopped=2\n",
       "Bracket: Iter 512.000: None | Iter 256.000: None | Iter 128.000: None | Iter 64.000: None | Iter 32.000: None | Iter 16.000: None | Iter 8.000: None | Iter 4.000: 0.5158 | Iter 2.000: 0.4266<br>Resources requested: 2.0/12 CPUs, 0/0 GPUs, 0.0/6.1 GiB heap, 0.0/3.05 GiB objects<br>Current best trial: 8eaae_00002 with mean_accuracy=0.6336 and parameters={'layer1_out': 7, 'layer2_out': 14, 'batch': 64, 'lr': 0.0054551087797274755, 'momentum': 0.8893105126910178}<br>Result logdir: /Users/peterchatain/ray_results/train_asha<br>Number of trials: 4/4 (2 RUNNING, 2 TERMINATED)<br><br>"
      ],
      "text/plain": [
       "<IPython.core.display.HTML object>"
      ]
     },
     "metadata": {},
     "output_type": "display_data"
    },
    {
     "data": {
      "text/html": [
       "== Status ==<br>Current time: 2021-12-02 21:34:10 (running for 00:07:45.74)<br>Memory usage on this node: 10.6/16.0 GiB<br>Using AsyncHyperBand: num_stopped=2\n",
       "Bracket: Iter 512.000: None | Iter 256.000: None | Iter 128.000: None | Iter 64.000: None | Iter 32.000: None | Iter 16.000: None | Iter 8.000: None | Iter 4.000: 0.5158 | Iter 2.000: 0.4266<br>Resources requested: 2.0/12 CPUs, 0/0 GPUs, 0.0/6.1 GiB heap, 0.0/3.05 GiB objects<br>Current best trial: 8eaae_00002 with mean_accuracy=0.6336 and parameters={'layer1_out': 7, 'layer2_out': 14, 'batch': 64, 'lr': 0.0054551087797274755, 'momentum': 0.8893105126910178}<br>Result logdir: /Users/peterchatain/ray_results/train_asha<br>Number of trials: 4/4 (2 RUNNING, 2 TERMINATED)<br><br>"
      ],
      "text/plain": [
       "<IPython.core.display.HTML object>"
      ]
     },
     "metadata": {},
     "output_type": "display_data"
    },
    {
     "data": {
      "text/html": [
       "== Status ==<br>Current time: 2021-12-02 21:34:15 (running for 00:07:50.76)<br>Memory usage on this node: 10.6/16.0 GiB<br>Using AsyncHyperBand: num_stopped=2\n",
       "Bracket: Iter 512.000: None | Iter 256.000: None | Iter 128.000: None | Iter 64.000: None | Iter 32.000: None | Iter 16.000: None | Iter 8.000: None | Iter 4.000: 0.5158 | Iter 2.000: 0.4266<br>Resources requested: 2.0/12 CPUs, 0/0 GPUs, 0.0/6.1 GiB heap, 0.0/3.05 GiB objects<br>Current best trial: 8eaae_00002 with mean_accuracy=0.6336 and parameters={'layer1_out': 7, 'layer2_out': 14, 'batch': 64, 'lr': 0.0054551087797274755, 'momentum': 0.8893105126910178}<br>Result logdir: /Users/peterchatain/ray_results/train_asha<br>Number of trials: 4/4 (2 RUNNING, 2 TERMINATED)<br><br>"
      ],
      "text/plain": [
       "<IPython.core.display.HTML object>"
      ]
     },
     "metadata": {},
     "output_type": "display_data"
    },
    {
     "data": {
      "text/html": [
       "== Status ==<br>Current time: 2021-12-02 21:34:20 (running for 00:07:55.78)<br>Memory usage on this node: 10.4/16.0 GiB<br>Using AsyncHyperBand: num_stopped=2\n",
       "Bracket: Iter 512.000: None | Iter 256.000: None | Iter 128.000: None | Iter 64.000: None | Iter 32.000: None | Iter 16.000: None | Iter 8.000: None | Iter 4.000: 0.5158 | Iter 2.000: 0.4266<br>Resources requested: 2.0/12 CPUs, 0/0 GPUs, 0.0/6.1 GiB heap, 0.0/3.05 GiB objects<br>Current best trial: 8eaae_00002 with mean_accuracy=0.6336 and parameters={'layer1_out': 7, 'layer2_out': 14, 'batch': 64, 'lr': 0.0054551087797274755, 'momentum': 0.8893105126910178}<br>Result logdir: /Users/peterchatain/ray_results/train_asha<br>Number of trials: 4/4 (2 RUNNING, 2 TERMINATED)<br><br>"
      ],
      "text/plain": [
       "<IPython.core.display.HTML object>"
      ]
     },
     "metadata": {},
     "output_type": "display_data"
    },
    {
     "data": {
      "text/html": [
       "== Status ==<br>Current time: 2021-12-02 21:34:25 (running for 00:08:00.80)<br>Memory usage on this node: 10.5/16.0 GiB<br>Using AsyncHyperBand: num_stopped=2\n",
       "Bracket: Iter 512.000: None | Iter 256.000: None | Iter 128.000: None | Iter 64.000: None | Iter 32.000: None | Iter 16.000: None | Iter 8.000: None | Iter 4.000: 0.5158 | Iter 2.000: 0.4266<br>Resources requested: 2.0/12 CPUs, 0/0 GPUs, 0.0/6.1 GiB heap, 0.0/3.05 GiB objects<br>Current best trial: 8eaae_00002 with mean_accuracy=0.6336 and parameters={'layer1_out': 7, 'layer2_out': 14, 'batch': 64, 'lr': 0.0054551087797274755, 'momentum': 0.8893105126910178}<br>Result logdir: /Users/peterchatain/ray_results/train_asha<br>Number of trials: 4/4 (2 RUNNING, 2 TERMINATED)<br><br>"
      ],
      "text/plain": [
       "<IPython.core.display.HTML object>"
      ]
     },
     "metadata": {},
     "output_type": "display_data"
    },
    {
     "name": "stdout",
     "output_type": "stream",
     "text": [
      "Trial train_eval_model_8eaae_00000 reported mean_accuracy=0.59 with parameters={'layer1_out': 6, 'layer2_out': 18, 'batch': 32, 'lr': 0.0008249470865456945, 'momentum': 0.8721267306546336}.\n"
     ]
    },
    {
     "data": {
      "text/html": [
       "== Status ==<br>Current time: 2021-12-02 21:34:31 (running for 00:08:06.67)<br>Memory usage on this node: 10.7/16.0 GiB<br>Using AsyncHyperBand: num_stopped=2\n",
       "Bracket: Iter 512.000: None | Iter 256.000: None | Iter 128.000: None | Iter 64.000: None | Iter 32.000: None | Iter 16.000: None | Iter 8.000: None | Iter 4.000: 0.5158 | Iter 2.000: 0.4266<br>Resources requested: 2.0/12 CPUs, 0/0 GPUs, 0.0/6.1 GiB heap, 0.0/3.05 GiB objects<br>Current best trial: 8eaae_00002 with mean_accuracy=0.6336 and parameters={'layer1_out': 7, 'layer2_out': 14, 'batch': 64, 'lr': 0.0054551087797274755, 'momentum': 0.8893105126910178}<br>Result logdir: /Users/peterchatain/ray_results/train_asha<br>Number of trials: 4/4 (2 RUNNING, 2 TERMINATED)<br><br>"
      ],
      "text/plain": [
       "<IPython.core.display.HTML object>"
      ]
     },
     "metadata": {},
     "output_type": "display_data"
    },
    {
     "name": "stdout",
     "output_type": "stream",
     "text": [
      "Trial train_eval_model_8eaae_00002 reported mean_accuracy=0.64 with parameters={'layer1_out': 7, 'layer2_out': 14, 'batch': 64, 'lr': 0.0054551087797274755, 'momentum': 0.8893105126910178}.\n"
     ]
    },
    {
     "data": {
      "text/html": [
       "== Status ==<br>Current time: 2021-12-02 21:34:37 (running for 00:08:12.53)<br>Memory usage on this node: 10.7/16.0 GiB<br>Using AsyncHyperBand: num_stopped=2\n",
       "Bracket: Iter 512.000: None | Iter 256.000: None | Iter 128.000: None | Iter 64.000: None | Iter 32.000: None | Iter 16.000: None | Iter 8.000: None | Iter 4.000: 0.5158 | Iter 2.000: 0.4266<br>Resources requested: 2.0/12 CPUs, 0/0 GPUs, 0.0/6.1 GiB heap, 0.0/3.05 GiB objects<br>Current best trial: 8eaae_00002 with mean_accuracy=0.6393 and parameters={'layer1_out': 7, 'layer2_out': 14, 'batch': 64, 'lr': 0.0054551087797274755, 'momentum': 0.8893105126910178}<br>Result logdir: /Users/peterchatain/ray_results/train_asha<br>Number of trials: 4/4 (2 RUNNING, 2 TERMINATED)<br><br>"
      ],
      "text/plain": [
       "<IPython.core.display.HTML object>"
      ]
     },
     "metadata": {},
     "output_type": "display_data"
    },
    {
     "data": {
      "text/html": [
       "== Status ==<br>Current time: 2021-12-02 21:34:42 (running for 00:08:17.56)<br>Memory usage on this node: 10.8/16.0 GiB<br>Using AsyncHyperBand: num_stopped=2\n",
       "Bracket: Iter 512.000: None | Iter 256.000: None | Iter 128.000: None | Iter 64.000: None | Iter 32.000: None | Iter 16.000: None | Iter 8.000: None | Iter 4.000: 0.5158 | Iter 2.000: 0.4266<br>Resources requested: 2.0/12 CPUs, 0/0 GPUs, 0.0/6.1 GiB heap, 0.0/3.05 GiB objects<br>Current best trial: 8eaae_00002 with mean_accuracy=0.6393 and parameters={'layer1_out': 7, 'layer2_out': 14, 'batch': 64, 'lr': 0.0054551087797274755, 'momentum': 0.8893105126910178}<br>Result logdir: /Users/peterchatain/ray_results/train_asha<br>Number of trials: 4/4 (2 RUNNING, 2 TERMINATED)<br><br>"
      ],
      "text/plain": [
       "<IPython.core.display.HTML object>"
      ]
     },
     "metadata": {},
     "output_type": "display_data"
    },
    {
     "data": {
      "text/html": [
       "== Status ==<br>Current time: 2021-12-02 21:34:47 (running for 00:08:22.58)<br>Memory usage on this node: 10.5/16.0 GiB<br>Using AsyncHyperBand: num_stopped=2\n",
       "Bracket: Iter 512.000: None | Iter 256.000: None | Iter 128.000: None | Iter 64.000: None | Iter 32.000: None | Iter 16.000: None | Iter 8.000: None | Iter 4.000: 0.5158 | Iter 2.000: 0.4266<br>Resources requested: 2.0/12 CPUs, 0/0 GPUs, 0.0/6.1 GiB heap, 0.0/3.05 GiB objects<br>Current best trial: 8eaae_00002 with mean_accuracy=0.6393 and parameters={'layer1_out': 7, 'layer2_out': 14, 'batch': 64, 'lr': 0.0054551087797274755, 'momentum': 0.8893105126910178}<br>Result logdir: /Users/peterchatain/ray_results/train_asha<br>Number of trials: 4/4 (2 RUNNING, 2 TERMINATED)<br><br>"
      ],
      "text/plain": [
       "<IPython.core.display.HTML object>"
      ]
     },
     "metadata": {},
     "output_type": "display_data"
    },
    {
     "data": {
      "text/html": [
       "== Status ==<br>Current time: 2021-12-02 21:34:52 (running for 00:08:27.60)<br>Memory usage on this node: 10.3/16.0 GiB<br>Using AsyncHyperBand: num_stopped=2\n",
       "Bracket: Iter 512.000: None | Iter 256.000: None | Iter 128.000: None | Iter 64.000: None | Iter 32.000: None | Iter 16.000: None | Iter 8.000: None | Iter 4.000: 0.5158 | Iter 2.000: 0.4266<br>Resources requested: 2.0/12 CPUs, 0/0 GPUs, 0.0/6.1 GiB heap, 0.0/3.05 GiB objects<br>Current best trial: 8eaae_00002 with mean_accuracy=0.6393 and parameters={'layer1_out': 7, 'layer2_out': 14, 'batch': 64, 'lr': 0.0054551087797274755, 'momentum': 0.8893105126910178}<br>Result logdir: /Users/peterchatain/ray_results/train_asha<br>Number of trials: 4/4 (2 RUNNING, 2 TERMINATED)<br><br>"
      ],
      "text/plain": [
       "<IPython.core.display.HTML object>"
      ]
     },
     "metadata": {},
     "output_type": "display_data"
    },
    {
     "data": {
      "text/html": [
       "== Status ==<br>Current time: 2021-12-02 21:34:57 (running for 00:08:32.63)<br>Memory usage on this node: 10.4/16.0 GiB<br>Using AsyncHyperBand: num_stopped=2\n",
       "Bracket: Iter 512.000: None | Iter 256.000: None | Iter 128.000: None | Iter 64.000: None | Iter 32.000: None | Iter 16.000: None | Iter 8.000: None | Iter 4.000: 0.5158 | Iter 2.000: 0.4266<br>Resources requested: 2.0/12 CPUs, 0/0 GPUs, 0.0/6.1 GiB heap, 0.0/3.05 GiB objects<br>Current best trial: 8eaae_00002 with mean_accuracy=0.6393 and parameters={'layer1_out': 7, 'layer2_out': 14, 'batch': 64, 'lr': 0.0054551087797274755, 'momentum': 0.8893105126910178}<br>Result logdir: /Users/peterchatain/ray_results/train_asha<br>Number of trials: 4/4 (2 RUNNING, 2 TERMINATED)<br><br>"
      ],
      "text/plain": [
       "<IPython.core.display.HTML object>"
      ]
     },
     "metadata": {},
     "output_type": "display_data"
    },
    {
     "data": {
      "text/html": [
       "== Status ==<br>Current time: 2021-12-02 21:35:02 (running for 00:08:37.64)<br>Memory usage on this node: 10.7/16.0 GiB<br>Using AsyncHyperBand: num_stopped=2\n",
       "Bracket: Iter 512.000: None | Iter 256.000: None | Iter 128.000: None | Iter 64.000: None | Iter 32.000: None | Iter 16.000: None | Iter 8.000: None | Iter 4.000: 0.5158 | Iter 2.000: 0.4266<br>Resources requested: 2.0/12 CPUs, 0/0 GPUs, 0.0/6.1 GiB heap, 0.0/3.05 GiB objects<br>Current best trial: 8eaae_00002 with mean_accuracy=0.6393 and parameters={'layer1_out': 7, 'layer2_out': 14, 'batch': 64, 'lr': 0.0054551087797274755, 'momentum': 0.8893105126910178}<br>Result logdir: /Users/peterchatain/ray_results/train_asha<br>Number of trials: 4/4 (2 RUNNING, 2 TERMINATED)<br><br>"
      ],
      "text/plain": [
       "<IPython.core.display.HTML object>"
      ]
     },
     "metadata": {},
     "output_type": "display_data"
    },
    {
     "data": {
      "text/html": [
       "== Status ==<br>Current time: 2021-12-02 21:35:07 (running for 00:08:42.67)<br>Memory usage on this node: 10.8/16.0 GiB<br>Using AsyncHyperBand: num_stopped=2\n",
       "Bracket: Iter 512.000: None | Iter 256.000: None | Iter 128.000: None | Iter 64.000: None | Iter 32.000: None | Iter 16.000: None | Iter 8.000: None | Iter 4.000: 0.5158 | Iter 2.000: 0.4266<br>Resources requested: 2.0/12 CPUs, 0/0 GPUs, 0.0/6.1 GiB heap, 0.0/3.05 GiB objects<br>Current best trial: 8eaae_00002 with mean_accuracy=0.6393 and parameters={'layer1_out': 7, 'layer2_out': 14, 'batch': 64, 'lr': 0.0054551087797274755, 'momentum': 0.8893105126910178}<br>Result logdir: /Users/peterchatain/ray_results/train_asha<br>Number of trials: 4/4 (2 RUNNING, 2 TERMINATED)<br><br>"
      ],
      "text/plain": [
       "<IPython.core.display.HTML object>"
      ]
     },
     "metadata": {},
     "output_type": "display_data"
    },
    {
     "data": {
      "text/html": [
       "== Status ==<br>Current time: 2021-12-02 21:35:12 (running for 00:08:47.68)<br>Memory usage on this node: 10.5/16.0 GiB<br>Using AsyncHyperBand: num_stopped=2\n",
       "Bracket: Iter 512.000: None | Iter 256.000: None | Iter 128.000: None | Iter 64.000: None | Iter 32.000: None | Iter 16.000: None | Iter 8.000: None | Iter 4.000: 0.5158 | Iter 2.000: 0.4266<br>Resources requested: 2.0/12 CPUs, 0/0 GPUs, 0.0/6.1 GiB heap, 0.0/3.05 GiB objects<br>Current best trial: 8eaae_00002 with mean_accuracy=0.6393 and parameters={'layer1_out': 7, 'layer2_out': 14, 'batch': 64, 'lr': 0.0054551087797274755, 'momentum': 0.8893105126910178}<br>Result logdir: /Users/peterchatain/ray_results/train_asha<br>Number of trials: 4/4 (2 RUNNING, 2 TERMINATED)<br><br>"
      ],
      "text/plain": [
       "<IPython.core.display.HTML object>"
      ]
     },
     "metadata": {},
     "output_type": "display_data"
    },
    {
     "data": {
      "text/html": [
       "== Status ==<br>Current time: 2021-12-02 21:35:17 (running for 00:08:52.70)<br>Memory usage on this node: 10.3/16.0 GiB<br>Using AsyncHyperBand: num_stopped=2\n",
       "Bracket: Iter 512.000: None | Iter 256.000: None | Iter 128.000: None | Iter 64.000: None | Iter 32.000: None | Iter 16.000: None | Iter 8.000: None | Iter 4.000: 0.5158 | Iter 2.000: 0.4266<br>Resources requested: 2.0/12 CPUs, 0/0 GPUs, 0.0/6.1 GiB heap, 0.0/3.05 GiB objects<br>Current best trial: 8eaae_00002 with mean_accuracy=0.6393 and parameters={'layer1_out': 7, 'layer2_out': 14, 'batch': 64, 'lr': 0.0054551087797274755, 'momentum': 0.8893105126910178}<br>Result logdir: /Users/peterchatain/ray_results/train_asha<br>Number of trials: 4/4 (2 RUNNING, 2 TERMINATED)<br><br>"
      ],
      "text/plain": [
       "<IPython.core.display.HTML object>"
      ]
     },
     "metadata": {},
     "output_type": "display_data"
    },
    {
     "data": {
      "text/html": [
       "== Status ==<br>Current time: 2021-12-02 21:35:22 (running for 00:08:57.72)<br>Memory usage on this node: 10.6/16.0 GiB<br>Using AsyncHyperBand: num_stopped=2\n",
       "Bracket: Iter 512.000: None | Iter 256.000: None | Iter 128.000: None | Iter 64.000: None | Iter 32.000: None | Iter 16.000: None | Iter 8.000: None | Iter 4.000: 0.5158 | Iter 2.000: 0.4266<br>Resources requested: 2.0/12 CPUs, 0/0 GPUs, 0.0/6.1 GiB heap, 0.0/3.05 GiB objects<br>Current best trial: 8eaae_00002 with mean_accuracy=0.6393 and parameters={'layer1_out': 7, 'layer2_out': 14, 'batch': 64, 'lr': 0.0054551087797274755, 'momentum': 0.8893105126910178}<br>Result logdir: /Users/peterchatain/ray_results/train_asha<br>Number of trials: 4/4 (2 RUNNING, 2 TERMINATED)<br><br>"
      ],
      "text/plain": [
       "<IPython.core.display.HTML object>"
      ]
     },
     "metadata": {},
     "output_type": "display_data"
    },
    {
     "data": {
      "text/html": [
       "== Status ==<br>Current time: 2021-12-02 21:35:27 (running for 00:09:02.75)<br>Memory usage on this node: 10.8/16.0 GiB<br>Using AsyncHyperBand: num_stopped=2\n",
       "Bracket: Iter 512.000: None | Iter 256.000: None | Iter 128.000: None | Iter 64.000: None | Iter 32.000: None | Iter 16.000: None | Iter 8.000: None | Iter 4.000: 0.5158 | Iter 2.000: 0.4266<br>Resources requested: 2.0/12 CPUs, 0/0 GPUs, 0.0/6.1 GiB heap, 0.0/3.05 GiB objects<br>Current best trial: 8eaae_00002 with mean_accuracy=0.6393 and parameters={'layer1_out': 7, 'layer2_out': 14, 'batch': 64, 'lr': 0.0054551087797274755, 'momentum': 0.8893105126910178}<br>Result logdir: /Users/peterchatain/ray_results/train_asha<br>Number of trials: 4/4 (2 RUNNING, 2 TERMINATED)<br><br>"
      ],
      "text/plain": [
       "<IPython.core.display.HTML object>"
      ]
     },
     "metadata": {},
     "output_type": "display_data"
    },
    {
     "data": {
      "text/html": [
       "== Status ==<br>Current time: 2021-12-02 21:35:32 (running for 00:09:07.77)<br>Memory usage on this node: 10.8/16.0 GiB<br>Using AsyncHyperBand: num_stopped=2\n",
       "Bracket: Iter 512.000: None | Iter 256.000: None | Iter 128.000: None | Iter 64.000: None | Iter 32.000: None | Iter 16.000: None | Iter 8.000: None | Iter 4.000: 0.5158 | Iter 2.000: 0.4266<br>Resources requested: 2.0/12 CPUs, 0/0 GPUs, 0.0/6.1 GiB heap, 0.0/3.05 GiB objects<br>Current best trial: 8eaae_00002 with mean_accuracy=0.6393 and parameters={'layer1_out': 7, 'layer2_out': 14, 'batch': 64, 'lr': 0.0054551087797274755, 'momentum': 0.8893105126910178}<br>Result logdir: /Users/peterchatain/ray_results/train_asha<br>Number of trials: 4/4 (2 RUNNING, 2 TERMINATED)<br><br>"
      ],
      "text/plain": [
       "<IPython.core.display.HTML object>"
      ]
     },
     "metadata": {},
     "output_type": "display_data"
    },
    {
     "name": "stdout",
     "output_type": "stream",
     "text": [
      "Trial train_eval_model_8eaae_00000 reported mean_accuracy=0.59 with parameters={'layer1_out': 6, 'layer2_out': 18, 'batch': 32, 'lr': 0.0008249470865456945, 'momentum': 0.8721267306546336}.\n",
      "Trial train_eval_model_8eaae_00002 reported mean_accuracy=0.64 with parameters={'layer1_out': 7, 'layer2_out': 14, 'batch': 64, 'lr': 0.0054551087797274755, 'momentum': 0.8893105126910178}.\n"
     ]
    },
    {
     "data": {
      "text/html": [
       "== Status ==<br>Current time: 2021-12-02 21:35:37 (running for 00:09:13.04)<br>Memory usage on this node: 11.0/16.0 GiB<br>Using AsyncHyperBand: num_stopped=2\n",
       "Bracket: Iter 512.000: None | Iter 256.000: None | Iter 128.000: None | Iter 64.000: None | Iter 32.000: None | Iter 16.000: None | Iter 8.000: 0.61495 | Iter 4.000: 0.5158 | Iter 2.000: 0.4266<br>Resources requested: 2.0/12 CPUs, 0/0 GPUs, 0.0/6.1 GiB heap, 0.0/3.05 GiB objects<br>Current best trial: 8eaae_00002 with mean_accuracy=0.6413 and parameters={'layer1_out': 7, 'layer2_out': 14, 'batch': 64, 'lr': 0.0054551087797274755, 'momentum': 0.8893105126910178}<br>Result logdir: /Users/peterchatain/ray_results/train_asha<br>Number of trials: 4/4 (2 RUNNING, 2 TERMINATED)<br><br>"
      ],
      "text/plain": [
       "<IPython.core.display.HTML object>"
      ]
     },
     "metadata": {},
     "output_type": "display_data"
    },
    {
     "data": {
      "text/html": [
       "== Status ==<br>Current time: 2021-12-02 21:35:42 (running for 00:09:18.06)<br>Memory usage on this node: 10.9/16.0 GiB<br>Using AsyncHyperBand: num_stopped=2\n",
       "Bracket: Iter 512.000: None | Iter 256.000: None | Iter 128.000: None | Iter 64.000: None | Iter 32.000: None | Iter 16.000: None | Iter 8.000: 0.61495 | Iter 4.000: 0.5158 | Iter 2.000: 0.4266<br>Resources requested: 2.0/12 CPUs, 0/0 GPUs, 0.0/6.1 GiB heap, 0.0/3.05 GiB objects<br>Current best trial: 8eaae_00002 with mean_accuracy=0.6413 and parameters={'layer1_out': 7, 'layer2_out': 14, 'batch': 64, 'lr': 0.0054551087797274755, 'momentum': 0.8893105126910178}<br>Result logdir: /Users/peterchatain/ray_results/train_asha<br>Number of trials: 4/4 (2 RUNNING, 2 TERMINATED)<br><br>"
      ],
      "text/plain": [
       "<IPython.core.display.HTML object>"
      ]
     },
     "metadata": {},
     "output_type": "display_data"
    },
    {
     "data": {
      "text/html": [
       "== Status ==<br>Current time: 2021-12-02 21:35:47 (running for 00:09:23.08)<br>Memory usage on this node: 10.9/16.0 GiB<br>Using AsyncHyperBand: num_stopped=2\n",
       "Bracket: Iter 512.000: None | Iter 256.000: None | Iter 128.000: None | Iter 64.000: None | Iter 32.000: None | Iter 16.000: None | Iter 8.000: 0.61495 | Iter 4.000: 0.5158 | Iter 2.000: 0.4266<br>Resources requested: 2.0/12 CPUs, 0/0 GPUs, 0.0/6.1 GiB heap, 0.0/3.05 GiB objects<br>Current best trial: 8eaae_00002 with mean_accuracy=0.6413 and parameters={'layer1_out': 7, 'layer2_out': 14, 'batch': 64, 'lr': 0.0054551087797274755, 'momentum': 0.8893105126910178}<br>Result logdir: /Users/peterchatain/ray_results/train_asha<br>Number of trials: 4/4 (2 RUNNING, 2 TERMINATED)<br><br>"
      ],
      "text/plain": [
       "<IPython.core.display.HTML object>"
      ]
     },
     "metadata": {},
     "output_type": "display_data"
    },
    {
     "data": {
      "text/html": [
       "== Status ==<br>Current time: 2021-12-02 21:35:52 (running for 00:09:28.11)<br>Memory usage on this node: 10.3/16.0 GiB<br>Using AsyncHyperBand: num_stopped=2\n",
       "Bracket: Iter 512.000: None | Iter 256.000: None | Iter 128.000: None | Iter 64.000: None | Iter 32.000: None | Iter 16.000: None | Iter 8.000: 0.61495 | Iter 4.000: 0.5158 | Iter 2.000: 0.4266<br>Resources requested: 2.0/12 CPUs, 0/0 GPUs, 0.0/6.1 GiB heap, 0.0/3.05 GiB objects<br>Current best trial: 8eaae_00002 with mean_accuracy=0.6413 and parameters={'layer1_out': 7, 'layer2_out': 14, 'batch': 64, 'lr': 0.0054551087797274755, 'momentum': 0.8893105126910178}<br>Result logdir: /Users/peterchatain/ray_results/train_asha<br>Number of trials: 4/4 (2 RUNNING, 2 TERMINATED)<br><br>"
      ],
      "text/plain": [
       "<IPython.core.display.HTML object>"
      ]
     },
     "metadata": {},
     "output_type": "display_data"
    },
    {
     "data": {
      "text/html": [
       "== Status ==<br>Current time: 2021-12-02 21:35:57 (running for 00:09:33.14)<br>Memory usage on this node: 10.3/16.0 GiB<br>Using AsyncHyperBand: num_stopped=2\n",
       "Bracket: Iter 512.000: None | Iter 256.000: None | Iter 128.000: None | Iter 64.000: None | Iter 32.000: None | Iter 16.000: None | Iter 8.000: 0.61495 | Iter 4.000: 0.5158 | Iter 2.000: 0.4266<br>Resources requested: 2.0/12 CPUs, 0/0 GPUs, 0.0/6.1 GiB heap, 0.0/3.05 GiB objects<br>Current best trial: 8eaae_00002 with mean_accuracy=0.6413 and parameters={'layer1_out': 7, 'layer2_out': 14, 'batch': 64, 'lr': 0.0054551087797274755, 'momentum': 0.8893105126910178}<br>Result logdir: /Users/peterchatain/ray_results/train_asha<br>Number of trials: 4/4 (2 RUNNING, 2 TERMINATED)<br><br>"
      ],
      "text/plain": [
       "<IPython.core.display.HTML object>"
      ]
     },
     "metadata": {},
     "output_type": "display_data"
    },
    {
     "data": {
      "text/html": [
       "== Status ==<br>Current time: 2021-12-02 21:36:02 (running for 00:09:38.16)<br>Memory usage on this node: 10.7/16.0 GiB<br>Using AsyncHyperBand: num_stopped=2\n",
       "Bracket: Iter 512.000: None | Iter 256.000: None | Iter 128.000: None | Iter 64.000: None | Iter 32.000: None | Iter 16.000: None | Iter 8.000: 0.61495 | Iter 4.000: 0.5158 | Iter 2.000: 0.4266<br>Resources requested: 2.0/12 CPUs, 0/0 GPUs, 0.0/6.1 GiB heap, 0.0/3.05 GiB objects<br>Current best trial: 8eaae_00002 with mean_accuracy=0.6413 and parameters={'layer1_out': 7, 'layer2_out': 14, 'batch': 64, 'lr': 0.0054551087797274755, 'momentum': 0.8893105126910178}<br>Result logdir: /Users/peterchatain/ray_results/train_asha<br>Number of trials: 4/4 (2 RUNNING, 2 TERMINATED)<br><br>"
      ],
      "text/plain": [
       "<IPython.core.display.HTML object>"
      ]
     },
     "metadata": {},
     "output_type": "display_data"
    },
    {
     "data": {
      "text/html": [
       "== Status ==<br>Current time: 2021-12-02 21:36:07 (running for 00:09:43.19)<br>Memory usage on this node: 10.9/16.0 GiB<br>Using AsyncHyperBand: num_stopped=2\n",
       "Bracket: Iter 512.000: None | Iter 256.000: None | Iter 128.000: None | Iter 64.000: None | Iter 32.000: None | Iter 16.000: None | Iter 8.000: 0.61495 | Iter 4.000: 0.5158 | Iter 2.000: 0.4266<br>Resources requested: 2.0/12 CPUs, 0/0 GPUs, 0.0/6.1 GiB heap, 0.0/3.05 GiB objects<br>Current best trial: 8eaae_00002 with mean_accuracy=0.6413 and parameters={'layer1_out': 7, 'layer2_out': 14, 'batch': 64, 'lr': 0.0054551087797274755, 'momentum': 0.8893105126910178}<br>Result logdir: /Users/peterchatain/ray_results/train_asha<br>Number of trials: 4/4 (2 RUNNING, 2 TERMINATED)<br><br>"
      ],
      "text/plain": [
       "<IPython.core.display.HTML object>"
      ]
     },
     "metadata": {},
     "output_type": "display_data"
    },
    {
     "data": {
      "text/html": [
       "== Status ==<br>Current time: 2021-12-02 21:36:12 (running for 00:09:48.21)<br>Memory usage on this node: 10.9/16.0 GiB<br>Using AsyncHyperBand: num_stopped=2\n",
       "Bracket: Iter 512.000: None | Iter 256.000: None | Iter 128.000: None | Iter 64.000: None | Iter 32.000: None | Iter 16.000: None | Iter 8.000: 0.61495 | Iter 4.000: 0.5158 | Iter 2.000: 0.4266<br>Resources requested: 2.0/12 CPUs, 0/0 GPUs, 0.0/6.1 GiB heap, 0.0/3.05 GiB objects<br>Current best trial: 8eaae_00002 with mean_accuracy=0.6413 and parameters={'layer1_out': 7, 'layer2_out': 14, 'batch': 64, 'lr': 0.0054551087797274755, 'momentum': 0.8893105126910178}<br>Result logdir: /Users/peterchatain/ray_results/train_asha<br>Number of trials: 4/4 (2 RUNNING, 2 TERMINATED)<br><br>"
      ],
      "text/plain": [
       "<IPython.core.display.HTML object>"
      ]
     },
     "metadata": {},
     "output_type": "display_data"
    },
    {
     "data": {
      "text/html": [
       "== Status ==<br>Current time: 2021-12-02 21:36:17 (running for 00:09:53.24)<br>Memory usage on this node: 10.3/16.0 GiB<br>Using AsyncHyperBand: num_stopped=2\n",
       "Bracket: Iter 512.000: None | Iter 256.000: None | Iter 128.000: None | Iter 64.000: None | Iter 32.000: None | Iter 16.000: None | Iter 8.000: 0.61495 | Iter 4.000: 0.5158 | Iter 2.000: 0.4266<br>Resources requested: 2.0/12 CPUs, 0/0 GPUs, 0.0/6.1 GiB heap, 0.0/3.05 GiB objects<br>Current best trial: 8eaae_00002 with mean_accuracy=0.6413 and parameters={'layer1_out': 7, 'layer2_out': 14, 'batch': 64, 'lr': 0.0054551087797274755, 'momentum': 0.8893105126910178}<br>Result logdir: /Users/peterchatain/ray_results/train_asha<br>Number of trials: 4/4 (2 RUNNING, 2 TERMINATED)<br><br>"
      ],
      "text/plain": [
       "<IPython.core.display.HTML object>"
      ]
     },
     "metadata": {},
     "output_type": "display_data"
    },
    {
     "data": {
      "text/html": [
       "== Status ==<br>Current time: 2021-12-02 21:36:22 (running for 00:09:58.26)<br>Memory usage on this node: 10.3/16.0 GiB<br>Using AsyncHyperBand: num_stopped=2\n",
       "Bracket: Iter 512.000: None | Iter 256.000: None | Iter 128.000: None | Iter 64.000: None | Iter 32.000: None | Iter 16.000: None | Iter 8.000: 0.61495 | Iter 4.000: 0.5158 | Iter 2.000: 0.4266<br>Resources requested: 2.0/12 CPUs, 0/0 GPUs, 0.0/6.1 GiB heap, 0.0/3.05 GiB objects<br>Current best trial: 8eaae_00002 with mean_accuracy=0.6413 and parameters={'layer1_out': 7, 'layer2_out': 14, 'batch': 64, 'lr': 0.0054551087797274755, 'momentum': 0.8893105126910178}<br>Result logdir: /Users/peterchatain/ray_results/train_asha<br>Number of trials: 4/4 (2 RUNNING, 2 TERMINATED)<br><br>"
      ],
      "text/plain": [
       "<IPython.core.display.HTML object>"
      ]
     },
     "metadata": {},
     "output_type": "display_data"
    },
    {
     "data": {
      "text/html": [
       "== Status ==<br>Current time: 2021-12-02 21:36:28 (running for 00:10:03.29)<br>Memory usage on this node: 10.4/16.0 GiB<br>Using AsyncHyperBand: num_stopped=2\n",
       "Bracket: Iter 512.000: None | Iter 256.000: None | Iter 128.000: None | Iter 64.000: None | Iter 32.000: None | Iter 16.000: None | Iter 8.000: 0.61495 | Iter 4.000: 0.5158 | Iter 2.000: 0.4266<br>Resources requested: 2.0/12 CPUs, 0/0 GPUs, 0.0/6.1 GiB heap, 0.0/3.05 GiB objects<br>Current best trial: 8eaae_00002 with mean_accuracy=0.6413 and parameters={'layer1_out': 7, 'layer2_out': 14, 'batch': 64, 'lr': 0.0054551087797274755, 'momentum': 0.8893105126910178}<br>Result logdir: /Users/peterchatain/ray_results/train_asha<br>Number of trials: 4/4 (2 RUNNING, 2 TERMINATED)<br><br>"
      ],
      "text/plain": [
       "<IPython.core.display.HTML object>"
      ]
     },
     "metadata": {},
     "output_type": "display_data"
    },
    {
     "data": {
      "text/html": [
       "== Status ==<br>Current time: 2021-12-02 21:36:33 (running for 00:10:08.31)<br>Memory usage on this node: 10.4/16.0 GiB<br>Using AsyncHyperBand: num_stopped=2\n",
       "Bracket: Iter 512.000: None | Iter 256.000: None | Iter 128.000: None | Iter 64.000: None | Iter 32.000: None | Iter 16.000: None | Iter 8.000: 0.61495 | Iter 4.000: 0.5158 | Iter 2.000: 0.4266<br>Resources requested: 2.0/12 CPUs, 0/0 GPUs, 0.0/6.1 GiB heap, 0.0/3.05 GiB objects<br>Current best trial: 8eaae_00002 with mean_accuracy=0.6413 and parameters={'layer1_out': 7, 'layer2_out': 14, 'batch': 64, 'lr': 0.0054551087797274755, 'momentum': 0.8893105126910178}<br>Result logdir: /Users/peterchatain/ray_results/train_asha<br>Number of trials: 4/4 (2 RUNNING, 2 TERMINATED)<br><br>"
      ],
      "text/plain": [
       "<IPython.core.display.HTML object>"
      ]
     },
     "metadata": {},
     "output_type": "display_data"
    },
    {
     "name": "stdout",
     "output_type": "stream",
     "text": [
      "Trial train_eval_model_8eaae_00000 reported mean_accuracy=0.61 with parameters={'layer1_out': 6, 'layer2_out': 18, 'batch': 32, 'lr': 0.0008249470865456945, 'momentum': 0.8721267306546336}.\n",
      "Trial train_eval_model_8eaae_00002 reported mean_accuracy=0.65 with parameters={'layer1_out': 7, 'layer2_out': 14, 'batch': 64, 'lr': 0.0054551087797274755, 'momentum': 0.8893105126910178}.\n"
     ]
    },
    {
     "data": {
      "text/html": [
       "== Status ==<br>Current time: 2021-12-02 21:36:38 (running for 00:10:13.67)<br>Memory usage on this node: 10.7/16.0 GiB<br>Using AsyncHyperBand: num_stopped=2\n",
       "Bracket: Iter 512.000: None | Iter 256.000: None | Iter 128.000: None | Iter 64.000: None | Iter 32.000: None | Iter 16.000: None | Iter 8.000: 0.61495 | Iter 4.000: 0.5158 | Iter 2.000: 0.4266<br>Resources requested: 2.0/12 CPUs, 0/0 GPUs, 0.0/6.1 GiB heap, 0.0/3.05 GiB objects<br>Current best trial: 8eaae_00002 with mean_accuracy=0.6455 and parameters={'layer1_out': 7, 'layer2_out': 14, 'batch': 64, 'lr': 0.0054551087797274755, 'momentum': 0.8893105126910178}<br>Result logdir: /Users/peterchatain/ray_results/train_asha<br>Number of trials: 4/4 (2 RUNNING, 2 TERMINATED)<br><br>"
      ],
      "text/plain": [
       "<IPython.core.display.HTML object>"
      ]
     },
     "metadata": {},
     "output_type": "display_data"
    },
    {
     "data": {
      "text/html": [
       "== Status ==<br>Current time: 2021-12-02 21:36:43 (running for 00:10:18.69)<br>Memory usage on this node: 10.8/16.0 GiB<br>Using AsyncHyperBand: num_stopped=2\n",
       "Bracket: Iter 512.000: None | Iter 256.000: None | Iter 128.000: None | Iter 64.000: None | Iter 32.000: None | Iter 16.000: None | Iter 8.000: 0.61495 | Iter 4.000: 0.5158 | Iter 2.000: 0.4266<br>Resources requested: 2.0/12 CPUs, 0/0 GPUs, 0.0/6.1 GiB heap, 0.0/3.05 GiB objects<br>Current best trial: 8eaae_00002 with mean_accuracy=0.6455 and parameters={'layer1_out': 7, 'layer2_out': 14, 'batch': 64, 'lr': 0.0054551087797274755, 'momentum': 0.8893105126910178}<br>Result logdir: /Users/peterchatain/ray_results/train_asha<br>Number of trials: 4/4 (2 RUNNING, 2 TERMINATED)<br><br>"
      ],
      "text/plain": [
       "<IPython.core.display.HTML object>"
      ]
     },
     "metadata": {},
     "output_type": "display_data"
    },
    {
     "data": {
      "text/html": [
       "== Status ==<br>Current time: 2021-12-02 21:36:48 (running for 00:10:23.71)<br>Memory usage on this node: 10.8/16.0 GiB<br>Using AsyncHyperBand: num_stopped=2\n",
       "Bracket: Iter 512.000: None | Iter 256.000: None | Iter 128.000: None | Iter 64.000: None | Iter 32.000: None | Iter 16.000: None | Iter 8.000: 0.61495 | Iter 4.000: 0.5158 | Iter 2.000: 0.4266<br>Resources requested: 2.0/12 CPUs, 0/0 GPUs, 0.0/6.1 GiB heap, 0.0/3.05 GiB objects<br>Current best trial: 8eaae_00002 with mean_accuracy=0.6455 and parameters={'layer1_out': 7, 'layer2_out': 14, 'batch': 64, 'lr': 0.0054551087797274755, 'momentum': 0.8893105126910178}<br>Result logdir: /Users/peterchatain/ray_results/train_asha<br>Number of trials: 4/4 (2 RUNNING, 2 TERMINATED)<br><br>"
      ],
      "text/plain": [
       "<IPython.core.display.HTML object>"
      ]
     },
     "metadata": {},
     "output_type": "display_data"
    },
    {
     "data": {
      "text/html": [
       "== Status ==<br>Current time: 2021-12-02 21:36:53 (running for 00:10:28.72)<br>Memory usage on this node: 10.2/16.0 GiB<br>Using AsyncHyperBand: num_stopped=2\n",
       "Bracket: Iter 512.000: None | Iter 256.000: None | Iter 128.000: None | Iter 64.000: None | Iter 32.000: None | Iter 16.000: None | Iter 8.000: 0.61495 | Iter 4.000: 0.5158 | Iter 2.000: 0.4266<br>Resources requested: 2.0/12 CPUs, 0/0 GPUs, 0.0/6.1 GiB heap, 0.0/3.05 GiB objects<br>Current best trial: 8eaae_00002 with mean_accuracy=0.6455 and parameters={'layer1_out': 7, 'layer2_out': 14, 'batch': 64, 'lr': 0.0054551087797274755, 'momentum': 0.8893105126910178}<br>Result logdir: /Users/peterchatain/ray_results/train_asha<br>Number of trials: 4/4 (2 RUNNING, 2 TERMINATED)<br><br>"
      ],
      "text/plain": [
       "<IPython.core.display.HTML object>"
      ]
     },
     "metadata": {},
     "output_type": "display_data"
    },
    {
     "data": {
      "text/html": [
       "== Status ==<br>Current time: 2021-12-02 21:36:58 (running for 00:10:33.75)<br>Memory usage on this node: 10.2/16.0 GiB<br>Using AsyncHyperBand: num_stopped=2\n",
       "Bracket: Iter 512.000: None | Iter 256.000: None | Iter 128.000: None | Iter 64.000: None | Iter 32.000: None | Iter 16.000: None | Iter 8.000: 0.61495 | Iter 4.000: 0.5158 | Iter 2.000: 0.4266<br>Resources requested: 2.0/12 CPUs, 0/0 GPUs, 0.0/6.1 GiB heap, 0.0/3.05 GiB objects<br>Current best trial: 8eaae_00002 with mean_accuracy=0.6455 and parameters={'layer1_out': 7, 'layer2_out': 14, 'batch': 64, 'lr': 0.0054551087797274755, 'momentum': 0.8893105126910178}<br>Result logdir: /Users/peterchatain/ray_results/train_asha<br>Number of trials: 4/4 (2 RUNNING, 2 TERMINATED)<br><br>"
      ],
      "text/plain": [
       "<IPython.core.display.HTML object>"
      ]
     },
     "metadata": {},
     "output_type": "display_data"
    },
    {
     "data": {
      "text/html": [
       "== Status ==<br>Current time: 2021-12-02 21:37:03 (running for 00:10:38.78)<br>Memory usage on this node: 10.6/16.0 GiB<br>Using AsyncHyperBand: num_stopped=2\n",
       "Bracket: Iter 512.000: None | Iter 256.000: None | Iter 128.000: None | Iter 64.000: None | Iter 32.000: None | Iter 16.000: None | Iter 8.000: 0.61495 | Iter 4.000: 0.5158 | Iter 2.000: 0.4266<br>Resources requested: 2.0/12 CPUs, 0/0 GPUs, 0.0/6.1 GiB heap, 0.0/3.05 GiB objects<br>Current best trial: 8eaae_00002 with mean_accuracy=0.6455 and parameters={'layer1_out': 7, 'layer2_out': 14, 'batch': 64, 'lr': 0.0054551087797274755, 'momentum': 0.8893105126910178}<br>Result logdir: /Users/peterchatain/ray_results/train_asha<br>Number of trials: 4/4 (2 RUNNING, 2 TERMINATED)<br><br>"
      ],
      "text/plain": [
       "<IPython.core.display.HTML object>"
      ]
     },
     "metadata": {},
     "output_type": "display_data"
    },
    {
     "data": {
      "text/html": [
       "== Status ==<br>Current time: 2021-12-02 21:37:08 (running for 00:10:43.80)<br>Memory usage on this node: 10.8/16.0 GiB<br>Using AsyncHyperBand: num_stopped=2\n",
       "Bracket: Iter 512.000: None | Iter 256.000: None | Iter 128.000: None | Iter 64.000: None | Iter 32.000: None | Iter 16.000: None | Iter 8.000: 0.61495 | Iter 4.000: 0.5158 | Iter 2.000: 0.4266<br>Resources requested: 2.0/12 CPUs, 0/0 GPUs, 0.0/6.1 GiB heap, 0.0/3.05 GiB objects<br>Current best trial: 8eaae_00002 with mean_accuracy=0.6455 and parameters={'layer1_out': 7, 'layer2_out': 14, 'batch': 64, 'lr': 0.0054551087797274755, 'momentum': 0.8893105126910178}<br>Result logdir: /Users/peterchatain/ray_results/train_asha<br>Number of trials: 4/4 (2 RUNNING, 2 TERMINATED)<br><br>"
      ],
      "text/plain": [
       "<IPython.core.display.HTML object>"
      ]
     },
     "metadata": {},
     "output_type": "display_data"
    },
    {
     "data": {
      "text/html": [
       "== Status ==<br>Current time: 2021-12-02 21:37:13 (running for 00:10:48.82)<br>Memory usage on this node: 11.0/16.0 GiB<br>Using AsyncHyperBand: num_stopped=2\n",
       "Bracket: Iter 512.000: None | Iter 256.000: None | Iter 128.000: None | Iter 64.000: None | Iter 32.000: None | Iter 16.000: None | Iter 8.000: 0.61495 | Iter 4.000: 0.5158 | Iter 2.000: 0.4266<br>Resources requested: 2.0/12 CPUs, 0/0 GPUs, 0.0/6.1 GiB heap, 0.0/3.05 GiB objects<br>Current best trial: 8eaae_00002 with mean_accuracy=0.6455 and parameters={'layer1_out': 7, 'layer2_out': 14, 'batch': 64, 'lr': 0.0054551087797274755, 'momentum': 0.8893105126910178}<br>Result logdir: /Users/peterchatain/ray_results/train_asha<br>Number of trials: 4/4 (2 RUNNING, 2 TERMINATED)<br><br>"
      ],
      "text/plain": [
       "<IPython.core.display.HTML object>"
      ]
     },
     "metadata": {},
     "output_type": "display_data"
    },
    {
     "data": {
      "text/html": [
       "== Status ==<br>Current time: 2021-12-02 21:37:18 (running for 00:10:53.85)<br>Memory usage on this node: 10.8/16.0 GiB<br>Using AsyncHyperBand: num_stopped=2\n",
       "Bracket: Iter 512.000: None | Iter 256.000: None | Iter 128.000: None | Iter 64.000: None | Iter 32.000: None | Iter 16.000: None | Iter 8.000: 0.61495 | Iter 4.000: 0.5158 | Iter 2.000: 0.4266<br>Resources requested: 2.0/12 CPUs, 0/0 GPUs, 0.0/6.1 GiB heap, 0.0/3.05 GiB objects<br>Current best trial: 8eaae_00002 with mean_accuracy=0.6455 and parameters={'layer1_out': 7, 'layer2_out': 14, 'batch': 64, 'lr': 0.0054551087797274755, 'momentum': 0.8893105126910178}<br>Result logdir: /Users/peterchatain/ray_results/train_asha<br>Number of trials: 4/4 (2 RUNNING, 2 TERMINATED)<br><br>"
      ],
      "text/plain": [
       "<IPython.core.display.HTML object>"
      ]
     },
     "metadata": {},
     "output_type": "display_data"
    },
    {
     "data": {
      "text/html": [
       "== Status ==<br>Current time: 2021-12-02 21:37:23 (running for 00:10:58.88)<br>Memory usage on this node: 11.1/16.0 GiB<br>Using AsyncHyperBand: num_stopped=2\n",
       "Bracket: Iter 512.000: None | Iter 256.000: None | Iter 128.000: None | Iter 64.000: None | Iter 32.000: None | Iter 16.000: None | Iter 8.000: 0.61495 | Iter 4.000: 0.5158 | Iter 2.000: 0.4266<br>Resources requested: 2.0/12 CPUs, 0/0 GPUs, 0.0/6.1 GiB heap, 0.0/3.05 GiB objects<br>Current best trial: 8eaae_00002 with mean_accuracy=0.6455 and parameters={'layer1_out': 7, 'layer2_out': 14, 'batch': 64, 'lr': 0.0054551087797274755, 'momentum': 0.8893105126910178}<br>Result logdir: /Users/peterchatain/ray_results/train_asha<br>Number of trials: 4/4 (2 RUNNING, 2 TERMINATED)<br><br>"
      ],
      "text/plain": [
       "<IPython.core.display.HTML object>"
      ]
     },
     "metadata": {},
     "output_type": "display_data"
    },
    {
     "data": {
      "text/html": [
       "== Status ==<br>Current time: 2021-12-02 21:37:28 (running for 00:11:03.90)<br>Memory usage on this node: 11.2/16.0 GiB<br>Using AsyncHyperBand: num_stopped=2\n",
       "Bracket: Iter 512.000: None | Iter 256.000: None | Iter 128.000: None | Iter 64.000: None | Iter 32.000: None | Iter 16.000: None | Iter 8.000: 0.61495 | Iter 4.000: 0.5158 | Iter 2.000: 0.4266<br>Resources requested: 2.0/12 CPUs, 0/0 GPUs, 0.0/6.1 GiB heap, 0.0/3.05 GiB objects<br>Current best trial: 8eaae_00002 with mean_accuracy=0.6455 and parameters={'layer1_out': 7, 'layer2_out': 14, 'batch': 64, 'lr': 0.0054551087797274755, 'momentum': 0.8893105126910178}<br>Result logdir: /Users/peterchatain/ray_results/train_asha<br>Number of trials: 4/4 (2 RUNNING, 2 TERMINATED)<br><br>"
      ],
      "text/plain": [
       "<IPython.core.display.HTML object>"
      ]
     },
     "metadata": {},
     "output_type": "display_data"
    },
    {
     "data": {
      "text/html": [
       "== Status ==<br>Current time: 2021-12-02 21:37:33 (running for 00:11:08.92)<br>Memory usage on this node: 11.2/16.0 GiB<br>Using AsyncHyperBand: num_stopped=2\n",
       "Bracket: Iter 512.000: None | Iter 256.000: None | Iter 128.000: None | Iter 64.000: None | Iter 32.000: None | Iter 16.000: None | Iter 8.000: 0.61495 | Iter 4.000: 0.5158 | Iter 2.000: 0.4266<br>Resources requested: 2.0/12 CPUs, 0/0 GPUs, 0.0/6.1 GiB heap, 0.0/3.05 GiB objects<br>Current best trial: 8eaae_00002 with mean_accuracy=0.6455 and parameters={'layer1_out': 7, 'layer2_out': 14, 'batch': 64, 'lr': 0.0054551087797274755, 'momentum': 0.8893105126910178}<br>Result logdir: /Users/peterchatain/ray_results/train_asha<br>Number of trials: 4/4 (2 RUNNING, 2 TERMINATED)<br><br>"
      ],
      "text/plain": [
       "<IPython.core.display.HTML object>"
      ]
     },
     "metadata": {},
     "output_type": "display_data"
    },
    {
     "name": "stdout",
     "output_type": "stream",
     "text": [
      "Trial train_eval_model_8eaae_00002 reported mean_accuracy=0.64 with parameters={'layer1_out': 7, 'layer2_out': 14, 'batch': 64, 'lr': 0.0054551087797274755, 'momentum': 0.8893105126910178}.\n"
     ]
    },
    {
     "data": {
      "text/html": [
       "== Status ==<br>Current time: 2021-12-02 21:37:39 (running for 00:11:14.37)<br>Memory usage on this node: 11.2/16.0 GiB<br>Using AsyncHyperBand: num_stopped=2\n",
       "Bracket: Iter 512.000: None | Iter 256.000: None | Iter 128.000: None | Iter 64.000: None | Iter 32.000: None | Iter 16.000: None | Iter 8.000: 0.61495 | Iter 4.000: 0.5158 | Iter 2.000: 0.4266<br>Resources requested: 2.0/12 CPUs, 0/0 GPUs, 0.0/6.1 GiB heap, 0.0/3.05 GiB objects<br>Current best trial: 8eaae_00002 with mean_accuracy=0.6396 and parameters={'layer1_out': 7, 'layer2_out': 14, 'batch': 64, 'lr': 0.0054551087797274755, 'momentum': 0.8893105126910178}<br>Result logdir: /Users/peterchatain/ray_results/train_asha<br>Number of trials: 4/4 (2 RUNNING, 2 TERMINATED)<br><br>"
      ],
      "text/plain": [
       "<IPython.core.display.HTML object>"
      ]
     },
     "metadata": {},
     "output_type": "display_data"
    },
    {
     "name": "stdout",
     "output_type": "stream",
     "text": [
      "Trial train_eval_model_8eaae_00000 reported mean_accuracy=0.61 with parameters={'layer1_out': 6, 'layer2_out': 18, 'batch': 32, 'lr': 0.0008249470865456945, 'momentum': 0.8721267306546336}.\n"
     ]
    },
    {
     "data": {
      "text/html": [
       "== Status ==<br>Current time: 2021-12-02 21:37:44 (running for 00:11:19.74)<br>Memory usage on this node: 11.2/16.0 GiB<br>Using AsyncHyperBand: num_stopped=2\n",
       "Bracket: Iter 512.000: None | Iter 256.000: None | Iter 128.000: None | Iter 64.000: None | Iter 32.000: None | Iter 16.000: None | Iter 8.000: 0.61495 | Iter 4.000: 0.5158 | Iter 2.000: 0.4266<br>Resources requested: 2.0/12 CPUs, 0/0 GPUs, 0.0/6.1 GiB heap, 0.0/3.05 GiB objects<br>Current best trial: 8eaae_00002 with mean_accuracy=0.6396 and parameters={'layer1_out': 7, 'layer2_out': 14, 'batch': 64, 'lr': 0.0054551087797274755, 'momentum': 0.8893105126910178}<br>Result logdir: /Users/peterchatain/ray_results/train_asha<br>Number of trials: 4/4 (2 RUNNING, 2 TERMINATED)<br><br>"
      ],
      "text/plain": [
       "<IPython.core.display.HTML object>"
      ]
     },
     "metadata": {},
     "output_type": "display_data"
    },
    {
     "data": {
      "text/html": [
       "== Status ==<br>Current time: 2021-12-02 21:37:49 (running for 00:11:24.77)<br>Memory usage on this node: 11.2/16.0 GiB<br>Using AsyncHyperBand: num_stopped=2\n",
       "Bracket: Iter 512.000: None | Iter 256.000: None | Iter 128.000: None | Iter 64.000: None | Iter 32.000: None | Iter 16.000: None | Iter 8.000: 0.61495 | Iter 4.000: 0.5158 | Iter 2.000: 0.4266<br>Resources requested: 2.0/12 CPUs, 0/0 GPUs, 0.0/6.1 GiB heap, 0.0/3.05 GiB objects<br>Current best trial: 8eaae_00002 with mean_accuracy=0.6396 and parameters={'layer1_out': 7, 'layer2_out': 14, 'batch': 64, 'lr': 0.0054551087797274755, 'momentum': 0.8893105126910178}<br>Result logdir: /Users/peterchatain/ray_results/train_asha<br>Number of trials: 4/4 (2 RUNNING, 2 TERMINATED)<br><br>"
      ],
      "text/plain": [
       "<IPython.core.display.HTML object>"
      ]
     },
     "metadata": {},
     "output_type": "display_data"
    },
    {
     "data": {
      "text/html": [
       "== Status ==<br>Current time: 2021-12-02 21:37:54 (running for 00:11:29.79)<br>Memory usage on this node: 10.9/16.0 GiB<br>Using AsyncHyperBand: num_stopped=2\n",
       "Bracket: Iter 512.000: None | Iter 256.000: None | Iter 128.000: None | Iter 64.000: None | Iter 32.000: None | Iter 16.000: None | Iter 8.000: 0.61495 | Iter 4.000: 0.5158 | Iter 2.000: 0.4266<br>Resources requested: 2.0/12 CPUs, 0/0 GPUs, 0.0/6.1 GiB heap, 0.0/3.05 GiB objects<br>Current best trial: 8eaae_00002 with mean_accuracy=0.6396 and parameters={'layer1_out': 7, 'layer2_out': 14, 'batch': 64, 'lr': 0.0054551087797274755, 'momentum': 0.8893105126910178}<br>Result logdir: /Users/peterchatain/ray_results/train_asha<br>Number of trials: 4/4 (2 RUNNING, 2 TERMINATED)<br><br>"
      ],
      "text/plain": [
       "<IPython.core.display.HTML object>"
      ]
     },
     "metadata": {},
     "output_type": "display_data"
    },
    {
     "data": {
      "text/html": [
       "== Status ==<br>Current time: 2021-12-02 21:37:59 (running for 00:11:34.82)<br>Memory usage on this node: 10.7/16.0 GiB<br>Using AsyncHyperBand: num_stopped=2\n",
       "Bracket: Iter 512.000: None | Iter 256.000: None | Iter 128.000: None | Iter 64.000: None | Iter 32.000: None | Iter 16.000: None | Iter 8.000: 0.61495 | Iter 4.000: 0.5158 | Iter 2.000: 0.4266<br>Resources requested: 2.0/12 CPUs, 0/0 GPUs, 0.0/6.1 GiB heap, 0.0/3.05 GiB objects<br>Current best trial: 8eaae_00002 with mean_accuracy=0.6396 and parameters={'layer1_out': 7, 'layer2_out': 14, 'batch': 64, 'lr': 0.0054551087797274755, 'momentum': 0.8893105126910178}<br>Result logdir: /Users/peterchatain/ray_results/train_asha<br>Number of trials: 4/4 (2 RUNNING, 2 TERMINATED)<br><br>"
      ],
      "text/plain": [
       "<IPython.core.display.HTML object>"
      ]
     },
     "metadata": {},
     "output_type": "display_data"
    },
    {
     "data": {
      "text/html": [
       "== Status ==<br>Current time: 2021-12-02 21:38:04 (running for 00:11:39.84)<br>Memory usage on this node: 10.9/16.0 GiB<br>Using AsyncHyperBand: num_stopped=2\n",
       "Bracket: Iter 512.000: None | Iter 256.000: None | Iter 128.000: None | Iter 64.000: None | Iter 32.000: None | Iter 16.000: None | Iter 8.000: 0.61495 | Iter 4.000: 0.5158 | Iter 2.000: 0.4266<br>Resources requested: 2.0/12 CPUs, 0/0 GPUs, 0.0/6.1 GiB heap, 0.0/3.05 GiB objects<br>Current best trial: 8eaae_00002 with mean_accuracy=0.6396 and parameters={'layer1_out': 7, 'layer2_out': 14, 'batch': 64, 'lr': 0.0054551087797274755, 'momentum': 0.8893105126910178}<br>Result logdir: /Users/peterchatain/ray_results/train_asha<br>Number of trials: 4/4 (2 RUNNING, 2 TERMINATED)<br><br>"
      ],
      "text/plain": [
       "<IPython.core.display.HTML object>"
      ]
     },
     "metadata": {},
     "output_type": "display_data"
    },
    {
     "data": {
      "text/html": [
       "== Status ==<br>Current time: 2021-12-02 21:38:09 (running for 00:11:44.86)<br>Memory usage on this node: 11.3/16.0 GiB<br>Using AsyncHyperBand: num_stopped=2\n",
       "Bracket: Iter 512.000: None | Iter 256.000: None | Iter 128.000: None | Iter 64.000: None | Iter 32.000: None | Iter 16.000: None | Iter 8.000: 0.61495 | Iter 4.000: 0.5158 | Iter 2.000: 0.4266<br>Resources requested: 2.0/12 CPUs, 0/0 GPUs, 0.0/6.1 GiB heap, 0.0/3.05 GiB objects<br>Current best trial: 8eaae_00002 with mean_accuracy=0.6396 and parameters={'layer1_out': 7, 'layer2_out': 14, 'batch': 64, 'lr': 0.0054551087797274755, 'momentum': 0.8893105126910178}<br>Result logdir: /Users/peterchatain/ray_results/train_asha<br>Number of trials: 4/4 (2 RUNNING, 2 TERMINATED)<br><br>"
      ],
      "text/plain": [
       "<IPython.core.display.HTML object>"
      ]
     },
     "metadata": {},
     "output_type": "display_data"
    },
    {
     "data": {
      "text/html": [
       "== Status ==<br>Current time: 2021-12-02 21:38:14 (running for 00:11:49.88)<br>Memory usage on this node: 10.9/16.0 GiB<br>Using AsyncHyperBand: num_stopped=2\n",
       "Bracket: Iter 512.000: None | Iter 256.000: None | Iter 128.000: None | Iter 64.000: None | Iter 32.000: None | Iter 16.000: None | Iter 8.000: 0.61495 | Iter 4.000: 0.5158 | Iter 2.000: 0.4266<br>Resources requested: 2.0/12 CPUs, 0/0 GPUs, 0.0/6.1 GiB heap, 0.0/3.05 GiB objects<br>Current best trial: 8eaae_00002 with mean_accuracy=0.6396 and parameters={'layer1_out': 7, 'layer2_out': 14, 'batch': 64, 'lr': 0.0054551087797274755, 'momentum': 0.8893105126910178}<br>Result logdir: /Users/peterchatain/ray_results/train_asha<br>Number of trials: 4/4 (2 RUNNING, 2 TERMINATED)<br><br>"
      ],
      "text/plain": [
       "<IPython.core.display.HTML object>"
      ]
     },
     "metadata": {},
     "output_type": "display_data"
    },
    {
     "data": {
      "text/html": [
       "== Status ==<br>Current time: 2021-12-02 21:38:19 (running for 00:11:54.91)<br>Memory usage on this node: 10.7/16.0 GiB<br>Using AsyncHyperBand: num_stopped=2\n",
       "Bracket: Iter 512.000: None | Iter 256.000: None | Iter 128.000: None | Iter 64.000: None | Iter 32.000: None | Iter 16.000: None | Iter 8.000: 0.61495 | Iter 4.000: 0.5158 | Iter 2.000: 0.4266<br>Resources requested: 2.0/12 CPUs, 0/0 GPUs, 0.0/6.1 GiB heap, 0.0/3.05 GiB objects<br>Current best trial: 8eaae_00002 with mean_accuracy=0.6396 and parameters={'layer1_out': 7, 'layer2_out': 14, 'batch': 64, 'lr': 0.0054551087797274755, 'momentum': 0.8893105126910178}<br>Result logdir: /Users/peterchatain/ray_results/train_asha<br>Number of trials: 4/4 (2 RUNNING, 2 TERMINATED)<br><br>"
      ],
      "text/plain": [
       "<IPython.core.display.HTML object>"
      ]
     },
     "metadata": {},
     "output_type": "display_data"
    },
    {
     "data": {
      "text/html": [
       "== Status ==<br>Current time: 2021-12-02 21:38:24 (running for 00:11:59.93)<br>Memory usage on this node: 10.8/16.0 GiB<br>Using AsyncHyperBand: num_stopped=2\n",
       "Bracket: Iter 512.000: None | Iter 256.000: None | Iter 128.000: None | Iter 64.000: None | Iter 32.000: None | Iter 16.000: None | Iter 8.000: 0.61495 | Iter 4.000: 0.5158 | Iter 2.000: 0.4266<br>Resources requested: 2.0/12 CPUs, 0/0 GPUs, 0.0/6.1 GiB heap, 0.0/3.05 GiB objects<br>Current best trial: 8eaae_00002 with mean_accuracy=0.6396 and parameters={'layer1_out': 7, 'layer2_out': 14, 'batch': 64, 'lr': 0.0054551087797274755, 'momentum': 0.8893105126910178}<br>Result logdir: /Users/peterchatain/ray_results/train_asha<br>Number of trials: 4/4 (2 RUNNING, 2 TERMINATED)<br><br>"
      ],
      "text/plain": [
       "<IPython.core.display.HTML object>"
      ]
     },
     "metadata": {},
     "output_type": "display_data"
    },
    {
     "data": {
      "text/html": [
       "== Status ==<br>Current time: 2021-12-02 21:38:29 (running for 00:12:04.95)<br>Memory usage on this node: 10.8/16.0 GiB<br>Using AsyncHyperBand: num_stopped=2\n",
       "Bracket: Iter 512.000: None | Iter 256.000: None | Iter 128.000: None | Iter 64.000: None | Iter 32.000: None | Iter 16.000: None | Iter 8.000: 0.61495 | Iter 4.000: 0.5158 | Iter 2.000: 0.4266<br>Resources requested: 2.0/12 CPUs, 0/0 GPUs, 0.0/6.1 GiB heap, 0.0/3.05 GiB objects<br>Current best trial: 8eaae_00002 with mean_accuracy=0.6396 and parameters={'layer1_out': 7, 'layer2_out': 14, 'batch': 64, 'lr': 0.0054551087797274755, 'momentum': 0.8893105126910178}<br>Result logdir: /Users/peterchatain/ray_results/train_asha<br>Number of trials: 4/4 (2 RUNNING, 2 TERMINATED)<br><br>"
      ],
      "text/plain": [
       "<IPython.core.display.HTML object>"
      ]
     },
     "metadata": {},
     "output_type": "display_data"
    },
    {
     "data": {
      "text/html": [
       "== Status ==<br>Current time: 2021-12-02 21:38:34 (running for 00:12:09.97)<br>Memory usage on this node: 10.7/16.0 GiB<br>Using AsyncHyperBand: num_stopped=2\n",
       "Bracket: Iter 512.000: None | Iter 256.000: None | Iter 128.000: None | Iter 64.000: None | Iter 32.000: None | Iter 16.000: None | Iter 8.000: 0.61495 | Iter 4.000: 0.5158 | Iter 2.000: 0.4266<br>Resources requested: 2.0/12 CPUs, 0/0 GPUs, 0.0/6.1 GiB heap, 0.0/3.05 GiB objects<br>Current best trial: 8eaae_00002 with mean_accuracy=0.6396 and parameters={'layer1_out': 7, 'layer2_out': 14, 'batch': 64, 'lr': 0.0054551087797274755, 'momentum': 0.8893105126910178}<br>Result logdir: /Users/peterchatain/ray_results/train_asha<br>Number of trials: 4/4 (2 RUNNING, 2 TERMINATED)<br><br>"
      ],
      "text/plain": [
       "<IPython.core.display.HTML object>"
      ]
     },
     "metadata": {},
     "output_type": "display_data"
    },
    {
     "name": "stdout",
     "output_type": "stream",
     "text": [
      "Trial train_eval_model_8eaae_00002 reported mean_accuracy=0.64 with parameters={'layer1_out': 7, 'layer2_out': 14, 'batch': 64, 'lr': 0.0054551087797274755, 'momentum': 0.8893105126910178}.\n"
     ]
    },
    {
     "data": {
      "text/html": [
       "== Status ==<br>Current time: 2021-12-02 21:38:40 (running for 00:12:15.76)<br>Memory usage on this node: 11.0/16.0 GiB<br>Using AsyncHyperBand: num_stopped=2\n",
       "Bracket: Iter 512.000: None | Iter 256.000: None | Iter 128.000: None | Iter 64.000: None | Iter 32.000: None | Iter 16.000: None | Iter 8.000: 0.61495 | Iter 4.000: 0.5158 | Iter 2.000: 0.4266<br>Resources requested: 2.0/12 CPUs, 0/0 GPUs, 0.0/6.1 GiB heap, 0.0/3.05 GiB objects<br>Current best trial: 8eaae_00002 with mean_accuracy=0.6393 and parameters={'layer1_out': 7, 'layer2_out': 14, 'batch': 64, 'lr': 0.0054551087797274755, 'momentum': 0.8893105126910178}<br>Result logdir: /Users/peterchatain/ray_results/train_asha<br>Number of trials: 4/4 (2 RUNNING, 2 TERMINATED)<br><br>"
      ],
      "text/plain": [
       "<IPython.core.display.HTML object>"
      ]
     },
     "metadata": {},
     "output_type": "display_data"
    },
    {
     "name": "stdout",
     "output_type": "stream",
     "text": [
      "Trial train_eval_model_8eaae_00000 reported mean_accuracy=0.62 with parameters={'layer1_out': 6, 'layer2_out': 18, 'batch': 32, 'lr': 0.0008249470865456945, 'momentum': 0.8721267306546336}.\n"
     ]
    },
    {
     "data": {
      "text/html": [
       "== Status ==<br>Current time: 2021-12-02 21:38:45 (running for 00:12:20.88)<br>Memory usage on this node: 11.2/16.0 GiB<br>Using AsyncHyperBand: num_stopped=2\n",
       "Bracket: Iter 512.000: None | Iter 256.000: None | Iter 128.000: None | Iter 64.000: None | Iter 32.000: None | Iter 16.000: None | Iter 8.000: 0.61495 | Iter 4.000: 0.5158 | Iter 2.000: 0.4266<br>Resources requested: 2.0/12 CPUs, 0/0 GPUs, 0.0/6.1 GiB heap, 0.0/3.05 GiB objects<br>Current best trial: 8eaae_00002 with mean_accuracy=0.6393 and parameters={'layer1_out': 7, 'layer2_out': 14, 'batch': 64, 'lr': 0.0054551087797274755, 'momentum': 0.8893105126910178}<br>Result logdir: /Users/peterchatain/ray_results/train_asha<br>Number of trials: 4/4 (2 RUNNING, 2 TERMINATED)<br><br>"
      ],
      "text/plain": [
       "<IPython.core.display.HTML object>"
      ]
     },
     "metadata": {},
     "output_type": "display_data"
    },
    {
     "data": {
      "text/html": [
       "== Status ==<br>Current time: 2021-12-02 21:38:50 (running for 00:12:25.90)<br>Memory usage on this node: 10.9/16.0 GiB<br>Using AsyncHyperBand: num_stopped=2\n",
       "Bracket: Iter 512.000: None | Iter 256.000: None | Iter 128.000: None | Iter 64.000: None | Iter 32.000: None | Iter 16.000: None | Iter 8.000: 0.61495 | Iter 4.000: 0.5158 | Iter 2.000: 0.4266<br>Resources requested: 2.0/12 CPUs, 0/0 GPUs, 0.0/6.1 GiB heap, 0.0/3.05 GiB objects<br>Current best trial: 8eaae_00002 with mean_accuracy=0.6393 and parameters={'layer1_out': 7, 'layer2_out': 14, 'batch': 64, 'lr': 0.0054551087797274755, 'momentum': 0.8893105126910178}<br>Result logdir: /Users/peterchatain/ray_results/train_asha<br>Number of trials: 4/4 (2 RUNNING, 2 TERMINATED)<br><br>"
      ],
      "text/plain": [
       "<IPython.core.display.HTML object>"
      ]
     },
     "metadata": {},
     "output_type": "display_data"
    },
    {
     "data": {
      "text/html": [
       "== Status ==<br>Current time: 2021-12-02 21:38:55 (running for 00:12:30.92)<br>Memory usage on this node: 10.9/16.0 GiB<br>Using AsyncHyperBand: num_stopped=2\n",
       "Bracket: Iter 512.000: None | Iter 256.000: None | Iter 128.000: None | Iter 64.000: None | Iter 32.000: None | Iter 16.000: None | Iter 8.000: 0.61495 | Iter 4.000: 0.5158 | Iter 2.000: 0.4266<br>Resources requested: 2.0/12 CPUs, 0/0 GPUs, 0.0/6.1 GiB heap, 0.0/3.05 GiB objects<br>Current best trial: 8eaae_00002 with mean_accuracy=0.6393 and parameters={'layer1_out': 7, 'layer2_out': 14, 'batch': 64, 'lr': 0.0054551087797274755, 'momentum': 0.8893105126910178}<br>Result logdir: /Users/peterchatain/ray_results/train_asha<br>Number of trials: 4/4 (2 RUNNING, 2 TERMINATED)<br><br>"
      ],
      "text/plain": [
       "<IPython.core.display.HTML object>"
      ]
     },
     "metadata": {},
     "output_type": "display_data"
    },
    {
     "data": {
      "text/html": [
       "== Status ==<br>Current time: 2021-12-02 21:39:00 (running for 00:12:35.94)<br>Memory usage on this node: 10.9/16.0 GiB<br>Using AsyncHyperBand: num_stopped=2\n",
       "Bracket: Iter 512.000: None | Iter 256.000: None | Iter 128.000: None | Iter 64.000: None | Iter 32.000: None | Iter 16.000: None | Iter 8.000: 0.61495 | Iter 4.000: 0.5158 | Iter 2.000: 0.4266<br>Resources requested: 2.0/12 CPUs, 0/0 GPUs, 0.0/6.1 GiB heap, 0.0/3.05 GiB objects<br>Current best trial: 8eaae_00002 with mean_accuracy=0.6393 and parameters={'layer1_out': 7, 'layer2_out': 14, 'batch': 64, 'lr': 0.0054551087797274755, 'momentum': 0.8893105126910178}<br>Result logdir: /Users/peterchatain/ray_results/train_asha<br>Number of trials: 4/4 (2 RUNNING, 2 TERMINATED)<br><br>"
      ],
      "text/plain": [
       "<IPython.core.display.HTML object>"
      ]
     },
     "metadata": {},
     "output_type": "display_data"
    },
    {
     "data": {
      "text/html": [
       "== Status ==<br>Current time: 2021-12-02 21:39:05 (running for 00:12:40.96)<br>Memory usage on this node: 11.3/16.0 GiB<br>Using AsyncHyperBand: num_stopped=2\n",
       "Bracket: Iter 512.000: None | Iter 256.000: None | Iter 128.000: None | Iter 64.000: None | Iter 32.000: None | Iter 16.000: None | Iter 8.000: 0.61495 | Iter 4.000: 0.5158 | Iter 2.000: 0.4266<br>Resources requested: 2.0/12 CPUs, 0/0 GPUs, 0.0/6.1 GiB heap, 0.0/3.05 GiB objects<br>Current best trial: 8eaae_00002 with mean_accuracy=0.6393 and parameters={'layer1_out': 7, 'layer2_out': 14, 'batch': 64, 'lr': 0.0054551087797274755, 'momentum': 0.8893105126910178}<br>Result logdir: /Users/peterchatain/ray_results/train_asha<br>Number of trials: 4/4 (2 RUNNING, 2 TERMINATED)<br><br>"
      ],
      "text/plain": [
       "<IPython.core.display.HTML object>"
      ]
     },
     "metadata": {},
     "output_type": "display_data"
    },
    {
     "data": {
      "text/html": [
       "== Status ==<br>Current time: 2021-12-02 21:39:10 (running for 00:12:45.99)<br>Memory usage on this node: 11.5/16.0 GiB<br>Using AsyncHyperBand: num_stopped=2\n",
       "Bracket: Iter 512.000: None | Iter 256.000: None | Iter 128.000: None | Iter 64.000: None | Iter 32.000: None | Iter 16.000: None | Iter 8.000: 0.61495 | Iter 4.000: 0.5158 | Iter 2.000: 0.4266<br>Resources requested: 2.0/12 CPUs, 0/0 GPUs, 0.0/6.1 GiB heap, 0.0/3.05 GiB objects<br>Current best trial: 8eaae_00002 with mean_accuracy=0.6393 and parameters={'layer1_out': 7, 'layer2_out': 14, 'batch': 64, 'lr': 0.0054551087797274755, 'momentum': 0.8893105126910178}<br>Result logdir: /Users/peterchatain/ray_results/train_asha<br>Number of trials: 4/4 (2 RUNNING, 2 TERMINATED)<br><br>"
      ],
      "text/plain": [
       "<IPython.core.display.HTML object>"
      ]
     },
     "metadata": {},
     "output_type": "display_data"
    },
    {
     "data": {
      "text/html": [
       "== Status ==<br>Current time: 2021-12-02 21:39:15 (running for 00:12:51.02)<br>Memory usage on this node: 11.5/16.0 GiB<br>Using AsyncHyperBand: num_stopped=2\n",
       "Bracket: Iter 512.000: None | Iter 256.000: None | Iter 128.000: None | Iter 64.000: None | Iter 32.000: None | Iter 16.000: None | Iter 8.000: 0.61495 | Iter 4.000: 0.5158 | Iter 2.000: 0.4266<br>Resources requested: 2.0/12 CPUs, 0/0 GPUs, 0.0/6.1 GiB heap, 0.0/3.05 GiB objects<br>Current best trial: 8eaae_00002 with mean_accuracy=0.6393 and parameters={'layer1_out': 7, 'layer2_out': 14, 'batch': 64, 'lr': 0.0054551087797274755, 'momentum': 0.8893105126910178}<br>Result logdir: /Users/peterchatain/ray_results/train_asha<br>Number of trials: 4/4 (2 RUNNING, 2 TERMINATED)<br><br>"
      ],
      "text/plain": [
       "<IPython.core.display.HTML object>"
      ]
     },
     "metadata": {},
     "output_type": "display_data"
    },
    {
     "data": {
      "text/html": [
       "== Status ==<br>Current time: 2021-12-02 21:39:20 (running for 00:12:56.07)<br>Memory usage on this node: 11.4/16.0 GiB<br>Using AsyncHyperBand: num_stopped=2\n",
       "Bracket: Iter 512.000: None | Iter 256.000: None | Iter 128.000: None | Iter 64.000: None | Iter 32.000: None | Iter 16.000: None | Iter 8.000: 0.61495 | Iter 4.000: 0.5158 | Iter 2.000: 0.4266<br>Resources requested: 2.0/12 CPUs, 0/0 GPUs, 0.0/6.1 GiB heap, 0.0/3.05 GiB objects<br>Current best trial: 8eaae_00002 with mean_accuracy=0.6393 and parameters={'layer1_out': 7, 'layer2_out': 14, 'batch': 64, 'lr': 0.0054551087797274755, 'momentum': 0.8893105126910178}<br>Result logdir: /Users/peterchatain/ray_results/train_asha<br>Number of trials: 4/4 (2 RUNNING, 2 TERMINATED)<br><br>"
      ],
      "text/plain": [
       "<IPython.core.display.HTML object>"
      ]
     },
     "metadata": {},
     "output_type": "display_data"
    },
    {
     "data": {
      "text/html": [
       "== Status ==<br>Current time: 2021-12-02 21:39:25 (running for 00:13:01.11)<br>Memory usage on this node: 11.3/16.0 GiB<br>Using AsyncHyperBand: num_stopped=2\n",
       "Bracket: Iter 512.000: None | Iter 256.000: None | Iter 128.000: None | Iter 64.000: None | Iter 32.000: None | Iter 16.000: None | Iter 8.000: 0.61495 | Iter 4.000: 0.5158 | Iter 2.000: 0.4266<br>Resources requested: 2.0/12 CPUs, 0/0 GPUs, 0.0/6.1 GiB heap, 0.0/3.05 GiB objects<br>Current best trial: 8eaae_00002 with mean_accuracy=0.6393 and parameters={'layer1_out': 7, 'layer2_out': 14, 'batch': 64, 'lr': 0.0054551087797274755, 'momentum': 0.8893105126910178}<br>Result logdir: /Users/peterchatain/ray_results/train_asha<br>Number of trials: 4/4 (2 RUNNING, 2 TERMINATED)<br><br>"
      ],
      "text/plain": [
       "<IPython.core.display.HTML object>"
      ]
     },
     "metadata": {},
     "output_type": "display_data"
    },
    {
     "data": {
      "text/html": [
       "== Status ==<br>Current time: 2021-12-02 21:39:30 (running for 00:13:06.16)<br>Memory usage on this node: 11.2/16.0 GiB<br>Using AsyncHyperBand: num_stopped=2\n",
       "Bracket: Iter 512.000: None | Iter 256.000: None | Iter 128.000: None | Iter 64.000: None | Iter 32.000: None | Iter 16.000: None | Iter 8.000: 0.61495 | Iter 4.000: 0.5158 | Iter 2.000: 0.4266<br>Resources requested: 2.0/12 CPUs, 0/0 GPUs, 0.0/6.1 GiB heap, 0.0/3.05 GiB objects<br>Current best trial: 8eaae_00002 with mean_accuracy=0.6393 and parameters={'layer1_out': 7, 'layer2_out': 14, 'batch': 64, 'lr': 0.0054551087797274755, 'momentum': 0.8893105126910178}<br>Result logdir: /Users/peterchatain/ray_results/train_asha<br>Number of trials: 4/4 (2 RUNNING, 2 TERMINATED)<br><br>"
      ],
      "text/plain": [
       "<IPython.core.display.HTML object>"
      ]
     },
     "metadata": {},
     "output_type": "display_data"
    },
    {
     "name": "stdout",
     "output_type": "stream",
     "text": [
      "Trial train_eval_model_8eaae_00002 reported mean_accuracy=0.62 with parameters={'layer1_out': 7, 'layer2_out': 14, 'batch': 64, 'lr': 0.0054551087797274755, 'momentum': 0.8893105126910178}.\n"
     ]
    },
    {
     "data": {
      "text/html": [
       "== Status ==<br>Current time: 2021-12-02 21:39:35 (running for 00:13:11.17)<br>Memory usage on this node: 11.1/16.0 GiB<br>Using AsyncHyperBand: num_stopped=2\n",
       "Bracket: Iter 512.000: None | Iter 256.000: None | Iter 128.000: None | Iter 64.000: None | Iter 32.000: None | Iter 16.000: None | Iter 8.000: 0.61495 | Iter 4.000: 0.5158 | Iter 2.000: 0.4266<br>Resources requested: 2.0/12 CPUs, 0/0 GPUs, 0.0/6.1 GiB heap, 0.0/3.05 GiB objects<br>Current best trial: 8eaae_00000 with mean_accuracy=0.6194 and parameters={'layer1_out': 6, 'layer2_out': 18, 'batch': 32, 'lr': 0.0008249470865456945, 'momentum': 0.8721267306546336}<br>Result logdir: /Users/peterchatain/ray_results/train_asha<br>Number of trials: 4/4 (2 RUNNING, 2 TERMINATED)<br><br>"
      ],
      "text/plain": [
       "<IPython.core.display.HTML object>"
      ]
     },
     "metadata": {},
     "output_type": "display_data"
    },
    {
     "data": {
      "text/html": [
       "== Status ==<br>Current time: 2021-12-02 21:39:40 (running for 00:13:16.21)<br>Memory usage on this node: 11.2/16.0 GiB<br>Using AsyncHyperBand: num_stopped=2\n",
       "Bracket: Iter 512.000: None | Iter 256.000: None | Iter 128.000: None | Iter 64.000: None | Iter 32.000: None | Iter 16.000: None | Iter 8.000: 0.61495 | Iter 4.000: 0.5158 | Iter 2.000: 0.4266<br>Resources requested: 2.0/12 CPUs, 0/0 GPUs, 0.0/6.1 GiB heap, 0.0/3.05 GiB objects<br>Current best trial: 8eaae_00000 with mean_accuracy=0.6194 and parameters={'layer1_out': 6, 'layer2_out': 18, 'batch': 32, 'lr': 0.0008249470865456945, 'momentum': 0.8721267306546336}<br>Result logdir: /Users/peterchatain/ray_results/train_asha<br>Number of trials: 4/4 (2 RUNNING, 2 TERMINATED)<br><br>"
      ],
      "text/plain": [
       "<IPython.core.display.HTML object>"
      ]
     },
     "metadata": {},
     "output_type": "display_data"
    },
    {
     "name": "stdout",
     "output_type": "stream",
     "text": [
      "Trial train_eval_model_8eaae_00000 reported mean_accuracy=0.61 with parameters={'layer1_out': 6, 'layer2_out': 18, 'batch': 32, 'lr': 0.0008249470865456945, 'momentum': 0.8721267306546336}.\n"
     ]
    },
    {
     "data": {
      "text/html": [
       "== Status ==<br>Current time: 2021-12-02 21:39:46 (running for 00:13:21.73)<br>Memory usage on this node: 11.3/16.0 GiB<br>Using AsyncHyperBand: num_stopped=2\n",
       "Bracket: Iter 512.000: None | Iter 256.000: None | Iter 128.000: None | Iter 64.000: None | Iter 32.000: None | Iter 16.000: None | Iter 8.000: 0.61495 | Iter 4.000: 0.5158 | Iter 2.000: 0.4266<br>Resources requested: 2.0/12 CPUs, 0/0 GPUs, 0.0/6.1 GiB heap, 0.0/3.05 GiB objects<br>Current best trial: 8eaae_00002 with mean_accuracy=0.619 and parameters={'layer1_out': 7, 'layer2_out': 14, 'batch': 64, 'lr': 0.0054551087797274755, 'momentum': 0.8893105126910178}<br>Result logdir: /Users/peterchatain/ray_results/train_asha<br>Number of trials: 4/4 (2 RUNNING, 2 TERMINATED)<br><br>"
      ],
      "text/plain": [
       "<IPython.core.display.HTML object>"
      ]
     },
     "metadata": {},
     "output_type": "display_data"
    },
    {
     "data": {
      "text/html": [
       "== Status ==<br>Current time: 2021-12-02 21:39:51 (running for 00:13:26.76)<br>Memory usage on this node: 11.2/16.0 GiB<br>Using AsyncHyperBand: num_stopped=2\n",
       "Bracket: Iter 512.000: None | Iter 256.000: None | Iter 128.000: None | Iter 64.000: None | Iter 32.000: None | Iter 16.000: None | Iter 8.000: 0.61495 | Iter 4.000: 0.5158 | Iter 2.000: 0.4266<br>Resources requested: 2.0/12 CPUs, 0/0 GPUs, 0.0/6.1 GiB heap, 0.0/3.05 GiB objects<br>Current best trial: 8eaae_00002 with mean_accuracy=0.619 and parameters={'layer1_out': 7, 'layer2_out': 14, 'batch': 64, 'lr': 0.0054551087797274755, 'momentum': 0.8893105126910178}<br>Result logdir: /Users/peterchatain/ray_results/train_asha<br>Number of trials: 4/4 (2 RUNNING, 2 TERMINATED)<br><br>"
      ],
      "text/plain": [
       "<IPython.core.display.HTML object>"
      ]
     },
     "metadata": {},
     "output_type": "display_data"
    },
    {
     "data": {
      "text/html": [
       "== Status ==<br>Current time: 2021-12-02 21:39:56 (running for 00:13:31.79)<br>Memory usage on this node: 11.2/16.0 GiB<br>Using AsyncHyperBand: num_stopped=2\n",
       "Bracket: Iter 512.000: None | Iter 256.000: None | Iter 128.000: None | Iter 64.000: None | Iter 32.000: None | Iter 16.000: None | Iter 8.000: 0.61495 | Iter 4.000: 0.5158 | Iter 2.000: 0.4266<br>Resources requested: 2.0/12 CPUs, 0/0 GPUs, 0.0/6.1 GiB heap, 0.0/3.05 GiB objects<br>Current best trial: 8eaae_00002 with mean_accuracy=0.619 and parameters={'layer1_out': 7, 'layer2_out': 14, 'batch': 64, 'lr': 0.0054551087797274755, 'momentum': 0.8893105126910178}<br>Result logdir: /Users/peterchatain/ray_results/train_asha<br>Number of trials: 4/4 (2 RUNNING, 2 TERMINATED)<br><br>"
      ],
      "text/plain": [
       "<IPython.core.display.HTML object>"
      ]
     },
     "metadata": {},
     "output_type": "display_data"
    },
    {
     "data": {
      "text/html": [
       "== Status ==<br>Current time: 2021-12-02 21:40:07 (running for 00:13:42.64)<br>Memory usage on this node: 10.8/16.0 GiB<br>Using AsyncHyperBand: num_stopped=2\n",
       "Bracket: Iter 512.000: None | Iter 256.000: None | Iter 128.000: None | Iter 64.000: None | Iter 32.000: None | Iter 16.000: None | Iter 8.000: 0.61495 | Iter 4.000: 0.5158 | Iter 2.000: 0.4266<br>Resources requested: 2.0/12 CPUs, 0/0 GPUs, 0.0/6.1 GiB heap, 0.0/3.05 GiB objects<br>Current best trial: 8eaae_00002 with mean_accuracy=0.619 and parameters={'layer1_out': 7, 'layer2_out': 14, 'batch': 64, 'lr': 0.0054551087797274755, 'momentum': 0.8893105126910178}<br>Result logdir: /Users/peterchatain/ray_results/train_asha<br>Number of trials: 4/4 (2 RUNNING, 2 TERMINATED)<br><br>"
      ],
      "text/plain": [
       "<IPython.core.display.HTML object>"
      ]
     },
     "metadata": {},
     "output_type": "display_data"
    },
    {
     "data": {
      "text/html": [
       "== Status ==<br>Current time: 2021-12-02 21:40:13 (running for 00:13:48.60)<br>Memory usage on this node: 11.5/16.0 GiB<br>Using AsyncHyperBand: num_stopped=2\n",
       "Bracket: Iter 512.000: None | Iter 256.000: None | Iter 128.000: None | Iter 64.000: None | Iter 32.000: None | Iter 16.000: None | Iter 8.000: 0.61495 | Iter 4.000: 0.5158 | Iter 2.000: 0.4266<br>Resources requested: 2.0/12 CPUs, 0/0 GPUs, 0.0/6.1 GiB heap, 0.0/3.05 GiB objects<br>Current best trial: 8eaae_00002 with mean_accuracy=0.619 and parameters={'layer1_out': 7, 'layer2_out': 14, 'batch': 64, 'lr': 0.0054551087797274755, 'momentum': 0.8893105126910178}<br>Result logdir: /Users/peterchatain/ray_results/train_asha<br>Number of trials: 4/4 (2 RUNNING, 2 TERMINATED)<br><br>"
      ],
      "text/plain": [
       "<IPython.core.display.HTML object>"
      ]
     },
     "metadata": {},
     "output_type": "display_data"
    },
    {
     "data": {
      "text/html": [
       "== Status ==<br>Current time: 2021-12-02 21:40:18 (running for 00:13:53.69)<br>Memory usage on this node: 11.6/16.0 GiB<br>Using AsyncHyperBand: num_stopped=2\n",
       "Bracket: Iter 512.000: None | Iter 256.000: None | Iter 128.000: None | Iter 64.000: None | Iter 32.000: None | Iter 16.000: None | Iter 8.000: 0.61495 | Iter 4.000: 0.5158 | Iter 2.000: 0.4266<br>Resources requested: 2.0/12 CPUs, 0/0 GPUs, 0.0/6.1 GiB heap, 0.0/3.05 GiB objects<br>Current best trial: 8eaae_00002 with mean_accuracy=0.619 and parameters={'layer1_out': 7, 'layer2_out': 14, 'batch': 64, 'lr': 0.0054551087797274755, 'momentum': 0.8893105126910178}<br>Result logdir: /Users/peterchatain/ray_results/train_asha<br>Number of trials: 4/4 (2 RUNNING, 2 TERMINATED)<br><br>"
      ],
      "text/plain": [
       "<IPython.core.display.HTML object>"
      ]
     },
     "metadata": {},
     "output_type": "display_data"
    },
    {
     "data": {
      "text/html": [
       "== Status ==<br>Current time: 2021-12-02 21:40:23 (running for 00:13:58.73)<br>Memory usage on this node: 11.6/16.0 GiB<br>Using AsyncHyperBand: num_stopped=2\n",
       "Bracket: Iter 512.000: None | Iter 256.000: None | Iter 128.000: None | Iter 64.000: None | Iter 32.000: None | Iter 16.000: None | Iter 8.000: 0.61495 | Iter 4.000: 0.5158 | Iter 2.000: 0.4266<br>Resources requested: 2.0/12 CPUs, 0/0 GPUs, 0.0/6.1 GiB heap, 0.0/3.05 GiB objects<br>Current best trial: 8eaae_00002 with mean_accuracy=0.619 and parameters={'layer1_out': 7, 'layer2_out': 14, 'batch': 64, 'lr': 0.0054551087797274755, 'momentum': 0.8893105126910178}<br>Result logdir: /Users/peterchatain/ray_results/train_asha<br>Number of trials: 4/4 (2 RUNNING, 2 TERMINATED)<br><br>"
      ],
      "text/plain": [
       "<IPython.core.display.HTML object>"
      ]
     },
     "metadata": {},
     "output_type": "display_data"
    },
    {
     "data": {
      "text/html": [
       "== Status ==<br>Current time: 2021-12-02 21:40:28 (running for 00:14:03.83)<br>Memory usage on this node: 11.6/16.0 GiB<br>Using AsyncHyperBand: num_stopped=2\n",
       "Bracket: Iter 512.000: None | Iter 256.000: None | Iter 128.000: None | Iter 64.000: None | Iter 32.000: None | Iter 16.000: None | Iter 8.000: 0.61495 | Iter 4.000: 0.5158 | Iter 2.000: 0.4266<br>Resources requested: 2.0/12 CPUs, 0/0 GPUs, 0.0/6.1 GiB heap, 0.0/3.05 GiB objects<br>Current best trial: 8eaae_00002 with mean_accuracy=0.619 and parameters={'layer1_out': 7, 'layer2_out': 14, 'batch': 64, 'lr': 0.0054551087797274755, 'momentum': 0.8893105126910178}<br>Result logdir: /Users/peterchatain/ray_results/train_asha<br>Number of trials: 4/4 (2 RUNNING, 2 TERMINATED)<br><br>"
      ],
      "text/plain": [
       "<IPython.core.display.HTML object>"
      ]
     },
     "metadata": {},
     "output_type": "display_data"
    },
    {
     "data": {
      "text/html": [
       "== Status ==<br>Current time: 2021-12-02 21:40:33 (running for 00:14:08.87)<br>Memory usage on this node: 11.5/16.0 GiB<br>Using AsyncHyperBand: num_stopped=2\n",
       "Bracket: Iter 512.000: None | Iter 256.000: None | Iter 128.000: None | Iter 64.000: None | Iter 32.000: None | Iter 16.000: None | Iter 8.000: 0.61495 | Iter 4.000: 0.5158 | Iter 2.000: 0.4266<br>Resources requested: 2.0/12 CPUs, 0/0 GPUs, 0.0/6.1 GiB heap, 0.0/3.05 GiB objects<br>Current best trial: 8eaae_00002 with mean_accuracy=0.619 and parameters={'layer1_out': 7, 'layer2_out': 14, 'batch': 64, 'lr': 0.0054551087797274755, 'momentum': 0.8893105126910178}<br>Result logdir: /Users/peterchatain/ray_results/train_asha<br>Number of trials: 4/4 (2 RUNNING, 2 TERMINATED)<br><br>"
      ],
      "text/plain": [
       "<IPython.core.display.HTML object>"
      ]
     },
     "metadata": {},
     "output_type": "display_data"
    },
    {
     "data": {
      "text/html": [
       "== Status ==<br>Current time: 2021-12-02 21:40:38 (running for 00:14:13.92)<br>Memory usage on this node: 11.3/16.0 GiB<br>Using AsyncHyperBand: num_stopped=2\n",
       "Bracket: Iter 512.000: None | Iter 256.000: None | Iter 128.000: None | Iter 64.000: None | Iter 32.000: None | Iter 16.000: None | Iter 8.000: 0.61495 | Iter 4.000: 0.5158 | Iter 2.000: 0.4266<br>Resources requested: 2.0/12 CPUs, 0/0 GPUs, 0.0/6.1 GiB heap, 0.0/3.05 GiB objects<br>Current best trial: 8eaae_00002 with mean_accuracy=0.619 and parameters={'layer1_out': 7, 'layer2_out': 14, 'batch': 64, 'lr': 0.0054551087797274755, 'momentum': 0.8893105126910178}<br>Result logdir: /Users/peterchatain/ray_results/train_asha<br>Number of trials: 4/4 (2 RUNNING, 2 TERMINATED)<br><br>"
      ],
      "text/plain": [
       "<IPython.core.display.HTML object>"
      ]
     },
     "metadata": {},
     "output_type": "display_data"
    },
    {
     "data": {
      "text/html": [
       "== Status ==<br>Current time: 2021-12-02 21:40:43 (running for 00:14:18.98)<br>Memory usage on this node: 11.3/16.0 GiB<br>Using AsyncHyperBand: num_stopped=2\n",
       "Bracket: Iter 512.000: None | Iter 256.000: None | Iter 128.000: None | Iter 64.000: None | Iter 32.000: None | Iter 16.000: None | Iter 8.000: 0.61495 | Iter 4.000: 0.5158 | Iter 2.000: 0.4266<br>Resources requested: 2.0/12 CPUs, 0/0 GPUs, 0.0/6.1 GiB heap, 0.0/3.05 GiB objects<br>Current best trial: 8eaae_00002 with mean_accuracy=0.619 and parameters={'layer1_out': 7, 'layer2_out': 14, 'batch': 64, 'lr': 0.0054551087797274755, 'momentum': 0.8893105126910178}<br>Result logdir: /Users/peterchatain/ray_results/train_asha<br>Number of trials: 4/4 (2 RUNNING, 2 TERMINATED)<br><br>"
      ],
      "text/plain": [
       "<IPython.core.display.HTML object>"
      ]
     },
     "metadata": {},
     "output_type": "display_data"
    },
    {
     "data": {
      "text/html": [
       "== Status ==<br>Current time: 2021-12-02 21:40:48 (running for 00:14:24.03)<br>Memory usage on this node: 11.3/16.0 GiB<br>Using AsyncHyperBand: num_stopped=2\n",
       "Bracket: Iter 512.000: None | Iter 256.000: None | Iter 128.000: None | Iter 64.000: None | Iter 32.000: None | Iter 16.000: None | Iter 8.000: 0.61495 | Iter 4.000: 0.5158 | Iter 2.000: 0.4266<br>Resources requested: 2.0/12 CPUs, 0/0 GPUs, 0.0/6.1 GiB heap, 0.0/3.05 GiB objects<br>Current best trial: 8eaae_00002 with mean_accuracy=0.619 and parameters={'layer1_out': 7, 'layer2_out': 14, 'batch': 64, 'lr': 0.0054551087797274755, 'momentum': 0.8893105126910178}<br>Result logdir: /Users/peterchatain/ray_results/train_asha<br>Number of trials: 4/4 (2 RUNNING, 2 TERMINATED)<br><br>"
      ],
      "text/plain": [
       "<IPython.core.display.HTML object>"
      ]
     },
     "metadata": {},
     "output_type": "display_data"
    },
    {
     "data": {
      "text/html": [
       "== Status ==<br>Current time: 2021-12-02 21:40:53 (running for 00:14:29.07)<br>Memory usage on this node: 11.3/16.0 GiB<br>Using AsyncHyperBand: num_stopped=2\n",
       "Bracket: Iter 512.000: None | Iter 256.000: None | Iter 128.000: None | Iter 64.000: None | Iter 32.000: None | Iter 16.000: None | Iter 8.000: 0.61495 | Iter 4.000: 0.5158 | Iter 2.000: 0.4266<br>Resources requested: 2.0/12 CPUs, 0/0 GPUs, 0.0/6.1 GiB heap, 0.0/3.05 GiB objects<br>Current best trial: 8eaae_00002 with mean_accuracy=0.619 and parameters={'layer1_out': 7, 'layer2_out': 14, 'batch': 64, 'lr': 0.0054551087797274755, 'momentum': 0.8893105126910178}<br>Result logdir: /Users/peterchatain/ray_results/train_asha<br>Number of trials: 4/4 (2 RUNNING, 2 TERMINATED)<br><br>"
      ],
      "text/plain": [
       "<IPython.core.display.HTML object>"
      ]
     },
     "metadata": {},
     "output_type": "display_data"
    },
    {
     "data": {
      "text/html": [
       "== Status ==<br>Current time: 2021-12-02 21:40:58 (running for 00:14:34.13)<br>Memory usage on this node: 11.3/16.0 GiB<br>Using AsyncHyperBand: num_stopped=2\n",
       "Bracket: Iter 512.000: None | Iter 256.000: None | Iter 128.000: None | Iter 64.000: None | Iter 32.000: None | Iter 16.000: None | Iter 8.000: 0.61495 | Iter 4.000: 0.5158 | Iter 2.000: 0.4266<br>Resources requested: 2.0/12 CPUs, 0/0 GPUs, 0.0/6.1 GiB heap, 0.0/3.05 GiB objects<br>Current best trial: 8eaae_00002 with mean_accuracy=0.619 and parameters={'layer1_out': 7, 'layer2_out': 14, 'batch': 64, 'lr': 0.0054551087797274755, 'momentum': 0.8893105126910178}<br>Result logdir: /Users/peterchatain/ray_results/train_asha<br>Number of trials: 4/4 (2 RUNNING, 2 TERMINATED)<br><br>"
      ],
      "text/plain": [
       "<IPython.core.display.HTML object>"
      ]
     },
     "metadata": {},
     "output_type": "display_data"
    },
    {
     "data": {
      "text/html": [
       "== Status ==<br>Current time: 2021-12-02 21:41:03 (running for 00:14:39.18)<br>Memory usage on this node: 11.3/16.0 GiB<br>Using AsyncHyperBand: num_stopped=2\n",
       "Bracket: Iter 512.000: None | Iter 256.000: None | Iter 128.000: None | Iter 64.000: None | Iter 32.000: None | Iter 16.000: None | Iter 8.000: 0.61495 | Iter 4.000: 0.5158 | Iter 2.000: 0.4266<br>Resources requested: 2.0/12 CPUs, 0/0 GPUs, 0.0/6.1 GiB heap, 0.0/3.05 GiB objects<br>Current best trial: 8eaae_00002 with mean_accuracy=0.619 and parameters={'layer1_out': 7, 'layer2_out': 14, 'batch': 64, 'lr': 0.0054551087797274755, 'momentum': 0.8893105126910178}<br>Result logdir: /Users/peterchatain/ray_results/train_asha<br>Number of trials: 4/4 (2 RUNNING, 2 TERMINATED)<br><br>"
      ],
      "text/plain": [
       "<IPython.core.display.HTML object>"
      ]
     },
     "metadata": {},
     "output_type": "display_data"
    },
    {
     "data": {
      "text/html": [
       "== Status ==<br>Current time: 2021-12-02 21:41:08 (running for 00:14:44.23)<br>Memory usage on this node: 10.9/16.0 GiB<br>Using AsyncHyperBand: num_stopped=2\n",
       "Bracket: Iter 512.000: None | Iter 256.000: None | Iter 128.000: None | Iter 64.000: None | Iter 32.000: None | Iter 16.000: None | Iter 8.000: 0.61495 | Iter 4.000: 0.5158 | Iter 2.000: 0.4266<br>Resources requested: 2.0/12 CPUs, 0/0 GPUs, 0.0/6.1 GiB heap, 0.0/3.05 GiB objects<br>Current best trial: 8eaae_00002 with mean_accuracy=0.619 and parameters={'layer1_out': 7, 'layer2_out': 14, 'batch': 64, 'lr': 0.0054551087797274755, 'momentum': 0.8893105126910178}<br>Result logdir: /Users/peterchatain/ray_results/train_asha<br>Number of trials: 4/4 (2 RUNNING, 2 TERMINATED)<br><br>"
      ],
      "text/plain": [
       "<IPython.core.display.HTML object>"
      ]
     },
     "metadata": {},
     "output_type": "display_data"
    },
    {
     "data": {
      "text/html": [
       "== Status ==<br>Current time: 2021-12-02 21:41:23 (running for 00:14:58.53)<br>Memory usage on this node: 11.1/16.0 GiB<br>Using AsyncHyperBand: num_stopped=2\n",
       "Bracket: Iter 512.000: None | Iter 256.000: None | Iter 128.000: None | Iter 64.000: None | Iter 32.000: None | Iter 16.000: None | Iter 8.000: 0.61495 | Iter 4.000: 0.5158 | Iter 2.000: 0.4266<br>Resources requested: 2.0/12 CPUs, 0/0 GPUs, 0.0/6.1 GiB heap, 0.0/3.05 GiB objects<br>Current best trial: 8eaae_00002 with mean_accuracy=0.619 and parameters={'layer1_out': 7, 'layer2_out': 14, 'batch': 64, 'lr': 0.0054551087797274755, 'momentum': 0.8893105126910178}<br>Result logdir: /Users/peterchatain/ray_results/train_asha<br>Number of trials: 4/4 (2 RUNNING, 2 TERMINATED)<br><br>"
      ],
      "text/plain": [
       "<IPython.core.display.HTML object>"
      ]
     },
     "metadata": {},
     "output_type": "display_data"
    },
    {
     "data": {
      "text/html": [
       "== Status ==<br>Current time: 2021-12-02 21:41:28 (running for 00:15:03.57)<br>Memory usage on this node: 11.3/16.0 GiB<br>Using AsyncHyperBand: num_stopped=2\n",
       "Bracket: Iter 512.000: None | Iter 256.000: None | Iter 128.000: None | Iter 64.000: None | Iter 32.000: None | Iter 16.000: None | Iter 8.000: 0.61495 | Iter 4.000: 0.5158 | Iter 2.000: 0.4266<br>Resources requested: 2.0/12 CPUs, 0/0 GPUs, 0.0/6.1 GiB heap, 0.0/3.05 GiB objects<br>Current best trial: 8eaae_00002 with mean_accuracy=0.619 and parameters={'layer1_out': 7, 'layer2_out': 14, 'batch': 64, 'lr': 0.0054551087797274755, 'momentum': 0.8893105126910178}<br>Result logdir: /Users/peterchatain/ray_results/train_asha<br>Number of trials: 4/4 (2 RUNNING, 2 TERMINATED)<br><br>"
      ],
      "text/plain": [
       "<IPython.core.display.HTML object>"
      ]
     },
     "metadata": {},
     "output_type": "display_data"
    },
    {
     "data": {
      "text/html": [
       "== Status ==<br>Current time: 2021-12-02 21:41:33 (running for 00:15:08.63)<br>Memory usage on this node: 11.2/16.0 GiB<br>Using AsyncHyperBand: num_stopped=2\n",
       "Bracket: Iter 512.000: None | Iter 256.000: None | Iter 128.000: None | Iter 64.000: None | Iter 32.000: None | Iter 16.000: None | Iter 8.000: 0.61495 | Iter 4.000: 0.5158 | Iter 2.000: 0.4266<br>Resources requested: 2.0/12 CPUs, 0/0 GPUs, 0.0/6.1 GiB heap, 0.0/3.05 GiB objects<br>Current best trial: 8eaae_00002 with mean_accuracy=0.619 and parameters={'layer1_out': 7, 'layer2_out': 14, 'batch': 64, 'lr': 0.0054551087797274755, 'momentum': 0.8893105126910178}<br>Result logdir: /Users/peterchatain/ray_results/train_asha<br>Number of trials: 4/4 (2 RUNNING, 2 TERMINATED)<br><br>"
      ],
      "text/plain": [
       "<IPython.core.display.HTML object>"
      ]
     },
     "metadata": {},
     "output_type": "display_data"
    },
    {
     "data": {
      "text/html": [
       "== Status ==<br>Current time: 2021-12-02 21:41:38 (running for 00:15:13.67)<br>Memory usage on this node: 11.1/16.0 GiB<br>Using AsyncHyperBand: num_stopped=2\n",
       "Bracket: Iter 512.000: None | Iter 256.000: None | Iter 128.000: None | Iter 64.000: None | Iter 32.000: None | Iter 16.000: None | Iter 8.000: 0.61495 | Iter 4.000: 0.5158 | Iter 2.000: 0.4266<br>Resources requested: 2.0/12 CPUs, 0/0 GPUs, 0.0/6.1 GiB heap, 0.0/3.05 GiB objects<br>Current best trial: 8eaae_00002 with mean_accuracy=0.619 and parameters={'layer1_out': 7, 'layer2_out': 14, 'batch': 64, 'lr': 0.0054551087797274755, 'momentum': 0.8893105126910178}<br>Result logdir: /Users/peterchatain/ray_results/train_asha<br>Number of trials: 4/4 (2 RUNNING, 2 TERMINATED)<br><br>"
      ],
      "text/plain": [
       "<IPython.core.display.HTML object>"
      ]
     },
     "metadata": {},
     "output_type": "display_data"
    },
    {
     "data": {
      "text/html": [
       "== Status ==<br>Current time: 2021-12-02 21:41:43 (running for 00:15:18.71)<br>Memory usage on this node: 10.9/16.0 GiB<br>Using AsyncHyperBand: num_stopped=2\n",
       "Bracket: Iter 512.000: None | Iter 256.000: None | Iter 128.000: None | Iter 64.000: None | Iter 32.000: None | Iter 16.000: None | Iter 8.000: 0.61495 | Iter 4.000: 0.5158 | Iter 2.000: 0.4266<br>Resources requested: 2.0/12 CPUs, 0/0 GPUs, 0.0/6.1 GiB heap, 0.0/3.05 GiB objects<br>Current best trial: 8eaae_00002 with mean_accuracy=0.619 and parameters={'layer1_out': 7, 'layer2_out': 14, 'batch': 64, 'lr': 0.0054551087797274755, 'momentum': 0.8893105126910178}<br>Result logdir: /Users/peterchatain/ray_results/train_asha<br>Number of trials: 4/4 (2 RUNNING, 2 TERMINATED)<br><br>"
      ],
      "text/plain": [
       "<IPython.core.display.HTML object>"
      ]
     },
     "metadata": {},
     "output_type": "display_data"
    },
    {
     "data": {
      "text/html": [
       "== Status ==<br>Current time: 2021-12-02 21:41:48 (running for 00:15:23.75)<br>Memory usage on this node: 11.0/16.0 GiB<br>Using AsyncHyperBand: num_stopped=2\n",
       "Bracket: Iter 512.000: None | Iter 256.000: None | Iter 128.000: None | Iter 64.000: None | Iter 32.000: None | Iter 16.000: None | Iter 8.000: 0.61495 | Iter 4.000: 0.5158 | Iter 2.000: 0.4266<br>Resources requested: 2.0/12 CPUs, 0/0 GPUs, 0.0/6.1 GiB heap, 0.0/3.05 GiB objects<br>Current best trial: 8eaae_00002 with mean_accuracy=0.619 and parameters={'layer1_out': 7, 'layer2_out': 14, 'batch': 64, 'lr': 0.0054551087797274755, 'momentum': 0.8893105126910178}<br>Result logdir: /Users/peterchatain/ray_results/train_asha<br>Number of trials: 4/4 (2 RUNNING, 2 TERMINATED)<br><br>"
      ],
      "text/plain": [
       "<IPython.core.display.HTML object>"
      ]
     },
     "metadata": {},
     "output_type": "display_data"
    },
    {
     "name": "stdout",
     "output_type": "stream",
     "text": [
      "Trial train_eval_model_8eaae_00002 reported mean_accuracy=0.63 with parameters={'layer1_out': 7, 'layer2_out': 14, 'batch': 64, 'lr': 0.0054551087797274755, 'momentum': 0.8893105126910178}.\n"
     ]
    },
    {
     "data": {
      "text/html": [
       "== Status ==<br>Current time: 2021-12-02 21:41:54 (running for 00:15:29.34)<br>Memory usage on this node: 11.0/16.0 GiB<br>Using AsyncHyperBand: num_stopped=2\n",
       "Bracket: Iter 512.000: None | Iter 256.000: None | Iter 128.000: None | Iter 64.000: None | Iter 32.000: None | Iter 16.000: None | Iter 8.000: 0.61495 | Iter 4.000: 0.5158 | Iter 2.000: 0.4266<br>Resources requested: 2.0/12 CPUs, 0/0 GPUs, 0.0/6.1 GiB heap, 0.0/3.05 GiB objects<br>Current best trial: 8eaae_00002 with mean_accuracy=0.6317 and parameters={'layer1_out': 7, 'layer2_out': 14, 'batch': 64, 'lr': 0.0054551087797274755, 'momentum': 0.8893105126910178}<br>Result logdir: /Users/peterchatain/ray_results/train_asha<br>Number of trials: 4/4 (2 RUNNING, 2 TERMINATED)<br><br>"
      ],
      "text/plain": [
       "<IPython.core.display.HTML object>"
      ]
     },
     "metadata": {},
     "output_type": "display_data"
    },
    {
     "data": {
      "text/html": [
       "== Status ==<br>Current time: 2021-12-02 21:42:03 (running for 00:15:38.49)<br>Memory usage on this node: 11.0/16.0 GiB<br>Using AsyncHyperBand: num_stopped=2\n",
       "Bracket: Iter 512.000: None | Iter 256.000: None | Iter 128.000: None | Iter 64.000: None | Iter 32.000: None | Iter 16.000: None | Iter 8.000: 0.61495 | Iter 4.000: 0.5158 | Iter 2.000: 0.4266<br>Resources requested: 2.0/12 CPUs, 0/0 GPUs, 0.0/6.1 GiB heap, 0.0/3.05 GiB objects<br>Current best trial: 8eaae_00002 with mean_accuracy=0.6317 and parameters={'layer1_out': 7, 'layer2_out': 14, 'batch': 64, 'lr': 0.0054551087797274755, 'momentum': 0.8893105126910178}<br>Result logdir: /Users/peterchatain/ray_results/train_asha<br>Number of trials: 4/4 (2 RUNNING, 2 TERMINATED)<br><br>"
      ],
      "text/plain": [
       "<IPython.core.display.HTML object>"
      ]
     },
     "metadata": {},
     "output_type": "display_data"
    },
    {
     "data": {
      "text/html": [
       "== Status ==<br>Current time: 2021-12-02 21:42:08 (running for 00:15:43.55)<br>Memory usage on this node: 11.5/16.0 GiB<br>Using AsyncHyperBand: num_stopped=2\n",
       "Bracket: Iter 512.000: None | Iter 256.000: None | Iter 128.000: None | Iter 64.000: None | Iter 32.000: None | Iter 16.000: None | Iter 8.000: 0.61495 | Iter 4.000: 0.5158 | Iter 2.000: 0.4266<br>Resources requested: 2.0/12 CPUs, 0/0 GPUs, 0.0/6.1 GiB heap, 0.0/3.05 GiB objects<br>Current best trial: 8eaae_00002 with mean_accuracy=0.6317 and parameters={'layer1_out': 7, 'layer2_out': 14, 'batch': 64, 'lr': 0.0054551087797274755, 'momentum': 0.8893105126910178}<br>Result logdir: /Users/peterchatain/ray_results/train_asha<br>Number of trials: 4/4 (2 RUNNING, 2 TERMINATED)<br><br>"
      ],
      "text/plain": [
       "<IPython.core.display.HTML object>"
      ]
     },
     "metadata": {},
     "output_type": "display_data"
    },
    {
     "data": {
      "text/html": [
       "== Status ==<br>Current time: 2021-12-02 21:42:13 (running for 00:15:48.61)<br>Memory usage on this node: 11.6/16.0 GiB<br>Using AsyncHyperBand: num_stopped=2\n",
       "Bracket: Iter 512.000: None | Iter 256.000: None | Iter 128.000: None | Iter 64.000: None | Iter 32.000: None | Iter 16.000: None | Iter 8.000: 0.61495 | Iter 4.000: 0.5158 | Iter 2.000: 0.4266<br>Resources requested: 2.0/12 CPUs, 0/0 GPUs, 0.0/6.1 GiB heap, 0.0/3.05 GiB objects<br>Current best trial: 8eaae_00002 with mean_accuracy=0.6317 and parameters={'layer1_out': 7, 'layer2_out': 14, 'batch': 64, 'lr': 0.0054551087797274755, 'momentum': 0.8893105126910178}<br>Result logdir: /Users/peterchatain/ray_results/train_asha<br>Number of trials: 4/4 (2 RUNNING, 2 TERMINATED)<br><br>"
      ],
      "text/plain": [
       "<IPython.core.display.HTML object>"
      ]
     },
     "metadata": {},
     "output_type": "display_data"
    },
    {
     "name": "stdout",
     "output_type": "stream",
     "text": [
      "Trial train_eval_model_8eaae_00000 reported mean_accuracy=0.62 with parameters={'layer1_out': 6, 'layer2_out': 18, 'batch': 32, 'lr': 0.0008249470865456945, 'momentum': 0.8721267306546336}.\n"
     ]
    },
    {
     "data": {
      "text/html": [
       "== Status ==<br>Current time: 2021-12-02 21:42:19 (running for 00:15:54.39)<br>Memory usage on this node: 11.7/16.0 GiB<br>Using AsyncHyperBand: num_stopped=2\n",
       "Bracket: Iter 512.000: None | Iter 256.000: None | Iter 128.000: None | Iter 64.000: None | Iter 32.000: None | Iter 16.000: None | Iter 8.000: 0.61495 | Iter 4.000: 0.5158 | Iter 2.000: 0.4266<br>Resources requested: 2.0/12 CPUs, 0/0 GPUs, 0.0/6.1 GiB heap, 0.0/3.05 GiB objects<br>Current best trial: 8eaae_00002 with mean_accuracy=0.6317 and parameters={'layer1_out': 7, 'layer2_out': 14, 'batch': 64, 'lr': 0.0054551087797274755, 'momentum': 0.8893105126910178}<br>Result logdir: /Users/peterchatain/ray_results/train_asha<br>Number of trials: 4/4 (2 RUNNING, 2 TERMINATED)<br><br>"
      ],
      "text/plain": [
       "<IPython.core.display.HTML object>"
      ]
     },
     "metadata": {},
     "output_type": "display_data"
    },
    {
     "data": {
      "text/html": [
       "== Status ==<br>Current time: 2021-12-02 21:42:24 (running for 00:15:59.43)<br>Memory usage on this node: 11.7/16.0 GiB<br>Using AsyncHyperBand: num_stopped=2\n",
       "Bracket: Iter 512.000: None | Iter 256.000: None | Iter 128.000: None | Iter 64.000: None | Iter 32.000: None | Iter 16.000: None | Iter 8.000: 0.61495 | Iter 4.000: 0.5158 | Iter 2.000: 0.4266<br>Resources requested: 2.0/12 CPUs, 0/0 GPUs, 0.0/6.1 GiB heap, 0.0/3.05 GiB objects<br>Current best trial: 8eaae_00002 with mean_accuracy=0.6317 and parameters={'layer1_out': 7, 'layer2_out': 14, 'batch': 64, 'lr': 0.0054551087797274755, 'momentum': 0.8893105126910178}<br>Result logdir: /Users/peterchatain/ray_results/train_asha<br>Number of trials: 4/4 (2 RUNNING, 2 TERMINATED)<br><br>"
      ],
      "text/plain": [
       "<IPython.core.display.HTML object>"
      ]
     },
     "metadata": {},
     "output_type": "display_data"
    },
    {
     "data": {
      "text/html": [
       "== Status ==<br>Current time: 2021-12-02 21:42:29 (running for 00:16:04.50)<br>Memory usage on this node: 11.6/16.0 GiB<br>Using AsyncHyperBand: num_stopped=2\n",
       "Bracket: Iter 512.000: None | Iter 256.000: None | Iter 128.000: None | Iter 64.000: None | Iter 32.000: None | Iter 16.000: None | Iter 8.000: 0.61495 | Iter 4.000: 0.5158 | Iter 2.000: 0.4266<br>Resources requested: 2.0/12 CPUs, 0/0 GPUs, 0.0/6.1 GiB heap, 0.0/3.05 GiB objects<br>Current best trial: 8eaae_00002 with mean_accuracy=0.6317 and parameters={'layer1_out': 7, 'layer2_out': 14, 'batch': 64, 'lr': 0.0054551087797274755, 'momentum': 0.8893105126910178}<br>Result logdir: /Users/peterchatain/ray_results/train_asha<br>Number of trials: 4/4 (2 RUNNING, 2 TERMINATED)<br><br>"
      ],
      "text/plain": [
       "<IPython.core.display.HTML object>"
      ]
     },
     "metadata": {},
     "output_type": "display_data"
    },
    {
     "data": {
      "text/html": [
       "== Status ==<br>Current time: 2021-12-02 21:42:34 (running for 00:16:09.55)<br>Memory usage on this node: 11.5/16.0 GiB<br>Using AsyncHyperBand: num_stopped=2\n",
       "Bracket: Iter 512.000: None | Iter 256.000: None | Iter 128.000: None | Iter 64.000: None | Iter 32.000: None | Iter 16.000: None | Iter 8.000: 0.61495 | Iter 4.000: 0.5158 | Iter 2.000: 0.4266<br>Resources requested: 2.0/12 CPUs, 0/0 GPUs, 0.0/6.1 GiB heap, 0.0/3.05 GiB objects<br>Current best trial: 8eaae_00002 with mean_accuracy=0.6317 and parameters={'layer1_out': 7, 'layer2_out': 14, 'batch': 64, 'lr': 0.0054551087797274755, 'momentum': 0.8893105126910178}<br>Result logdir: /Users/peterchatain/ray_results/train_asha<br>Number of trials: 4/4 (2 RUNNING, 2 TERMINATED)<br><br>"
      ],
      "text/plain": [
       "<IPython.core.display.HTML object>"
      ]
     },
     "metadata": {},
     "output_type": "display_data"
    },
    {
     "data": {
      "text/html": [
       "== Status ==<br>Current time: 2021-12-02 21:42:39 (running for 00:16:14.62)<br>Memory usage on this node: 11.5/16.0 GiB<br>Using AsyncHyperBand: num_stopped=2\n",
       "Bracket: Iter 512.000: None | Iter 256.000: None | Iter 128.000: None | Iter 64.000: None | Iter 32.000: None | Iter 16.000: None | Iter 8.000: 0.61495 | Iter 4.000: 0.5158 | Iter 2.000: 0.4266<br>Resources requested: 2.0/12 CPUs, 0/0 GPUs, 0.0/6.1 GiB heap, 0.0/3.05 GiB objects<br>Current best trial: 8eaae_00002 with mean_accuracy=0.6317 and parameters={'layer1_out': 7, 'layer2_out': 14, 'batch': 64, 'lr': 0.0054551087797274755, 'momentum': 0.8893105126910178}<br>Result logdir: /Users/peterchatain/ray_results/train_asha<br>Number of trials: 4/4 (2 RUNNING, 2 TERMINATED)<br><br>"
      ],
      "text/plain": [
       "<IPython.core.display.HTML object>"
      ]
     },
     "metadata": {},
     "output_type": "display_data"
    },
    {
     "data": {
      "text/html": [
       "== Status ==<br>Current time: 2021-12-02 21:42:44 (running for 00:16:19.67)<br>Memory usage on this node: 11.4/16.0 GiB<br>Using AsyncHyperBand: num_stopped=2\n",
       "Bracket: Iter 512.000: None | Iter 256.000: None | Iter 128.000: None | Iter 64.000: None | Iter 32.000: None | Iter 16.000: None | Iter 8.000: 0.61495 | Iter 4.000: 0.5158 | Iter 2.000: 0.4266<br>Resources requested: 2.0/12 CPUs, 0/0 GPUs, 0.0/6.1 GiB heap, 0.0/3.05 GiB objects<br>Current best trial: 8eaae_00002 with mean_accuracy=0.6317 and parameters={'layer1_out': 7, 'layer2_out': 14, 'batch': 64, 'lr': 0.0054551087797274755, 'momentum': 0.8893105126910178}<br>Result logdir: /Users/peterchatain/ray_results/train_asha<br>Number of trials: 4/4 (2 RUNNING, 2 TERMINATED)<br><br>"
      ],
      "text/plain": [
       "<IPython.core.display.HTML object>"
      ]
     },
     "metadata": {},
     "output_type": "display_data"
    },
    {
     "data": {
      "text/html": [
       "== Status ==<br>Current time: 2021-12-02 21:42:49 (running for 00:16:24.74)<br>Memory usage on this node: 11.4/16.0 GiB<br>Using AsyncHyperBand: num_stopped=2\n",
       "Bracket: Iter 512.000: None | Iter 256.000: None | Iter 128.000: None | Iter 64.000: None | Iter 32.000: None | Iter 16.000: None | Iter 8.000: 0.61495 | Iter 4.000: 0.5158 | Iter 2.000: 0.4266<br>Resources requested: 2.0/12 CPUs, 0/0 GPUs, 0.0/6.1 GiB heap, 0.0/3.05 GiB objects<br>Current best trial: 8eaae_00002 with mean_accuracy=0.6317 and parameters={'layer1_out': 7, 'layer2_out': 14, 'batch': 64, 'lr': 0.0054551087797274755, 'momentum': 0.8893105126910178}<br>Result logdir: /Users/peterchatain/ray_results/train_asha<br>Number of trials: 4/4 (2 RUNNING, 2 TERMINATED)<br><br>"
      ],
      "text/plain": [
       "<IPython.core.display.HTML object>"
      ]
     },
     "metadata": {},
     "output_type": "display_data"
    },
    {
     "data": {
      "text/html": [
       "== Status ==<br>Current time: 2021-12-02 21:42:54 (running for 00:16:29.78)<br>Memory usage on this node: 11.4/16.0 GiB<br>Using AsyncHyperBand: num_stopped=2\n",
       "Bracket: Iter 512.000: None | Iter 256.000: None | Iter 128.000: None | Iter 64.000: None | Iter 32.000: None | Iter 16.000: None | Iter 8.000: 0.61495 | Iter 4.000: 0.5158 | Iter 2.000: 0.4266<br>Resources requested: 2.0/12 CPUs, 0/0 GPUs, 0.0/6.1 GiB heap, 0.0/3.05 GiB objects<br>Current best trial: 8eaae_00002 with mean_accuracy=0.6317 and parameters={'layer1_out': 7, 'layer2_out': 14, 'batch': 64, 'lr': 0.0054551087797274755, 'momentum': 0.8893105126910178}<br>Result logdir: /Users/peterchatain/ray_results/train_asha<br>Number of trials: 4/4 (2 RUNNING, 2 TERMINATED)<br><br>"
      ],
      "text/plain": [
       "<IPython.core.display.HTML object>"
      ]
     },
     "metadata": {},
     "output_type": "display_data"
    },
    {
     "data": {
      "text/html": [
       "== Status ==<br>Current time: 2021-12-02 21:42:59 (running for 00:16:34.85)<br>Memory usage on this node: 11.0/16.0 GiB<br>Using AsyncHyperBand: num_stopped=2\n",
       "Bracket: Iter 512.000: None | Iter 256.000: None | Iter 128.000: None | Iter 64.000: None | Iter 32.000: None | Iter 16.000: None | Iter 8.000: 0.61495 | Iter 4.000: 0.5158 | Iter 2.000: 0.4266<br>Resources requested: 2.0/12 CPUs, 0/0 GPUs, 0.0/6.1 GiB heap, 0.0/3.05 GiB objects<br>Current best trial: 8eaae_00002 with mean_accuracy=0.6317 and parameters={'layer1_out': 7, 'layer2_out': 14, 'batch': 64, 'lr': 0.0054551087797274755, 'momentum': 0.8893105126910178}<br>Result logdir: /Users/peterchatain/ray_results/train_asha<br>Number of trials: 4/4 (2 RUNNING, 2 TERMINATED)<br><br>"
      ],
      "text/plain": [
       "<IPython.core.display.HTML object>"
      ]
     },
     "metadata": {},
     "output_type": "display_data"
    },
    {
     "data": {
      "text/html": [
       "== Status ==<br>Current time: 2021-12-02 21:43:04 (running for 00:16:39.89)<br>Memory usage on this node: 11.0/16.0 GiB<br>Using AsyncHyperBand: num_stopped=2\n",
       "Bracket: Iter 512.000: None | Iter 256.000: None | Iter 128.000: None | Iter 64.000: None | Iter 32.000: None | Iter 16.000: None | Iter 8.000: 0.61495 | Iter 4.000: 0.5158 | Iter 2.000: 0.4266<br>Resources requested: 2.0/12 CPUs, 0/0 GPUs, 0.0/6.1 GiB heap, 0.0/3.05 GiB objects<br>Current best trial: 8eaae_00002 with mean_accuracy=0.6317 and parameters={'layer1_out': 7, 'layer2_out': 14, 'batch': 64, 'lr': 0.0054551087797274755, 'momentum': 0.8893105126910178}<br>Result logdir: /Users/peterchatain/ray_results/train_asha<br>Number of trials: 4/4 (2 RUNNING, 2 TERMINATED)<br><br>"
      ],
      "text/plain": [
       "<IPython.core.display.HTML object>"
      ]
     },
     "metadata": {},
     "output_type": "display_data"
    },
    {
     "data": {
      "text/html": [
       "== Status ==<br>Current time: 2021-12-02 21:43:19 (running for 00:16:54.52)<br>Memory usage on this node: 11.3/16.0 GiB<br>Using AsyncHyperBand: num_stopped=2\n",
       "Bracket: Iter 512.000: None | Iter 256.000: None | Iter 128.000: None | Iter 64.000: None | Iter 32.000: None | Iter 16.000: None | Iter 8.000: 0.61495 | Iter 4.000: 0.5158 | Iter 2.000: 0.4266<br>Resources requested: 2.0/12 CPUs, 0/0 GPUs, 0.0/6.1 GiB heap, 0.0/3.05 GiB objects<br>Current best trial: 8eaae_00002 with mean_accuracy=0.6317 and parameters={'layer1_out': 7, 'layer2_out': 14, 'batch': 64, 'lr': 0.0054551087797274755, 'momentum': 0.8893105126910178}<br>Result logdir: /Users/peterchatain/ray_results/train_asha<br>Number of trials: 4/4 (2 RUNNING, 2 TERMINATED)<br><br>"
      ],
      "text/plain": [
       "<IPython.core.display.HTML object>"
      ]
     },
     "metadata": {},
     "output_type": "display_data"
    },
    {
     "data": {
      "text/html": [
       "== Status ==<br>Current time: 2021-12-02 21:43:24 (running for 00:16:59.56)<br>Memory usage on this node: 11.8/16.0 GiB<br>Using AsyncHyperBand: num_stopped=2\n",
       "Bracket: Iter 512.000: None | Iter 256.000: None | Iter 128.000: None | Iter 64.000: None | Iter 32.000: None | Iter 16.000: None | Iter 8.000: 0.61495 | Iter 4.000: 0.5158 | Iter 2.000: 0.4266<br>Resources requested: 2.0/12 CPUs, 0/0 GPUs, 0.0/6.1 GiB heap, 0.0/3.05 GiB objects<br>Current best trial: 8eaae_00002 with mean_accuracy=0.6317 and parameters={'layer1_out': 7, 'layer2_out': 14, 'batch': 64, 'lr': 0.0054551087797274755, 'momentum': 0.8893105126910178}<br>Result logdir: /Users/peterchatain/ray_results/train_asha<br>Number of trials: 4/4 (2 RUNNING, 2 TERMINATED)<br><br>"
      ],
      "text/plain": [
       "<IPython.core.display.HTML object>"
      ]
     },
     "metadata": {},
     "output_type": "display_data"
    },
    {
     "data": {
      "text/html": [
       "== Status ==<br>Current time: 2021-12-02 21:43:29 (running for 00:17:04.60)<br>Memory usage on this node: 11.7/16.0 GiB<br>Using AsyncHyperBand: num_stopped=2\n",
       "Bracket: Iter 512.000: None | Iter 256.000: None | Iter 128.000: None | Iter 64.000: None | Iter 32.000: None | Iter 16.000: None | Iter 8.000: 0.61495 | Iter 4.000: 0.5158 | Iter 2.000: 0.4266<br>Resources requested: 2.0/12 CPUs, 0/0 GPUs, 0.0/6.1 GiB heap, 0.0/3.05 GiB objects<br>Current best trial: 8eaae_00002 with mean_accuracy=0.6317 and parameters={'layer1_out': 7, 'layer2_out': 14, 'batch': 64, 'lr': 0.0054551087797274755, 'momentum': 0.8893105126910178}<br>Result logdir: /Users/peterchatain/ray_results/train_asha<br>Number of trials: 4/4 (2 RUNNING, 2 TERMINATED)<br><br>"
      ],
      "text/plain": [
       "<IPython.core.display.HTML object>"
      ]
     },
     "metadata": {},
     "output_type": "display_data"
    },
    {
     "data": {
      "text/html": [
       "== Status ==<br>Current time: 2021-12-02 21:43:34 (running for 00:17:09.63)<br>Memory usage on this node: 11.7/16.0 GiB<br>Using AsyncHyperBand: num_stopped=2\n",
       "Bracket: Iter 512.000: None | Iter 256.000: None | Iter 128.000: None | Iter 64.000: None | Iter 32.000: None | Iter 16.000: None | Iter 8.000: 0.61495 | Iter 4.000: 0.5158 | Iter 2.000: 0.4266<br>Resources requested: 2.0/12 CPUs, 0/0 GPUs, 0.0/6.1 GiB heap, 0.0/3.05 GiB objects<br>Current best trial: 8eaae_00002 with mean_accuracy=0.6317 and parameters={'layer1_out': 7, 'layer2_out': 14, 'batch': 64, 'lr': 0.0054551087797274755, 'momentum': 0.8893105126910178}<br>Result logdir: /Users/peterchatain/ray_results/train_asha<br>Number of trials: 4/4 (2 RUNNING, 2 TERMINATED)<br><br>"
      ],
      "text/plain": [
       "<IPython.core.display.HTML object>"
      ]
     },
     "metadata": {},
     "output_type": "display_data"
    },
    {
     "data": {
      "text/html": [
       "== Status ==<br>Current time: 2021-12-02 21:43:39 (running for 00:17:14.66)<br>Memory usage on this node: 11.7/16.0 GiB<br>Using AsyncHyperBand: num_stopped=2\n",
       "Bracket: Iter 512.000: None | Iter 256.000: None | Iter 128.000: None | Iter 64.000: None | Iter 32.000: None | Iter 16.000: None | Iter 8.000: 0.61495 | Iter 4.000: 0.5158 | Iter 2.000: 0.4266<br>Resources requested: 2.0/12 CPUs, 0/0 GPUs, 0.0/6.1 GiB heap, 0.0/3.05 GiB objects<br>Current best trial: 8eaae_00002 with mean_accuracy=0.6317 and parameters={'layer1_out': 7, 'layer2_out': 14, 'batch': 64, 'lr': 0.0054551087797274755, 'momentum': 0.8893105126910178}<br>Result logdir: /Users/peterchatain/ray_results/train_asha<br>Number of trials: 4/4 (2 RUNNING, 2 TERMINATED)<br><br>"
      ],
      "text/plain": [
       "<IPython.core.display.HTML object>"
      ]
     },
     "metadata": {},
     "output_type": "display_data"
    },
    {
     "data": {
      "text/html": [
       "== Status ==<br>Current time: 2021-12-02 21:43:44 (running for 00:17:19.68)<br>Memory usage on this node: 11.2/16.0 GiB<br>Using AsyncHyperBand: num_stopped=2\n",
       "Bracket: Iter 512.000: None | Iter 256.000: None | Iter 128.000: None | Iter 64.000: None | Iter 32.000: None | Iter 16.000: None | Iter 8.000: 0.61495 | Iter 4.000: 0.5158 | Iter 2.000: 0.4266<br>Resources requested: 2.0/12 CPUs, 0/0 GPUs, 0.0/6.1 GiB heap, 0.0/3.05 GiB objects<br>Current best trial: 8eaae_00002 with mean_accuracy=0.6317 and parameters={'layer1_out': 7, 'layer2_out': 14, 'batch': 64, 'lr': 0.0054551087797274755, 'momentum': 0.8893105126910178}<br>Result logdir: /Users/peterchatain/ray_results/train_asha<br>Number of trials: 4/4 (2 RUNNING, 2 TERMINATED)<br><br>"
      ],
      "text/plain": [
       "<IPython.core.display.HTML object>"
      ]
     },
     "metadata": {},
     "output_type": "display_data"
    },
    {
     "data": {
      "text/html": [
       "== Status ==<br>Current time: 2021-12-02 21:43:49 (running for 00:17:24.72)<br>Memory usage on this node: 10.9/16.0 GiB<br>Using AsyncHyperBand: num_stopped=2\n",
       "Bracket: Iter 512.000: None | Iter 256.000: None | Iter 128.000: None | Iter 64.000: None | Iter 32.000: None | Iter 16.000: None | Iter 8.000: 0.61495 | Iter 4.000: 0.5158 | Iter 2.000: 0.4266<br>Resources requested: 2.0/12 CPUs, 0/0 GPUs, 0.0/6.1 GiB heap, 0.0/3.05 GiB objects<br>Current best trial: 8eaae_00002 with mean_accuracy=0.6317 and parameters={'layer1_out': 7, 'layer2_out': 14, 'batch': 64, 'lr': 0.0054551087797274755, 'momentum': 0.8893105126910178}<br>Result logdir: /Users/peterchatain/ray_results/train_asha<br>Number of trials: 4/4 (2 RUNNING, 2 TERMINATED)<br><br>"
      ],
      "text/plain": [
       "<IPython.core.display.HTML object>"
      ]
     },
     "metadata": {},
     "output_type": "display_data"
    },
    {
     "data": {
      "text/html": [
       "== Status ==<br>Current time: 2021-12-02 21:43:54 (running for 00:17:29.77)<br>Memory usage on this node: 10.9/16.0 GiB<br>Using AsyncHyperBand: num_stopped=2\n",
       "Bracket: Iter 512.000: None | Iter 256.000: None | Iter 128.000: None | Iter 64.000: None | Iter 32.000: None | Iter 16.000: None | Iter 8.000: 0.61495 | Iter 4.000: 0.5158 | Iter 2.000: 0.4266<br>Resources requested: 2.0/12 CPUs, 0/0 GPUs, 0.0/6.1 GiB heap, 0.0/3.05 GiB objects<br>Current best trial: 8eaae_00002 with mean_accuracy=0.6317 and parameters={'layer1_out': 7, 'layer2_out': 14, 'batch': 64, 'lr': 0.0054551087797274755, 'momentum': 0.8893105126910178}<br>Result logdir: /Users/peterchatain/ray_results/train_asha<br>Number of trials: 4/4 (2 RUNNING, 2 TERMINATED)<br><br>"
      ],
      "text/plain": [
       "<IPython.core.display.HTML object>"
      ]
     },
     "metadata": {},
     "output_type": "display_data"
    },
    {
     "name": "stdout",
     "output_type": "stream",
     "text": [
      "Trial train_eval_model_8eaae_00002 reported mean_accuracy=0.62 with parameters={'layer1_out': 7, 'layer2_out': 14, 'batch': 64, 'lr': 0.0054551087797274755, 'momentum': 0.8893105126910178}.\n"
     ]
    },
    {
     "data": {
      "text/html": [
       "== Status ==<br>Current time: 2021-12-02 21:43:59 (running for 00:17:35.27)<br>Memory usage on this node: 11.2/16.0 GiB<br>Using AsyncHyperBand: num_stopped=2\n",
       "Bracket: Iter 512.000: None | Iter 256.000: None | Iter 128.000: None | Iter 64.000: None | Iter 32.000: None | Iter 16.000: None | Iter 8.000: 0.61495 | Iter 4.000: 0.5158 | Iter 2.000: 0.4266<br>Resources requested: 2.0/12 CPUs, 0/0 GPUs, 0.0/6.1 GiB heap, 0.0/3.05 GiB objects<br>Current best trial: 8eaae_00000 with mean_accuracy=0.625 and parameters={'layer1_out': 6, 'layer2_out': 18, 'batch': 32, 'lr': 0.0008249470865456945, 'momentum': 0.8721267306546336}<br>Result logdir: /Users/peterchatain/ray_results/train_asha<br>Number of trials: 4/4 (2 RUNNING, 2 TERMINATED)<br><br>"
      ],
      "text/plain": [
       "<IPython.core.display.HTML object>"
      ]
     },
     "metadata": {},
     "output_type": "display_data"
    },
    {
     "data": {
      "text/html": [
       "== Status ==<br>Current time: 2021-12-02 21:44:05 (running for 00:17:40.32)<br>Memory usage on this node: 11.2/16.0 GiB<br>Using AsyncHyperBand: num_stopped=2\n",
       "Bracket: Iter 512.000: None | Iter 256.000: None | Iter 128.000: None | Iter 64.000: None | Iter 32.000: None | Iter 16.000: None | Iter 8.000: 0.61495 | Iter 4.000: 0.5158 | Iter 2.000: 0.4266<br>Resources requested: 2.0/12 CPUs, 0/0 GPUs, 0.0/6.1 GiB heap, 0.0/3.05 GiB objects<br>Current best trial: 8eaae_00000 with mean_accuracy=0.625 and parameters={'layer1_out': 6, 'layer2_out': 18, 'batch': 32, 'lr': 0.0008249470865456945, 'momentum': 0.8721267306546336}<br>Result logdir: /Users/peterchatain/ray_results/train_asha<br>Number of trials: 4/4 (2 RUNNING, 2 TERMINATED)<br><br>"
      ],
      "text/plain": [
       "<IPython.core.display.HTML object>"
      ]
     },
     "metadata": {},
     "output_type": "display_data"
    },
    {
     "data": {
      "text/html": [
       "== Status ==<br>Current time: 2021-12-02 21:44:10 (running for 00:17:45.35)<br>Memory usage on this node: 11.2/16.0 GiB<br>Using AsyncHyperBand: num_stopped=2\n",
       "Bracket: Iter 512.000: None | Iter 256.000: None | Iter 128.000: None | Iter 64.000: None | Iter 32.000: None | Iter 16.000: None | Iter 8.000: 0.61495 | Iter 4.000: 0.5158 | Iter 2.000: 0.4266<br>Resources requested: 2.0/12 CPUs, 0/0 GPUs, 0.0/6.1 GiB heap, 0.0/3.05 GiB objects<br>Current best trial: 8eaae_00000 with mean_accuracy=0.625 and parameters={'layer1_out': 6, 'layer2_out': 18, 'batch': 32, 'lr': 0.0008249470865456945, 'momentum': 0.8721267306546336}<br>Result logdir: /Users/peterchatain/ray_results/train_asha<br>Number of trials: 4/4 (2 RUNNING, 2 TERMINATED)<br><br>"
      ],
      "text/plain": [
       "<IPython.core.display.HTML object>"
      ]
     },
     "metadata": {},
     "output_type": "display_data"
    },
    {
     "name": "stdout",
     "output_type": "stream",
     "text": [
      "Trial train_eval_model_8eaae_00000 reported mean_accuracy=0.63 with parameters={'layer1_out': 6, 'layer2_out': 18, 'batch': 32, 'lr': 0.0008249470865456945, 'momentum': 0.8721267306546336}.\n"
     ]
    },
    {
     "data": {
      "text/html": [
       "== Status ==<br>Current time: 2021-12-02 21:44:15 (running for 00:17:50.55)<br>Memory usage on this node: 11.1/16.0 GiB<br>Using AsyncHyperBand: num_stopped=2\n",
       "Bracket: Iter 512.000: None | Iter 256.000: None | Iter 128.000: None | Iter 64.000: None | Iter 32.000: None | Iter 16.000: None | Iter 8.000: 0.61495 | Iter 4.000: 0.5158 | Iter 2.000: 0.4266<br>Resources requested: 2.0/12 CPUs, 0/0 GPUs, 0.0/6.1 GiB heap, 0.0/3.05 GiB objects<br>Current best trial: 8eaae_00000 with mean_accuracy=0.6304 and parameters={'layer1_out': 6, 'layer2_out': 18, 'batch': 32, 'lr': 0.0008249470865456945, 'momentum': 0.8721267306546336}<br>Result logdir: /Users/peterchatain/ray_results/train_asha<br>Number of trials: 4/4 (2 RUNNING, 2 TERMINATED)<br><br>"
      ],
      "text/plain": [
       "<IPython.core.display.HTML object>"
      ]
     },
     "metadata": {},
     "output_type": "display_data"
    },
    {
     "data": {
      "text/html": [
       "== Status ==<br>Current time: 2021-12-02 21:44:20 (running for 00:17:55.60)<br>Memory usage on this node: 11.2/16.0 GiB<br>Using AsyncHyperBand: num_stopped=2\n",
       "Bracket: Iter 512.000: None | Iter 256.000: None | Iter 128.000: None | Iter 64.000: None | Iter 32.000: None | Iter 16.000: None | Iter 8.000: 0.61495 | Iter 4.000: 0.5158 | Iter 2.000: 0.4266<br>Resources requested: 2.0/12 CPUs, 0/0 GPUs, 0.0/6.1 GiB heap, 0.0/3.05 GiB objects<br>Current best trial: 8eaae_00000 with mean_accuracy=0.6304 and parameters={'layer1_out': 6, 'layer2_out': 18, 'batch': 32, 'lr': 0.0008249470865456945, 'momentum': 0.8721267306546336}<br>Result logdir: /Users/peterchatain/ray_results/train_asha<br>Number of trials: 4/4 (2 RUNNING, 2 TERMINATED)<br><br>"
      ],
      "text/plain": [
       "<IPython.core.display.HTML object>"
      ]
     },
     "metadata": {},
     "output_type": "display_data"
    },
    {
     "data": {
      "text/html": [
       "== Status ==<br>Current time: 2021-12-02 21:44:33 (running for 00:18:08.50)<br>Memory usage on this node: 11.2/16.0 GiB<br>Using AsyncHyperBand: num_stopped=2\n",
       "Bracket: Iter 512.000: None | Iter 256.000: None | Iter 128.000: None | Iter 64.000: None | Iter 32.000: None | Iter 16.000: None | Iter 8.000: 0.61495 | Iter 4.000: 0.5158 | Iter 2.000: 0.4266<br>Resources requested: 2.0/12 CPUs, 0/0 GPUs, 0.0/6.1 GiB heap, 0.0/3.05 GiB objects<br>Current best trial: 8eaae_00000 with mean_accuracy=0.6304 and parameters={'layer1_out': 6, 'layer2_out': 18, 'batch': 32, 'lr': 0.0008249470865456945, 'momentum': 0.8721267306546336}<br>Result logdir: /Users/peterchatain/ray_results/train_asha<br>Number of trials: 4/4 (2 RUNNING, 2 TERMINATED)<br><br>"
      ],
      "text/plain": [
       "<IPython.core.display.HTML object>"
      ]
     },
     "metadata": {},
     "output_type": "display_data"
    },
    {
     "data": {
      "text/html": [
       "== Status ==<br>Current time: 2021-12-02 21:44:38 (running for 00:18:13.56)<br>Memory usage on this node: 11.4/16.0 GiB<br>Using AsyncHyperBand: num_stopped=2\n",
       "Bracket: Iter 512.000: None | Iter 256.000: None | Iter 128.000: None | Iter 64.000: None | Iter 32.000: None | Iter 16.000: None | Iter 8.000: 0.61495 | Iter 4.000: 0.5158 | Iter 2.000: 0.4266<br>Resources requested: 2.0/12 CPUs, 0/0 GPUs, 0.0/6.1 GiB heap, 0.0/3.05 GiB objects<br>Current best trial: 8eaae_00000 with mean_accuracy=0.6304 and parameters={'layer1_out': 6, 'layer2_out': 18, 'batch': 32, 'lr': 0.0008249470865456945, 'momentum': 0.8721267306546336}<br>Result logdir: /Users/peterchatain/ray_results/train_asha<br>Number of trials: 4/4 (2 RUNNING, 2 TERMINATED)<br><br>"
      ],
      "text/plain": [
       "<IPython.core.display.HTML object>"
      ]
     },
     "metadata": {},
     "output_type": "display_data"
    },
    {
     "data": {
      "text/html": [
       "== Status ==<br>Current time: 2021-12-02 21:44:43 (running for 00:18:18.62)<br>Memory usage on this node: 11.6/16.0 GiB<br>Using AsyncHyperBand: num_stopped=2\n",
       "Bracket: Iter 512.000: None | Iter 256.000: None | Iter 128.000: None | Iter 64.000: None | Iter 32.000: None | Iter 16.000: None | Iter 8.000: 0.61495 | Iter 4.000: 0.5158 | Iter 2.000: 0.4266<br>Resources requested: 2.0/12 CPUs, 0/0 GPUs, 0.0/6.1 GiB heap, 0.0/3.05 GiB objects<br>Current best trial: 8eaae_00000 with mean_accuracy=0.6304 and parameters={'layer1_out': 6, 'layer2_out': 18, 'batch': 32, 'lr': 0.0008249470865456945, 'momentum': 0.8721267306546336}<br>Result logdir: /Users/peterchatain/ray_results/train_asha<br>Number of trials: 4/4 (2 RUNNING, 2 TERMINATED)<br><br>"
      ],
      "text/plain": [
       "<IPython.core.display.HTML object>"
      ]
     },
     "metadata": {},
     "output_type": "display_data"
    },
    {
     "data": {
      "text/html": [
       "== Status ==<br>Current time: 2021-12-02 21:44:48 (running for 00:18:23.67)<br>Memory usage on this node: 11.6/16.0 GiB<br>Using AsyncHyperBand: num_stopped=2\n",
       "Bracket: Iter 512.000: None | Iter 256.000: None | Iter 128.000: None | Iter 64.000: None | Iter 32.000: None | Iter 16.000: None | Iter 8.000: 0.61495 | Iter 4.000: 0.5158 | Iter 2.000: 0.4266<br>Resources requested: 2.0/12 CPUs, 0/0 GPUs, 0.0/6.1 GiB heap, 0.0/3.05 GiB objects<br>Current best trial: 8eaae_00000 with mean_accuracy=0.6304 and parameters={'layer1_out': 6, 'layer2_out': 18, 'batch': 32, 'lr': 0.0008249470865456945, 'momentum': 0.8721267306546336}<br>Result logdir: /Users/peterchatain/ray_results/train_asha<br>Number of trials: 4/4 (2 RUNNING, 2 TERMINATED)<br><br>"
      ],
      "text/plain": [
       "<IPython.core.display.HTML object>"
      ]
     },
     "metadata": {},
     "output_type": "display_data"
    },
    {
     "data": {
      "text/html": [
       "== Status ==<br>Current time: 2021-12-02 21:44:53 (running for 00:18:28.74)<br>Memory usage on this node: 11.7/16.0 GiB<br>Using AsyncHyperBand: num_stopped=2\n",
       "Bracket: Iter 512.000: None | Iter 256.000: None | Iter 128.000: None | Iter 64.000: None | Iter 32.000: None | Iter 16.000: None | Iter 8.000: 0.61495 | Iter 4.000: 0.5158 | Iter 2.000: 0.4266<br>Resources requested: 2.0/12 CPUs, 0/0 GPUs, 0.0/6.1 GiB heap, 0.0/3.05 GiB objects<br>Current best trial: 8eaae_00000 with mean_accuracy=0.6304 and parameters={'layer1_out': 6, 'layer2_out': 18, 'batch': 32, 'lr': 0.0008249470865456945, 'momentum': 0.8721267306546336}<br>Result logdir: /Users/peterchatain/ray_results/train_asha<br>Number of trials: 4/4 (2 RUNNING, 2 TERMINATED)<br><br>"
      ],
      "text/plain": [
       "<IPython.core.display.HTML object>"
      ]
     },
     "metadata": {},
     "output_type": "display_data"
    },
    {
     "data": {
      "text/html": [
       "== Status ==<br>Current time: 2021-12-02 21:44:58 (running for 00:18:33.80)<br>Memory usage on this node: 11.6/16.0 GiB<br>Using AsyncHyperBand: num_stopped=2\n",
       "Bracket: Iter 512.000: None | Iter 256.000: None | Iter 128.000: None | Iter 64.000: None | Iter 32.000: None | Iter 16.000: None | Iter 8.000: 0.61495 | Iter 4.000: 0.5158 | Iter 2.000: 0.4266<br>Resources requested: 2.0/12 CPUs, 0/0 GPUs, 0.0/6.1 GiB heap, 0.0/3.05 GiB objects<br>Current best trial: 8eaae_00000 with mean_accuracy=0.6304 and parameters={'layer1_out': 6, 'layer2_out': 18, 'batch': 32, 'lr': 0.0008249470865456945, 'momentum': 0.8721267306546336}<br>Result logdir: /Users/peterchatain/ray_results/train_asha<br>Number of trials: 4/4 (2 RUNNING, 2 TERMINATED)<br><br>"
      ],
      "text/plain": [
       "<IPython.core.display.HTML object>"
      ]
     },
     "metadata": {},
     "output_type": "display_data"
    },
    {
     "data": {
      "text/html": [
       "== Status ==<br>Current time: 2021-12-02 21:45:03 (running for 00:18:38.85)<br>Memory usage on this node: 11.5/16.0 GiB<br>Using AsyncHyperBand: num_stopped=2\n",
       "Bracket: Iter 512.000: None | Iter 256.000: None | Iter 128.000: None | Iter 64.000: None | Iter 32.000: None | Iter 16.000: None | Iter 8.000: 0.61495 | Iter 4.000: 0.5158 | Iter 2.000: 0.4266<br>Resources requested: 2.0/12 CPUs, 0/0 GPUs, 0.0/6.1 GiB heap, 0.0/3.05 GiB objects<br>Current best trial: 8eaae_00000 with mean_accuracy=0.6304 and parameters={'layer1_out': 6, 'layer2_out': 18, 'batch': 32, 'lr': 0.0008249470865456945, 'momentum': 0.8721267306546336}<br>Result logdir: /Users/peterchatain/ray_results/train_asha<br>Number of trials: 4/4 (2 RUNNING, 2 TERMINATED)<br><br>"
      ],
      "text/plain": [
       "<IPython.core.display.HTML object>"
      ]
     },
     "metadata": {},
     "output_type": "display_data"
    },
    {
     "data": {
      "text/html": [
       "== Status ==<br>Current time: 2021-12-02 21:45:08 (running for 00:18:43.91)<br>Memory usage on this node: 11.5/16.0 GiB<br>Using AsyncHyperBand: num_stopped=2\n",
       "Bracket: Iter 512.000: None | Iter 256.000: None | Iter 128.000: None | Iter 64.000: None | Iter 32.000: None | Iter 16.000: None | Iter 8.000: 0.61495 | Iter 4.000: 0.5158 | Iter 2.000: 0.4266<br>Resources requested: 2.0/12 CPUs, 0/0 GPUs, 0.0/6.1 GiB heap, 0.0/3.05 GiB objects<br>Current best trial: 8eaae_00000 with mean_accuracy=0.6304 and parameters={'layer1_out': 6, 'layer2_out': 18, 'batch': 32, 'lr': 0.0008249470865456945, 'momentum': 0.8721267306546336}<br>Result logdir: /Users/peterchatain/ray_results/train_asha<br>Number of trials: 4/4 (2 RUNNING, 2 TERMINATED)<br><br>"
      ],
      "text/plain": [
       "<IPython.core.display.HTML object>"
      ]
     },
     "metadata": {},
     "output_type": "display_data"
    },
    {
     "data": {
      "text/html": [
       "== Status ==<br>Current time: 2021-12-02 21:45:13 (running for 00:18:48.97)<br>Memory usage on this node: 11.5/16.0 GiB<br>Using AsyncHyperBand: num_stopped=2\n",
       "Bracket: Iter 512.000: None | Iter 256.000: None | Iter 128.000: None | Iter 64.000: None | Iter 32.000: None | Iter 16.000: None | Iter 8.000: 0.61495 | Iter 4.000: 0.5158 | Iter 2.000: 0.4266<br>Resources requested: 2.0/12 CPUs, 0/0 GPUs, 0.0/6.1 GiB heap, 0.0/3.05 GiB objects<br>Current best trial: 8eaae_00000 with mean_accuracy=0.6304 and parameters={'layer1_out': 6, 'layer2_out': 18, 'batch': 32, 'lr': 0.0008249470865456945, 'momentum': 0.8721267306546336}<br>Result logdir: /Users/peterchatain/ray_results/train_asha<br>Number of trials: 4/4 (2 RUNNING, 2 TERMINATED)<br><br>"
      ],
      "text/plain": [
       "<IPython.core.display.HTML object>"
      ]
     },
     "metadata": {},
     "output_type": "display_data"
    },
    {
     "data": {
      "text/html": [
       "== Status ==<br>Current time: 2021-12-02 21:45:18 (running for 00:18:54.03)<br>Memory usage on this node: 11.0/16.0 GiB<br>Using AsyncHyperBand: num_stopped=2\n",
       "Bracket: Iter 512.000: None | Iter 256.000: None | Iter 128.000: None | Iter 64.000: None | Iter 32.000: None | Iter 16.000: None | Iter 8.000: 0.61495 | Iter 4.000: 0.5158 | Iter 2.000: 0.4266<br>Resources requested: 2.0/12 CPUs, 0/0 GPUs, 0.0/6.1 GiB heap, 0.0/3.05 GiB objects<br>Current best trial: 8eaae_00000 with mean_accuracy=0.6304 and parameters={'layer1_out': 6, 'layer2_out': 18, 'batch': 32, 'lr': 0.0008249470865456945, 'momentum': 0.8721267306546336}<br>Result logdir: /Users/peterchatain/ray_results/train_asha<br>Number of trials: 4/4 (2 RUNNING, 2 TERMINATED)<br><br>"
      ],
      "text/plain": [
       "<IPython.core.display.HTML object>"
      ]
     },
     "metadata": {},
     "output_type": "display_data"
    },
    {
     "data": {
      "text/html": [
       "== Status ==<br>Current time: 2021-12-02 21:45:23 (running for 00:18:59.08)<br>Memory usage on this node: 11.0/16.0 GiB<br>Using AsyncHyperBand: num_stopped=2\n",
       "Bracket: Iter 512.000: None | Iter 256.000: None | Iter 128.000: None | Iter 64.000: None | Iter 32.000: None | Iter 16.000: None | Iter 8.000: 0.61495 | Iter 4.000: 0.5158 | Iter 2.000: 0.4266<br>Resources requested: 2.0/12 CPUs, 0/0 GPUs, 0.0/6.1 GiB heap, 0.0/3.05 GiB objects<br>Current best trial: 8eaae_00000 with mean_accuracy=0.6304 and parameters={'layer1_out': 6, 'layer2_out': 18, 'batch': 32, 'lr': 0.0008249470865456945, 'momentum': 0.8721267306546336}<br>Result logdir: /Users/peterchatain/ray_results/train_asha<br>Number of trials: 4/4 (2 RUNNING, 2 TERMINATED)<br><br>"
      ],
      "text/plain": [
       "<IPython.core.display.HTML object>"
      ]
     },
     "metadata": {},
     "output_type": "display_data"
    },
    {
     "data": {
      "text/html": [
       "== Status ==<br>Current time: 2021-12-02 21:45:28 (running for 00:19:04.13)<br>Memory usage on this node: 11.1/16.0 GiB<br>Using AsyncHyperBand: num_stopped=2\n",
       "Bracket: Iter 512.000: None | Iter 256.000: None | Iter 128.000: None | Iter 64.000: None | Iter 32.000: None | Iter 16.000: None | Iter 8.000: 0.61495 | Iter 4.000: 0.5158 | Iter 2.000: 0.4266<br>Resources requested: 2.0/12 CPUs, 0/0 GPUs, 0.0/6.1 GiB heap, 0.0/3.05 GiB objects<br>Current best trial: 8eaae_00000 with mean_accuracy=0.6304 and parameters={'layer1_out': 6, 'layer2_out': 18, 'batch': 32, 'lr': 0.0008249470865456945, 'momentum': 0.8721267306546336}<br>Result logdir: /Users/peterchatain/ray_results/train_asha<br>Number of trials: 4/4 (2 RUNNING, 2 TERMINATED)<br><br>"
      ],
      "text/plain": [
       "<IPython.core.display.HTML object>"
      ]
     },
     "metadata": {},
     "output_type": "display_data"
    },
    {
     "data": {
      "text/html": [
       "== Status ==<br>Current time: 2021-12-02 21:45:33 (running for 00:19:09.17)<br>Memory usage on this node: 11.2/16.0 GiB<br>Using AsyncHyperBand: num_stopped=2\n",
       "Bracket: Iter 512.000: None | Iter 256.000: None | Iter 128.000: None | Iter 64.000: None | Iter 32.000: None | Iter 16.000: None | Iter 8.000: 0.61495 | Iter 4.000: 0.5158 | Iter 2.000: 0.4266<br>Resources requested: 2.0/12 CPUs, 0/0 GPUs, 0.0/6.1 GiB heap, 0.0/3.05 GiB objects<br>Current best trial: 8eaae_00000 with mean_accuracy=0.6304 and parameters={'layer1_out': 6, 'layer2_out': 18, 'batch': 32, 'lr': 0.0008249470865456945, 'momentum': 0.8721267306546336}<br>Result logdir: /Users/peterchatain/ray_results/train_asha<br>Number of trials: 4/4 (2 RUNNING, 2 TERMINATED)<br><br>"
      ],
      "text/plain": [
       "<IPython.core.display.HTML object>"
      ]
     },
     "metadata": {},
     "output_type": "display_data"
    },
    {
     "data": {
      "text/html": [
       "== Status ==<br>Current time: 2021-12-02 21:45:38 (running for 00:19:14.21)<br>Memory usage on this node: 11.2/16.0 GiB<br>Using AsyncHyperBand: num_stopped=2\n",
       "Bracket: Iter 512.000: None | Iter 256.000: None | Iter 128.000: None | Iter 64.000: None | Iter 32.000: None | Iter 16.000: None | Iter 8.000: 0.61495 | Iter 4.000: 0.5158 | Iter 2.000: 0.4266<br>Resources requested: 2.0/12 CPUs, 0/0 GPUs, 0.0/6.1 GiB heap, 0.0/3.05 GiB objects<br>Current best trial: 8eaae_00000 with mean_accuracy=0.6304 and parameters={'layer1_out': 6, 'layer2_out': 18, 'batch': 32, 'lr': 0.0008249470865456945, 'momentum': 0.8721267306546336}<br>Result logdir: /Users/peterchatain/ray_results/train_asha<br>Number of trials: 4/4 (2 RUNNING, 2 TERMINATED)<br><br>"
      ],
      "text/plain": [
       "<IPython.core.display.HTML object>"
      ]
     },
     "metadata": {},
     "output_type": "display_data"
    },
    {
     "data": {
      "text/html": [
       "== Status ==<br>Current time: 2021-12-02 21:45:49 (running for 00:19:24.52)<br>Memory usage on this node: 11.2/16.0 GiB<br>Using AsyncHyperBand: num_stopped=2\n",
       "Bracket: Iter 512.000: None | Iter 256.000: None | Iter 128.000: None | Iter 64.000: None | Iter 32.000: None | Iter 16.000: None | Iter 8.000: 0.61495 | Iter 4.000: 0.5158 | Iter 2.000: 0.4266<br>Resources requested: 2.0/12 CPUs, 0/0 GPUs, 0.0/6.1 GiB heap, 0.0/3.05 GiB objects<br>Current best trial: 8eaae_00000 with mean_accuracy=0.6304 and parameters={'layer1_out': 6, 'layer2_out': 18, 'batch': 32, 'lr': 0.0008249470865456945, 'momentum': 0.8721267306546336}<br>Result logdir: /Users/peterchatain/ray_results/train_asha<br>Number of trials: 4/4 (2 RUNNING, 2 TERMINATED)<br><br>"
      ],
      "text/plain": [
       "<IPython.core.display.HTML object>"
      ]
     },
     "metadata": {},
     "output_type": "display_data"
    },
    {
     "data": {
      "text/html": [
       "== Status ==<br>Current time: 2021-12-02 21:45:54 (running for 00:19:29.58)<br>Memory usage on this node: 10.8/16.0 GiB<br>Using AsyncHyperBand: num_stopped=2\n",
       "Bracket: Iter 512.000: None | Iter 256.000: None | Iter 128.000: None | Iter 64.000: None | Iter 32.000: None | Iter 16.000: None | Iter 8.000: 0.61495 | Iter 4.000: 0.5158 | Iter 2.000: 0.4266<br>Resources requested: 2.0/12 CPUs, 0/0 GPUs, 0.0/6.1 GiB heap, 0.0/3.05 GiB objects<br>Current best trial: 8eaae_00000 with mean_accuracy=0.6304 and parameters={'layer1_out': 6, 'layer2_out': 18, 'batch': 32, 'lr': 0.0008249470865456945, 'momentum': 0.8721267306546336}<br>Result logdir: /Users/peterchatain/ray_results/train_asha<br>Number of trials: 4/4 (2 RUNNING, 2 TERMINATED)<br><br>"
      ],
      "text/plain": [
       "<IPython.core.display.HTML object>"
      ]
     },
     "metadata": {},
     "output_type": "display_data"
    },
    {
     "data": {
      "text/html": [
       "== Status ==<br>Current time: 2021-12-02 21:45:59 (running for 00:19:34.62)<br>Memory usage on this node: 10.8/16.0 GiB<br>Using AsyncHyperBand: num_stopped=2\n",
       "Bracket: Iter 512.000: None | Iter 256.000: None | Iter 128.000: None | Iter 64.000: None | Iter 32.000: None | Iter 16.000: None | Iter 8.000: 0.61495 | Iter 4.000: 0.5158 | Iter 2.000: 0.4266<br>Resources requested: 2.0/12 CPUs, 0/0 GPUs, 0.0/6.1 GiB heap, 0.0/3.05 GiB objects<br>Current best trial: 8eaae_00000 with mean_accuracy=0.6304 and parameters={'layer1_out': 6, 'layer2_out': 18, 'batch': 32, 'lr': 0.0008249470865456945, 'momentum': 0.8721267306546336}<br>Result logdir: /Users/peterchatain/ray_results/train_asha<br>Number of trials: 4/4 (2 RUNNING, 2 TERMINATED)<br><br>"
      ],
      "text/plain": [
       "<IPython.core.display.HTML object>"
      ]
     },
     "metadata": {},
     "output_type": "display_data"
    },
    {
     "name": "stdout",
     "output_type": "stream",
     "text": [
      "Trial train_eval_model_8eaae_00002 reported mean_accuracy=0.63 with parameters={'layer1_out': 7, 'layer2_out': 14, 'batch': 64, 'lr': 0.0054551087797274755, 'momentum': 0.8893105126910178}.\n"
     ]
    },
    {
     "data": {
      "text/html": [
       "== Status ==<br>Current time: 2021-12-02 21:46:04 (running for 00:19:39.99)<br>Memory usage on this node: 11.0/16.0 GiB<br>Using AsyncHyperBand: num_stopped=2\n",
       "Bracket: Iter 512.000: None | Iter 256.000: None | Iter 128.000: None | Iter 64.000: None | Iter 32.000: None | Iter 16.000: None | Iter 8.000: 0.61495 | Iter 4.000: 0.5158 | Iter 2.000: 0.4266<br>Resources requested: 2.0/12 CPUs, 0/0 GPUs, 0.0/6.1 GiB heap, 0.0/3.05 GiB objects<br>Current best trial: 8eaae_00000 with mean_accuracy=0.6304 and parameters={'layer1_out': 6, 'layer2_out': 18, 'batch': 32, 'lr': 0.0008249470865456945, 'momentum': 0.8721267306546336}<br>Result logdir: /Users/peterchatain/ray_results/train_asha<br>Number of trials: 4/4 (2 RUNNING, 2 TERMINATED)<br><br>"
      ],
      "text/plain": [
       "<IPython.core.display.HTML object>"
      ]
     },
     "metadata": {},
     "output_type": "display_data"
    },
    {
     "data": {
      "text/html": [
       "== Status ==<br>Current time: 2021-12-02 21:46:09 (running for 00:19:45.04)<br>Memory usage on this node: 11.1/16.0 GiB<br>Using AsyncHyperBand: num_stopped=2\n",
       "Bracket: Iter 512.000: None | Iter 256.000: None | Iter 128.000: None | Iter 64.000: None | Iter 32.000: None | Iter 16.000: None | Iter 8.000: 0.61495 | Iter 4.000: 0.5158 | Iter 2.000: 0.4266<br>Resources requested: 2.0/12 CPUs, 0/0 GPUs, 0.0/6.1 GiB heap, 0.0/3.05 GiB objects<br>Current best trial: 8eaae_00000 with mean_accuracy=0.6304 and parameters={'layer1_out': 6, 'layer2_out': 18, 'batch': 32, 'lr': 0.0008249470865456945, 'momentum': 0.8721267306546336}<br>Result logdir: /Users/peterchatain/ray_results/train_asha<br>Number of trials: 4/4 (2 RUNNING, 2 TERMINATED)<br><br>"
      ],
      "text/plain": [
       "<IPython.core.display.HTML object>"
      ]
     },
     "metadata": {},
     "output_type": "display_data"
    },
    {
     "data": {
      "text/html": [
       "== Status ==<br>Current time: 2021-12-02 21:46:23 (running for 00:19:58.52)<br>Memory usage on this node: 11.2/16.0 GiB<br>Using AsyncHyperBand: num_stopped=2\n",
       "Bracket: Iter 512.000: None | Iter 256.000: None | Iter 128.000: None | Iter 64.000: None | Iter 32.000: None | Iter 16.000: None | Iter 8.000: 0.61495 | Iter 4.000: 0.5158 | Iter 2.000: 0.4266<br>Resources requested: 2.0/12 CPUs, 0/0 GPUs, 0.0/6.1 GiB heap, 0.0/3.05 GiB objects<br>Current best trial: 8eaae_00000 with mean_accuracy=0.6304 and parameters={'layer1_out': 6, 'layer2_out': 18, 'batch': 32, 'lr': 0.0008249470865456945, 'momentum': 0.8721267306546336}<br>Result logdir: /Users/peterchatain/ray_results/train_asha<br>Number of trials: 4/4 (2 RUNNING, 2 TERMINATED)<br><br>"
      ],
      "text/plain": [
       "<IPython.core.display.HTML object>"
      ]
     },
     "metadata": {},
     "output_type": "display_data"
    },
    {
     "data": {
      "text/html": [
       "== Status ==<br>Current time: 2021-12-02 21:46:28 (running for 00:20:03.56)<br>Memory usage on this node: 11.5/16.0 GiB<br>Using AsyncHyperBand: num_stopped=2\n",
       "Bracket: Iter 512.000: None | Iter 256.000: None | Iter 128.000: None | Iter 64.000: None | Iter 32.000: None | Iter 16.000: None | Iter 8.000: 0.61495 | Iter 4.000: 0.5158 | Iter 2.000: 0.4266<br>Resources requested: 2.0/12 CPUs, 0/0 GPUs, 0.0/6.1 GiB heap, 0.0/3.05 GiB objects<br>Current best trial: 8eaae_00000 with mean_accuracy=0.6304 and parameters={'layer1_out': 6, 'layer2_out': 18, 'batch': 32, 'lr': 0.0008249470865456945, 'momentum': 0.8721267306546336}<br>Result logdir: /Users/peterchatain/ray_results/train_asha<br>Number of trials: 4/4 (2 RUNNING, 2 TERMINATED)<br><br>"
      ],
      "text/plain": [
       "<IPython.core.display.HTML object>"
      ]
     },
     "metadata": {},
     "output_type": "display_data"
    },
    {
     "data": {
      "text/html": [
       "== Status ==<br>Current time: 2021-12-02 21:46:33 (running for 00:20:08.64)<br>Memory usage on this node: 11.8/16.0 GiB<br>Using AsyncHyperBand: num_stopped=2\n",
       "Bracket: Iter 512.000: None | Iter 256.000: None | Iter 128.000: None | Iter 64.000: None | Iter 32.000: None | Iter 16.000: None | Iter 8.000: 0.61495 | Iter 4.000: 0.5158 | Iter 2.000: 0.4266<br>Resources requested: 2.0/12 CPUs, 0/0 GPUs, 0.0/6.1 GiB heap, 0.0/3.05 GiB objects<br>Current best trial: 8eaae_00000 with mean_accuracy=0.6304 and parameters={'layer1_out': 6, 'layer2_out': 18, 'batch': 32, 'lr': 0.0008249470865456945, 'momentum': 0.8721267306546336}<br>Result logdir: /Users/peterchatain/ray_results/train_asha<br>Number of trials: 4/4 (2 RUNNING, 2 TERMINATED)<br><br>"
      ],
      "text/plain": [
       "<IPython.core.display.HTML object>"
      ]
     },
     "metadata": {},
     "output_type": "display_data"
    },
    {
     "name": "stdout",
     "output_type": "stream",
     "text": [
      "Trial train_eval_model_8eaae_00000 reported mean_accuracy=0.62 with parameters={'layer1_out': 6, 'layer2_out': 18, 'batch': 32, 'lr': 0.0008249470865456945, 'momentum': 0.8721267306546336}.\n"
     ]
    },
    {
     "data": {
      "text/html": [
       "== Status ==<br>Current time: 2021-12-02 21:46:39 (running for 00:20:14.54)<br>Memory usage on this node: 11.7/16.0 GiB<br>Using AsyncHyperBand: num_stopped=2\n",
       "Bracket: Iter 512.000: None | Iter 256.000: None | Iter 128.000: None | Iter 64.000: None | Iter 32.000: None | Iter 16.000: None | Iter 8.000: 0.61495 | Iter 4.000: 0.5158 | Iter 2.000: 0.4266<br>Resources requested: 2.0/12 CPUs, 0/0 GPUs, 0.0/6.1 GiB heap, 0.0/3.05 GiB objects<br>Current best trial: 8eaae_00002 with mean_accuracy=0.6268 and parameters={'layer1_out': 7, 'layer2_out': 14, 'batch': 64, 'lr': 0.0054551087797274755, 'momentum': 0.8893105126910178}<br>Result logdir: /Users/peterchatain/ray_results/train_asha<br>Number of trials: 4/4 (2 RUNNING, 2 TERMINATED)<br><br>"
      ],
      "text/plain": [
       "<IPython.core.display.HTML object>"
      ]
     },
     "metadata": {},
     "output_type": "display_data"
    },
    {
     "data": {
      "text/html": [
       "== Status ==<br>Current time: 2021-12-02 21:46:44 (running for 00:20:19.56)<br>Memory usage on this node: 11.5/16.0 GiB<br>Using AsyncHyperBand: num_stopped=2\n",
       "Bracket: Iter 512.000: None | Iter 256.000: None | Iter 128.000: None | Iter 64.000: None | Iter 32.000: None | Iter 16.000: None | Iter 8.000: 0.61495 | Iter 4.000: 0.5158 | Iter 2.000: 0.4266<br>Resources requested: 2.0/12 CPUs, 0/0 GPUs, 0.0/6.1 GiB heap, 0.0/3.05 GiB objects<br>Current best trial: 8eaae_00002 with mean_accuracy=0.6268 and parameters={'layer1_out': 7, 'layer2_out': 14, 'batch': 64, 'lr': 0.0054551087797274755, 'momentum': 0.8893105126910178}<br>Result logdir: /Users/peterchatain/ray_results/train_asha<br>Number of trials: 4/4 (2 RUNNING, 2 TERMINATED)<br><br>"
      ],
      "text/plain": [
       "<IPython.core.display.HTML object>"
      ]
     },
     "metadata": {},
     "output_type": "display_data"
    },
    {
     "data": {
      "text/html": [
       "== Status ==<br>Current time: 2021-12-02 21:46:49 (running for 00:20:24.58)<br>Memory usage on this node: 11.6/16.0 GiB<br>Using AsyncHyperBand: num_stopped=2\n",
       "Bracket: Iter 512.000: None | Iter 256.000: None | Iter 128.000: None | Iter 64.000: None | Iter 32.000: None | Iter 16.000: None | Iter 8.000: 0.61495 | Iter 4.000: 0.5158 | Iter 2.000: 0.4266<br>Resources requested: 2.0/12 CPUs, 0/0 GPUs, 0.0/6.1 GiB heap, 0.0/3.05 GiB objects<br>Current best trial: 8eaae_00002 with mean_accuracy=0.6268 and parameters={'layer1_out': 7, 'layer2_out': 14, 'batch': 64, 'lr': 0.0054551087797274755, 'momentum': 0.8893105126910178}<br>Result logdir: /Users/peterchatain/ray_results/train_asha<br>Number of trials: 4/4 (2 RUNNING, 2 TERMINATED)<br><br>"
      ],
      "text/plain": [
       "<IPython.core.display.HTML object>"
      ]
     },
     "metadata": {},
     "output_type": "display_data"
    },
    {
     "data": {
      "text/html": [
       "== Status ==<br>Current time: 2021-12-02 21:46:54 (running for 00:20:29.60)<br>Memory usage on this node: 11.2/16.0 GiB<br>Using AsyncHyperBand: num_stopped=2\n",
       "Bracket: Iter 512.000: None | Iter 256.000: None | Iter 128.000: None | Iter 64.000: None | Iter 32.000: None | Iter 16.000: None | Iter 8.000: 0.61495 | Iter 4.000: 0.5158 | Iter 2.000: 0.4266<br>Resources requested: 2.0/12 CPUs, 0/0 GPUs, 0.0/6.1 GiB heap, 0.0/3.05 GiB objects<br>Current best trial: 8eaae_00002 with mean_accuracy=0.6268 and parameters={'layer1_out': 7, 'layer2_out': 14, 'batch': 64, 'lr': 0.0054551087797274755, 'momentum': 0.8893105126910178}<br>Result logdir: /Users/peterchatain/ray_results/train_asha<br>Number of trials: 4/4 (2 RUNNING, 2 TERMINATED)<br><br>"
      ],
      "text/plain": [
       "<IPython.core.display.HTML object>"
      ]
     },
     "metadata": {},
     "output_type": "display_data"
    },
    {
     "data": {
      "text/html": [
       "== Status ==<br>Current time: 2021-12-02 21:46:59 (running for 00:20:34.63)<br>Memory usage on this node: 11.3/16.0 GiB<br>Using AsyncHyperBand: num_stopped=2\n",
       "Bracket: Iter 512.000: None | Iter 256.000: None | Iter 128.000: None | Iter 64.000: None | Iter 32.000: None | Iter 16.000: None | Iter 8.000: 0.61495 | Iter 4.000: 0.5158 | Iter 2.000: 0.4266<br>Resources requested: 2.0/12 CPUs, 0/0 GPUs, 0.0/6.1 GiB heap, 0.0/3.05 GiB objects<br>Current best trial: 8eaae_00002 with mean_accuracy=0.6268 and parameters={'layer1_out': 7, 'layer2_out': 14, 'batch': 64, 'lr': 0.0054551087797274755, 'momentum': 0.8893105126910178}<br>Result logdir: /Users/peterchatain/ray_results/train_asha<br>Number of trials: 4/4 (2 RUNNING, 2 TERMINATED)<br><br>"
      ],
      "text/plain": [
       "<IPython.core.display.HTML object>"
      ]
     },
     "metadata": {},
     "output_type": "display_data"
    },
    {
     "data": {
      "text/html": [
       "== Status ==<br>Current time: 2021-12-02 21:47:04 (running for 00:20:39.65)<br>Memory usage on this node: 11.4/16.0 GiB<br>Using AsyncHyperBand: num_stopped=2\n",
       "Bracket: Iter 512.000: None | Iter 256.000: None | Iter 128.000: None | Iter 64.000: None | Iter 32.000: None | Iter 16.000: None | Iter 8.000: 0.61495 | Iter 4.000: 0.5158 | Iter 2.000: 0.4266<br>Resources requested: 2.0/12 CPUs, 0/0 GPUs, 0.0/6.1 GiB heap, 0.0/3.05 GiB objects<br>Current best trial: 8eaae_00002 with mean_accuracy=0.6268 and parameters={'layer1_out': 7, 'layer2_out': 14, 'batch': 64, 'lr': 0.0054551087797274755, 'momentum': 0.8893105126910178}<br>Result logdir: /Users/peterchatain/ray_results/train_asha<br>Number of trials: 4/4 (2 RUNNING, 2 TERMINATED)<br><br>"
      ],
      "text/plain": [
       "<IPython.core.display.HTML object>"
      ]
     },
     "metadata": {},
     "output_type": "display_data"
    },
    {
     "data": {
      "text/html": [
       "== Status ==<br>Current time: 2021-12-02 21:47:09 (running for 00:20:44.67)<br>Memory usage on this node: 11.4/16.0 GiB<br>Using AsyncHyperBand: num_stopped=2\n",
       "Bracket: Iter 512.000: None | Iter 256.000: None | Iter 128.000: None | Iter 64.000: None | Iter 32.000: None | Iter 16.000: None | Iter 8.000: 0.61495 | Iter 4.000: 0.5158 | Iter 2.000: 0.4266<br>Resources requested: 2.0/12 CPUs, 0/0 GPUs, 0.0/6.1 GiB heap, 0.0/3.05 GiB objects<br>Current best trial: 8eaae_00002 with mean_accuracy=0.6268 and parameters={'layer1_out': 7, 'layer2_out': 14, 'batch': 64, 'lr': 0.0054551087797274755, 'momentum': 0.8893105126910178}<br>Result logdir: /Users/peterchatain/ray_results/train_asha<br>Number of trials: 4/4 (2 RUNNING, 2 TERMINATED)<br><br>"
      ],
      "text/plain": [
       "<IPython.core.display.HTML object>"
      ]
     },
     "metadata": {},
     "output_type": "display_data"
    },
    {
     "data": {
      "text/html": [
       "== Status ==<br>Current time: 2021-12-02 21:47:14 (running for 00:20:49.69)<br>Memory usage on this node: 11.4/16.0 GiB<br>Using AsyncHyperBand: num_stopped=2\n",
       "Bracket: Iter 512.000: None | Iter 256.000: None | Iter 128.000: None | Iter 64.000: None | Iter 32.000: None | Iter 16.000: None | Iter 8.000: 0.61495 | Iter 4.000: 0.5158 | Iter 2.000: 0.4266<br>Resources requested: 2.0/12 CPUs, 0/0 GPUs, 0.0/6.1 GiB heap, 0.0/3.05 GiB objects<br>Current best trial: 8eaae_00002 with mean_accuracy=0.6268 and parameters={'layer1_out': 7, 'layer2_out': 14, 'batch': 64, 'lr': 0.0054551087797274755, 'momentum': 0.8893105126910178}<br>Result logdir: /Users/peterchatain/ray_results/train_asha<br>Number of trials: 4/4 (2 RUNNING, 2 TERMINATED)<br><br>"
      ],
      "text/plain": [
       "<IPython.core.display.HTML object>"
      ]
     },
     "metadata": {},
     "output_type": "display_data"
    },
    {
     "data": {
      "text/html": [
       "== Status ==<br>Current time: 2021-12-02 21:47:19 (running for 00:20:54.71)<br>Memory usage on this node: 11.1/16.0 GiB<br>Using AsyncHyperBand: num_stopped=2\n",
       "Bracket: Iter 512.000: None | Iter 256.000: None | Iter 128.000: None | Iter 64.000: None | Iter 32.000: None | Iter 16.000: None | Iter 8.000: 0.61495 | Iter 4.000: 0.5158 | Iter 2.000: 0.4266<br>Resources requested: 2.0/12 CPUs, 0/0 GPUs, 0.0/6.1 GiB heap, 0.0/3.05 GiB objects<br>Current best trial: 8eaae_00002 with mean_accuracy=0.6268 and parameters={'layer1_out': 7, 'layer2_out': 14, 'batch': 64, 'lr': 0.0054551087797274755, 'momentum': 0.8893105126910178}<br>Result logdir: /Users/peterchatain/ray_results/train_asha<br>Number of trials: 4/4 (2 RUNNING, 2 TERMINATED)<br><br>"
      ],
      "text/plain": [
       "<IPython.core.display.HTML object>"
      ]
     },
     "metadata": {},
     "output_type": "display_data"
    },
    {
     "data": {
      "text/html": [
       "== Status ==<br>Current time: 2021-12-02 21:47:24 (running for 00:20:59.74)<br>Memory usage on this node: 11.1/16.0 GiB<br>Using AsyncHyperBand: num_stopped=2\n",
       "Bracket: Iter 512.000: None | Iter 256.000: None | Iter 128.000: None | Iter 64.000: None | Iter 32.000: None | Iter 16.000: None | Iter 8.000: 0.61495 | Iter 4.000: 0.5158 | Iter 2.000: 0.4266<br>Resources requested: 2.0/12 CPUs, 0/0 GPUs, 0.0/6.1 GiB heap, 0.0/3.05 GiB objects<br>Current best trial: 8eaae_00002 with mean_accuracy=0.6268 and parameters={'layer1_out': 7, 'layer2_out': 14, 'batch': 64, 'lr': 0.0054551087797274755, 'momentum': 0.8893105126910178}<br>Result logdir: /Users/peterchatain/ray_results/train_asha<br>Number of trials: 4/4 (2 RUNNING, 2 TERMINATED)<br><br>"
      ],
      "text/plain": [
       "<IPython.core.display.HTML object>"
      ]
     },
     "metadata": {},
     "output_type": "display_data"
    },
    {
     "name": "stdout",
     "output_type": "stream",
     "text": [
      "Trial train_eval_model_8eaae_00002 reported mean_accuracy=0.62 with parameters={'layer1_out': 7, 'layer2_out': 14, 'batch': 64, 'lr': 0.0054551087797274755, 'momentum': 0.8893105126910178}.\n"
     ]
    },
    {
     "data": {
      "text/html": [
       "== Status ==<br>Current time: 2021-12-02 21:47:29 (running for 00:21:05.22)<br>Memory usage on this node: 11.4/16.0 GiB<br>Using AsyncHyperBand: num_stopped=2\n",
       "Bracket: Iter 512.000: None | Iter 256.000: None | Iter 128.000: None | Iter 64.000: None | Iter 32.000: None | Iter 16.000: 0.6195 | Iter 8.000: 0.61495 | Iter 4.000: 0.5158 | Iter 2.000: 0.4266<br>Resources requested: 2.0/12 CPUs, 0/0 GPUs, 0.0/6.1 GiB heap, 0.0/3.05 GiB objects<br>Current best trial: 8eaae_00000 with mean_accuracy=0.6235 and parameters={'layer1_out': 6, 'layer2_out': 18, 'batch': 32, 'lr': 0.0008249470865456945, 'momentum': 0.8721267306546336}<br>Result logdir: /Users/peterchatain/ray_results/train_asha<br>Number of trials: 4/4 (2 RUNNING, 2 TERMINATED)<br><br>"
      ],
      "text/plain": [
       "<IPython.core.display.HTML object>"
      ]
     },
     "metadata": {},
     "output_type": "display_data"
    },
    {
     "data": {
      "text/html": [
       "== Status ==<br>Current time: 2021-12-02 21:47:34 (running for 00:21:10.25)<br>Memory usage on this node: 11.4/16.0 GiB<br>Using AsyncHyperBand: num_stopped=2\n",
       "Bracket: Iter 512.000: None | Iter 256.000: None | Iter 128.000: None | Iter 64.000: None | Iter 32.000: None | Iter 16.000: 0.6195 | Iter 8.000: 0.61495 | Iter 4.000: 0.5158 | Iter 2.000: 0.4266<br>Resources requested: 2.0/12 CPUs, 0/0 GPUs, 0.0/6.1 GiB heap, 0.0/3.05 GiB objects<br>Current best trial: 8eaae_00000 with mean_accuracy=0.6235 and parameters={'layer1_out': 6, 'layer2_out': 18, 'batch': 32, 'lr': 0.0008249470865456945, 'momentum': 0.8721267306546336}<br>Result logdir: /Users/peterchatain/ray_results/train_asha<br>Number of trials: 4/4 (2 RUNNING, 2 TERMINATED)<br><br>"
      ],
      "text/plain": [
       "<IPython.core.display.HTML object>"
      ]
     },
     "metadata": {},
     "output_type": "display_data"
    },
    {
     "data": {
      "text/html": [
       "== Status ==<br>Current time: 2021-12-02 21:47:39 (running for 00:21:15.27)<br>Memory usage on this node: 11.4/16.0 GiB<br>Using AsyncHyperBand: num_stopped=2\n",
       "Bracket: Iter 512.000: None | Iter 256.000: None | Iter 128.000: None | Iter 64.000: None | Iter 32.000: None | Iter 16.000: 0.6195 | Iter 8.000: 0.61495 | Iter 4.000: 0.5158 | Iter 2.000: 0.4266<br>Resources requested: 2.0/12 CPUs, 0/0 GPUs, 0.0/6.1 GiB heap, 0.0/3.05 GiB objects<br>Current best trial: 8eaae_00000 with mean_accuracy=0.6235 and parameters={'layer1_out': 6, 'layer2_out': 18, 'batch': 32, 'lr': 0.0008249470865456945, 'momentum': 0.8721267306546336}<br>Result logdir: /Users/peterchatain/ray_results/train_asha<br>Number of trials: 4/4 (2 RUNNING, 2 TERMINATED)<br><br>"
      ],
      "text/plain": [
       "<IPython.core.display.HTML object>"
      ]
     },
     "metadata": {},
     "output_type": "display_data"
    },
    {
     "name": "stdout",
     "output_type": "stream",
     "text": [
      "Trial train_eval_model_8eaae_00000 reported mean_accuracy=0.63 with parameters={'layer1_out': 6, 'layer2_out': 18, 'batch': 32, 'lr': 0.0008249470865456945, 'momentum': 0.8721267306546336}.\n"
     ]
    },
    {
     "data": {
      "text/html": [
       "== Status ==<br>Current time: 2021-12-02 21:47:45 (running for 00:21:20.71)<br>Memory usage on this node: 11.4/16.0 GiB<br>Using AsyncHyperBand: num_stopped=2\n",
       "Bracket: Iter 512.000: None | Iter 256.000: None | Iter 128.000: None | Iter 64.000: None | Iter 32.000: None | Iter 16.000: 0.6233 | Iter 8.000: 0.61495 | Iter 4.000: 0.5158 | Iter 2.000: 0.4266<br>Resources requested: 2.0/12 CPUs, 0/0 GPUs, 0.0/6.1 GiB heap, 0.0/3.05 GiB objects<br>Current best trial: 8eaae_00000 with mean_accuracy=0.6271 and parameters={'layer1_out': 6, 'layer2_out': 18, 'batch': 32, 'lr': 0.0008249470865456945, 'momentum': 0.8721267306546336}<br>Result logdir: /Users/peterchatain/ray_results/train_asha<br>Number of trials: 4/4 (2 RUNNING, 2 TERMINATED)<br><br>"
      ],
      "text/plain": [
       "<IPython.core.display.HTML object>"
      ]
     },
     "metadata": {},
     "output_type": "display_data"
    },
    {
     "data": {
      "text/html": [
       "== Status ==<br>Current time: 2021-12-02 21:47:50 (running for 00:21:25.73)<br>Memory usage on this node: 11.4/16.0 GiB<br>Using AsyncHyperBand: num_stopped=2\n",
       "Bracket: Iter 512.000: None | Iter 256.000: None | Iter 128.000: None | Iter 64.000: None | Iter 32.000: None | Iter 16.000: 0.6233 | Iter 8.000: 0.61495 | Iter 4.000: 0.5158 | Iter 2.000: 0.4266<br>Resources requested: 2.0/12 CPUs, 0/0 GPUs, 0.0/6.1 GiB heap, 0.0/3.05 GiB objects<br>Current best trial: 8eaae_00000 with mean_accuracy=0.6271 and parameters={'layer1_out': 6, 'layer2_out': 18, 'batch': 32, 'lr': 0.0008249470865456945, 'momentum': 0.8721267306546336}<br>Result logdir: /Users/peterchatain/ray_results/train_asha<br>Number of trials: 4/4 (2 RUNNING, 2 TERMINATED)<br><br>"
      ],
      "text/plain": [
       "<IPython.core.display.HTML object>"
      ]
     },
     "metadata": {},
     "output_type": "display_data"
    },
    {
     "data": {
      "text/html": [
       "== Status ==<br>Current time: 2021-12-02 21:47:55 (running for 00:21:30.75)<br>Memory usage on this node: 11.2/16.0 GiB<br>Using AsyncHyperBand: num_stopped=2\n",
       "Bracket: Iter 512.000: None | Iter 256.000: None | Iter 128.000: None | Iter 64.000: None | Iter 32.000: None | Iter 16.000: 0.6233 | Iter 8.000: 0.61495 | Iter 4.000: 0.5158 | Iter 2.000: 0.4266<br>Resources requested: 2.0/12 CPUs, 0/0 GPUs, 0.0/6.1 GiB heap, 0.0/3.05 GiB objects<br>Current best trial: 8eaae_00000 with mean_accuracy=0.6271 and parameters={'layer1_out': 6, 'layer2_out': 18, 'batch': 32, 'lr': 0.0008249470865456945, 'momentum': 0.8721267306546336}<br>Result logdir: /Users/peterchatain/ray_results/train_asha<br>Number of trials: 4/4 (2 RUNNING, 2 TERMINATED)<br><br>"
      ],
      "text/plain": [
       "<IPython.core.display.HTML object>"
      ]
     },
     "metadata": {},
     "output_type": "display_data"
    },
    {
     "data": {
      "text/html": [
       "== Status ==<br>Current time: 2021-12-02 21:48:00 (running for 00:21:35.76)<br>Memory usage on this node: 11.3/16.0 GiB<br>Using AsyncHyperBand: num_stopped=2\n",
       "Bracket: Iter 512.000: None | Iter 256.000: None | Iter 128.000: None | Iter 64.000: None | Iter 32.000: None | Iter 16.000: 0.6233 | Iter 8.000: 0.61495 | Iter 4.000: 0.5158 | Iter 2.000: 0.4266<br>Resources requested: 2.0/12 CPUs, 0/0 GPUs, 0.0/6.1 GiB heap, 0.0/3.05 GiB objects<br>Current best trial: 8eaae_00000 with mean_accuracy=0.6271 and parameters={'layer1_out': 6, 'layer2_out': 18, 'batch': 32, 'lr': 0.0008249470865456945, 'momentum': 0.8721267306546336}<br>Result logdir: /Users/peterchatain/ray_results/train_asha<br>Number of trials: 4/4 (2 RUNNING, 2 TERMINATED)<br><br>"
      ],
      "text/plain": [
       "<IPython.core.display.HTML object>"
      ]
     },
     "metadata": {},
     "output_type": "display_data"
    },
    {
     "data": {
      "text/html": [
       "== Status ==<br>Current time: 2021-12-02 21:48:05 (running for 00:21:40.78)<br>Memory usage on this node: 11.1/16.0 GiB<br>Using AsyncHyperBand: num_stopped=2\n",
       "Bracket: Iter 512.000: None | Iter 256.000: None | Iter 128.000: None | Iter 64.000: None | Iter 32.000: None | Iter 16.000: 0.6233 | Iter 8.000: 0.61495 | Iter 4.000: 0.5158 | Iter 2.000: 0.4266<br>Resources requested: 2.0/12 CPUs, 0/0 GPUs, 0.0/6.1 GiB heap, 0.0/3.05 GiB objects<br>Current best trial: 8eaae_00000 with mean_accuracy=0.6271 and parameters={'layer1_out': 6, 'layer2_out': 18, 'batch': 32, 'lr': 0.0008249470865456945, 'momentum': 0.8721267306546336}<br>Result logdir: /Users/peterchatain/ray_results/train_asha<br>Number of trials: 4/4 (2 RUNNING, 2 TERMINATED)<br><br>"
      ],
      "text/plain": [
       "<IPython.core.display.HTML object>"
      ]
     },
     "metadata": {},
     "output_type": "display_data"
    },
    {
     "data": {
      "text/html": [
       "== Status ==<br>Current time: 2021-12-02 21:48:10 (running for 00:21:45.81)<br>Memory usage on this node: 11.3/16.0 GiB<br>Using AsyncHyperBand: num_stopped=2\n",
       "Bracket: Iter 512.000: None | Iter 256.000: None | Iter 128.000: None | Iter 64.000: None | Iter 32.000: None | Iter 16.000: 0.6233 | Iter 8.000: 0.61495 | Iter 4.000: 0.5158 | Iter 2.000: 0.4266<br>Resources requested: 2.0/12 CPUs, 0/0 GPUs, 0.0/6.1 GiB heap, 0.0/3.05 GiB objects<br>Current best trial: 8eaae_00000 with mean_accuracy=0.6271 and parameters={'layer1_out': 6, 'layer2_out': 18, 'batch': 32, 'lr': 0.0008249470865456945, 'momentum': 0.8721267306546336}<br>Result logdir: /Users/peterchatain/ray_results/train_asha<br>Number of trials: 4/4 (2 RUNNING, 2 TERMINATED)<br><br>"
      ],
      "text/plain": [
       "<IPython.core.display.HTML object>"
      ]
     },
     "metadata": {},
     "output_type": "display_data"
    },
    {
     "data": {
      "text/html": [
       "== Status ==<br>Current time: 2021-12-02 21:48:15 (running for 00:21:50.83)<br>Memory usage on this node: 11.4/16.0 GiB<br>Using AsyncHyperBand: num_stopped=2\n",
       "Bracket: Iter 512.000: None | Iter 256.000: None | Iter 128.000: None | Iter 64.000: None | Iter 32.000: None | Iter 16.000: 0.6233 | Iter 8.000: 0.61495 | Iter 4.000: 0.5158 | Iter 2.000: 0.4266<br>Resources requested: 2.0/12 CPUs, 0/0 GPUs, 0.0/6.1 GiB heap, 0.0/3.05 GiB objects<br>Current best trial: 8eaae_00000 with mean_accuracy=0.6271 and parameters={'layer1_out': 6, 'layer2_out': 18, 'batch': 32, 'lr': 0.0008249470865456945, 'momentum': 0.8721267306546336}<br>Result logdir: /Users/peterchatain/ray_results/train_asha<br>Number of trials: 4/4 (2 RUNNING, 2 TERMINATED)<br><br>"
      ],
      "text/plain": [
       "<IPython.core.display.HTML object>"
      ]
     },
     "metadata": {},
     "output_type": "display_data"
    },
    {
     "data": {
      "text/html": [
       "== Status ==<br>Current time: 2021-12-02 21:48:20 (running for 00:21:55.85)<br>Memory usage on this node: 11.1/16.0 GiB<br>Using AsyncHyperBand: num_stopped=2\n",
       "Bracket: Iter 512.000: None | Iter 256.000: None | Iter 128.000: None | Iter 64.000: None | Iter 32.000: None | Iter 16.000: 0.6233 | Iter 8.000: 0.61495 | Iter 4.000: 0.5158 | Iter 2.000: 0.4266<br>Resources requested: 2.0/12 CPUs, 0/0 GPUs, 0.0/6.1 GiB heap, 0.0/3.05 GiB objects<br>Current best trial: 8eaae_00000 with mean_accuracy=0.6271 and parameters={'layer1_out': 6, 'layer2_out': 18, 'batch': 32, 'lr': 0.0008249470865456945, 'momentum': 0.8721267306546336}<br>Result logdir: /Users/peterchatain/ray_results/train_asha<br>Number of trials: 4/4 (2 RUNNING, 2 TERMINATED)<br><br>"
      ],
      "text/plain": [
       "<IPython.core.display.HTML object>"
      ]
     },
     "metadata": {},
     "output_type": "display_data"
    },
    {
     "data": {
      "text/html": [
       "== Status ==<br>Current time: 2021-12-02 21:48:25 (running for 00:22:00.87)<br>Memory usage on this node: 11.1/16.0 GiB<br>Using AsyncHyperBand: num_stopped=2\n",
       "Bracket: Iter 512.000: None | Iter 256.000: None | Iter 128.000: None | Iter 64.000: None | Iter 32.000: None | Iter 16.000: 0.6233 | Iter 8.000: 0.61495 | Iter 4.000: 0.5158 | Iter 2.000: 0.4266<br>Resources requested: 2.0/12 CPUs, 0/0 GPUs, 0.0/6.1 GiB heap, 0.0/3.05 GiB objects<br>Current best trial: 8eaae_00000 with mean_accuracy=0.6271 and parameters={'layer1_out': 6, 'layer2_out': 18, 'batch': 32, 'lr': 0.0008249470865456945, 'momentum': 0.8721267306546336}<br>Result logdir: /Users/peterchatain/ray_results/train_asha<br>Number of trials: 4/4 (2 RUNNING, 2 TERMINATED)<br><br>"
      ],
      "text/plain": [
       "<IPython.core.display.HTML object>"
      ]
     },
     "metadata": {},
     "output_type": "display_data"
    },
    {
     "name": "stdout",
     "output_type": "stream",
     "text": [
      "Trial train_eval_model_8eaae_00002 reported mean_accuracy=0.62 with parameters={'layer1_out': 7, 'layer2_out': 14, 'batch': 64, 'lr': 0.0054551087797274755, 'momentum': 0.8893105126910178}.\n"
     ]
    },
    {
     "data": {
      "text/html": [
       "== Status ==<br>Current time: 2021-12-02 21:48:31 (running for 00:22:06.58)<br>Memory usage on this node: 11.4/16.0 GiB<br>Using AsyncHyperBand: num_stopped=2\n",
       "Bracket: Iter 512.000: None | Iter 256.000: None | Iter 128.000: None | Iter 64.000: None | Iter 32.000: None | Iter 16.000: 0.6233 | Iter 8.000: 0.61495 | Iter 4.000: 0.5158 | Iter 2.000: 0.4266<br>Resources requested: 2.0/12 CPUs, 0/0 GPUs, 0.0/6.1 GiB heap, 0.0/3.05 GiB objects<br>Current best trial: 8eaae_00000 with mean_accuracy=0.6271 and parameters={'layer1_out': 6, 'layer2_out': 18, 'batch': 32, 'lr': 0.0008249470865456945, 'momentum': 0.8721267306546336}<br>Result logdir: /Users/peterchatain/ray_results/train_asha<br>Number of trials: 4/4 (2 RUNNING, 2 TERMINATED)<br><br>"
      ],
      "text/plain": [
       "<IPython.core.display.HTML object>"
      ]
     },
     "metadata": {},
     "output_type": "display_data"
    },
    {
     "data": {
      "text/html": [
       "== Status ==<br>Current time: 2021-12-02 21:48:36 (running for 00:22:11.61)<br>Memory usage on this node: 11.4/16.0 GiB<br>Using AsyncHyperBand: num_stopped=2\n",
       "Bracket: Iter 512.000: None | Iter 256.000: None | Iter 128.000: None | Iter 64.000: None | Iter 32.000: None | Iter 16.000: 0.6233 | Iter 8.000: 0.61495 | Iter 4.000: 0.5158 | Iter 2.000: 0.4266<br>Resources requested: 2.0/12 CPUs, 0/0 GPUs, 0.0/6.1 GiB heap, 0.0/3.05 GiB objects<br>Current best trial: 8eaae_00000 with mean_accuracy=0.6271 and parameters={'layer1_out': 6, 'layer2_out': 18, 'batch': 32, 'lr': 0.0008249470865456945, 'momentum': 0.8721267306546336}<br>Result logdir: /Users/peterchatain/ray_results/train_asha<br>Number of trials: 4/4 (2 RUNNING, 2 TERMINATED)<br><br>"
      ],
      "text/plain": [
       "<IPython.core.display.HTML object>"
      ]
     },
     "metadata": {},
     "output_type": "display_data"
    },
    {
     "data": {
      "text/html": [
       "== Status ==<br>Current time: 2021-12-02 21:48:41 (running for 00:22:16.63)<br>Memory usage on this node: 11.2/16.0 GiB<br>Using AsyncHyperBand: num_stopped=2\n",
       "Bracket: Iter 512.000: None | Iter 256.000: None | Iter 128.000: None | Iter 64.000: None | Iter 32.000: None | Iter 16.000: 0.6233 | Iter 8.000: 0.61495 | Iter 4.000: 0.5158 | Iter 2.000: 0.4266<br>Resources requested: 2.0/12 CPUs, 0/0 GPUs, 0.0/6.1 GiB heap, 0.0/3.05 GiB objects<br>Current best trial: 8eaae_00000 with mean_accuracy=0.6271 and parameters={'layer1_out': 6, 'layer2_out': 18, 'batch': 32, 'lr': 0.0008249470865456945, 'momentum': 0.8721267306546336}<br>Result logdir: /Users/peterchatain/ray_results/train_asha<br>Number of trials: 4/4 (2 RUNNING, 2 TERMINATED)<br><br>"
      ],
      "text/plain": [
       "<IPython.core.display.HTML object>"
      ]
     },
     "metadata": {},
     "output_type": "display_data"
    },
    {
     "name": "stdout",
     "output_type": "stream",
     "text": [
      "Trial train_eval_model_8eaae_00000 reported mean_accuracy=0.62 with parameters={'layer1_out': 6, 'layer2_out': 18, 'batch': 32, 'lr': 0.0008249470865456945, 'momentum': 0.8721267306546336}.\n"
     ]
    },
    {
     "data": {
      "text/html": [
       "== Status ==<br>Current time: 2021-12-02 21:48:46 (running for 00:22:22.24)<br>Memory usage on this node: 11.5/16.0 GiB<br>Using AsyncHyperBand: num_stopped=2\n",
       "Bracket: Iter 512.000: None | Iter 256.000: None | Iter 128.000: None | Iter 64.000: None | Iter 32.000: None | Iter 16.000: 0.6233 | Iter 8.000: 0.61495 | Iter 4.000: 0.5158 | Iter 2.000: 0.4266<br>Resources requested: 2.0/12 CPUs, 0/0 GPUs, 0.0/6.1 GiB heap, 0.0/3.05 GiB objects<br>Current best trial: 8eaae_00002 with mean_accuracy=0.6219 and parameters={'layer1_out': 7, 'layer2_out': 14, 'batch': 64, 'lr': 0.0054551087797274755, 'momentum': 0.8893105126910178}<br>Result logdir: /Users/peterchatain/ray_results/train_asha<br>Number of trials: 4/4 (2 RUNNING, 2 TERMINATED)<br><br>"
      ],
      "text/plain": [
       "<IPython.core.display.HTML object>"
      ]
     },
     "metadata": {},
     "output_type": "display_data"
    },
    {
     "data": {
      "text/html": [
       "== Status ==<br>Current time: 2021-12-02 21:48:51 (running for 00:22:27.26)<br>Memory usage on this node: 11.6/16.0 GiB<br>Using AsyncHyperBand: num_stopped=2\n",
       "Bracket: Iter 512.000: None | Iter 256.000: None | Iter 128.000: None | Iter 64.000: None | Iter 32.000: None | Iter 16.000: 0.6233 | Iter 8.000: 0.61495 | Iter 4.000: 0.5158 | Iter 2.000: 0.4266<br>Resources requested: 2.0/12 CPUs, 0/0 GPUs, 0.0/6.1 GiB heap, 0.0/3.05 GiB objects<br>Current best trial: 8eaae_00002 with mean_accuracy=0.6219 and parameters={'layer1_out': 7, 'layer2_out': 14, 'batch': 64, 'lr': 0.0054551087797274755, 'momentum': 0.8893105126910178}<br>Result logdir: /Users/peterchatain/ray_results/train_asha<br>Number of trials: 4/4 (2 RUNNING, 2 TERMINATED)<br><br>"
      ],
      "text/plain": [
       "<IPython.core.display.HTML object>"
      ]
     },
     "metadata": {},
     "output_type": "display_data"
    },
    {
     "data": {
      "text/html": [
       "== Status ==<br>Current time: 2021-12-02 21:48:57 (running for 00:22:32.28)<br>Memory usage on this node: 11.2/16.0 GiB<br>Using AsyncHyperBand: num_stopped=2\n",
       "Bracket: Iter 512.000: None | Iter 256.000: None | Iter 128.000: None | Iter 64.000: None | Iter 32.000: None | Iter 16.000: 0.6233 | Iter 8.000: 0.61495 | Iter 4.000: 0.5158 | Iter 2.000: 0.4266<br>Resources requested: 2.0/12 CPUs, 0/0 GPUs, 0.0/6.1 GiB heap, 0.0/3.05 GiB objects<br>Current best trial: 8eaae_00002 with mean_accuracy=0.6219 and parameters={'layer1_out': 7, 'layer2_out': 14, 'batch': 64, 'lr': 0.0054551087797274755, 'momentum': 0.8893105126910178}<br>Result logdir: /Users/peterchatain/ray_results/train_asha<br>Number of trials: 4/4 (2 RUNNING, 2 TERMINATED)<br><br>"
      ],
      "text/plain": [
       "<IPython.core.display.HTML object>"
      ]
     },
     "metadata": {},
     "output_type": "display_data"
    },
    {
     "data": {
      "text/html": [
       "== Status ==<br>Current time: 2021-12-02 21:49:02 (running for 00:22:37.31)<br>Memory usage on this node: 11.4/16.0 GiB<br>Using AsyncHyperBand: num_stopped=2\n",
       "Bracket: Iter 512.000: None | Iter 256.000: None | Iter 128.000: None | Iter 64.000: None | Iter 32.000: None | Iter 16.000: 0.6233 | Iter 8.000: 0.61495 | Iter 4.000: 0.5158 | Iter 2.000: 0.4266<br>Resources requested: 2.0/12 CPUs, 0/0 GPUs, 0.0/6.1 GiB heap, 0.0/3.05 GiB objects<br>Current best trial: 8eaae_00002 with mean_accuracy=0.6219 and parameters={'layer1_out': 7, 'layer2_out': 14, 'batch': 64, 'lr': 0.0054551087797274755, 'momentum': 0.8893105126910178}<br>Result logdir: /Users/peterchatain/ray_results/train_asha<br>Number of trials: 4/4 (2 RUNNING, 2 TERMINATED)<br><br>"
      ],
      "text/plain": [
       "<IPython.core.display.HTML object>"
      ]
     },
     "metadata": {},
     "output_type": "display_data"
    },
    {
     "data": {
      "text/html": [
       "== Status ==<br>Current time: 2021-12-02 21:49:07 (running for 00:22:42.32)<br>Memory usage on this node: 11.3/16.0 GiB<br>Using AsyncHyperBand: num_stopped=2\n",
       "Bracket: Iter 512.000: None | Iter 256.000: None | Iter 128.000: None | Iter 64.000: None | Iter 32.000: None | Iter 16.000: 0.6233 | Iter 8.000: 0.61495 | Iter 4.000: 0.5158 | Iter 2.000: 0.4266<br>Resources requested: 2.0/12 CPUs, 0/0 GPUs, 0.0/6.1 GiB heap, 0.0/3.05 GiB objects<br>Current best trial: 8eaae_00002 with mean_accuracy=0.6219 and parameters={'layer1_out': 7, 'layer2_out': 14, 'batch': 64, 'lr': 0.0054551087797274755, 'momentum': 0.8893105126910178}<br>Result logdir: /Users/peterchatain/ray_results/train_asha<br>Number of trials: 4/4 (2 RUNNING, 2 TERMINATED)<br><br>"
      ],
      "text/plain": [
       "<IPython.core.display.HTML object>"
      ]
     },
     "metadata": {},
     "output_type": "display_data"
    },
    {
     "data": {
      "text/html": [
       "== Status ==<br>Current time: 2021-12-02 21:49:12 (running for 00:22:47.35)<br>Memory usage on this node: 11.5/16.0 GiB<br>Using AsyncHyperBand: num_stopped=2\n",
       "Bracket: Iter 512.000: None | Iter 256.000: None | Iter 128.000: None | Iter 64.000: None | Iter 32.000: None | Iter 16.000: 0.6233 | Iter 8.000: 0.61495 | Iter 4.000: 0.5158 | Iter 2.000: 0.4266<br>Resources requested: 2.0/12 CPUs, 0/0 GPUs, 0.0/6.1 GiB heap, 0.0/3.05 GiB objects<br>Current best trial: 8eaae_00002 with mean_accuracy=0.6219 and parameters={'layer1_out': 7, 'layer2_out': 14, 'batch': 64, 'lr': 0.0054551087797274755, 'momentum': 0.8893105126910178}<br>Result logdir: /Users/peterchatain/ray_results/train_asha<br>Number of trials: 4/4 (2 RUNNING, 2 TERMINATED)<br><br>"
      ],
      "text/plain": [
       "<IPython.core.display.HTML object>"
      ]
     },
     "metadata": {},
     "output_type": "display_data"
    },
    {
     "data": {
      "text/html": [
       "== Status ==<br>Current time: 2021-12-02 21:49:17 (running for 00:22:52.37)<br>Memory usage on this node: 11.5/16.0 GiB<br>Using AsyncHyperBand: num_stopped=2\n",
       "Bracket: Iter 512.000: None | Iter 256.000: None | Iter 128.000: None | Iter 64.000: None | Iter 32.000: None | Iter 16.000: 0.6233 | Iter 8.000: 0.61495 | Iter 4.000: 0.5158 | Iter 2.000: 0.4266<br>Resources requested: 2.0/12 CPUs, 0/0 GPUs, 0.0/6.1 GiB heap, 0.0/3.05 GiB objects<br>Current best trial: 8eaae_00002 with mean_accuracy=0.6219 and parameters={'layer1_out': 7, 'layer2_out': 14, 'batch': 64, 'lr': 0.0054551087797274755, 'momentum': 0.8893105126910178}<br>Result logdir: /Users/peterchatain/ray_results/train_asha<br>Number of trials: 4/4 (2 RUNNING, 2 TERMINATED)<br><br>"
      ],
      "text/plain": [
       "<IPython.core.display.HTML object>"
      ]
     },
     "metadata": {},
     "output_type": "display_data"
    },
    {
     "data": {
      "text/html": [
       "== Status ==<br>Current time: 2021-12-02 21:49:22 (running for 00:22:57.40)<br>Memory usage on this node: 11.2/16.0 GiB<br>Using AsyncHyperBand: num_stopped=2\n",
       "Bracket: Iter 512.000: None | Iter 256.000: None | Iter 128.000: None | Iter 64.000: None | Iter 32.000: None | Iter 16.000: 0.6233 | Iter 8.000: 0.61495 | Iter 4.000: 0.5158 | Iter 2.000: 0.4266<br>Resources requested: 2.0/12 CPUs, 0/0 GPUs, 0.0/6.1 GiB heap, 0.0/3.05 GiB objects<br>Current best trial: 8eaae_00002 with mean_accuracy=0.6219 and parameters={'layer1_out': 7, 'layer2_out': 14, 'batch': 64, 'lr': 0.0054551087797274755, 'momentum': 0.8893105126910178}<br>Result logdir: /Users/peterchatain/ray_results/train_asha<br>Number of trials: 4/4 (2 RUNNING, 2 TERMINATED)<br><br>"
      ],
      "text/plain": [
       "<IPython.core.display.HTML object>"
      ]
     },
     "metadata": {},
     "output_type": "display_data"
    },
    {
     "name": "stdout",
     "output_type": "stream",
     "text": [
      "Trial train_eval_model_8eaae_00002 reported mean_accuracy=0.61 with parameters={'layer1_out': 7, 'layer2_out': 14, 'batch': 64, 'lr': 0.0054551087797274755, 'momentum': 0.8893105126910178}.\n"
     ]
    },
    {
     "data": {
      "text/html": [
       "== Status ==<br>Current time: 2021-12-02 21:49:27 (running for 00:23:03.07)<br>Memory usage on this node: 11.2/16.0 GiB<br>Using AsyncHyperBand: num_stopped=2\n",
       "Bracket: Iter 512.000: None | Iter 256.000: None | Iter 128.000: None | Iter 64.000: None | Iter 32.000: None | Iter 16.000: 0.6233 | Iter 8.000: 0.61495 | Iter 4.000: 0.5158 | Iter 2.000: 0.4266<br>Resources requested: 2.0/12 CPUs, 0/0 GPUs, 0.0/6.1 GiB heap, 0.0/3.05 GiB objects<br>Current best trial: 8eaae_00000 with mean_accuracy=0.6172 and parameters={'layer1_out': 6, 'layer2_out': 18, 'batch': 32, 'lr': 0.0008249470865456945, 'momentum': 0.8721267306546336}<br>Result logdir: /Users/peterchatain/ray_results/train_asha<br>Number of trials: 4/4 (2 RUNNING, 2 TERMINATED)<br><br>"
      ],
      "text/plain": [
       "<IPython.core.display.HTML object>"
      ]
     },
     "metadata": {},
     "output_type": "display_data"
    },
    {
     "data": {
      "text/html": [
       "== Status ==<br>Current time: 2021-12-02 21:49:32 (running for 00:23:08.09)<br>Memory usage on this node: 11.6/16.0 GiB<br>Using AsyncHyperBand: num_stopped=2\n",
       "Bracket: Iter 512.000: None | Iter 256.000: None | Iter 128.000: None | Iter 64.000: None | Iter 32.000: None | Iter 16.000: 0.6233 | Iter 8.000: 0.61495 | Iter 4.000: 0.5158 | Iter 2.000: 0.4266<br>Resources requested: 2.0/12 CPUs, 0/0 GPUs, 0.0/6.1 GiB heap, 0.0/3.05 GiB objects<br>Current best trial: 8eaae_00000 with mean_accuracy=0.6172 and parameters={'layer1_out': 6, 'layer2_out': 18, 'batch': 32, 'lr': 0.0008249470865456945, 'momentum': 0.8721267306546336}<br>Result logdir: /Users/peterchatain/ray_results/train_asha<br>Number of trials: 4/4 (2 RUNNING, 2 TERMINATED)<br><br>"
      ],
      "text/plain": [
       "<IPython.core.display.HTML object>"
      ]
     },
     "metadata": {},
     "output_type": "display_data"
    },
    {
     "data": {
      "text/html": [
       "== Status ==<br>Current time: 2021-12-02 21:49:37 (running for 00:23:13.11)<br>Memory usage on this node: 11.5/16.0 GiB<br>Using AsyncHyperBand: num_stopped=2\n",
       "Bracket: Iter 512.000: None | Iter 256.000: None | Iter 128.000: None | Iter 64.000: None | Iter 32.000: None | Iter 16.000: 0.6233 | Iter 8.000: 0.61495 | Iter 4.000: 0.5158 | Iter 2.000: 0.4266<br>Resources requested: 2.0/12 CPUs, 0/0 GPUs, 0.0/6.1 GiB heap, 0.0/3.05 GiB objects<br>Current best trial: 8eaae_00000 with mean_accuracy=0.6172 and parameters={'layer1_out': 6, 'layer2_out': 18, 'batch': 32, 'lr': 0.0008249470865456945, 'momentum': 0.8721267306546336}<br>Result logdir: /Users/peterchatain/ray_results/train_asha<br>Number of trials: 4/4 (2 RUNNING, 2 TERMINATED)<br><br>"
      ],
      "text/plain": [
       "<IPython.core.display.HTML object>"
      ]
     },
     "metadata": {},
     "output_type": "display_data"
    },
    {
     "data": {
      "text/html": [
       "== Status ==<br>Current time: 2021-12-02 21:49:42 (running for 00:23:18.14)<br>Memory usage on this node: 11.3/16.0 GiB<br>Using AsyncHyperBand: num_stopped=2\n",
       "Bracket: Iter 512.000: None | Iter 256.000: None | Iter 128.000: None | Iter 64.000: None | Iter 32.000: None | Iter 16.000: 0.6233 | Iter 8.000: 0.61495 | Iter 4.000: 0.5158 | Iter 2.000: 0.4266<br>Resources requested: 2.0/12 CPUs, 0/0 GPUs, 0.0/6.1 GiB heap, 0.0/3.05 GiB objects<br>Current best trial: 8eaae_00000 with mean_accuracy=0.6172 and parameters={'layer1_out': 6, 'layer2_out': 18, 'batch': 32, 'lr': 0.0008249470865456945, 'momentum': 0.8721267306546336}<br>Result logdir: /Users/peterchatain/ray_results/train_asha<br>Number of trials: 4/4 (2 RUNNING, 2 TERMINATED)<br><br>"
      ],
      "text/plain": [
       "<IPython.core.display.HTML object>"
      ]
     },
     "metadata": {},
     "output_type": "display_data"
    },
    {
     "name": "stdout",
     "output_type": "stream",
     "text": [
      "Trial train_eval_model_8eaae_00000 reported mean_accuracy=0.63 with parameters={'layer1_out': 6, 'layer2_out': 18, 'batch': 32, 'lr': 0.0008249470865456945, 'momentum': 0.8721267306546336}.\n"
     ]
    },
    {
     "data": {
      "text/html": [
       "== Status ==<br>Current time: 2021-12-02 21:49:48 (running for 00:23:23.98)<br>Memory usage on this node: 11.5/16.0 GiB<br>Using AsyncHyperBand: num_stopped=2\n",
       "Bracket: Iter 512.000: None | Iter 256.000: None | Iter 128.000: None | Iter 64.000: None | Iter 32.000: None | Iter 16.000: 0.6233 | Iter 8.000: 0.61495 | Iter 4.000: 0.5158 | Iter 2.000: 0.4266<br>Resources requested: 2.0/12 CPUs, 0/0 GPUs, 0.0/6.1 GiB heap, 0.0/3.05 GiB objects<br>Current best trial: 8eaae_00000 with mean_accuracy=0.6274 and parameters={'layer1_out': 6, 'layer2_out': 18, 'batch': 32, 'lr': 0.0008249470865456945, 'momentum': 0.8721267306546336}<br>Result logdir: /Users/peterchatain/ray_results/train_asha<br>Number of trials: 4/4 (2 RUNNING, 2 TERMINATED)<br><br>"
      ],
      "text/plain": [
       "<IPython.core.display.HTML object>"
      ]
     },
     "metadata": {},
     "output_type": "display_data"
    },
    {
     "data": {
      "text/html": [
       "== Status ==<br>Current time: 2021-12-02 21:49:53 (running for 00:23:29.00)<br>Memory usage on this node: 11.7/16.0 GiB<br>Using AsyncHyperBand: num_stopped=2\n",
       "Bracket: Iter 512.000: None | Iter 256.000: None | Iter 128.000: None | Iter 64.000: None | Iter 32.000: None | Iter 16.000: 0.6233 | Iter 8.000: 0.61495 | Iter 4.000: 0.5158 | Iter 2.000: 0.4266<br>Resources requested: 2.0/12 CPUs, 0/0 GPUs, 0.0/6.1 GiB heap, 0.0/3.05 GiB objects<br>Current best trial: 8eaae_00000 with mean_accuracy=0.6274 and parameters={'layer1_out': 6, 'layer2_out': 18, 'batch': 32, 'lr': 0.0008249470865456945, 'momentum': 0.8721267306546336}<br>Result logdir: /Users/peterchatain/ray_results/train_asha<br>Number of trials: 4/4 (2 RUNNING, 2 TERMINATED)<br><br>"
      ],
      "text/plain": [
       "<IPython.core.display.HTML object>"
      ]
     },
     "metadata": {},
     "output_type": "display_data"
    },
    {
     "data": {
      "text/html": [
       "== Status ==<br>Current time: 2021-12-02 21:49:58 (running for 00:23:34.02)<br>Memory usage on this node: 11.7/16.0 GiB<br>Using AsyncHyperBand: num_stopped=2\n",
       "Bracket: Iter 512.000: None | Iter 256.000: None | Iter 128.000: None | Iter 64.000: None | Iter 32.000: None | Iter 16.000: 0.6233 | Iter 8.000: 0.61495 | Iter 4.000: 0.5158 | Iter 2.000: 0.4266<br>Resources requested: 2.0/12 CPUs, 0/0 GPUs, 0.0/6.1 GiB heap, 0.0/3.05 GiB objects<br>Current best trial: 8eaae_00000 with mean_accuracy=0.6274 and parameters={'layer1_out': 6, 'layer2_out': 18, 'batch': 32, 'lr': 0.0008249470865456945, 'momentum': 0.8721267306546336}<br>Result logdir: /Users/peterchatain/ray_results/train_asha<br>Number of trials: 4/4 (2 RUNNING, 2 TERMINATED)<br><br>"
      ],
      "text/plain": [
       "<IPython.core.display.HTML object>"
      ]
     },
     "metadata": {},
     "output_type": "display_data"
    },
    {
     "data": {
      "text/html": [
       "== Status ==<br>Current time: 2021-12-02 21:50:03 (running for 00:23:39.04)<br>Memory usage on this node: 11.2/16.0 GiB<br>Using AsyncHyperBand: num_stopped=2\n",
       "Bracket: Iter 512.000: None | Iter 256.000: None | Iter 128.000: None | Iter 64.000: None | Iter 32.000: None | Iter 16.000: 0.6233 | Iter 8.000: 0.61495 | Iter 4.000: 0.5158 | Iter 2.000: 0.4266<br>Resources requested: 2.0/12 CPUs, 0/0 GPUs, 0.0/6.1 GiB heap, 0.0/3.05 GiB objects<br>Current best trial: 8eaae_00000 with mean_accuracy=0.6274 and parameters={'layer1_out': 6, 'layer2_out': 18, 'batch': 32, 'lr': 0.0008249470865456945, 'momentum': 0.8721267306546336}<br>Result logdir: /Users/peterchatain/ray_results/train_asha<br>Number of trials: 4/4 (2 RUNNING, 2 TERMINATED)<br><br>"
      ],
      "text/plain": [
       "<IPython.core.display.HTML object>"
      ]
     },
     "metadata": {},
     "output_type": "display_data"
    },
    {
     "data": {
      "text/html": [
       "== Status ==<br>Current time: 2021-12-02 21:50:08 (running for 00:23:44.06)<br>Memory usage on this node: 11.3/16.0 GiB<br>Using AsyncHyperBand: num_stopped=2\n",
       "Bracket: Iter 512.000: None | Iter 256.000: None | Iter 128.000: None | Iter 64.000: None | Iter 32.000: None | Iter 16.000: 0.6233 | Iter 8.000: 0.61495 | Iter 4.000: 0.5158 | Iter 2.000: 0.4266<br>Resources requested: 2.0/12 CPUs, 0/0 GPUs, 0.0/6.1 GiB heap, 0.0/3.05 GiB objects<br>Current best trial: 8eaae_00000 with mean_accuracy=0.6274 and parameters={'layer1_out': 6, 'layer2_out': 18, 'batch': 32, 'lr': 0.0008249470865456945, 'momentum': 0.8721267306546336}<br>Result logdir: /Users/peterchatain/ray_results/train_asha<br>Number of trials: 4/4 (2 RUNNING, 2 TERMINATED)<br><br>"
      ],
      "text/plain": [
       "<IPython.core.display.HTML object>"
      ]
     },
     "metadata": {},
     "output_type": "display_data"
    },
    {
     "data": {
      "text/html": [
       "== Status ==<br>Current time: 2021-12-02 21:50:13 (running for 00:23:49.08)<br>Memory usage on this node: 11.9/16.0 GiB<br>Using AsyncHyperBand: num_stopped=2\n",
       "Bracket: Iter 512.000: None | Iter 256.000: None | Iter 128.000: None | Iter 64.000: None | Iter 32.000: None | Iter 16.000: 0.6233 | Iter 8.000: 0.61495 | Iter 4.000: 0.5158 | Iter 2.000: 0.4266<br>Resources requested: 2.0/12 CPUs, 0/0 GPUs, 0.0/6.1 GiB heap, 0.0/3.05 GiB objects<br>Current best trial: 8eaae_00000 with mean_accuracy=0.6274 and parameters={'layer1_out': 6, 'layer2_out': 18, 'batch': 32, 'lr': 0.0008249470865456945, 'momentum': 0.8721267306546336}<br>Result logdir: /Users/peterchatain/ray_results/train_asha<br>Number of trials: 4/4 (2 RUNNING, 2 TERMINATED)<br><br>"
      ],
      "text/plain": [
       "<IPython.core.display.HTML object>"
      ]
     },
     "metadata": {},
     "output_type": "display_data"
    },
    {
     "data": {
      "text/html": [
       "== Status ==<br>Current time: 2021-12-02 21:50:18 (running for 00:23:54.10)<br>Memory usage on this node: 11.7/16.0 GiB<br>Using AsyncHyperBand: num_stopped=2\n",
       "Bracket: Iter 512.000: None | Iter 256.000: None | Iter 128.000: None | Iter 64.000: None | Iter 32.000: None | Iter 16.000: 0.6233 | Iter 8.000: 0.61495 | Iter 4.000: 0.5158 | Iter 2.000: 0.4266<br>Resources requested: 2.0/12 CPUs, 0/0 GPUs, 0.0/6.1 GiB heap, 0.0/3.05 GiB objects<br>Current best trial: 8eaae_00000 with mean_accuracy=0.6274 and parameters={'layer1_out': 6, 'layer2_out': 18, 'batch': 32, 'lr': 0.0008249470865456945, 'momentum': 0.8721267306546336}<br>Result logdir: /Users/peterchatain/ray_results/train_asha<br>Number of trials: 4/4 (2 RUNNING, 2 TERMINATED)<br><br>"
      ],
      "text/plain": [
       "<IPython.core.display.HTML object>"
      ]
     },
     "metadata": {},
     "output_type": "display_data"
    },
    {
     "data": {
      "text/html": [
       "== Status ==<br>Current time: 2021-12-02 21:50:23 (running for 00:23:59.13)<br>Memory usage on this node: 11.8/16.0 GiB<br>Using AsyncHyperBand: num_stopped=2\n",
       "Bracket: Iter 512.000: None | Iter 256.000: None | Iter 128.000: None | Iter 64.000: None | Iter 32.000: None | Iter 16.000: 0.6233 | Iter 8.000: 0.61495 | Iter 4.000: 0.5158 | Iter 2.000: 0.4266<br>Resources requested: 2.0/12 CPUs, 0/0 GPUs, 0.0/6.1 GiB heap, 0.0/3.05 GiB objects<br>Current best trial: 8eaae_00000 with mean_accuracy=0.6274 and parameters={'layer1_out': 6, 'layer2_out': 18, 'batch': 32, 'lr': 0.0008249470865456945, 'momentum': 0.8721267306546336}<br>Result logdir: /Users/peterchatain/ray_results/train_asha<br>Number of trials: 4/4 (2 RUNNING, 2 TERMINATED)<br><br>"
      ],
      "text/plain": [
       "<IPython.core.display.HTML object>"
      ]
     },
     "metadata": {},
     "output_type": "display_data"
    },
    {
     "name": "stdout",
     "output_type": "stream",
     "text": [
      "Trial train_eval_model_8eaae_00002 reported mean_accuracy=0.62 with parameters={'layer1_out': 7, 'layer2_out': 14, 'batch': 64, 'lr': 0.0054551087797274755, 'momentum': 0.8893105126910178}.\n"
     ]
    },
    {
     "data": {
      "text/html": [
       "== Status ==<br>Current time: 2021-12-02 21:50:29 (running for 00:24:05.06)<br>Memory usage on this node: 11.6/16.0 GiB<br>Using AsyncHyperBand: num_stopped=2\n",
       "Bracket: Iter 512.000: None | Iter 256.000: None | Iter 128.000: None | Iter 64.000: None | Iter 32.000: None | Iter 16.000: 0.6233 | Iter 8.000: 0.61495 | Iter 4.000: 0.5158 | Iter 2.000: 0.4266<br>Resources requested: 2.0/12 CPUs, 0/0 GPUs, 0.0/6.1 GiB heap, 0.0/3.05 GiB objects<br>Current best trial: 8eaae_00000 with mean_accuracy=0.6274 and parameters={'layer1_out': 6, 'layer2_out': 18, 'batch': 32, 'lr': 0.0008249470865456945, 'momentum': 0.8721267306546336}<br>Result logdir: /Users/peterchatain/ray_results/train_asha<br>Number of trials: 4/4 (2 RUNNING, 2 TERMINATED)<br><br>"
      ],
      "text/plain": [
       "<IPython.core.display.HTML object>"
      ]
     },
     "metadata": {},
     "output_type": "display_data"
    },
    {
     "data": {
      "text/html": [
       "== Status ==<br>Current time: 2021-12-02 21:50:34 (running for 00:24:10.08)<br>Memory usage on this node: 11.7/16.0 GiB<br>Using AsyncHyperBand: num_stopped=2\n",
       "Bracket: Iter 512.000: None | Iter 256.000: None | Iter 128.000: None | Iter 64.000: None | Iter 32.000: None | Iter 16.000: 0.6233 | Iter 8.000: 0.61495 | Iter 4.000: 0.5158 | Iter 2.000: 0.4266<br>Resources requested: 2.0/12 CPUs, 0/0 GPUs, 0.0/6.1 GiB heap, 0.0/3.05 GiB objects<br>Current best trial: 8eaae_00000 with mean_accuracy=0.6274 and parameters={'layer1_out': 6, 'layer2_out': 18, 'batch': 32, 'lr': 0.0008249470865456945, 'momentum': 0.8721267306546336}<br>Result logdir: /Users/peterchatain/ray_results/train_asha<br>Number of trials: 4/4 (2 RUNNING, 2 TERMINATED)<br><br>"
      ],
      "text/plain": [
       "<IPython.core.display.HTML object>"
      ]
     },
     "metadata": {},
     "output_type": "display_data"
    },
    {
     "data": {
      "text/html": [
       "== Status ==<br>Current time: 2021-12-02 21:50:39 (running for 00:24:15.10)<br>Memory usage on this node: 11.8/16.0 GiB<br>Using AsyncHyperBand: num_stopped=2\n",
       "Bracket: Iter 512.000: None | Iter 256.000: None | Iter 128.000: None | Iter 64.000: None | Iter 32.000: None | Iter 16.000: 0.6233 | Iter 8.000: 0.61495 | Iter 4.000: 0.5158 | Iter 2.000: 0.4266<br>Resources requested: 2.0/12 CPUs, 0/0 GPUs, 0.0/6.1 GiB heap, 0.0/3.05 GiB objects<br>Current best trial: 8eaae_00000 with mean_accuracy=0.6274 and parameters={'layer1_out': 6, 'layer2_out': 18, 'batch': 32, 'lr': 0.0008249470865456945, 'momentum': 0.8721267306546336}<br>Result logdir: /Users/peterchatain/ray_results/train_asha<br>Number of trials: 4/4 (2 RUNNING, 2 TERMINATED)<br><br>"
      ],
      "text/plain": [
       "<IPython.core.display.HTML object>"
      ]
     },
     "metadata": {},
     "output_type": "display_data"
    },
    {
     "data": {
      "text/html": [
       "== Status ==<br>Current time: 2021-12-02 21:50:44 (running for 00:24:20.12)<br>Memory usage on this node: 11.3/16.0 GiB<br>Using AsyncHyperBand: num_stopped=2\n",
       "Bracket: Iter 512.000: None | Iter 256.000: None | Iter 128.000: None | Iter 64.000: None | Iter 32.000: None | Iter 16.000: 0.6233 | Iter 8.000: 0.61495 | Iter 4.000: 0.5158 | Iter 2.000: 0.4266<br>Resources requested: 2.0/12 CPUs, 0/0 GPUs, 0.0/6.1 GiB heap, 0.0/3.05 GiB objects<br>Current best trial: 8eaae_00000 with mean_accuracy=0.6274 and parameters={'layer1_out': 6, 'layer2_out': 18, 'batch': 32, 'lr': 0.0008249470865456945, 'momentum': 0.8721267306546336}<br>Result logdir: /Users/peterchatain/ray_results/train_asha<br>Number of trials: 4/4 (2 RUNNING, 2 TERMINATED)<br><br>"
      ],
      "text/plain": [
       "<IPython.core.display.HTML object>"
      ]
     },
     "metadata": {},
     "output_type": "display_data"
    },
    {
     "data": {
      "text/html": [
       "== Status ==<br>Current time: 2021-12-02 21:50:49 (running for 00:24:25.15)<br>Memory usage on this node: 11.3/16.0 GiB<br>Using AsyncHyperBand: num_stopped=2\n",
       "Bracket: Iter 512.000: None | Iter 256.000: None | Iter 128.000: None | Iter 64.000: None | Iter 32.000: None | Iter 16.000: 0.6233 | Iter 8.000: 0.61495 | Iter 4.000: 0.5158 | Iter 2.000: 0.4266<br>Resources requested: 2.0/12 CPUs, 0/0 GPUs, 0.0/6.1 GiB heap, 0.0/3.05 GiB objects<br>Current best trial: 8eaae_00000 with mean_accuracy=0.6274 and parameters={'layer1_out': 6, 'layer2_out': 18, 'batch': 32, 'lr': 0.0008249470865456945, 'momentum': 0.8721267306546336}<br>Result logdir: /Users/peterchatain/ray_results/train_asha<br>Number of trials: 4/4 (2 RUNNING, 2 TERMINATED)<br><br>"
      ],
      "text/plain": [
       "<IPython.core.display.HTML object>"
      ]
     },
     "metadata": {},
     "output_type": "display_data"
    },
    {
     "name": "stdout",
     "output_type": "stream",
     "text": [
      "Trial train_eval_model_8eaae_00000 reported mean_accuracy=0.62 with parameters={'layer1_out': 6, 'layer2_out': 18, 'batch': 32, 'lr': 0.0008249470865456945, 'momentum': 0.8721267306546336}.\n"
     ]
    },
    {
     "data": {
      "text/html": [
       "== Status ==<br>Current time: 2021-12-02 21:50:54 (running for 00:24:30.18)<br>Memory usage on this node: 11.7/16.0 GiB<br>Using AsyncHyperBand: num_stopped=2\n",
       "Bracket: Iter 512.000: None | Iter 256.000: None | Iter 128.000: None | Iter 64.000: None | Iter 32.000: None | Iter 16.000: 0.6233 | Iter 8.000: 0.61495 | Iter 4.000: 0.5158 | Iter 2.000: 0.4266<br>Resources requested: 2.0/12 CPUs, 0/0 GPUs, 0.0/6.1 GiB heap, 0.0/3.05 GiB objects<br>Current best trial: 8eaae_00000 with mean_accuracy=0.623 and parameters={'layer1_out': 6, 'layer2_out': 18, 'batch': 32, 'lr': 0.0008249470865456945, 'momentum': 0.8721267306546336}<br>Result logdir: /Users/peterchatain/ray_results/train_asha<br>Number of trials: 4/4 (2 RUNNING, 2 TERMINATED)<br><br>"
      ],
      "text/plain": [
       "<IPython.core.display.HTML object>"
      ]
     },
     "metadata": {},
     "output_type": "display_data"
    },
    {
     "data": {
      "text/html": [
       "== Status ==<br>Current time: 2021-12-02 21:50:59 (running for 00:24:35.21)<br>Memory usage on this node: 11.7/16.0 GiB<br>Using AsyncHyperBand: num_stopped=2\n",
       "Bracket: Iter 512.000: None | Iter 256.000: None | Iter 128.000: None | Iter 64.000: None | Iter 32.000: None | Iter 16.000: 0.6233 | Iter 8.000: 0.61495 | Iter 4.000: 0.5158 | Iter 2.000: 0.4266<br>Resources requested: 2.0/12 CPUs, 0/0 GPUs, 0.0/6.1 GiB heap, 0.0/3.05 GiB objects<br>Current best trial: 8eaae_00000 with mean_accuracy=0.623 and parameters={'layer1_out': 6, 'layer2_out': 18, 'batch': 32, 'lr': 0.0008249470865456945, 'momentum': 0.8721267306546336}<br>Result logdir: /Users/peterchatain/ray_results/train_asha<br>Number of trials: 4/4 (2 RUNNING, 2 TERMINATED)<br><br>"
      ],
      "text/plain": [
       "<IPython.core.display.HTML object>"
      ]
     },
     "metadata": {},
     "output_type": "display_data"
    },
    {
     "data": {
      "text/html": [
       "== Status ==<br>Current time: 2021-12-02 21:51:04 (running for 00:24:40.23)<br>Memory usage on this node: 11.7/16.0 GiB<br>Using AsyncHyperBand: num_stopped=2\n",
       "Bracket: Iter 512.000: None | Iter 256.000: None | Iter 128.000: None | Iter 64.000: None | Iter 32.000: None | Iter 16.000: 0.6233 | Iter 8.000: 0.61495 | Iter 4.000: 0.5158 | Iter 2.000: 0.4266<br>Resources requested: 2.0/12 CPUs, 0/0 GPUs, 0.0/6.1 GiB heap, 0.0/3.05 GiB objects<br>Current best trial: 8eaae_00000 with mean_accuracy=0.623 and parameters={'layer1_out': 6, 'layer2_out': 18, 'batch': 32, 'lr': 0.0008249470865456945, 'momentum': 0.8721267306546336}<br>Result logdir: /Users/peterchatain/ray_results/train_asha<br>Number of trials: 4/4 (2 RUNNING, 2 TERMINATED)<br><br>"
      ],
      "text/plain": [
       "<IPython.core.display.HTML object>"
      ]
     },
     "metadata": {},
     "output_type": "display_data"
    },
    {
     "data": {
      "text/html": [
       "== Status ==<br>Current time: 2021-12-02 21:51:09 (running for 00:24:45.26)<br>Memory usage on this node: 11.2/16.0 GiB<br>Using AsyncHyperBand: num_stopped=2\n",
       "Bracket: Iter 512.000: None | Iter 256.000: None | Iter 128.000: None | Iter 64.000: None | Iter 32.000: None | Iter 16.000: 0.6233 | Iter 8.000: 0.61495 | Iter 4.000: 0.5158 | Iter 2.000: 0.4266<br>Resources requested: 2.0/12 CPUs, 0/0 GPUs, 0.0/6.1 GiB heap, 0.0/3.05 GiB objects<br>Current best trial: 8eaae_00000 with mean_accuracy=0.623 and parameters={'layer1_out': 6, 'layer2_out': 18, 'batch': 32, 'lr': 0.0008249470865456945, 'momentum': 0.8721267306546336}<br>Result logdir: /Users/peterchatain/ray_results/train_asha<br>Number of trials: 4/4 (2 RUNNING, 2 TERMINATED)<br><br>"
      ],
      "text/plain": [
       "<IPython.core.display.HTML object>"
      ]
     },
     "metadata": {},
     "output_type": "display_data"
    },
    {
     "data": {
      "text/html": [
       "== Status ==<br>Current time: 2021-12-02 21:51:15 (running for 00:24:50.28)<br>Memory usage on this node: 11.2/16.0 GiB<br>Using AsyncHyperBand: num_stopped=2\n",
       "Bracket: Iter 512.000: None | Iter 256.000: None | Iter 128.000: None | Iter 64.000: None | Iter 32.000: None | Iter 16.000: 0.6233 | Iter 8.000: 0.61495 | Iter 4.000: 0.5158 | Iter 2.000: 0.4266<br>Resources requested: 2.0/12 CPUs, 0/0 GPUs, 0.0/6.1 GiB heap, 0.0/3.05 GiB objects<br>Current best trial: 8eaae_00000 with mean_accuracy=0.623 and parameters={'layer1_out': 6, 'layer2_out': 18, 'batch': 32, 'lr': 0.0008249470865456945, 'momentum': 0.8721267306546336}<br>Result logdir: /Users/peterchatain/ray_results/train_asha<br>Number of trials: 4/4 (2 RUNNING, 2 TERMINATED)<br><br>"
      ],
      "text/plain": [
       "<IPython.core.display.HTML object>"
      ]
     },
     "metadata": {},
     "output_type": "display_data"
    },
    {
     "data": {
      "text/html": [
       "== Status ==<br>Current time: 2021-12-02 21:51:20 (running for 00:24:55.31)<br>Memory usage on this node: 11.7/16.0 GiB<br>Using AsyncHyperBand: num_stopped=2\n",
       "Bracket: Iter 512.000: None | Iter 256.000: None | Iter 128.000: None | Iter 64.000: None | Iter 32.000: None | Iter 16.000: 0.6233 | Iter 8.000: 0.61495 | Iter 4.000: 0.5158 | Iter 2.000: 0.4266<br>Resources requested: 2.0/12 CPUs, 0/0 GPUs, 0.0/6.1 GiB heap, 0.0/3.05 GiB objects<br>Current best trial: 8eaae_00000 with mean_accuracy=0.623 and parameters={'layer1_out': 6, 'layer2_out': 18, 'batch': 32, 'lr': 0.0008249470865456945, 'momentum': 0.8721267306546336}<br>Result logdir: /Users/peterchatain/ray_results/train_asha<br>Number of trials: 4/4 (2 RUNNING, 2 TERMINATED)<br><br>"
      ],
      "text/plain": [
       "<IPython.core.display.HTML object>"
      ]
     },
     "metadata": {},
     "output_type": "display_data"
    },
    {
     "data": {
      "text/html": [
       "== Status ==<br>Current time: 2021-12-02 21:51:25 (running for 00:25:00.33)<br>Memory usage on this node: 11.5/16.0 GiB<br>Using AsyncHyperBand: num_stopped=2\n",
       "Bracket: Iter 512.000: None | Iter 256.000: None | Iter 128.000: None | Iter 64.000: None | Iter 32.000: None | Iter 16.000: 0.6233 | Iter 8.000: 0.61495 | Iter 4.000: 0.5158 | Iter 2.000: 0.4266<br>Resources requested: 2.0/12 CPUs, 0/0 GPUs, 0.0/6.1 GiB heap, 0.0/3.05 GiB objects<br>Current best trial: 8eaae_00000 with mean_accuracy=0.623 and parameters={'layer1_out': 6, 'layer2_out': 18, 'batch': 32, 'lr': 0.0008249470865456945, 'momentum': 0.8721267306546336}<br>Result logdir: /Users/peterchatain/ray_results/train_asha<br>Number of trials: 4/4 (2 RUNNING, 2 TERMINATED)<br><br>"
      ],
      "text/plain": [
       "<IPython.core.display.HTML object>"
      ]
     },
     "metadata": {},
     "output_type": "display_data"
    },
    {
     "data": {
      "text/html": [
       "== Status ==<br>Current time: 2021-12-02 21:51:30 (running for 00:25:05.35)<br>Memory usage on this node: 11.2/16.0 GiB<br>Using AsyncHyperBand: num_stopped=2\n",
       "Bracket: Iter 512.000: None | Iter 256.000: None | Iter 128.000: None | Iter 64.000: None | Iter 32.000: None | Iter 16.000: 0.6233 | Iter 8.000: 0.61495 | Iter 4.000: 0.5158 | Iter 2.000: 0.4266<br>Resources requested: 2.0/12 CPUs, 0/0 GPUs, 0.0/6.1 GiB heap, 0.0/3.05 GiB objects<br>Current best trial: 8eaae_00000 with mean_accuracy=0.623 and parameters={'layer1_out': 6, 'layer2_out': 18, 'batch': 32, 'lr': 0.0008249470865456945, 'momentum': 0.8721267306546336}<br>Result logdir: /Users/peterchatain/ray_results/train_asha<br>Number of trials: 4/4 (2 RUNNING, 2 TERMINATED)<br><br>"
      ],
      "text/plain": [
       "<IPython.core.display.HTML object>"
      ]
     },
     "metadata": {},
     "output_type": "display_data"
    },
    {
     "name": "stdout",
     "output_type": "stream",
     "text": [
      "Trial train_eval_model_8eaae_00002 reported mean_accuracy=0.61 with parameters={'layer1_out': 7, 'layer2_out': 14, 'batch': 64, 'lr': 0.0054551087797274755, 'momentum': 0.8893105126910178}. This trial completed.\n"
     ]
    },
    {
     "data": {
      "text/html": [
       "== Status ==<br>Current time: 2021-12-02 21:51:35 (running for 00:25:10.76)<br>Memory usage on this node: 8.3/16.0 GiB<br>Using AsyncHyperBand: num_stopped=2\n",
       "Bracket: Iter 512.000: None | Iter 256.000: None | Iter 128.000: None | Iter 64.000: None | Iter 32.000: None | Iter 16.000: 0.6233 | Iter 8.000: 0.61495 | Iter 4.000: 0.5158 | Iter 2.000: 0.4266<br>Resources requested: 1.0/12 CPUs, 0/0 GPUs, 0.0/6.1 GiB heap, 0.0/3.05 GiB objects<br>Current best trial: 8eaae_00000 with mean_accuracy=0.623 and parameters={'layer1_out': 6, 'layer2_out': 18, 'batch': 32, 'lr': 0.0008249470865456945, 'momentum': 0.8721267306546336}<br>Result logdir: /Users/peterchatain/ray_results/train_asha<br>Number of trials: 4/4 (1 RUNNING, 3 TERMINATED)<br><br>"
      ],
      "text/plain": [
       "<IPython.core.display.HTML object>"
      ]
     },
     "metadata": {},
     "output_type": "display_data"
    },
    {
     "data": {
      "text/html": [
       "== Status ==<br>Current time: 2021-12-02 21:51:40 (running for 00:25:15.79)<br>Memory usage on this node: 8.4/16.0 GiB<br>Using AsyncHyperBand: num_stopped=2\n",
       "Bracket: Iter 512.000: None | Iter 256.000: None | Iter 128.000: None | Iter 64.000: None | Iter 32.000: None | Iter 16.000: 0.6233 | Iter 8.000: 0.61495 | Iter 4.000: 0.5158 | Iter 2.000: 0.4266<br>Resources requested: 1.0/12 CPUs, 0/0 GPUs, 0.0/6.1 GiB heap, 0.0/3.05 GiB objects<br>Current best trial: 8eaae_00000 with mean_accuracy=0.623 and parameters={'layer1_out': 6, 'layer2_out': 18, 'batch': 32, 'lr': 0.0008249470865456945, 'momentum': 0.8721267306546336}<br>Result logdir: /Users/peterchatain/ray_results/train_asha<br>Number of trials: 4/4 (1 RUNNING, 3 TERMINATED)<br><br>"
      ],
      "text/plain": [
       "<IPython.core.display.HTML object>"
      ]
     },
     "metadata": {},
     "output_type": "display_data"
    },
    {
     "data": {
      "text/html": [
       "== Status ==<br>Current time: 2021-12-02 21:51:45 (running for 00:25:20.82)<br>Memory usage on this node: 8.5/16.0 GiB<br>Using AsyncHyperBand: num_stopped=2\n",
       "Bracket: Iter 512.000: None | Iter 256.000: None | Iter 128.000: None | Iter 64.000: None | Iter 32.000: None | Iter 16.000: 0.6233 | Iter 8.000: 0.61495 | Iter 4.000: 0.5158 | Iter 2.000: 0.4266<br>Resources requested: 1.0/12 CPUs, 0/0 GPUs, 0.0/6.1 GiB heap, 0.0/3.05 GiB objects<br>Current best trial: 8eaae_00000 with mean_accuracy=0.623 and parameters={'layer1_out': 6, 'layer2_out': 18, 'batch': 32, 'lr': 0.0008249470865456945, 'momentum': 0.8721267306546336}<br>Result logdir: /Users/peterchatain/ray_results/train_asha<br>Number of trials: 4/4 (1 RUNNING, 3 TERMINATED)<br><br>"
      ],
      "text/plain": [
       "<IPython.core.display.HTML object>"
      ]
     },
     "metadata": {},
     "output_type": "display_data"
    },
    {
     "data": {
      "text/html": [
       "== Status ==<br>Current time: 2021-12-02 21:51:50 (running for 00:25:25.85)<br>Memory usage on this node: 8.5/16.0 GiB<br>Using AsyncHyperBand: num_stopped=2\n",
       "Bracket: Iter 512.000: None | Iter 256.000: None | Iter 128.000: None | Iter 64.000: None | Iter 32.000: None | Iter 16.000: 0.6233 | Iter 8.000: 0.61495 | Iter 4.000: 0.5158 | Iter 2.000: 0.4266<br>Resources requested: 1.0/12 CPUs, 0/0 GPUs, 0.0/6.1 GiB heap, 0.0/3.05 GiB objects<br>Current best trial: 8eaae_00000 with mean_accuracy=0.623 and parameters={'layer1_out': 6, 'layer2_out': 18, 'batch': 32, 'lr': 0.0008249470865456945, 'momentum': 0.8721267306546336}<br>Result logdir: /Users/peterchatain/ray_results/train_asha<br>Number of trials: 4/4 (1 RUNNING, 3 TERMINATED)<br><br>"
      ],
      "text/plain": [
       "<IPython.core.display.HTML object>"
      ]
     },
     "metadata": {},
     "output_type": "display_data"
    },
    {
     "name": "stdout",
     "output_type": "stream",
     "text": [
      "Trial train_eval_model_8eaae_00000 reported mean_accuracy=0.62 with parameters={'layer1_out': 6, 'layer2_out': 18, 'batch': 32, 'lr': 0.0008249470865456945, 'momentum': 0.8721267306546336}. This trial completed.\n"
     ]
    },
    {
     "data": {
      "text/html": [
       "== Status ==<br>Current time: 2021-12-02 21:51:53 (running for 00:25:29.14)<br>Memory usage on this node: 8.5/16.0 GiB<br>Using AsyncHyperBand: num_stopped=2\n",
       "Bracket: Iter 512.000: None | Iter 256.000: None | Iter 128.000: None | Iter 64.000: None | Iter 32.000: None | Iter 16.000: 0.6233 | Iter 8.000: 0.61495 | Iter 4.000: 0.5158 | Iter 2.000: 0.4266<br>Resources requested: 0/12 CPUs, 0/0 GPUs, 0.0/6.1 GiB heap, 0.0/3.05 GiB objects<br>Current best trial: 8eaae_00000 with mean_accuracy=0.6218 and parameters={'layer1_out': 6, 'layer2_out': 18, 'batch': 32, 'lr': 0.0008249470865456945, 'momentum': 0.8721267306546336}<br>Result logdir: /Users/peterchatain/ray_results/train_asha<br>Number of trials: 4/4 (4 TERMINATED)<br><table>\n",
       "<thead>\n",
       "<tr><th>Trial name                  </th><th>status    </th><th>loc           </th><th style=\"text-align: right;\">  batch</th><th style=\"text-align: right;\">  layer1_out</th><th style=\"text-align: right;\">  layer2_out</th><th style=\"text-align: right;\">         lr</th><th style=\"text-align: right;\">  momentum</th><th style=\"text-align: right;\">   acc</th><th style=\"text-align: right;\">  iter</th><th style=\"text-align: right;\">  total time (s)</th><th style=\"text-align: right;\">  iterations</th></tr>\n",
       "</thead>\n",
       "<tbody>\n",
       "<tr><td>train_eval_model_8eaae_00000</td><td>TERMINATED</td><td>127.0.0.1:7266</td><td style=\"text-align: right;\">     32</td><td style=\"text-align: right;\">           6</td><td style=\"text-align: right;\">          18</td><td style=\"text-align: right;\">0.000824947</td><td style=\"text-align: right;\">  0.872127</td><td style=\"text-align: right;\">0.6218</td><td style=\"text-align: right;\">    20</td><td style=\"text-align: right;\">        1527.36 </td><td style=\"text-align: right;\">          20</td></tr>\n",
       "<tr><td>train_eval_model_8eaae_00001</td><td>TERMINATED</td><td>127.0.0.1:7267</td><td style=\"text-align: right;\">     16</td><td style=\"text-align: right;\">           6</td><td style=\"text-align: right;\">          14</td><td style=\"text-align: right;\">0.0149544  </td><td style=\"text-align: right;\">  0.939619</td><td style=\"text-align: right;\">0.4207</td><td style=\"text-align: right;\">     4</td><td style=\"text-align: right;\">         343.781</td><td style=\"text-align: right;\">           4</td></tr>\n",
       "<tr><td>train_eval_model_8eaae_00002</td><td>TERMINATED</td><td>127.0.0.1:7264</td><td style=\"text-align: right;\">     64</td><td style=\"text-align: right;\">           7</td><td style=\"text-align: right;\">          14</td><td style=\"text-align: right;\">0.00545511 </td><td style=\"text-align: right;\">  0.889311</td><td style=\"text-align: right;\">0.6149</td><td style=\"text-align: right;\">    20</td><td style=\"text-align: right;\">        1502.88 </td><td style=\"text-align: right;\">          20</td></tr>\n",
       "<tr><td>train_eval_model_8eaae_00003</td><td>TERMINATED</td><td>127.0.0.1:7265</td><td style=\"text-align: right;\">     16</td><td style=\"text-align: right;\">           4</td><td style=\"text-align: right;\">          14</td><td style=\"text-align: right;\">0.0216138  </td><td style=\"text-align: right;\">  0.933214</td><td style=\"text-align: right;\">0.3349</td><td style=\"text-align: right;\">     2</td><td style=\"text-align: right;\">         195.68 </td><td style=\"text-align: right;\">           2</td></tr>\n",
       "</tbody>\n",
       "</table><br><br>"
      ],
      "text/plain": [
       "<IPython.core.display.HTML object>"
      ]
     },
     "metadata": {},
     "output_type": "display_data"
    },
    {
     "name": "stderr",
     "output_type": "stream",
     "text": [
      "2021-12-02 21:51:53,964\tINFO tune.py:630 -- Total run time: 1529.26 seconds (1529.13 seconds for the tuning loop).\n"
     ]
    }
   ],
   "source": [
    "from ray.tune.schedulers import ASHAScheduler\n",
    "from ray.tune.trial import ExportFormat\n",
    "\n",
    "ray.shutdown()  # Restart Ray defensively in case the ray connection is lost. \n",
    "ray.init(log_to_driver=False)\n",
    "\n",
    "class Stopper(tune.Stopper):\n",
    "        def __init__(self):\n",
    "            self.should_stop = False\n",
    "\n",
    "        def __call__(self, trial_id, result):\n",
    "            max_num_trials = 20\n",
    "            if not self.should_stop and result[\"mean_accuracy\"] > 0.75:\n",
    "              self.should_stop = True\n",
    "            return self.should_stop or result[\"training_iteration\"] >= max_num_trials\n",
    "\n",
    "        def stop_all(self):\n",
    "            return self.should_stop\n",
    "\n",
    "# TODO: Define an ASHAScheduler object \n",
    "# (https://docs.ray.io/en/releases-0.8.6/tune/api_docs/schedulers.html#asha-tune-schedulers-ashascheduler)\n",
    "asha_scheduler = ASHAScheduler(\n",
    "    time_attr='training_iteration',\n",
    "    max_t=1000,\n",
    "    grace_period=2,\n",
    "    brackets=1,\n",
    "    reduction_factor=2)\n",
    "\n",
    "# TODO: Run the ASHA analysis, tuning the learning rate, momentum, first and second\n",
    "# layer neuron counts, and batch size\n",
    "asha_analysis = tune.run(\n",
    "    train_eval_model,\n",
    "    name=\"train_asha\",\n",
    "    scheduler=asha_scheduler,\n",
    "    metric=\"mean_accuracy\",\n",
    "    mode=\"max\",\n",
    "    verbose=2,\n",
    "#     stop={\n",
    "#     \"training_iteration\": 20},\n",
    "    stop=Stopper(),\n",
    "    export_formats=[ExportFormat.MODEL],\n",
    "    checkpoint_score_attr=\"mean_accuracy\",\n",
    "    keep_checkpoints_num=4,\n",
    "    num_samples=4,\n",
    "    config={\n",
    "        # TODO: Add hyperparameters for number of neurons in\n",
    "        # first and second layers of the 'HPNet' model.\n",
    "        # Keep learning rate and momentum as configurable hyperparameters.\n",
    "        \"layer1_out\": tune.choice([4,5,6,7,8]),\n",
    "        \"layer2_out\": tune.choice([12,14,16,18,20]),\n",
    "        \"batch\": tune.choice([16,32,64]),\n",
    "        \"lr\": tune.loguniform(1e-4, 1e-1),\n",
    "        \"momentum\": tune.uniform(0.85, 0.95),\n",
    "    })"
   ]
  },
  {
   "cell_type": "code",
   "execution_count": 18,
   "metadata": {},
   "outputs": [
    {
     "name": "stdout",
     "output_type": "stream",
     "text": [
      "[0     0.3124\n",
      "1     0.4170\n",
      "2     0.4815\n",
      "3     0.5158\n",
      "4     0.5376\n",
      "5     0.5561\n",
      "6     0.5868\n",
      "7     0.5886\n",
      "8     0.6062\n",
      "9     0.6092\n",
      "10    0.6194\n",
      "11    0.6133\n",
      "12    0.6250\n",
      "13    0.6304\n",
      "14    0.6235\n",
      "15    0.6271\n",
      "16    0.6172\n",
      "17    0.6274\n",
      "18    0.6230\n",
      "19    0.6218\n",
      "Name: mean_accuracy, dtype: float64, 0    0.4434\n",
      "1    0.4362\n",
      "2    0.4172\n",
      "3    0.4207\n",
      "Name: mean_accuracy, dtype: float64, 0     0.4844\n",
      "1     0.5858\n",
      "2     0.6257\n",
      "3     0.6150\n",
      "4     0.6470\n",
      "5     0.6336\n",
      "6     0.6393\n",
      "7     0.6413\n",
      "8     0.6455\n",
      "9     0.6396\n",
      "10    0.6393\n",
      "11    0.6190\n",
      "12    0.6317\n",
      "13    0.6225\n",
      "14    0.6268\n",
      "15    0.6195\n",
      "16    0.6219\n",
      "17    0.6117\n",
      "18    0.6186\n",
      "19    0.6149\n",
      "Name: mean_accuracy, dtype: float64, 0    0.3735\n",
      "1    0.3349\n",
      "Name: mean_accuracy, dtype: float64]\n"
     ]
    },
    {
     "data": {
      "text/plain": [
       "[<matplotlib.lines.Line2D at 0x12802ddc0>]"
      ]
     },
     "execution_count": 18,
     "metadata": {},
     "output_type": "execute_result"
    },
    {
     "data": {
      "image/png": "[encoded data removed]",
      "text/plain": [
       "<Figure size 432x288 with 1 Axes>"
      ]
     },
     "metadata": {
      "needs_background": "light"
     },
     "output_type": "display_data"
    }
   ],
   "source": [
    "from matplotlib import pyplot as plt\n",
    "mean_acc = [d.mean_accuracy for d in dfs.values()]\n",
    "print(mean_acc)\n",
    "mean_acc = [0, 0.1405]\n",
    "plt.plot(mean_acc)"
   ]
  },
  {
   "cell_type": "code",
   "execution_count": 17,
   "metadata": {
    "id": "lD1PkZAxvNDg"
   },
   "outputs": [
    {
     "data": {
      "image/png": "[encoded data removed]",
      "text/plain": [
       "<Figure size 432x288 with 1 Axes>"
      ]
     },
     "metadata": {
      "needs_background": "light"
     },
     "output_type": "display_data"
    }
   ],
   "source": [
    "# Let's visualize our results:\n",
    "dfs = asha_analysis.trial_dataframes\n",
    "ax = None  # This plots everything on the same plot\n",
    "for d in dfs.values():\n",
    "    ax = d.mean_accuracy.plot(ax=ax, legend=False)"
   ]
  },
  {
   "cell_type": "markdown",
   "metadata": {
    "id": "LgCazhRVKny0"
   },
   "source": [
    "PBT and ASHA are both parallelizable hyperparameter tuning methods, in that they search multiple hyperparameter options in parallel.\n",
    "\n",
    "Another option commonly used in industry are sequential methods such as Bayesian Optimization with Hyperband (BOHB). What are the tradeoffs between sequential methods and the parallel methods we discussed earlier?\n",
    "\n",
    "  **TODO**: Your response."
   ]
  },
  {
   "cell_type": "markdown",
   "metadata": {
    "id": "4179X8B0pqeI"
   },
   "source": [
    "## Problem 3 (Extra Credit):\n",
    "\n",
    "Now that you better understand the big picture of how random search, PBT, and ASHA compare to one another, implement successive halving (the basis for ASHA). \n",
    "\n",
    "Start by defining a hyperparameter space, then successively narrow your hyperparameter space until you are left with a single optimal model. You can find sample pseudocode on the lecture slides (https://c.d2l.ai/stanford-cs329p/_static/pdfs/cs329p_slides_12_2.pdf), slide 8.\n",
    "\n",
    "What is your optimal model accuracy? Plot your best validation accuracy versus number of halving steps. How does this compare to your earlier results with random search?"
   ]
  },
  {
   "cell_type": "code",
   "execution_count": 54,
   "metadata": {},
   "outputs": [],
   "source": [
    "hyperparams = {\"momentum\": np.random.uniform(0.85, 0.95, size = (3)),\n",
    "\"batch_size\": np.random.choice([2,3,4], size = (2)),\n",
    "\"lr\": np.random.uniform(1e-5, 1e-2, size = (2))  #shoudl be log uniform instead \n",
    "}\n",
    "from collections import deque\n",
    "configs = deque([{}])\n",
    "for key in hyperparams:\n",
    "    n = len(configs)\n",
    "    for _ in range(n):\n",
    "        top = configs.popleft()\n",
    "        for value in hyperparams[key]:\n",
    "            new_config = top.copy()\n",
    "            new_config[key] = value\n",
    "            configs.append(new_config)\n",
    "models = []\n",
    "for config in models:\n",
    "    models.append(HPnet(config))\n",
    "#working on this"
   ]
  },
  {
   "cell_type": "markdown",
   "metadata": {
    "id": "rydSq6kJrlqI"
   },
   "source": []
  }
 ],
 "metadata": {
  "accelerator": "TPU",
  "colab": {
   "collapsed_sections": [],
   "name": "CS 329P: Homework 3.ipynb",
   "provenance": []
  },
  "kernelspec": {
   "display_name": "Python 3 (ipykernel)",
   "language": "python",
   "name": "python3"
  },
  "language_info": {
   "codemirror_mode": {
    "name": "ipython",
    "version": 3
   },
   "file_extension": ".py",
   "mimetype": "text/x-python",
   "name": "python",
   "nbconvert_exporter": "python",
   "pygments_lexer": "ipython3",
   "version": "3.9.6"
  }
 },
 "nbformat": 4,
 "nbformat_minor": 4
}

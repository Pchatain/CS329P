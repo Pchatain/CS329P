{
 "cells": [
  {
   "cell_type": "markdown",
   "metadata": {
    "id": "c2RcwdfTS8hr"
   },
   "source": [
    "# Homework 3: Hyperparameter Tuning\n",
    "\n",
    "**Author(s)**: [YOUR_NAMES,]\n",
    "\n",
    "**Email**: [YOUR_IDs@stanford.edu,]\n",
    "\n",
    "**Submission**: Please insert your name and email above, save your code in this notebook, and\n",
    "explain what you are doing and your findings in text cells. You can think of it as a technical report with code.\n",
    "\n",
    "* Note: If you leave your Colab unattended, it may delete any files generated during the hyperparameter tuning. May sure to save frequently via **File->Save and pin revision**.\n",
    "\n",
    "\n",
    "The goal of this homework will be to familiarize yourself with hyperparameter optimization. Two powerful and widely used methods in practice are PBT (population-based training) and ASHA (asynchronous successive halving algorithm). We will start off with a simple random search model, then implement PBT and ASHA using the Ray library.\n",
    "\n",
    "**Population-based training** was introduced by Deepmind in 2017 (https://arxiv.org/abs/1711.09846), while **ASHA** was published in late 2018 by Carnegie Mellon's AI Institute (https://arxiv.org/abs/1810.05934). You may find it helpful to read through the accompanying blog posts (https://deepmind.com/blog/article/population-based-training-neural-networks and https://blog.ml.cmu.edu/2018/12/12/massively-parallel-hyperparameter-optimization/) before beginning this assignment.\n",
    "\n",
    "If using Google Colab for this assignment, we recommend using a (free) TPU by selecting `Runtime->Change Runtime Type->TPU`."
   ]
  },
  {
   "cell_type": "markdown",
   "metadata": {
    "id": "JXMrw48UXPIE"
   },
   "source": [
    "First, let's define our model. Let's start by loading in the CIFAR-10 dataset using PyTorch's `torchvision` library:"
   ]
  },
  {
   "cell_type": "code",
   "execution_count": 1,
   "metadata": {},
   "outputs": [],
   "source": [
    "# Import PyTorch and vision libraries\n",
    "import torch\n",
    "import torchvision\n",
    "import torchvision.transforms as transforms\n",
    "import torch.nn as nn\n",
    "import torch.nn.functional as F\n",
    "import torch.optim as optim\n",
    "import ray\n",
    "from ray import tune\n",
    "import ray\n",
    "from ray import tune\n",
    "from ray.tune.schedulers import PopulationBasedTraining\n",
    "from ray.tune.trial import ExportFormat\n",
    "import numpy as np\n"
   ]
  },
  {
   "cell_type": "code",
   "execution_count": 2,
   "metadata": {
    "id": "ZsxBGYZ1XN3K"
   },
   "outputs": [],
   "source": [
    "def get_data_loaders():\n",
    "  # Define a transform to map from pixel space (255, 255, 255) to a normalized\n",
    "  # range with mean and variance 0.5:\n",
    "\n",
    "  transform = transforms.Compose(\n",
    "    [transforms.ToTensor(),\n",
    "     transforms.Normalize((0.5, 0.5, 0.5), (0.5, 0.5, 0.5))])\n",
    "\n",
    "  # Load our train and test datasets and define class label correspondence\n",
    "  train_dataset = torchvision.datasets.CIFAR10(root='./data', train=True,\n",
    "                                          download=True, transform=transform)\n",
    "  train_loader = torch.utils.data.DataLoader(train_dataset, batch_size=4,\n",
    "                                            shuffle=True, num_workers=2)\n",
    "\n",
    "  test_dataset = torchvision.datasets.CIFAR10(root='./data', train=False,\n",
    "                                        download=True, transform=transform)\n",
    "  test_loader = torch.utils.data.DataLoader(test_dataset, batch_size=4,\n",
    "                                          shuffle=False, num_workers=2)\n",
    "\n",
    "  classes = ('plane', 'car', 'bird', 'cat',\n",
    "            'deer', 'dog', 'frog', 'horse', 'ship', 'truck')\n",
    "  return train_loader, test_loader"
   ]
  },
  {
   "cell_type": "code",
   "execution_count": 16,
   "metadata": {
    "id": "0F-5qY6KtUZO"
   },
   "outputs": [
    {
     "name": "stdout",
     "output_type": "stream",
     "text": [
      "Files already downloaded and verified\n",
      "Files already downloaded and verified\n"
     ]
    }
   ],
   "source": [
    "train_loader, test_loader = get_data_loaders()"
   ]
  },
  {
   "cell_type": "markdown",
   "metadata": {
    "id": "GJypeiCdXe8C"
   },
   "source": [
    "Next, we'll define our convolutional neural network (CNN) architecture:"
   ]
  },
  {
   "cell_type": "code",
   "execution_count": 17,
   "metadata": {
    "id": "fmY6E1G_UUkb"
   },
   "outputs": [],
   "source": [
    "# Define our CNN (convolutional neural network)\n",
    "class ConvNet(nn.Module):\n",
    "    def __init__(self):\n",
    "        super().__init__()\n",
    "        # The following is a conv layer with 3 input channels,\n",
    "        # 6 output channels, and a kernel size of 5\n",
    "        self.conv1 = nn.Conv2d(3, 6, 5)\n",
    "        self.pool = nn.MaxPool2d(2, 2)\n",
    "        self.conv2 = nn.Conv2d(6, 16, 5)# TODO: Add another conv layer with 6 input channels,\n",
    "                     # 16 output channels, and a kernel size of 5\n",
    "        self.fc1 = nn.Linear(16 * 5 * 5, 120)\n",
    "        self.fc2 = nn.Linear(120, 84)\n",
    "        self.fc3 = nn.Linear( 84,10)# TODO: Add a final dense layer\n",
    "\n",
    "    def forward(self, x):\n",
    "      # \n",
    "      x = self.pool(F.relu(self.conv1(x)))\n",
    "      x = self.pool(F.relu(self.conv2(x)))\n",
    "      x = torch.flatten(x, 1) # flatten all dimensions except batch\n",
    "      x = F.relu(self.fc1(x))\n",
    "      x = F.relu(self.fc2(x))\n",
    "      x = self.fc3(x)\n",
    "      return x"
   ]
  },
  {
   "cell_type": "markdown",
   "metadata": {
    "id": "SVI6ulUNXryw"
   },
   "source": [
    "Now, we need to write a function to train and optimize the neural network model we have defined by training on the CIFAR-10 dataset:"
   ]
  },
  {
   "cell_type": "code",
   "execution_count": 51,
   "metadata": {
    "id": "vN4swsqmXo-R",
    "scrolled": true
   },
   "outputs": [],
   "source": [
    "def train_model():\n",
    "  net = ConvNet()\n",
    "  loss_function = nn.CrossEntropyLoss()\n",
    "  optimizer = optim.SGD(net.parameters(), lr=0.001, momentum=0.9)\n",
    "  num_epochs = 2\n",
    "  print(f\"[Epoch #, Batch #, Average Loss]:\")\n",
    "  for epoch in range(num_epochs):\n",
    "      total_loss = 0.0\n",
    "      for idx, data in enumerate(train_loader, 0):\n",
    "          inputs, labels = data\n",
    "          optimizer.zero_grad()\n",
    "\n",
    "          outputs = net(inputs)\n",
    "          batch_loss = loss_function(outputs, labels)\n",
    "          batch_loss.backward()\n",
    "          optimizer.step()\n",
    "\n",
    "          total_loss += batch_loss.item()\n",
    "          if idx % 2000 == 1999:    # Log average loss every 2000 mini-batches\n",
    "              print(f\"[{epoch + 1}, {idx + 1}, {total_loss / 2000}]\")\n",
    "              total_loss = 0 # Reset total loss\n",
    "  return net\n",
    "\n",
    "trained_net = train_model()"
   ]
  },
  {
   "cell_type": "markdown",
   "metadata": {
    "id": "OQ7M35emX6KV"
   },
   "source": [
    "Finally, let's evaluate our baseline model's performance on the validation dataset:"
   ]
  },
  {
   "cell_type": "code",
   "execution_count": null,
   "metadata": {
    "id": "uozN7noHX4Tu"
   },
   "outputs": [],
   "source": [
    "# Now we use our trained model to find our accuracy on the test dataset:\n",
    "\n",
    "with torch.no_grad():\n",
    "  correct_count = 0\n",
    "  total_count = 0\n",
    "  for data in test_loader:\n",
    "    images, labels = data\n",
    "    outputs = trained_net(images)\n",
    "    # Find the index with the highest predicted value in our model output:\n",
    "    _, predicted = torch.max(outputs.data, 1)\n",
    "    total_count += labels.size(0)\n",
    "    correct_count += (predicted == labels).sum().item()\n",
    "\n",
    "print(f\"Baseline model accuracy: {100 * correct_count / total_count}%\")"
   ]
  },
  {
   "cell_type": "markdown",
   "metadata": {
    "id": "pFyRvvysgXv1"
   },
   "source": [
    "You should get something in the range 40-60%. Not bad, given that a naïve guess would give us 10% accuracy, but we can do a lot better. Let's first try using the `ray.tune` package to implement a simple random search."
   ]
  },
  {
   "cell_type": "markdown",
   "metadata": {
    "id": "9mEWP3TrhzL5"
   },
   "source": [
    "First, we need to combine our training and validation steps into a single dataset. Ray requires a single function, and we would like to optimize over the mean accuracy on our validation dataset."
   ]
  },
  {
   "cell_type": "code",
   "execution_count": 2,
   "metadata": {
    "id": "mEoQ2LZclSR4"
   },
   "outputs": [],
   "source": [
    "def evaluate_model(net, data_loader):\n",
    "  with torch.no_grad():\n",
    "    correct_count = 0\n",
    "    total_count = 0\n",
    "    for data in data_loader:\n",
    "      images, labels = data\n",
    "      outputs = net(images)\n",
    "      # Find the index with the highest predicted value in our model output:\n",
    "      _, predicted = torch.max(outputs.data, 1)\n",
    "      total_count += labels.size(0)\n",
    "      correct_count += (predicted == labels).sum().item()\n",
    "  mean_val_accuracy = correct_count / total_count\n",
    "  return mean_val_accuracy"
   ]
  },
  {
   "cell_type": "code",
   "execution_count": 19,
   "metadata": {
    "id": "LAAXpPcjhxCj"
   },
   "outputs": [],
   "source": [
    "import os\n",
    "def train_eval_model(config, checkpoint_dir=\"/checkpoints\"):\n",
    "  # Create our data loaders, model, and optimizer.\n",
    "  step = 0\n",
    "  train_loader, test_loader = get_data_loaders()\n",
    "\n",
    "  model = ConvNet()\n",
    "  loss_function = nn.CrossEntropyLoss()\n",
    "  # Notice that we dynamically extract hyperparameters from the config dict:\n",
    "  optimizer = optim.SGD(model.parameters(),\n",
    "                        lr=config.get(\"lr\", 0.01),\n",
    "                        momentum=config.get(\"momentum\", 0.9))\n",
    "  print(f\"[Epoch #, Batch #, Average Loss]:\")\n",
    "  while True:\n",
    "    # Train model\n",
    "    for epoch in range(config.get(\"num_epochs\", 2)):\n",
    "      total_loss = 0.0\n",
    "      for idx, data in enumerate(train_loader, 0):\n",
    "          inputs, labels = data\n",
    "          optimizer.zero_grad()\n",
    "\n",
    "          outputs = model(inputs)\n",
    "          batch_loss = loss_function(outputs, labels)\n",
    "          batch_loss.backward()\n",
    "          optimizer.step()\n",
    "\n",
    "          total_loss += batch_loss.item()\n",
    "          if idx % 2000 == 1999:    # Log average loss every 2000 mini-batches\n",
    "              print(f\"[{epoch + 1}, {idx + 1}, {total_loss / 2000}]\")\n",
    "              total_loss = 0 # Reset total loss\n",
    "    mean_val_accuracy = evaluate_model(net, test_loader)\n",
    "    print(f\"Step {step} mean validation accuracy: {mean_val_accuracy}\")\n",
    "\n",
    "    # Report to Ray to manage HP tuning\n",
    "    if step % 5 == 0:\n",
    "      # Every 5 steps, checkpoint our current state\n",
    "      with tune.checkpoint_dir(step=step) as checkpoint_dir:\n",
    "          path = os.path.join(checkpoint_dir, \"checkpoint\")\n",
    "          torch.save({\n",
    "              \"step\": step,\n",
    "              \"model_state_dict\": model.state_dict(),\n",
    "              \"mean_accuracy\": mean_val_accuracy\n",
    "          }, path)\n",
    "    step += 1\n",
    "    tune.report(mean_accuracy=mean_val_accuracy, iterations=step)"
   ]
  },
  {
   "cell_type": "code",
   "execution_count": null,
   "metadata": {
    "id": "WZjkWnqdgOaC"
   },
   "outputs": [],
   "source": [
    "analysis = tune.run(\n",
    "  train_eval_model,\n",
    "  metric=\"mean_accuracy\",\n",
    "  mode=\"max\",\n",
    "  num_samples=5,\n",
    "  config={\n",
    "      # TODO: Using tune.choice and tune.uniform, provide a sample range\n",
    "      # for random search for the epoch count, learning rate, and momentum:\n",
    "      # \"epochs\": <your code>,\n",
    "      # \"lr\": <your code>,\n",
    "      # \"momentum\": <your code>,\n",
    "  })"
   ]
  },
  {
   "cell_type": "markdown",
   "metadata": {
    "id": "Ee7Y5onKongs"
   },
   "source": [
    "With a purely random approach, you will likely see a wide variety of model performances. Instead, we should try to select our hyperparameters more cleverly."
   ]
  },
  {
   "cell_type": "markdown",
   "metadata": {
    "id": "cSposfpgpIIo"
   },
   "source": [
    "## Problem 1: Population-Based Training\n",
    "\n",
    "Population-based training builds off of the random and grid search approaches to hyperparameter tuning that we have explored in class, by choosing a more clever way of refining . This same technique was used by DeepMind in optimizing hyperparameters for solving Atari, StarCraft II, and has also proven successful in tuning other types of models like generative adversarial networks (GANs) and machine translation models. In essence, it's a highly adaptable, largely model-agnostic method that can greatly streamline the hyperparameter tuning process.\n",
    "\n"
   ]
  },
  {
   "cell_type": "markdown",
   "metadata": {
    "id": "j0s7f0Rs3WQZ"
   },
   "source": [
    "First, we define our scheduler. This is the principal component of PBT that allocates different HP configurations for different trials during the HPO process:"
   ]
  },
  {
   "cell_type": "code",
   "execution_count": 16,
   "metadata": {
    "id": "gxviviX2om6p"
   },
   "outputs": [],
   "source": [
    "pbt_scheduler = PopulationBasedTraining(\n",
    "    perturbation_interval=2,\n",
    "    hyperparam_mutations={\n",
    "        # distribution for resampling\n",
    "        \"lr\": lambda: np.random.uniform(0.0001, 1),\n",
    "        # allow perturbations within this set of categorical values\n",
    "        \"momentum\": [0.8, 0.9, 0.99],\n",
    "    }\n",
    ")"
   ]
  },
  {
   "cell_type": "markdown",
   "metadata": {
    "id": "rX1H067w3dZp"
   },
   "source": [
    "Next, we define a Stopper to halt the HP optimization when we reach 20 trials or the mean validation accuracy exceeds 60%."
   ]
  },
  {
   "cell_type": "code",
   "execution_count": 3,
   "metadata": {
    "id": "Zn-HCd9Uk-8K"
   },
   "outputs": [],
   "source": [
    "class Stopper(tune.Stopper):\n",
    "        def __init__(self):\n",
    "            self.should_stop = False\n",
    "\n",
    "        def __call__(self, trial_id, result):\n",
    "            max_num_trials = 20\n",
    "            if not self.should_stop and result[\"mean_accuracy\"] > 0.7:\n",
    "              self.should_stop = True\n",
    "            return self.should_stop or result[\"training_iteration\"] >= max_num_trials\n",
    "\n",
    "        def stop_all(self):\n",
    "            return self.should_stop"
   ]
  },
  {
   "cell_type": "code",
   "execution_count": 18,
   "metadata": {
    "colab": {
     "background_save": true
    },
    "id": "8VaxxcM2k8rz"
   },
   "outputs": [
    {
     "data": {
      "text/html": [
       "== Status ==<br>Current time: 2021-11-30 23:36:06 (running for 00:01:15.97)<br>Memory usage on this node: 10.8/16.0 GiB<br>PopulationBasedTraining: 0 checkpoints, 0 perturbs<br>Resources requested: 4.0/12 CPUs, 0/0 GPUs, 0.0/4.75 GiB heap, 0.0/2.37 GiB objects<br>Result logdir: /Users/wenxindong/ray_results/pbt_test<br>Number of trials: 4/4 (4 RUNNING)<br><br>"
      ],
      "text/plain": [
       "<IPython.core.display.HTML object>"
      ]
     },
     "metadata": {},
     "output_type": "display_data"
    },
    {
     "name": "stderr",
     "output_type": "stream",
     "text": [
      "2021-11-30 23:36:06,668\tERROR tune.py:626 -- Trials did not complete: [train_eval_model_2aa5e_00000, train_eval_model_2aa5e_00001, train_eval_model_2aa5e_00002, train_eval_model_2aa5e_00003]\n",
      "2021-11-30 23:36:06,670\tINFO tune.py:630 -- Total run time: 76.53 seconds (75.97 seconds for the tuning loop).\n",
      "2021-11-30 23:36:06,671\tWARNING tune.py:635 -- Experiment has been interrupted, but the most recent state was saved. You can continue running this experiment by passing `resume=True` to `tune.run()`\n"
     ]
    }
   ],
   "source": [
    "pbt_analysis = tune.run(\n",
    "    train_eval_model,\n",
    "    name=\"pbt_test\",\n",
    "    scheduler=pbt_scheduler,\n",
    "    metric=\"mean_accuracy\",\n",
    "    mode=\"max\",\n",
    "    verbose=1,\n",
    "    stop=Stopper(),\n",
    "    export_formats=[ExportFormat.MODEL],\n",
    "    checkpoint_score_attr=\"mean_accuracy\",\n",
    "    keep_checkpoints_num=4,\n",
    "    num_samples=4,\n",
    "    config={\"lr\": tune.choice([1e-5, 1e-3]),\"momentum\": tune.choice([0.85, 0.95]),})"
   ]
  },
  {
   "cell_type": "markdown",
   "metadata": {
    "id": "IC_DeaqZIhXF"
   },
   "source": [
    "Use the following code to plot your results. What is your best mean validation accuracy? What would you need to get it even higher and gain substantial improvement over random search HPO?\n",
    "\n",
    "  **TODO**: Your response."
   ]
  },
  {
   "cell_type": "code",
   "execution_count": 53,
   "metadata": {
    "id": "sO_Apr7W1oxn"
   },
   "outputs": [],
   "source": [
    "pbt_analysis.best_result['mean_accuracy']"
   ]
  },
  {
   "cell_type": "code",
   "execution_count": 1,
   "metadata": {
    "id": "6x8zTzOG0nO2"
   },
   "outputs": [
    {
     "ename": "NameError",
     "evalue": "name 'pbt_analysis' is not defined",
     "output_type": "error",
     "traceback": [
      "\u001b[0;31m---------------------------------------------------------------------------\u001b[0m",
      "\u001b[0;31mNameError\u001b[0m                                 Traceback (most recent call last)",
      "\u001b[0;32m<ipython-input-1-461c6b6f7b32>\u001b[0m in \u001b[0;36m<module>\u001b[0;34m\u001b[0m\n\u001b[1;32m      2\u001b[0m \u001b[0;31m# Plot by wall-clock time\u001b[0m\u001b[0;34m\u001b[0m\u001b[0;34m\u001b[0m\u001b[0;34m\u001b[0m\u001b[0m\n\u001b[1;32m      3\u001b[0m \u001b[0;34m\u001b[0m\u001b[0m\n\u001b[0;32m----> 4\u001b[0;31m \u001b[0mdfs\u001b[0m \u001b[0;34m=\u001b[0m \u001b[0mpbt_analysis\u001b[0m\u001b[0;34m.\u001b[0m\u001b[0mfetch_trial_dataframes\u001b[0m\u001b[0;34m(\u001b[0m\u001b[0;34m)\u001b[0m\u001b[0;34m\u001b[0m\u001b[0;34m\u001b[0m\u001b[0m\n\u001b[0m\u001b[1;32m      5\u001b[0m \u001b[0mprint\u001b[0m\u001b[0;34m(\u001b[0m\u001b[0mdfs\u001b[0m\u001b[0;34m)\u001b[0m\u001b[0;34m\u001b[0m\u001b[0;34m\u001b[0m\u001b[0m\n\u001b[1;32m      6\u001b[0m \u001b[0;31m# This plots everything on the same plot\u001b[0m\u001b[0;34m\u001b[0m\u001b[0;34m\u001b[0m\u001b[0;34m\u001b[0m\u001b[0m\n",
      "\u001b[0;31mNameError\u001b[0m: name 'pbt_analysis' is not defined"
     ]
    }
   ],
   "source": [
    "from matplotlib import pyplot as plt\n",
    "# Plot by wall-clock time\n",
    "\n",
    "dfs = pbt_analysis.fetch_trial_dataframes()\n",
    "print(dfs)\n",
    "# This plots everything on the same plot\n",
    "ax = None\n",
    "for d in dfs.values():\n",
    "    ax = d.plot(\"training_iteration\", \"mean_accuracy\", ax=ax, legend=False)\n",
    "\n",
    "plt.xlabel(\"epoch\"); plt.ylabel(\"Test Accuracy\"); "
   ]
  },
  {
   "cell_type": "markdown",
   "metadata": {
    "id": "E34W26bRq9C5"
   },
   "source": [
    "# Questions\n",
    "\n",
    "1. Why does PBT tend to find good regions of hyperparameter space faster than random search? \n",
    "\n",
    "    **TODO**: Your response.\n",
    "\n",
    "2. In what cases might you begin with random search rather than a more complex algorithm like PBT?\n",
    "\n",
    "    **TODO**: Your response.\n",
    "\n",
    "3. Why is it that PBT cannot be used to tune model architecture hyperparameters?\n",
    "\n",
    "    **TODO**: Your response."
   ]
  },
  {
   "cell_type": "markdown",
   "metadata": {
    "id": "1JQEKrOisNVF"
   },
   "source": [
    "## Problem 2: ASHA\n",
    "\n",
    "With ASHA, we will attempt to address some of the deficits that we encountered using PBT. ASHA is one of the options including in the `ray.tune` library, so we can use a similar `scheduler` and `analysis` definition in preparing our ASHA hyperparameter search. "
   ]
  },
  {
   "cell_type": "code",
   "execution_count": 43,
   "metadata": {
    "id": "o1d-Fd4Yq7uk"
   },
   "outputs": [],
   "source": [
    "# Import PyTorch and vision libraries\n",
    "import torch\n",
    "import torchvision\n",
    "import torchvision.transforms as transforms\n",
    "import torch.nn as nn\n",
    "import torch.nn.functional as F\n",
    "import torch.optim as optim\n",
    "import ray\n",
    "from ray import tune\n",
    "from ray.tune.schedulers import PopulationBasedTraining\n",
    "from ray.tune.trial import ExportFormat\n",
    "import numpy as np\n",
    "\n",
    "def evaluate_model(net, data_loader):\n",
    "  with torch.no_grad():\n",
    "    correct_count = 0\n",
    "    total_count = 0\n",
    "    for data in data_loader:\n",
    "      images, labels = data\n",
    "      outputs = net(images)\n",
    "      # Find the index with the highest predicted value in our model output:\n",
    "      _, predicted = torch.max(outputs.data, 1)\n",
    "      total_count += labels.size(0)\n",
    "      correct_count += (predicted == labels).sum().item()\n",
    "  mean_val_accuracy = correct_count / total_count\n",
    "  return mean_val_accuracy\n",
    "\n",
    "def get_data_loaders(config):\n",
    "  transform = transforms.Compose(\n",
    "    [transforms.ToTensor(),\n",
    "     transforms.Normalize((0.5, 0.5, 0.5), (0.5, 0.5, 0.5))])\n",
    "  train_dataset = torchvision.datasets.CIFAR10(root='./data', train=True,\n",
    "                                              download=True, transform=transform)\n",
    "\n",
    "  test_dataset = torchvision.datasets.CIFAR10(root='./data', train=False,\n",
    "                                            download=True, transform=transform)\n",
    "\n",
    "  batch_size = config[\"batch\"]\n",
    "  train_loader = torch.utils.data.DataLoader(train_dataset, batch_size=batch_size,\n",
    "                                            shuffle=True, num_workers=2)\n",
    "\n",
    "  test_loader = torch.utils.data.DataLoader(test_dataset, batch_size=batch_size,\n",
    "                                          shuffle=False, num_workers=2)\n",
    "\n",
    "  classes = ('plane', 'car', 'bird', 'cat',\n",
    "            'deer', 'dog', 'frog', 'horse', 'ship', 'truck')\n",
    "  return train_loader, test_loader\n",
    "\n",
    "class HPNet(nn.Module):\n",
    "  # TODO: Fill in these methods, letting the config set the number of \n",
    "  # input/output channels in the first and second layers:\n",
    "  # config is expected to be a dictionary, with values\n",
    "  # config[\"layer1\"] = (kernel size, output channels)\n",
    "  def __init__(self, config):\n",
    "    super().__init__()\n",
    "    kernel_1 = 5\n",
    "    output_channel_1 = config[\"layer1_out\"]\n",
    "    self.conv1 = nn.Conv2d(3, output_channel_1, kernel_1) \n",
    "    self.pool = nn.MaxPool2d(2, 2)\n",
    "    kernel_2 = 5\n",
    "    output_channel_2 = config[\"layer2_out\"] \n",
    "\n",
    "    self.conv2 = nn.Conv2d(output_channel_1, output_channel_2, kernel_2) \n",
    "    self.flattened_linear_input =  int(((32-kernel_1+1)/2 - kernel_2+1) //2) *int(((32-kernel_1+1)/2 - kernel_2+1) //2) *  output_channel_2\n",
    "\n",
    "    self.fc1 = nn.Linear(self.flattened_linear_input, 120) #we need to change 180 to a variable 180 = 5*6*6\n",
    "    self.fc2 = nn.Linear(120, 84)\n",
    "    self.fc3 = nn.Linear(84, 10) # TODO: Add a final dense layer\n",
    "\n",
    "\n",
    "  def forward(self, x):\n",
    "#       print(\"x1\",x.shape)\n",
    "      x = self.pool(F.relu(self.conv1(x)))\n",
    "#       print(\"x2\", x.shape)\n",
    "      x = self.pool(F.relu(self.conv2(x)))\n",
    "#       print(\"x3\", x.shape)  output_channel_1, (32-kernel_1+1)/2 , (32-kernel_1+1)/2\n",
    "      x = torch.flatten(x, 1) # flatten all dimensions except batch\n",
    "#       print(\"x4\", x.shape)\n",
    "      x = F.relu(self.fc1(x))\n",
    "#       print(\"x5\", x.shape)\n",
    "      x = F.relu(self.fc2(x))\n",
    "#       print(\"x6\", x.shape)\n",
    "      x = self.fc3(x)\n",
    "#       print(\"x7\", x.shape)\n",
    "      return x\n",
    "  "
   ]
  },
  {
   "cell_type": "code",
   "execution_count": 13,
   "metadata": {
    "id": "sbtECe2ogW5l"
   },
   "outputs": [],
   "source": [
    "import os\n",
    "def train_eval_model(config, checkpoint_dir=\"/checkpoints\"):\n",
    "  # Create our data loaders, model, and optimizer.\n",
    "  step = 0\n",
    "  train_loader, test_loader = get_data_loaders(config)\n",
    "\n",
    "  model = HPNet(config)\n",
    "  loss_function = nn.CrossEntropyLoss()\n",
    "  optimizer = optim.SGD(model.parameters(),\n",
    "                        lr=config.get(\"lr\", 0.01),\n",
    "                        momentum=config.get(\"momentum\", 0.9))\n",
    "  print(f\"[Epoch #, Batch #, Average Loss]:\")\n",
    "  # Train model\n",
    "  while True:\n",
    "      for epoch in range(config.get(\"num_epochs\", 2)):\n",
    "          total_loss = 0.0\n",
    "          for idx, data in enumerate(train_loader, 0):\n",
    "              inputs, labels = data\n",
    "              optimizer.zero_grad()\n",
    "\n",
    "              outputs = model(inputs)\n",
    "              batch_loss = loss_function(outputs, labels)\n",
    "              batch_loss.backward()\n",
    "              optimizer.step()\n",
    "\n",
    "              total_loss += batch_loss.item()\n",
    "              if idx % 2000 == 1999:    # Log average loss every 2000 mini-batches\n",
    "                  print(f\"[{epoch + 1}, {idx + 1}, {total_loss / 2000}]\")\n",
    "                  total_loss = 0 # Reset total loss\n",
    "\n",
    "      # Evaluate model on validation dataset\n",
    "      mean_val_accuracy = evaluate_model(model, test_loader)\n",
    "\n",
    "      # Report to Ray to manage HP tuning\n",
    "      if step % 5 == 0:\n",
    "        # Every 5 steps, checkpoint our current state.\n",
    "        with tune.checkpoint_dir(step=step) as checkpoint_dir:\n",
    "            # Then create a checkpoint file in this directory.\n",
    "            path = os.path.join(checkpoint_dir, \"checkpoint\")\n",
    "            # Save state to checkpoint file.\n",
    "            # No need to save optimizer for SGD.\n",
    "            torch.save({\n",
    "                \"step\": step,\n",
    "                \"model_state_dict\": model.state_dict(),\n",
    "                \"mean_accuracy\": mean_val_accuracy\n",
    "            }, path)\n",
    "      step += 1\n",
    "      tune.report(mean_accuracy=mean_val_accuracy, iterations=step, training_iteration=step)"
   ]
  },
  {
   "cell_type": "code",
   "execution_count": 16,
   "metadata": {
    "id": "sGVO34Dmgi1n"
   },
   "outputs": [
    {
     "data": {
      "text/html": [
       "== Status ==<br>Current time: 2021-12-02 20:46:33 (running for 00:00:00.23)<br>Memory usage on this node: 10.6/16.0 GiB<br>Using AsyncHyperBand: num_stopped=0\n",
       "Bracket: Iter 512.000: None | Iter 256.000: None | Iter 128.000: None | Iter 64.000: None | Iter 32.000: None | Iter 16.000: None | Iter 8.000: None | Iter 4.000: None | Iter 2.000: None<br>Resources requested: 0/12 CPUs, 0/0 GPUs, 0.0/4.27 GiB heap, 0.0/2.14 GiB objects<br>Result logdir: /Users/wenxindong/ray_results/train_asha<br>Number of trials: 16/16 (16 PENDING)<br><br>"
      ],
      "text/plain": [
       "<IPython.core.display.HTML object>"
      ]
     },
     "metadata": {},
     "output_type": "display_data"
    },
    {
     "data": {
      "text/html": [
       "== Status ==<br>Current time: 2021-12-02 20:46:38 (running for 00:00:05.27)<br>Memory usage on this node: 10.9/16.0 GiB<br>Using AsyncHyperBand: num_stopped=0\n",
       "Bracket: Iter 512.000: None | Iter 256.000: None | Iter 128.000: None | Iter 64.000: None | Iter 32.000: None | Iter 16.000: None | Iter 8.000: None | Iter 4.000: None | Iter 2.000: None<br>Resources requested: 12.0/12 CPUs, 0/0 GPUs, 0.0/4.27 GiB heap, 0.0/2.14 GiB objects<br>Result logdir: /Users/wenxindong/ray_results/train_asha<br>Number of trials: 16/16 (4 PENDING, 12 RUNNING)<br><br>"
      ],
      "text/plain": [
       "<IPython.core.display.HTML object>"
      ]
     },
     "metadata": {},
     "output_type": "display_data"
    },
    {
     "data": {
      "text/html": [
       "== Status ==<br>Current time: 2021-12-02 20:46:44 (running for 00:00:11.21)<br>Memory usage on this node: 10.7/16.0 GiB<br>Using AsyncHyperBand: num_stopped=0\n",
       "Bracket: Iter 512.000: None | Iter 256.000: None | Iter 128.000: None | Iter 64.000: None | Iter 32.000: None | Iter 16.000: None | Iter 8.000: None | Iter 4.000: None | Iter 2.000: None<br>Resources requested: 12.0/12 CPUs, 0/0 GPUs, 0.0/4.27 GiB heap, 0.0/2.14 GiB objects<br>Result logdir: /Users/wenxindong/ray_results/train_asha<br>Number of trials: 16/16 (4 PENDING, 12 RUNNING)<br><br>"
      ],
      "text/plain": [
       "<IPython.core.display.HTML object>"
      ]
     },
     "metadata": {},
     "output_type": "display_data"
    },
    {
     "data": {
      "text/html": [
       "== Status ==<br>Current time: 2021-12-02 20:46:49 (running for 00:00:16.24)<br>Memory usage on this node: 10.8/16.0 GiB<br>Using AsyncHyperBand: num_stopped=0\n",
       "Bracket: Iter 512.000: None | Iter 256.000: None | Iter 128.000: None | Iter 64.000: None | Iter 32.000: None | Iter 16.000: None | Iter 8.000: None | Iter 4.000: None | Iter 2.000: None<br>Resources requested: 12.0/12 CPUs, 0/0 GPUs, 0.0/4.27 GiB heap, 0.0/2.14 GiB objects<br>Result logdir: /Users/wenxindong/ray_results/train_asha<br>Number of trials: 16/16 (4 PENDING, 12 RUNNING)<br><br>"
      ],
      "text/plain": [
       "<IPython.core.display.HTML object>"
      ]
     },
     "metadata": {},
     "output_type": "display_data"
    },
    {
     "data": {
      "text/html": [
       "== Status ==<br>Current time: 2021-12-02 20:46:54 (running for 00:00:21.27)<br>Memory usage on this node: 10.7/16.0 GiB<br>Using AsyncHyperBand: num_stopped=0\n",
       "Bracket: Iter 512.000: None | Iter 256.000: None | Iter 128.000: None | Iter 64.000: None | Iter 32.000: None | Iter 16.000: None | Iter 8.000: None | Iter 4.000: None | Iter 2.000: None<br>Resources requested: 12.0/12 CPUs, 0/0 GPUs, 0.0/4.27 GiB heap, 0.0/2.14 GiB objects<br>Result logdir: /Users/wenxindong/ray_results/train_asha<br>Number of trials: 16/16 (4 PENDING, 12 RUNNING)<br><br>"
      ],
      "text/plain": [
       "<IPython.core.display.HTML object>"
      ]
     },
     "metadata": {},
     "output_type": "display_data"
    },
    {
     "data": {
      "text/html": [
       "== Status ==<br>Current time: 2021-12-02 20:46:59 (running for 00:00:26.30)<br>Memory usage on this node: 10.7/16.0 GiB<br>Using AsyncHyperBand: num_stopped=0\n",
       "Bracket: Iter 512.000: None | Iter 256.000: None | Iter 128.000: None | Iter 64.000: None | Iter 32.000: None | Iter 16.000: None | Iter 8.000: None | Iter 4.000: None | Iter 2.000: None<br>Resources requested: 12.0/12 CPUs, 0/0 GPUs, 0.0/4.27 GiB heap, 0.0/2.14 GiB objects<br>Result logdir: /Users/wenxindong/ray_results/train_asha<br>Number of trials: 16/16 (4 PENDING, 12 RUNNING)<br><br>"
      ],
      "text/plain": [
       "<IPython.core.display.HTML object>"
      ]
     },
     "metadata": {},
     "output_type": "display_data"
    },
    {
     "data": {
      "text/html": [
       "== Status ==<br>Current time: 2021-12-02 20:47:04 (running for 00:00:31.32)<br>Memory usage on this node: 10.7/16.0 GiB<br>Using AsyncHyperBand: num_stopped=0\n",
       "Bracket: Iter 512.000: None | Iter 256.000: None | Iter 128.000: None | Iter 64.000: None | Iter 32.000: None | Iter 16.000: None | Iter 8.000: None | Iter 4.000: None | Iter 2.000: None<br>Resources requested: 12.0/12 CPUs, 0/0 GPUs, 0.0/4.27 GiB heap, 0.0/2.14 GiB objects<br>Result logdir: /Users/wenxindong/ray_results/train_asha<br>Number of trials: 16/16 (4 PENDING, 12 RUNNING)<br><br>"
      ],
      "text/plain": [
       "<IPython.core.display.HTML object>"
      ]
     },
     "metadata": {},
     "output_type": "display_data"
    },
    {
     "data": {
      "text/html": [
       "== Status ==<br>Current time: 2021-12-02 20:47:09 (running for 00:00:36.36)<br>Memory usage on this node: 10.7/16.0 GiB<br>Using AsyncHyperBand: num_stopped=0\n",
       "Bracket: Iter 512.000: None | Iter 256.000: None | Iter 128.000: None | Iter 64.000: None | Iter 32.000: None | Iter 16.000: None | Iter 8.000: None | Iter 4.000: None | Iter 2.000: None<br>Resources requested: 12.0/12 CPUs, 0/0 GPUs, 0.0/4.27 GiB heap, 0.0/2.14 GiB objects<br>Result logdir: /Users/wenxindong/ray_results/train_asha<br>Number of trials: 16/16 (4 PENDING, 12 RUNNING)<br><br>"
      ],
      "text/plain": [
       "<IPython.core.display.HTML object>"
      ]
     },
     "metadata": {},
     "output_type": "display_data"
    },
    {
     "data": {
      "text/html": [
       "== Status ==<br>Current time: 2021-12-02 20:47:14 (running for 00:00:41.39)<br>Memory usage on this node: 10.7/16.0 GiB<br>Using AsyncHyperBand: num_stopped=0\n",
       "Bracket: Iter 512.000: None | Iter 256.000: None | Iter 128.000: None | Iter 64.000: None | Iter 32.000: None | Iter 16.000: None | Iter 8.000: None | Iter 4.000: None | Iter 2.000: None<br>Resources requested: 12.0/12 CPUs, 0/0 GPUs, 0.0/4.27 GiB heap, 0.0/2.14 GiB objects<br>Result logdir: /Users/wenxindong/ray_results/train_asha<br>Number of trials: 16/16 (4 PENDING, 12 RUNNING)<br><br>"
      ],
      "text/plain": [
       "<IPython.core.display.HTML object>"
      ]
     },
     "metadata": {},
     "output_type": "display_data"
    },
    {
     "data": {
      "text/html": [
       "== Status ==<br>Current time: 2021-12-02 20:47:19 (running for 00:00:46.41)<br>Memory usage on this node: 10.7/16.0 GiB<br>Using AsyncHyperBand: num_stopped=0\n",
       "Bracket: Iter 512.000: None | Iter 256.000: None | Iter 128.000: None | Iter 64.000: None | Iter 32.000: None | Iter 16.000: None | Iter 8.000: None | Iter 4.000: None | Iter 2.000: None<br>Resources requested: 12.0/12 CPUs, 0/0 GPUs, 0.0/4.27 GiB heap, 0.0/2.14 GiB objects<br>Result logdir: /Users/wenxindong/ray_results/train_asha<br>Number of trials: 16/16 (4 PENDING, 12 RUNNING)<br><br>"
      ],
      "text/plain": [
       "<IPython.core.display.HTML object>"
      ]
     },
     "metadata": {},
     "output_type": "display_data"
    },
    {
     "data": {
      "text/html": [
       "== Status ==<br>Current time: 2021-12-02 20:47:24 (running for 00:00:51.44)<br>Memory usage on this node: 10.8/16.0 GiB<br>Using AsyncHyperBand: num_stopped=0\n",
       "Bracket: Iter 512.000: None | Iter 256.000: None | Iter 128.000: None | Iter 64.000: None | Iter 32.000: None | Iter 16.000: None | Iter 8.000: None | Iter 4.000: None | Iter 2.000: None<br>Resources requested: 12.0/12 CPUs, 0/0 GPUs, 0.0/4.27 GiB heap, 0.0/2.14 GiB objects<br>Result logdir: /Users/wenxindong/ray_results/train_asha<br>Number of trials: 16/16 (4 PENDING, 12 RUNNING)<br><br>"
      ],
      "text/plain": [
       "<IPython.core.display.HTML object>"
      ]
     },
     "metadata": {},
     "output_type": "display_data"
    },
    {
     "data": {
      "text/html": [
       "== Status ==<br>Current time: 2021-12-02 20:47:29 (running for 00:00:56.46)<br>Memory usage on this node: 10.7/16.0 GiB<br>Using AsyncHyperBand: num_stopped=0\n",
       "Bracket: Iter 512.000: None | Iter 256.000: None | Iter 128.000: None | Iter 64.000: None | Iter 32.000: None | Iter 16.000: None | Iter 8.000: None | Iter 4.000: None | Iter 2.000: None<br>Resources requested: 12.0/12 CPUs, 0/0 GPUs, 0.0/4.27 GiB heap, 0.0/2.14 GiB objects<br>Result logdir: /Users/wenxindong/ray_results/train_asha<br>Number of trials: 16/16 (4 PENDING, 12 RUNNING)<br><br>"
      ],
      "text/plain": [
       "<IPython.core.display.HTML object>"
      ]
     },
     "metadata": {},
     "output_type": "display_data"
    },
    {
     "data": {
      "text/html": [
       "== Status ==<br>Current time: 2021-12-02 20:47:34 (running for 00:01:01.50)<br>Memory usage on this node: 10.7/16.0 GiB<br>Using AsyncHyperBand: num_stopped=0\n",
       "Bracket: Iter 512.000: None | Iter 256.000: None | Iter 128.000: None | Iter 64.000: None | Iter 32.000: None | Iter 16.000: None | Iter 8.000: None | Iter 4.000: None | Iter 2.000: None<br>Resources requested: 12.0/12 CPUs, 0/0 GPUs, 0.0/4.27 GiB heap, 0.0/2.14 GiB objects<br>Result logdir: /Users/wenxindong/ray_results/train_asha<br>Number of trials: 16/16 (4 PENDING, 12 RUNNING)<br><br>"
      ],
      "text/plain": [
       "<IPython.core.display.HTML object>"
      ]
     },
     "metadata": {},
     "output_type": "display_data"
    },
    {
     "data": {
      "text/html": [
       "== Status ==<br>Current time: 2021-12-02 20:47:39 (running for 00:01:06.53)<br>Memory usage on this node: 10.8/16.0 GiB<br>Using AsyncHyperBand: num_stopped=0\n",
       "Bracket: Iter 512.000: None | Iter 256.000: None | Iter 128.000: None | Iter 64.000: None | Iter 32.000: None | Iter 16.000: None | Iter 8.000: None | Iter 4.000: None | Iter 2.000: None<br>Resources requested: 12.0/12 CPUs, 0/0 GPUs, 0.0/4.27 GiB heap, 0.0/2.14 GiB objects<br>Result logdir: /Users/wenxindong/ray_results/train_asha<br>Number of trials: 16/16 (4 PENDING, 12 RUNNING)<br><br>"
      ],
      "text/plain": [
       "<IPython.core.display.HTML object>"
      ]
     },
     "metadata": {},
     "output_type": "display_data"
    },
    {
     "data": {
      "text/html": [
       "== Status ==<br>Current time: 2021-12-02 20:47:44 (running for 00:01:11.56)<br>Memory usage on this node: 10.8/16.0 GiB<br>Using AsyncHyperBand: num_stopped=0\n",
       "Bracket: Iter 512.000: None | Iter 256.000: None | Iter 128.000: None | Iter 64.000: None | Iter 32.000: None | Iter 16.000: None | Iter 8.000: None | Iter 4.000: None | Iter 2.000: None<br>Resources requested: 12.0/12 CPUs, 0/0 GPUs, 0.0/4.27 GiB heap, 0.0/2.14 GiB objects<br>Result logdir: /Users/wenxindong/ray_results/train_asha<br>Number of trials: 16/16 (4 PENDING, 12 RUNNING)<br><br>"
      ],
      "text/plain": [
       "<IPython.core.display.HTML object>"
      ]
     },
     "metadata": {},
     "output_type": "display_data"
    },
    {
     "data": {
      "text/html": [
       "== Status ==<br>Current time: 2021-12-02 20:47:49 (running for 00:01:16.59)<br>Memory usage on this node: 10.8/16.0 GiB<br>Using AsyncHyperBand: num_stopped=0\n",
       "Bracket: Iter 512.000: None | Iter 256.000: None | Iter 128.000: None | Iter 64.000: None | Iter 32.000: None | Iter 16.000: None | Iter 8.000: None | Iter 4.000: None | Iter 2.000: None<br>Resources requested: 12.0/12 CPUs, 0/0 GPUs, 0.0/4.27 GiB heap, 0.0/2.14 GiB objects<br>Result logdir: /Users/wenxindong/ray_results/train_asha<br>Number of trials: 16/16 (4 PENDING, 12 RUNNING)<br><br>"
      ],
      "text/plain": [
       "<IPython.core.display.HTML object>"
      ]
     },
     "metadata": {},
     "output_type": "display_data"
    },
    {
     "data": {
      "text/html": [
       "== Status ==<br>Current time: 2021-12-02 20:47:54 (running for 00:01:21.63)<br>Memory usage on this node: 10.8/16.0 GiB<br>Using AsyncHyperBand: num_stopped=0\n",
       "Bracket: Iter 512.000: None | Iter 256.000: None | Iter 128.000: None | Iter 64.000: None | Iter 32.000: None | Iter 16.000: None | Iter 8.000: None | Iter 4.000: None | Iter 2.000: None<br>Resources requested: 12.0/12 CPUs, 0/0 GPUs, 0.0/4.27 GiB heap, 0.0/2.14 GiB objects<br>Result logdir: /Users/wenxindong/ray_results/train_asha<br>Number of trials: 16/16 (4 PENDING, 12 RUNNING)<br><br>"
      ],
      "text/plain": [
       "<IPython.core.display.HTML object>"
      ]
     },
     "metadata": {},
     "output_type": "display_data"
    },
    {
     "data": {
      "text/html": [
       "== Status ==<br>Current time: 2021-12-02 20:47:59 (running for 00:01:26.66)<br>Memory usage on this node: 10.8/16.0 GiB<br>Using AsyncHyperBand: num_stopped=0\n",
       "Bracket: Iter 512.000: None | Iter 256.000: None | Iter 128.000: None | Iter 64.000: None | Iter 32.000: None | Iter 16.000: None | Iter 8.000: None | Iter 4.000: None | Iter 2.000: None<br>Resources requested: 12.0/12 CPUs, 0/0 GPUs, 0.0/4.27 GiB heap, 0.0/2.14 GiB objects<br>Result logdir: /Users/wenxindong/ray_results/train_asha<br>Number of trials: 16/16 (4 PENDING, 12 RUNNING)<br><br>"
      ],
      "text/plain": [
       "<IPython.core.display.HTML object>"
      ]
     },
     "metadata": {},
     "output_type": "display_data"
    },
    {
     "data": {
      "text/html": [
       "== Status ==<br>Current time: 2021-12-02 20:48:04 (running for 00:01:31.69)<br>Memory usage on this node: 10.8/16.0 GiB<br>Using AsyncHyperBand: num_stopped=0\n",
       "Bracket: Iter 512.000: None | Iter 256.000: None | Iter 128.000: None | Iter 64.000: None | Iter 32.000: None | Iter 16.000: None | Iter 8.000: None | Iter 4.000: None | Iter 2.000: None<br>Resources requested: 12.0/12 CPUs, 0/0 GPUs, 0.0/4.27 GiB heap, 0.0/2.14 GiB objects<br>Result logdir: /Users/wenxindong/ray_results/train_asha<br>Number of trials: 16/16 (4 PENDING, 12 RUNNING)<br><br>"
      ],
      "text/plain": [
       "<IPython.core.display.HTML object>"
      ]
     },
     "metadata": {},
     "output_type": "display_data"
    },
    {
     "data": {
      "text/html": [
       "== Status ==<br>Current time: 2021-12-02 20:48:09 (running for 00:01:36.71)<br>Memory usage on this node: 10.7/16.0 GiB<br>Using AsyncHyperBand: num_stopped=0\n",
       "Bracket: Iter 512.000: None | Iter 256.000: None | Iter 128.000: None | Iter 64.000: None | Iter 32.000: None | Iter 16.000: None | Iter 8.000: None | Iter 4.000: None | Iter 2.000: None<br>Resources requested: 12.0/12 CPUs, 0/0 GPUs, 0.0/4.27 GiB heap, 0.0/2.14 GiB objects<br>Result logdir: /Users/wenxindong/ray_results/train_asha<br>Number of trials: 16/16 (4 PENDING, 12 RUNNING)<br><br>"
      ],
      "text/plain": [
       "<IPython.core.display.HTML object>"
      ]
     },
     "metadata": {},
     "output_type": "display_data"
    },
    {
     "data": {
      "text/html": [
       "== Status ==<br>Current time: 2021-12-02 20:48:14 (running for 00:01:41.74)<br>Memory usage on this node: 10.8/16.0 GiB<br>Using AsyncHyperBand: num_stopped=0\n",
       "Bracket: Iter 512.000: None | Iter 256.000: None | Iter 128.000: None | Iter 64.000: None | Iter 32.000: None | Iter 16.000: None | Iter 8.000: None | Iter 4.000: None | Iter 2.000: None<br>Resources requested: 12.0/12 CPUs, 0/0 GPUs, 0.0/4.27 GiB heap, 0.0/2.14 GiB objects<br>Result logdir: /Users/wenxindong/ray_results/train_asha<br>Number of trials: 16/16 (4 PENDING, 12 RUNNING)<br><br>"
      ],
      "text/plain": [
       "<IPython.core.display.HTML object>"
      ]
     },
     "metadata": {},
     "output_type": "display_data"
    },
    {
     "data": {
      "text/html": [
       "== Status ==<br>Current time: 2021-12-02 20:48:19 (running for 00:01:46.77)<br>Memory usage on this node: 11.1/16.0 GiB<br>Using AsyncHyperBand: num_stopped=0\n",
       "Bracket: Iter 512.000: None | Iter 256.000: None | Iter 128.000: None | Iter 64.000: None | Iter 32.000: None | Iter 16.000: None | Iter 8.000: None | Iter 4.000: None | Iter 2.000: None<br>Resources requested: 12.0/12 CPUs, 0/0 GPUs, 0.0/4.27 GiB heap, 0.0/2.14 GiB objects<br>Result logdir: /Users/wenxindong/ray_results/train_asha<br>Number of trials: 16/16 (4 PENDING, 12 RUNNING)<br><br>"
      ],
      "text/plain": [
       "<IPython.core.display.HTML object>"
      ]
     },
     "metadata": {},
     "output_type": "display_data"
    },
    {
     "data": {
      "text/html": [
       "== Status ==<br>Current time: 2021-12-02 20:48:24 (running for 00:01:51.80)<br>Memory usage on this node: 10.7/16.0 GiB<br>Using AsyncHyperBand: num_stopped=0\n",
       "Bracket: Iter 512.000: None | Iter 256.000: None | Iter 128.000: None | Iter 64.000: None | Iter 32.000: None | Iter 16.000: None | Iter 8.000: None | Iter 4.000: None | Iter 2.000: None<br>Resources requested: 12.0/12 CPUs, 0/0 GPUs, 0.0/4.27 GiB heap, 0.0/2.14 GiB objects<br>Result logdir: /Users/wenxindong/ray_results/train_asha<br>Number of trials: 16/16 (4 PENDING, 12 RUNNING)<br><br>"
      ],
      "text/plain": [
       "<IPython.core.display.HTML object>"
      ]
     },
     "metadata": {},
     "output_type": "display_data"
    },
    {
     "data": {
      "text/html": [
       "== Status ==<br>Current time: 2021-12-02 20:48:29 (running for 00:01:56.83)<br>Memory usage on this node: 10.8/16.0 GiB<br>Using AsyncHyperBand: num_stopped=0\n",
       "Bracket: Iter 512.000: None | Iter 256.000: None | Iter 128.000: None | Iter 64.000: None | Iter 32.000: None | Iter 16.000: None | Iter 8.000: None | Iter 4.000: None | Iter 2.000: None<br>Resources requested: 12.0/12 CPUs, 0/0 GPUs, 0.0/4.27 GiB heap, 0.0/2.14 GiB objects<br>Result logdir: /Users/wenxindong/ray_results/train_asha<br>Number of trials: 16/16 (4 PENDING, 12 RUNNING)<br><br>"
      ],
      "text/plain": [
       "<IPython.core.display.HTML object>"
      ]
     },
     "metadata": {},
     "output_type": "display_data"
    },
    {
     "data": {
      "text/html": [
       "== Status ==<br>Current time: 2021-12-02 20:48:34 (running for 00:02:01.86)<br>Memory usage on this node: 10.7/16.0 GiB<br>Using AsyncHyperBand: num_stopped=0\n",
       "Bracket: Iter 512.000: None | Iter 256.000: None | Iter 128.000: None | Iter 64.000: None | Iter 32.000: None | Iter 16.000: None | Iter 8.000: None | Iter 4.000: None | Iter 2.000: None<br>Resources requested: 12.0/12 CPUs, 0/0 GPUs, 0.0/4.27 GiB heap, 0.0/2.14 GiB objects<br>Result logdir: /Users/wenxindong/ray_results/train_asha<br>Number of trials: 16/16 (4 PENDING, 12 RUNNING)<br><br>"
      ],
      "text/plain": [
       "<IPython.core.display.HTML object>"
      ]
     },
     "metadata": {},
     "output_type": "display_data"
    },
    {
     "data": {
      "text/html": [
       "== Status ==<br>Current time: 2021-12-02 20:48:39 (running for 00:02:06.88)<br>Memory usage on this node: 10.8/16.0 GiB<br>Using AsyncHyperBand: num_stopped=0\n",
       "Bracket: Iter 512.000: None | Iter 256.000: None | Iter 128.000: None | Iter 64.000: None | Iter 32.000: None | Iter 16.000: None | Iter 8.000: None | Iter 4.000: None | Iter 2.000: None<br>Resources requested: 12.0/12 CPUs, 0/0 GPUs, 0.0/4.27 GiB heap, 0.0/2.14 GiB objects<br>Result logdir: /Users/wenxindong/ray_results/train_asha<br>Number of trials: 16/16 (4 PENDING, 12 RUNNING)<br><br>"
      ],
      "text/plain": [
       "<IPython.core.display.HTML object>"
      ]
     },
     "metadata": {},
     "output_type": "display_data"
    },
    {
     "data": {
      "text/html": [
       "== Status ==<br>Current time: 2021-12-02 20:48:45 (running for 00:02:11.91)<br>Memory usage on this node: 10.8/16.0 GiB<br>Using AsyncHyperBand: num_stopped=0\n",
       "Bracket: Iter 512.000: None | Iter 256.000: None | Iter 128.000: None | Iter 64.000: None | Iter 32.000: None | Iter 16.000: None | Iter 8.000: None | Iter 4.000: None | Iter 2.000: None<br>Resources requested: 12.0/12 CPUs, 0/0 GPUs, 0.0/4.27 GiB heap, 0.0/2.14 GiB objects<br>Result logdir: /Users/wenxindong/ray_results/train_asha<br>Number of trials: 16/16 (4 PENDING, 12 RUNNING)<br><br>"
      ],
      "text/plain": [
       "<IPython.core.display.HTML object>"
      ]
     },
     "metadata": {},
     "output_type": "display_data"
    },
    {
     "name": "stdout",
     "output_type": "stream",
     "text": [
      "Trial train_eval_model_fd266_00008 reported mean_accuracy=0.11 with parameters={'layer1_out': 12, 'layer2_out': 6, 'batch': 32, 'lr': 8.544767837258724e-05, 'momentum': 0.908650248796244}.\n"
     ]
    },
    {
     "data": {
      "text/html": [
       "== Status ==<br>Current time: 2021-12-02 20:48:50 (running for 00:02:17.69)<br>Memory usage on this node: 10.9/16.0 GiB<br>Using AsyncHyperBand: num_stopped=0\n",
       "Bracket: Iter 512.000: None | Iter 256.000: None | Iter 128.000: None | Iter 64.000: None | Iter 32.000: None | Iter 16.000: None | Iter 8.000: None | Iter 4.000: None | Iter 2.000: None<br>Resources requested: 12.0/12 CPUs, 0/0 GPUs, 0.0/4.27 GiB heap, 0.0/2.14 GiB objects<br>Current best trial: fd266_00008 with mean_accuracy=0.1144 and parameters={'layer1_out': 12, 'layer2_out': 6, 'batch': 32, 'lr': 8.544767837258724e-05, 'momentum': 0.908650248796244}<br>Result logdir: /Users/wenxindong/ray_results/train_asha<br>Number of trials: 16/16 (4 PENDING, 12 RUNNING)<br><br>"
      ],
      "text/plain": [
       "<IPython.core.display.HTML object>"
      ]
     },
     "metadata": {},
     "output_type": "display_data"
    },
    {
     "data": {
      "text/html": [
       "== Status ==<br>Current time: 2021-12-02 20:48:55 (running for 00:02:22.72)<br>Memory usage on this node: 10.9/16.0 GiB<br>Using AsyncHyperBand: num_stopped=0\n",
       "Bracket: Iter 512.000: None | Iter 256.000: None | Iter 128.000: None | Iter 64.000: None | Iter 32.000: None | Iter 16.000: None | Iter 8.000: None | Iter 4.000: None | Iter 2.000: None<br>Resources requested: 12.0/12 CPUs, 0/0 GPUs, 0.0/4.27 GiB heap, 0.0/2.14 GiB objects<br>Current best trial: fd266_00008 with mean_accuracy=0.1144 and parameters={'layer1_out': 12, 'layer2_out': 6, 'batch': 32, 'lr': 8.544767837258724e-05, 'momentum': 0.908650248796244}<br>Result logdir: /Users/wenxindong/ray_results/train_asha<br>Number of trials: 16/16 (4 PENDING, 12 RUNNING)<br><br>"
      ],
      "text/plain": [
       "<IPython.core.display.HTML object>"
      ]
     },
     "metadata": {},
     "output_type": "display_data"
    },
    {
     "data": {
      "text/html": [
       "== Status ==<br>Current time: 2021-12-02 20:49:00 (running for 00:02:27.74)<br>Memory usage on this node: 10.9/16.0 GiB<br>Using AsyncHyperBand: num_stopped=0\n",
       "Bracket: Iter 512.000: None | Iter 256.000: None | Iter 128.000: None | Iter 64.000: None | Iter 32.000: None | Iter 16.000: None | Iter 8.000: None | Iter 4.000: None | Iter 2.000: None<br>Resources requested: 12.0/12 CPUs, 0/0 GPUs, 0.0/4.27 GiB heap, 0.0/2.14 GiB objects<br>Current best trial: fd266_00008 with mean_accuracy=0.1144 and parameters={'layer1_out': 12, 'layer2_out': 6, 'batch': 32, 'lr': 8.544767837258724e-05, 'momentum': 0.908650248796244}<br>Result logdir: /Users/wenxindong/ray_results/train_asha<br>Number of trials: 16/16 (4 PENDING, 12 RUNNING)<br><br>"
      ],
      "text/plain": [
       "<IPython.core.display.HTML object>"
      ]
     },
     "metadata": {},
     "output_type": "display_data"
    },
    {
     "data": {
      "text/html": [
       "== Status ==<br>Current time: 2021-12-02 20:49:05 (running for 00:02:32.77)<br>Memory usage on this node: 10.9/16.0 GiB<br>Using AsyncHyperBand: num_stopped=0\n",
       "Bracket: Iter 512.000: None | Iter 256.000: None | Iter 128.000: None | Iter 64.000: None | Iter 32.000: None | Iter 16.000: None | Iter 8.000: None | Iter 4.000: None | Iter 2.000: None<br>Resources requested: 12.0/12 CPUs, 0/0 GPUs, 0.0/4.27 GiB heap, 0.0/2.14 GiB objects<br>Current best trial: fd266_00008 with mean_accuracy=0.1144 and parameters={'layer1_out': 12, 'layer2_out': 6, 'batch': 32, 'lr': 8.544767837258724e-05, 'momentum': 0.908650248796244}<br>Result logdir: /Users/wenxindong/ray_results/train_asha<br>Number of trials: 16/16 (4 PENDING, 12 RUNNING)<br><br>"
      ],
      "text/plain": [
       "<IPython.core.display.HTML object>"
      ]
     },
     "metadata": {},
     "output_type": "display_data"
    },
    {
     "data": {
      "text/html": [
       "== Status ==<br>Current time: 2021-12-02 20:49:10 (running for 00:02:37.80)<br>Memory usage on this node: 11.0/16.0 GiB<br>Using AsyncHyperBand: num_stopped=0\n",
       "Bracket: Iter 512.000: None | Iter 256.000: None | Iter 128.000: None | Iter 64.000: None | Iter 32.000: None | Iter 16.000: None | Iter 8.000: None | Iter 4.000: None | Iter 2.000: None<br>Resources requested: 12.0/12 CPUs, 0/0 GPUs, 0.0/4.27 GiB heap, 0.0/2.14 GiB objects<br>Current best trial: fd266_00008 with mean_accuracy=0.1144 and parameters={'layer1_out': 12, 'layer2_out': 6, 'batch': 32, 'lr': 8.544767837258724e-05, 'momentum': 0.908650248796244}<br>Result logdir: /Users/wenxindong/ray_results/train_asha<br>Number of trials: 16/16 (4 PENDING, 12 RUNNING)<br><br>"
      ],
      "text/plain": [
       "<IPython.core.display.HTML object>"
      ]
     },
     "metadata": {},
     "output_type": "display_data"
    },
    {
     "name": "stdout",
     "output_type": "stream",
     "text": [
      "Trial train_eval_model_fd266_00008 reported mean_accuracy=0.21 with parameters={'layer1_out': 12, 'layer2_out': 6, 'batch': 32, 'lr': 8.544767837258724e-05, 'momentum': 0.908650248796244}.\n"
     ]
    },
    {
     "data": {
      "text/html": [
       "== Status ==<br>Current time: 2021-12-02 20:49:16 (running for 00:02:42.99)<br>Memory usage on this node: 11.1/16.0 GiB<br>Using AsyncHyperBand: num_stopped=0\n",
       "Bracket: Iter 512.000: None | Iter 256.000: None | Iter 128.000: None | Iter 64.000: None | Iter 32.000: None | Iter 16.000: None | Iter 8.000: None | Iter 4.000: None | Iter 2.000: 0.2093<br>Resources requested: 12.0/12 CPUs, 0/0 GPUs, 0.0/4.27 GiB heap, 0.0/2.14 GiB objects<br>Current best trial: fd266_00008 with mean_accuracy=0.2093 and parameters={'layer1_out': 12, 'layer2_out': 6, 'batch': 32, 'lr': 8.544767837258724e-05, 'momentum': 0.908650248796244}<br>Result logdir: /Users/wenxindong/ray_results/train_asha<br>Number of trials: 16/16 (4 PENDING, 12 RUNNING)<br><br>"
      ],
      "text/plain": [
       "<IPython.core.display.HTML object>"
      ]
     },
     "metadata": {},
     "output_type": "display_data"
    },
    {
     "data": {
      "text/html": [
       "== Status ==<br>Current time: 2021-12-02 20:49:21 (running for 00:02:48.02)<br>Memory usage on this node: 11.0/16.0 GiB<br>Using AsyncHyperBand: num_stopped=0\n",
       "Bracket: Iter 512.000: None | Iter 256.000: None | Iter 128.000: None | Iter 64.000: None | Iter 32.000: None | Iter 16.000: None | Iter 8.000: None | Iter 4.000: None | Iter 2.000: 0.2093<br>Resources requested: 12.0/12 CPUs, 0/0 GPUs, 0.0/4.27 GiB heap, 0.0/2.14 GiB objects<br>Current best trial: fd266_00008 with mean_accuracy=0.2093 and parameters={'layer1_out': 12, 'layer2_out': 6, 'batch': 32, 'lr': 8.544767837258724e-05, 'momentum': 0.908650248796244}<br>Result logdir: /Users/wenxindong/ray_results/train_asha<br>Number of trials: 16/16 (4 PENDING, 12 RUNNING)<br><br>"
      ],
      "text/plain": [
       "<IPython.core.display.HTML object>"
      ]
     },
     "metadata": {},
     "output_type": "display_data"
    },
    {
     "data": {
      "text/html": [
       "== Status ==<br>Current time: 2021-12-02 20:49:26 (running for 00:02:53.04)<br>Memory usage on this node: 11.1/16.0 GiB<br>Using AsyncHyperBand: num_stopped=0\n",
       "Bracket: Iter 512.000: None | Iter 256.000: None | Iter 128.000: None | Iter 64.000: None | Iter 32.000: None | Iter 16.000: None | Iter 8.000: None | Iter 4.000: None | Iter 2.000: 0.2093<br>Resources requested: 12.0/12 CPUs, 0/0 GPUs, 0.0/4.27 GiB heap, 0.0/2.14 GiB objects<br>Current best trial: fd266_00008 with mean_accuracy=0.2093 and parameters={'layer1_out': 12, 'layer2_out': 6, 'batch': 32, 'lr': 8.544767837258724e-05, 'momentum': 0.908650248796244}<br>Result logdir: /Users/wenxindong/ray_results/train_asha<br>Number of trials: 16/16 (4 PENDING, 12 RUNNING)<br><br>"
      ],
      "text/plain": [
       "<IPython.core.display.HTML object>"
      ]
     },
     "metadata": {},
     "output_type": "display_data"
    },
    {
     "data": {
      "text/html": [
       "== Status ==<br>Current time: 2021-12-02 20:49:31 (running for 00:02:58.07)<br>Memory usage on this node: 11.0/16.0 GiB<br>Using AsyncHyperBand: num_stopped=0\n",
       "Bracket: Iter 512.000: None | Iter 256.000: None | Iter 128.000: None | Iter 64.000: None | Iter 32.000: None | Iter 16.000: None | Iter 8.000: None | Iter 4.000: None | Iter 2.000: 0.2093<br>Resources requested: 12.0/12 CPUs, 0/0 GPUs, 0.0/4.27 GiB heap, 0.0/2.14 GiB objects<br>Current best trial: fd266_00008 with mean_accuracy=0.2093 and parameters={'layer1_out': 12, 'layer2_out': 6, 'batch': 32, 'lr': 8.544767837258724e-05, 'momentum': 0.908650248796244}<br>Result logdir: /Users/wenxindong/ray_results/train_asha<br>Number of trials: 16/16 (4 PENDING, 12 RUNNING)<br><br>"
      ],
      "text/plain": [
       "<IPython.core.display.HTML object>"
      ]
     },
     "metadata": {},
     "output_type": "display_data"
    },
    {
     "data": {
      "text/html": [
       "== Status ==<br>Current time: 2021-12-02 20:49:36 (running for 00:03:03.10)<br>Memory usage on this node: 11.2/16.0 GiB<br>Using AsyncHyperBand: num_stopped=0\n",
       "Bracket: Iter 512.000: None | Iter 256.000: None | Iter 128.000: None | Iter 64.000: None | Iter 32.000: None | Iter 16.000: None | Iter 8.000: None | Iter 4.000: None | Iter 2.000: 0.2093<br>Resources requested: 12.0/12 CPUs, 0/0 GPUs, 0.0/4.27 GiB heap, 0.0/2.14 GiB objects<br>Current best trial: fd266_00008 with mean_accuracy=0.2093 and parameters={'layer1_out': 12, 'layer2_out': 6, 'batch': 32, 'lr': 8.544767837258724e-05, 'momentum': 0.908650248796244}<br>Result logdir: /Users/wenxindong/ray_results/train_asha<br>Number of trials: 16/16 (4 PENDING, 12 RUNNING)<br><br>"
      ],
      "text/plain": [
       "<IPython.core.display.HTML object>"
      ]
     },
     "metadata": {},
     "output_type": "display_data"
    },
    {
     "data": {
      "text/html": [
       "== Status ==<br>Current time: 2021-12-02 20:49:41 (running for 00:03:08.13)<br>Memory usage on this node: 11.2/16.0 GiB<br>Using AsyncHyperBand: num_stopped=0\n",
       "Bracket: Iter 512.000: None | Iter 256.000: None | Iter 128.000: None | Iter 64.000: None | Iter 32.000: None | Iter 16.000: None | Iter 8.000: None | Iter 4.000: None | Iter 2.000: 0.2093<br>Resources requested: 12.0/12 CPUs, 0/0 GPUs, 0.0/4.27 GiB heap, 0.0/2.14 GiB objects<br>Current best trial: fd266_00008 with mean_accuracy=0.2093 and parameters={'layer1_out': 12, 'layer2_out': 6, 'batch': 32, 'lr': 8.544767837258724e-05, 'momentum': 0.908650248796244}<br>Result logdir: /Users/wenxindong/ray_results/train_asha<br>Number of trials: 16/16 (4 PENDING, 12 RUNNING)<br><br>"
      ],
      "text/plain": [
       "<IPython.core.display.HTML object>"
      ]
     },
     "metadata": {},
     "output_type": "display_data"
    },
    {
     "name": "stdout",
     "output_type": "stream",
     "text": [
      "Trial train_eval_model_fd266_00008 reported mean_accuracy=0.24 with parameters={'layer1_out': 12, 'layer2_out': 6, 'batch': 32, 'lr': 8.544767837258724e-05, 'momentum': 0.908650248796244}.\n"
     ]
    },
    {
     "data": {
      "text/html": [
       "== Status ==<br>Current time: 2021-12-02 20:49:47 (running for 00:03:13.95)<br>Memory usage on this node: 11.3/16.0 GiB<br>Using AsyncHyperBand: num_stopped=0\n",
       "Bracket: Iter 512.000: None | Iter 256.000: None | Iter 128.000: None | Iter 64.000: None | Iter 32.000: None | Iter 16.000: None | Iter 8.000: None | Iter 4.000: None | Iter 2.000: 0.2093<br>Resources requested: 12.0/12 CPUs, 0/0 GPUs, 0.0/4.27 GiB heap, 0.0/2.14 GiB objects<br>Current best trial: fd266_00008 with mean_accuracy=0.2413 and parameters={'layer1_out': 12, 'layer2_out': 6, 'batch': 32, 'lr': 8.544767837258724e-05, 'momentum': 0.908650248796244}<br>Result logdir: /Users/wenxindong/ray_results/train_asha<br>Number of trials: 16/16 (4 PENDING, 12 RUNNING)<br><br>"
      ],
      "text/plain": [
       "<IPython.core.display.HTML object>"
      ]
     },
     "metadata": {},
     "output_type": "display_data"
    },
    {
     "data": {
      "text/html": [
       "== Status ==<br>Current time: 2021-12-02 20:49:52 (running for 00:03:18.98)<br>Memory usage on this node: 11.4/16.0 GiB<br>Using AsyncHyperBand: num_stopped=0\n",
       "Bracket: Iter 512.000: None | Iter 256.000: None | Iter 128.000: None | Iter 64.000: None | Iter 32.000: None | Iter 16.000: None | Iter 8.000: None | Iter 4.000: None | Iter 2.000: 0.2093<br>Resources requested: 12.0/12 CPUs, 0/0 GPUs, 0.0/4.27 GiB heap, 0.0/2.14 GiB objects<br>Current best trial: fd266_00008 with mean_accuracy=0.2413 and parameters={'layer1_out': 12, 'layer2_out': 6, 'batch': 32, 'lr': 8.544767837258724e-05, 'momentum': 0.908650248796244}<br>Result logdir: /Users/wenxindong/ray_results/train_asha<br>Number of trials: 16/16 (4 PENDING, 12 RUNNING)<br><br>"
      ],
      "text/plain": [
       "<IPython.core.display.HTML object>"
      ]
     },
     "metadata": {},
     "output_type": "display_data"
    },
    {
     "name": "stdout",
     "output_type": "stream",
     "text": [
      "Trial train_eval_model_fd266_00010 reported mean_accuracy=0.12 with parameters={'layer1_out': 3, 'layer2_out': 12, 'batch': 64, 'lr': 0.0006276187003028836, 'momentum': 0.8918477682204881}.\n"
     ]
    },
    {
     "data": {
      "text/html": [
       "== Status ==<br>Current time: 2021-12-02 20:49:57 (running for 00:03:24.89)<br>Memory usage on this node: 11.4/16.0 GiB<br>Using AsyncHyperBand: num_stopped=0\n",
       "Bracket: Iter 512.000: None | Iter 256.000: None | Iter 128.000: None | Iter 64.000: None | Iter 32.000: None | Iter 16.000: None | Iter 8.000: None | Iter 4.000: None | Iter 2.000: 0.2093<br>Resources requested: 12.0/12 CPUs, 0/0 GPUs, 0.0/4.27 GiB heap, 0.0/2.14 GiB objects<br>Current best trial: fd266_00008 with mean_accuracy=0.2413 and parameters={'layer1_out': 12, 'layer2_out': 6, 'batch': 32, 'lr': 8.544767837258724e-05, 'momentum': 0.908650248796244}<br>Result logdir: /Users/wenxindong/ray_results/train_asha<br>Number of trials: 16/16 (4 PENDING, 12 RUNNING)<br><br>"
      ],
      "text/plain": [
       "<IPython.core.display.HTML object>"
      ]
     },
     "metadata": {},
     "output_type": "display_data"
    },
    {
     "data": {
      "text/html": [
       "== Status ==<br>Current time: 2021-12-02 20:50:03 (running for 00:03:29.92)<br>Memory usage on this node: 11.6/16.0 GiB<br>Using AsyncHyperBand: num_stopped=0\n",
       "Bracket: Iter 512.000: None | Iter 256.000: None | Iter 128.000: None | Iter 64.000: None | Iter 32.000: None | Iter 16.000: None | Iter 8.000: None | Iter 4.000: None | Iter 2.000: 0.2093<br>Resources requested: 12.0/12 CPUs, 0/0 GPUs, 0.0/4.27 GiB heap, 0.0/2.14 GiB objects<br>Current best trial: fd266_00008 with mean_accuracy=0.2413 and parameters={'layer1_out': 12, 'layer2_out': 6, 'batch': 32, 'lr': 8.544767837258724e-05, 'momentum': 0.908650248796244}<br>Result logdir: /Users/wenxindong/ray_results/train_asha<br>Number of trials: 16/16 (4 PENDING, 12 RUNNING)<br><br>"
      ],
      "text/plain": [
       "<IPython.core.display.HTML object>"
      ]
     },
     "metadata": {},
     "output_type": "display_data"
    },
    {
     "data": {
      "text/html": [
       "== Status ==<br>Current time: 2021-12-02 20:50:08 (running for 00:03:34.97)<br>Memory usage on this node: 11.5/16.0 GiB<br>Using AsyncHyperBand: num_stopped=0\n",
       "Bracket: Iter 512.000: None | Iter 256.000: None | Iter 128.000: None | Iter 64.000: None | Iter 32.000: None | Iter 16.000: None | Iter 8.000: None | Iter 4.000: None | Iter 2.000: 0.2093<br>Resources requested: 12.0/12 CPUs, 0/0 GPUs, 0.0/4.27 GiB heap, 0.0/2.14 GiB objects<br>Current best trial: fd266_00008 with mean_accuracy=0.2413 and parameters={'layer1_out': 12, 'layer2_out': 6, 'batch': 32, 'lr': 8.544767837258724e-05, 'momentum': 0.908650248796244}<br>Result logdir: /Users/wenxindong/ray_results/train_asha<br>Number of trials: 16/16 (4 PENDING, 12 RUNNING)<br><br>"
      ],
      "text/plain": [
       "<IPython.core.display.HTML object>"
      ]
     },
     "metadata": {},
     "output_type": "display_data"
    },
    {
     "data": {
      "text/html": [
       "== Status ==<br>Current time: 2021-12-02 20:50:13 (running for 00:03:40.01)<br>Memory usage on this node: 11.6/16.0 GiB<br>Using AsyncHyperBand: num_stopped=0\n",
       "Bracket: Iter 512.000: None | Iter 256.000: None | Iter 128.000: None | Iter 64.000: None | Iter 32.000: None | Iter 16.000: None | Iter 8.000: None | Iter 4.000: None | Iter 2.000: 0.2093<br>Resources requested: 12.0/12 CPUs, 0/0 GPUs, 0.0/4.27 GiB heap, 0.0/2.14 GiB objects<br>Current best trial: fd266_00008 with mean_accuracy=0.2413 and parameters={'layer1_out': 12, 'layer2_out': 6, 'batch': 32, 'lr': 8.544767837258724e-05, 'momentum': 0.908650248796244}<br>Result logdir: /Users/wenxindong/ray_results/train_asha<br>Number of trials: 16/16 (4 PENDING, 12 RUNNING)<br><br>"
      ],
      "text/plain": [
       "<IPython.core.display.HTML object>"
      ]
     },
     "metadata": {},
     "output_type": "display_data"
    },
    {
     "data": {
      "text/html": [
       "== Status ==<br>Current time: 2021-12-02 20:50:18 (running for 00:03:45.04)<br>Memory usage on this node: 11.4/16.0 GiB<br>Using AsyncHyperBand: num_stopped=0\n",
       "Bracket: Iter 512.000: None | Iter 256.000: None | Iter 128.000: None | Iter 64.000: None | Iter 32.000: None | Iter 16.000: None | Iter 8.000: None | Iter 4.000: None | Iter 2.000: 0.2093<br>Resources requested: 12.0/12 CPUs, 0/0 GPUs, 0.0/4.27 GiB heap, 0.0/2.14 GiB objects<br>Current best trial: fd266_00008 with mean_accuracy=0.2413 and parameters={'layer1_out': 12, 'layer2_out': 6, 'batch': 32, 'lr': 8.544767837258724e-05, 'momentum': 0.908650248796244}<br>Result logdir: /Users/wenxindong/ray_results/train_asha<br>Number of trials: 16/16 (4 PENDING, 12 RUNNING)<br><br>"
      ],
      "text/plain": [
       "<IPython.core.display.HTML object>"
      ]
     },
     "metadata": {},
     "output_type": "display_data"
    },
    {
     "name": "stdout",
     "output_type": "stream",
     "text": [
      "Trial train_eval_model_fd266_00002 reported mean_accuracy=0.11 with parameters={'layer1_out': 6, 'layer2_out': 12, 'batch': 64, 'lr': 5.3333021920688035e-05, 'momentum': 0.884488213078787}.\n"
     ]
    },
    {
     "data": {
      "text/html": [
       "== Status ==<br>Current time: 2021-12-02 20:50:23 (running for 00:03:50.08)<br>Memory usage on this node: 9.2/16.0 GiB<br>Using AsyncHyperBand: num_stopped=0\n",
       "Bracket: Iter 512.000: None | Iter 256.000: None | Iter 128.000: None | Iter 64.000: None | Iter 32.000: None | Iter 16.000: None | Iter 8.000: None | Iter 4.000: None | Iter 2.000: 0.2093<br>Resources requested: 12.0/12 CPUs, 0/0 GPUs, 0.0/4.27 GiB heap, 0.0/2.14 GiB objects<br>Current best trial: fd266_00008 with mean_accuracy=0.2413 and parameters={'layer1_out': 12, 'layer2_out': 6, 'batch': 32, 'lr': 8.544767837258724e-05, 'momentum': 0.908650248796244}<br>Result logdir: /Users/wenxindong/ray_results/train_asha<br>Number of trials: 16/16 (4 PENDING, 12 RUNNING)<br><br>"
      ],
      "text/plain": [
       "<IPython.core.display.HTML object>"
      ]
     },
     "metadata": {},
     "output_type": "display_data"
    },
    {
     "data": {
      "text/html": [
       "== Status ==<br>Current time: 2021-12-02 20:50:28 (running for 00:03:55.14)<br>Memory usage on this node: 10.0/16.0 GiB<br>Using AsyncHyperBand: num_stopped=0\n",
       "Bracket: Iter 512.000: None | Iter 256.000: None | Iter 128.000: None | Iter 64.000: None | Iter 32.000: None | Iter 16.000: None | Iter 8.000: None | Iter 4.000: None | Iter 2.000: 0.2093<br>Resources requested: 12.0/12 CPUs, 0/0 GPUs, 0.0/4.27 GiB heap, 0.0/2.14 GiB objects<br>Current best trial: fd266_00008 with mean_accuracy=0.2413 and parameters={'layer1_out': 12, 'layer2_out': 6, 'batch': 32, 'lr': 8.544767837258724e-05, 'momentum': 0.908650248796244}<br>Result logdir: /Users/wenxindong/ray_results/train_asha<br>Number of trials: 16/16 (4 PENDING, 12 RUNNING)<br><br>"
      ],
      "text/plain": [
       "<IPython.core.display.HTML object>"
      ]
     },
     "metadata": {},
     "output_type": "display_data"
    },
    {
     "data": {
      "text/html": [
       "== Status ==<br>Current time: 2021-12-02 20:50:33 (running for 00:04:00.17)<br>Memory usage on this node: 11.7/16.0 GiB<br>Using AsyncHyperBand: num_stopped=0\n",
       "Bracket: Iter 512.000: None | Iter 256.000: None | Iter 128.000: None | Iter 64.000: None | Iter 32.000: None | Iter 16.000: None | Iter 8.000: None | Iter 4.000: None | Iter 2.000: 0.2093<br>Resources requested: 12.0/12 CPUs, 0/0 GPUs, 0.0/4.27 GiB heap, 0.0/2.14 GiB objects<br>Current best trial: fd266_00008 with mean_accuracy=0.2413 and parameters={'layer1_out': 12, 'layer2_out': 6, 'batch': 32, 'lr': 8.544767837258724e-05, 'momentum': 0.908650248796244}<br>Result logdir: /Users/wenxindong/ray_results/train_asha<br>Number of trials: 16/16 (4 PENDING, 12 RUNNING)<br><br>"
      ],
      "text/plain": [
       "<IPython.core.display.HTML object>"
      ]
     },
     "metadata": {},
     "output_type": "display_data"
    },
    {
     "name": "stdout",
     "output_type": "stream",
     "text": [
      "Trial train_eval_model_fd266_00010 reported mean_accuracy=0.15 with parameters={'layer1_out': 3, 'layer2_out': 12, 'batch': 64, 'lr': 0.0006276187003028836, 'momentum': 0.8918477682204881}. This trial completed.\n"
     ]
    },
    {
     "data": {
      "text/html": [
       "== Status ==<br>Current time: 2021-12-02 20:50:46 (running for 00:04:13.82)<br>Memory usage on this node: 12.7/16.0 GiB<br>Using AsyncHyperBand: num_stopped=1\n",
       "Bracket: Iter 512.000: None | Iter 256.000: None | Iter 128.000: None | Iter 64.000: None | Iter 32.000: None | Iter 16.000: None | Iter 8.000: None | Iter 4.000: None | Iter 2.000: 0.17720000000000002<br>Resources requested: 12.0/12 CPUs, 0/0 GPUs, 0.0/4.27 GiB heap, 0.0/2.14 GiB objects<br>Current best trial: fd266_00008 with mean_accuracy=0.2413 and parameters={'layer1_out': 12, 'layer2_out': 6, 'batch': 32, 'lr': 8.544767837258724e-05, 'momentum': 0.908650248796244}<br>Result logdir: /Users/wenxindong/ray_results/train_asha<br>Number of trials: 16/16 (3 PENDING, 12 RUNNING, 1 TERMINATED)<br><br>"
      ],
      "text/plain": [
       "<IPython.core.display.HTML object>"
      ]
     },
     "metadata": {},
     "output_type": "display_data"
    },
    {
     "data": {
      "text/html": [
       "== Status ==<br>Current time: 2021-12-02 20:50:47 (running for 00:04:14.88)<br>Memory usage on this node: 12.5/16.0 GiB<br>Using AsyncHyperBand: num_stopped=1\n",
       "Bracket: Iter 512.000: None | Iter 256.000: None | Iter 128.000: None | Iter 64.000: None | Iter 32.000: None | Iter 16.000: None | Iter 8.000: None | Iter 4.000: None | Iter 2.000: 0.17720000000000002<br>Resources requested: 12.0/12 CPUs, 0/0 GPUs, 0.0/4.27 GiB heap, 0.0/2.14 GiB objects<br>Current best trial: fd266_00008 with mean_accuracy=0.2413 and parameters={'layer1_out': 12, 'layer2_out': 6, 'batch': 32, 'lr': 8.544767837258724e-05, 'momentum': 0.908650248796244}<br>Result logdir: /Users/wenxindong/ray_results/train_asha<br>Number of trials: 16/16 (3 PENDING, 12 RUNNING, 1 TERMINATED)<br><br>"
      ],
      "text/plain": [
       "<IPython.core.display.HTML object>"
      ]
     },
     "metadata": {},
     "output_type": "display_data"
    },
    {
     "data": {
      "text/html": [
       "== Status ==<br>Current time: 2021-12-02 20:50:53 (running for 00:04:19.92)<br>Memory usage on this node: 11.6/16.0 GiB<br>Using AsyncHyperBand: num_stopped=1\n",
       "Bracket: Iter 512.000: None | Iter 256.000: None | Iter 128.000: None | Iter 64.000: None | Iter 32.000: None | Iter 16.000: None | Iter 8.000: None | Iter 4.000: None | Iter 2.000: 0.17720000000000002<br>Resources requested: 12.0/12 CPUs, 0/0 GPUs, 0.0/4.27 GiB heap, 0.0/2.14 GiB objects<br>Current best trial: fd266_00008 with mean_accuracy=0.2413 and parameters={'layer1_out': 12, 'layer2_out': 6, 'batch': 32, 'lr': 8.544767837258724e-05, 'momentum': 0.908650248796244}<br>Result logdir: /Users/wenxindong/ray_results/train_asha<br>Number of trials: 16/16 (3 PENDING, 12 RUNNING, 1 TERMINATED)<br><br>"
      ],
      "text/plain": [
       "<IPython.core.display.HTML object>"
      ]
     },
     "metadata": {},
     "output_type": "display_data"
    },
    {
     "data": {
      "text/html": [
       "== Status ==<br>Current time: 2021-12-02 20:50:58 (running for 00:04:24.96)<br>Memory usage on this node: 10.5/16.0 GiB<br>Using AsyncHyperBand: num_stopped=1\n",
       "Bracket: Iter 512.000: None | Iter 256.000: None | Iter 128.000: None | Iter 64.000: None | Iter 32.000: None | Iter 16.000: None | Iter 8.000: None | Iter 4.000: None | Iter 2.000: 0.17720000000000002<br>Resources requested: 12.0/12 CPUs, 0/0 GPUs, 0.0/4.27 GiB heap, 0.0/2.14 GiB objects<br>Current best trial: fd266_00008 with mean_accuracy=0.2413 and parameters={'layer1_out': 12, 'layer2_out': 6, 'batch': 32, 'lr': 8.544767837258724e-05, 'momentum': 0.908650248796244}<br>Result logdir: /Users/wenxindong/ray_results/train_asha<br>Number of trials: 16/16 (3 PENDING, 12 RUNNING, 1 TERMINATED)<br><br>"
      ],
      "text/plain": [
       "<IPython.core.display.HTML object>"
      ]
     },
     "metadata": {},
     "output_type": "display_data"
    },
    {
     "data": {
      "text/html": [
       "== Status ==<br>Current time: 2021-12-02 20:51:03 (running for 00:04:30.00)<br>Memory usage on this node: 10.6/16.0 GiB<br>Using AsyncHyperBand: num_stopped=1\n",
       "Bracket: Iter 512.000: None | Iter 256.000: None | Iter 128.000: None | Iter 64.000: None | Iter 32.000: None | Iter 16.000: None | Iter 8.000: None | Iter 4.000: None | Iter 2.000: 0.17720000000000002<br>Resources requested: 12.0/12 CPUs, 0/0 GPUs, 0.0/4.27 GiB heap, 0.0/2.14 GiB objects<br>Current best trial: fd266_00008 with mean_accuracy=0.2413 and parameters={'layer1_out': 12, 'layer2_out': 6, 'batch': 32, 'lr': 8.544767837258724e-05, 'momentum': 0.908650248796244}<br>Result logdir: /Users/wenxindong/ray_results/train_asha<br>Number of trials: 16/16 (3 PENDING, 12 RUNNING, 1 TERMINATED)<br><br>"
      ],
      "text/plain": [
       "<IPython.core.display.HTML object>"
      ]
     },
     "metadata": {},
     "output_type": "display_data"
    },
    {
     "name": "stdout",
     "output_type": "stream",
     "text": [
      "Trial train_eval_model_fd266_00008 reported mean_accuracy=0.28 with parameters={'layer1_out': 12, 'layer2_out': 6, 'batch': 32, 'lr': 8.544767837258724e-05, 'momentum': 0.908650248796244}.\n"
     ]
    },
    {
     "data": {
      "text/html": [
       "== Status ==<br>Current time: 2021-12-02 20:51:08 (running for 00:04:35.31)<br>Memory usage on this node: 10.6/16.0 GiB<br>Using AsyncHyperBand: num_stopped=1\n",
       "Bracket: Iter 512.000: None | Iter 256.000: None | Iter 128.000: None | Iter 64.000: None | Iter 32.000: None | Iter 16.000: None | Iter 8.000: None | Iter 4.000: 0.2794 | Iter 2.000: 0.17720000000000002<br>Resources requested: 12.0/12 CPUs, 0/0 GPUs, 0.0/4.27 GiB heap, 0.0/2.14 GiB objects<br>Current best trial: fd266_00008 with mean_accuracy=0.2794 and parameters={'layer1_out': 12, 'layer2_out': 6, 'batch': 32, 'lr': 8.544767837258724e-05, 'momentum': 0.908650248796244}<br>Result logdir: /Users/wenxindong/ray_results/train_asha<br>Number of trials: 16/16 (3 PENDING, 12 RUNNING, 1 TERMINATED)<br><br>"
      ],
      "text/plain": [
       "<IPython.core.display.HTML object>"
      ]
     },
     "metadata": {},
     "output_type": "display_data"
    },
    {
     "data": {
      "text/html": [
       "== Status ==<br>Current time: 2021-12-02 20:51:13 (running for 00:04:40.34)<br>Memory usage on this node: 10.6/16.0 GiB<br>Using AsyncHyperBand: num_stopped=1\n",
       "Bracket: Iter 512.000: None | Iter 256.000: None | Iter 128.000: None | Iter 64.000: None | Iter 32.000: None | Iter 16.000: None | Iter 8.000: None | Iter 4.000: 0.2794 | Iter 2.000: 0.17720000000000002<br>Resources requested: 12.0/12 CPUs, 0/0 GPUs, 0.0/4.27 GiB heap, 0.0/2.14 GiB objects<br>Current best trial: fd266_00008 with mean_accuracy=0.2794 and parameters={'layer1_out': 12, 'layer2_out': 6, 'batch': 32, 'lr': 8.544767837258724e-05, 'momentum': 0.908650248796244}<br>Result logdir: /Users/wenxindong/ray_results/train_asha<br>Number of trials: 16/16 (3 PENDING, 12 RUNNING, 1 TERMINATED)<br><br>"
      ],
      "text/plain": [
       "<IPython.core.display.HTML object>"
      ]
     },
     "metadata": {},
     "output_type": "display_data"
    },
    {
     "data": {
      "text/html": [
       "== Status ==<br>Current time: 2021-12-02 20:51:18 (running for 00:04:45.38)<br>Memory usage on this node: 11.0/16.0 GiB<br>Using AsyncHyperBand: num_stopped=1\n",
       "Bracket: Iter 512.000: None | Iter 256.000: None | Iter 128.000: None | Iter 64.000: None | Iter 32.000: None | Iter 16.000: None | Iter 8.000: None | Iter 4.000: 0.2794 | Iter 2.000: 0.17720000000000002<br>Resources requested: 12.0/12 CPUs, 0/0 GPUs, 0.0/4.27 GiB heap, 0.0/2.14 GiB objects<br>Current best trial: fd266_00008 with mean_accuracy=0.2794 and parameters={'layer1_out': 12, 'layer2_out': 6, 'batch': 32, 'lr': 8.544767837258724e-05, 'momentum': 0.908650248796244}<br>Result logdir: /Users/wenxindong/ray_results/train_asha<br>Number of trials: 16/16 (3 PENDING, 12 RUNNING, 1 TERMINATED)<br><br>"
      ],
      "text/plain": [
       "<IPython.core.display.HTML object>"
      ]
     },
     "metadata": {},
     "output_type": "display_data"
    },
    {
     "data": {
      "text/html": [
       "== Status ==<br>Current time: 2021-12-02 20:51:23 (running for 00:04:50.41)<br>Memory usage on this node: 10.8/16.0 GiB<br>Using AsyncHyperBand: num_stopped=1\n",
       "Bracket: Iter 512.000: None | Iter 256.000: None | Iter 128.000: None | Iter 64.000: None | Iter 32.000: None | Iter 16.000: None | Iter 8.000: None | Iter 4.000: 0.2794 | Iter 2.000: 0.17720000000000002<br>Resources requested: 12.0/12 CPUs, 0/0 GPUs, 0.0/4.27 GiB heap, 0.0/2.14 GiB objects<br>Current best trial: fd266_00008 with mean_accuracy=0.2794 and parameters={'layer1_out': 12, 'layer2_out': 6, 'batch': 32, 'lr': 8.544767837258724e-05, 'momentum': 0.908650248796244}<br>Result logdir: /Users/wenxindong/ray_results/train_asha<br>Number of trials: 16/16 (3 PENDING, 12 RUNNING, 1 TERMINATED)<br><br>"
      ],
      "text/plain": [
       "<IPython.core.display.HTML object>"
      ]
     },
     "metadata": {},
     "output_type": "display_data"
    },
    {
     "data": {
      "text/html": [
       "== Status ==<br>Current time: 2021-12-02 20:51:28 (running for 00:04:55.45)<br>Memory usage on this node: 10.5/16.0 GiB<br>Using AsyncHyperBand: num_stopped=1\n",
       "Bracket: Iter 512.000: None | Iter 256.000: None | Iter 128.000: None | Iter 64.000: None | Iter 32.000: None | Iter 16.000: None | Iter 8.000: None | Iter 4.000: 0.2794 | Iter 2.000: 0.17720000000000002<br>Resources requested: 12.0/12 CPUs, 0/0 GPUs, 0.0/4.27 GiB heap, 0.0/2.14 GiB objects<br>Current best trial: fd266_00008 with mean_accuracy=0.2794 and parameters={'layer1_out': 12, 'layer2_out': 6, 'batch': 32, 'lr': 8.544767837258724e-05, 'momentum': 0.908650248796244}<br>Result logdir: /Users/wenxindong/ray_results/train_asha<br>Number of trials: 16/16 (3 PENDING, 12 RUNNING, 1 TERMINATED)<br><br>"
      ],
      "text/plain": [
       "<IPython.core.display.HTML object>"
      ]
     },
     "metadata": {},
     "output_type": "display_data"
    },
    {
     "data": {
      "text/html": [
       "== Status ==<br>Current time: 2021-12-02 20:51:33 (running for 00:05:00.48)<br>Memory usage on this node: 9.8/16.0 GiB<br>Using AsyncHyperBand: num_stopped=1\n",
       "Bracket: Iter 512.000: None | Iter 256.000: None | Iter 128.000: None | Iter 64.000: None | Iter 32.000: None | Iter 16.000: None | Iter 8.000: None | Iter 4.000: 0.2794 | Iter 2.000: 0.17720000000000002<br>Resources requested: 12.0/12 CPUs, 0/0 GPUs, 0.0/4.27 GiB heap, 0.0/2.14 GiB objects<br>Current best trial: fd266_00008 with mean_accuracy=0.2794 and parameters={'layer1_out': 12, 'layer2_out': 6, 'batch': 32, 'lr': 8.544767837258724e-05, 'momentum': 0.908650248796244}<br>Result logdir: /Users/wenxindong/ray_results/train_asha<br>Number of trials: 16/16 (3 PENDING, 12 RUNNING, 1 TERMINATED)<br><br>"
      ],
      "text/plain": [
       "<IPython.core.display.HTML object>"
      ]
     },
     "metadata": {},
     "output_type": "display_data"
    },
    {
     "data": {
      "text/html": [
       "== Status ==<br>Current time: 2021-12-02 20:51:38 (running for 00:05:05.52)<br>Memory usage on this node: 10.2/16.0 GiB<br>Using AsyncHyperBand: num_stopped=1\n",
       "Bracket: Iter 512.000: None | Iter 256.000: None | Iter 128.000: None | Iter 64.000: None | Iter 32.000: None | Iter 16.000: None | Iter 8.000: None | Iter 4.000: 0.2794 | Iter 2.000: 0.17720000000000002<br>Resources requested: 12.0/12 CPUs, 0/0 GPUs, 0.0/4.27 GiB heap, 0.0/2.14 GiB objects<br>Current best trial: fd266_00008 with mean_accuracy=0.2794 and parameters={'layer1_out': 12, 'layer2_out': 6, 'batch': 32, 'lr': 8.544767837258724e-05, 'momentum': 0.908650248796244}<br>Result logdir: /Users/wenxindong/ray_results/train_asha<br>Number of trials: 16/16 (3 PENDING, 12 RUNNING, 1 TERMINATED)<br><br>"
      ],
      "text/plain": [
       "<IPython.core.display.HTML object>"
      ]
     },
     "metadata": {},
     "output_type": "display_data"
    },
    {
     "name": "stdout",
     "output_type": "stream",
     "text": [
      "Trial train_eval_model_fd266_00011 reported mean_accuracy=0.10 with parameters={'layer1_out': 6, 'layer2_out': 3, 'batch': 64, 'lr': 2.803628552324176e-05, 'momentum': 0.8740482211083148}.\n"
     ]
    },
    {
     "data": {
      "text/html": [
       "== Status ==<br>Current time: 2021-12-02 20:51:44 (running for 00:05:11.27)<br>Memory usage on this node: 10.2/16.0 GiB<br>Using AsyncHyperBand: num_stopped=1\n",
       "Bracket: Iter 512.000: None | Iter 256.000: None | Iter 128.000: None | Iter 64.000: None | Iter 32.000: None | Iter 16.000: None | Iter 8.000: None | Iter 4.000: 0.2794 | Iter 2.000: 0.17720000000000002<br>Resources requested: 12.0/12 CPUs, 0/0 GPUs, 0.0/4.27 GiB heap, 0.0/2.14 GiB objects<br>Current best trial: fd266_00008 with mean_accuracy=0.2794 and parameters={'layer1_out': 12, 'layer2_out': 6, 'batch': 32, 'lr': 8.544767837258724e-05, 'momentum': 0.908650248796244}<br>Result logdir: /Users/wenxindong/ray_results/train_asha<br>Number of trials: 16/16 (3 PENDING, 12 RUNNING, 1 TERMINATED)<br><br>"
      ],
      "text/plain": [
       "<IPython.core.display.HTML object>"
      ]
     },
     "metadata": {},
     "output_type": "display_data"
    },
    {
     "name": "stdout",
     "output_type": "stream",
     "text": [
      "Trial train_eval_model_fd266_00001 reported mean_accuracy=0.10 with parameters={'layer1_out': 3, 'layer2_out': 3, 'batch': 64, 'lr': 3.102772435722808e-05, 'momentum': 0.9189997187532972}.\n"
     ]
    },
    {
     "data": {
      "text/html": [
       "== Status ==<br>Current time: 2021-12-02 20:51:49 (running for 00:05:16.50)<br>Memory usage on this node: 10.7/16.0 GiB<br>Using AsyncHyperBand: num_stopped=1\n",
       "Bracket: Iter 512.000: None | Iter 256.000: None | Iter 128.000: None | Iter 64.000: None | Iter 32.000: None | Iter 16.000: None | Iter 8.000: None | Iter 4.000: 0.2794 | Iter 2.000: 0.17720000000000002<br>Resources requested: 12.0/12 CPUs, 0/0 GPUs, 0.0/4.27 GiB heap, 0.0/2.14 GiB objects<br>Current best trial: fd266_00008 with mean_accuracy=0.2794 and parameters={'layer1_out': 12, 'layer2_out': 6, 'batch': 32, 'lr': 8.544767837258724e-05, 'momentum': 0.908650248796244}<br>Result logdir: /Users/wenxindong/ray_results/train_asha<br>Number of trials: 16/16 (3 PENDING, 12 RUNNING, 1 TERMINATED)<br><br>"
      ],
      "text/plain": [
       "<IPython.core.display.HTML object>"
      ]
     },
     "metadata": {},
     "output_type": "display_data"
    },
    {
     "data": {
      "text/html": [
       "== Status ==<br>Current time: 2021-12-02 20:51:54 (running for 00:05:21.56)<br>Memory usage on this node: 11.0/16.0 GiB<br>Using AsyncHyperBand: num_stopped=1\n",
       "Bracket: Iter 512.000: None | Iter 256.000: None | Iter 128.000: None | Iter 64.000: None | Iter 32.000: None | Iter 16.000: None | Iter 8.000: None | Iter 4.000: 0.2794 | Iter 2.000: 0.17720000000000002<br>Resources requested: 12.0/12 CPUs, 0/0 GPUs, 0.0/4.27 GiB heap, 0.0/2.14 GiB objects<br>Current best trial: fd266_00008 with mean_accuracy=0.2794 and parameters={'layer1_out': 12, 'layer2_out': 6, 'batch': 32, 'lr': 8.544767837258724e-05, 'momentum': 0.908650248796244}<br>Result logdir: /Users/wenxindong/ray_results/train_asha<br>Number of trials: 16/16 (3 PENDING, 12 RUNNING, 1 TERMINATED)<br><br>"
      ],
      "text/plain": [
       "<IPython.core.display.HTML object>"
      ]
     },
     "metadata": {},
     "output_type": "display_data"
    },
    {
     "data": {
      "text/html": [
       "== Status ==<br>Current time: 2021-12-02 20:51:59 (running for 00:05:26.59)<br>Memory usage on this node: 11.1/16.0 GiB<br>Using AsyncHyperBand: num_stopped=1\n",
       "Bracket: Iter 512.000: None | Iter 256.000: None | Iter 128.000: None | Iter 64.000: None | Iter 32.000: None | Iter 16.000: None | Iter 8.000: None | Iter 4.000: 0.2794 | Iter 2.000: 0.17720000000000002<br>Resources requested: 12.0/12 CPUs, 0/0 GPUs, 0.0/4.27 GiB heap, 0.0/2.14 GiB objects<br>Current best trial: fd266_00008 with mean_accuracy=0.2794 and parameters={'layer1_out': 12, 'layer2_out': 6, 'batch': 32, 'lr': 8.544767837258724e-05, 'momentum': 0.908650248796244}<br>Result logdir: /Users/wenxindong/ray_results/train_asha<br>Number of trials: 16/16 (3 PENDING, 12 RUNNING, 1 TERMINATED)<br><br>"
      ],
      "text/plain": [
       "<IPython.core.display.HTML object>"
      ]
     },
     "metadata": {},
     "output_type": "display_data"
    },
    {
     "name": "stdout",
     "output_type": "stream",
     "text": [
      "Trial train_eval_model_fd266_00002 reported mean_accuracy=0.11 with parameters={'layer1_out': 6, 'layer2_out': 12, 'batch': 64, 'lr': 5.3333021920688035e-05, 'momentum': 0.884488213078787}. This trial completed.\n",
      "Trial train_eval_model_fd266_00009 reported mean_accuracy=0.10 with parameters={'layer1_out': 12, 'layer2_out': 12, 'batch': 128, 'lr': 1.0566416899828199e-05, 'momentum': 0.9081862140020383}.\n"
     ]
    },
    {
     "data": {
      "text/html": [
       "== Status ==<br>Current time: 2021-12-02 20:52:10 (running for 00:05:37.36)<br>Memory usage on this node: 9.7/16.0 GiB<br>Using AsyncHyperBand: num_stopped=2\n",
       "Bracket: Iter 512.000: None | Iter 256.000: None | Iter 128.000: None | Iter 64.000: None | Iter 32.000: None | Iter 16.000: None | Iter 8.000: None | Iter 4.000: 0.2794 | Iter 2.000: 0.1451<br>Resources requested: 12.0/12 CPUs, 0/0 GPUs, 0.0/4.27 GiB heap, 0.0/2.14 GiB objects<br>Current best trial: fd266_00008 with mean_accuracy=0.2794 and parameters={'layer1_out': 12, 'layer2_out': 6, 'batch': 32, 'lr': 8.544767837258724e-05, 'momentum': 0.908650248796244}<br>Result logdir: /Users/wenxindong/ray_results/train_asha<br>Number of trials: 16/16 (2 PENDING, 12 RUNNING, 2 TERMINATED)<br><br>"
      ],
      "text/plain": [
       "<IPython.core.display.HTML object>"
      ]
     },
     "metadata": {},
     "output_type": "display_data"
    },
    {
     "name": "stdout",
     "output_type": "stream",
     "text": [
      "Trial train_eval_model_fd266_00005 reported mean_accuracy=0.10 with parameters={'layer1_out': 3, 'layer2_out': 3, 'batch': 128, 'lr': 5.149095325066857e-05, 'momentum': 0.8833991741133678}.\n"
     ]
    },
    {
     "data": {
      "text/html": [
       "== Status ==<br>Current time: 2021-12-02 20:52:10 (running for 00:05:37.37)<br>Memory usage on this node: 9.7/16.0 GiB<br>Using AsyncHyperBand: num_stopped=2\n",
       "Bracket: Iter 512.000: None | Iter 256.000: None | Iter 128.000: None | Iter 64.000: None | Iter 32.000: None | Iter 16.000: None | Iter 8.000: None | Iter 4.000: 0.2794 | Iter 2.000: 0.1451<br>Resources requested: 12.0/12 CPUs, 0/0 GPUs, 0.0/4.27 GiB heap, 0.0/2.14 GiB objects<br>Current best trial: fd266_00008 with mean_accuracy=0.2794 and parameters={'layer1_out': 12, 'layer2_out': 6, 'batch': 32, 'lr': 8.544767837258724e-05, 'momentum': 0.908650248796244}<br>Result logdir: /Users/wenxindong/ray_results/train_asha<br>Number of trials: 16/16 (2 PENDING, 12 RUNNING, 2 TERMINATED)<br><br>"
      ],
      "text/plain": [
       "<IPython.core.display.HTML object>"
      ]
     },
     "metadata": {},
     "output_type": "display_data"
    },
    {
     "name": "stdout",
     "output_type": "stream",
     "text": [
      "Trial train_eval_model_fd266_00000 reported mean_accuracy=0.10 with parameters={'layer1_out': 6, 'layer2_out': 6, 'batch': 64, 'lr': 0.00014911242320977337, 'momentum': 0.9492817740610973}.\n"
     ]
    },
    {
     "data": {
      "text/html": [
       "== Status ==<br>Current time: 2021-12-02 20:52:15 (running for 00:05:42.77)<br>Memory usage on this node: 10.6/16.0 GiB<br>Using AsyncHyperBand: num_stopped=2\n",
       "Bracket: Iter 512.000: None | Iter 256.000: None | Iter 128.000: None | Iter 64.000: None | Iter 32.000: None | Iter 16.000: None | Iter 8.000: None | Iter 4.000: 0.2794 | Iter 2.000: 0.1451<br>Resources requested: 12.0/12 CPUs, 0/0 GPUs, 0.0/4.27 GiB heap, 0.0/2.14 GiB objects<br>Current best trial: fd266_00008 with mean_accuracy=0.2794 and parameters={'layer1_out': 12, 'layer2_out': 6, 'batch': 32, 'lr': 8.544767837258724e-05, 'momentum': 0.908650248796244}<br>Result logdir: /Users/wenxindong/ray_results/train_asha<br>Number of trials: 16/16 (2 PENDING, 12 RUNNING, 2 TERMINATED)<br><br>"
      ],
      "text/plain": [
       "<IPython.core.display.HTML object>"
      ]
     },
     "metadata": {},
     "output_type": "display_data"
    },
    {
     "data": {
      "text/html": [
       "== Status ==<br>Current time: 2021-12-02 20:52:20 (running for 00:05:47.80)<br>Memory usage on this node: 11.1/16.0 GiB<br>Using AsyncHyperBand: num_stopped=2\n",
       "Bracket: Iter 512.000: None | Iter 256.000: None | Iter 128.000: None | Iter 64.000: None | Iter 32.000: None | Iter 16.000: None | Iter 8.000: None | Iter 4.000: 0.2794 | Iter 2.000: 0.1451<br>Resources requested: 12.0/12 CPUs, 0/0 GPUs, 0.0/4.27 GiB heap, 0.0/2.14 GiB objects<br>Current best trial: fd266_00008 with mean_accuracy=0.2794 and parameters={'layer1_out': 12, 'layer2_out': 6, 'batch': 32, 'lr': 8.544767837258724e-05, 'momentum': 0.908650248796244}<br>Result logdir: /Users/wenxindong/ray_results/train_asha<br>Number of trials: 16/16 (2 PENDING, 12 RUNNING, 2 TERMINATED)<br><br>"
      ],
      "text/plain": [
       "<IPython.core.display.HTML object>"
      ]
     },
     "metadata": {},
     "output_type": "display_data"
    },
    {
     "data": {
      "text/html": [
       "== Status ==<br>Current time: 2021-12-02 20:52:25 (running for 00:05:52.87)<br>Memory usage on this node: 11.2/16.0 GiB<br>Using AsyncHyperBand: num_stopped=2\n",
       "Bracket: Iter 512.000: None | Iter 256.000: None | Iter 128.000: None | Iter 64.000: None | Iter 32.000: None | Iter 16.000: None | Iter 8.000: None | Iter 4.000: 0.2794 | Iter 2.000: 0.1451<br>Resources requested: 12.0/12 CPUs, 0/0 GPUs, 0.0/4.27 GiB heap, 0.0/2.14 GiB objects<br>Current best trial: fd266_00008 with mean_accuracy=0.2794 and parameters={'layer1_out': 12, 'layer2_out': 6, 'batch': 32, 'lr': 8.544767837258724e-05, 'momentum': 0.908650248796244}<br>Result logdir: /Users/wenxindong/ray_results/train_asha<br>Number of trials: 16/16 (2 PENDING, 12 RUNNING, 2 TERMINATED)<br><br>"
      ],
      "text/plain": [
       "<IPython.core.display.HTML object>"
      ]
     },
     "metadata": {},
     "output_type": "display_data"
    },
    {
     "name": "stdout",
     "output_type": "stream",
     "text": [
      "Trial train_eval_model_fd266_00003 reported mean_accuracy=0.09 with parameters={'layer1_out': 12, 'layer2_out': 6, 'batch': 128, 'lr': 2.0558966326656333e-05, 'momentum': 0.881894686238968}.\n"
     ]
    },
    {
     "data": {
      "text/html": [
       "== Status ==<br>Current time: 2021-12-02 20:52:31 (running for 00:05:58.27)<br>Memory usage on this node: 10.8/16.0 GiB<br>Using AsyncHyperBand: num_stopped=2\n",
       "Bracket: Iter 512.000: None | Iter 256.000: None | Iter 128.000: None | Iter 64.000: None | Iter 32.000: None | Iter 16.000: None | Iter 8.000: None | Iter 4.000: 0.2794 | Iter 2.000: 0.1451<br>Resources requested: 12.0/12 CPUs, 0/0 GPUs, 0.0/4.27 GiB heap, 0.0/2.14 GiB objects<br>Current best trial: fd266_00008 with mean_accuracy=0.2794 and parameters={'layer1_out': 12, 'layer2_out': 6, 'batch': 32, 'lr': 8.544767837258724e-05, 'momentum': 0.908650248796244}<br>Result logdir: /Users/wenxindong/ray_results/train_asha<br>Number of trials: 16/16 (2 PENDING, 12 RUNNING, 2 TERMINATED)<br><br>"
      ],
      "text/plain": [
       "<IPython.core.display.HTML object>"
      ]
     },
     "metadata": {},
     "output_type": "display_data"
    },
    {
     "name": "stdout",
     "output_type": "stream",
     "text": [
      "Trial train_eval_model_fd266_00006 reported mean_accuracy=0.10 with parameters={'layer1_out': 3, 'layer2_out': 12, 'batch': 16, 'lr': 1.9753921015787076e-05, 'momentum': 0.9144879575698649}.\n"
     ]
    },
    {
     "data": {
      "text/html": [
       "== Status ==<br>Current time: 2021-12-02 20:52:37 (running for 00:06:03.98)<br>Memory usage on this node: 10.7/16.0 GiB<br>Using AsyncHyperBand: num_stopped=2\n",
       "Bracket: Iter 512.000: None | Iter 256.000: None | Iter 128.000: None | Iter 64.000: None | Iter 32.000: None | Iter 16.000: None | Iter 8.000: None | Iter 4.000: 0.2794 | Iter 2.000: 0.1451<br>Resources requested: 12.0/12 CPUs, 0/0 GPUs, 0.0/4.27 GiB heap, 0.0/2.14 GiB objects<br>Current best trial: fd266_00008 with mean_accuracy=0.2794 and parameters={'layer1_out': 12, 'layer2_out': 6, 'batch': 32, 'lr': 8.544767837258724e-05, 'momentum': 0.908650248796244}<br>Result logdir: /Users/wenxindong/ray_results/train_asha<br>Number of trials: 16/16 (2 PENDING, 12 RUNNING, 2 TERMINATED)<br><br>"
      ],
      "text/plain": [
       "<IPython.core.display.HTML object>"
      ]
     },
     "metadata": {},
     "output_type": "display_data"
    },
    {
     "data": {
      "text/html": [
       "== Status ==<br>Current time: 2021-12-02 20:52:42 (running for 00:06:09.00)<br>Memory usage on this node: 10.8/16.0 GiB<br>Using AsyncHyperBand: num_stopped=2\n",
       "Bracket: Iter 512.000: None | Iter 256.000: None | Iter 128.000: None | Iter 64.000: None | Iter 32.000: None | Iter 16.000: None | Iter 8.000: None | Iter 4.000: 0.2794 | Iter 2.000: 0.1451<br>Resources requested: 12.0/12 CPUs, 0/0 GPUs, 0.0/4.27 GiB heap, 0.0/2.14 GiB objects<br>Current best trial: fd266_00008 with mean_accuracy=0.2794 and parameters={'layer1_out': 12, 'layer2_out': 6, 'batch': 32, 'lr': 8.544767837258724e-05, 'momentum': 0.908650248796244}<br>Result logdir: /Users/wenxindong/ray_results/train_asha<br>Number of trials: 16/16 (2 PENDING, 12 RUNNING, 2 TERMINATED)<br><br>"
      ],
      "text/plain": [
       "<IPython.core.display.HTML object>"
      ]
     },
     "metadata": {},
     "output_type": "display_data"
    },
    {
     "data": {
      "text/html": [
       "== Status ==<br>Current time: 2021-12-02 20:52:47 (running for 00:06:14.05)<br>Memory usage on this node: 10.9/16.0 GiB<br>Using AsyncHyperBand: num_stopped=2\n",
       "Bracket: Iter 512.000: None | Iter 256.000: None | Iter 128.000: None | Iter 64.000: None | Iter 32.000: None | Iter 16.000: None | Iter 8.000: None | Iter 4.000: 0.2794 | Iter 2.000: 0.1451<br>Resources requested: 12.0/12 CPUs, 0/0 GPUs, 0.0/4.27 GiB heap, 0.0/2.14 GiB objects<br>Current best trial: fd266_00008 with mean_accuracy=0.2794 and parameters={'layer1_out': 12, 'layer2_out': 6, 'batch': 32, 'lr': 8.544767837258724e-05, 'momentum': 0.908650248796244}<br>Result logdir: /Users/wenxindong/ray_results/train_asha<br>Number of trials: 16/16 (2 PENDING, 12 RUNNING, 2 TERMINATED)<br><br>"
      ],
      "text/plain": [
       "<IPython.core.display.HTML object>"
      ]
     },
     "metadata": {},
     "output_type": "display_data"
    },
    {
     "data": {
      "text/html": [
       "== Status ==<br>Current time: 2021-12-02 20:52:52 (running for 00:06:19.08)<br>Memory usage on this node: 10.7/16.0 GiB<br>Using AsyncHyperBand: num_stopped=2\n",
       "Bracket: Iter 512.000: None | Iter 256.000: None | Iter 128.000: None | Iter 64.000: None | Iter 32.000: None | Iter 16.000: None | Iter 8.000: None | Iter 4.000: 0.2794 | Iter 2.000: 0.1451<br>Resources requested: 12.0/12 CPUs, 0/0 GPUs, 0.0/4.27 GiB heap, 0.0/2.14 GiB objects<br>Current best trial: fd266_00008 with mean_accuracy=0.2794 and parameters={'layer1_out': 12, 'layer2_out': 6, 'batch': 32, 'lr': 8.544767837258724e-05, 'momentum': 0.908650248796244}<br>Result logdir: /Users/wenxindong/ray_results/train_asha<br>Number of trials: 16/16 (2 PENDING, 12 RUNNING, 2 TERMINATED)<br><br>"
      ],
      "text/plain": [
       "<IPython.core.display.HTML object>"
      ]
     },
     "metadata": {},
     "output_type": "display_data"
    },
    {
     "name": "stdout",
     "output_type": "stream",
     "text": [
      "Trial train_eval_model_fd266_00001 reported mean_accuracy=0.10 with parameters={'layer1_out': 3, 'layer2_out': 3, 'batch': 64, 'lr': 3.102772435722808e-05, 'momentum': 0.9189997187532972}. This trial completed.\n"
     ]
    },
    {
     "data": {
      "text/html": [
       "== Status ==<br>Current time: 2021-12-02 20:53:03 (running for 00:06:30.52)<br>Memory usage on this node: 10.3/16.0 GiB<br>Using AsyncHyperBand: num_stopped=3\n",
       "Bracket: Iter 512.000: None | Iter 256.000: None | Iter 128.000: None | Iter 64.000: None | Iter 32.000: None | Iter 16.000: None | Iter 8.000: None | Iter 4.000: 0.2794 | Iter 2.000: 0.1277<br>Resources requested: 12.0/12 CPUs, 0/0 GPUs, 0.0/4.27 GiB heap, 0.0/2.14 GiB objects<br>Current best trial: fd266_00008 with mean_accuracy=0.2794 and parameters={'layer1_out': 12, 'layer2_out': 6, 'batch': 32, 'lr': 8.544767837258724e-05, 'momentum': 0.908650248796244}<br>Result logdir: /Users/wenxindong/ray_results/train_asha<br>Number of trials: 16/16 (1 PENDING, 12 RUNNING, 3 TERMINATED)<br><br>"
      ],
      "text/plain": [
       "<IPython.core.display.HTML object>"
      ]
     },
     "metadata": {},
     "output_type": "display_data"
    },
    {
     "name": "stdout",
     "output_type": "stream",
     "text": [
      "Trial train_eval_model_fd266_00004 reported mean_accuracy=0.40 with parameters={'layer1_out': 6, 'layer2_out': 12, 'batch': 16, 'lr': 0.0006340916205835722, 'momentum': 0.9115078952591047}.\n"
     ]
    },
    {
     "data": {
      "text/html": [
       "== Status ==<br>Current time: 2021-12-02 20:53:03 (running for 00:06:30.56)<br>Memory usage on this node: 10.3/16.0 GiB<br>Using AsyncHyperBand: num_stopped=3\n",
       "Bracket: Iter 512.000: None | Iter 256.000: None | Iter 128.000: None | Iter 64.000: None | Iter 32.000: None | Iter 16.000: None | Iter 8.000: None | Iter 4.000: 0.2794 | Iter 2.000: 0.1277<br>Resources requested: 12.0/12 CPUs, 0/0 GPUs, 0.0/4.27 GiB heap, 0.0/2.14 GiB objects<br>Current best trial: fd266_00004 with mean_accuracy=0.3969 and parameters={'layer1_out': 6, 'layer2_out': 12, 'batch': 16, 'lr': 0.0006340916205835722, 'momentum': 0.9115078952591047}<br>Result logdir: /Users/wenxindong/ray_results/train_asha<br>Number of trials: 16/16 (1 PENDING, 12 RUNNING, 3 TERMINATED)<br><br>"
      ],
      "text/plain": [
       "<IPython.core.display.HTML object>"
      ]
     },
     "metadata": {},
     "output_type": "display_data"
    },
    {
     "name": "stdout",
     "output_type": "stream",
     "text": [
      "Trial train_eval_model_fd266_00011 reported mean_accuracy=0.10 with parameters={'layer1_out': 6, 'layer2_out': 3, 'batch': 64, 'lr': 2.803628552324176e-05, 'momentum': 0.8740482211083148}. This trial completed.\n"
     ]
    },
    {
     "data": {
      "text/html": [
       "== Status ==<br>Current time: 2021-12-02 20:53:11 (running for 00:06:38.27)<br>Memory usage on this node: 10.6/16.0 GiB<br>Using AsyncHyperBand: num_stopped=4\n",
       "Bracket: Iter 512.000: None | Iter 256.000: None | Iter 128.000: None | Iter 64.000: None | Iter 32.000: None | Iter 16.000: None | Iter 8.000: None | Iter 4.000: 0.2794 | Iter 2.000: 0.1103<br>Resources requested: 12.0/12 CPUs, 0/0 GPUs, 0.0/4.27 GiB heap, 0.0/2.14 GiB objects<br>Current best trial: fd266_00004 with mean_accuracy=0.3969 and parameters={'layer1_out': 6, 'layer2_out': 12, 'batch': 16, 'lr': 0.0006340916205835722, 'momentum': 0.9115078952591047}<br>Result logdir: /Users/wenxindong/ray_results/train_asha<br>Number of trials: 16/16 (12 RUNNING, 4 TERMINATED)<br><br>"
      ],
      "text/plain": [
       "<IPython.core.display.HTML object>"
      ]
     },
     "metadata": {},
     "output_type": "display_data"
    },
    {
     "name": "stdout",
     "output_type": "stream",
     "text": [
      "Trial train_eval_model_fd266_00007 reported mean_accuracy=0.10 with parameters={'layer1_out': 12, 'layer2_out': 6, 'batch': 128, 'lr': 0.00017731720862507053, 'momentum': 0.9173157212446972}.\n"
     ]
    },
    {
     "data": {
      "text/html": [
       "== Status ==<br>Current time: 2021-12-02 20:53:13 (running for 00:06:40.77)<br>Memory usage on this node: 10.4/16.0 GiB<br>Using AsyncHyperBand: num_stopped=4\n",
       "Bracket: Iter 512.000: None | Iter 256.000: None | Iter 128.000: None | Iter 64.000: None | Iter 32.000: None | Iter 16.000: None | Iter 8.000: None | Iter 4.000: 0.2794 | Iter 2.000: 0.1103<br>Resources requested: 12.0/12 CPUs, 0/0 GPUs, 0.0/4.27 GiB heap, 0.0/2.14 GiB objects<br>Current best trial: fd266_00004 with mean_accuracy=0.3969 and parameters={'layer1_out': 6, 'layer2_out': 12, 'batch': 16, 'lr': 0.0006340916205835722, 'momentum': 0.9115078952591047}<br>Result logdir: /Users/wenxindong/ray_results/train_asha<br>Number of trials: 16/16 (12 RUNNING, 4 TERMINATED)<br><br>"
      ],
      "text/plain": [
       "<IPython.core.display.HTML object>"
      ]
     },
     "metadata": {},
     "output_type": "display_data"
    },
    {
     "name": "stdout",
     "output_type": "stream",
     "text": [
      "Trial train_eval_model_fd266_00005 reported mean_accuracy=0.10 with parameters={'layer1_out': 3, 'layer2_out': 3, 'batch': 128, 'lr': 5.149095325066857e-05, 'momentum': 0.8833991741133678}. This trial completed.\n"
     ]
    },
    {
     "data": {
      "text/html": [
       "== Status ==<br>Current time: 2021-12-02 20:53:19 (running for 00:06:46.51)<br>Memory usage on this node: 10.4/16.0 GiB<br>Using AsyncHyperBand: num_stopped=5\n",
       "Bracket: Iter 512.000: None | Iter 256.000: None | Iter 128.000: None | Iter 64.000: None | Iter 32.000: None | Iter 16.000: None | Iter 8.000: None | Iter 4.000: 0.2794 | Iter 2.000: 0.10685<br>Resources requested: 11.0/12 CPUs, 0/0 GPUs, 0.0/4.27 GiB heap, 0.0/2.14 GiB objects<br>Current best trial: fd266_00004 with mean_accuracy=0.3969 and parameters={'layer1_out': 6, 'layer2_out': 12, 'batch': 16, 'lr': 0.0006340916205835722, 'momentum': 0.9115078952591047}<br>Result logdir: /Users/wenxindong/ray_results/train_asha<br>Number of trials: 16/16 (11 RUNNING, 5 TERMINATED)<br><br>"
      ],
      "text/plain": [
       "<IPython.core.display.HTML object>"
      ]
     },
     "metadata": {},
     "output_type": "display_data"
    },
    {
     "data": {
      "text/html": [
       "== Status ==<br>Current time: 2021-12-02 20:53:24 (running for 00:06:51.56)<br>Memory usage on this node: 10.6/16.0 GiB<br>Using AsyncHyperBand: num_stopped=5\n",
       "Bracket: Iter 512.000: None | Iter 256.000: None | Iter 128.000: None | Iter 64.000: None | Iter 32.000: None | Iter 16.000: None | Iter 8.000: None | Iter 4.000: 0.2794 | Iter 2.000: 0.10685<br>Resources requested: 11.0/12 CPUs, 0/0 GPUs, 0.0/4.27 GiB heap, 0.0/2.14 GiB objects<br>Current best trial: fd266_00004 with mean_accuracy=0.3969 and parameters={'layer1_out': 6, 'layer2_out': 12, 'batch': 16, 'lr': 0.0006340916205835722, 'momentum': 0.9115078952591047}<br>Result logdir: /Users/wenxindong/ray_results/train_asha<br>Number of trials: 16/16 (11 RUNNING, 5 TERMINATED)<br><br>"
      ],
      "text/plain": [
       "<IPython.core.display.HTML object>"
      ]
     },
     "metadata": {},
     "output_type": "display_data"
    },
    {
     "name": "stdout",
     "output_type": "stream",
     "text": [
      "Trial train_eval_model_fd266_00008 reported mean_accuracy=0.32 with parameters={'layer1_out': 12, 'layer2_out': 6, 'batch': 32, 'lr': 8.544767837258724e-05, 'momentum': 0.908650248796244}.\n"
     ]
    },
    {
     "data": {
      "text/html": [
       "== Status ==<br>Current time: 2021-12-02 20:53:30 (running for 00:06:57.17)<br>Memory usage on this node: 10.8/16.0 GiB<br>Using AsyncHyperBand: num_stopped=5\n",
       "Bracket: Iter 512.000: None | Iter 256.000: None | Iter 128.000: None | Iter 64.000: None | Iter 32.000: None | Iter 16.000: None | Iter 8.000: None | Iter 4.000: 0.2794 | Iter 2.000: 0.10685<br>Resources requested: 11.0/12 CPUs, 0/0 GPUs, 0.0/4.27 GiB heap, 0.0/2.14 GiB objects<br>Current best trial: fd266_00004 with mean_accuracy=0.3969 and parameters={'layer1_out': 6, 'layer2_out': 12, 'batch': 16, 'lr': 0.0006340916205835722, 'momentum': 0.9115078952591047}<br>Result logdir: /Users/wenxindong/ray_results/train_asha<br>Number of trials: 16/16 (11 RUNNING, 5 TERMINATED)<br><br>"
      ],
      "text/plain": [
       "<IPython.core.display.HTML object>"
      ]
     },
     "metadata": {},
     "output_type": "display_data"
    },
    {
     "name": "stdout",
     "output_type": "stream",
     "text": [
      "Trial train_eval_model_fd266_00000 reported mean_accuracy=0.12 with parameters={'layer1_out': 6, 'layer2_out': 6, 'batch': 64, 'lr': 0.00014911242320977337, 'momentum': 0.9492817740610973}.\n"
     ]
    },
    {
     "data": {
      "text/html": [
       "== Status ==<br>Current time: 2021-12-02 20:53:36 (running for 00:07:03.03)<br>Memory usage on this node: 10.0/16.0 GiB<br>Using AsyncHyperBand: num_stopped=5\n",
       "Bracket: Iter 512.000: None | Iter 256.000: None | Iter 128.000: None | Iter 64.000: None | Iter 32.000: None | Iter 16.000: None | Iter 8.000: None | Iter 4.000: 0.2794 | Iter 2.000: 0.1103<br>Resources requested: 11.0/12 CPUs, 0/0 GPUs, 0.0/4.27 GiB heap, 0.0/2.14 GiB objects<br>Current best trial: fd266_00004 with mean_accuracy=0.3969 and parameters={'layer1_out': 6, 'layer2_out': 12, 'batch': 16, 'lr': 0.0006340916205835722, 'momentum': 0.9115078952591047}<br>Result logdir: /Users/wenxindong/ray_results/train_asha<br>Number of trials: 16/16 (11 RUNNING, 5 TERMINATED)<br><br>"
      ],
      "text/plain": [
       "<IPython.core.display.HTML object>"
      ]
     },
     "metadata": {},
     "output_type": "display_data"
    },
    {
     "data": {
      "text/html": [
       "== Status ==<br>Current time: 2021-12-02 20:53:41 (running for 00:07:08.05)<br>Memory usage on this node: 9.7/16.0 GiB<br>Using AsyncHyperBand: num_stopped=5\n",
       "Bracket: Iter 512.000: None | Iter 256.000: None | Iter 128.000: None | Iter 64.000: None | Iter 32.000: None | Iter 16.000: None | Iter 8.000: None | Iter 4.000: 0.2794 | Iter 2.000: 0.1103<br>Resources requested: 11.0/12 CPUs, 0/0 GPUs, 0.0/4.27 GiB heap, 0.0/2.14 GiB objects<br>Current best trial: fd266_00004 with mean_accuracy=0.3969 and parameters={'layer1_out': 6, 'layer2_out': 12, 'batch': 16, 'lr': 0.0006340916205835722, 'momentum': 0.9115078952591047}<br>Result logdir: /Users/wenxindong/ray_results/train_asha<br>Number of trials: 16/16 (11 RUNNING, 5 TERMINATED)<br><br>"
      ],
      "text/plain": [
       "<IPython.core.display.HTML object>"
      ]
     },
     "metadata": {},
     "output_type": "display_data"
    },
    {
     "data": {
      "text/html": [
       "== Status ==<br>Current time: 2021-12-02 20:53:46 (running for 00:07:13.07)<br>Memory usage on this node: 9.8/16.0 GiB<br>Using AsyncHyperBand: num_stopped=5\n",
       "Bracket: Iter 512.000: None | Iter 256.000: None | Iter 128.000: None | Iter 64.000: None | Iter 32.000: None | Iter 16.000: None | Iter 8.000: None | Iter 4.000: 0.2794 | Iter 2.000: 0.1103<br>Resources requested: 11.0/12 CPUs, 0/0 GPUs, 0.0/4.27 GiB heap, 0.0/2.14 GiB objects<br>Current best trial: fd266_00004 with mean_accuracy=0.3969 and parameters={'layer1_out': 6, 'layer2_out': 12, 'batch': 16, 'lr': 0.0006340916205835722, 'momentum': 0.9115078952591047}<br>Result logdir: /Users/wenxindong/ray_results/train_asha<br>Number of trials: 16/16 (11 RUNNING, 5 TERMINATED)<br><br>"
      ],
      "text/plain": [
       "<IPython.core.display.HTML object>"
      ]
     },
     "metadata": {},
     "output_type": "display_data"
    },
    {
     "data": {
      "text/html": [
       "== Status ==<br>Current time: 2021-12-02 20:53:51 (running for 00:07:18.09)<br>Memory usage on this node: 10.2/16.0 GiB<br>Using AsyncHyperBand: num_stopped=5\n",
       "Bracket: Iter 512.000: None | Iter 256.000: None | Iter 128.000: None | Iter 64.000: None | Iter 32.000: None | Iter 16.000: None | Iter 8.000: None | Iter 4.000: 0.2794 | Iter 2.000: 0.1103<br>Resources requested: 11.0/12 CPUs, 0/0 GPUs, 0.0/4.27 GiB heap, 0.0/2.14 GiB objects<br>Current best trial: fd266_00004 with mean_accuracy=0.3969 and parameters={'layer1_out': 6, 'layer2_out': 12, 'batch': 16, 'lr': 0.0006340916205835722, 'momentum': 0.9115078952591047}<br>Result logdir: /Users/wenxindong/ray_results/train_asha<br>Number of trials: 16/16 (11 RUNNING, 5 TERMINATED)<br><br>"
      ],
      "text/plain": [
       "<IPython.core.display.HTML object>"
      ]
     },
     "metadata": {},
     "output_type": "display_data"
    },
    {
     "data": {
      "text/html": [
       "== Status ==<br>Current time: 2021-12-02 20:53:56 (running for 00:07:23.13)<br>Memory usage on this node: 10.2/16.0 GiB<br>Using AsyncHyperBand: num_stopped=5\n",
       "Bracket: Iter 512.000: None | Iter 256.000: None | Iter 128.000: None | Iter 64.000: None | Iter 32.000: None | Iter 16.000: None | Iter 8.000: None | Iter 4.000: 0.2794 | Iter 2.000: 0.1103<br>Resources requested: 11.0/12 CPUs, 0/0 GPUs, 0.0/4.27 GiB heap, 0.0/2.14 GiB objects<br>Current best trial: fd266_00004 with mean_accuracy=0.3969 and parameters={'layer1_out': 6, 'layer2_out': 12, 'batch': 16, 'lr': 0.0006340916205835722, 'momentum': 0.9115078952591047}<br>Result logdir: /Users/wenxindong/ray_results/train_asha<br>Number of trials: 16/16 (11 RUNNING, 5 TERMINATED)<br><br>"
      ],
      "text/plain": [
       "<IPython.core.display.HTML object>"
      ]
     },
     "metadata": {},
     "output_type": "display_data"
    },
    {
     "data": {
      "text/html": [
       "== Status ==<br>Current time: 2021-12-02 20:54:01 (running for 00:07:28.15)<br>Memory usage on this node: 10.2/16.0 GiB<br>Using AsyncHyperBand: num_stopped=5\n",
       "Bracket: Iter 512.000: None | Iter 256.000: None | Iter 128.000: None | Iter 64.000: None | Iter 32.000: None | Iter 16.000: None | Iter 8.000: None | Iter 4.000: 0.2794 | Iter 2.000: 0.1103<br>Resources requested: 11.0/12 CPUs, 0/0 GPUs, 0.0/4.27 GiB heap, 0.0/2.14 GiB objects<br>Current best trial: fd266_00004 with mean_accuracy=0.3969 and parameters={'layer1_out': 6, 'layer2_out': 12, 'batch': 16, 'lr': 0.0006340916205835722, 'momentum': 0.9115078952591047}<br>Result logdir: /Users/wenxindong/ray_results/train_asha<br>Number of trials: 16/16 (11 RUNNING, 5 TERMINATED)<br><br>"
      ],
      "text/plain": [
       "<IPython.core.display.HTML object>"
      ]
     },
     "metadata": {},
     "output_type": "display_data"
    },
    {
     "data": {
      "text/html": [
       "== Status ==<br>Current time: 2021-12-02 20:54:06 (running for 00:07:33.18)<br>Memory usage on this node: 10.6/16.0 GiB<br>Using AsyncHyperBand: num_stopped=5\n",
       "Bracket: Iter 512.000: None | Iter 256.000: None | Iter 128.000: None | Iter 64.000: None | Iter 32.000: None | Iter 16.000: None | Iter 8.000: None | Iter 4.000: 0.2794 | Iter 2.000: 0.1103<br>Resources requested: 11.0/12 CPUs, 0/0 GPUs, 0.0/4.27 GiB heap, 0.0/2.14 GiB objects<br>Current best trial: fd266_00004 with mean_accuracy=0.3969 and parameters={'layer1_out': 6, 'layer2_out': 12, 'batch': 16, 'lr': 0.0006340916205835722, 'momentum': 0.9115078952591047}<br>Result logdir: /Users/wenxindong/ray_results/train_asha<br>Number of trials: 16/16 (11 RUNNING, 5 TERMINATED)<br><br>"
      ],
      "text/plain": [
       "<IPython.core.display.HTML object>"
      ]
     },
     "metadata": {},
     "output_type": "display_data"
    },
    {
     "name": "stdout",
     "output_type": "stream",
     "text": [
      "Trial train_eval_model_fd266_00006 reported mean_accuracy=0.10 with parameters={'layer1_out': 3, 'layer2_out': 12, 'batch': 16, 'lr': 1.9753921015787076e-05, 'momentum': 0.9144879575698649}. This trial completed.\n"
     ]
    },
    {
     "data": {
      "text/html": [
       "== Status ==<br>Current time: 2021-12-02 20:54:11 (running for 00:07:38.72)<br>Memory usage on this node: 10.6/16.0 GiB<br>Using AsyncHyperBand: num_stopped=6\n",
       "Bracket: Iter 512.000: None | Iter 256.000: None | Iter 128.000: None | Iter 64.000: None | Iter 32.000: None | Iter 16.000: None | Iter 8.000: None | Iter 4.000: 0.2794 | Iter 2.000: 0.10685<br>Resources requested: 10.0/12 CPUs, 0/0 GPUs, 0.0/4.27 GiB heap, 0.0/2.14 GiB objects<br>Current best trial: fd266_00004 with mean_accuracy=0.3969 and parameters={'layer1_out': 6, 'layer2_out': 12, 'batch': 16, 'lr': 0.0006340916205835722, 'momentum': 0.9115078952591047}<br>Result logdir: /Users/wenxindong/ray_results/train_asha<br>Number of trials: 16/16 (10 RUNNING, 6 TERMINATED)<br><br>"
      ],
      "text/plain": [
       "<IPython.core.display.HTML object>"
      ]
     },
     "metadata": {},
     "output_type": "display_data"
    },
    {
     "name": "stdout",
     "output_type": "stream",
     "text": [
      "Trial train_eval_model_fd266_00012 reported mean_accuracy=0.14 with parameters={'layer1_out': 12, 'layer2_out': 12, 'batch': 32, 'lr': 0.00012838967195419028, 'momentum': 0.8524725567171054}.\n",
      "Trial train_eval_model_fd266_00009 reported mean_accuracy=0.10 with parameters={'layer1_out': 12, 'layer2_out': 12, 'batch': 128, 'lr': 1.0566416899828199e-05, 'momentum': 0.9081862140020383}. This trial completed.\n"
     ]
    },
    {
     "data": {
      "text/html": [
       "== Status ==<br>Current time: 2021-12-02 20:54:16 (running for 00:07:43.89)<br>Memory usage on this node: 10.9/16.0 GiB<br>Using AsyncHyperBand: num_stopped=7\n",
       "Bracket: Iter 512.000: None | Iter 256.000: None | Iter 128.000: None | Iter 64.000: None | Iter 32.000: None | Iter 16.000: None | Iter 8.000: None | Iter 4.000: 0.2794 | Iter 2.000: 0.1034<br>Resources requested: 9.0/12 CPUs, 0/0 GPUs, 0.0/4.27 GiB heap, 0.0/2.14 GiB objects<br>Current best trial: fd266_00004 with mean_accuracy=0.3969 and parameters={'layer1_out': 6, 'layer2_out': 12, 'batch': 16, 'lr': 0.0006340916205835722, 'momentum': 0.9115078952591047}<br>Result logdir: /Users/wenxindong/ray_results/train_asha<br>Number of trials: 16/16 (9 RUNNING, 7 TERMINATED)<br><br>"
      ],
      "text/plain": [
       "<IPython.core.display.HTML object>"
      ]
     },
     "metadata": {},
     "output_type": "display_data"
    },
    {
     "name": "stdout",
     "output_type": "stream",
     "text": [
      "Trial train_eval_model_fd266_00003 reported mean_accuracy=0.10 with parameters={'layer1_out': 12, 'layer2_out': 6, 'batch': 128, 'lr': 2.0558966326656333e-05, 'momentum': 0.881894686238968}. This trial completed.\n"
     ]
    },
    {
     "data": {
      "text/html": [
       "== Status ==<br>Current time: 2021-12-02 20:54:22 (running for 00:07:49.15)<br>Memory usage on this node: 10.9/16.0 GiB<br>Using AsyncHyperBand: num_stopped=8\n",
       "Bracket: Iter 512.000: None | Iter 256.000: None | Iter 128.000: None | Iter 64.000: None | Iter 32.000: None | Iter 16.000: None | Iter 8.000: None | Iter 4.000: 0.2794 | Iter 2.000: 0.1032<br>Resources requested: 8.0/12 CPUs, 0/0 GPUs, 0.0/4.27 GiB heap, 0.0/2.14 GiB objects<br>Current best trial: fd266_00004 with mean_accuracy=0.3969 and parameters={'layer1_out': 6, 'layer2_out': 12, 'batch': 16, 'lr': 0.0006340916205835722, 'momentum': 0.9115078952591047}<br>Result logdir: /Users/wenxindong/ray_results/train_asha<br>Number of trials: 16/16 (8 RUNNING, 8 TERMINATED)<br><br>"
      ],
      "text/plain": [
       "<IPython.core.display.HTML object>"
      ]
     },
     "metadata": {},
     "output_type": "display_data"
    },
    {
     "data": {
      "text/html": [
       "== Status ==<br>Current time: 2021-12-02 20:54:27 (running for 00:07:54.19)<br>Memory usage on this node: 11.0/16.0 GiB<br>Using AsyncHyperBand: num_stopped=8\n",
       "Bracket: Iter 512.000: None | Iter 256.000: None | Iter 128.000: None | Iter 64.000: None | Iter 32.000: None | Iter 16.000: None | Iter 8.000: None | Iter 4.000: 0.2794 | Iter 2.000: 0.1032<br>Resources requested: 8.0/12 CPUs, 0/0 GPUs, 0.0/4.27 GiB heap, 0.0/2.14 GiB objects<br>Current best trial: fd266_00004 with mean_accuracy=0.3969 and parameters={'layer1_out': 6, 'layer2_out': 12, 'batch': 16, 'lr': 0.0006340916205835722, 'momentum': 0.9115078952591047}<br>Result logdir: /Users/wenxindong/ray_results/train_asha<br>Number of trials: 16/16 (8 RUNNING, 8 TERMINATED)<br><br>"
      ],
      "text/plain": [
       "<IPython.core.display.HTML object>"
      ]
     },
     "metadata": {},
     "output_type": "display_data"
    },
    {
     "name": "stdout",
     "output_type": "stream",
     "text": [
      "Trial train_eval_model_fd266_00000 reported mean_accuracy=0.16 with parameters={'layer1_out': 6, 'layer2_out': 6, 'batch': 64, 'lr': 0.00014911242320977337, 'momentum': 0.9492817740610973}.\n"
     ]
    },
    {
     "data": {
      "text/html": [
       "== Status ==<br>Current time: 2021-12-02 20:54:32 (running for 00:07:59.25)<br>Memory usage on this node: 11.1/16.0 GiB<br>Using AsyncHyperBand: num_stopped=8\n",
       "Bracket: Iter 512.000: None | Iter 256.000: None | Iter 128.000: None | Iter 64.000: None | Iter 32.000: None | Iter 16.000: None | Iter 8.000: None | Iter 4.000: 0.2794 | Iter 2.000: 0.1032<br>Resources requested: 8.0/12 CPUs, 0/0 GPUs, 0.0/4.27 GiB heap, 0.0/2.14 GiB objects<br>Current best trial: fd266_00004 with mean_accuracy=0.3969 and parameters={'layer1_out': 6, 'layer2_out': 12, 'batch': 16, 'lr': 0.0006340916205835722, 'momentum': 0.9115078952591047}<br>Result logdir: /Users/wenxindong/ray_results/train_asha<br>Number of trials: 16/16 (8 RUNNING, 8 TERMINATED)<br><br>"
      ],
      "text/plain": [
       "<IPython.core.display.HTML object>"
      ]
     },
     "metadata": {},
     "output_type": "display_data"
    },
    {
     "name": "stdout",
     "output_type": "stream",
     "text": [
      "Trial train_eval_model_fd266_00004 reported mean_accuracy=0.50 with parameters={'layer1_out': 6, 'layer2_out': 12, 'batch': 16, 'lr': 0.0006340916205835722, 'momentum': 0.9115078952591047}.\n"
     ]
    },
    {
     "data": {
      "text/html": [
       "== Status ==<br>Current time: 2021-12-02 20:54:38 (running for 00:08:05.01)<br>Memory usage on this node: 10.8/16.0 GiB<br>Using AsyncHyperBand: num_stopped=8\n",
       "Bracket: Iter 512.000: None | Iter 256.000: None | Iter 128.000: None | Iter 64.000: None | Iter 32.000: None | Iter 16.000: None | Iter 8.000: None | Iter 4.000: 0.2794 | Iter 2.000: 0.1034<br>Resources requested: 8.0/12 CPUs, 0/0 GPUs, 0.0/4.27 GiB heap, 0.0/2.14 GiB objects<br>Current best trial: fd266_00004 with mean_accuracy=0.4988 and parameters={'layer1_out': 6, 'layer2_out': 12, 'batch': 16, 'lr': 0.0006340916205835722, 'momentum': 0.9115078952591047}<br>Result logdir: /Users/wenxindong/ray_results/train_asha<br>Number of trials: 16/16 (8 RUNNING, 8 TERMINATED)<br><br>"
      ],
      "text/plain": [
       "<IPython.core.display.HTML object>"
      ]
     },
     "metadata": {},
     "output_type": "display_data"
    },
    {
     "data": {
      "text/html": [
       "== Status ==<br>Current time: 2021-12-02 20:54:43 (running for 00:08:10.03)<br>Memory usage on this node: 9.6/16.0 GiB<br>Using AsyncHyperBand: num_stopped=8\n",
       "Bracket: Iter 512.000: None | Iter 256.000: None | Iter 128.000: None | Iter 64.000: None | Iter 32.000: None | Iter 16.000: None | Iter 8.000: None | Iter 4.000: 0.2794 | Iter 2.000: 0.1034<br>Resources requested: 8.0/12 CPUs, 0/0 GPUs, 0.0/4.27 GiB heap, 0.0/2.14 GiB objects<br>Current best trial: fd266_00004 with mean_accuracy=0.4988 and parameters={'layer1_out': 6, 'layer2_out': 12, 'batch': 16, 'lr': 0.0006340916205835722, 'momentum': 0.9115078952591047}<br>Result logdir: /Users/wenxindong/ray_results/train_asha<br>Number of trials: 16/16 (8 RUNNING, 8 TERMINATED)<br><br>"
      ],
      "text/plain": [
       "<IPython.core.display.HTML object>"
      ]
     },
     "metadata": {},
     "output_type": "display_data"
    },
    {
     "data": {
      "text/html": [
       "== Status ==<br>Current time: 2021-12-02 20:54:48 (running for 00:08:15.06)<br>Memory usage on this node: 9.8/16.0 GiB<br>Using AsyncHyperBand: num_stopped=8\n",
       "Bracket: Iter 512.000: None | Iter 256.000: None | Iter 128.000: None | Iter 64.000: None | Iter 32.000: None | Iter 16.000: None | Iter 8.000: None | Iter 4.000: 0.2794 | Iter 2.000: 0.1034<br>Resources requested: 8.0/12 CPUs, 0/0 GPUs, 0.0/4.27 GiB heap, 0.0/2.14 GiB objects<br>Current best trial: fd266_00004 with mean_accuracy=0.4988 and parameters={'layer1_out': 6, 'layer2_out': 12, 'batch': 16, 'lr': 0.0006340916205835722, 'momentum': 0.9115078952591047}<br>Result logdir: /Users/wenxindong/ray_results/train_asha<br>Number of trials: 16/16 (8 RUNNING, 8 TERMINATED)<br><br>"
      ],
      "text/plain": [
       "<IPython.core.display.HTML object>"
      ]
     },
     "metadata": {},
     "output_type": "display_data"
    },
    {
     "name": "stdout",
     "output_type": "stream",
     "text": [
      "Trial train_eval_model_fd266_00007 reported mean_accuracy=0.10 with parameters={'layer1_out': 12, 'layer2_out': 6, 'batch': 128, 'lr': 0.00017731720862507053, 'momentum': 0.9173157212446972}. This trial completed.\n"
     ]
    },
    {
     "data": {
      "text/html": [
       "== Status ==<br>Current time: 2021-12-02 20:54:53 (running for 00:08:20.85)<br>Memory usage on this node: 9.8/16.0 GiB<br>Using AsyncHyperBand: num_stopped=9\n",
       "Bracket: Iter 512.000: None | Iter 256.000: None | Iter 128.000: None | Iter 64.000: None | Iter 32.000: None | Iter 16.000: None | Iter 8.000: None | Iter 4.000: 0.2794 | Iter 2.000: 0.1032<br>Resources requested: 7.0/12 CPUs, 0/0 GPUs, 0.0/4.27 GiB heap, 0.0/2.14 GiB objects<br>Current best trial: fd266_00004 with mean_accuracy=0.4988 and parameters={'layer1_out': 6, 'layer2_out': 12, 'batch': 16, 'lr': 0.0006340916205835722, 'momentum': 0.9115078952591047}<br>Result logdir: /Users/wenxindong/ray_results/train_asha<br>Number of trials: 16/16 (7 RUNNING, 9 TERMINATED)<br><br>"
      ],
      "text/plain": [
       "<IPython.core.display.HTML object>"
      ]
     },
     "metadata": {},
     "output_type": "display_data"
    },
    {
     "data": {
      "text/html": [
       "== Status ==<br>Current time: 2021-12-02 20:54:58 (running for 00:08:25.88)<br>Memory usage on this node: 9.9/16.0 GiB<br>Using AsyncHyperBand: num_stopped=9\n",
       "Bracket: Iter 512.000: None | Iter 256.000: None | Iter 128.000: None | Iter 64.000: None | Iter 32.000: None | Iter 16.000: None | Iter 8.000: None | Iter 4.000: 0.2794 | Iter 2.000: 0.1032<br>Resources requested: 7.0/12 CPUs, 0/0 GPUs, 0.0/4.27 GiB heap, 0.0/2.14 GiB objects<br>Current best trial: fd266_00004 with mean_accuracy=0.4988 and parameters={'layer1_out': 6, 'layer2_out': 12, 'batch': 16, 'lr': 0.0006340916205835722, 'momentum': 0.9115078952591047}<br>Result logdir: /Users/wenxindong/ray_results/train_asha<br>Number of trials: 16/16 (7 RUNNING, 9 TERMINATED)<br><br>"
      ],
      "text/plain": [
       "<IPython.core.display.HTML object>"
      ]
     },
     "metadata": {},
     "output_type": "display_data"
    },
    {
     "data": {
      "text/html": [
       "== Status ==<br>Current time: 2021-12-02 20:55:04 (running for 00:08:30.90)<br>Memory usage on this node: 10.0/16.0 GiB<br>Using AsyncHyperBand: num_stopped=9\n",
       "Bracket: Iter 512.000: None | Iter 256.000: None | Iter 128.000: None | Iter 64.000: None | Iter 32.000: None | Iter 16.000: None | Iter 8.000: None | Iter 4.000: 0.2794 | Iter 2.000: 0.1032<br>Resources requested: 7.0/12 CPUs, 0/0 GPUs, 0.0/4.27 GiB heap, 0.0/2.14 GiB objects<br>Current best trial: fd266_00004 with mean_accuracy=0.4988 and parameters={'layer1_out': 6, 'layer2_out': 12, 'batch': 16, 'lr': 0.0006340916205835722, 'momentum': 0.9115078952591047}<br>Result logdir: /Users/wenxindong/ray_results/train_asha<br>Number of trials: 16/16 (7 RUNNING, 9 TERMINATED)<br><br>"
      ],
      "text/plain": [
       "<IPython.core.display.HTML object>"
      ]
     },
     "metadata": {},
     "output_type": "display_data"
    },
    {
     "name": "stdout",
     "output_type": "stream",
     "text": [
      "Trial train_eval_model_fd266_00008 reported mean_accuracy=0.33 with parameters={'layer1_out': 12, 'layer2_out': 6, 'batch': 32, 'lr': 8.544767837258724e-05, 'momentum': 0.908650248796244}.\n"
     ]
    },
    {
     "data": {
      "text/html": [
       "== Status ==<br>Current time: 2021-12-02 20:55:09 (running for 00:08:35.95)<br>Memory usage on this node: 10.1/16.0 GiB<br>Using AsyncHyperBand: num_stopped=9\n",
       "Bracket: Iter 512.000: None | Iter 256.000: None | Iter 128.000: None | Iter 64.000: None | Iter 32.000: None | Iter 16.000: None | Iter 8.000: None | Iter 4.000: 0.2794 | Iter 2.000: 0.1032<br>Resources requested: 7.0/12 CPUs, 0/0 GPUs, 0.0/4.27 GiB heap, 0.0/2.14 GiB objects<br>Current best trial: fd266_00004 with mean_accuracy=0.4988 and parameters={'layer1_out': 6, 'layer2_out': 12, 'batch': 16, 'lr': 0.0006340916205835722, 'momentum': 0.9115078952591047}<br>Result logdir: /Users/wenxindong/ray_results/train_asha<br>Number of trials: 16/16 (7 RUNNING, 9 TERMINATED)<br><br>"
      ],
      "text/plain": [
       "<IPython.core.display.HTML object>"
      ]
     },
     "metadata": {},
     "output_type": "display_data"
    },
    {
     "name": "stdout",
     "output_type": "stream",
     "text": [
      "Trial train_eval_model_fd266_00014 reported mean_accuracy=0.10 with parameters={'layer1_out': 6, 'layer2_out': 6, 'batch': 64, 'lr': 6.075522627345339e-05, 'momentum': 0.8533488635101801}.\n",
      "Trial train_eval_model_fd266_00013 reported mean_accuracy=0.18 with parameters={'layer1_out': 12, 'layer2_out': 12, 'batch': 128, 'lr': 0.000940748918176182, 'momentum': 0.8581307663222114}.\n"
     ]
    },
    {
     "data": {
      "text/html": [
       "== Status ==<br>Current time: 2021-12-02 20:55:14 (running for 00:08:41.07)<br>Memory usage on this node: 10.2/16.0 GiB<br>Using AsyncHyperBand: num_stopped=9\n",
       "Bracket: Iter 512.000: None | Iter 256.000: None | Iter 128.000: None | Iter 64.000: None | Iter 32.000: None | Iter 16.000: None | Iter 8.000: None | Iter 4.000: 0.2794 | Iter 2.000: 0.1032<br>Resources requested: 7.0/12 CPUs, 0/0 GPUs, 0.0/4.27 GiB heap, 0.0/2.14 GiB objects<br>Current best trial: fd266_00004 with mean_accuracy=0.4988 and parameters={'layer1_out': 6, 'layer2_out': 12, 'batch': 16, 'lr': 0.0006340916205835722, 'momentum': 0.9115078952591047}<br>Result logdir: /Users/wenxindong/ray_results/train_asha<br>Number of trials: 16/16 (7 RUNNING, 9 TERMINATED)<br><br>"
      ],
      "text/plain": [
       "<IPython.core.display.HTML object>"
      ]
     },
     "metadata": {},
     "output_type": "display_data"
    },
    {
     "name": "stdout",
     "output_type": "stream",
     "text": [
      "Trial train_eval_model_fd266_00000 reported mean_accuracy=0.20 with parameters={'layer1_out': 6, 'layer2_out': 6, 'batch': 64, 'lr': 0.00014911242320977337, 'momentum': 0.9492817740610973}. This trial completed.\n"
     ]
    },
    {
     "data": {
      "text/html": [
       "== Status ==<br>Current time: 2021-12-02 20:55:20 (running for 00:08:46.97)<br>Memory usage on this node: 10.9/16.0 GiB<br>Using AsyncHyperBand: num_stopped=10\n",
       "Bracket: Iter 512.000: None | Iter 256.000: None | Iter 128.000: None | Iter 64.000: None | Iter 32.000: None | Iter 16.000: None | Iter 8.000: None | Iter 4.000: 0.24 | Iter 2.000: 0.1032<br>Resources requested: 6.0/12 CPUs, 0/0 GPUs, 0.0/4.27 GiB heap, 0.0/2.14 GiB objects<br>Current best trial: fd266_00004 with mean_accuracy=0.4988 and parameters={'layer1_out': 6, 'layer2_out': 12, 'batch': 16, 'lr': 0.0006340916205835722, 'momentum': 0.9115078952591047}<br>Result logdir: /Users/wenxindong/ray_results/train_asha<br>Number of trials: 16/16 (6 RUNNING, 10 TERMINATED)<br><br>"
      ],
      "text/plain": [
       "<IPython.core.display.HTML object>"
      ]
     },
     "metadata": {},
     "output_type": "display_data"
    },
    {
     "data": {
      "text/html": [
       "== Status ==<br>Current time: 2021-12-02 20:55:25 (running for 00:08:51.99)<br>Memory usage on this node: 11.0/16.0 GiB<br>Using AsyncHyperBand: num_stopped=10\n",
       "Bracket: Iter 512.000: None | Iter 256.000: None | Iter 128.000: None | Iter 64.000: None | Iter 32.000: None | Iter 16.000: None | Iter 8.000: None | Iter 4.000: 0.24 | Iter 2.000: 0.1032<br>Resources requested: 6.0/12 CPUs, 0/0 GPUs, 0.0/4.27 GiB heap, 0.0/2.14 GiB objects<br>Current best trial: fd266_00004 with mean_accuracy=0.4988 and parameters={'layer1_out': 6, 'layer2_out': 12, 'batch': 16, 'lr': 0.0006340916205835722, 'momentum': 0.9115078952591047}<br>Result logdir: /Users/wenxindong/ray_results/train_asha<br>Number of trials: 16/16 (6 RUNNING, 10 TERMINATED)<br><br>"
      ],
      "text/plain": [
       "<IPython.core.display.HTML object>"
      ]
     },
     "metadata": {},
     "output_type": "display_data"
    },
    {
     "data": {
      "text/html": [
       "== Status ==<br>Current time: 2021-12-02 20:55:30 (running for 00:08:57.02)<br>Memory usage on this node: 10.8/16.0 GiB<br>Using AsyncHyperBand: num_stopped=10\n",
       "Bracket: Iter 512.000: None | Iter 256.000: None | Iter 128.000: None | Iter 64.000: None | Iter 32.000: None | Iter 16.000: None | Iter 8.000: None | Iter 4.000: 0.24 | Iter 2.000: 0.1032<br>Resources requested: 6.0/12 CPUs, 0/0 GPUs, 0.0/4.27 GiB heap, 0.0/2.14 GiB objects<br>Current best trial: fd266_00004 with mean_accuracy=0.4988 and parameters={'layer1_out': 6, 'layer2_out': 12, 'batch': 16, 'lr': 0.0006340916205835722, 'momentum': 0.9115078952591047}<br>Result logdir: /Users/wenxindong/ray_results/train_asha<br>Number of trials: 16/16 (6 RUNNING, 10 TERMINATED)<br><br>"
      ],
      "text/plain": [
       "<IPython.core.display.HTML object>"
      ]
     },
     "metadata": {},
     "output_type": "display_data"
    },
    {
     "name": "stdout",
     "output_type": "stream",
     "text": [
      "Trial train_eval_model_fd266_00015 reported mean_accuracy=0.12 with parameters={'layer1_out': 12, 'layer2_out': 12, 'batch': 32, 'lr': 4.49625137837936e-05, 'momentum': 0.908706801325331}.\n"
     ]
    },
    {
     "data": {
      "text/html": [
       "== Status ==<br>Current time: 2021-12-02 20:55:35 (running for 00:09:02.31)<br>Memory usage on this node: 10.9/16.0 GiB<br>Using AsyncHyperBand: num_stopped=10\n",
       "Bracket: Iter 512.000: None | Iter 256.000: None | Iter 128.000: None | Iter 64.000: None | Iter 32.000: None | Iter 16.000: None | Iter 8.000: None | Iter 4.000: 0.24 | Iter 2.000: 0.1032<br>Resources requested: 6.0/12 CPUs, 0/0 GPUs, 0.0/4.27 GiB heap, 0.0/2.14 GiB objects<br>Current best trial: fd266_00004 with mean_accuracy=0.4988 and parameters={'layer1_out': 6, 'layer2_out': 12, 'batch': 16, 'lr': 0.0006340916205835722, 'momentum': 0.9115078952591047}<br>Result logdir: /Users/wenxindong/ray_results/train_asha<br>Number of trials: 16/16 (6 RUNNING, 10 TERMINATED)<br><br>"
      ],
      "text/plain": [
       "<IPython.core.display.HTML object>"
      ]
     },
     "metadata": {},
     "output_type": "display_data"
    },
    {
     "name": "stdout",
     "output_type": "stream",
     "text": [
      "Trial train_eval_model_fd266_00012 reported mean_accuracy=0.15 with parameters={'layer1_out': 12, 'layer2_out': 12, 'batch': 32, 'lr': 0.00012838967195419028, 'momentum': 0.8524725567171054}.\n"
     ]
    },
    {
     "data": {
      "text/html": [
       "== Status ==<br>Current time: 2021-12-02 20:55:41 (running for 00:09:08.09)<br>Memory usage on this node: 10.8/16.0 GiB<br>Using AsyncHyperBand: num_stopped=10\n",
       "Bracket: Iter 512.000: None | Iter 256.000: None | Iter 128.000: None | Iter 64.000: None | Iter 32.000: None | Iter 16.000: None | Iter 8.000: None | Iter 4.000: 0.24 | Iter 2.000: 0.1034<br>Resources requested: 6.0/12 CPUs, 0/0 GPUs, 0.0/4.27 GiB heap, 0.0/2.14 GiB objects<br>Current best trial: fd266_00004 with mean_accuracy=0.4988 and parameters={'layer1_out': 6, 'layer2_out': 12, 'batch': 16, 'lr': 0.0006340916205835722, 'momentum': 0.9115078952591047}<br>Result logdir: /Users/wenxindong/ray_results/train_asha<br>Number of trials: 16/16 (6 RUNNING, 10 TERMINATED)<br><br>"
      ],
      "text/plain": [
       "<IPython.core.display.HTML object>"
      ]
     },
     "metadata": {},
     "output_type": "display_data"
    },
    {
     "name": "stdout",
     "output_type": "stream",
     "text": [
      "Trial train_eval_model_fd266_00004 reported mean_accuracy=0.57 with parameters={'layer1_out': 6, 'layer2_out': 12, 'batch': 16, 'lr': 0.0006340916205835722, 'momentum': 0.9115078952591047}.\n",
      "Trial train_eval_model_fd266_00014 reported mean_accuracy=0.10 with parameters={'layer1_out': 6, 'layer2_out': 6, 'batch': 64, 'lr': 6.075522627345339e-05, 'momentum': 0.8533488635101801}. This trial completed.\n"
     ]
    },
    {
     "data": {
      "text/html": [
       "== Status ==<br>Current time: 2021-12-02 20:55:46 (running for 00:09:13.81)<br>Memory usage on this node: 10.8/16.0 GiB<br>Using AsyncHyperBand: num_stopped=11\n",
       "Bracket: Iter 512.000: None | Iter 256.000: None | Iter 128.000: None | Iter 64.000: None | Iter 32.000: None | Iter 16.000: None | Iter 8.000: None | Iter 4.000: 0.24 | Iter 2.000: 0.1032<br>Resources requested: 5.0/12 CPUs, 0/0 GPUs, 0.0/4.27 GiB heap, 0.0/2.14 GiB objects<br>Current best trial: fd266_00004 with mean_accuracy=0.5667 and parameters={'layer1_out': 6, 'layer2_out': 12, 'batch': 16, 'lr': 0.0006340916205835722, 'momentum': 0.9115078952591047}<br>Result logdir: /Users/wenxindong/ray_results/train_asha<br>Number of trials: 16/16 (5 RUNNING, 11 TERMINATED)<br><br>"
      ],
      "text/plain": [
       "<IPython.core.display.HTML object>"
      ]
     },
     "metadata": {},
     "output_type": "display_data"
    },
    {
     "data": {
      "text/html": [
       "== Status ==<br>Current time: 2021-12-02 20:55:51 (running for 00:09:18.85)<br>Memory usage on this node: 10.8/16.0 GiB<br>Using AsyncHyperBand: num_stopped=11\n",
       "Bracket: Iter 512.000: None | Iter 256.000: None | Iter 128.000: None | Iter 64.000: None | Iter 32.000: None | Iter 16.000: None | Iter 8.000: None | Iter 4.000: 0.24 | Iter 2.000: 0.1032<br>Resources requested: 5.0/12 CPUs, 0/0 GPUs, 0.0/4.27 GiB heap, 0.0/2.14 GiB objects<br>Current best trial: fd266_00004 with mean_accuracy=0.5667 and parameters={'layer1_out': 6, 'layer2_out': 12, 'batch': 16, 'lr': 0.0006340916205835722, 'momentum': 0.9115078952591047}<br>Result logdir: /Users/wenxindong/ray_results/train_asha<br>Number of trials: 16/16 (5 RUNNING, 11 TERMINATED)<br><br>"
      ],
      "text/plain": [
       "<IPython.core.display.HTML object>"
      ]
     },
     "metadata": {},
     "output_type": "display_data"
    },
    {
     "data": {
      "text/html": [
       "== Status ==<br>Current time: 2021-12-02 20:55:56 (running for 00:09:23.87)<br>Memory usage on this node: 10.8/16.0 GiB<br>Using AsyncHyperBand: num_stopped=11\n",
       "Bracket: Iter 512.000: None | Iter 256.000: None | Iter 128.000: None | Iter 64.000: None | Iter 32.000: None | Iter 16.000: None | Iter 8.000: None | Iter 4.000: 0.24 | Iter 2.000: 0.1032<br>Resources requested: 5.0/12 CPUs, 0/0 GPUs, 0.0/4.27 GiB heap, 0.0/2.14 GiB objects<br>Current best trial: fd266_00004 with mean_accuracy=0.5667 and parameters={'layer1_out': 6, 'layer2_out': 12, 'batch': 16, 'lr': 0.0006340916205835722, 'momentum': 0.9115078952591047}<br>Result logdir: /Users/wenxindong/ray_results/train_asha<br>Number of trials: 16/16 (5 RUNNING, 11 TERMINATED)<br><br>"
      ],
      "text/plain": [
       "<IPython.core.display.HTML object>"
      ]
     },
     "metadata": {},
     "output_type": "display_data"
    },
    {
     "data": {
      "text/html": [
       "== Status ==<br>Current time: 2021-12-02 20:56:01 (running for 00:09:28.89)<br>Memory usage on this node: 10.9/16.0 GiB<br>Using AsyncHyperBand: num_stopped=11\n",
       "Bracket: Iter 512.000: None | Iter 256.000: None | Iter 128.000: None | Iter 64.000: None | Iter 32.000: None | Iter 16.000: None | Iter 8.000: None | Iter 4.000: 0.24 | Iter 2.000: 0.1032<br>Resources requested: 5.0/12 CPUs, 0/0 GPUs, 0.0/4.27 GiB heap, 0.0/2.14 GiB objects<br>Current best trial: fd266_00004 with mean_accuracy=0.5667 and parameters={'layer1_out': 6, 'layer2_out': 12, 'batch': 16, 'lr': 0.0006340916205835722, 'momentum': 0.9115078952591047}<br>Result logdir: /Users/wenxindong/ray_results/train_asha<br>Number of trials: 16/16 (5 RUNNING, 11 TERMINATED)<br><br>"
      ],
      "text/plain": [
       "<IPython.core.display.HTML object>"
      ]
     },
     "metadata": {},
     "output_type": "display_data"
    },
    {
     "name": "stdout",
     "output_type": "stream",
     "text": [
      "Trial train_eval_model_fd266_00008 reported mean_accuracy=0.35 with parameters={'layer1_out': 12, 'layer2_out': 6, 'batch': 32, 'lr': 8.544767837258724e-05, 'momentum': 0.908650248796244}.\n"
     ]
    },
    {
     "data": {
      "text/html": [
       "== Status ==<br>Current time: 2021-12-02 20:56:07 (running for 00:09:33.91)<br>Memory usage on this node: 10.8/16.0 GiB<br>Using AsyncHyperBand: num_stopped=11\n",
       "Bracket: Iter 512.000: None | Iter 256.000: None | Iter 128.000: None | Iter 64.000: None | Iter 32.000: None | Iter 16.000: None | Iter 8.000: None | Iter 4.000: 0.24 | Iter 2.000: 0.1032<br>Resources requested: 5.0/12 CPUs, 0/0 GPUs, 0.0/4.27 GiB heap, 0.0/2.14 GiB objects<br>Current best trial: fd266_00004 with mean_accuracy=0.5667 and parameters={'layer1_out': 6, 'layer2_out': 12, 'batch': 16, 'lr': 0.0006340916205835722, 'momentum': 0.9115078952591047}<br>Result logdir: /Users/wenxindong/ray_results/train_asha<br>Number of trials: 16/16 (5 RUNNING, 11 TERMINATED)<br><br>"
      ],
      "text/plain": [
       "<IPython.core.display.HTML object>"
      ]
     },
     "metadata": {},
     "output_type": "display_data"
    },
    {
     "name": "stdout",
     "output_type": "stream",
     "text": [
      "Trial train_eval_model_fd266_00013 reported mean_accuracy=0.21 with parameters={'layer1_out': 12, 'layer2_out': 12, 'batch': 128, 'lr': 0.000940748918176182, 'momentum': 0.8581307663222114}.\n"
     ]
    },
    {
     "data": {
      "text/html": [
       "== Status ==<br>Current time: 2021-12-02 20:56:12 (running for 00:09:39.44)<br>Memory usage on this node: 10.9/16.0 GiB<br>Using AsyncHyperBand: num_stopped=11\n",
       "Bracket: Iter 512.000: None | Iter 256.000: None | Iter 128.000: None | Iter 64.000: None | Iter 32.000: None | Iter 16.000: None | Iter 8.000: None | Iter 4.000: 0.24 | Iter 2.000: 0.1034<br>Resources requested: 5.0/12 CPUs, 0/0 GPUs, 0.0/4.27 GiB heap, 0.0/2.14 GiB objects<br>Current best trial: fd266_00004 with mean_accuracy=0.5667 and parameters={'layer1_out': 6, 'layer2_out': 12, 'batch': 16, 'lr': 0.0006340916205835722, 'momentum': 0.9115078952591047}<br>Result logdir: /Users/wenxindong/ray_results/train_asha<br>Number of trials: 16/16 (5 RUNNING, 11 TERMINATED)<br><br>"
      ],
      "text/plain": [
       "<IPython.core.display.HTML object>"
      ]
     },
     "metadata": {},
     "output_type": "display_data"
    },
    {
     "data": {
      "text/html": [
       "== Status ==<br>Current time: 2021-12-02 20:56:17 (running for 00:09:44.46)<br>Memory usage on this node: 11.1/16.0 GiB<br>Using AsyncHyperBand: num_stopped=11\n",
       "Bracket: Iter 512.000: None | Iter 256.000: None | Iter 128.000: None | Iter 64.000: None | Iter 32.000: None | Iter 16.000: None | Iter 8.000: None | Iter 4.000: 0.24 | Iter 2.000: 0.1034<br>Resources requested: 5.0/12 CPUs, 0/0 GPUs, 0.0/4.27 GiB heap, 0.0/2.14 GiB objects<br>Current best trial: fd266_00004 with mean_accuracy=0.5667 and parameters={'layer1_out': 6, 'layer2_out': 12, 'batch': 16, 'lr': 0.0006340916205835722, 'momentum': 0.9115078952591047}<br>Result logdir: /Users/wenxindong/ray_results/train_asha<br>Number of trials: 16/16 (5 RUNNING, 11 TERMINATED)<br><br>"
      ],
      "text/plain": [
       "<IPython.core.display.HTML object>"
      ]
     },
     "metadata": {},
     "output_type": "display_data"
    },
    {
     "data": {
      "text/html": [
       "== Status ==<br>Current time: 2021-12-02 20:56:22 (running for 00:09:49.49)<br>Memory usage on this node: 11.2/16.0 GiB<br>Using AsyncHyperBand: num_stopped=11\n",
       "Bracket: Iter 512.000: None | Iter 256.000: None | Iter 128.000: None | Iter 64.000: None | Iter 32.000: None | Iter 16.000: None | Iter 8.000: None | Iter 4.000: 0.24 | Iter 2.000: 0.1034<br>Resources requested: 5.0/12 CPUs, 0/0 GPUs, 0.0/4.27 GiB heap, 0.0/2.14 GiB objects<br>Current best trial: fd266_00004 with mean_accuracy=0.5667 and parameters={'layer1_out': 6, 'layer2_out': 12, 'batch': 16, 'lr': 0.0006340916205835722, 'momentum': 0.9115078952591047}<br>Result logdir: /Users/wenxindong/ray_results/train_asha<br>Number of trials: 16/16 (5 RUNNING, 11 TERMINATED)<br><br>"
      ],
      "text/plain": [
       "<IPython.core.display.HTML object>"
      ]
     },
     "metadata": {},
     "output_type": "display_data"
    },
    {
     "data": {
      "text/html": [
       "== Status ==<br>Current time: 2021-12-02 20:56:27 (running for 00:09:54.51)<br>Memory usage on this node: 11.2/16.0 GiB<br>Using AsyncHyperBand: num_stopped=11\n",
       "Bracket: Iter 512.000: None | Iter 256.000: None | Iter 128.000: None | Iter 64.000: None | Iter 32.000: None | Iter 16.000: None | Iter 8.000: None | Iter 4.000: 0.24 | Iter 2.000: 0.1034<br>Resources requested: 5.0/12 CPUs, 0/0 GPUs, 0.0/4.27 GiB heap, 0.0/2.14 GiB objects<br>Current best trial: fd266_00004 with mean_accuracy=0.5667 and parameters={'layer1_out': 6, 'layer2_out': 12, 'batch': 16, 'lr': 0.0006340916205835722, 'momentum': 0.9115078952591047}<br>Result logdir: /Users/wenxindong/ray_results/train_asha<br>Number of trials: 16/16 (5 RUNNING, 11 TERMINATED)<br><br>"
      ],
      "text/plain": [
       "<IPython.core.display.HTML object>"
      ]
     },
     "metadata": {},
     "output_type": "display_data"
    },
    {
     "data": {
      "text/html": [
       "== Status ==<br>Current time: 2021-12-02 20:56:32 (running for 00:09:59.74)<br>Memory usage on this node: 11.2/16.0 GiB<br>Using AsyncHyperBand: num_stopped=11\n",
       "Bracket: Iter 512.000: None | Iter 256.000: None | Iter 128.000: None | Iter 64.000: None | Iter 32.000: None | Iter 16.000: None | Iter 8.000: None | Iter 4.000: 0.24 | Iter 2.000: 0.1034<br>Resources requested: 5.0/12 CPUs, 0/0 GPUs, 0.0/4.27 GiB heap, 0.0/2.14 GiB objects<br>Current best trial: fd266_00004 with mean_accuracy=0.5667 and parameters={'layer1_out': 6, 'layer2_out': 12, 'batch': 16, 'lr': 0.0006340916205835722, 'momentum': 0.9115078952591047}<br>Result logdir: /Users/wenxindong/ray_results/train_asha<br>Number of trials: 16/16 (5 RUNNING, 11 TERMINATED)<br><br>"
      ],
      "text/plain": [
       "<IPython.core.display.HTML object>"
      ]
     },
     "metadata": {},
     "output_type": "display_data"
    },
    {
     "name": "stdout",
     "output_type": "stream",
     "text": [
      "Trial train_eval_model_fd266_00015 reported mean_accuracy=0.14 with parameters={'layer1_out': 12, 'layer2_out': 12, 'batch': 32, 'lr': 4.49625137837936e-05, 'momentum': 0.908706801325331}.\n"
     ]
    },
    {
     "data": {
      "text/html": [
       "== Status ==<br>Current time: 2021-12-02 20:56:38 (running for 00:10:04.99)<br>Memory usage on this node: 11.0/16.0 GiB<br>Using AsyncHyperBand: num_stopped=11\n",
       "Bracket: Iter 512.000: None | Iter 256.000: None | Iter 128.000: None | Iter 64.000: None | Iter 32.000: None | Iter 16.000: None | Iter 8.000: None | Iter 4.000: 0.24 | Iter 2.000: 0.10685<br>Resources requested: 5.0/12 CPUs, 0/0 GPUs, 0.0/4.27 GiB heap, 0.0/2.14 GiB objects<br>Current best trial: fd266_00004 with mean_accuracy=0.5667 and parameters={'layer1_out': 6, 'layer2_out': 12, 'batch': 16, 'lr': 0.0006340916205835722, 'momentum': 0.9115078952591047}<br>Result logdir: /Users/wenxindong/ray_results/train_asha<br>Number of trials: 16/16 (5 RUNNING, 11 TERMINATED)<br><br>"
      ],
      "text/plain": [
       "<IPython.core.display.HTML object>"
      ]
     },
     "metadata": {},
     "output_type": "display_data"
    },
    {
     "name": "stdout",
     "output_type": "stream",
     "text": [
      "Trial train_eval_model_fd266_00012 reported mean_accuracy=0.19 with parameters={'layer1_out': 12, 'layer2_out': 12, 'batch': 32, 'lr': 0.00012838967195419028, 'momentum': 0.8524725567171054}.\n",
      "Trial train_eval_model_fd266_00004 reported mean_accuracy=0.59 with parameters={'layer1_out': 6, 'layer2_out': 12, 'batch': 16, 'lr': 0.0006340916205835722, 'momentum': 0.9115078952591047}.\n"
     ]
    },
    {
     "data": {
      "text/html": [
       "== Status ==<br>Current time: 2021-12-02 20:56:43 (running for 00:10:10.36)<br>Memory usage on this node: 11.0/16.0 GiB<br>Using AsyncHyperBand: num_stopped=11\n",
       "Bracket: Iter 512.000: None | Iter 256.000: None | Iter 128.000: None | Iter 64.000: None | Iter 32.000: None | Iter 16.000: None | Iter 8.000: None | Iter 4.000: 0.2794 | Iter 2.000: 0.10685<br>Resources requested: 5.0/12 CPUs, 0/0 GPUs, 0.0/4.27 GiB heap, 0.0/2.14 GiB objects<br>Current best trial: fd266_00004 with mean_accuracy=0.5888 and parameters={'layer1_out': 6, 'layer2_out': 12, 'batch': 16, 'lr': 0.0006340916205835722, 'momentum': 0.9115078952591047}<br>Result logdir: /Users/wenxindong/ray_results/train_asha<br>Number of trials: 16/16 (5 RUNNING, 11 TERMINATED)<br><br>"
      ],
      "text/plain": [
       "<IPython.core.display.HTML object>"
      ]
     },
     "metadata": {},
     "output_type": "display_data"
    },
    {
     "data": {
      "text/html": [
       "== Status ==<br>Current time: 2021-12-02 20:56:48 (running for 00:10:15.38)<br>Memory usage on this node: 11.0/16.0 GiB<br>Using AsyncHyperBand: num_stopped=11\n",
       "Bracket: Iter 512.000: None | Iter 256.000: None | Iter 128.000: None | Iter 64.000: None | Iter 32.000: None | Iter 16.000: None | Iter 8.000: None | Iter 4.000: 0.2794 | Iter 2.000: 0.10685<br>Resources requested: 5.0/12 CPUs, 0/0 GPUs, 0.0/4.27 GiB heap, 0.0/2.14 GiB objects<br>Current best trial: fd266_00004 with mean_accuracy=0.5888 and parameters={'layer1_out': 6, 'layer2_out': 12, 'batch': 16, 'lr': 0.0006340916205835722, 'momentum': 0.9115078952591047}<br>Result logdir: /Users/wenxindong/ray_results/train_asha<br>Number of trials: 16/16 (5 RUNNING, 11 TERMINATED)<br><br>"
      ],
      "text/plain": [
       "<IPython.core.display.HTML object>"
      ]
     },
     "metadata": {},
     "output_type": "display_data"
    },
    {
     "data": {
      "text/html": [
       "== Status ==<br>Current time: 2021-12-02 20:56:53 (running for 00:10:20.41)<br>Memory usage on this node: 11.0/16.0 GiB<br>Using AsyncHyperBand: num_stopped=11\n",
       "Bracket: Iter 512.000: None | Iter 256.000: None | Iter 128.000: None | Iter 64.000: None | Iter 32.000: None | Iter 16.000: None | Iter 8.000: None | Iter 4.000: 0.2794 | Iter 2.000: 0.10685<br>Resources requested: 5.0/12 CPUs, 0/0 GPUs, 0.0/4.27 GiB heap, 0.0/2.14 GiB objects<br>Current best trial: fd266_00004 with mean_accuracy=0.5888 and parameters={'layer1_out': 6, 'layer2_out': 12, 'batch': 16, 'lr': 0.0006340916205835722, 'momentum': 0.9115078952591047}<br>Result logdir: /Users/wenxindong/ray_results/train_asha<br>Number of trials: 16/16 (5 RUNNING, 11 TERMINATED)<br><br>"
      ],
      "text/plain": [
       "<IPython.core.display.HTML object>"
      ]
     },
     "metadata": {},
     "output_type": "display_data"
    },
    {
     "data": {
      "text/html": [
       "== Status ==<br>Current time: 2021-12-02 20:56:58 (running for 00:10:25.43)<br>Memory usage on this node: 11.0/16.0 GiB<br>Using AsyncHyperBand: num_stopped=11\n",
       "Bracket: Iter 512.000: None | Iter 256.000: None | Iter 128.000: None | Iter 64.000: None | Iter 32.000: None | Iter 16.000: None | Iter 8.000: None | Iter 4.000: 0.2794 | Iter 2.000: 0.10685<br>Resources requested: 5.0/12 CPUs, 0/0 GPUs, 0.0/4.27 GiB heap, 0.0/2.14 GiB objects<br>Current best trial: fd266_00004 with mean_accuracy=0.5888 and parameters={'layer1_out': 6, 'layer2_out': 12, 'batch': 16, 'lr': 0.0006340916205835722, 'momentum': 0.9115078952591047}<br>Result logdir: /Users/wenxindong/ray_results/train_asha<br>Number of trials: 16/16 (5 RUNNING, 11 TERMINATED)<br><br>"
      ],
      "text/plain": [
       "<IPython.core.display.HTML object>"
      ]
     },
     "metadata": {},
     "output_type": "display_data"
    },
    {
     "name": "stdout",
     "output_type": "stream",
     "text": [
      "Trial train_eval_model_fd266_00008 reported mean_accuracy=0.37 with parameters={'layer1_out': 12, 'layer2_out': 6, 'batch': 32, 'lr': 8.544767837258724e-05, 'momentum': 0.908650248796244}.\n"
     ]
    },
    {
     "data": {
      "text/html": [
       "== Status ==<br>Current time: 2021-12-02 20:57:03 (running for 00:10:30.68)<br>Memory usage on this node: 11.0/16.0 GiB<br>Using AsyncHyperBand: num_stopped=11\n",
       "Bracket: Iter 512.000: None | Iter 256.000: None | Iter 128.000: None | Iter 64.000: None | Iter 32.000: None | Iter 16.000: None | Iter 8.000: 0.3653 | Iter 4.000: 0.2794 | Iter 2.000: 0.10685<br>Resources requested: 5.0/12 CPUs, 0/0 GPUs, 0.0/4.27 GiB heap, 0.0/2.14 GiB objects<br>Current best trial: fd266_00004 with mean_accuracy=0.5888 and parameters={'layer1_out': 6, 'layer2_out': 12, 'batch': 16, 'lr': 0.0006340916205835722, 'momentum': 0.9115078952591047}<br>Result logdir: /Users/wenxindong/ray_results/train_asha<br>Number of trials: 16/16 (5 RUNNING, 11 TERMINATED)<br><br>"
      ],
      "text/plain": [
       "<IPython.core.display.HTML object>"
      ]
     },
     "metadata": {},
     "output_type": "display_data"
    },
    {
     "name": "stdout",
     "output_type": "stream",
     "text": [
      "Trial train_eval_model_fd266_00013 reported mean_accuracy=0.28 with parameters={'layer1_out': 12, 'layer2_out': 12, 'batch': 128, 'lr': 0.000940748918176182, 'momentum': 0.8581307663222114}.\n"
     ]
    },
    {
     "data": {
      "text/html": [
       "== Status ==<br>Current time: 2021-12-02 20:57:08 (running for 00:10:35.89)<br>Memory usage on this node: 11.0/16.0 GiB<br>Using AsyncHyperBand: num_stopped=11\n",
       "Bracket: Iter 512.000: None | Iter 256.000: None | Iter 128.000: None | Iter 64.000: None | Iter 32.000: None | Iter 16.000: None | Iter 8.000: 0.3653 | Iter 4.000: 0.2794 | Iter 2.000: 0.10685<br>Resources requested: 5.0/12 CPUs, 0/0 GPUs, 0.0/4.27 GiB heap, 0.0/2.14 GiB objects<br>Current best trial: fd266_00004 with mean_accuracy=0.5888 and parameters={'layer1_out': 6, 'layer2_out': 12, 'batch': 16, 'lr': 0.0006340916205835722, 'momentum': 0.9115078952591047}<br>Result logdir: /Users/wenxindong/ray_results/train_asha<br>Number of trials: 16/16 (5 RUNNING, 11 TERMINATED)<br><br>"
      ],
      "text/plain": [
       "<IPython.core.display.HTML object>"
      ]
     },
     "metadata": {},
     "output_type": "display_data"
    },
    {
     "data": {
      "text/html": [
       "== Status ==<br>Current time: 2021-12-02 20:57:14 (running for 00:10:40.92)<br>Memory usage on this node: 11.0/16.0 GiB<br>Using AsyncHyperBand: num_stopped=11\n",
       "Bracket: Iter 512.000: None | Iter 256.000: None | Iter 128.000: None | Iter 64.000: None | Iter 32.000: None | Iter 16.000: None | Iter 8.000: 0.3653 | Iter 4.000: 0.2794 | Iter 2.000: 0.10685<br>Resources requested: 5.0/12 CPUs, 0/0 GPUs, 0.0/4.27 GiB heap, 0.0/2.14 GiB objects<br>Current best trial: fd266_00004 with mean_accuracy=0.5888 and parameters={'layer1_out': 6, 'layer2_out': 12, 'batch': 16, 'lr': 0.0006340916205835722, 'momentum': 0.9115078952591047}<br>Result logdir: /Users/wenxindong/ray_results/train_asha<br>Number of trials: 16/16 (5 RUNNING, 11 TERMINATED)<br><br>"
      ],
      "text/plain": [
       "<IPython.core.display.HTML object>"
      ]
     },
     "metadata": {},
     "output_type": "display_data"
    },
    {
     "data": {
      "text/html": [
       "== Status ==<br>Current time: 2021-12-02 20:57:19 (running for 00:10:45.94)<br>Memory usage on this node: 11.2/16.0 GiB<br>Using AsyncHyperBand: num_stopped=11\n",
       "Bracket: Iter 512.000: None | Iter 256.000: None | Iter 128.000: None | Iter 64.000: None | Iter 32.000: None | Iter 16.000: None | Iter 8.000: 0.3653 | Iter 4.000: 0.2794 | Iter 2.000: 0.10685<br>Resources requested: 5.0/12 CPUs, 0/0 GPUs, 0.0/4.27 GiB heap, 0.0/2.14 GiB objects<br>Current best trial: fd266_00004 with mean_accuracy=0.5888 and parameters={'layer1_out': 6, 'layer2_out': 12, 'batch': 16, 'lr': 0.0006340916205835722, 'momentum': 0.9115078952591047}<br>Result logdir: /Users/wenxindong/ray_results/train_asha<br>Number of trials: 16/16 (5 RUNNING, 11 TERMINATED)<br><br>"
      ],
      "text/plain": [
       "<IPython.core.display.HTML object>"
      ]
     },
     "metadata": {},
     "output_type": "display_data"
    },
    {
     "data": {
      "text/html": [
       "== Status ==<br>Current time: 2021-12-02 20:57:24 (running for 00:10:50.98)<br>Memory usage on this node: 11.1/16.0 GiB<br>Using AsyncHyperBand: num_stopped=11\n",
       "Bracket: Iter 512.000: None | Iter 256.000: None | Iter 128.000: None | Iter 64.000: None | Iter 32.000: None | Iter 16.000: None | Iter 8.000: 0.3653 | Iter 4.000: 0.2794 | Iter 2.000: 0.10685<br>Resources requested: 5.0/12 CPUs, 0/0 GPUs, 0.0/4.27 GiB heap, 0.0/2.14 GiB objects<br>Current best trial: fd266_00004 with mean_accuracy=0.5888 and parameters={'layer1_out': 6, 'layer2_out': 12, 'batch': 16, 'lr': 0.0006340916205835722, 'momentum': 0.9115078952591047}<br>Result logdir: /Users/wenxindong/ray_results/train_asha<br>Number of trials: 16/16 (5 RUNNING, 11 TERMINATED)<br><br>"
      ],
      "text/plain": [
       "<IPython.core.display.HTML object>"
      ]
     },
     "metadata": {},
     "output_type": "display_data"
    },
    {
     "name": "stdout",
     "output_type": "stream",
     "text": [
      "Trial train_eval_model_fd266_00015 reported mean_accuracy=0.16 with parameters={'layer1_out': 12, 'layer2_out': 12, 'batch': 32, 'lr': 4.49625137837936e-05, 'momentum': 0.908706801325331}.\n",
      "Trial train_eval_model_fd266_00004 reported mean_accuracy=0.61 with parameters={'layer1_out': 6, 'layer2_out': 12, 'batch': 16, 'lr': 0.0006340916205835722, 'momentum': 0.9115078952591047}.\n"
     ]
    },
    {
     "data": {
      "text/html": [
       "== Status ==<br>Current time: 2021-12-02 20:57:29 (running for 00:10:56.89)<br>Memory usage on this node: 11.1/16.0 GiB<br>Using AsyncHyperBand: num_stopped=11\n",
       "Bracket: Iter 512.000: None | Iter 256.000: None | Iter 128.000: None | Iter 64.000: None | Iter 32.000: None | Iter 16.000: None | Iter 8.000: 0.3653 | Iter 4.000: 0.2794 | Iter 2.000: 0.10685<br>Resources requested: 5.0/12 CPUs, 0/0 GPUs, 0.0/4.27 GiB heap, 0.0/2.14 GiB objects<br>Current best trial: fd266_00004 with mean_accuracy=0.6107 and parameters={'layer1_out': 6, 'layer2_out': 12, 'batch': 16, 'lr': 0.0006340916205835722, 'momentum': 0.9115078952591047}<br>Result logdir: /Users/wenxindong/ray_results/train_asha<br>Number of trials: 16/16 (5 RUNNING, 11 TERMINATED)<br><br>"
      ],
      "text/plain": [
       "<IPython.core.display.HTML object>"
      ]
     },
     "metadata": {},
     "output_type": "display_data"
    },
    {
     "name": "stdout",
     "output_type": "stream",
     "text": [
      "Trial train_eval_model_fd266_00012 reported mean_accuracy=0.19 with parameters={'layer1_out': 12, 'layer2_out': 12, 'batch': 32, 'lr': 0.00012838967195419028, 'momentum': 0.8524725567171054}. This trial completed.\n"
     ]
    },
    {
     "data": {
      "text/html": [
       "== Status ==<br>Current time: 2021-12-02 20:57:35 (running for 00:11:02.73)<br>Memory usage on this node: 11.0/16.0 GiB<br>Using AsyncHyperBand: num_stopped=12\n",
       "Bracket: Iter 512.000: None | Iter 256.000: None | Iter 128.000: None | Iter 64.000: None | Iter 32.000: None | Iter 16.000: None | Iter 8.000: 0.3653 | Iter 4.000: 0.24 | Iter 2.000: 0.10685<br>Resources requested: 4.0/12 CPUs, 0/0 GPUs, 0.0/4.27 GiB heap, 0.0/2.14 GiB objects<br>Current best trial: fd266_00004 with mean_accuracy=0.6107 and parameters={'layer1_out': 6, 'layer2_out': 12, 'batch': 16, 'lr': 0.0006340916205835722, 'momentum': 0.9115078952591047}<br>Result logdir: /Users/wenxindong/ray_results/train_asha<br>Number of trials: 16/16 (4 RUNNING, 12 TERMINATED)<br><br>"
      ],
      "text/plain": [
       "<IPython.core.display.HTML object>"
      ]
     },
     "metadata": {},
     "output_type": "display_data"
    },
    {
     "data": {
      "text/html": [
       "== Status ==<br>Current time: 2021-12-02 20:57:40 (running for 00:11:07.75)<br>Memory usage on this node: 10.9/16.0 GiB<br>Using AsyncHyperBand: num_stopped=12\n",
       "Bracket: Iter 512.000: None | Iter 256.000: None | Iter 128.000: None | Iter 64.000: None | Iter 32.000: None | Iter 16.000: None | Iter 8.000: 0.3653 | Iter 4.000: 0.24 | Iter 2.000: 0.10685<br>Resources requested: 4.0/12 CPUs, 0/0 GPUs, 0.0/4.27 GiB heap, 0.0/2.14 GiB objects<br>Current best trial: fd266_00004 with mean_accuracy=0.6107 and parameters={'layer1_out': 6, 'layer2_out': 12, 'batch': 16, 'lr': 0.0006340916205835722, 'momentum': 0.9115078952591047}<br>Result logdir: /Users/wenxindong/ray_results/train_asha<br>Number of trials: 16/16 (4 RUNNING, 12 TERMINATED)<br><br>"
      ],
      "text/plain": [
       "<IPython.core.display.HTML object>"
      ]
     },
     "metadata": {},
     "output_type": "display_data"
    },
    {
     "data": {
      "text/html": [
       "== Status ==<br>Current time: 2021-12-02 20:57:45 (running for 00:11:12.77)<br>Memory usage on this node: 10.9/16.0 GiB<br>Using AsyncHyperBand: num_stopped=12\n",
       "Bracket: Iter 512.000: None | Iter 256.000: None | Iter 128.000: None | Iter 64.000: None | Iter 32.000: None | Iter 16.000: None | Iter 8.000: 0.3653 | Iter 4.000: 0.24 | Iter 2.000: 0.10685<br>Resources requested: 4.0/12 CPUs, 0/0 GPUs, 0.0/4.27 GiB heap, 0.0/2.14 GiB objects<br>Current best trial: fd266_00004 with mean_accuracy=0.6107 and parameters={'layer1_out': 6, 'layer2_out': 12, 'batch': 16, 'lr': 0.0006340916205835722, 'momentum': 0.9115078952591047}<br>Result logdir: /Users/wenxindong/ray_results/train_asha<br>Number of trials: 16/16 (4 RUNNING, 12 TERMINATED)<br><br>"
      ],
      "text/plain": [
       "<IPython.core.display.HTML object>"
      ]
     },
     "metadata": {},
     "output_type": "display_data"
    },
    {
     "name": "stdout",
     "output_type": "stream",
     "text": [
      "Trial train_eval_model_fd266_00008 reported mean_accuracy=0.38 with parameters={'layer1_out': 12, 'layer2_out': 6, 'batch': 32, 'lr': 8.544767837258724e-05, 'momentum': 0.908650248796244}.\n",
      "Trial train_eval_model_fd266_00013 reported mean_accuracy=0.32 with parameters={'layer1_out': 12, 'layer2_out': 12, 'batch': 128, 'lr': 0.000940748918176182, 'momentum': 0.8581307663222114}.\n"
     ]
    },
    {
     "data": {
      "text/html": [
       "== Status ==<br>Current time: 2021-12-02 20:57:51 (running for 00:11:18.08)<br>Memory usage on this node: 11.0/16.0 GiB<br>Using AsyncHyperBand: num_stopped=12\n",
       "Bracket: Iter 512.000: None | Iter 256.000: None | Iter 128.000: None | Iter 64.000: None | Iter 32.000: None | Iter 16.000: None | Iter 8.000: 0.3653 | Iter 4.000: 0.2794 | Iter 2.000: 0.10685<br>Resources requested: 4.0/12 CPUs, 0/0 GPUs, 0.0/4.27 GiB heap, 0.0/2.14 GiB objects<br>Current best trial: fd266_00004 with mean_accuracy=0.6107 and parameters={'layer1_out': 6, 'layer2_out': 12, 'batch': 16, 'lr': 0.0006340916205835722, 'momentum': 0.9115078952591047}<br>Result logdir: /Users/wenxindong/ray_results/train_asha<br>Number of trials: 16/16 (4 RUNNING, 12 TERMINATED)<br><br>"
      ],
      "text/plain": [
       "<IPython.core.display.HTML object>"
      ]
     },
     "metadata": {},
     "output_type": "display_data"
    },
    {
     "data": {
      "text/html": [
       "== Status ==<br>Current time: 2021-12-02 20:57:56 (running for 00:11:23.11)<br>Memory usage on this node: 11.0/16.0 GiB<br>Using AsyncHyperBand: num_stopped=12\n",
       "Bracket: Iter 512.000: None | Iter 256.000: None | Iter 128.000: None | Iter 64.000: None | Iter 32.000: None | Iter 16.000: None | Iter 8.000: 0.3653 | Iter 4.000: 0.2794 | Iter 2.000: 0.10685<br>Resources requested: 4.0/12 CPUs, 0/0 GPUs, 0.0/4.27 GiB heap, 0.0/2.14 GiB objects<br>Current best trial: fd266_00004 with mean_accuracy=0.6107 and parameters={'layer1_out': 6, 'layer2_out': 12, 'batch': 16, 'lr': 0.0006340916205835722, 'momentum': 0.9115078952591047}<br>Result logdir: /Users/wenxindong/ray_results/train_asha<br>Number of trials: 16/16 (4 RUNNING, 12 TERMINATED)<br><br>"
      ],
      "text/plain": [
       "<IPython.core.display.HTML object>"
      ]
     },
     "metadata": {},
     "output_type": "display_data"
    },
    {
     "data": {
      "text/html": [
       "== Status ==<br>Current time: 2021-12-02 20:58:01 (running for 00:11:28.12)<br>Memory usage on this node: 11.0/16.0 GiB<br>Using AsyncHyperBand: num_stopped=12\n",
       "Bracket: Iter 512.000: None | Iter 256.000: None | Iter 128.000: None | Iter 64.000: None | Iter 32.000: None | Iter 16.000: None | Iter 8.000: 0.3653 | Iter 4.000: 0.2794 | Iter 2.000: 0.10685<br>Resources requested: 4.0/12 CPUs, 0/0 GPUs, 0.0/4.27 GiB heap, 0.0/2.14 GiB objects<br>Current best trial: fd266_00004 with mean_accuracy=0.6107 and parameters={'layer1_out': 6, 'layer2_out': 12, 'batch': 16, 'lr': 0.0006340916205835722, 'momentum': 0.9115078952591047}<br>Result logdir: /Users/wenxindong/ray_results/train_asha<br>Number of trials: 16/16 (4 RUNNING, 12 TERMINATED)<br><br>"
      ],
      "text/plain": [
       "<IPython.core.display.HTML object>"
      ]
     },
     "metadata": {},
     "output_type": "display_data"
    },
    {
     "data": {
      "text/html": [
       "== Status ==<br>Current time: 2021-12-02 20:58:06 (running for 00:11:33.15)<br>Memory usage on this node: 11.0/16.0 GiB<br>Using AsyncHyperBand: num_stopped=12\n",
       "Bracket: Iter 512.000: None | Iter 256.000: None | Iter 128.000: None | Iter 64.000: None | Iter 32.000: None | Iter 16.000: None | Iter 8.000: 0.3653 | Iter 4.000: 0.2794 | Iter 2.000: 0.10685<br>Resources requested: 4.0/12 CPUs, 0/0 GPUs, 0.0/4.27 GiB heap, 0.0/2.14 GiB objects<br>Current best trial: fd266_00004 with mean_accuracy=0.6107 and parameters={'layer1_out': 6, 'layer2_out': 12, 'batch': 16, 'lr': 0.0006340916205835722, 'momentum': 0.9115078952591047}<br>Result logdir: /Users/wenxindong/ray_results/train_asha<br>Number of trials: 16/16 (4 RUNNING, 12 TERMINATED)<br><br>"
      ],
      "text/plain": [
       "<IPython.core.display.HTML object>"
      ]
     },
     "metadata": {},
     "output_type": "display_data"
    },
    {
     "name": "stdout",
     "output_type": "stream",
     "text": [
      "Trial train_eval_model_fd266_00004 reported mean_accuracy=0.62 with parameters={'layer1_out': 6, 'layer2_out': 12, 'batch': 16, 'lr': 0.0006340916205835722, 'momentum': 0.9115078952591047}.\n"
     ]
    },
    {
     "data": {
      "text/html": [
       "== Status ==<br>Current time: 2021-12-02 20:58:12 (running for 00:11:39.03)<br>Memory usage on this node: 11.0/16.0 GiB<br>Using AsyncHyperBand: num_stopped=12\n",
       "Bracket: Iter 512.000: None | Iter 256.000: None | Iter 128.000: None | Iter 64.000: None | Iter 32.000: None | Iter 16.000: None | Iter 8.000: 0.3653 | Iter 4.000: 0.2794 | Iter 2.000: 0.10685<br>Resources requested: 4.0/12 CPUs, 0/0 GPUs, 0.0/4.27 GiB heap, 0.0/2.14 GiB objects<br>Current best trial: fd266_00004 with mean_accuracy=0.6225 and parameters={'layer1_out': 6, 'layer2_out': 12, 'batch': 16, 'lr': 0.0006340916205835722, 'momentum': 0.9115078952591047}<br>Result logdir: /Users/wenxindong/ray_results/train_asha<br>Number of trials: 16/16 (4 RUNNING, 12 TERMINATED)<br><br>"
      ],
      "text/plain": [
       "<IPython.core.display.HTML object>"
      ]
     },
     "metadata": {},
     "output_type": "display_data"
    },
    {
     "name": "stdout",
     "output_type": "stream",
     "text": [
      "Trial train_eval_model_fd266_00015 reported mean_accuracy=0.18 with parameters={'layer1_out': 12, 'layer2_out': 12, 'batch': 32, 'lr': 4.49625137837936e-05, 'momentum': 0.908706801325331}. This trial completed.\n"
     ]
    },
    {
     "data": {
      "text/html": [
       "== Status ==<br>Current time: 2021-12-02 20:58:17 (running for 00:11:44.15)<br>Memory usage on this node: 10.8/16.0 GiB<br>Using AsyncHyperBand: num_stopped=13\n",
       "Bracket: Iter 512.000: None | Iter 256.000: None | Iter 128.000: None | Iter 64.000: None | Iter 32.000: None | Iter 16.000: None | Iter 8.000: 0.3653 | Iter 4.000: 0.24 | Iter 2.000: 0.10685<br>Resources requested: 3.0/12 CPUs, 0/0 GPUs, 0.0/4.27 GiB heap, 0.0/2.14 GiB objects<br>Current best trial: fd266_00004 with mean_accuracy=0.6225 and parameters={'layer1_out': 6, 'layer2_out': 12, 'batch': 16, 'lr': 0.0006340916205835722, 'momentum': 0.9115078952591047}<br>Result logdir: /Users/wenxindong/ray_results/train_asha<br>Number of trials: 16/16 (3 RUNNING, 13 TERMINATED)<br><br>"
      ],
      "text/plain": [
       "<IPython.core.display.HTML object>"
      ]
     },
     "metadata": {},
     "output_type": "display_data"
    },
    {
     "data": {
      "text/html": [
       "== Status ==<br>Current time: 2021-12-02 20:58:22 (running for 00:11:49.17)<br>Memory usage on this node: 10.9/16.0 GiB<br>Using AsyncHyperBand: num_stopped=13\n",
       "Bracket: Iter 512.000: None | Iter 256.000: None | Iter 128.000: None | Iter 64.000: None | Iter 32.000: None | Iter 16.000: None | Iter 8.000: 0.3653 | Iter 4.000: 0.24 | Iter 2.000: 0.10685<br>Resources requested: 3.0/12 CPUs, 0/0 GPUs, 0.0/4.27 GiB heap, 0.0/2.14 GiB objects<br>Current best trial: fd266_00004 with mean_accuracy=0.6225 and parameters={'layer1_out': 6, 'layer2_out': 12, 'batch': 16, 'lr': 0.0006340916205835722, 'momentum': 0.9115078952591047}<br>Result logdir: /Users/wenxindong/ray_results/train_asha<br>Number of trials: 16/16 (3 RUNNING, 13 TERMINATED)<br><br>"
      ],
      "text/plain": [
       "<IPython.core.display.HTML object>"
      ]
     },
     "metadata": {},
     "output_type": "display_data"
    },
    {
     "name": "stdout",
     "output_type": "stream",
     "text": [
      "Trial train_eval_model_fd266_00008 reported mean_accuracy=0.40 with parameters={'layer1_out': 12, 'layer2_out': 6, 'batch': 32, 'lr': 8.544767837258724e-05, 'momentum': 0.908650248796244}.\n"
     ]
    },
    {
     "data": {
      "text/html": [
       "== Status ==<br>Current time: 2021-12-02 20:58:27 (running for 00:11:54.44)<br>Memory usage on this node: 10.9/16.0 GiB<br>Using AsyncHyperBand: num_stopped=13\n",
       "Bracket: Iter 512.000: None | Iter 256.000: None | Iter 128.000: None | Iter 64.000: None | Iter 32.000: None | Iter 16.000: None | Iter 8.000: 0.3653 | Iter 4.000: 0.24 | Iter 2.000: 0.10685<br>Resources requested: 3.0/12 CPUs, 0/0 GPUs, 0.0/4.27 GiB heap, 0.0/2.14 GiB objects<br>Current best trial: fd266_00004 with mean_accuracy=0.6225 and parameters={'layer1_out': 6, 'layer2_out': 12, 'batch': 16, 'lr': 0.0006340916205835722, 'momentum': 0.9115078952591047}<br>Result logdir: /Users/wenxindong/ray_results/train_asha<br>Number of trials: 16/16 (3 RUNNING, 13 TERMINATED)<br><br>"
      ],
      "text/plain": [
       "<IPython.core.display.HTML object>"
      ]
     },
     "metadata": {},
     "output_type": "display_data"
    },
    {
     "name": "stdout",
     "output_type": "stream",
     "text": [
      "Trial train_eval_model_fd266_00013 reported mean_accuracy=0.35 with parameters={'layer1_out': 12, 'layer2_out': 12, 'batch': 128, 'lr': 0.000940748918176182, 'momentum': 0.8581307663222114}.\n"
     ]
    },
    {
     "data": {
      "text/html": [
       "== Status ==<br>Current time: 2021-12-02 20:58:33 (running for 00:12:00.06)<br>Memory usage on this node: 10.9/16.0 GiB<br>Using AsyncHyperBand: num_stopped=13\n",
       "Bracket: Iter 512.000: None | Iter 256.000: None | Iter 128.000: None | Iter 64.000: None | Iter 32.000: None | Iter 16.000: None | Iter 8.000: 0.3653 | Iter 4.000: 0.24 | Iter 2.000: 0.10685<br>Resources requested: 3.0/12 CPUs, 0/0 GPUs, 0.0/4.27 GiB heap, 0.0/2.14 GiB objects<br>Current best trial: fd266_00004 with mean_accuracy=0.6225 and parameters={'layer1_out': 6, 'layer2_out': 12, 'batch': 16, 'lr': 0.0006340916205835722, 'momentum': 0.9115078952591047}<br>Result logdir: /Users/wenxindong/ray_results/train_asha<br>Number of trials: 16/16 (3 RUNNING, 13 TERMINATED)<br><br>"
      ],
      "text/plain": [
       "<IPython.core.display.HTML object>"
      ]
     },
     "metadata": {},
     "output_type": "display_data"
    },
    {
     "data": {
      "text/html": [
       "== Status ==<br>Current time: 2021-12-02 20:58:38 (running for 00:12:05.09)<br>Memory usage on this node: 10.9/16.0 GiB<br>Using AsyncHyperBand: num_stopped=13\n",
       "Bracket: Iter 512.000: None | Iter 256.000: None | Iter 128.000: None | Iter 64.000: None | Iter 32.000: None | Iter 16.000: None | Iter 8.000: 0.3653 | Iter 4.000: 0.24 | Iter 2.000: 0.10685<br>Resources requested: 3.0/12 CPUs, 0/0 GPUs, 0.0/4.27 GiB heap, 0.0/2.14 GiB objects<br>Current best trial: fd266_00004 with mean_accuracy=0.6225 and parameters={'layer1_out': 6, 'layer2_out': 12, 'batch': 16, 'lr': 0.0006340916205835722, 'momentum': 0.9115078952591047}<br>Result logdir: /Users/wenxindong/ray_results/train_asha<br>Number of trials: 16/16 (3 RUNNING, 13 TERMINATED)<br><br>"
      ],
      "text/plain": [
       "<IPython.core.display.HTML object>"
      ]
     },
     "metadata": {},
     "output_type": "display_data"
    },
    {
     "data": {
      "text/html": [
       "== Status ==<br>Current time: 2021-12-02 20:58:43 (running for 00:12:10.11)<br>Memory usage on this node: 10.9/16.0 GiB<br>Using AsyncHyperBand: num_stopped=13\n",
       "Bracket: Iter 512.000: None | Iter 256.000: None | Iter 128.000: None | Iter 64.000: None | Iter 32.000: None | Iter 16.000: None | Iter 8.000: 0.3653 | Iter 4.000: 0.24 | Iter 2.000: 0.10685<br>Resources requested: 3.0/12 CPUs, 0/0 GPUs, 0.0/4.27 GiB heap, 0.0/2.14 GiB objects<br>Current best trial: fd266_00004 with mean_accuracy=0.6225 and parameters={'layer1_out': 6, 'layer2_out': 12, 'batch': 16, 'lr': 0.0006340916205835722, 'momentum': 0.9115078952591047}<br>Result logdir: /Users/wenxindong/ray_results/train_asha<br>Number of trials: 16/16 (3 RUNNING, 13 TERMINATED)<br><br>"
      ],
      "text/plain": [
       "<IPython.core.display.HTML object>"
      ]
     },
     "metadata": {},
     "output_type": "display_data"
    },
    {
     "name": "stdout",
     "output_type": "stream",
     "text": [
      "Trial train_eval_model_fd266_00004 reported mean_accuracy=0.63 with parameters={'layer1_out': 6, 'layer2_out': 12, 'batch': 16, 'lr': 0.0006340916205835722, 'momentum': 0.9115078952591047}.\n"
     ]
    },
    {
     "data": {
      "text/html": [
       "== Status ==<br>Current time: 2021-12-02 20:58:49 (running for 00:12:15.91)<br>Memory usage on this node: 10.9/16.0 GiB<br>Using AsyncHyperBand: num_stopped=13\n",
       "Bracket: Iter 512.000: None | Iter 256.000: None | Iter 128.000: None | Iter 64.000: None | Iter 32.000: None | Iter 16.000: None | Iter 8.000: 0.3653 | Iter 4.000: 0.24 | Iter 2.000: 0.10685<br>Resources requested: 3.0/12 CPUs, 0/0 GPUs, 0.0/4.27 GiB heap, 0.0/2.14 GiB objects<br>Current best trial: fd266_00004 with mean_accuracy=0.6315 and parameters={'layer1_out': 6, 'layer2_out': 12, 'batch': 16, 'lr': 0.0006340916205835722, 'momentum': 0.9115078952591047}<br>Result logdir: /Users/wenxindong/ray_results/train_asha<br>Number of trials: 16/16 (3 RUNNING, 13 TERMINATED)<br><br>"
      ],
      "text/plain": [
       "<IPython.core.display.HTML object>"
      ]
     },
     "metadata": {},
     "output_type": "display_data"
    },
    {
     "data": {
      "text/html": [
       "== Status ==<br>Current time: 2021-12-02 20:58:54 (running for 00:12:20.94)<br>Memory usage on this node: 11.0/16.0 GiB<br>Using AsyncHyperBand: num_stopped=13\n",
       "Bracket: Iter 512.000: None | Iter 256.000: None | Iter 128.000: None | Iter 64.000: None | Iter 32.000: None | Iter 16.000: None | Iter 8.000: 0.3653 | Iter 4.000: 0.24 | Iter 2.000: 0.10685<br>Resources requested: 3.0/12 CPUs, 0/0 GPUs, 0.0/4.27 GiB heap, 0.0/2.14 GiB objects<br>Current best trial: fd266_00004 with mean_accuracy=0.6315 and parameters={'layer1_out': 6, 'layer2_out': 12, 'batch': 16, 'lr': 0.0006340916205835722, 'momentum': 0.9115078952591047}<br>Result logdir: /Users/wenxindong/ray_results/train_asha<br>Number of trials: 16/16 (3 RUNNING, 13 TERMINATED)<br><br>"
      ],
      "text/plain": [
       "<IPython.core.display.HTML object>"
      ]
     },
     "metadata": {},
     "output_type": "display_data"
    },
    {
     "data": {
      "text/html": [
       "== Status ==<br>Current time: 2021-12-02 20:58:59 (running for 00:12:25.97)<br>Memory usage on this node: 11.0/16.0 GiB<br>Using AsyncHyperBand: num_stopped=13\n",
       "Bracket: Iter 512.000: None | Iter 256.000: None | Iter 128.000: None | Iter 64.000: None | Iter 32.000: None | Iter 16.000: None | Iter 8.000: 0.3653 | Iter 4.000: 0.24 | Iter 2.000: 0.10685<br>Resources requested: 3.0/12 CPUs, 0/0 GPUs, 0.0/4.27 GiB heap, 0.0/2.14 GiB objects<br>Current best trial: fd266_00004 with mean_accuracy=0.6315 and parameters={'layer1_out': 6, 'layer2_out': 12, 'batch': 16, 'lr': 0.0006340916205835722, 'momentum': 0.9115078952591047}<br>Result logdir: /Users/wenxindong/ray_results/train_asha<br>Number of trials: 16/16 (3 RUNNING, 13 TERMINATED)<br><br>"
      ],
      "text/plain": [
       "<IPython.core.display.HTML object>"
      ]
     },
     "metadata": {},
     "output_type": "display_data"
    },
    {
     "name": "stdout",
     "output_type": "stream",
     "text": [
      "Trial train_eval_model_fd266_00008 reported mean_accuracy=0.42 with parameters={'layer1_out': 12, 'layer2_out': 6, 'batch': 32, 'lr': 8.544767837258724e-05, 'momentum': 0.908650248796244}.\n",
      "Trial train_eval_model_fd266_00013 reported mean_accuracy=0.38 with parameters={'layer1_out': 12, 'layer2_out': 12, 'batch': 128, 'lr': 0.000940748918176182, 'momentum': 0.8581307663222114}.\n"
     ]
    },
    {
     "data": {
      "text/html": [
       "== Status ==<br>Current time: 2021-12-02 20:59:04 (running for 00:12:30.98)<br>Memory usage on this node: 10.9/16.0 GiB<br>Using AsyncHyperBand: num_stopped=13\n",
       "Bracket: Iter 512.000: None | Iter 256.000: None | Iter 128.000: None | Iter 64.000: None | Iter 32.000: None | Iter 16.000: None | Iter 8.000: 0.3653 | Iter 4.000: 0.24 | Iter 2.000: 0.10685<br>Resources requested: 3.0/12 CPUs, 0/0 GPUs, 0.0/4.27 GiB heap, 0.0/2.14 GiB objects<br>Current best trial: fd266_00004 with mean_accuracy=0.6315 and parameters={'layer1_out': 6, 'layer2_out': 12, 'batch': 16, 'lr': 0.0006340916205835722, 'momentum': 0.9115078952591047}<br>Result logdir: /Users/wenxindong/ray_results/train_asha<br>Number of trials: 16/16 (3 RUNNING, 13 TERMINATED)<br><br>"
      ],
      "text/plain": [
       "<IPython.core.display.HTML object>"
      ]
     },
     "metadata": {},
     "output_type": "display_data"
    },
    {
     "data": {
      "text/html": [
       "== Status ==<br>Current time: 2021-12-02 20:59:09 (running for 00:12:36.02)<br>Memory usage on this node: 11.0/16.0 GiB<br>Using AsyncHyperBand: num_stopped=13\n",
       "Bracket: Iter 512.000: None | Iter 256.000: None | Iter 128.000: None | Iter 64.000: None | Iter 32.000: None | Iter 16.000: None | Iter 8.000: 0.3653 | Iter 4.000: 0.24 | Iter 2.000: 0.10685<br>Resources requested: 3.0/12 CPUs, 0/0 GPUs, 0.0/4.27 GiB heap, 0.0/2.14 GiB objects<br>Current best trial: fd266_00004 with mean_accuracy=0.6315 and parameters={'layer1_out': 6, 'layer2_out': 12, 'batch': 16, 'lr': 0.0006340916205835722, 'momentum': 0.9115078952591047}<br>Result logdir: /Users/wenxindong/ray_results/train_asha<br>Number of trials: 16/16 (3 RUNNING, 13 TERMINATED)<br><br>"
      ],
      "text/plain": [
       "<IPython.core.display.HTML object>"
      ]
     },
     "metadata": {},
     "output_type": "display_data"
    },
    {
     "data": {
      "text/html": [
       "== Status ==<br>Current time: 2021-12-02 20:59:14 (running for 00:12:41.04)<br>Memory usage on this node: 11.0/16.0 GiB<br>Using AsyncHyperBand: num_stopped=13\n",
       "Bracket: Iter 512.000: None | Iter 256.000: None | Iter 128.000: None | Iter 64.000: None | Iter 32.000: None | Iter 16.000: None | Iter 8.000: 0.3653 | Iter 4.000: 0.24 | Iter 2.000: 0.10685<br>Resources requested: 3.0/12 CPUs, 0/0 GPUs, 0.0/4.27 GiB heap, 0.0/2.14 GiB objects<br>Current best trial: fd266_00004 with mean_accuracy=0.6315 and parameters={'layer1_out': 6, 'layer2_out': 12, 'batch': 16, 'lr': 0.0006340916205835722, 'momentum': 0.9115078952591047}<br>Result logdir: /Users/wenxindong/ray_results/train_asha<br>Number of trials: 16/16 (3 RUNNING, 13 TERMINATED)<br><br>"
      ],
      "text/plain": [
       "<IPython.core.display.HTML object>"
      ]
     },
     "metadata": {},
     "output_type": "display_data"
    },
    {
     "name": "stdout",
     "output_type": "stream",
     "text": [
      "Trial train_eval_model_fd266_00004 reported mean_accuracy=0.63 with parameters={'layer1_out': 6, 'layer2_out': 12, 'batch': 16, 'lr': 0.0006340916205835722, 'momentum': 0.9115078952591047}.\n"
     ]
    },
    {
     "data": {
      "text/html": [
       "== Status ==<br>Current time: 2021-12-02 20:59:19 (running for 00:12:46.05)<br>Memory usage on this node: 11.0/16.0 GiB<br>Using AsyncHyperBand: num_stopped=13\n",
       "Bracket: Iter 512.000: None | Iter 256.000: None | Iter 128.000: None | Iter 64.000: None | Iter 32.000: None | Iter 16.000: None | Iter 8.000: 0.49934999999999996 | Iter 4.000: 0.24 | Iter 2.000: 0.10685<br>Resources requested: 3.0/12 CPUs, 0/0 GPUs, 0.0/4.27 GiB heap, 0.0/2.14 GiB objects<br>Current best trial: fd266_00004 with mean_accuracy=0.6334 and parameters={'layer1_out': 6, 'layer2_out': 12, 'batch': 16, 'lr': 0.0006340916205835722, 'momentum': 0.9115078952591047}<br>Result logdir: /Users/wenxindong/ray_results/train_asha<br>Number of trials: 16/16 (3 RUNNING, 13 TERMINATED)<br><br>"
      ],
      "text/plain": [
       "<IPython.core.display.HTML object>"
      ]
     },
     "metadata": {},
     "output_type": "display_data"
    },
    {
     "data": {
      "text/html": [
       "== Status ==<br>Current time: 2021-12-02 20:59:24 (running for 00:12:51.07)<br>Memory usage on this node: 11.0/16.0 GiB<br>Using AsyncHyperBand: num_stopped=13\n",
       "Bracket: Iter 512.000: None | Iter 256.000: None | Iter 128.000: None | Iter 64.000: None | Iter 32.000: None | Iter 16.000: None | Iter 8.000: 0.49934999999999996 | Iter 4.000: 0.24 | Iter 2.000: 0.10685<br>Resources requested: 3.0/12 CPUs, 0/0 GPUs, 0.0/4.27 GiB heap, 0.0/2.14 GiB objects<br>Current best trial: fd266_00004 with mean_accuracy=0.6334 and parameters={'layer1_out': 6, 'layer2_out': 12, 'batch': 16, 'lr': 0.0006340916205835722, 'momentum': 0.9115078952591047}<br>Result logdir: /Users/wenxindong/ray_results/train_asha<br>Number of trials: 16/16 (3 RUNNING, 13 TERMINATED)<br><br>"
      ],
      "text/plain": [
       "<IPython.core.display.HTML object>"
      ]
     },
     "metadata": {},
     "output_type": "display_data"
    },
    {
     "data": {
      "text/html": [
       "== Status ==<br>Current time: 2021-12-02 20:59:29 (running for 00:12:56.09)<br>Memory usage on this node: 11.0/16.0 GiB<br>Using AsyncHyperBand: num_stopped=13\n",
       "Bracket: Iter 512.000: None | Iter 256.000: None | Iter 128.000: None | Iter 64.000: None | Iter 32.000: None | Iter 16.000: None | Iter 8.000: 0.49934999999999996 | Iter 4.000: 0.24 | Iter 2.000: 0.10685<br>Resources requested: 3.0/12 CPUs, 0/0 GPUs, 0.0/4.27 GiB heap, 0.0/2.14 GiB objects<br>Current best trial: fd266_00004 with mean_accuracy=0.6334 and parameters={'layer1_out': 6, 'layer2_out': 12, 'batch': 16, 'lr': 0.0006340916205835722, 'momentum': 0.9115078952591047}<br>Result logdir: /Users/wenxindong/ray_results/train_asha<br>Number of trials: 16/16 (3 RUNNING, 13 TERMINATED)<br><br>"
      ],
      "text/plain": [
       "<IPython.core.display.HTML object>"
      ]
     },
     "metadata": {},
     "output_type": "display_data"
    },
    {
     "name": "stdout",
     "output_type": "stream",
     "text": [
      "Trial train_eval_model_fd266_00008 reported mean_accuracy=0.42 with parameters={'layer1_out': 12, 'layer2_out': 6, 'batch': 32, 'lr': 8.544767837258724e-05, 'momentum': 0.908650248796244}.\n"
     ]
    },
    {
     "data": {
      "text/html": [
       "== Status ==<br>Current time: 2021-12-02 20:59:34 (running for 00:13:01.72)<br>Memory usage on this node: 11.0/16.0 GiB<br>Using AsyncHyperBand: num_stopped=13\n",
       "Bracket: Iter 512.000: None | Iter 256.000: None | Iter 128.000: None | Iter 64.000: None | Iter 32.000: None | Iter 16.000: None | Iter 8.000: 0.49934999999999996 | Iter 4.000: 0.24 | Iter 2.000: 0.10685<br>Resources requested: 3.0/12 CPUs, 0/0 GPUs, 0.0/4.27 GiB heap, 0.0/2.14 GiB objects<br>Current best trial: fd266_00004 with mean_accuracy=0.6334 and parameters={'layer1_out': 6, 'layer2_out': 12, 'batch': 16, 'lr': 0.0006340916205835722, 'momentum': 0.9115078952591047}<br>Result logdir: /Users/wenxindong/ray_results/train_asha<br>Number of trials: 16/16 (3 RUNNING, 13 TERMINATED)<br><br>"
      ],
      "text/plain": [
       "<IPython.core.display.HTML object>"
      ]
     },
     "metadata": {},
     "output_type": "display_data"
    },
    {
     "name": "stdout",
     "output_type": "stream",
     "text": [
      "Trial train_eval_model_fd266_00013 reported mean_accuracy=0.41 with parameters={'layer1_out': 12, 'layer2_out': 12, 'batch': 128, 'lr': 0.000940748918176182, 'momentum': 0.8581307663222114}.\n"
     ]
    },
    {
     "data": {
      "text/html": [
       "== Status ==<br>Current time: 2021-12-02 20:59:40 (running for 00:13:06.92)<br>Memory usage on this node: 11.0/16.0 GiB<br>Using AsyncHyperBand: num_stopped=13\n",
       "Bracket: Iter 512.000: None | Iter 256.000: None | Iter 128.000: None | Iter 64.000: None | Iter 32.000: None | Iter 16.000: None | Iter 8.000: 0.49934999999999996 | Iter 4.000: 0.24 | Iter 2.000: 0.10685<br>Resources requested: 3.0/12 CPUs, 0/0 GPUs, 0.0/4.27 GiB heap, 0.0/2.14 GiB objects<br>Current best trial: fd266_00004 with mean_accuracy=0.6334 and parameters={'layer1_out': 6, 'layer2_out': 12, 'batch': 16, 'lr': 0.0006340916205835722, 'momentum': 0.9115078952591047}<br>Result logdir: /Users/wenxindong/ray_results/train_asha<br>Number of trials: 16/16 (3 RUNNING, 13 TERMINATED)<br><br>"
      ],
      "text/plain": [
       "<IPython.core.display.HTML object>"
      ]
     },
     "metadata": {},
     "output_type": "display_data"
    },
    {
     "data": {
      "text/html": [
       "== Status ==<br>Current time: 2021-12-02 20:59:45 (running for 00:13:11.94)<br>Memory usage on this node: 11.1/16.0 GiB<br>Using AsyncHyperBand: num_stopped=13\n",
       "Bracket: Iter 512.000: None | Iter 256.000: None | Iter 128.000: None | Iter 64.000: None | Iter 32.000: None | Iter 16.000: None | Iter 8.000: 0.49934999999999996 | Iter 4.000: 0.24 | Iter 2.000: 0.10685<br>Resources requested: 3.0/12 CPUs, 0/0 GPUs, 0.0/4.27 GiB heap, 0.0/2.14 GiB objects<br>Current best trial: fd266_00004 with mean_accuracy=0.6334 and parameters={'layer1_out': 6, 'layer2_out': 12, 'batch': 16, 'lr': 0.0006340916205835722, 'momentum': 0.9115078952591047}<br>Result logdir: /Users/wenxindong/ray_results/train_asha<br>Number of trials: 16/16 (3 RUNNING, 13 TERMINATED)<br><br>"
      ],
      "text/plain": [
       "<IPython.core.display.HTML object>"
      ]
     },
     "metadata": {},
     "output_type": "display_data"
    },
    {
     "data": {
      "text/html": [
       "== Status ==<br>Current time: 2021-12-02 20:59:50 (running for 00:13:16.98)<br>Memory usage on this node: 11.2/16.0 GiB<br>Using AsyncHyperBand: num_stopped=13\n",
       "Bracket: Iter 512.000: None | Iter 256.000: None | Iter 128.000: None | Iter 64.000: None | Iter 32.000: None | Iter 16.000: None | Iter 8.000: 0.49934999999999996 | Iter 4.000: 0.24 | Iter 2.000: 0.10685<br>Resources requested: 3.0/12 CPUs, 0/0 GPUs, 0.0/4.27 GiB heap, 0.0/2.14 GiB objects<br>Current best trial: fd266_00004 with mean_accuracy=0.6334 and parameters={'layer1_out': 6, 'layer2_out': 12, 'batch': 16, 'lr': 0.0006340916205835722, 'momentum': 0.9115078952591047}<br>Result logdir: /Users/wenxindong/ray_results/train_asha<br>Number of trials: 16/16 (3 RUNNING, 13 TERMINATED)<br><br>"
      ],
      "text/plain": [
       "<IPython.core.display.HTML object>"
      ]
     },
     "metadata": {},
     "output_type": "display_data"
    },
    {
     "name": "stdout",
     "output_type": "stream",
     "text": [
      "Trial train_eval_model_fd266_00004 reported mean_accuracy=0.63 with parameters={'layer1_out': 6, 'layer2_out': 12, 'batch': 16, 'lr': 0.0006340916205835722, 'momentum': 0.9115078952591047}.\n"
     ]
    },
    {
     "data": {
      "text/html": [
       "== Status ==<br>Current time: 2021-12-02 20:59:55 (running for 00:13:22.27)<br>Memory usage on this node: 11.2/16.0 GiB<br>Using AsyncHyperBand: num_stopped=13\n",
       "Bracket: Iter 512.000: None | Iter 256.000: None | Iter 128.000: None | Iter 64.000: None | Iter 32.000: None | Iter 16.000: None | Iter 8.000: 0.49934999999999996 | Iter 4.000: 0.24 | Iter 2.000: 0.10685<br>Resources requested: 3.0/12 CPUs, 0/0 GPUs, 0.0/4.27 GiB heap, 0.0/2.14 GiB objects<br>Current best trial: fd266_00004 with mean_accuracy=0.6333 and parameters={'layer1_out': 6, 'layer2_out': 12, 'batch': 16, 'lr': 0.0006340916205835722, 'momentum': 0.9115078952591047}<br>Result logdir: /Users/wenxindong/ray_results/train_asha<br>Number of trials: 16/16 (3 RUNNING, 13 TERMINATED)<br><br>"
      ],
      "text/plain": [
       "<IPython.core.display.HTML object>"
      ]
     },
     "metadata": {},
     "output_type": "display_data"
    },
    {
     "data": {
      "text/html": [
       "== Status ==<br>Current time: 2021-12-02 21:00:00 (running for 00:13:27.30)<br>Memory usage on this node: 11.2/16.0 GiB<br>Using AsyncHyperBand: num_stopped=13\n",
       "Bracket: Iter 512.000: None | Iter 256.000: None | Iter 128.000: None | Iter 64.000: None | Iter 32.000: None | Iter 16.000: None | Iter 8.000: 0.49934999999999996 | Iter 4.000: 0.24 | Iter 2.000: 0.10685<br>Resources requested: 3.0/12 CPUs, 0/0 GPUs, 0.0/4.27 GiB heap, 0.0/2.14 GiB objects<br>Current best trial: fd266_00004 with mean_accuracy=0.6333 and parameters={'layer1_out': 6, 'layer2_out': 12, 'batch': 16, 'lr': 0.0006340916205835722, 'momentum': 0.9115078952591047}<br>Result logdir: /Users/wenxindong/ray_results/train_asha<br>Number of trials: 16/16 (3 RUNNING, 13 TERMINATED)<br><br>"
      ],
      "text/plain": [
       "<IPython.core.display.HTML object>"
      ]
     },
     "metadata": {},
     "output_type": "display_data"
    },
    {
     "data": {
      "text/html": [
       "== Status ==<br>Current time: 2021-12-02 21:00:05 (running for 00:13:32.32)<br>Memory usage on this node: 11.2/16.0 GiB<br>Using AsyncHyperBand: num_stopped=13\n",
       "Bracket: Iter 512.000: None | Iter 256.000: None | Iter 128.000: None | Iter 64.000: None | Iter 32.000: None | Iter 16.000: None | Iter 8.000: 0.49934999999999996 | Iter 4.000: 0.24 | Iter 2.000: 0.10685<br>Resources requested: 3.0/12 CPUs, 0/0 GPUs, 0.0/4.27 GiB heap, 0.0/2.14 GiB objects<br>Current best trial: fd266_00004 with mean_accuracy=0.6333 and parameters={'layer1_out': 6, 'layer2_out': 12, 'batch': 16, 'lr': 0.0006340916205835722, 'momentum': 0.9115078952591047}<br>Result logdir: /Users/wenxindong/ray_results/train_asha<br>Number of trials: 16/16 (3 RUNNING, 13 TERMINATED)<br><br>"
      ],
      "text/plain": [
       "<IPython.core.display.HTML object>"
      ]
     },
     "metadata": {},
     "output_type": "display_data"
    },
    {
     "name": "stdout",
     "output_type": "stream",
     "text": [
      "Trial train_eval_model_fd266_00008 reported mean_accuracy=0.44 with parameters={'layer1_out': 12, 'layer2_out': 6, 'batch': 32, 'lr': 8.544767837258724e-05, 'momentum': 0.908650248796244}.\n"
     ]
    },
    {
     "data": {
      "text/html": [
       "== Status ==<br>Current time: 2021-12-02 21:00:11 (running for 00:13:38.31)<br>Memory usage on this node: 11.2/16.0 GiB<br>Using AsyncHyperBand: num_stopped=13\n",
       "Bracket: Iter 512.000: None | Iter 256.000: None | Iter 128.000: None | Iter 64.000: None | Iter 32.000: None | Iter 16.000: None | Iter 8.000: 0.49934999999999996 | Iter 4.000: 0.24 | Iter 2.000: 0.10685<br>Resources requested: 3.0/12 CPUs, 0/0 GPUs, 0.0/4.27 GiB heap, 0.0/2.14 GiB objects<br>Current best trial: fd266_00004 with mean_accuracy=0.6333 and parameters={'layer1_out': 6, 'layer2_out': 12, 'batch': 16, 'lr': 0.0006340916205835722, 'momentum': 0.9115078952591047}<br>Result logdir: /Users/wenxindong/ray_results/train_asha<br>Number of trials: 16/16 (3 RUNNING, 13 TERMINATED)<br><br>"
      ],
      "text/plain": [
       "<IPython.core.display.HTML object>"
      ]
     },
     "metadata": {},
     "output_type": "display_data"
    },
    {
     "name": "stdout",
     "output_type": "stream",
     "text": [
      "Trial train_eval_model_fd266_00013 reported mean_accuracy=0.43 with parameters={'layer1_out': 12, 'layer2_out': 12, 'batch': 128, 'lr': 0.000940748918176182, 'momentum': 0.8581307663222114}. This trial completed.\n"
     ]
    },
    {
     "data": {
      "text/html": [
       "== Status ==<br>Current time: 2021-12-02 21:00:16 (running for 00:13:43.35)<br>Memory usage on this node: 10.9/16.0 GiB<br>Using AsyncHyperBand: num_stopped=14\n",
       "Bracket: Iter 512.000: None | Iter 256.000: None | Iter 128.000: None | Iter 64.000: None | Iter 32.000: None | Iter 16.000: None | Iter 8.000: 0.4291 | Iter 4.000: 0.24 | Iter 2.000: 0.10685<br>Resources requested: 2.0/12 CPUs, 0/0 GPUs, 0.0/4.27 GiB heap, 0.0/2.14 GiB objects<br>Current best trial: fd266_00004 with mean_accuracy=0.6333 and parameters={'layer1_out': 6, 'layer2_out': 12, 'batch': 16, 'lr': 0.0006340916205835722, 'momentum': 0.9115078952591047}<br>Result logdir: /Users/wenxindong/ray_results/train_asha<br>Number of trials: 16/16 (2 RUNNING, 14 TERMINATED)<br><br>"
      ],
      "text/plain": [
       "<IPython.core.display.HTML object>"
      ]
     },
     "metadata": {},
     "output_type": "display_data"
    },
    {
     "data": {
      "text/html": [
       "== Status ==<br>Current time: 2021-12-02 21:00:21 (running for 00:13:48.38)<br>Memory usage on this node: 11.2/16.0 GiB<br>Using AsyncHyperBand: num_stopped=14\n",
       "Bracket: Iter 512.000: None | Iter 256.000: None | Iter 128.000: None | Iter 64.000: None | Iter 32.000: None | Iter 16.000: None | Iter 8.000: 0.4291 | Iter 4.000: 0.24 | Iter 2.000: 0.10685<br>Resources requested: 2.0/12 CPUs, 0/0 GPUs, 0.0/4.27 GiB heap, 0.0/2.14 GiB objects<br>Current best trial: fd266_00004 with mean_accuracy=0.6333 and parameters={'layer1_out': 6, 'layer2_out': 12, 'batch': 16, 'lr': 0.0006340916205835722, 'momentum': 0.9115078952591047}<br>Result logdir: /Users/wenxindong/ray_results/train_asha<br>Number of trials: 16/16 (2 RUNNING, 14 TERMINATED)<br><br>"
      ],
      "text/plain": [
       "<IPython.core.display.HTML object>"
      ]
     },
     "metadata": {},
     "output_type": "display_data"
    },
    {
     "name": "stdout",
     "output_type": "stream",
     "text": [
      "Trial train_eval_model_fd266_00004 reported mean_accuracy=0.64 with parameters={'layer1_out': 6, 'layer2_out': 12, 'batch': 16, 'lr': 0.0006340916205835722, 'momentum': 0.9115078952591047}.\n"
     ]
    },
    {
     "data": {
      "text/html": [
       "== Status ==<br>Current time: 2021-12-02 21:00:26 (running for 00:13:53.85)<br>Memory usage on this node: 11.2/16.0 GiB<br>Using AsyncHyperBand: num_stopped=14\n",
       "Bracket: Iter 512.000: None | Iter 256.000: None | Iter 128.000: None | Iter 64.000: None | Iter 32.000: None | Iter 16.000: None | Iter 8.000: 0.4291 | Iter 4.000: 0.24 | Iter 2.000: 0.10685<br>Resources requested: 2.0/12 CPUs, 0/0 GPUs, 0.0/4.27 GiB heap, 0.0/2.14 GiB objects<br>Current best trial: fd266_00004 with mean_accuracy=0.6417 and parameters={'layer1_out': 6, 'layer2_out': 12, 'batch': 16, 'lr': 0.0006340916205835722, 'momentum': 0.9115078952591047}<br>Result logdir: /Users/wenxindong/ray_results/train_asha<br>Number of trials: 16/16 (2 RUNNING, 14 TERMINATED)<br><br>"
      ],
      "text/plain": [
       "<IPython.core.display.HTML object>"
      ]
     },
     "metadata": {},
     "output_type": "display_data"
    },
    {
     "data": {
      "text/html": [
       "== Status ==<br>Current time: 2021-12-02 21:00:31 (running for 00:13:58.88)<br>Memory usage on this node: 11.2/16.0 GiB<br>Using AsyncHyperBand: num_stopped=14\n",
       "Bracket: Iter 512.000: None | Iter 256.000: None | Iter 128.000: None | Iter 64.000: None | Iter 32.000: None | Iter 16.000: None | Iter 8.000: 0.4291 | Iter 4.000: 0.24 | Iter 2.000: 0.10685<br>Resources requested: 2.0/12 CPUs, 0/0 GPUs, 0.0/4.27 GiB heap, 0.0/2.14 GiB objects<br>Current best trial: fd266_00004 with mean_accuracy=0.6417 and parameters={'layer1_out': 6, 'layer2_out': 12, 'batch': 16, 'lr': 0.0006340916205835722, 'momentum': 0.9115078952591047}<br>Result logdir: /Users/wenxindong/ray_results/train_asha<br>Number of trials: 16/16 (2 RUNNING, 14 TERMINATED)<br><br>"
      ],
      "text/plain": [
       "<IPython.core.display.HTML object>"
      ]
     },
     "metadata": {},
     "output_type": "display_data"
    },
    {
     "data": {
      "text/html": [
       "== Status ==<br>Current time: 2021-12-02 21:00:36 (running for 00:14:03.90)<br>Memory usage on this node: 11.2/16.0 GiB<br>Using AsyncHyperBand: num_stopped=14\n",
       "Bracket: Iter 512.000: None | Iter 256.000: None | Iter 128.000: None | Iter 64.000: None | Iter 32.000: None | Iter 16.000: None | Iter 8.000: 0.4291 | Iter 4.000: 0.24 | Iter 2.000: 0.10685<br>Resources requested: 2.0/12 CPUs, 0/0 GPUs, 0.0/4.27 GiB heap, 0.0/2.14 GiB objects<br>Current best trial: fd266_00004 with mean_accuracy=0.6417 and parameters={'layer1_out': 6, 'layer2_out': 12, 'batch': 16, 'lr': 0.0006340916205835722, 'momentum': 0.9115078952591047}<br>Result logdir: /Users/wenxindong/ray_results/train_asha<br>Number of trials: 16/16 (2 RUNNING, 14 TERMINATED)<br><br>"
      ],
      "text/plain": [
       "<IPython.core.display.HTML object>"
      ]
     },
     "metadata": {},
     "output_type": "display_data"
    },
    {
     "name": "stdout",
     "output_type": "stream",
     "text": [
      "Trial train_eval_model_fd266_00008 reported mean_accuracy=0.44 with parameters={'layer1_out': 12, 'layer2_out': 6, 'batch': 32, 'lr': 8.544767837258724e-05, 'momentum': 0.908650248796244}.\n"
     ]
    },
    {
     "data": {
      "text/html": [
       "== Status ==<br>Current time: 2021-12-02 21:00:42 (running for 00:14:09.02)<br>Memory usage on this node: 11.2/16.0 GiB<br>Using AsyncHyperBand: num_stopped=14\n",
       "Bracket: Iter 512.000: None | Iter 256.000: None | Iter 128.000: None | Iter 64.000: None | Iter 32.000: None | Iter 16.000: None | Iter 8.000: 0.4291 | Iter 4.000: 0.24 | Iter 2.000: 0.10685<br>Resources requested: 2.0/12 CPUs, 0/0 GPUs, 0.0/4.27 GiB heap, 0.0/2.14 GiB objects<br>Current best trial: fd266_00004 with mean_accuracy=0.6417 and parameters={'layer1_out': 6, 'layer2_out': 12, 'batch': 16, 'lr': 0.0006340916205835722, 'momentum': 0.9115078952591047}<br>Result logdir: /Users/wenxindong/ray_results/train_asha<br>Number of trials: 16/16 (2 RUNNING, 14 TERMINATED)<br><br>"
      ],
      "text/plain": [
       "<IPython.core.display.HTML object>"
      ]
     },
     "metadata": {},
     "output_type": "display_data"
    },
    {
     "data": {
      "text/html": [
       "== Status ==<br>Current time: 2021-12-02 21:00:47 (running for 00:14:14.04)<br>Memory usage on this node: 11.2/16.0 GiB<br>Using AsyncHyperBand: num_stopped=14\n",
       "Bracket: Iter 512.000: None | Iter 256.000: None | Iter 128.000: None | Iter 64.000: None | Iter 32.000: None | Iter 16.000: None | Iter 8.000: 0.4291 | Iter 4.000: 0.24 | Iter 2.000: 0.10685<br>Resources requested: 2.0/12 CPUs, 0/0 GPUs, 0.0/4.27 GiB heap, 0.0/2.14 GiB objects<br>Current best trial: fd266_00004 with mean_accuracy=0.6417 and parameters={'layer1_out': 6, 'layer2_out': 12, 'batch': 16, 'lr': 0.0006340916205835722, 'momentum': 0.9115078952591047}<br>Result logdir: /Users/wenxindong/ray_results/train_asha<br>Number of trials: 16/16 (2 RUNNING, 14 TERMINATED)<br><br>"
      ],
      "text/plain": [
       "<IPython.core.display.HTML object>"
      ]
     },
     "metadata": {},
     "output_type": "display_data"
    },
    {
     "data": {
      "text/html": [
       "== Status ==<br>Current time: 2021-12-02 21:00:52 (running for 00:14:19.07)<br>Memory usage on this node: 11.2/16.0 GiB<br>Using AsyncHyperBand: num_stopped=14\n",
       "Bracket: Iter 512.000: None | Iter 256.000: None | Iter 128.000: None | Iter 64.000: None | Iter 32.000: None | Iter 16.000: None | Iter 8.000: 0.4291 | Iter 4.000: 0.24 | Iter 2.000: 0.10685<br>Resources requested: 2.0/12 CPUs, 0/0 GPUs, 0.0/4.27 GiB heap, 0.0/2.14 GiB objects<br>Current best trial: fd266_00004 with mean_accuracy=0.6417 and parameters={'layer1_out': 6, 'layer2_out': 12, 'batch': 16, 'lr': 0.0006340916205835722, 'momentum': 0.9115078952591047}<br>Result logdir: /Users/wenxindong/ray_results/train_asha<br>Number of trials: 16/16 (2 RUNNING, 14 TERMINATED)<br><br>"
      ],
      "text/plain": [
       "<IPython.core.display.HTML object>"
      ]
     },
     "metadata": {},
     "output_type": "display_data"
    },
    {
     "name": "stdout",
     "output_type": "stream",
     "text": [
      "Trial train_eval_model_fd266_00004 reported mean_accuracy=0.64 with parameters={'layer1_out': 6, 'layer2_out': 12, 'batch': 16, 'lr': 0.0006340916205835722, 'momentum': 0.9115078952591047}.\n"
     ]
    },
    {
     "data": {
      "text/html": [
       "== Status ==<br>Current time: 2021-12-02 21:00:57 (running for 00:14:24.59)<br>Memory usage on this node: 11.2/16.0 GiB<br>Using AsyncHyperBand: num_stopped=14\n",
       "Bracket: Iter 512.000: None | Iter 256.000: None | Iter 128.000: None | Iter 64.000: None | Iter 32.000: None | Iter 16.000: None | Iter 8.000: 0.4291 | Iter 4.000: 0.24 | Iter 2.000: 0.10685<br>Resources requested: 2.0/12 CPUs, 0/0 GPUs, 0.0/4.27 GiB heap, 0.0/2.14 GiB objects<br>Current best trial: fd266_00004 with mean_accuracy=0.6436 and parameters={'layer1_out': 6, 'layer2_out': 12, 'batch': 16, 'lr': 0.0006340916205835722, 'momentum': 0.9115078952591047}<br>Result logdir: /Users/wenxindong/ray_results/train_asha<br>Number of trials: 16/16 (2 RUNNING, 14 TERMINATED)<br><br>"
      ],
      "text/plain": [
       "<IPython.core.display.HTML object>"
      ]
     },
     "metadata": {},
     "output_type": "display_data"
    },
    {
     "data": {
      "text/html": [
       "== Status ==<br>Current time: 2021-12-02 21:01:02 (running for 00:14:29.62)<br>Memory usage on this node: 11.3/16.0 GiB<br>Using AsyncHyperBand: num_stopped=14\n",
       "Bracket: Iter 512.000: None | Iter 256.000: None | Iter 128.000: None | Iter 64.000: None | Iter 32.000: None | Iter 16.000: None | Iter 8.000: 0.4291 | Iter 4.000: 0.24 | Iter 2.000: 0.10685<br>Resources requested: 2.0/12 CPUs, 0/0 GPUs, 0.0/4.27 GiB heap, 0.0/2.14 GiB objects<br>Current best trial: fd266_00004 with mean_accuracy=0.6436 and parameters={'layer1_out': 6, 'layer2_out': 12, 'batch': 16, 'lr': 0.0006340916205835722, 'momentum': 0.9115078952591047}<br>Result logdir: /Users/wenxindong/ray_results/train_asha<br>Number of trials: 16/16 (2 RUNNING, 14 TERMINATED)<br><br>"
      ],
      "text/plain": [
       "<IPython.core.display.HTML object>"
      ]
     },
     "metadata": {},
     "output_type": "display_data"
    },
    {
     "data": {
      "text/html": [
       "== Status ==<br>Current time: 2021-12-02 21:01:07 (running for 00:14:34.64)<br>Memory usage on this node: 11.3/16.0 GiB<br>Using AsyncHyperBand: num_stopped=14\n",
       "Bracket: Iter 512.000: None | Iter 256.000: None | Iter 128.000: None | Iter 64.000: None | Iter 32.000: None | Iter 16.000: None | Iter 8.000: 0.4291 | Iter 4.000: 0.24 | Iter 2.000: 0.10685<br>Resources requested: 2.0/12 CPUs, 0/0 GPUs, 0.0/4.27 GiB heap, 0.0/2.14 GiB objects<br>Current best trial: fd266_00004 with mean_accuracy=0.6436 and parameters={'layer1_out': 6, 'layer2_out': 12, 'batch': 16, 'lr': 0.0006340916205835722, 'momentum': 0.9115078952591047}<br>Result logdir: /Users/wenxindong/ray_results/train_asha<br>Number of trials: 16/16 (2 RUNNING, 14 TERMINATED)<br><br>"
      ],
      "text/plain": [
       "<IPython.core.display.HTML object>"
      ]
     },
     "metadata": {},
     "output_type": "display_data"
    },
    {
     "name": "stdout",
     "output_type": "stream",
     "text": [
      "Trial train_eval_model_fd266_00008 reported mean_accuracy=0.45 with parameters={'layer1_out': 12, 'layer2_out': 6, 'batch': 32, 'lr': 8.544767837258724e-05, 'momentum': 0.908650248796244}.\n"
     ]
    },
    {
     "data": {
      "text/html": [
       "== Status ==<br>Current time: 2021-12-02 21:01:13 (running for 00:14:40.29)<br>Memory usage on this node: 11.3/16.0 GiB<br>Using AsyncHyperBand: num_stopped=14\n",
       "Bracket: Iter 512.000: None | Iter 256.000: None | Iter 128.000: None | Iter 64.000: None | Iter 32.000: None | Iter 16.000: None | Iter 8.000: 0.4291 | Iter 4.000: 0.24 | Iter 2.000: 0.10685<br>Resources requested: 2.0/12 CPUs, 0/0 GPUs, 0.0/4.27 GiB heap, 0.0/2.14 GiB objects<br>Current best trial: fd266_00004 with mean_accuracy=0.6436 and parameters={'layer1_out': 6, 'layer2_out': 12, 'batch': 16, 'lr': 0.0006340916205835722, 'momentum': 0.9115078952591047}<br>Result logdir: /Users/wenxindong/ray_results/train_asha<br>Number of trials: 16/16 (2 RUNNING, 14 TERMINATED)<br><br>"
      ],
      "text/plain": [
       "<IPython.core.display.HTML object>"
      ]
     },
     "metadata": {},
     "output_type": "display_data"
    },
    {
     "data": {
      "text/html": [
       "== Status ==<br>Current time: 2021-12-02 21:01:18 (running for 00:14:45.31)<br>Memory usage on this node: 11.3/16.0 GiB<br>Using AsyncHyperBand: num_stopped=14\n",
       "Bracket: Iter 512.000: None | Iter 256.000: None | Iter 128.000: None | Iter 64.000: None | Iter 32.000: None | Iter 16.000: None | Iter 8.000: 0.4291 | Iter 4.000: 0.24 | Iter 2.000: 0.10685<br>Resources requested: 2.0/12 CPUs, 0/0 GPUs, 0.0/4.27 GiB heap, 0.0/2.14 GiB objects<br>Current best trial: fd266_00004 with mean_accuracy=0.6436 and parameters={'layer1_out': 6, 'layer2_out': 12, 'batch': 16, 'lr': 0.0006340916205835722, 'momentum': 0.9115078952591047}<br>Result logdir: /Users/wenxindong/ray_results/train_asha<br>Number of trials: 16/16 (2 RUNNING, 14 TERMINATED)<br><br>"
      ],
      "text/plain": [
       "<IPython.core.display.HTML object>"
      ]
     },
     "metadata": {},
     "output_type": "display_data"
    },
    {
     "name": "stdout",
     "output_type": "stream",
     "text": [
      "Trial train_eval_model_fd266_00004 reported mean_accuracy=0.64 with parameters={'layer1_out': 6, 'layer2_out': 12, 'batch': 16, 'lr': 0.0006340916205835722, 'momentum': 0.9115078952591047}.\n"
     ]
    },
    {
     "data": {
      "text/html": [
       "== Status ==<br>Current time: 2021-12-02 21:01:24 (running for 00:14:51.17)<br>Memory usage on this node: 11.3/16.0 GiB<br>Using AsyncHyperBand: num_stopped=14\n",
       "Bracket: Iter 512.000: None | Iter 256.000: None | Iter 128.000: None | Iter 64.000: None | Iter 32.000: None | Iter 16.000: None | Iter 8.000: 0.4291 | Iter 4.000: 0.24 | Iter 2.000: 0.10685<br>Resources requested: 2.0/12 CPUs, 0/0 GPUs, 0.0/4.27 GiB heap, 0.0/2.14 GiB objects<br>Current best trial: fd266_00004 with mean_accuracy=0.6377 and parameters={'layer1_out': 6, 'layer2_out': 12, 'batch': 16, 'lr': 0.0006340916205835722, 'momentum': 0.9115078952591047}<br>Result logdir: /Users/wenxindong/ray_results/train_asha<br>Number of trials: 16/16 (2 RUNNING, 14 TERMINATED)<br><br>"
      ],
      "text/plain": [
       "<IPython.core.display.HTML object>"
      ]
     },
     "metadata": {},
     "output_type": "display_data"
    },
    {
     "data": {
      "text/html": [
       "== Status ==<br>Current time: 2021-12-02 21:01:29 (running for 00:14:56.19)<br>Memory usage on this node: 11.3/16.0 GiB<br>Using AsyncHyperBand: num_stopped=14\n",
       "Bracket: Iter 512.000: None | Iter 256.000: None | Iter 128.000: None | Iter 64.000: None | Iter 32.000: None | Iter 16.000: None | Iter 8.000: 0.4291 | Iter 4.000: 0.24 | Iter 2.000: 0.10685<br>Resources requested: 2.0/12 CPUs, 0/0 GPUs, 0.0/4.27 GiB heap, 0.0/2.14 GiB objects<br>Current best trial: fd266_00004 with mean_accuracy=0.6377 and parameters={'layer1_out': 6, 'layer2_out': 12, 'batch': 16, 'lr': 0.0006340916205835722, 'momentum': 0.9115078952591047}<br>Result logdir: /Users/wenxindong/ray_results/train_asha<br>Number of trials: 16/16 (2 RUNNING, 14 TERMINATED)<br><br>"
      ],
      "text/plain": [
       "<IPython.core.display.HTML object>"
      ]
     },
     "metadata": {},
     "output_type": "display_data"
    },
    {
     "data": {
      "text/html": [
       "== Status ==<br>Current time: 2021-12-02 21:01:34 (running for 00:15:01.21)<br>Memory usage on this node: 11.3/16.0 GiB<br>Using AsyncHyperBand: num_stopped=14\n",
       "Bracket: Iter 512.000: None | Iter 256.000: None | Iter 128.000: None | Iter 64.000: None | Iter 32.000: None | Iter 16.000: None | Iter 8.000: 0.4291 | Iter 4.000: 0.24 | Iter 2.000: 0.10685<br>Resources requested: 2.0/12 CPUs, 0/0 GPUs, 0.0/4.27 GiB heap, 0.0/2.14 GiB objects<br>Current best trial: fd266_00004 with mean_accuracy=0.6377 and parameters={'layer1_out': 6, 'layer2_out': 12, 'batch': 16, 'lr': 0.0006340916205835722, 'momentum': 0.9115078952591047}<br>Result logdir: /Users/wenxindong/ray_results/train_asha<br>Number of trials: 16/16 (2 RUNNING, 14 TERMINATED)<br><br>"
      ],
      "text/plain": [
       "<IPython.core.display.HTML object>"
      ]
     },
     "metadata": {},
     "output_type": "display_data"
    },
    {
     "name": "stdout",
     "output_type": "stream",
     "text": [
      "Trial train_eval_model_fd266_00008 reported mean_accuracy=0.46 with parameters={'layer1_out': 12, 'layer2_out': 6, 'batch': 32, 'lr': 8.544767837258724e-05, 'momentum': 0.908650248796244}.\n"
     ]
    },
    {
     "data": {
      "text/html": [
       "== Status ==<br>Current time: 2021-12-02 21:01:39 (running for 00:15:06.67)<br>Memory usage on this node: 11.3/16.0 GiB<br>Using AsyncHyperBand: num_stopped=14\n",
       "Bracket: Iter 512.000: None | Iter 256.000: None | Iter 128.000: None | Iter 64.000: None | Iter 32.000: None | Iter 16.000: 0.4587 | Iter 8.000: 0.4291 | Iter 4.000: 0.24 | Iter 2.000: 0.10685<br>Resources requested: 2.0/12 CPUs, 0/0 GPUs, 0.0/4.27 GiB heap, 0.0/2.14 GiB objects<br>Current best trial: fd266_00004 with mean_accuracy=0.6377 and parameters={'layer1_out': 6, 'layer2_out': 12, 'batch': 16, 'lr': 0.0006340916205835722, 'momentum': 0.9115078952591047}<br>Result logdir: /Users/wenxindong/ray_results/train_asha<br>Number of trials: 16/16 (2 RUNNING, 14 TERMINATED)<br><br>"
      ],
      "text/plain": [
       "<IPython.core.display.HTML object>"
      ]
     },
     "metadata": {},
     "output_type": "display_data"
    },
    {
     "data": {
      "text/html": [
       "== Status ==<br>Current time: 2021-12-02 21:01:44 (running for 00:15:11.71)<br>Memory usage on this node: 11.3/16.0 GiB<br>Using AsyncHyperBand: num_stopped=14\n",
       "Bracket: Iter 512.000: None | Iter 256.000: None | Iter 128.000: None | Iter 64.000: None | Iter 32.000: None | Iter 16.000: 0.4587 | Iter 8.000: 0.4291 | Iter 4.000: 0.24 | Iter 2.000: 0.10685<br>Resources requested: 2.0/12 CPUs, 0/0 GPUs, 0.0/4.27 GiB heap, 0.0/2.14 GiB objects<br>Current best trial: fd266_00004 with mean_accuracy=0.6377 and parameters={'layer1_out': 6, 'layer2_out': 12, 'batch': 16, 'lr': 0.0006340916205835722, 'momentum': 0.9115078952591047}<br>Result logdir: /Users/wenxindong/ray_results/train_asha<br>Number of trials: 16/16 (2 RUNNING, 14 TERMINATED)<br><br>"
      ],
      "text/plain": [
       "<IPython.core.display.HTML object>"
      ]
     },
     "metadata": {},
     "output_type": "display_data"
    },
    {
     "data": {
      "text/html": [
       "== Status ==<br>Current time: 2021-12-02 21:01:49 (running for 00:15:16.75)<br>Memory usage on this node: 11.3/16.0 GiB<br>Using AsyncHyperBand: num_stopped=14\n",
       "Bracket: Iter 512.000: None | Iter 256.000: None | Iter 128.000: None | Iter 64.000: None | Iter 32.000: None | Iter 16.000: 0.4587 | Iter 8.000: 0.4291 | Iter 4.000: 0.24 | Iter 2.000: 0.10685<br>Resources requested: 2.0/12 CPUs, 0/0 GPUs, 0.0/4.27 GiB heap, 0.0/2.14 GiB objects<br>Current best trial: fd266_00004 with mean_accuracy=0.6377 and parameters={'layer1_out': 6, 'layer2_out': 12, 'batch': 16, 'lr': 0.0006340916205835722, 'momentum': 0.9115078952591047}<br>Result logdir: /Users/wenxindong/ray_results/train_asha<br>Number of trials: 16/16 (2 RUNNING, 14 TERMINATED)<br><br>"
      ],
      "text/plain": [
       "<IPython.core.display.HTML object>"
      ]
     },
     "metadata": {},
     "output_type": "display_data"
    },
    {
     "name": "stdout",
     "output_type": "stream",
     "text": [
      "Trial train_eval_model_fd266_00004 reported mean_accuracy=0.64 with parameters={'layer1_out': 6, 'layer2_out': 12, 'batch': 16, 'lr': 0.0006340916205835722, 'momentum': 0.9115078952591047}.\n"
     ]
    },
    {
     "data": {
      "text/html": [
       "== Status ==<br>Current time: 2021-12-02 21:01:54 (running for 00:15:21.79)<br>Memory usage on this node: 11.3/16.0 GiB<br>Using AsyncHyperBand: num_stopped=14\n",
       "Bracket: Iter 512.000: None | Iter 256.000: None | Iter 128.000: None | Iter 64.000: None | Iter 32.000: None | Iter 16.000: 0.4587 | Iter 8.000: 0.4291 | Iter 4.000: 0.24 | Iter 2.000: 0.10685<br>Resources requested: 2.0/12 CPUs, 0/0 GPUs, 0.0/4.27 GiB heap, 0.0/2.14 GiB objects<br>Current best trial: fd266_00004 with mean_accuracy=0.6409 and parameters={'layer1_out': 6, 'layer2_out': 12, 'batch': 16, 'lr': 0.0006340916205835722, 'momentum': 0.9115078952591047}<br>Result logdir: /Users/wenxindong/ray_results/train_asha<br>Number of trials: 16/16 (2 RUNNING, 14 TERMINATED)<br><br>"
      ],
      "text/plain": [
       "<IPython.core.display.HTML object>"
      ]
     },
     "metadata": {},
     "output_type": "display_data"
    },
    {
     "data": {
      "text/html": [
       "== Status ==<br>Current time: 2021-12-02 21:01:59 (running for 00:15:26.83)<br>Memory usage on this node: 11.3/16.0 GiB<br>Using AsyncHyperBand: num_stopped=14\n",
       "Bracket: Iter 512.000: None | Iter 256.000: None | Iter 128.000: None | Iter 64.000: None | Iter 32.000: None | Iter 16.000: 0.4587 | Iter 8.000: 0.4291 | Iter 4.000: 0.24 | Iter 2.000: 0.10685<br>Resources requested: 2.0/12 CPUs, 0/0 GPUs, 0.0/4.27 GiB heap, 0.0/2.14 GiB objects<br>Current best trial: fd266_00004 with mean_accuracy=0.6409 and parameters={'layer1_out': 6, 'layer2_out': 12, 'batch': 16, 'lr': 0.0006340916205835722, 'momentum': 0.9115078952591047}<br>Result logdir: /Users/wenxindong/ray_results/train_asha<br>Number of trials: 16/16 (2 RUNNING, 14 TERMINATED)<br><br>"
      ],
      "text/plain": [
       "<IPython.core.display.HTML object>"
      ]
     },
     "metadata": {},
     "output_type": "display_data"
    },
    {
     "data": {
      "text/html": [
       "== Status ==<br>Current time: 2021-12-02 21:02:04 (running for 00:15:31.86)<br>Memory usage on this node: 11.4/16.0 GiB<br>Using AsyncHyperBand: num_stopped=14\n",
       "Bracket: Iter 512.000: None | Iter 256.000: None | Iter 128.000: None | Iter 64.000: None | Iter 32.000: None | Iter 16.000: 0.4587 | Iter 8.000: 0.4291 | Iter 4.000: 0.24 | Iter 2.000: 0.10685<br>Resources requested: 2.0/12 CPUs, 0/0 GPUs, 0.0/4.27 GiB heap, 0.0/2.14 GiB objects<br>Current best trial: fd266_00004 with mean_accuracy=0.6409 and parameters={'layer1_out': 6, 'layer2_out': 12, 'batch': 16, 'lr': 0.0006340916205835722, 'momentum': 0.9115078952591047}<br>Result logdir: /Users/wenxindong/ray_results/train_asha<br>Number of trials: 16/16 (2 RUNNING, 14 TERMINATED)<br><br>"
      ],
      "text/plain": [
       "<IPython.core.display.HTML object>"
      ]
     },
     "metadata": {},
     "output_type": "display_data"
    },
    {
     "name": "stdout",
     "output_type": "stream",
     "text": [
      "Trial train_eval_model_fd266_00008 reported mean_accuracy=0.47 with parameters={'layer1_out': 12, 'layer2_out': 6, 'batch': 32, 'lr': 8.544767837258724e-05, 'momentum': 0.908650248796244}.\n"
     ]
    },
    {
     "data": {
      "text/html": [
       "== Status ==<br>Current time: 2021-12-02 21:02:10 (running for 00:15:37.87)<br>Memory usage on this node: 11.4/16.0 GiB<br>Using AsyncHyperBand: num_stopped=14\n",
       "Bracket: Iter 512.000: None | Iter 256.000: None | Iter 128.000: None | Iter 64.000: None | Iter 32.000: None | Iter 16.000: 0.4587 | Iter 8.000: 0.4291 | Iter 4.000: 0.24 | Iter 2.000: 0.10685<br>Resources requested: 2.0/12 CPUs, 0/0 GPUs, 0.0/4.27 GiB heap, 0.0/2.14 GiB objects<br>Current best trial: fd266_00004 with mean_accuracy=0.6409 and parameters={'layer1_out': 6, 'layer2_out': 12, 'batch': 16, 'lr': 0.0006340916205835722, 'momentum': 0.9115078952591047}<br>Result logdir: /Users/wenxindong/ray_results/train_asha<br>Number of trials: 16/16 (2 RUNNING, 14 TERMINATED)<br><br>"
      ],
      "text/plain": [
       "<IPython.core.display.HTML object>"
      ]
     },
     "metadata": {},
     "output_type": "display_data"
    },
    {
     "data": {
      "text/html": [
       "== Status ==<br>Current time: 2021-12-02 21:02:16 (running for 00:15:42.91)<br>Memory usage on this node: 11.5/16.0 GiB<br>Using AsyncHyperBand: num_stopped=14\n",
       "Bracket: Iter 512.000: None | Iter 256.000: None | Iter 128.000: None | Iter 64.000: None | Iter 32.000: None | Iter 16.000: 0.4587 | Iter 8.000: 0.4291 | Iter 4.000: 0.24 | Iter 2.000: 0.10685<br>Resources requested: 2.0/12 CPUs, 0/0 GPUs, 0.0/4.27 GiB heap, 0.0/2.14 GiB objects<br>Current best trial: fd266_00004 with mean_accuracy=0.6409 and parameters={'layer1_out': 6, 'layer2_out': 12, 'batch': 16, 'lr': 0.0006340916205835722, 'momentum': 0.9115078952591047}<br>Result logdir: /Users/wenxindong/ray_results/train_asha<br>Number of trials: 16/16 (2 RUNNING, 14 TERMINATED)<br><br>"
      ],
      "text/plain": [
       "<IPython.core.display.HTML object>"
      ]
     },
     "metadata": {},
     "output_type": "display_data"
    },
    {
     "name": "stdout",
     "output_type": "stream",
     "text": [
      "Trial train_eval_model_fd266_00004 reported mean_accuracy=0.64 with parameters={'layer1_out': 6, 'layer2_out': 12, 'batch': 16, 'lr': 0.0006340916205835722, 'momentum': 0.9115078952591047}.\n"
     ]
    },
    {
     "data": {
      "text/html": [
       "== Status ==<br>Current time: 2021-12-02 21:02:21 (running for 00:15:48.66)<br>Memory usage on this node: 11.5/16.0 GiB<br>Using AsyncHyperBand: num_stopped=14\n",
       "Bracket: Iter 512.000: None | Iter 256.000: None | Iter 128.000: None | Iter 64.000: None | Iter 32.000: None | Iter 16.000: 0.4587 | Iter 8.000: 0.4291 | Iter 4.000: 0.24 | Iter 2.000: 0.10685<br>Resources requested: 2.0/12 CPUs, 0/0 GPUs, 0.0/4.27 GiB heap, 0.0/2.14 GiB objects<br>Current best trial: fd266_00004 with mean_accuracy=0.6366 and parameters={'layer1_out': 6, 'layer2_out': 12, 'batch': 16, 'lr': 0.0006340916205835722, 'momentum': 0.9115078952591047}<br>Result logdir: /Users/wenxindong/ray_results/train_asha<br>Number of trials: 16/16 (2 RUNNING, 14 TERMINATED)<br><br>"
      ],
      "text/plain": [
       "<IPython.core.display.HTML object>"
      ]
     },
     "metadata": {},
     "output_type": "display_data"
    },
    {
     "data": {
      "text/html": [
       "== Status ==<br>Current time: 2021-12-02 21:02:26 (running for 00:15:53.69)<br>Memory usage on this node: 8.0/16.0 GiB<br>Using AsyncHyperBand: num_stopped=14\n",
       "Bracket: Iter 512.000: None | Iter 256.000: None | Iter 128.000: None | Iter 64.000: None | Iter 32.000: None | Iter 16.000: 0.4587 | Iter 8.000: 0.4291 | Iter 4.000: 0.24 | Iter 2.000: 0.10685<br>Resources requested: 2.0/12 CPUs, 0/0 GPUs, 0.0/4.27 GiB heap, 0.0/2.14 GiB objects<br>Current best trial: fd266_00004 with mean_accuracy=0.6366 and parameters={'layer1_out': 6, 'layer2_out': 12, 'batch': 16, 'lr': 0.0006340916205835722, 'momentum': 0.9115078952591047}<br>Result logdir: /Users/wenxindong/ray_results/train_asha<br>Number of trials: 16/16 (2 RUNNING, 14 TERMINATED)<br><br>"
      ],
      "text/plain": [
       "<IPython.core.display.HTML object>"
      ]
     },
     "metadata": {},
     "output_type": "display_data"
    },
    {
     "data": {
      "text/html": [
       "== Status ==<br>Current time: 2021-12-02 21:02:31 (running for 00:15:58.73)<br>Memory usage on this node: 8.0/16.0 GiB<br>Using AsyncHyperBand: num_stopped=14\n",
       "Bracket: Iter 512.000: None | Iter 256.000: None | Iter 128.000: None | Iter 64.000: None | Iter 32.000: None | Iter 16.000: 0.4587 | Iter 8.000: 0.4291 | Iter 4.000: 0.24 | Iter 2.000: 0.10685<br>Resources requested: 2.0/12 CPUs, 0/0 GPUs, 0.0/4.27 GiB heap, 0.0/2.14 GiB objects<br>Current best trial: fd266_00004 with mean_accuracy=0.6366 and parameters={'layer1_out': 6, 'layer2_out': 12, 'batch': 16, 'lr': 0.0006340916205835722, 'momentum': 0.9115078952591047}<br>Result logdir: /Users/wenxindong/ray_results/train_asha<br>Number of trials: 16/16 (2 RUNNING, 14 TERMINATED)<br><br>"
      ],
      "text/plain": [
       "<IPython.core.display.HTML object>"
      ]
     },
     "metadata": {},
     "output_type": "display_data"
    },
    {
     "name": "stdout",
     "output_type": "stream",
     "text": [
      "Trial train_eval_model_fd266_00008 reported mean_accuracy=0.47 with parameters={'layer1_out': 12, 'layer2_out': 6, 'batch': 32, 'lr': 8.544767837258724e-05, 'momentum': 0.908650248796244}.\n"
     ]
    },
    {
     "data": {
      "text/html": [
       "== Status ==<br>Current time: 2021-12-02 21:02:37 (running for 00:16:04.65)<br>Memory usage on this node: 8.1/16.0 GiB<br>Using AsyncHyperBand: num_stopped=14\n",
       "Bracket: Iter 512.000: None | Iter 256.000: None | Iter 128.000: None | Iter 64.000: None | Iter 32.000: None | Iter 16.000: 0.4587 | Iter 8.000: 0.4291 | Iter 4.000: 0.24 | Iter 2.000: 0.10685<br>Resources requested: 2.0/12 CPUs, 0/0 GPUs, 0.0/4.27 GiB heap, 0.0/2.14 GiB objects<br>Current best trial: fd266_00004 with mean_accuracy=0.6366 and parameters={'layer1_out': 6, 'layer2_out': 12, 'batch': 16, 'lr': 0.0006340916205835722, 'momentum': 0.9115078952591047}<br>Result logdir: /Users/wenxindong/ray_results/train_asha<br>Number of trials: 16/16 (2 RUNNING, 14 TERMINATED)<br><br>"
      ],
      "text/plain": [
       "<IPython.core.display.HTML object>"
      ]
     },
     "metadata": {},
     "output_type": "display_data"
    },
    {
     "data": {
      "text/html": [
       "== Status ==<br>Current time: 2021-12-02 21:02:42 (running for 00:16:09.69)<br>Memory usage on this node: 8.1/16.0 GiB<br>Using AsyncHyperBand: num_stopped=14\n",
       "Bracket: Iter 512.000: None | Iter 256.000: None | Iter 128.000: None | Iter 64.000: None | Iter 32.000: None | Iter 16.000: 0.4587 | Iter 8.000: 0.4291 | Iter 4.000: 0.24 | Iter 2.000: 0.10685<br>Resources requested: 2.0/12 CPUs, 0/0 GPUs, 0.0/4.27 GiB heap, 0.0/2.14 GiB objects<br>Current best trial: fd266_00004 with mean_accuracy=0.6366 and parameters={'layer1_out': 6, 'layer2_out': 12, 'batch': 16, 'lr': 0.0006340916205835722, 'momentum': 0.9115078952591047}<br>Result logdir: /Users/wenxindong/ray_results/train_asha<br>Number of trials: 16/16 (2 RUNNING, 14 TERMINATED)<br><br>"
      ],
      "text/plain": [
       "<IPython.core.display.HTML object>"
      ]
     },
     "metadata": {},
     "output_type": "display_data"
    },
    {
     "data": {
      "text/html": [
       "== Status ==<br>Current time: 2021-12-02 21:02:47 (running for 00:16:14.72)<br>Memory usage on this node: 8.1/16.0 GiB<br>Using AsyncHyperBand: num_stopped=14\n",
       "Bracket: Iter 512.000: None | Iter 256.000: None | Iter 128.000: None | Iter 64.000: None | Iter 32.000: None | Iter 16.000: 0.4587 | Iter 8.000: 0.4291 | Iter 4.000: 0.24 | Iter 2.000: 0.10685<br>Resources requested: 2.0/12 CPUs, 0/0 GPUs, 0.0/4.27 GiB heap, 0.0/2.14 GiB objects<br>Current best trial: fd266_00004 with mean_accuracy=0.6366 and parameters={'layer1_out': 6, 'layer2_out': 12, 'batch': 16, 'lr': 0.0006340916205835722, 'momentum': 0.9115078952591047}<br>Result logdir: /Users/wenxindong/ray_results/train_asha<br>Number of trials: 16/16 (2 RUNNING, 14 TERMINATED)<br><br>"
      ],
      "text/plain": [
       "<IPython.core.display.HTML object>"
      ]
     },
     "metadata": {},
     "output_type": "display_data"
    },
    {
     "name": "stdout",
     "output_type": "stream",
     "text": [
      "Trial train_eval_model_fd266_00004 reported mean_accuracy=0.64 with parameters={'layer1_out': 6, 'layer2_out': 12, 'batch': 16, 'lr': 0.0006340916205835722, 'momentum': 0.9115078952591047}.\n"
     ]
    },
    {
     "data": {
      "text/html": [
       "== Status ==<br>Current time: 2021-12-02 21:02:53 (running for 00:16:19.93)<br>Memory usage on this node: 8.2/16.0 GiB<br>Using AsyncHyperBand: num_stopped=14\n",
       "Bracket: Iter 512.000: None | Iter 256.000: None | Iter 128.000: None | Iter 64.000: None | Iter 32.000: None | Iter 16.000: 0.4587 | Iter 8.000: 0.4291 | Iter 4.000: 0.24 | Iter 2.000: 0.10685<br>Resources requested: 2.0/12 CPUs, 0/0 GPUs, 0.0/4.27 GiB heap, 0.0/2.14 GiB objects<br>Current best trial: fd266_00004 with mean_accuracy=0.6379 and parameters={'layer1_out': 6, 'layer2_out': 12, 'batch': 16, 'lr': 0.0006340916205835722, 'momentum': 0.9115078952591047}<br>Result logdir: /Users/wenxindong/ray_results/train_asha<br>Number of trials: 16/16 (2 RUNNING, 14 TERMINATED)<br><br>"
      ],
      "text/plain": [
       "<IPython.core.display.HTML object>"
      ]
     },
     "metadata": {},
     "output_type": "display_data"
    },
    {
     "data": {
      "text/html": [
       "== Status ==<br>Current time: 2021-12-02 21:02:58 (running for 00:16:24.95)<br>Memory usage on this node: 8.2/16.0 GiB<br>Using AsyncHyperBand: num_stopped=14\n",
       "Bracket: Iter 512.000: None | Iter 256.000: None | Iter 128.000: None | Iter 64.000: None | Iter 32.000: None | Iter 16.000: 0.4587 | Iter 8.000: 0.4291 | Iter 4.000: 0.24 | Iter 2.000: 0.10685<br>Resources requested: 2.0/12 CPUs, 0/0 GPUs, 0.0/4.27 GiB heap, 0.0/2.14 GiB objects<br>Current best trial: fd266_00004 with mean_accuracy=0.6379 and parameters={'layer1_out': 6, 'layer2_out': 12, 'batch': 16, 'lr': 0.0006340916205835722, 'momentum': 0.9115078952591047}<br>Result logdir: /Users/wenxindong/ray_results/train_asha<br>Number of trials: 16/16 (2 RUNNING, 14 TERMINATED)<br><br>"
      ],
      "text/plain": [
       "<IPython.core.display.HTML object>"
      ]
     },
     "metadata": {},
     "output_type": "display_data"
    },
    {
     "data": {
      "text/html": [
       "== Status ==<br>Current time: 2021-12-02 21:03:03 (running for 00:16:29.99)<br>Memory usage on this node: 8.7/16.0 GiB<br>Using AsyncHyperBand: num_stopped=14\n",
       "Bracket: Iter 512.000: None | Iter 256.000: None | Iter 128.000: None | Iter 64.000: None | Iter 32.000: None | Iter 16.000: 0.4587 | Iter 8.000: 0.4291 | Iter 4.000: 0.24 | Iter 2.000: 0.10685<br>Resources requested: 2.0/12 CPUs, 0/0 GPUs, 0.0/4.27 GiB heap, 0.0/2.14 GiB objects<br>Current best trial: fd266_00004 with mean_accuracy=0.6379 and parameters={'layer1_out': 6, 'layer2_out': 12, 'batch': 16, 'lr': 0.0006340916205835722, 'momentum': 0.9115078952591047}<br>Result logdir: /Users/wenxindong/ray_results/train_asha<br>Number of trials: 16/16 (2 RUNNING, 14 TERMINATED)<br><br>"
      ],
      "text/plain": [
       "<IPython.core.display.HTML object>"
      ]
     },
     "metadata": {},
     "output_type": "display_data"
    },
    {
     "name": "stdout",
     "output_type": "stream",
     "text": [
      "Trial train_eval_model_fd266_00008 reported mean_accuracy=0.48 with parameters={'layer1_out': 12, 'layer2_out': 6, 'batch': 32, 'lr': 8.544767837258724e-05, 'momentum': 0.908650248796244}.\n"
     ]
    },
    {
     "data": {
      "text/html": [
       "== Status ==<br>Current time: 2021-12-02 21:03:08 (running for 00:16:35.29)<br>Memory usage on this node: 9.1/16.0 GiB<br>Using AsyncHyperBand: num_stopped=14\n",
       "Bracket: Iter 512.000: None | Iter 256.000: None | Iter 128.000: None | Iter 64.000: None | Iter 32.000: None | Iter 16.000: 0.4587 | Iter 8.000: 0.4291 | Iter 4.000: 0.24 | Iter 2.000: 0.10685<br>Resources requested: 2.0/12 CPUs, 0/0 GPUs, 0.0/4.27 GiB heap, 0.0/2.14 GiB objects<br>Current best trial: fd266_00004 with mean_accuracy=0.6379 and parameters={'layer1_out': 6, 'layer2_out': 12, 'batch': 16, 'lr': 0.0006340916205835722, 'momentum': 0.9115078952591047}<br>Result logdir: /Users/wenxindong/ray_results/train_asha<br>Number of trials: 16/16 (2 RUNNING, 14 TERMINATED)<br><br>"
      ],
      "text/plain": [
       "<IPython.core.display.HTML object>"
      ]
     },
     "metadata": {},
     "output_type": "display_data"
    },
    {
     "data": {
      "text/html": [
       "== Status ==<br>Current time: 2021-12-02 21:03:13 (running for 00:16:40.34)<br>Memory usage on this node: 9.1/16.0 GiB<br>Using AsyncHyperBand: num_stopped=14\n",
       "Bracket: Iter 512.000: None | Iter 256.000: None | Iter 128.000: None | Iter 64.000: None | Iter 32.000: None | Iter 16.000: 0.4587 | Iter 8.000: 0.4291 | Iter 4.000: 0.24 | Iter 2.000: 0.10685<br>Resources requested: 2.0/12 CPUs, 0/0 GPUs, 0.0/4.27 GiB heap, 0.0/2.14 GiB objects<br>Current best trial: fd266_00004 with mean_accuracy=0.6379 and parameters={'layer1_out': 6, 'layer2_out': 12, 'batch': 16, 'lr': 0.0006340916205835722, 'momentum': 0.9115078952591047}<br>Result logdir: /Users/wenxindong/ray_results/train_asha<br>Number of trials: 16/16 (2 RUNNING, 14 TERMINATED)<br><br>"
      ],
      "text/plain": [
       "<IPython.core.display.HTML object>"
      ]
     },
     "metadata": {},
     "output_type": "display_data"
    },
    {
     "data": {
      "text/html": [
       "== Status ==<br>Current time: 2021-12-02 21:03:18 (running for 00:16:45.37)<br>Memory usage on this node: 9.3/16.0 GiB<br>Using AsyncHyperBand: num_stopped=14\n",
       "Bracket: Iter 512.000: None | Iter 256.000: None | Iter 128.000: None | Iter 64.000: None | Iter 32.000: None | Iter 16.000: 0.4587 | Iter 8.000: 0.4291 | Iter 4.000: 0.24 | Iter 2.000: 0.10685<br>Resources requested: 2.0/12 CPUs, 0/0 GPUs, 0.0/4.27 GiB heap, 0.0/2.14 GiB objects<br>Current best trial: fd266_00004 with mean_accuracy=0.6379 and parameters={'layer1_out': 6, 'layer2_out': 12, 'batch': 16, 'lr': 0.0006340916205835722, 'momentum': 0.9115078952591047}<br>Result logdir: /Users/wenxindong/ray_results/train_asha<br>Number of trials: 16/16 (2 RUNNING, 14 TERMINATED)<br><br>"
      ],
      "text/plain": [
       "<IPython.core.display.HTML object>"
      ]
     },
     "metadata": {},
     "output_type": "display_data"
    },
    {
     "name": "stdout",
     "output_type": "stream",
     "text": [
      "Trial train_eval_model_fd266_00004 reported mean_accuracy=0.64 with parameters={'layer1_out': 6, 'layer2_out': 12, 'batch': 16, 'lr': 0.0006340916205835722, 'momentum': 0.9115078952591047}.\n"
     ]
    },
    {
     "data": {
      "text/html": [
       "== Status ==<br>Current time: 2021-12-02 21:03:24 (running for 00:16:51.06)<br>Memory usage on this node: 9.4/16.0 GiB<br>Using AsyncHyperBand: num_stopped=14\n",
       "Bracket: Iter 512.000: None | Iter 256.000: None | Iter 128.000: None | Iter 64.000: None | Iter 32.000: None | Iter 16.000: 0.548 | Iter 8.000: 0.4291 | Iter 4.000: 0.24 | Iter 2.000: 0.10685<br>Resources requested: 2.0/12 CPUs, 0/0 GPUs, 0.0/4.27 GiB heap, 0.0/2.14 GiB objects<br>Current best trial: fd266_00004 with mean_accuracy=0.6373 and parameters={'layer1_out': 6, 'layer2_out': 12, 'batch': 16, 'lr': 0.0006340916205835722, 'momentum': 0.9115078952591047}<br>Result logdir: /Users/wenxindong/ray_results/train_asha<br>Number of trials: 16/16 (2 RUNNING, 14 TERMINATED)<br><br>"
      ],
      "text/plain": [
       "<IPython.core.display.HTML object>"
      ]
     },
     "metadata": {},
     "output_type": "display_data"
    },
    {
     "data": {
      "text/html": [
       "== Status ==<br>Current time: 2021-12-02 21:03:29 (running for 00:16:56.09)<br>Memory usage on this node: 9.5/16.0 GiB<br>Using AsyncHyperBand: num_stopped=14\n",
       "Bracket: Iter 512.000: None | Iter 256.000: None | Iter 128.000: None | Iter 64.000: None | Iter 32.000: None | Iter 16.000: 0.548 | Iter 8.000: 0.4291 | Iter 4.000: 0.24 | Iter 2.000: 0.10685<br>Resources requested: 2.0/12 CPUs, 0/0 GPUs, 0.0/4.27 GiB heap, 0.0/2.14 GiB objects<br>Current best trial: fd266_00004 with mean_accuracy=0.6373 and parameters={'layer1_out': 6, 'layer2_out': 12, 'batch': 16, 'lr': 0.0006340916205835722, 'momentum': 0.9115078952591047}<br>Result logdir: /Users/wenxindong/ray_results/train_asha<br>Number of trials: 16/16 (2 RUNNING, 14 TERMINATED)<br><br>"
      ],
      "text/plain": [
       "<IPython.core.display.HTML object>"
      ]
     },
     "metadata": {},
     "output_type": "display_data"
    },
    {
     "data": {
      "text/html": [
       "== Status ==<br>Current time: 2021-12-02 21:03:34 (running for 00:17:01.13)<br>Memory usage on this node: 9.5/16.0 GiB<br>Using AsyncHyperBand: num_stopped=14\n",
       "Bracket: Iter 512.000: None | Iter 256.000: None | Iter 128.000: None | Iter 64.000: None | Iter 32.000: None | Iter 16.000: 0.548 | Iter 8.000: 0.4291 | Iter 4.000: 0.24 | Iter 2.000: 0.10685<br>Resources requested: 2.0/12 CPUs, 0/0 GPUs, 0.0/4.27 GiB heap, 0.0/2.14 GiB objects<br>Current best trial: fd266_00004 with mean_accuracy=0.6373 and parameters={'layer1_out': 6, 'layer2_out': 12, 'batch': 16, 'lr': 0.0006340916205835722, 'momentum': 0.9115078952591047}<br>Result logdir: /Users/wenxindong/ray_results/train_asha<br>Number of trials: 16/16 (2 RUNNING, 14 TERMINATED)<br><br>"
      ],
      "text/plain": [
       "<IPython.core.display.HTML object>"
      ]
     },
     "metadata": {},
     "output_type": "display_data"
    },
    {
     "name": "stdout",
     "output_type": "stream",
     "text": [
      "Trial train_eval_model_fd266_00008 reported mean_accuracy=0.49 with parameters={'layer1_out': 12, 'layer2_out': 6, 'batch': 32, 'lr': 8.544767837258724e-05, 'momentum': 0.908650248796244}. This trial completed.\n"
     ]
    },
    {
     "data": {
      "text/html": [
       "== Status ==<br>Current time: 2021-12-02 21:03:39 (running for 00:17:06.74)<br>Memory usage on this node: 9.3/16.0 GiB<br>Using AsyncHyperBand: num_stopped=14\n",
       "Bracket: Iter 512.000: None | Iter 256.000: None | Iter 128.000: None | Iter 64.000: None | Iter 32.000: None | Iter 16.000: 0.548 | Iter 8.000: 0.4291 | Iter 4.000: 0.24 | Iter 2.000: 0.10685<br>Resources requested: 1.0/12 CPUs, 0/0 GPUs, 0.0/4.27 GiB heap, 0.0/2.14 GiB objects<br>Current best trial: fd266_00004 with mean_accuracy=0.6373 and parameters={'layer1_out': 6, 'layer2_out': 12, 'batch': 16, 'lr': 0.0006340916205835722, 'momentum': 0.9115078952591047}<br>Result logdir: /Users/wenxindong/ray_results/train_asha<br>Number of trials: 16/16 (1 RUNNING, 15 TERMINATED)<br><br>"
      ],
      "text/plain": [
       "<IPython.core.display.HTML object>"
      ]
     },
     "metadata": {},
     "output_type": "display_data"
    },
    {
     "data": {
      "text/html": [
       "== Status ==<br>Current time: 2021-12-02 21:03:44 (running for 00:17:11.79)<br>Memory usage on this node: 9.4/16.0 GiB<br>Using AsyncHyperBand: num_stopped=14\n",
       "Bracket: Iter 512.000: None | Iter 256.000: None | Iter 128.000: None | Iter 64.000: None | Iter 32.000: None | Iter 16.000: 0.548 | Iter 8.000: 0.4291 | Iter 4.000: 0.24 | Iter 2.000: 0.10685<br>Resources requested: 1.0/12 CPUs, 0/0 GPUs, 0.0/4.27 GiB heap, 0.0/2.14 GiB objects<br>Current best trial: fd266_00004 with mean_accuracy=0.6373 and parameters={'layer1_out': 6, 'layer2_out': 12, 'batch': 16, 'lr': 0.0006340916205835722, 'momentum': 0.9115078952591047}<br>Result logdir: /Users/wenxindong/ray_results/train_asha<br>Number of trials: 16/16 (1 RUNNING, 15 TERMINATED)<br><br>"
      ],
      "text/plain": [
       "<IPython.core.display.HTML object>"
      ]
     },
     "metadata": {},
     "output_type": "display_data"
    },
    {
     "name": "stdout",
     "output_type": "stream",
     "text": [
      "Trial train_eval_model_fd266_00004 reported mean_accuracy=0.63 with parameters={'layer1_out': 6, 'layer2_out': 12, 'batch': 16, 'lr': 0.0006340916205835722, 'momentum': 0.9115078952591047}.\n"
     ]
    },
    {
     "data": {
      "text/html": [
       "== Status ==<br>Current time: 2021-12-02 21:03:50 (running for 00:17:17.25)<br>Memory usage on this node: 9.4/16.0 GiB<br>Using AsyncHyperBand: num_stopped=14\n",
       "Bracket: Iter 512.000: None | Iter 256.000: None | Iter 128.000: None | Iter 64.000: None | Iter 32.000: None | Iter 16.000: 0.548 | Iter 8.000: 0.4291 | Iter 4.000: 0.24 | Iter 2.000: 0.10685<br>Resources requested: 1.0/12 CPUs, 0/0 GPUs, 0.0/4.27 GiB heap, 0.0/2.14 GiB objects<br>Current best trial: fd266_00004 with mean_accuracy=0.6275 and parameters={'layer1_out': 6, 'layer2_out': 12, 'batch': 16, 'lr': 0.0006340916205835722, 'momentum': 0.9115078952591047}<br>Result logdir: /Users/wenxindong/ray_results/train_asha<br>Number of trials: 16/16 (1 RUNNING, 15 TERMINATED)<br><br>"
      ],
      "text/plain": [
       "<IPython.core.display.HTML object>"
      ]
     },
     "metadata": {},
     "output_type": "display_data"
    },
    {
     "data": {
      "text/html": [
       "== Status ==<br>Current time: 2021-12-02 21:03:55 (running for 00:17:22.29)<br>Memory usage on this node: 9.4/16.0 GiB<br>Using AsyncHyperBand: num_stopped=14\n",
       "Bracket: Iter 512.000: None | Iter 256.000: None | Iter 128.000: None | Iter 64.000: None | Iter 32.000: None | Iter 16.000: 0.548 | Iter 8.000: 0.4291 | Iter 4.000: 0.24 | Iter 2.000: 0.10685<br>Resources requested: 1.0/12 CPUs, 0/0 GPUs, 0.0/4.27 GiB heap, 0.0/2.14 GiB objects<br>Current best trial: fd266_00004 with mean_accuracy=0.6275 and parameters={'layer1_out': 6, 'layer2_out': 12, 'batch': 16, 'lr': 0.0006340916205835722, 'momentum': 0.9115078952591047}<br>Result logdir: /Users/wenxindong/ray_results/train_asha<br>Number of trials: 16/16 (1 RUNNING, 15 TERMINATED)<br><br>"
      ],
      "text/plain": [
       "<IPython.core.display.HTML object>"
      ]
     },
     "metadata": {},
     "output_type": "display_data"
    },
    {
     "data": {
      "text/html": [
       "== Status ==<br>Current time: 2021-12-02 21:04:00 (running for 00:17:27.33)<br>Memory usage on this node: 9.4/16.0 GiB<br>Using AsyncHyperBand: num_stopped=14\n",
       "Bracket: Iter 512.000: None | Iter 256.000: None | Iter 128.000: None | Iter 64.000: None | Iter 32.000: None | Iter 16.000: 0.548 | Iter 8.000: 0.4291 | Iter 4.000: 0.24 | Iter 2.000: 0.10685<br>Resources requested: 1.0/12 CPUs, 0/0 GPUs, 0.0/4.27 GiB heap, 0.0/2.14 GiB objects<br>Current best trial: fd266_00004 with mean_accuracy=0.6275 and parameters={'layer1_out': 6, 'layer2_out': 12, 'batch': 16, 'lr': 0.0006340916205835722, 'momentum': 0.9115078952591047}<br>Result logdir: /Users/wenxindong/ray_results/train_asha<br>Number of trials: 16/16 (1 RUNNING, 15 TERMINATED)<br><br>"
      ],
      "text/plain": [
       "<IPython.core.display.HTML object>"
      ]
     },
     "metadata": {},
     "output_type": "display_data"
    },
    {
     "data": {
      "text/html": [
       "== Status ==<br>Current time: 2021-12-02 21:04:05 (running for 00:17:32.37)<br>Memory usage on this node: 9.4/16.0 GiB<br>Using AsyncHyperBand: num_stopped=14\n",
       "Bracket: Iter 512.000: None | Iter 256.000: None | Iter 128.000: None | Iter 64.000: None | Iter 32.000: None | Iter 16.000: 0.548 | Iter 8.000: 0.4291 | Iter 4.000: 0.24 | Iter 2.000: 0.10685<br>Resources requested: 1.0/12 CPUs, 0/0 GPUs, 0.0/4.27 GiB heap, 0.0/2.14 GiB objects<br>Current best trial: fd266_00004 with mean_accuracy=0.6275 and parameters={'layer1_out': 6, 'layer2_out': 12, 'batch': 16, 'lr': 0.0006340916205835722, 'momentum': 0.9115078952591047}<br>Result logdir: /Users/wenxindong/ray_results/train_asha<br>Number of trials: 16/16 (1 RUNNING, 15 TERMINATED)<br><br>"
      ],
      "text/plain": [
       "<IPython.core.display.HTML object>"
      ]
     },
     "metadata": {},
     "output_type": "display_data"
    },
    {
     "data": {
      "text/html": [
       "== Status ==<br>Current time: 2021-12-02 21:04:10 (running for 00:17:37.41)<br>Memory usage on this node: 9.4/16.0 GiB<br>Using AsyncHyperBand: num_stopped=14\n",
       "Bracket: Iter 512.000: None | Iter 256.000: None | Iter 128.000: None | Iter 64.000: None | Iter 32.000: None | Iter 16.000: 0.548 | Iter 8.000: 0.4291 | Iter 4.000: 0.24 | Iter 2.000: 0.10685<br>Resources requested: 1.0/12 CPUs, 0/0 GPUs, 0.0/4.27 GiB heap, 0.0/2.14 GiB objects<br>Current best trial: fd266_00004 with mean_accuracy=0.6275 and parameters={'layer1_out': 6, 'layer2_out': 12, 'batch': 16, 'lr': 0.0006340916205835722, 'momentum': 0.9115078952591047}<br>Result logdir: /Users/wenxindong/ray_results/train_asha<br>Number of trials: 16/16 (1 RUNNING, 15 TERMINATED)<br><br>"
      ],
      "text/plain": [
       "<IPython.core.display.HTML object>"
      ]
     },
     "metadata": {},
     "output_type": "display_data"
    },
    {
     "name": "stdout",
     "output_type": "stream",
     "text": [
      "Trial train_eval_model_fd266_00004 reported mean_accuracy=0.63 with parameters={'layer1_out': 6, 'layer2_out': 12, 'batch': 16, 'lr': 0.0006340916205835722, 'momentum': 0.9115078952591047}.\n"
     ]
    },
    {
     "data": {
      "text/html": [
       "== Status ==<br>Current time: 2021-12-02 21:04:15 (running for 00:17:42.61)<br>Memory usage on this node: 9.5/16.0 GiB<br>Using AsyncHyperBand: num_stopped=14\n",
       "Bracket: Iter 512.000: None | Iter 256.000: None | Iter 128.000: None | Iter 64.000: None | Iter 32.000: None | Iter 16.000: 0.548 | Iter 8.000: 0.4291 | Iter 4.000: 0.24 | Iter 2.000: 0.10685<br>Resources requested: 1.0/12 CPUs, 0/0 GPUs, 0.0/4.27 GiB heap, 0.0/2.14 GiB objects<br>Current best trial: fd266_00004 with mean_accuracy=0.6314 and parameters={'layer1_out': 6, 'layer2_out': 12, 'batch': 16, 'lr': 0.0006340916205835722, 'momentum': 0.9115078952591047}<br>Result logdir: /Users/wenxindong/ray_results/train_asha<br>Number of trials: 16/16 (1 RUNNING, 15 TERMINATED)<br><br>"
      ],
      "text/plain": [
       "<IPython.core.display.HTML object>"
      ]
     },
     "metadata": {},
     "output_type": "display_data"
    },
    {
     "data": {
      "text/html": [
       "== Status ==<br>Current time: 2021-12-02 21:04:20 (running for 00:17:47.64)<br>Memory usage on this node: 9.5/16.0 GiB<br>Using AsyncHyperBand: num_stopped=14\n",
       "Bracket: Iter 512.000: None | Iter 256.000: None | Iter 128.000: None | Iter 64.000: None | Iter 32.000: None | Iter 16.000: 0.548 | Iter 8.000: 0.4291 | Iter 4.000: 0.24 | Iter 2.000: 0.10685<br>Resources requested: 1.0/12 CPUs, 0/0 GPUs, 0.0/4.27 GiB heap, 0.0/2.14 GiB objects<br>Current best trial: fd266_00004 with mean_accuracy=0.6314 and parameters={'layer1_out': 6, 'layer2_out': 12, 'batch': 16, 'lr': 0.0006340916205835722, 'momentum': 0.9115078952591047}<br>Result logdir: /Users/wenxindong/ray_results/train_asha<br>Number of trials: 16/16 (1 RUNNING, 15 TERMINATED)<br><br>"
      ],
      "text/plain": [
       "<IPython.core.display.HTML object>"
      ]
     },
     "metadata": {},
     "output_type": "display_data"
    },
    {
     "data": {
      "text/html": [
       "== Status ==<br>Current time: 2021-12-02 21:04:25 (running for 00:17:52.68)<br>Memory usage on this node: 9.5/16.0 GiB<br>Using AsyncHyperBand: num_stopped=14\n",
       "Bracket: Iter 512.000: None | Iter 256.000: None | Iter 128.000: None | Iter 64.000: None | Iter 32.000: None | Iter 16.000: 0.548 | Iter 8.000: 0.4291 | Iter 4.000: 0.24 | Iter 2.000: 0.10685<br>Resources requested: 1.0/12 CPUs, 0/0 GPUs, 0.0/4.27 GiB heap, 0.0/2.14 GiB objects<br>Current best trial: fd266_00004 with mean_accuracy=0.6314 and parameters={'layer1_out': 6, 'layer2_out': 12, 'batch': 16, 'lr': 0.0006340916205835722, 'momentum': 0.9115078952591047}<br>Result logdir: /Users/wenxindong/ray_results/train_asha<br>Number of trials: 16/16 (1 RUNNING, 15 TERMINATED)<br><br>"
      ],
      "text/plain": [
       "<IPython.core.display.HTML object>"
      ]
     },
     "metadata": {},
     "output_type": "display_data"
    },
    {
     "data": {
      "text/html": [
       "== Status ==<br>Current time: 2021-12-02 21:04:30 (running for 00:17:57.71)<br>Memory usage on this node: 9.5/16.0 GiB<br>Using AsyncHyperBand: num_stopped=14\n",
       "Bracket: Iter 512.000: None | Iter 256.000: None | Iter 128.000: None | Iter 64.000: None | Iter 32.000: None | Iter 16.000: 0.548 | Iter 8.000: 0.4291 | Iter 4.000: 0.24 | Iter 2.000: 0.10685<br>Resources requested: 1.0/12 CPUs, 0/0 GPUs, 0.0/4.27 GiB heap, 0.0/2.14 GiB objects<br>Current best trial: fd266_00004 with mean_accuracy=0.6314 and parameters={'layer1_out': 6, 'layer2_out': 12, 'batch': 16, 'lr': 0.0006340916205835722, 'momentum': 0.9115078952591047}<br>Result logdir: /Users/wenxindong/ray_results/train_asha<br>Number of trials: 16/16 (1 RUNNING, 15 TERMINATED)<br><br>"
      ],
      "text/plain": [
       "<IPython.core.display.HTML object>"
      ]
     },
     "metadata": {},
     "output_type": "display_data"
    },
    {
     "data": {
      "text/html": [
       "== Status ==<br>Current time: 2021-12-02 21:04:35 (running for 00:18:02.74)<br>Memory usage on this node: 9.5/16.0 GiB<br>Using AsyncHyperBand: num_stopped=14\n",
       "Bracket: Iter 512.000: None | Iter 256.000: None | Iter 128.000: None | Iter 64.000: None | Iter 32.000: None | Iter 16.000: 0.548 | Iter 8.000: 0.4291 | Iter 4.000: 0.24 | Iter 2.000: 0.10685<br>Resources requested: 1.0/12 CPUs, 0/0 GPUs, 0.0/4.27 GiB heap, 0.0/2.14 GiB objects<br>Current best trial: fd266_00004 with mean_accuracy=0.6314 and parameters={'layer1_out': 6, 'layer2_out': 12, 'batch': 16, 'lr': 0.0006340916205835722, 'momentum': 0.9115078952591047}<br>Result logdir: /Users/wenxindong/ray_results/train_asha<br>Number of trials: 16/16 (1 RUNNING, 15 TERMINATED)<br><br>"
      ],
      "text/plain": [
       "<IPython.core.display.HTML object>"
      ]
     },
     "metadata": {},
     "output_type": "display_data"
    },
    {
     "name": "stdout",
     "output_type": "stream",
     "text": [
      "Trial train_eval_model_fd266_00004 reported mean_accuracy=0.63 with parameters={'layer1_out': 6, 'layer2_out': 12, 'batch': 16, 'lr': 0.0006340916205835722, 'momentum': 0.9115078952591047}.\n"
     ]
    },
    {
     "data": {
      "text/html": [
       "== Status ==<br>Current time: 2021-12-02 21:04:41 (running for 00:18:08.01)<br>Memory usage on this node: 9.6/16.0 GiB<br>Using AsyncHyperBand: num_stopped=14\n",
       "Bracket: Iter 512.000: None | Iter 256.000: None | Iter 128.000: None | Iter 64.000: None | Iter 32.000: None | Iter 16.000: 0.548 | Iter 8.000: 0.4291 | Iter 4.000: 0.24 | Iter 2.000: 0.10685<br>Resources requested: 1.0/12 CPUs, 0/0 GPUs, 0.0/4.27 GiB heap, 0.0/2.14 GiB objects<br>Current best trial: fd266_00004 with mean_accuracy=0.6283 and parameters={'layer1_out': 6, 'layer2_out': 12, 'batch': 16, 'lr': 0.0006340916205835722, 'momentum': 0.9115078952591047}<br>Result logdir: /Users/wenxindong/ray_results/train_asha<br>Number of trials: 16/16 (1 RUNNING, 15 TERMINATED)<br><br>"
      ],
      "text/plain": [
       "<IPython.core.display.HTML object>"
      ]
     },
     "metadata": {},
     "output_type": "display_data"
    },
    {
     "data": {
      "text/html": [
       "== Status ==<br>Current time: 2021-12-02 21:04:46 (running for 00:18:13.05)<br>Memory usage on this node: 9.6/16.0 GiB<br>Using AsyncHyperBand: num_stopped=14\n",
       "Bracket: Iter 512.000: None | Iter 256.000: None | Iter 128.000: None | Iter 64.000: None | Iter 32.000: None | Iter 16.000: 0.548 | Iter 8.000: 0.4291 | Iter 4.000: 0.24 | Iter 2.000: 0.10685<br>Resources requested: 1.0/12 CPUs, 0/0 GPUs, 0.0/4.27 GiB heap, 0.0/2.14 GiB objects<br>Current best trial: fd266_00004 with mean_accuracy=0.6283 and parameters={'layer1_out': 6, 'layer2_out': 12, 'batch': 16, 'lr': 0.0006340916205835722, 'momentum': 0.9115078952591047}<br>Result logdir: /Users/wenxindong/ray_results/train_asha<br>Number of trials: 16/16 (1 RUNNING, 15 TERMINATED)<br><br>"
      ],
      "text/plain": [
       "<IPython.core.display.HTML object>"
      ]
     },
     "metadata": {},
     "output_type": "display_data"
    },
    {
     "data": {
      "text/html": [
       "== Status ==<br>Current time: 2021-12-02 21:04:51 (running for 00:18:18.09)<br>Memory usage on this node: 9.6/16.0 GiB<br>Using AsyncHyperBand: num_stopped=14\n",
       "Bracket: Iter 512.000: None | Iter 256.000: None | Iter 128.000: None | Iter 64.000: None | Iter 32.000: None | Iter 16.000: 0.548 | Iter 8.000: 0.4291 | Iter 4.000: 0.24 | Iter 2.000: 0.10685<br>Resources requested: 1.0/12 CPUs, 0/0 GPUs, 0.0/4.27 GiB heap, 0.0/2.14 GiB objects<br>Current best trial: fd266_00004 with mean_accuracy=0.6283 and parameters={'layer1_out': 6, 'layer2_out': 12, 'batch': 16, 'lr': 0.0006340916205835722, 'momentum': 0.9115078952591047}<br>Result logdir: /Users/wenxindong/ray_results/train_asha<br>Number of trials: 16/16 (1 RUNNING, 15 TERMINATED)<br><br>"
      ],
      "text/plain": [
       "<IPython.core.display.HTML object>"
      ]
     },
     "metadata": {},
     "output_type": "display_data"
    },
    {
     "data": {
      "text/html": [
       "== Status ==<br>Current time: 2021-12-02 21:04:56 (running for 00:18:23.11)<br>Memory usage on this node: 9.6/16.0 GiB<br>Using AsyncHyperBand: num_stopped=14\n",
       "Bracket: Iter 512.000: None | Iter 256.000: None | Iter 128.000: None | Iter 64.000: None | Iter 32.000: None | Iter 16.000: 0.548 | Iter 8.000: 0.4291 | Iter 4.000: 0.24 | Iter 2.000: 0.10685<br>Resources requested: 1.0/12 CPUs, 0/0 GPUs, 0.0/4.27 GiB heap, 0.0/2.14 GiB objects<br>Current best trial: fd266_00004 with mean_accuracy=0.6283 and parameters={'layer1_out': 6, 'layer2_out': 12, 'batch': 16, 'lr': 0.0006340916205835722, 'momentum': 0.9115078952591047}<br>Result logdir: /Users/wenxindong/ray_results/train_asha<br>Number of trials: 16/16 (1 RUNNING, 15 TERMINATED)<br><br>"
      ],
      "text/plain": [
       "<IPython.core.display.HTML object>"
      ]
     },
     "metadata": {},
     "output_type": "display_data"
    },
    {
     "data": {
      "text/html": [
       "== Status ==<br>Current time: 2021-12-02 21:05:01 (running for 00:18:28.15)<br>Memory usage on this node: 9.6/16.0 GiB<br>Using AsyncHyperBand: num_stopped=14\n",
       "Bracket: Iter 512.000: None | Iter 256.000: None | Iter 128.000: None | Iter 64.000: None | Iter 32.000: None | Iter 16.000: 0.548 | Iter 8.000: 0.4291 | Iter 4.000: 0.24 | Iter 2.000: 0.10685<br>Resources requested: 1.0/12 CPUs, 0/0 GPUs, 0.0/4.27 GiB heap, 0.0/2.14 GiB objects<br>Current best trial: fd266_00004 with mean_accuracy=0.6283 and parameters={'layer1_out': 6, 'layer2_out': 12, 'batch': 16, 'lr': 0.0006340916205835722, 'momentum': 0.9115078952591047}<br>Result logdir: /Users/wenxindong/ray_results/train_asha<br>Number of trials: 16/16 (1 RUNNING, 15 TERMINATED)<br><br>"
      ],
      "text/plain": [
       "<IPython.core.display.HTML object>"
      ]
     },
     "metadata": {},
     "output_type": "display_data"
    },
    {
     "name": "stdout",
     "output_type": "stream",
     "text": [
      "Trial train_eval_model_fd266_00004 reported mean_accuracy=0.62 with parameters={'layer1_out': 6, 'layer2_out': 12, 'batch': 16, 'lr': 0.0006340916205835722, 'momentum': 0.9115078952591047}. This trial completed.\n"
     ]
    },
    {
     "data": {
      "text/html": [
       "== Status ==<br>Current time: 2021-12-02 21:05:02 (running for 00:18:29.32)<br>Memory usage on this node: 9.5/16.0 GiB<br>Using AsyncHyperBand: num_stopped=14\n",
       "Bracket: Iter 512.000: None | Iter 256.000: None | Iter 128.000: None | Iter 64.000: None | Iter 32.000: None | Iter 16.000: 0.548 | Iter 8.000: 0.4291 | Iter 4.000: 0.24 | Iter 2.000: 0.10685<br>Resources requested: 0/12 CPUs, 0/0 GPUs, 0.0/4.27 GiB heap, 0.0/2.14 GiB objects<br>Current best trial: fd266_00004 with mean_accuracy=0.6231 and parameters={'layer1_out': 6, 'layer2_out': 12, 'batch': 16, 'lr': 0.0006340916205835722, 'momentum': 0.9115078952591047}<br>Result logdir: /Users/wenxindong/ray_results/train_asha<br>Number of trials: 16/16 (16 TERMINATED)<br><table>\n",
       "<thead>\n",
       "<tr><th>Trial name                  </th><th>status    </th><th>loc            </th><th style=\"text-align: right;\">  batch</th><th style=\"text-align: right;\">  layer1_out</th><th style=\"text-align: right;\">  layer2_out</th><th style=\"text-align: right;\">         lr</th><th style=\"text-align: right;\">  momentum</th><th style=\"text-align: right;\">   acc</th><th style=\"text-align: right;\">  iter</th><th style=\"text-align: right;\">  total time (s)</th><th style=\"text-align: right;\">  iterations</th></tr>\n",
       "</thead>\n",
       "<tbody>\n",
       "<tr><td>train_eval_model_fd266_00000</td><td>TERMINATED</td><td>127.0.0.1:74702</td><td style=\"text-align: right;\">     64</td><td style=\"text-align: right;\">           6</td><td style=\"text-align: right;\">           6</td><td style=\"text-align: right;\">0.000149112</td><td style=\"text-align: right;\">  0.949282</td><td style=\"text-align: right;\">0.2006</td><td style=\"text-align: right;\">     4</td><td style=\"text-align: right;\">         520.256</td><td style=\"text-align: right;\">           4</td></tr>\n",
       "<tr><td>train_eval_model_fd266_00001</td><td>TERMINATED</td><td>127.0.0.1:74706</td><td style=\"text-align: right;\">     64</td><td style=\"text-align: right;\">           3</td><td style=\"text-align: right;\">           3</td><td style=\"text-align: right;\">3.10277e-05</td><td style=\"text-align: right;\">  0.919   </td><td style=\"text-align: right;\">0.1   </td><td style=\"text-align: right;\">     2</td><td style=\"text-align: right;\">         378.359</td><td style=\"text-align: right;\">           2</td></tr>\n",
       "<tr><td>train_eval_model_fd266_00002</td><td>TERMINATED</td><td>127.0.0.1:74697</td><td style=\"text-align: right;\">     64</td><td style=\"text-align: right;\">           6</td><td style=\"text-align: right;\">          12</td><td style=\"text-align: right;\">5.3333e-05 </td><td style=\"text-align: right;\">  0.884488</td><td style=\"text-align: right;\">0.1103</td><td style=\"text-align: right;\">     2</td><td style=\"text-align: right;\">         323.918</td><td style=\"text-align: right;\">           2</td></tr>\n",
       "<tr><td>train_eval_model_fd266_00003</td><td>TERMINATED</td><td>127.0.0.1:74704</td><td style=\"text-align: right;\">    128</td><td style=\"text-align: right;\">          12</td><td style=\"text-align: right;\">           6</td><td style=\"text-align: right;\">2.0559e-05 </td><td style=\"text-align: right;\">  0.881895</td><td style=\"text-align: right;\">0.0952</td><td style=\"text-align: right;\">     2</td><td style=\"text-align: right;\">         463.478</td><td style=\"text-align: right;\">           2</td></tr>\n",
       "<tr><td>train_eval_model_fd266_00004</td><td>TERMINATED</td><td>127.0.0.1:74703</td><td style=\"text-align: right;\">     16</td><td style=\"text-align: right;\">           6</td><td style=\"text-align: right;\">          12</td><td style=\"text-align: right;\">0.000634092</td><td style=\"text-align: right;\">  0.911508</td><td style=\"text-align: right;\">0.6231</td><td style=\"text-align: right;\">    20</td><td style=\"text-align: right;\">        1105.65 </td><td style=\"text-align: right;\">          20</td></tr>\n",
       "<tr><td>train_eval_model_fd266_00005</td><td>TERMINATED</td><td>127.0.0.1:74699</td><td style=\"text-align: right;\">    128</td><td style=\"text-align: right;\">           3</td><td style=\"text-align: right;\">           3</td><td style=\"text-align: right;\">5.1491e-05 </td><td style=\"text-align: right;\">  0.883399</td><td style=\"text-align: right;\">0.1   </td><td style=\"text-align: right;\">     2</td><td style=\"text-align: right;\">         397.814</td><td style=\"text-align: right;\">           2</td></tr>\n",
       "<tr><td>train_eval_model_fd266_00006</td><td>TERMINATED</td><td>127.0.0.1:74698</td><td style=\"text-align: right;\">     16</td><td style=\"text-align: right;\">           3</td><td style=\"text-align: right;\">          12</td><td style=\"text-align: right;\">1.97539e-05</td><td style=\"text-align: right;\">  0.914488</td><td style=\"text-align: right;\">0.103 </td><td style=\"text-align: right;\">     2</td><td style=\"text-align: right;\">         451.036</td><td style=\"text-align: right;\">           2</td></tr>\n",
       "<tr><td>train_eval_model_fd266_00007</td><td>TERMINATED</td><td>127.0.0.1:74705</td><td style=\"text-align: right;\">    128</td><td style=\"text-align: right;\">          12</td><td style=\"text-align: right;\">           6</td><td style=\"text-align: right;\">0.000177317</td><td style=\"text-align: right;\">  0.917316</td><td style=\"text-align: right;\">0.1   </td><td style=\"text-align: right;\">     2</td><td style=\"text-align: right;\">         492.159</td><td style=\"text-align: right;\">           2</td></tr>\n",
       "<tr><td>train_eval_model_fd266_00008</td><td>TERMINATED</td><td>127.0.0.1:74696</td><td style=\"text-align: right;\">     32</td><td style=\"text-align: right;\">          12</td><td style=\"text-align: right;\">           6</td><td style=\"text-align: right;\">8.54477e-05</td><td style=\"text-align: right;\">  0.90865 </td><td style=\"text-align: right;\">0.4899</td><td style=\"text-align: right;\">    20</td><td style=\"text-align: right;\">        1019.05 </td><td style=\"text-align: right;\">          20</td></tr>\n",
       "<tr><td>train_eval_model_fd266_00009</td><td>TERMINATED</td><td>127.0.0.1:74701</td><td style=\"text-align: right;\">    128</td><td style=\"text-align: right;\">          12</td><td style=\"text-align: right;\">          12</td><td style=\"text-align: right;\">1.05664e-05</td><td style=\"text-align: right;\">  0.908186</td><td style=\"text-align: right;\">0.1   </td><td style=\"text-align: right;\">     2</td><td style=\"text-align: right;\">         456.177</td><td style=\"text-align: right;\">           2</td></tr>\n",
       "<tr><td>train_eval_model_fd266_00010</td><td>TERMINATED</td><td>127.0.0.1:74700</td><td style=\"text-align: right;\">     64</td><td style=\"text-align: right;\">           3</td><td style=\"text-align: right;\">          12</td><td style=\"text-align: right;\">0.000627619</td><td style=\"text-align: right;\">  0.891848</td><td style=\"text-align: right;\">0.1451</td><td style=\"text-align: right;\">     2</td><td style=\"text-align: right;\">         238.467</td><td style=\"text-align: right;\">           2</td></tr>\n",
       "<tr><td>train_eval_model_fd266_00011</td><td>TERMINATED</td><td>127.0.0.1:74707</td><td style=\"text-align: right;\">     64</td><td style=\"text-align: right;\">           6</td><td style=\"text-align: right;\">           3</td><td style=\"text-align: right;\">2.80363e-05</td><td style=\"text-align: right;\">  0.874048</td><td style=\"text-align: right;\">0.1034</td><td style=\"text-align: right;\">     2</td><td style=\"text-align: right;\">         386.043</td><td style=\"text-align: right;\">           2</td></tr>\n",
       "<tr><td>train_eval_model_fd266_00012</td><td>TERMINATED</td><td>127.0.0.1:75266</td><td style=\"text-align: right;\">     32</td><td style=\"text-align: right;\">          12</td><td style=\"text-align: right;\">          12</td><td style=\"text-align: right;\">0.00012839 </td><td style=\"text-align: right;\">  0.852473</td><td style=\"text-align: right;\">0.1895</td><td style=\"text-align: right;\">     4</td><td style=\"text-align: right;\">         405.87 </td><td style=\"text-align: right;\">           4</td></tr>\n",
       "<tr><td>train_eval_model_fd266_00013</td><td>TERMINATED</td><td>127.0.0.1:75487</td><td style=\"text-align: right;\">    128</td><td style=\"text-align: right;\">          12</td><td style=\"text-align: right;\">          12</td><td style=\"text-align: right;\">0.000940749</td><td style=\"text-align: right;\">  0.858131</td><td style=\"text-align: right;\">0.4291</td><td style=\"text-align: right;\">     8</td><td style=\"text-align: right;\">         483.974</td><td style=\"text-align: right;\">           8</td></tr>\n",
       "<tr><td>train_eval_model_fd266_00014</td><td>TERMINATED</td><td>127.0.0.1:75685</td><td style=\"text-align: right;\">     64</td><td style=\"text-align: right;\">           6</td><td style=\"text-align: right;\">           6</td><td style=\"text-align: right;\">6.07552e-05</td><td style=\"text-align: right;\">  0.853349</td><td style=\"text-align: right;\">0.1   </td><td style=\"text-align: right;\">     2</td><td style=\"text-align: right;\">         163.276</td><td style=\"text-align: right;\">           2</td></tr>\n",
       "<tr><td>train_eval_model_fd266_00015</td><td>TERMINATED</td><td>127.0.0.1:75702</td><td style=\"text-align: right;\">     32</td><td style=\"text-align: right;\">          12</td><td style=\"text-align: right;\">          12</td><td style=\"text-align: right;\">4.49625e-05</td><td style=\"text-align: right;\">  0.908707</td><td style=\"text-align: right;\">0.1798</td><td style=\"text-align: right;\">     4</td><td style=\"text-align: right;\">         301.841</td><td style=\"text-align: right;\">           4</td></tr>\n",
       "</tbody>\n",
       "</table><br><br>"
      ],
      "text/plain": [
       "<IPython.core.display.HTML object>"
      ]
     },
     "metadata": {},
     "output_type": "display_data"
    },
    {
     "name": "stderr",
     "output_type": "stream",
     "text": [
      "2021-12-02 21:05:02,537\tINFO tune.py:630 -- Total run time: 1109.46 seconds (1109.31 seconds for the tuning loop).\n"
     ]
    }
   ],
   "source": [
    "from ray.tune.schedulers import ASHAScheduler\n",
    "from ray.tune.trial import ExportFormat\n",
    "\n",
    "ray.shutdown()  # Restart Ray defensively in case the ray connection is lost. \n",
    "ray.init(log_to_driver=False)\n",
    "\n",
    "class Stopper(tune.Stopper):\n",
    "        def __init__(self):\n",
    "            self.should_stop = False\n",
    "\n",
    "        def __call__(self, trial_id, result):\n",
    "            max_num_trials = 20\n",
    "            if not self.should_stop and result[\"mean_accuracy\"] > 0.75:\n",
    "              self.should_stop = True\n",
    "            return self.should_stop or result[\"training_iteration\"] >= max_num_trials\n",
    "\n",
    "        def stop_all(self):\n",
    "            return self.should_stop\n",
    "\n",
    "# TODO: Define an ASHAScheduler object \n",
    "# (https://docs.ray.io/en/releases-0.8.6/tune/api_docs/schedulers.html#asha-tune-schedulers-ashascheduler)\n",
    "asha_scheduler = ASHAScheduler(\n",
    "    time_attr='training_iteration',\n",
    "    max_t=1000,\n",
    "    grace_period=2,\n",
    "    brackets=1,\n",
    "    reduction_factor=2)\n",
    "\n",
    "# TODO: Run the ASHA analysis, tuning the learning rate, momentum, first and second\n",
    "# layer neuron counts, and batch size\n",
    "asha_analysis = tune.run(\n",
    "    train_eval_model,\n",
    "    name=\"train_asha\",\n",
    "    scheduler=asha_scheduler,\n",
    "    metric=\"mean_accuracy\",\n",
    "    mode=\"max\",\n",
    "    verbose=2,\n",
    "#     stop={\n",
    "#     \"training_iteration\": 20},\n",
    "    stop=Stopper(),\n",
    "    export_formats=[ExportFormat.MODEL],\n",
    "    checkpoint_score_attr=\"mean_accuracy\",\n",
    "    keep_checkpoints_num=4,\n",
    "    num_samples=16,\n",
    "    config={\n",
    "        # TODO: Add hyperparameters for number of neurons in\n",
    "        # first and second layers of the 'HPNet' model.\n",
    "        # Keep learning rate and momentum as configurable hyperparameters.\n",
    "        \"layer1_out\": tune.choice([3,6,12]),\n",
    "        \"layer2_out\": tune.choice([3,6,12]),\n",
    "        \"batch\": tune.choice([16,32,64,128]),\n",
    "        \"lr\": tune.loguniform(1e-5, 1e-3),\n",
    "        \"momentum\": tune.uniform(0.85, 0.95),\n",
    "    })"
   ]
  },
  {
   "cell_type": "code",
   "execution_count": 19,
   "metadata": {
    "id": "lD1PkZAxvNDg"
   },
   "outputs": [
    {
     "data": {
      "image/png": "[encoded data removed]",
      "text/plain": [
       "<Figure size 432x288 with 1 Axes>"
      ]
     },
     "metadata": {
      "needs_background": "light"
     },
     "output_type": "display_data"
    }
   ],
   "source": [
    "# Let's visualize our results:\n",
    "dfs = asha_analysis.trial_dataframes\n",
    "ax = None  # This plots everything on the same plot\n",
    "for d in dfs.values():\n",
    "    ax = d.mean_accuracy.plot(ax=ax, legend=False)"
   ]
  },
  {
   "cell_type": "markdown",
   "metadata": {
    "id": "LgCazhRVKny0"
   },
   "source": [
    "PBT and ASHA are both parallelizable hyperparameter tuning methods, in that they search multiple hyperparameter options in parallel.\n",
    "\n",
    "Another option commonly used in industry are sequential methods such as Bayesian Optimization with Hyperband (BOHB). What are the tradeoffs between sequential methods and the parallel methods we discussed earlier?\n",
    "\n",
    "  **ANSWER**: \n",
    "  \n",
    " ASHA is sensitive to initialization and it only explores the space in which the initial samples lie. It is also a greedy process so can miss good models if early performance is not indicative of later performance. In comparison, BO's exploration is not limited to the initialization, and it trains the models from start to finish to get an accurate performance score. Regarding computation resources, sequential methods are slower but they use less computational power overall. "
   ]
  },
  {
   "cell_type": "markdown",
   "metadata": {
    "id": "4179X8B0pqeI"
   },
   "source": [
    "## Problem 3 (Extra Credit):\n",
    "\n",
    "Now that you better understand the big picture of how random search, PBT, and ASHA compare to one another, implement successive halving (the basis for ASHA). \n",
    "\n",
    "Start by defining a hyperparameter space, then successively narrow your hyperparameter space until you are left with a single optimal model. You can find sample pseudocode on the lecture slides (https://c.d2l.ai/stanford-cs329p/_static/pdfs/cs329p_slides_12_2.pdf), slide 8.\n",
    "\n",
    "What is your optimal model accuracy? Plot your best validation accuracy versus number of halving steps. How does this compare to your earlier results with random search?"
   ]
  },
  {
   "cell_type": "code",
   "execution_count": 52,
   "metadata": {},
   "outputs": [
    {
     "name": "stdout",
     "output_type": "stream",
     "text": [
      "there are #6 configs\n",
      "configs [{'momentum': 0.85, 'batch': 4, 'lr': 0.001, 'layer1_out': 6, 'layer2_out': 12}, {'momentum': 0.85, 'batch': 4, 'lr': 0.0001, 'layer1_out': 6, 'layer2_out': 12}, {'momentum': 0.85, 'batch': 4, 'lr': 1e-05, 'layer1_out': 6, 'layer2_out': 12}, {'momentum': 0.95, 'batch': 4, 'lr': 0.001, 'layer1_out': 6, 'layer2_out': 12}, {'momentum': 0.95, 'batch': 4, 'lr': 0.0001, 'layer1_out': 6, 'layer2_out': 12}, {'momentum': 0.95, 'batch': 4, 'lr': 1e-05, 'layer1_out': 6, 'layer2_out': 12}]\n",
      "Files already downloaded and verified\n",
      "Files already downloaded and verified\n",
      "[Epoch #, Batch #, Average Loss]:\n",
      "[1, 2000, 2.2845346125364303]\n",
      "[1, 4000, 2.02220304530859]\n",
      "[2, 2000, 1.82441429951787]\n",
      "[2, 4000, 1.6688250625282526]\n",
      "Files already downloaded and verified\n",
      "Files already downloaded and verified\n",
      "[Epoch #, Batch #, Average Loss]:\n",
      "[1, 2000, 2.3048495178222654]\n",
      "[1, 4000, 2.3034603816270827]\n",
      "[2, 2000, 2.3020408030748367]\n",
      "[2, 4000, 2.301372216582298]\n",
      "Files already downloaded and verified\n",
      "Files already downloaded and verified\n",
      "[Epoch #, Batch #, Average Loss]:\n",
      "[1, 2000, 2.3057322671413423]\n",
      "[1, 4000, 2.305974622607231]\n",
      "[2, 2000, 2.305749106526375]\n",
      "[2, 4000, 2.3034103791713716]\n",
      "Files already downloaded and verified\n",
      "Files already downloaded and verified\n",
      "[Epoch #, Batch #, Average Loss]:\n",
      "[1, 2000, 2.1432181990742682]\n",
      "[1, 4000, 1.7917420747578143]\n",
      "[2, 2000, 1.6512694522440434]\n",
      "[2, 4000, 1.5518404365554452]\n",
      "Files already downloaded and verified\n",
      "Files already downloaded and verified\n",
      "[Epoch #, Batch #, Average Loss]:\n",
      "[1, 2000, 2.3028358558416366]\n",
      "[1, 4000, 2.299848488330841]\n",
      "[2, 2000, 2.2821224501132966]\n",
      "[2, 4000, 2.1488858577609062]\n",
      "Files already downloaded and verified\n",
      "Files already downloaded and verified\n",
      "[Epoch #, Batch #, Average Loss]:\n",
      "[1, 2000, 2.305484626054764]\n",
      "[1, 4000, 2.303011221408844]\n",
      "[2, 2000, 2.3036528331041337]\n",
      "[2, 4000, 2.3028419519662857]\n",
      "reduce models by half\n",
      "[0.3929, 0.1214, 0.0984, 0.4368, 0.2725, 0.134]\n",
      "Files already downloaded and verified\n",
      "Files already downloaded and verified\n",
      "[Epoch #, Batch #, Average Loss]:\n",
      "[1, 2000, 2.3040098370313644]\n",
      "[1, 4000, 2.3062605746984484]\n",
      "[2, 2000, 2.30548997092247]\n",
      "[2, 4000, 2.30329462993145]\n",
      "[3, 2000, 2.3037796535491943]\n",
      "[3, 4000, 2.3052999041080473]\n",
      "[4, 2000, 2.3041058279275894]\n",
      "[4, 4000, 2.3045826914310457]\n",
      "Files already downloaded and verified\n",
      "Files already downloaded and verified\n",
      "[Epoch #, Batch #, Average Loss]:\n",
      "[1, 2000, 2.300094599246979]\n",
      "[1, 4000, 2.2992113040685656]\n",
      "[2, 2000, 2.2981588957309724]\n",
      "[2, 4000, 2.2950570596456528]\n",
      "[3, 2000, 2.2910027432441713]\n",
      "[3, 4000, 2.2833724392652512]\n",
      "[4, 2000, 2.2654771000146865]\n",
      "[4, 4000, 2.22210950756073]\n",
      "Files already downloaded and verified\n",
      "Files already downloaded and verified\n",
      "[Epoch #, Batch #, Average Loss]:\n",
      "[1, 2000, 2.3036259301900865]\n",
      "[1, 4000, 2.3029255406856537]\n",
      "[2, 2000, 2.3025004678964613]\n",
      "[2, 4000, 2.302025385379791]\n",
      "[3, 2000, 2.3025264086723327]\n",
      "[3, 4000, 2.3018369324207306]\n",
      "[4, 2000, 2.3022078511714934]\n",
      "[4, 4000, 2.3010363730192185]\n",
      "reduce models by half\n",
      "[0.1007, 0.2062, 0.1358]\n"
     ]
    }
   ],
   "source": [
    "def get_data_loaders(config):\n",
    "  transform = transforms.Compose(\n",
    "    [transforms.ToTensor(),\n",
    "     transforms.Normalize((0.5, 0.5, 0.5), (0.5, 0.5, 0.5))])\n",
    "  train_dataset = torchvision.datasets.CIFAR10(root='./data', train=True,\n",
    "                                              download=True, transform=transform)\n",
    "\n",
    "  test_dataset = torchvision.datasets.CIFAR10(root='./data', train=False,\n",
    "                                            download=True, transform=transform)\n",
    "\n",
    "  batch_size = int(config[\"batch\"])\n",
    "  train_loader = torch.utils.data.DataLoader(train_dataset, batch_size=batch_size,\n",
    "                                            shuffle=True, num_workers=2)\n",
    "\n",
    "  test_loader = torch.utils.data.DataLoader(test_dataset, batch_size=batch_size,\n",
    "                                          shuffle=False, num_workers=2)\n",
    "\n",
    "  classes = ('plane', 'car', 'bird', 'cat',\n",
    "            'deer', 'dog', 'frog', 'horse', 'ship', 'truck')\n",
    "  return train_loader, test_loader\n",
    "\n",
    "def train_eval_model(config, model, epochs):\n",
    "  # Create our data loaders, model, and optimizer.\n",
    "  step = 0\n",
    "  train_loader, test_loader = get_data_loaders(config)\n",
    "  loss_function = nn.CrossEntropyLoss()\n",
    "  optimizer = optim.SGD(model.parameters(),\n",
    "                        lr=config.get(\"lr\", 0.01),\n",
    "                        momentum=config.get(\"momentum\", 0.9))\n",
    "  print(f\"[Epoch #, Batch #, Average Loss]:\")\n",
    "  # Train model\n",
    "  for epoch in range(epochs):\n",
    "      num_batches = 4000\n",
    "      total_loss = 0.0\n",
    "      for idx, data in enumerate(train_loader, 0):\n",
    "          num_batches-=1\n",
    "          if num_batches<0:\n",
    "             break\n",
    "          inputs, labels = data\n",
    "          optimizer.zero_grad()\n",
    "\n",
    "          outputs = model(inputs)\n",
    "          batch_loss = loss_function(outputs, labels)\n",
    "          batch_loss.backward()\n",
    "          optimizer.step()\n",
    "\n",
    "          total_loss += batch_loss.item()\n",
    "          if idx % 2000 == 1999:    # Log average loss every 2000 mini-batches\n",
    "              print(f\"[{epoch + 1}, {idx + 1}, {total_loss / 2000}]\")\n",
    "              total_loss = 0 # Reset total loss\n",
    "\n",
    "  # Evaluate model on validation dataset\n",
    "  mean_val_accuracy = evaluate_model(model, test_loader)\n",
    "  return mean_val_accuracy\n",
    "\n",
    "hyperparams = {\n",
    "    \"momentum\": [0.85, 0.95], #0.85, 0.95\n",
    "    \"batch\": [4],\n",
    "    \"lr\": [0.001, 0.0001, 0.00001],  #shoudl be log uniform instead \n",
    "    \"layer1_out\": [6],\n",
    "    \"layer2_out\": [12],\n",
    "\n",
    "}\n",
    "\n",
    "from collections import deque\n",
    "configs = deque([{}])\n",
    "for key in hyperparams:\n",
    "    n = len(configs)\n",
    "    for _ in range(n):\n",
    "        top = configs.popleft()\n",
    "        for value in hyperparams[key]:\n",
    "            new_config = top.copy()\n",
    "            new_config[key] = value\n",
    "            configs.append(new_config)\n",
    "\n",
    "models = []\n",
    "configs = list(configs)\n",
    "print(\"there are #{} configs\".format(len(configs)))\n",
    "print(\"configs\", configs)\n",
    "for config in configs:\n",
    "    models.append(HPNet(config))\n",
    "epochs = 2\n",
    "plot_acc = []\n",
    "while len(models)>1:\n",
    "    performances = []\n",
    "    #train every model for #epochs\n",
    "    for model, config in zip(models, configs):\n",
    "        performance = train_eval_model(config, model, epochs)\n",
    "        performances.append(performance)\n",
    "    print(\"reduce models by half\")\n",
    "    print(performances)\n",
    "    plot_acc.append(max(performances))\n",
    "    #reduce models by half\n",
    "    performance_sorted = sorted([(p, i) for i, p in enumerate(performances)])\n",
    "    surviving_models = [models[i] for p, i in performance_sorted[:len(performance_sorted)//2]]\n",
    "    surviving_configs = [configs[i] for p, i in performance_sorted[:len(performance_sorted)//2]]\n",
    "    configs = surviving_configs\n",
    "    models = surviving_models\n",
    "    epochs *=2"
   ]
  },
  {
   "cell_type": "code",
   "execution_count": 53,
   "metadata": {},
   "outputs": [
    {
     "name": "stdout",
     "output_type": "stream",
     "text": [
      "model mean acc :  (0.2062, 1)\n"
     ]
    }
   ],
   "source": [
    "print(\"model mean acc : \",max(performance_sorted))"
   ]
  },
  {
   "cell_type": "code",
   "execution_count": 49,
   "metadata": {},
   "outputs": [
    {
     "data": {
      "text/plain": [
       "[<matplotlib.lines.Line2D at 0x1cab22198>]"
      ]
     },
     "execution_count": 49,
     "metadata": {},
     "output_type": "execute_result"
    },
    {
     "data": {
      "image/png": "[encoded data removed]",
      "text/plain": [
       "<Figure size 432x288 with 1 Axes>"
      ]
     },
     "metadata": {
      "needs_background": "light"
     },
     "output_type": "display_data"
    }
   ],
   "source": [
    "plt.plot(plot_acc)"
   ]
  },
  {
   "cell_type": "code",
   "execution_count": 47,
   "metadata": {},
   "outputs": [
    {
     "data": {
      "text/plain": [
       "[0.4858, 0.1801]"
      ]
     },
     "execution_count": 47,
     "metadata": {},
     "output_type": "execute_result"
    }
   ],
   "source": [
    "plot_acc"
   ]
  },
  {
   "cell_type": "code",
   "execution_count": null,
   "metadata": {},
   "outputs": [],
   "source": []
  }
 ],
 "metadata": {
  "accelerator": "TPU",
  "colab": {
   "collapsed_sections": [],
   "name": "CS 329P: Homework 3.ipynb",
   "provenance": []
  },
  "kernelspec": {
   "display_name": "cs131k",
   "language": "python",
   "name": "cs131k"
  },
  "language_info": {
   "codemirror_mode": {
    "name": "ipython",
    "version": 3
   },
   "file_extension": ".py",
   "mimetype": "text/x-python",
   "name": "python",
   "nbconvert_exporter": "python",
   "pygments_lexer": "ipython3",
   "version": "3.9.6"
  }
 },
 "nbformat": 4,
 "nbformat_minor": 1
}

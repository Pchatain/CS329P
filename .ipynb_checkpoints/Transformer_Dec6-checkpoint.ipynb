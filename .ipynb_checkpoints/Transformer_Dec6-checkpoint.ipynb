{
 "cells": [
  {
   "cell_type": "code",
   "execution_count": 1,
   "metadata": {},
   "outputs": [
    {
     "data": {
      "text/plain": [
       "'/Users/peterchatain/Documents/Classes/CS329P'"
      ]
     },
     "execution_count": 1,
     "metadata": {},
     "output_type": "execute_result"
    }
   ],
   "source": [
    "pwd"
   ]
  },
  {
   "cell_type": "code",
   "execution_count": 4,
   "metadata": {
    "colab": {
     "base_uri": "https://localhost:8080/"
    },
    "id": "gUal4vKaoZy6",
    "outputId": "facd8871-0a90-46a5-9b35-78865cbcab80"
   },
   "outputs": [
    {
     "name": "stdout",
     "output_type": "stream",
     "text": [
      "/Users/peterchatain/Documents/Classes/CS329P/project/riiid-test-answer-prediction\n",
      "cv1_train.pickle                     cv1_valid.pickle.zip\n",
      "cv1_train.pickle.zip                 cv1_valid_100k.pickle\n",
      "cv1_train_1000k.pickle               example_sample_submission.csv\n",
      "cv1_train_1000k_preprocessed.pickle  example_test.csv\n",
      "cv1_train_100k.pickle                lectures.csv\n",
      "cv1_train_100k_preprocessed.pickle   questions.csv\n",
      "cv1_val_100k_preprocessed.pickle     riiid-test-answer-prediction.zip\n",
      "cv1_val_10k.pickle                   \u001b[34mriiideducation\u001b[m\u001b[m/\n",
      "cv1_val_10k_preprocessed.pickle      train.csv\n",
      "cv1_valid.pickle\n",
      "cpu\n"
     ]
    }
   ],
   "source": [
    "import os\n",
    "import math\n",
    "import random\n",
    "import numpy as np\n",
    "import pandas as pd\n",
    "from collections import defaultdict\n",
    "import torch\n",
    "import seaborn as sns\n",
    "import matplotlib.pyplot as plt\n",
    "import gc\n",
    "from sklearn import tree\n",
    "from sklearn.tree import DecisionTreeClassifier\n",
    "from sklearn.metrics import roc_auc_score, log_loss, confusion_matrix, accuracy_score, roc_auc_score, roc_curve\n",
    "from torch import nn\n",
    "import sys\n",
    "%cd /Users/peterchatain/Documents/Classes/CS329P/project/riiid-test-answer-prediction\n",
    "%ls\n",
    "\n",
    "device = torch.device(\"cuda:0\" if torch.cuda.is_available() else \"cpu\")\n",
    "print(device)\n"
   ]
  },
  {
   "cell_type": "code",
   "execution_count": 5,
   "metadata": {
    "id": "Bj0XPTCHpGoe"
   },
   "outputs": [],
   "source": [
    "train_path = \"cv1_train_100k.pickle\"\n",
    "valid_path = \"cv1_val_10k.pickle\"\n",
    "question_path = \"questions.csv\"\n",
    "lecture_path = \"lectures.csv\"\n",
    "train = pd.read_pickle(train_path)\n",
    "valid = pd.read_pickle(valid_path)\n",
    "questions =  pd.read_csv(question_path)\n",
    "lectures =  pd.read_csv(lecture_path)\n",
    "\n",
    "def clean_df(train, is_valid = False, train_mean = 0, train_std = 0):\n",
    "\n",
    "  train = train.sort_values(['user_id', 'timestamp'])\n",
    "  train = train.reset_index(drop=True)\n",
    "  train = train.drop(np.where(train['content_type_id'] == 1)[0], axis=0)\n",
    "  train = train.reset_index(drop=True)\n",
    "  train['part'] = np.array(questions['part'])[np.array(train['content_id'])]\n",
    "  train = pd.concat([train, pd.get_dummies(train.part, prefix='part')], axis = 1)\n",
    "  train = train.drop([\"row_id\", \"content_id\", \"content_type_id\", \"task_container_id\", \"user_answer\", \"max_time_stamp\", \"rand_time_stamp\", \"viretual_time_stamp\", \"part\"], axis=1)\n",
    "  train.drop_duplicates(['user_id','timestamp' ], inplace = True)\n",
    "  normalize_cols = [\"prior_question_elapsed_time\"]\n",
    "  if not is_valid:\n",
    "    train_mean = train[normalize_cols].mean()\n",
    "    train_std = train[normalize_cols].std()\n",
    "  train[normalize_cols] = (train[normalize_cols] - train_mean) / train_std\n",
    "  train = train.fillna(0)\n",
    "  return train, train_mean, train_std\n",
    "train, train_mean, train_std = clean_df(train)\n",
    "valid ,_, _= clean_df(valid, is_valid = True, train_mean = train_mean, train_std = train_std)\n"
   ]
  },
  {
   "cell_type": "code",
   "execution_count": 6,
   "metadata": {
    "colab": {
     "base_uri": "https://localhost:8080/"
    },
    "id": "pfeof4SOkPOJ",
    "outputId": "41c8d7d0-e961-4d8c-df74-1e4099870c1e"
   },
   "outputs": [
    {
     "name": "stdout",
     "output_type": "stream",
     "text": [
      "there are 2210 unique users in train and 493 unique users in valid, there are 0 duplicate users : set()\n"
     ]
    }
   ],
   "source": [
    "user_id_train = set(np.unique(train[\"user_id\"]))\n",
    "user_id_valid = set(np.unique(valid[\"user_id\"]))\n",
    "intersection = user_id_train.intersection(user_id_valid)\n",
    "print(\"there are {} unique users in train and {} unique users in valid, there are {} duplicate users : {}\".format(len(user_id_train), len(user_id_valid), len(intersection), intersection))\n",
    "\n",
    "for duplicate_user in intersection:\n",
    "  valid = valid[valid[\"user_id\"]!=duplicate_user]\n",
    "\n",
    "train = train.reset_index(drop=True)\n",
    "\n",
    "valid = valid.reset_index(drop=True)\n",
    "\n"
   ]
  },
  {
   "cell_type": "code",
   "execution_count": 7,
   "metadata": {},
   "outputs": [],
   "source": [
    "mapmap_train = np.unique(train[\"user_id\"], return_counts = True)[1]\n",
    "mapmap_valid = np.unique(valid[\"user_id\"], return_counts = True)[1]\n",
    "\n",
    "mu = np.mean(train['answered_correctly'])\n",
    "sigma = np.std(train['answered_correctly'])\n",
    "train['prior_answered_correctly'] = (train['answered_correctly'] - mu) / sigma\n",
    "\n",
    "temp = np.append(0, train['prior_answered_correctly'][0:-1])\n",
    "temp[np.cumsum(mapmap_train)[:-1]] = 0\n",
    "train['prior_answered_correctly']= temp\n",
    "\n",
    "\n",
    "\n",
    "mu = np.mean(valid['answered_correctly'])\n",
    "sigma = np.std(valid['answered_correctly'])\n",
    "valid['prior_answered_correctly'] = (valid['answered_correctly'] - mu) / sigma\n",
    "\n",
    "temp = np.append(0, valid['prior_answered_correctly'][0:-1])\n",
    "temp[np.cumsum(mapmap_valid)[:-1]] = 0\n",
    "valid['prior_answered_correctly']= temp\n",
    "\n",
    "\n",
    "valid['prior_answered_correctly'] = (valid['prior_answered_correctly']>0 )+0\n",
    "train['prior_answered_correctly'] = (train['prior_answered_correctly']>0)+0\n",
    "\n"
   ]
  },
  {
   "cell_type": "code",
   "execution_count": 8,
   "metadata": {},
   "outputs": [
    {
     "data": {
      "text/html": [
       "<div>\n",
       "<style scoped>\n",
       "    .dataframe tbody tr th:only-of-type {\n",
       "        vertical-align: middle;\n",
       "    }\n",
       "\n",
       "    .dataframe tbody tr th {\n",
       "        vertical-align: top;\n",
       "    }\n",
       "\n",
       "    .dataframe thead th {\n",
       "        text-align: right;\n",
       "    }\n",
       "</style>\n",
       "<table border=\"1\" class=\"dataframe\">\n",
       "  <thead>\n",
       "    <tr style=\"text-align: right;\">\n",
       "      <th></th>\n",
       "      <th>timestamp</th>\n",
       "      <th>user_id</th>\n",
       "      <th>answered_correctly</th>\n",
       "      <th>prior_question_elapsed_time</th>\n",
       "      <th>prior_question_had_explanation</th>\n",
       "      <th>part_1</th>\n",
       "      <th>part_2</th>\n",
       "      <th>part_3</th>\n",
       "      <th>part_4</th>\n",
       "      <th>part_5</th>\n",
       "      <th>part_6</th>\n",
       "      <th>part_7</th>\n",
       "      <th>prior_answered_correctly</th>\n",
       "    </tr>\n",
       "  </thead>\n",
       "  <tbody>\n",
       "    <tr>\n",
       "      <th>0</th>\n",
       "      <td>0</td>\n",
       "      <td>44331</td>\n",
       "      <td>0</td>\n",
       "      <td>0.000000</td>\n",
       "      <td>False</td>\n",
       "      <td>0</td>\n",
       "      <td>0</td>\n",
       "      <td>0</td>\n",
       "      <td>0</td>\n",
       "      <td>1</td>\n",
       "      <td>0</td>\n",
       "      <td>0</td>\n",
       "      <td>0</td>\n",
       "    </tr>\n",
       "    <tr>\n",
       "      <th>1</th>\n",
       "      <td>35028</td>\n",
       "      <td>44331</td>\n",
       "      <td>0</td>\n",
       "      <td>1.339109</td>\n",
       "      <td>False</td>\n",
       "      <td>0</td>\n",
       "      <td>0</td>\n",
       "      <td>0</td>\n",
       "      <td>0</td>\n",
       "      <td>1</td>\n",
       "      <td>0</td>\n",
       "      <td>0</td>\n",
       "      <td>0</td>\n",
       "    </tr>\n",
       "    <tr>\n",
       "      <th>2</th>\n",
       "      <td>61706</td>\n",
       "      <td>44331</td>\n",
       "      <td>1</td>\n",
       "      <td>0.571721</td>\n",
       "      <td>False</td>\n",
       "      <td>0</td>\n",
       "      <td>0</td>\n",
       "      <td>0</td>\n",
       "      <td>0</td>\n",
       "      <td>1</td>\n",
       "      <td>0</td>\n",
       "      <td>0</td>\n",
       "      <td>0</td>\n",
       "    </tr>\n",
       "    <tr>\n",
       "      <th>3</th>\n",
       "      <td>85685</td>\n",
       "      <td>44331</td>\n",
       "      <td>0</td>\n",
       "      <td>0.060129</td>\n",
       "      <td>False</td>\n",
       "      <td>0</td>\n",
       "      <td>1</td>\n",
       "      <td>0</td>\n",
       "      <td>0</td>\n",
       "      <td>0</td>\n",
       "      <td>0</td>\n",
       "      <td>0</td>\n",
       "      <td>1</td>\n",
       "    </tr>\n",
       "    <tr>\n",
       "      <th>4</th>\n",
       "      <td>141228</td>\n",
       "      <td>44331</td>\n",
       "      <td>1</td>\n",
       "      <td>-0.131718</td>\n",
       "      <td>False</td>\n",
       "      <td>0</td>\n",
       "      <td>0</td>\n",
       "      <td>0</td>\n",
       "      <td>0</td>\n",
       "      <td>1</td>\n",
       "      <td>0</td>\n",
       "      <td>0</td>\n",
       "      <td>0</td>\n",
       "    </tr>\n",
       "    <tr>\n",
       "      <th>...</th>\n",
       "      <td>...</td>\n",
       "      <td>...</td>\n",
       "      <td>...</td>\n",
       "      <td>...</td>\n",
       "      <td>...</td>\n",
       "      <td>...</td>\n",
       "      <td>...</td>\n",
       "      <td>...</td>\n",
       "      <td>...</td>\n",
       "      <td>...</td>\n",
       "      <td>...</td>\n",
       "      <td>...</td>\n",
       "      <td>...</td>\n",
       "    </tr>\n",
       "    <tr>\n",
       "      <th>79307</th>\n",
       "      <td>223228</td>\n",
       "      <td>2144322103</td>\n",
       "      <td>1</td>\n",
       "      <td>0.124078</td>\n",
       "      <td>False</td>\n",
       "      <td>0</td>\n",
       "      <td>0</td>\n",
       "      <td>0</td>\n",
       "      <td>0</td>\n",
       "      <td>1</td>\n",
       "      <td>0</td>\n",
       "      <td>0</td>\n",
       "      <td>1</td>\n",
       "    </tr>\n",
       "    <tr>\n",
       "      <th>79308</th>\n",
       "      <td>246293</td>\n",
       "      <td>2144322103</td>\n",
       "      <td>1</td>\n",
       "      <td>-0.131718</td>\n",
       "      <td>False</td>\n",
       "      <td>0</td>\n",
       "      <td>1</td>\n",
       "      <td>0</td>\n",
       "      <td>0</td>\n",
       "      <td>0</td>\n",
       "      <td>0</td>\n",
       "      <td>0</td>\n",
       "      <td>1</td>\n",
       "    </tr>\n",
       "    <tr>\n",
       "      <th>79309</th>\n",
       "      <td>370646</td>\n",
       "      <td>2144322103</td>\n",
       "      <td>1</td>\n",
       "      <td>-0.387514</td>\n",
       "      <td>False</td>\n",
       "      <td>0</td>\n",
       "      <td>1</td>\n",
       "      <td>0</td>\n",
       "      <td>0</td>\n",
       "      <td>0</td>\n",
       "      <td>0</td>\n",
       "      <td>0</td>\n",
       "      <td>1</td>\n",
       "    </tr>\n",
       "    <tr>\n",
       "      <th>79310</th>\n",
       "      <td>403714</td>\n",
       "      <td>2144322103</td>\n",
       "      <td>1</td>\n",
       "      <td>-0.451463</td>\n",
       "      <td>True</td>\n",
       "      <td>0</td>\n",
       "      <td>1</td>\n",
       "      <td>0</td>\n",
       "      <td>0</td>\n",
       "      <td>0</td>\n",
       "      <td>0</td>\n",
       "      <td>0</td>\n",
       "      <td>1</td>\n",
       "    </tr>\n",
       "    <tr>\n",
       "      <th>79311</th>\n",
       "      <td>428849</td>\n",
       "      <td>2144322103</td>\n",
       "      <td>1</td>\n",
       "      <td>-0.259616</td>\n",
       "      <td>True</td>\n",
       "      <td>0</td>\n",
       "      <td>1</td>\n",
       "      <td>0</td>\n",
       "      <td>0</td>\n",
       "      <td>0</td>\n",
       "      <td>0</td>\n",
       "      <td>0</td>\n",
       "      <td>1</td>\n",
       "    </tr>\n",
       "  </tbody>\n",
       "</table>\n",
       "<p>79312 rows × 13 columns</p>\n",
       "</div>"
      ],
      "text/plain": [
       "       timestamp     user_id  answered_correctly  prior_question_elapsed_time  \\\n",
       "0              0       44331                   0                     0.000000   \n",
       "1          35028       44331                   0                     1.339109   \n",
       "2          61706       44331                   1                     0.571721   \n",
       "3          85685       44331                   0                     0.060129   \n",
       "4         141228       44331                   1                    -0.131718   \n",
       "...          ...         ...                 ...                          ...   \n",
       "79307     223228  2144322103                   1                     0.124078   \n",
       "79308     246293  2144322103                   1                    -0.131718   \n",
       "79309     370646  2144322103                   1                    -0.387514   \n",
       "79310     403714  2144322103                   1                    -0.451463   \n",
       "79311     428849  2144322103                   1                    -0.259616   \n",
       "\n",
       "       prior_question_had_explanation  part_1  part_2  part_3  part_4  part_5  \\\n",
       "0                               False       0       0       0       0       1   \n",
       "1                               False       0       0       0       0       1   \n",
       "2                               False       0       0       0       0       1   \n",
       "3                               False       0       1       0       0       0   \n",
       "4                               False       0       0       0       0       1   \n",
       "...                               ...     ...     ...     ...     ...     ...   \n",
       "79307                           False       0       0       0       0       1   \n",
       "79308                           False       0       1       0       0       0   \n",
       "79309                           False       0       1       0       0       0   \n",
       "79310                            True       0       1       0       0       0   \n",
       "79311                            True       0       1       0       0       0   \n",
       "\n",
       "       part_6  part_7  prior_answered_correctly  \n",
       "0           0       0                         0  \n",
       "1           0       0                         0  \n",
       "2           0       0                         0  \n",
       "3           0       0                         1  \n",
       "4           0       0                         0  \n",
       "...       ...     ...                       ...  \n",
       "79307       0       0                         1  \n",
       "79308       0       0                         1  \n",
       "79309       0       0                         1  \n",
       "79310       0       0                         1  \n",
       "79311       0       0                         1  \n",
       "\n",
       "[79312 rows x 13 columns]"
      ]
     },
     "execution_count": 8,
     "metadata": {},
     "output_type": "execute_result"
    }
   ],
   "source": [
    "train"
   ]
  },
  {
   "cell_type": "code",
   "execution_count": 9,
   "metadata": {
    "colab": {
     "base_uri": "https://localhost:8080/"
    },
    "id": "C-cMFuXrmjd3",
    "outputId": "be816914-a3bd-42ed-9ec2-c0f460c34aa8"
   },
   "outputs": [
    {
     "name": "stdout",
     "output_type": "stream",
     "text": [
      "<class 'pandas.core.frame.DataFrame'>\n",
      "RangeIndex: 7456 entries, 0 to 7455\n",
      "Data columns (total 13 columns):\n",
      " #   Column                          Non-Null Count  Dtype  \n",
      "---  ------                          --------------  -----  \n",
      " 0   timestamp                       7456 non-null   int64  \n",
      " 1   user_id                         7456 non-null   int32  \n",
      " 2   answered_correctly              7456 non-null   int8   \n",
      " 3   prior_question_elapsed_time     7456 non-null   float32\n",
      " 4   prior_question_had_explanation  7456 non-null   boolean\n",
      " 5   part_1                          7456 non-null   uint8  \n",
      " 6   part_2                          7456 non-null   uint8  \n",
      " 7   part_3                          7456 non-null   uint8  \n",
      " 8   part_4                          7456 non-null   uint8  \n",
      " 9   part_5                          7456 non-null   uint8  \n",
      " 10  part_6                          7456 non-null   uint8  \n",
      " 11  part_7                          7456 non-null   uint8  \n",
      " 12  prior_answered_correctly        7456 non-null   int64  \n",
      "dtypes: boolean(1), float32(1), int32(1), int64(2), int8(1), uint8(7)\n",
      "memory usage: 247.7 KB\n"
     ]
    }
   ],
   "source": [
    "valid.info()"
   ]
  },
  {
   "cell_type": "code",
   "execution_count": 10,
   "metadata": {},
   "outputs": [
    {
     "name": "stdout",
     "output_type": "stream",
     "text": [
      "train (79312, 13)\n",
      "valid (7456, 13)\n"
     ]
    }
   ],
   "source": [
    "print(\"train\", train.shape)\n",
    "print(\"valid\", valid.shape)"
   ]
  },
  {
   "cell_type": "code",
   "execution_count": 11,
   "metadata": {},
   "outputs": [
    {
     "data": {
      "text/plain": [
       "[<matplotlib.lines.Line2D at 0x12c54f6d0>]"
      ]
     },
     "execution_count": 11,
     "metadata": {},
     "output_type": "execute_result"
    },
    {
     "data": {
      "image/png": "[encoded data removed]",
      "text/plain": [
       "<Figure size 432x288 with 1 Axes>"
      ]
     },
     "metadata": {
      "needs_background": "light"
     },
     "output_type": "display_data"
    }
   ],
   "source": [
    "mapmap = np.unique(train['user_id'], return_counts=True)[1]\n",
    "lower = np.cumsum(mapmap)\n",
    "plt.plot(sorted(mapmap))\n"
   ]
  },
  {
   "cell_type": "code",
   "execution_count": 18,
   "metadata": {},
   "outputs": [
    {
     "name": "stderr",
     "output_type": "stream",
     "text": [
      "2210it [00:00, 2659.23it/s]\n",
      "493it [00:00, 5633.71it/s]\n"
     ]
    }
   ],
   "source": [
    "from tqdm import tqdm\n",
    "\n",
    "WINDOW_LENGTH = 256\n",
    "FEATURE_DIM = train.shape[1]\n",
    "\n",
    "def add_window_padding(train):\n",
    "    train_padded = list()\n",
    "    loss_mask = list()\n",
    "    mapmap = np.unique(train['user_id'], return_counts=True)[1]\n",
    "    lower = np.cumsum(mapmap)\n",
    "    start = 0\n",
    "    for l, m in tqdm(zip(lower, mapmap)):\n",
    "        someee = (((l-start-1)//WINDOW_LENGTH)+1)*WINDOW_LENGTH\n",
    "        end_index = start + someee\n",
    "        padded = end_index - l\n",
    "        temp = np.zeros((1, someee, FEATURE_DIM))\n",
    "        mask = np.zeros((1, someee))\n",
    "        temp[:,:l-start] = np.array(train.iloc[start:l], dtype = np.float)\n",
    "        mask[:, :l-start] =1\n",
    "        temp = np.reshape(temp, (-1,WINDOW_LENGTH,FEATURE_DIM))\n",
    "        mask = np.reshape(mask, (-1, WINDOW_LENGTH))\n",
    "        #Append\n",
    "        train_padded.append(temp)\n",
    "        loss_mask.append(mask)\n",
    "        #Update start\n",
    "        start = l\n",
    "    train_padded = np.vstack(train_padded)\n",
    "    train_padded = torch.from_numpy(train_padded).to(device)\n",
    "    loss_mask = np.vstack(loss_mask)\n",
    "    loss_mask = torch.from_numpy(loss_mask).to(device)\n",
    "    return train_padded, mapmap, loss_mask\n",
    "\n",
    "train_padded, mapmap_train, loss_mask_train = add_window_padding(train)\n",
    "valid_padded, mapmap_valid, loss_mask_valid= add_window_padding(valid)"
   ]
  },
  {
   "cell_type": "code",
   "execution_count": 19,
   "metadata": {
    "colab": {
     "base_uri": "https://localhost:8080/"
    },
    "id": "u18JEIF1zKu4",
    "outputId": "028adc8b-ad43-4922-affd-ef84c16b75a7"
   },
   "outputs": [
    {
     "name": "stdout",
     "output_type": "stream",
     "text": [
      "torch.Size([2235, 256, 1])\n",
      "torch.Size([2235, 256, 10])\n",
      "torch.Size([2235, 256])\n",
      "torch.Size([494, 256, 1])\n",
      "torch.Size([494, 256, 10])\n",
      "torch.Size([494, 256])\n"
     ]
    }
   ],
   "source": [
    "t_train_y =train_padded[:,:,2:3] > 0 \n",
    "t_train_x = train_padded[:,:,3:]\n",
    "print(t_train_y.shape)\n",
    "print(t_train_x.shape)\n",
    "print(loss_mask_train.shape)\n",
    "\n",
    "t_valid_y =valid_padded[:,:,2:3] > 0\n",
    "t_valid_x = valid_padded[:,:,3:]\n",
    "print(t_valid_y.shape)\n",
    "print(t_valid_x.shape)\n",
    "print(loss_mask_valid.shape)"
   ]
  },
  {
   "cell_type": "code",
   "execution_count": 23,
   "metadata": {
    "colab": {
     "base_uri": "https://localhost:8080/"
    },
    "id": "mK5kKetd-nT8",
    "outputId": "744297e0-29c2-486e-9c84-7a506ca4c909"
   },
   "outputs": [
    {
     "name": "stdout",
     "output_type": "stream",
     "text": [
      "torch.Size([138, 16, 256, 10])\n",
      "torch.Size([138, 16, 256])\n",
      "torch.Size([138, 16, 256])\n",
      "torch.Size([29, 16, 256, 10])\n",
      "torch.Size([29, 16, 256])\n",
      "torch.Size([29, 16, 256])\n"
     ]
    }
   ],
   "source": [
    "batch_size = 16\n",
    "\n",
    "def batchify(t_train_x, t_train_y, loss_mask_train, batch_size):\n",
    "  \n",
    "  total = (t_train_y.shape[0]//batch_size-1)*batch_size\n",
    "  t_train_y = t_train_y[:total]\n",
    "  t_train_x = t_train_x[:total, :, :] \n",
    "  loss_mask_train = loss_mask_train[:total,:]\n",
    "  num_batches = int(t_train_y.shape[0] / batch_size)\n",
    "  t_train_x = t_train_x.reshape(num_batches, batch_size, WINDOW_LENGTH, 10)\n",
    "  t_train_y = t_train_y.reshape(num_batches,batch_size, -1)\n",
    "  loss_mask_train = loss_mask_train.reshape(num_batches, batch_size, -1)\n",
    "  print(t_train_x.shape)\n",
    "  print(t_train_y.shape)\n",
    "  print(loss_mask_train.shape)\n",
    "  return t_train_x, t_train_y, loss_mask_train\n",
    "t_train_x, t_train_y , loss_mask_train=  batchify(t_train_x, t_train_y, loss_mask_train, batch_size)\n",
    "t_valid_x, t_valid_y , loss_mask_valid=  batchify(t_valid_x, t_valid_y, loss_mask_valid,batch_size)"
   ]
  },
  {
   "cell_type": "code",
   "execution_count": 25,
   "metadata": {},
   "outputs": [],
   "source": [
    "class PositionalEncoding(nn.Module):\n",
    "\n",
    "    def __init__(self, d_model: int = 9, dropout: float = 0.1, max_len: int = 512):\n",
    "        super().__init__()\n",
    "        self.dropout = nn.Dropout(p=dropout)\n",
    "\n",
    "        position = torch.arange(max_len).unsqueeze(1)\n",
    "        div_term = torch.exp(torch.arange(0, d_model, 2) * (-math.log(10000.0) / d_model))\n",
    "        pe = torch.zeros(max_len, 1, d_model)\n",
    "        pe[:, 0, 0::2] = torch.sin(position * div_term)\n",
    "        pe[:, 0, 1::2] = torch.cos(position * div_term)\n",
    "        self.register_buffer('pe', pe)\n",
    "\n",
    "    def forward(self, x):\n",
    "        \"\"\"\n",
    "        Args:\n",
    "            x: Tensor, shape [seq_len, batch_size, embedding_dim]\n",
    "        \"\"\"\n",
    "        x = x.permute(1, 0, 2) + self.pe[:x.size(1)]\n",
    "        x = x.permute(1, 0, 2)\n",
    "        return self.dropout(x)\n"
   ]
  },
  {
   "cell_type": "code",
   "execution_count": 26,
   "metadata": {},
   "outputs": [],
   "source": [
    "class TransformerModel(torch.nn.Module):\n",
    "    def __init__(self, n_encoder_layers=3, d_model=9, n_heads=3, dropout = 0.1):\n",
    "        super(TransformerModel, self).__init__()\n",
    "        self.n_encoder_layers = n_encoder_layers\n",
    "        self.d_model = d_model\n",
    "        self.positional_encoding = PositionalEncoding(d_model)\n",
    "        self.tranformer_encoder = TransformerModelEncoder(n_encoder_layers, d_model, n_heads,dropout)\n",
    "        self.decoder = torch.nn.Linear(d_model, 1)\n",
    "    def forward(self, X):\n",
    "        X = self.positional_encoding(X)\n",
    "        out = self.tranformer_encoder(X)\n",
    "        out = self.decoder(out)\n",
    "        return out"
   ]
  },
  {
   "cell_type": "code",
   "execution_count": 27,
   "metadata": {},
   "outputs": [],
   "source": [
    "class TransformerModelEncoder(torch.nn.Module):\n",
    "    def __init__(self, n_encoder_layers=3, d_model=9, n_heads=3, dropout= 0.1):\n",
    "        super(TransformerModelEncoder, self).__init__()\n",
    "        self.encoder = []\n",
    "        self.n_encoder_layers = n_encoder_layers\n",
    "        for i in range(n_encoder_layers):\n",
    "            self.encoder.append(TransformerEncoderLayer(n_heads,d_model, dropout))\n",
    "    def forward(self, X):\n",
    "        for i in range(self.n_encoder_layers):\n",
    "            X = self.encoder[i](X)\n",
    "        return X"
   ]
  },
  {
   "cell_type": "code",
   "execution_count": 28,
   "metadata": {},
   "outputs": [],
   "source": [
    "class TransformerEncoderLayer(torch.nn.Module):\n",
    "    def __init__(self, n_heads=3,d_model=9, dropout=0.1):\n",
    "        super(TransformerEncoderLayer, self).__init__()\n",
    "        self.attention = MultiheadAttention(n_heads,d_model, dropout)\n",
    "        self.linear = torch.nn.Linear(d_model, d_model)\n",
    "        self.linear2 = torch.nn.Linear(d_model, d_model)\n",
    "        self.dropout = torch.nn.Dropout(dropout)\n",
    "        self.layer_norm = torch.nn.LayerNorm([WINDOW_LENGTH, d_model])\n",
    "    def forward(self, X):\n",
    "        oldX = X\n",
    "        X = self.attention(X)\n",
    "        X = self.linear(X) \n",
    "        X = self.layer_norm(self.dropout(X) + oldX)\n",
    "        return X"
   ]
  },
  {
   "cell_type": "code",
   "execution_count": 29,
   "metadata": {},
   "outputs": [],
   "source": [
    "class MultiheadAttention(torch.nn.Module):\n",
    "    #Note that d_model should be divisible by the number of heads (n_heads)\n",
    "    def __init__(self, n_heads=3, d_model=9, dropout=0.1):\n",
    "        super(MultiheadAttention, self).__init__()\n",
    "        self.n_heads = n_heads\n",
    "        self.d_model = d_model\n",
    "        self.dropout = dropout\n",
    "        self.small_d = d_model//n_heads\n",
    "        \n",
    "        self.Q = torch.nn.Linear(d_model, d_model)\n",
    "        self.K = torch.nn.Linear(d_model, d_model)\n",
    "        self.V = torch.nn.Linear(d_model, d_model)\n",
    "        self.dropout = torch.nn.Dropout(dropout)\n",
    "        self.layer_norm = nn.LayerNorm([WINDOW_LENGTH, d_model])\n",
    "    #Note that X is input with the size (# of strings, Max Length of strings, #features of string)\n",
    "    def forward(self, X):\n",
    "        q_X = self.Q(X)\n",
    "        k_X =  self.K(X)\n",
    "        v_X =  self.V(X)\n",
    "        max_len = X.shape[1]\n",
    "        batch_size = X.shape[0]\n",
    "        q_X_h = q_X.reshape(batch_size, -1, self.n_heads, self.small_d).permute(0,2,1,3)\n",
    "        k_X_h = k_X.reshape(batch_size, -1, self.n_heads, self.small_d).permute(0,2,3,1)\n",
    "        v_X_h = v_X.reshape(batch_size, -1, self.n_heads, self.small_d).permute(0, 2, 1, 3)\n",
    "        mask = torch.triu(torch.ones(max_len,max_len)*float('-inf'), diagonal=1)\n",
    "        score = torch.softmax((q_X_h @ k_X_h)/np.sqrt(self.small_d) + mask, axis = -1)\n",
    "                \n",
    "        result = (score@v_X_h).permute(0, 2, 1, 3)\n",
    "        result = result.reshape(batch_size, max_len, self.d_model)\n",
    "        result = self.layer_norm(X + self.dropout(result))\n",
    "        return result"
   ]
  },
  {
   "cell_type": "code",
   "execution_count": 30,
   "metadata": {},
   "outputs": [],
   "source": [
    "Q = torch.randn((9, 15))\n",
    "K = torch.randn((9, 15))\n",
    "V = torch.randn((9, 15))\n",
    "small_d = 5\n",
    "n_heads = 3\n",
    "\n",
    "X = t_train_x[0]"
   ]
  },
  {
   "cell_type": "markdown",
   "metadata": {},
   "source": [
    "# Train LSTM"
   ]
  },
  {
   "cell_type": "code",
   "execution_count": 36,
   "metadata": {},
   "outputs": [
    {
     "name": "stderr",
     "output_type": "stream",
     "text": [
      "100%|██████████| 50/50 [00:00<00:00, 75.33it/s]\n"
     ]
    },
    {
     "name": "stdout",
     "output_type": "stream",
     "text": [
      "train\n",
      "evaluation acc: 0.5845496844923195, loss: 0.0012573144506899925\n",
      "valid\n",
      "evaluation acc: 0.6547383309759547, loss: 0.0026462282716423675\n"
     ]
    },
    {
     "name": "stderr",
     "output_type": "stream",
     "text": [
      "100%|██████████| 50/50 [00:00<00:00, 77.12it/s]\n"
     ]
    },
    {
     "name": "stdout",
     "output_type": "stream",
     "text": [
      "train\n",
      "evaluation acc: 0.6101089935623686, loss: 0.0012291243042427907\n",
      "valid\n",
      "evaluation acc: 0.6592644978783593, loss: 0.002617279050103055\n"
     ]
    },
    {
     "name": "stderr",
     "output_type": "stream",
     "text": [
      "100%|██████████| 50/50 [00:00<00:00, 81.37it/s]\n"
     ]
    },
    {
     "name": "stdout",
     "output_type": "stream",
     "text": [
      "train\n",
      "evaluation acc: 0.6161641914717317, loss: 0.0012237827188415957\n",
      "valid\n",
      "evaluation acc: 0.6601131541725601, loss: 0.0026116530274369223\n"
     ]
    },
    {
     "name": "stderr",
     "output_type": "stream",
     "text": [
      "100%|██████████| 50/50 [00:00<00:00, 79.64it/s]\n"
     ]
    },
    {
     "name": "stdout",
     "output_type": "stream",
     "text": [
      "train\n",
      "evaluation acc: 0.620434699470967, loss: 0.0012209880934045505\n",
      "valid\n",
      "evaluation acc: 0.658981612446959, loss: 0.002613580026876369\n"
     ]
    },
    {
     "data": {
      "image/png": "[encoded data removed]",
      "text/plain": [
       "<Figure size 432x288 with 1 Axes>"
      ]
     },
     "metadata": {
      "needs_background": "light"
     },
     "output_type": "display_data"
    },
    {
     "data": {
      "image/png": "[encoded data removed]",
      "text/plain": [
       "<Figure size 432x288 with 1 Axes>"
      ]
     },
     "metadata": {
      "needs_background": "light"
     },
     "output_type": "display_data"
    }
   ],
   "source": [
    "def evaluate_rnn(transformer_model, t_valid_x, t_valid_y, loss_mask_valid):\n",
    "    transformer_model.eval()\n",
    "    with torch.no_grad():\n",
    "      acc = 0\n",
    "      count = 0\n",
    "      acc_total = 0\n",
    "      loss_total = 0\n",
    "      num_batches = t_valid_x.shape[0]\n",
    "      for batch in range(29):\n",
    "          src = t_valid_x[batch,:,:,:].to(device).float()\n",
    "          tgt = t_valid_y[batch] + 0\n",
    "          loss_mask_batch = loss_mask_valid[batch, :, :]\n",
    "          out, _ = transformer_model(src)\n",
    "          out = torch.sigmoid(out[:,:, [0]]).squeeze(-1)\n",
    "          prediction = out>0.5\n",
    "          acc = torch.sum((tgt== prediction) *(loss_mask_batch))\n",
    "          loss = torch.sum((-tgt*torch.log(out) -(1-tgt)*torch.log(1-out))*loss_mask_batch)/torch.sum(loss_mask_batch)\n",
    "          loss_total += loss\n",
    "          acc_total += acc\n",
    "          count+= torch.sum(loss_mask_batch)\n",
    "      print(\"evaluation acc: {}, loss: {}\".format(acc_total/count, loss_total / count))\n",
    "    return acc_total/count, loss_total / count\n",
    "\n",
    "num_batches = t_train_x.shape[0]\n",
    "lstm_model = torch.nn.LSTM(10, 10, 2)\n",
    "optim = torch.optim.Adam(lstm_model.parameters(), lr=0.01)\n",
    "lstm_model.train()\n",
    "num_batches = t_train_x.shape[0]\n",
    "num_epochs = 4\n",
    "log_interval = 10\n",
    "total_loss = 0\n",
    "plot_loss= []\n",
    "plot_acc= []\n",
    "train_losses = []\n",
    "train_accs = []\n",
    "valid_losses = []\n",
    "valid_accs = []\n",
    "\n",
    "for epoch in range(num_epochs):\n",
    "    for batch in tqdm(range(50)):\n",
    "      optim.zero_grad()\n",
    "      src = t_train_x[batch,:,:,:].to(device).float()\n",
    "      tgt = t_train_y[batch] + 0\n",
    "      loss_mask_batch = loss_mask_train[batch, :, :]\n",
    "      out, _ = lstm_model(src)\n",
    "      out = torch.sigmoid(out[:, :, 0]).squeeze(-1)\n",
    "      prediction = out>0.5\n",
    "      acc = torch.sum((tgt== prediction) *(loss_mask_batch)) /torch.sum(loss_mask_batch)\n",
    "      plot_acc.append(acc)\n",
    "      loss = torch.sum((-tgt*torch.log(out) -(1-tgt)*torch.log(1-out))*loss_mask_batch)/torch.sum(loss_mask_batch)\n",
    "      loss.backward()\n",
    "      optim.step()\n",
    "      if (batch+1)%log_interval == 0:\n",
    "        plot_loss.append(total_loss)\n",
    "        total_loss = 0\n",
    "      total_loss += loss.item()\n",
    "    print(\"train\")\n",
    "    train_acc, train_loss = evaluate_rnn(lstm_model, t_train_x,  t_train_y, loss_mask_train)\n",
    "    print(\"valid\")\n",
    "    valid_acc, valid_loss = evaluate_rnn(lstm_model, t_valid_x,  t_valid_y, loss_mask_valid)\n",
    "    train_losses.append(train_loss.item())\n",
    "    train_accs.append(train_acc*100)\n",
    "    valid_losses.append(valid_loss)\n",
    "    valid_accs.append(valid_acc*100)\n",
    "plt.plot(train_losses, label = \"train\")\n",
    "plt.plot(valid_losses, label = \"valid\")\n",
    "plt.title('Cross Entropy Loss')\n",
    "plt.xlabel('# Epochs')\n",
    "plt.ylabel('loss')\n",
    "plt.legend()\n",
    "plt.show()\n",
    "plt.plot(train_accs,  label = \"train\")\n",
    "plt.plot(valid_accs,  label = \"valid\")\n",
    "plt.title('Accuracy')\n",
    "plt.xlabel('# Epochs')\n",
    "plt.ylabel('% Accuracy')\n",
    "plt.legend()\n",
    "plt.show()\n"
   ]
  },
  {
   "cell_type": "markdown",
   "metadata": {},
   "source": [
    "# Train transfomer"
   ]
  },
  {
   "cell_type": "code",
   "execution_count": 40,
   "metadata": {
    "colab": {
     "base_uri": "https://localhost:8080/",
     "height": 630
    },
    "id": "GgQrXXdHzdqB",
    "outputId": "6c58fc40-dec0-4d0a-9a29-a8cf259e910f"
   },
   "outputs": [
    {
     "name": "stdout",
     "output_type": "stream",
     "text": [
      "cpu\n"
     ]
    },
    {
     "name": "stderr",
     "output_type": "stream",
     "text": [
      "100%|██████████| 138/138 [00:09<00:00, 13.86it/s]\n"
     ]
    },
    {
     "name": "stdout",
     "output_type": "stream",
     "text": [
      "evaluation acc: 0.570734638049828, loss: 0.0012108875348082469\n",
      "evaluation acc: 0.6311173974540312, loss: 0.002733942558919245\n"
     ]
    },
    {
     "name": "stderr",
     "output_type": "stream",
     "text": [
      "100%|██████████| 138/138 [00:09<00:00, 13.87it/s]\n"
     ]
    },
    {
     "name": "stdout",
     "output_type": "stream",
     "text": [
      "evaluation acc: 0.5819580973807668, loss: 0.001198561741216729\n",
      "evaluation acc: 0.6418670438472419, loss: 0.0027080929482091857\n"
     ]
    },
    {
     "name": "stderr",
     "output_type": "stream",
     "text": [
      "100%|██████████| 138/138 [00:09<00:00, 13.97it/s]\n"
     ]
    },
    {
     "name": "stdout",
     "output_type": "stream",
     "text": [
      "evaluation acc: 0.5872758184305054, loss: 0.0011919508397581387\n",
      "evaluation acc: 0.6465346534653466, loss: 0.002697259876037948\n"
     ]
    },
    {
     "name": "stderr",
     "output_type": "stream",
     "text": [
      "100%|██████████| 138/138 [00:09<00:00, 13.99it/s]\n"
     ]
    },
    {
     "name": "stdout",
     "output_type": "stream",
     "text": [
      "evaluation acc: 0.5874931291464802, loss: 0.0011895739095808433\n",
      "evaluation acc: 0.6458274398868459, loss: 0.0026906342052595996\n"
     ]
    },
    {
     "data": {
      "image/png": "[encoded data removed]",
      "text/plain": [
       "<Figure size 432x288 with 1 Axes>"
      ]
     },
     "metadata": {
      "needs_background": "light"
     },
     "output_type": "display_data"
    },
    {
     "data": {
      "image/png": "[encoded data removed]",
      "text/plain": [
       "<Figure size 432x288 with 1 Axes>"
      ]
     },
     "metadata": {
      "needs_background": "light"
     },
     "output_type": "display_data"
    }
   ],
   "source": [
    "def evaluate(transformer_model,t_valid_x, t_valid_y , loss_mask_valid):\n",
    "    transformer_model.eval()\n",
    "    with torch.no_grad():\n",
    "      acc = 0\n",
    "      count = 0\n",
    "      acc_total = 0\n",
    "      loss_total = 0\n",
    "      num_batches = t_valid_x.shape[0]\n",
    "      for batch in range(num_batches):\n",
    "\n",
    "          src = t_valid_x[batch,:,:,:].to(device).float()\n",
    "          tgt = t_valid_y[batch] + 0\n",
    "          loss_mask_batch = loss_mask_valid[batch, :, :]\n",
    "          out = transformer_model(src)\n",
    "          out = torch.sigmoid(out).squeeze(-1)\n",
    "          prediction = out>0.5\n",
    "          acc = torch.sum((tgt== prediction) *(loss_mask_batch))\n",
    "          loss = torch.sum((-tgt*torch.log(out) -(1-tgt)*torch.log(1-out))*loss_mask_batch)/torch.sum(loss_mask_batch)\n",
    "          loss_total += loss\n",
    "          acc_total += acc\n",
    "          count+= torch.sum(loss_mask_batch)\n",
    "      print(\"evaluation acc: {}, loss: {}\".format(acc_total/count, loss_total / count))\n",
    "    return acc_total/count, loss_total / count\n",
    "\n",
    "\n",
    "device = torch.device(\"cuda:0\" if torch.cuda.is_available() else \"cpu\")\n",
    "print(device)\n",
    "num_batches = t_train_x.shape[0]\n",
    "transformer_model = TransformerModel(d_model = 10, n_heads=2, n_encoder_layers=3, dropout = 0.1)\n",
    "optim = torch.optim.Adam(transformer_model.parameters(), lr=0.001)\n",
    "transformer_model.train()\n",
    "num_batches = t_train_x.shape[0]\n",
    "num_epochs = 4\n",
    "log_interval = 10\n",
    "total_loss = 0\n",
    "plot_loss= []\n",
    "plot_acc= []\n",
    "train_losses = []\n",
    "train_accs = []\n",
    "valid_losses = []\n",
    "valid_accs = []\n",
    "for epoch in range(num_epochs):\n",
    "    for batch in tqdm(range(num_batches)):\n",
    "      optim.zero_grad()\n",
    "      src = t_train_x[batch,:,:,:].to(device).float()\n",
    "      tgt = t_train_y[batch] + 0\n",
    "      loss_mask_batch = loss_mask_train[batch, :, :]\n",
    "      out = transformer_model(src)\n",
    "      out = torch.sigmoid(out).squeeze(-1)\n",
    "      prediction = out>0.5\n",
    "      acc = torch.sum((tgt== prediction) *(loss_mask_batch)) /torch.sum(loss_mask_batch)\n",
    "#       print(\"acc\", acc)\n",
    "      plot_acc.append(acc)\n",
    "      loss = torch.sum((-tgt*torch.log(out) -(1-tgt)*torch.log(1-out))*loss_mask_batch)/torch.sum(loss_mask_batch)\n",
    "      loss.backward()\n",
    "      optim.step()\n",
    "#       if (batch+1)%log_interval == 0:\n",
    "#         plot_loss.append(total_loss)\n",
    "#         total_loss = 0\n",
    "#       total_loss += loss.item()\n",
    "    \n",
    "    train_loss, train_acc = evaluate(transformer_model, t_train_x,  t_train_y, loss_mask_train)\n",
    "    valid_loss, valid_acc = evaluate(transformer_model, t_valid_x,  t_valid_y, loss_mask_valid)\n",
    "    train_losses.append(train_loss.item())\n",
    "    train_accs.append(train_acc*100)\n",
    "    valid_losses.append(valid_loss)\n",
    "    valid_accs.append(valid_acc*100)\n",
    "plt.plot(train_losses, label = \"train\")\n",
    "plt.plot(valid_losses, label = \"valid\")\n",
    "plt.title('Cross Entropy Loss')\n",
    "plt.xlabel('# Epochs')\n",
    "plt.ylabel('loss')\n",
    "plt.legend()\n",
    "plt.show()\n",
    "plt.plot(train_accs,  label = \"train\")\n",
    "plt.plot(valid_accs,  label = \"valid\")\n",
    "plt.title('Accuracy')\n",
    "plt.xlabel('# Epochs')\n",
    "plt.ylabel('% Accuracy')\n",
    "plt.legend()\n",
    "plt.show()\n"
   ]
  },
  {
   "cell_type": "code",
   "execution_count": 39,
   "metadata": {
    "colab": {
     "base_uri": "https://localhost:8080/"
    },
    "id": "zvryR-IUD21W",
    "outputId": "de520071-d476-4b5e-ade7-95c6c4778d51"
   },
   "outputs": [],
   "source": []
  },
  {
   "cell_type": "code",
   "execution_count": null,
   "metadata": {
    "id": "0qHSo2iZgxhz"
   },
   "outputs": [],
   "source": []
  }
 ],
 "metadata": {
  "accelerator": "GPU",
  "colab": {
   "name": "Transformer.ipynb",
   "provenance": []
  },
  "kernelspec": {
   "display_name": "cs131k",
   "language": "python",
   "name": "cs131k"
  },
  "language_info": {
   "codemirror_mode": {
    "name": "ipython",
    "version": 3
   },
   "file_extension": ".py",
   "mimetype": "text/x-python",
   "name": "python",
   "nbconvert_exporter": "python",
   "pygments_lexer": "ipython3",
   "version": "3.9.6"
  }
 },
 "nbformat": 4,
 "nbformat_minor": 1
}

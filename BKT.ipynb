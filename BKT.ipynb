{
 "cells": [
  {
   "cell_type": "code",
   "execution_count": 8,
   "metadata": {
    "colab": {
     "base_uri": "https://localhost:8080/"
    },
    "id": "SusoCCTrUuRL",
    "outputId": "1db5a4f7-7589-4971-ee72-00eba5b678b0"
   },
   "outputs": [
    {
     "name": "stdout",
     "output_type": "stream",
     "text": [
      "/Users/wenxindong/Desktop/Stanford/CS329P/project/riiid-test-answer-prediction\n",
      "\u001b[34mAutogluonModels\u001b[m\u001b[m/                       cv1_valid.pickle.zip\n",
      "cv1_train.pickle                       cv1_valid_100k.pickle\n",
      "cv1_train.pickle.zip                   example_sample_submission.csv\n",
      "cv1_train_10000k.pickle                example_test.csv\n",
      "cv1_train_10000k_preprocessed.pickle   lectures.csv\n",
      "cv1_train_1000k.pickle                 questions.csv\n",
      "cv1_train_1000k_preprocessed.pickle    riiid-test-answer-prediction.zip\n",
      "cv1_train_100k.pickle                  \u001b[34mriiideducation\u001b[m\u001b[m/\n",
      "cv1_train_100k_preprocessed.pickle     test_4920_users.pickle\n",
      "cv1_train_preprocessed.pickle          test_4920_users_preprocessed.pickle\n",
      "cv1_val_100k_preprocessed.pickle       train.csv\n",
      "cv1_val_10k.pickle                     train_39360_users.pickle\n",
      "cv1_val_10k_preprocessed.pickle        train_39360_users_preprocessed.pickle\n",
      "cv1_val_preprocessed.pickle            valid_4920_users.pickle\n",
      "cv1_valid.pickle                       valid_4920_users_preprocessed.pickle\n",
      "cpu\n"
     ]
    }
   ],
   "source": [
    "import os\n",
    "import numpy as np\n",
    "import pandas as pd\n",
    "\n",
    "import matplotlib.pyplot as plt\n",
    "import seaborn as sns\n",
    "\n",
    "import torch\n",
    "%pwd\n",
    "%cd /Users/wenxindong/Desktop/Stanford/CS329P/project/riiid-test-answer-prediction\n",
    "%ls\n",
    "device = torch.device(\"cuda:0\" if torch.cuda.is_available() else \"cpu\")\n",
    "print(device)"
   ]
  },
  {
   "cell_type": "code",
   "execution_count": 25,
   "metadata": {
    "id": "kKxXNu7VXJGS"
   },
   "outputs": [],
   "source": [
    "train_pickle = 'train_39360_users.pickle'  #about one tenth of the training dataset\n",
    "valid_pickle = 'test_4920_users.pickle'   # too lazy to change name to test_pickle\n",
    "question_file = 'questions.csv'\n",
    "lecture_file = 'lectures.csv'\n",
    "\n",
    "# Read data\n",
    "train = pd.read_pickle(train_pickle)\n",
    "valid = pd.read_pickle(valid_pickle)\n",
    "lectures = pd.read_csv(lecture_file)\n",
    "questions = pd.read_csv(question_file)\n",
    "#subsample\n",
    "train = train[:len(train)//10]\n",
    "valid = valid[:len(valid)//10]\n"
   ]
  },
  {
   "cell_type": "code",
   "execution_count": 26,
   "metadata": {
    "id": "lTJbwvciYmXI"
   },
   "outputs": [],
   "source": [
    "#Sort by time\n",
    "train = train.sort_values(by=['timestamp'])\n",
    "train = train.reset_index(drop=True)\n",
    "valid = valid.sort_values(by=['timestamp'])\n",
    "valid = valid.reset_index(drop=True)"
   ]
  },
  {
   "cell_type": "code",
   "execution_count": 19,
   "metadata": {
    "colab": {
     "base_uri": "https://localhost:8080/",
     "height": 265
    },
    "id": "PmiGxdvYZMC8",
    "outputId": "8705ef1c-8ced-431f-cd5b-c649cac6ed3b"
   },
   "outputs": [
    {
     "data": {
      "image/png": "[encoded data removed]",
      "text/plain": [
       "<Figure size 432x288 with 1 Axes>"
      ]
     },
     "metadata": {
      "needs_background": "light"
     },
     "output_type": "display_data"
    }
   ],
   "source": [
    "student_id, student_frequency = np.unique(train['user_id'], return_counts=True)\n",
    "\n",
    "plt.hist(student_frequency, bins=30)\n",
    "plt.yscale('log')\n",
    "plt.show()"
   ]
  },
  {
   "cell_type": "code",
   "execution_count": null,
   "metadata": {
    "colab": {
     "base_uri": "https://localhost:8080/"
    },
    "id": "RxYoeaPAdGhB",
    "outputId": "7f88256d-3873-475e-9000-c3bd3767862a"
   },
   "outputs": [
    {
     "name": "stdout",
     "output_type": "stream",
     "text": [
      "# of Student ID having # of occurences higher than the threshold (2000): 13\n"
     ]
    }
   ],
   "source": [
    "threshold = 2000\n",
    "\n",
    "print(\"# of Student ID having # of occurences higher than the threshold (\" + str(threshold) + \"): \" + str(np.sum(student_frequency >= threshold)))"
   ]
  },
  {
   "cell_type": "code",
   "execution_count": null,
   "metadata": {
    "colab": {
     "base_uri": "https://localhost:8080/"
    },
    "id": "rL4ACWnGmOaf",
    "outputId": "67ec1bdd-6734-4804-f304-10e57be8bc5a"
   },
   "outputs": [
    {
     "name": "stdout",
     "output_type": "stream",
     "text": [
      "# of Training Entries: 32932\n"
     ]
    }
   ],
   "source": [
    "#Drop other rows (We will not use the information of eachquestion that much)\n",
    "\n",
    "#squarer = lambda t: t in keep_student_id\n",
    "#vfunc = np.vectorize(squarer)\n",
    "#drop_row = np.where(1-vfunc(np.array(train['user_id'])))[0]\n",
    "\n",
    "keep_student_id = student_id[np.where(student_frequency >= threshold)[0]]\n",
    "train = train.drop(np.where(1-train['user_id'].isin(keep_student_id))[0], axis=0)\n",
    "train = train.reset_index(drop=True)\n",
    "print(\"# of Training Entries: \" + str(train.shape[0]))"
   ]
  },
  {
   "cell_type": "code",
   "execution_count": 27,
   "metadata": {
    "colab": {
     "base_uri": "https://localhost:8080/"
    },
    "id": "4m_s-oS-op4T",
    "outputId": "bb940f54-2806-4f2c-b9d5-82e5cbb88df2"
   },
   "outputs": [
    {
     "name": "stdout",
     "output_type": "stream",
     "text": [
      "# of Training Entries: 989400\n"
     ]
    }
   ],
   "source": [
    "train = train.drop(np.where(train['content_type_id'] == 1)[0], axis=0)\n",
    "train = train.reset_index(drop=True)\n",
    "print(\"# of Training Entries: \" + str(train.shape[0]))\n",
    "\n",
    "valid = valid.drop(np.where(valid['content_type_id'] == 1)[0], axis=0)\n",
    "valid = valid.reset_index(drop=True)\n",
    "\n"
   ]
  },
  {
   "cell_type": "code",
   "execution_count": 28,
   "metadata": {
    "id": "3bYw4qyugsag"
   },
   "outputs": [],
   "source": [
    "#This is to map question_id into parts (Note that if we also want to include the lecture part, we can do so by concatenating questions.csv with lectures.csv)\n",
    "train['part'] = np.array(questions['part'])[np.array(train['content_id'])]\n",
    "valid['part'] = np.array(questions['part'])[np.array(valid['content_id'])]"
   ]
  },
  {
   "cell_type": "code",
   "execution_count": 29,
   "metadata": {
    "id": "c5AMkYqchBcV"
   },
   "outputs": [],
   "source": [
    "#Should run only one time\n",
    "train = train.drop(['row_id', 'content_id', 'content_type_id', 'task_container_id', 'user_answer', 'prior_question_elapsed_time', 'prior_question_had_explanation'], axis=1)\n",
    "\n",
    "#Sort lexiographically\n",
    "train = train.sort_values(by=['user_id', 'timestamp'])\n",
    "train = train.reset_index(drop=True)\n",
    "\n",
    "train = train.drop(['timestamp'], axis=1)"
   ]
  },
  {
   "cell_type": "code",
   "execution_count": 30,
   "metadata": {
    "id": "4_wm4OITc5X8"
   },
   "outputs": [],
   "source": [
    "#Should run only one time\n",
    "valid = valid.drop(['row_id', 'content_id', 'content_type_id', 'task_container_id', 'user_answer', 'prior_question_elapsed_time', 'prior_question_had_explanation'], axis=1)\n",
    "\n",
    "#Sort lexiographically\n",
    "valid = valid.sort_values(by=['user_id', 'timestamp'])\n",
    "valid = valid.reset_index(drop=True)\n",
    "\n",
    "valid = valid.drop(['timestamp'], axis=1)"
   ]
  },
  {
   "cell_type": "code",
   "execution_count": null,
   "metadata": {
    "id": "7WLz0KqYsR-O"
   },
   "outputs": [],
   "source": [
    "#Pruning so that each user has same length of history\n",
    "\n",
    "#This can be run mulitple time\n",
    "\n",
    "map = np.unique(train['user_id'])\n",
    "\n",
    "mapmap = np.unique(train['user_id'], return_counts=True)[1]\n",
    "minmin = np.min(mapmap)\n",
    "\n",
    "lower = np.cumsum(mapmap)\n",
    "upper = np.append(0, lower[:-1]) + minmin\n",
    "\n",
    "drop_row = np.zeros(0)\n",
    "for i in range(lower.size):\n",
    "  drop_row = np.append(drop_row, np.arange(upper[i], lower[i]))\n",
    "\n",
    "train = train.drop(drop_row, axis=0)"
   ]
  },
  {
   "cell_type": "code",
   "execution_count": null,
   "metadata": {
    "id": "4k-R5nItsaIa"
   },
   "outputs": [],
   "source": [
    "#Run only once\n",
    "train['part'] = train['part'] -1"
   ]
  },
  {
   "cell_type": "code",
   "execution_count": null,
   "metadata": {
    "colab": {
     "base_uri": "https://localhost:8080/",
     "height": 69
    },
    "id": "L1hBizVIJKHQ",
    "outputId": "69eda82e-518d-48f1-f466-ee41fc21477d"
   },
   "outputs": [
    {
     "data": {
      "application/vnd.google.colaboratory.intrinsic+json": {
       "type": "string"
      },
      "text/plain": [
       "'\\n#Run this only one time\\nt_train = torch.tensor(np.array(train))\\n\\n#oNe hot enode + drop identity\\nt_train = torch.cat((t_train[:,1:-1], torch.nn.functional.one_hot(t_train[:,-1], num_classes=- 1)), dim=1)\\n\\nnumber_user = np.size(mapmap)\\n\\nt_train = t_train.view(number_user, int(t_train.shape[0] / number_user), -1)\\n\\nt_train_y = t_train[:,:,0]\\nt_train_x = t_train[:,:,1:]\\n'"
      ]
     },
     "execution_count": 15,
     "metadata": {},
     "output_type": "execute_result"
    }
   ],
   "source": [
    "'''\n",
    "#Run this only one time\n",
    "t_train = torch.tensor(np.array(train))\n",
    "\n",
    "#oNe hot enode + drop identity\n",
    "t_train = torch.cat((t_train[:,1:-1], torch.nn.functional.one_hot(t_train[:,-1], num_classes=- 1)), dim=1)\n",
    "\n",
    "number_user = np.size(mapmap)\n",
    "\n",
    "t_train = t_train.view(number_user, int(t_train.shape[0] / number_user), -1)\n",
    "\n",
    "t_train_y = t_train[:,:,0]\n",
    "t_train_x = t_train[:,:,1:]\n",
    "'''"
   ]
  },
  {
   "cell_type": "code",
   "execution_count": null,
   "metadata": {
    "id": "XhH4m5GyzTSB"
   },
   "outputs": [],
   "source": [
    "#Load into torch\n",
    "t_train = torch.tensor(np.array(train))\n",
    "#t_train = torch.cat((t_train[:,1:-1], torch.nn.functional.one_hot(t_train[:,-1], num_classes=- 1)), dim=1)\n",
    "t_train = t_train[:,1:]\n",
    "mapmap = np.unique(train['user_id'], return_counts=True)[1]\n",
    "lower = np.cumsum(mapmap)\n",
    "number_user = np.size(mapmap)"
   ]
  },
  {
   "cell_type": "code",
   "execution_count": null,
   "metadata": {
    "id": "X3tF7GL7x8yi"
   },
   "outputs": [],
   "source": [
    "#Nanobatch\n",
    "nanobatch = np.random.randint(number_user)\n",
    "nano_t_train = t_train[np.append(0, lower)[nanobatch] : lower[nanobatch]]\n",
    "nano_t_train_x = nano_t_train[:,1:]\n",
    "nano_t_train_y = nano_t_train[:,0]"
   ]
  },
  {
   "cell_type": "code",
   "execution_count": null,
   "metadata": {
    "colab": {
     "base_uri": "https://localhost:8080/"
    },
    "id": "UvuT8rbH9eb0",
    "outputId": "9ed82468-f3c9-4489-b0e2-47e03e6ced63"
   },
   "outputs": [
    {
     "data": {
      "text/plain": [
       "tensor([[0],\n",
       "        [0],\n",
       "        [0],\n",
       "        ...,\n",
       "        [4],\n",
       "        [4],\n",
       "        [4]])"
      ]
     },
     "execution_count": 19,
     "metadata": {},
     "output_type": "execute_result"
    }
   ],
   "source": [
    "nano_t_train_x"
   ]
  },
  {
   "cell_type": "code",
   "execution_count": null,
   "metadata": {
    "colab": {
     "base_uri": "https://localhost:8080/"
    },
    "id": "LDypVwN_TOsC",
    "outputId": "b6e71574-8ba4-42cf-d257-72762e555b4d"
   },
   "outputs": [
    {
     "data": {
      "text/plain": [
       "tensor([0, 1, 1,  ..., 1, 0, 0])"
      ]
     },
     "execution_count": 20,
     "metadata": {},
     "output_type": "execute_result"
    }
   ],
   "source": [
    "nano_t_train[:,0]"
   ]
  },
  {
   "cell_type": "code",
   "execution_count": null,
   "metadata": {
    "id": "HrTqc3S0xEp3"
   },
   "outputs": [],
   "source": [
    "num_epoch = 200\n",
    "num_step_per_epoch = 200\n",
    "step_size = 1e-3\n",
    "\n",
    "beta1=0.9\n",
    "beta2=0.999\n",
    "epsilon=1e-8\n",
    "\n",
    "\n",
    "#Learnable parameters\n",
    "Layers = dict()\n",
    "Layers['L0_a'] = torch.randn(7, device=device, dtype=torch.float64, requires_grad=True)\n",
    "Layers['T_a'] = torch.randn(7, device=device, dtype=torch.float64, requires_grad=True)\n",
    "Layers['S_a'] = torch.randn(7, device=device, dtype=torch.float64, requires_grad=True)\n",
    "Layers['G_a'] = torch.randn(7, device=device, dtype=torch.float64, requires_grad=True)\n",
    "\n",
    "m = dict()\n",
    "v = dict()\n",
    "g = dict()\n",
    "mh = dict()\n",
    "vh = dict()\n",
    "for namee in Layers.keys():\n",
    "  m[namee] = torch.zeros_like(Layers[namee])\n",
    "  v[namee] = torch.zeros_like(Layers[namee])\n",
    "  g[namee] = torch.zeros_like(Layers[namee])\n",
    "  mh[namee] = torch.zeros_like(Layers[namee])\n",
    "  vh[namee] = torch.zeros_like(Layers[namee])\n",
    "\n",
    "\n",
    "loss_array = np.zeros(0)\n",
    "t = 0\n",
    "\n",
    "for epoch in range(num_epoch):\n",
    "\n",
    "  T = torch.sigmoid(Layers['T_a'])\n",
    "  S = torch.sigmoid(Layers['S_a'])\n",
    "  G = torch.sigmoid(Layers['G_a'])\n",
    "\n",
    "  #Initilaize phase\n",
    "  L = torch.sigmoid(Layers['L0_a'])\n",
    "  loss = 0\n",
    "\n",
    "  #Forward\n",
    "  for i in range(nano_t_train.shape[0]):\n",
    "    k = nano_t_train[i,1]\n",
    "    obs = nano_t_train[i,0]\n",
    "    C = L[k]*(1-S[k]) + (1-L[k])*(G[k])\n",
    "    #Loss\n",
    "    loss -= (torch.log(C)*obs + torch.log(1-C)*(1-obs))\n",
    "    #Propagate\n",
    "    Lobs = 1 / (1 + ((1-L[k]) * torch.abs(1-obs-G[k]) / L[k]/ torch.abs(obs-S[k])))\n",
    "    mask = torch.zeros(7).to(device=device)\n",
    "    mask[k] = 1\n",
    "    L = L*(1-mask) + mask*(Lobs + (1-Lobs)*T[k])\n",
    "\n",
    "  loss /= nano_t_train.shape[0]\n",
    "\n",
    "  #print(loss)\n",
    "\n",
    "  #Backward\n",
    "  loss.backward()\n",
    "  #print('Yay!')\n",
    "\n",
    "  t += 1\n",
    "  for namee in Layers.keys():\n",
    "    g[namee] = Layers[namee].grad\n",
    "    m[namee] = beta1 * m[namee] + (1 - beta1) * g[namee]\n",
    "    v[namee] = beta2 * v[namee] + (1 - beta2) * torch.square(g[namee])\n",
    "    mh[namee] = m[namee] / (1 - np.power(beta1, t)) + (1 - beta1) * g[namee] / (1 - np.power(beta1, t))\n",
    "    vh[namee] = v[namee] / (1 - np.power(beta2, t))\n",
    "    Layers[namee].data -= step_size * mh[namee] / (torch.sqrt(vh[namee]) + epsilon)\n",
    "    Layers[namee].grad.data.zero_()\n",
    "  \n",
    "  loss_array = np.append(loss_array, float(loss))"
   ]
  },
  {
   "cell_type": "code",
   "execution_count": null,
   "metadata": {
    "colab": {
     "base_uri": "https://localhost:8080/",
     "height": 282
    },
    "id": "QRTZ08zluuww",
    "outputId": "efdf1de4-282d-4129-aa14-a55079afcde5"
   },
   "outputs": [
    {
     "data": {
      "text/plain": [
       "[<matplotlib.lines.Line2D at 0x7fad885d9510>]"
      ]
     },
     "execution_count": 25,
     "metadata": {},
     "output_type": "execute_result"
    },
    {
     "data": {
      "image/png": "[encoded data removed]",
      "text/plain": [
       "<Figure size 432x288 with 1 Axes>"
      ]
     },
     "metadata": {
      "needs_background": "light"
     },
     "output_type": "display_data"
    }
   ],
   "source": [
    "plt.plot(loss_array)"
   ]
  },
  {
   "cell_type": "code",
   "execution_count": null,
   "metadata": {
    "id": "U8VbQ3G382gY"
   },
   "outputs": [],
   "source": [
    "  for i in range(nano_t_train.shape[0]):\n",
    "    k = nano_t_train[i,1]\n",
    "    obs = nano_t_train[i,0]\n",
    "    C = L[k]*(1-S[k]) + (1-L[k])*(G[k])\n",
    "\n",
    "    loss -= (torch.log(C)*obs + torch.log(1-C)*(1-obs))\n",
    "\n",
    "    Lobs = 1 / (1 + ((1-L[k]) * torch.abs(1-obs-G[k]) / L[k]/ torch.abs(obs-S[k])))\n",
    "    L[k] = Lobs + (1-Lobs)*T[k]\n",
    "\n",
    "  loss /= nano_t_train.shape[0]"
   ]
  },
  {
   "cell_type": "code",
   "execution_count": null,
   "metadata": {
    "id": "uzL8bbaq0XTj"
   },
   "outputs": [],
   "source": [
    "L = L0\n",
    "loss = 0\n",
    "for i in range(nano_t_train.shape[0]):\n",
    "  k = nano_t_train[i,1]\n",
    "  obs = nano_t_train[i,0]\n",
    "  C = L[k]*(1-S[k]) + (1-L[k])*(G[k])\n",
    "\n",
    "  loss -= (torch.log(C)*obs + torch.log(1-C)*(1-obs))\n",
    "\n",
    "  Lobs = 1 / (1 + ((1-L[k]) * torch.abs(1-obs-G[k]) / L[k]/ torch.abs(obs-S[k])))\n",
    "  L[k] = Lobs + (1-Lobs)*T[k]"
   ]
  },
  {
   "cell_type": "code",
   "execution_count": null,
   "metadata": {
    "colab": {
     "base_uri": "https://localhost:8080/"
    },
    "id": "rP7JfYWP6pOe",
    "outputId": "4a1aec6c-4b38-489c-b5f1-f6f39fc9eb30"
   },
   "outputs": [
    {
     "data": {
      "text/plain": [
       "tensor(1278.6415, device='cuda:0', dtype=torch.float64, grad_fn=<SubBackward0>)"
      ]
     },
     "execution_count": 255,
     "metadata": {},
     "output_type": "execute_result"
    }
   ],
   "source": [
    "loss"
   ]
  },
  {
   "cell_type": "code",
   "execution_count": null,
   "metadata": {
    "colab": {
     "base_uri": "https://localhost:8080/"
    },
    "id": "9uEks0dp6q92",
    "outputId": "ca9b303a-8a5e-4db4-bc88-e0b79bb07b13"
   },
   "outputs": [
    {
     "data": {
      "text/plain": [
       "tensor([1.0000, 1.0000, 1.0000, 1.0000, 1.0000, 1.0000, 1.0000],\n",
       "       device='cuda:0', dtype=torch.float64, grad_fn=<CopySlices>)"
      ]
     },
     "execution_count": 256,
     "metadata": {},
     "output_type": "execute_result"
    }
   ],
   "source": [
    "L"
   ]
  },
  {
   "cell_type": "code",
   "execution_count": null,
   "metadata": {
    "id": "w18SVNQq0tr6"
   },
   "outputs": [],
   "source": [
    "#If use onehot encoding, L[k] = L @ e_k.\n",
    "k = nano_t_train[i,1]\n",
    "obs = nano_t_train[i,0]\n",
    "C = L[k]*(1-S[k]) + (1-L[k])*(G[k])\n",
    "\n",
    "loss = - (torch.log(C)*obs + torch.log(1-C)@(1-obs))\n",
    "\n",
    "Lobs = 1 / (1 + ((1-L[k]) * torch.abs(1-obs-G[k]) / L[k]/ torch.abs(obs-S[k])))\n",
    "L[k] = Lobs + (1-Lobs)*T[k]"
   ]
  },
  {
   "cell_type": "code",
   "execution_count": null,
   "metadata": {
    "colab": {
     "base_uri": "https://localhost:8080/"
    },
    "id": "TKT3G9Bt3w37",
    "outputId": "4b3b3a7a-4859-4df9-f7bc-7727fff2e464"
   },
   "outputs": [
    {
     "data": {
      "text/plain": [
       "tensor(0.6992, device='cuda:0', dtype=torch.float64, grad_fn=<AddBackward0>)"
      ]
     },
     "execution_count": 252,
     "metadata": {},
     "output_type": "execute_result"
    }
   ],
   "source": [
    "C"
   ]
  },
  {
   "cell_type": "code",
   "execution_count": null,
   "metadata": {
    "colab": {
     "base_uri": "https://localhost:8080/"
    },
    "id": "JpmryUYD3ZPk",
    "outputId": "8c4c1cab-ee39-4389-9f4e-e61d69bee2ee"
   },
   "outputs": [
    {
     "data": {
      "text/plain": [
       "tensor([0.5369, 0.7646, 0.7528, 0.5567, 0.7886, 0.6209, 0.0747],\n",
       "       device='cuda:0', dtype=torch.float64, grad_fn=<CopySlices>)"
      ]
     },
     "execution_count": 251,
     "metadata": {},
     "output_type": "execute_result"
    }
   ],
   "source": [
    "L"
   ]
  },
  {
   "cell_type": "code",
   "execution_count": null,
   "metadata": {
    "id": "-aSnzSIQ3Dt0"
   },
   "outputs": [],
   "source": [
    "1:  G\n",
    "0: 1-G "
   ]
  },
  {
   "cell_type": "code",
   "execution_count": null,
   "metadata": {
    "id": "PBxy0-qn0Lro"
   },
   "outputs": [],
   "source": []
  },
  {
   "cell_type": "code",
   "execution_count": null,
   "metadata": {
    "colab": {
     "base_uri": "https://localhost:8080/"
    },
    "id": "hm9nszXSxqlJ",
    "outputId": "ccf258e0-8520-4776-92f9-f2f171ab3a7a"
   },
   "outputs": [
    {
     "data": {
      "text/plain": [
       "tensor(0)"
      ]
     },
     "execution_count": 216,
     "metadata": {},
     "output_type": "execute_result"
    }
   ],
   "source": [
    "obs"
   ]
  },
  {
   "cell_type": "code",
   "execution_count": null,
   "metadata": {
    "colab": {
     "base_uri": "https://localhost:8080/"
    },
    "id": "yJAx5_iqwb8T",
    "outputId": "e10a3153-7ac0-4186-eb55-7ad3c6c28e96"
   },
   "outputs": [
    {
     "data": {
      "text/plain": [
       "tensor([[1, 0],\n",
       "        [0, 0],\n",
       "        [0, 0],\n",
       "        ...,\n",
       "        [1, 0],\n",
       "        [1, 0],\n",
       "        [1, 0]])"
      ]
     },
     "execution_count": 212,
     "metadata": {},
     "output_type": "execute_result"
    }
   ],
   "source": [
    "nano_t_train"
   ]
  },
  {
   "cell_type": "code",
   "execution_count": null,
   "metadata": {
    "id": "bSENhZR7wjLs"
   },
   "outputs": [],
   "source": [
    "#initialize phase\n",
    "L = L0"
   ]
  },
  {
   "cell_type": "code",
   "execution_count": null,
   "metadata": {
    "id": "jDVZEWFNdJIK"
   },
   "outputs": [],
   "source": []
  },
  {
   "cell_type": "code",
   "execution_count": null,
   "metadata": {
    "id": "I-l0_xwZdPwY"
   },
   "outputs": [],
   "source": []
  },
  {
   "cell_type": "code",
   "execution_count": null,
   "metadata": {
    "colab": {
     "base_uri": "https://localhost:8080/",
     "height": 164
    },
    "id": "bZiMg323wHpH",
    "outputId": "6003c9d4-8207-4ed8-bcb7-8e4cfcbbf4a6"
   },
   "outputs": [
    {
     "ename": "RuntimeError",
     "evalue": "ignored",
     "output_type": "error",
     "traceback": [
      "\u001b[0;31m---------------------------------------------------------------------------\u001b[0m",
      "\u001b[0;31mRuntimeError\u001b[0m                              Traceback (most recent call last)",
      "\u001b[0;32m<ipython-input-28-af3dd180bc15>\u001b[0m in \u001b[0;36m<module>\u001b[0;34m()\u001b[0m\n\u001b[0;32m----> 1\u001b[0;31m \u001b[0mt_train\u001b[0m\u001b[0;34m.\u001b[0m\u001b[0mview\u001b[0m\u001b[0;34m(\u001b[0m\u001b[0mnumber_user\u001b[0m\u001b[0;34m,\u001b[0m \u001b[0mint\u001b[0m\u001b[0;34m(\u001b[0m\u001b[0mt_train\u001b[0m\u001b[0;34m.\u001b[0m\u001b[0mshape\u001b[0m\u001b[0;34m[\u001b[0m\u001b[0;36m0\u001b[0m\u001b[0;34m]\u001b[0m \u001b[0;34m/\u001b[0m \u001b[0mnumber_user\u001b[0m\u001b[0;34m)\u001b[0m\u001b[0;34m,\u001b[0m \u001b[0;34m-\u001b[0m\u001b[0;36m1\u001b[0m\u001b[0;34m)\u001b[0m\u001b[0;34m\u001b[0m\u001b[0;34m\u001b[0m\u001b[0m\n\u001b[0m",
      "\u001b[0;31mRuntimeError\u001b[0m: shape '[13, 152, -1]' is invalid for input of size 3962"
     ]
    }
   ],
   "source": [
    "t_train.view(number_user, int(t_train.shape[0] / number_user), -1)"
   ]
  },
  {
   "cell_type": "code",
   "execution_count": null,
   "metadata": {
    "id": "dTxHTzI7HrII"
   },
   "outputs": [],
   "source": [
    "L = torch.zeros_like(t_train_y)"
   ]
  },
  {
   "cell_type": "code",
   "execution_count": null,
   "metadata": {
    "colab": {
     "base_uri": "https://localhost:8080/"
    },
    "id": "06FIox87JlkG",
    "outputId": "8a234a8f-d49b-4e85-d943-c8739eec20e1"
   },
   "outputs": [
    {
     "data": {
      "text/plain": [
       "tensor([[[1, 0, 0,  ..., 1, 0, 0],\n",
       "         [1, 0, 1,  ..., 0, 0, 0],\n",
       "         [1, 0, 0,  ..., 1, 0, 0],\n",
       "         ...,\n",
       "         [0, 0, 0,  ..., 1, 0, 0],\n",
       "         [1, 0, 0,  ..., 1, 0, 0],\n",
       "         [1, 0, 0,  ..., 1, 0, 0]],\n",
       "\n",
       "        [[1, 0, 0,  ..., 1, 0, 0],\n",
       "         [1, 0, 0,  ..., 1, 0, 0],\n",
       "         [1, 0, 0,  ..., 1, 0, 0],\n",
       "         ...,\n",
       "         [0, 0, 0,  ..., 0, 1, 0],\n",
       "         [1, 0, 0,  ..., 0, 1, 0],\n",
       "         [1, 0, 0,  ..., 0, 1, 0]],\n",
       "\n",
       "        [[0, 0, 0,  ..., 1, 0, 0],\n",
       "         [0, 0, 0,  ..., 1, 0, 0],\n",
       "         [0, 0, 0,  ..., 1, 0, 0],\n",
       "         ...,\n",
       "         [1, 0, 1,  ..., 0, 0, 0],\n",
       "         [1, 0, 1,  ..., 0, 0, 0],\n",
       "         [1, 0, 1,  ..., 0, 0, 0]],\n",
       "\n",
       "        ...,\n",
       "\n",
       "        [[1, 0, 0,  ..., 1, 0, 0],\n",
       "         [0, 0, 0,  ..., 1, 0, 0],\n",
       "         [1, 1, 0,  ..., 0, 0, 0],\n",
       "         ...,\n",
       "         [1, 0, 0,  ..., 0, 0, 0],\n",
       "         [1, 0, 0,  ..., 0, 0, 0],\n",
       "         [1, 0, 0,  ..., 0, 0, 0]],\n",
       "\n",
       "        [[1, 0, 0,  ..., 1, 0, 0],\n",
       "         [0, 0, 0,  ..., 1, 0, 0],\n",
       "         [0, 0, 0,  ..., 1, 0, 0],\n",
       "         ...,\n",
       "         [0, 0, 1,  ..., 0, 0, 0],\n",
       "         [0, 0, 1,  ..., 0, 0, 0],\n",
       "         [1, 0, 1,  ..., 0, 0, 0]],\n",
       "\n",
       "        [[0, 0, 0,  ..., 1, 0, 0],\n",
       "         [1, 0, 0,  ..., 1, 0, 0],\n",
       "         [0, 0, 1,  ..., 0, 0, 0],\n",
       "         ...,\n",
       "         [1, 0, 0,  ..., 1, 0, 0],\n",
       "         [1, 0, 0,  ..., 1, 0, 0],\n",
       "         [1, 0, 0,  ..., 1, 0, 0]]])"
      ]
     },
     "execution_count": 131,
     "metadata": {},
     "output_type": "execute_result"
    }
   ],
   "source": [
    "t_train.view(number_user, int(t_train.shape[0] / number_user), -1)"
   ]
  },
  {
   "cell_type": "code",
   "execution_count": null,
   "metadata": {
    "id": "JW0os4zbJwIw"
   },
   "outputs": [],
   "source": [
    "t_train.view(number_user, int(t_train.shape[0] / number_user), -1)"
   ]
  },
  {
   "cell_type": "code",
   "execution_count": null,
   "metadata": {
    "id": "RhIdPG7sKp-K"
   },
   "outputs": [],
   "source": [
    "torch.cat()"
   ]
  },
  {
   "cell_type": "code",
   "execution_count": null,
   "metadata": {
    "colab": {
     "base_uri": "https://localhost:8080/"
    },
    "id": "BR6Gqx4bJTs3",
    "outputId": "1f81aff4-7e5a-49bf-96ed-ad2965c09f97"
   },
   "outputs": [
    {
     "data": {
      "text/plain": [
       "tensor([[0, 0, 0,  ..., 1, 0, 0],\n",
       "        [0, 1, 0,  ..., 0, 0, 0],\n",
       "        [0, 0, 0,  ..., 1, 0, 0],\n",
       "        ...,\n",
       "        [0, 0, 0,  ..., 1, 0, 0],\n",
       "        [0, 0, 0,  ..., 1, 0, 0],\n",
       "        [0, 0, 0,  ..., 1, 0, 0]])"
      ]
     },
     "execution_count": 119,
     "metadata": {},
     "output_type": "execute_result"
    }
   ],
   "source": [
    "torch.nn.functional.one_hot(t_train[:,-1], num_classes=- 1)"
   ]
  },
  {
   "cell_type": "code",
   "execution_count": null,
   "metadata": {
    "colab": {
     "base_uri": "https://localhost:8080/"
    },
    "id": "zgbcHvilINCt",
    "outputId": "9974202a-638f-47e9-88c3-30c3aaa6dc69"
   },
   "outputs": [
    {
     "data": {
      "text/plain": [
       "tensor([[[ 0,  1,  4],\n",
       "         [ 0,  1,  1],\n",
       "         [ 0,  1,  4],\n",
       "         ...,\n",
       "         [ 0,  0,  4],\n",
       "         [ 0,  1,  4],\n",
       "         [ 0,  1,  4]],\n",
       "\n",
       "        [[ 1,  1,  4],\n",
       "         [ 1,  1,  4],\n",
       "         [ 1,  1,  4],\n",
       "         ...,\n",
       "         [ 1,  0,  5],\n",
       "         [ 1,  1,  5],\n",
       "         [ 1,  1,  5]],\n",
       "\n",
       "        [[ 2,  0,  4],\n",
       "         [ 2,  0,  4],\n",
       "         [ 2,  0,  4],\n",
       "         ...,\n",
       "         [ 2,  1,  1],\n",
       "         [ 2,  1,  1],\n",
       "         [ 2,  1,  1]],\n",
       "\n",
       "        ...,\n",
       "\n",
       "        [[26,  1,  4],\n",
       "         [26,  0,  4],\n",
       "         [26,  1,  0],\n",
       "         ...,\n",
       "         [26,  1,  2],\n",
       "         [26,  1,  2],\n",
       "         [26,  1,  2]],\n",
       "\n",
       "        [[27,  1,  4],\n",
       "         [27,  0,  4],\n",
       "         [27,  0,  4],\n",
       "         ...,\n",
       "         [27,  0,  1],\n",
       "         [27,  0,  1],\n",
       "         [27,  1,  1]],\n",
       "\n",
       "        [[28,  0,  4],\n",
       "         [28,  1,  4],\n",
       "         [28,  0,  1],\n",
       "         ...,\n",
       "         [28,  1,  4],\n",
       "         [28,  1,  4],\n",
       "         [28,  1,  4]]])"
      ]
     },
     "execution_count": 124,
     "metadata": {},
     "output_type": "execute_result"
    }
   ],
   "source": [
    "t_train.view(number_user, int(t_train.shape[0] / number_user), -1)"
   ]
  },
  {
   "cell_type": "markdown",
   "metadata": {
    "id": "4ilnS1rvazLt"
   },
   "source": [
    "# Empirical"
   ]
  },
  {
   "cell_type": "code",
   "execution_count": 31,
   "metadata": {
    "colab": {
     "base_uri": "https://localhost:8080/"
    },
    "id": "88Lh0KB8N4Cq",
    "outputId": "79c39f9a-2efd-4c1f-e038-8adca7b6626f"
   },
   "outputs": [
    {
     "name": "stdout",
     "output_type": "stream",
     "text": [
      "training BKT model for part 1\n",
      "there are 76299 rows, 2806 students\n",
      "Training BCE losss: 0.545, acc: 0.761\n",
      "BCE losss: 0.582, acc: 0.732\n",
      "training BKT model for part 2\n",
      "there are 188335 rows, 3471 students\n",
      "Training BCE losss: 0.583, acc: 0.725\n",
      "BCE losss: 0.586, acc: 0.723\n",
      "training BKT model for part 3\n",
      "there are 87788 rows, 2009 students\n",
      "Training BCE losss: 0.577, acc: 0.724\n",
      "BCE losss: 0.566, acc: 0.734\n",
      "training BKT model for part 4\n",
      "there are 83160 rows, 1946 students\n",
      "Training BCE losss: 0.609, acc: 0.693\n",
      "BCE losss: 0.592, acc: 0.711\n",
      "training BKT model for part 5\n",
      "there are 396050 rows, 3750 students\n",
      "Training BCE losss: 0.650, acc: 0.639\n",
      "BCE losss: 0.656, acc: 0.630\n",
      "training BKT model for part 6\n",
      "there are 108879 rows, 1976 students\n",
      "Training BCE losss: 0.614, acc: 0.683\n",
      "BCE losss: 0.625, acc: 0.679\n",
      "training BKT model for part 7\n",
      "there are 48889 rows, 1815 students\n",
      "Training BCE losss: 0.589, acc: 0.711\n",
      "BCE losss: 0.578, acc: 0.727\n"
     ]
    }
   ],
   "source": [
    "def prep_data_BKT(data_df, part_id):\n",
    "  train0 = data_df[data_df['part']==part_id]\n",
    "  train0.reset_index(inplace=True)\n",
    "  map, counts = np.unique(train0['user_id'], return_counts=True)\n",
    "  cum_counts = np.cumsum(counts)\n",
    "  start_idxs = np.append(0, cum_counts)\n",
    "  return train0, start_idxs\n",
    "def evaluate_BKT(train0, C, P_L0, P_T, P_G, P_S, start_idxs):\n",
    "  #for every student\n",
    "  predictions = []\n",
    "  for i in range(len(start_idxs)-1):\n",
    "    L = P_L0\n",
    "    student_history = np.array(train0[\"answered_correctly\"][start_idxs[i]: start_idxs[i+1]])\n",
    "    for answer in student_history:\n",
    "      prediction = L*(1-P_S) + (1-L)*P_G\n",
    "      predictions.append(prediction)\n",
    "      P_L_obs= 0\n",
    "      if answer==1:\n",
    "        P_L_obs = (L*(1-P_S)) / (L*(1-P_S)+ (1-L)*P_G)\n",
    "      else:\n",
    "        P_L_obs = (L*(P_S)) / (L*(P_S)+ (1-L)*(1-P_G))\n",
    "      L = P_L_obs + (1-P_L_obs)*P_T\n",
    "  predictions = np.array(predictions)\n",
    "  # print(predictions)\n",
    "  # plt.scatter(C[np.where(C==1)]+np.where(C==1), predictions[np.where(C==1)], c = \"red\", s = 0.1)\n",
    "  # plt.scatter(C[np.where(C==0)]+np.where(C==0), predictions[np.where(C==0)], c = \"green\", s = 0.1)\n",
    "  # plt.show()\n",
    "  bce_loss = np.sum(- C*np.log(predictions) - (1-C)*np.log(1-predictions))/len(predictions)\n",
    "  acc = np.sum(C*(predictions>0.5) + (1-C)*(predictions<0.5))/len(predictions)\n",
    "  return bce_loss, acc, predictions\n",
    "\n",
    "def get_best_ki(student_history):\n",
    "    len_history = len(student_history)\n",
    "    total_ones = np.sum(student_history)\n",
    "    max_acc = 0\n",
    "    best_i = 0\n",
    "    num_mistakes_before = 0\n",
    "    num_correct_before = 0\n",
    "    for i in range(len_history+1):\n",
    "      #i = position of first green check \n",
    "      acc =num_mistakes_before + (total_ones - num_correct_before)\n",
    "      if acc>max_acc:\n",
    "        best_i  = i\n",
    "        max_acc = acc\n",
    "      if i<len_history and student_history[i] == 0:\n",
    "        num_mistakes_before+=1\n",
    "      if i<len_history and student_history[i] == 1:\n",
    "        num_correct_before+=1\n",
    "    return best_i\n",
    "\n",
    "def fit_BKT(train0, start_idxs):\n",
    "\n",
    "  K = []\n",
    "  for i in range(len(start_idxs)-1):\n",
    "    student_history = np.array(train0[\"answered_correctly\"][start_idxs[i]: start_idxs[i+1]])\n",
    "    best_i = get_best_ki(student_history)\n",
    "    student_ki = [0 for _ in range(best_i)] + [1 for _ in range(len(student_history) -  best_i)]\n",
    "    K.extend(student_ki)\n",
    "  \n",
    "  K = np.array(K)\n",
    "  C = np.array(train0[\"answered_correctly\"])\n",
    "  P_L0 = np.mean(K[start_idxs[:-1]])\n",
    "  P_T = np.sum(K[1:]*(1-K[:-1])) / np.sum((1-K[:-1]))\n",
    "  P_G = np.sum(C*(1-K)) / np.sum((1-K))\n",
    "  P_S = np.sum((1-C)*(K)) / np.sum((K))\n",
    "  return P_L0, P_T, P_G, P_S, C, K\n",
    "\n",
    "all_predictions = []\n",
    "all_targets = []\n",
    "for part in range(1,8):\n",
    "  print(\"training BKT model for part {}\".format(part))\n",
    "  #training\n",
    "  train0, start_idxs = prep_data_BKT(train, part)\n",
    "  print(\"there are {} rows, {} students\".format(len(train0), len(start_idxs)))\n",
    "  P_L0, P_T, P_G, P_S, C, K = fit_BKT(train0, start_idxs)\n",
    "  bce_loss, acc, predictions = evaluate_BKT(train0, C,  P_L0, P_T, P_G, P_S, start_idxs)\n",
    "  print(\"Training BCE losss: {:.3f}, acc: {:.3f}\".format(bce_loss, acc))  \n",
    "\n",
    "  #testing\n",
    "  valid0, start_idxs_valid = prep_data_BKT(valid, part)\n",
    "  _, _, _, _, C, _ = fit_BKT(valid0, start_idxs_valid)\n",
    "  bce_loss, acc, predictions = evaluate_BKT(valid0, C, P_L0, P_T, P_G, P_S, start_idxs_valid)\n",
    "  all_predictions.extend(predictions)\n",
    "  all_targets.extend(C)\n",
    "  print(\"BCE losss: {:.3f}, acc: {:.3f}\".format(bce_loss, acc))"
   ]
  },
  {
   "cell_type": "code",
   "execution_count": 40,
   "metadata": {},
   "outputs": [
    {
     "name": "stdout",
     "output_type": "stream",
     "text": [
      "overall accuracy on the test set is 0.6721045417469034\n",
      "overall auc score is 0.6094982534491316\n"
     ]
    }
   ],
   "source": [
    "#calculate overall accuracy and AUC\n",
    "accuracy = np.sum((np.array(all_predictions) >0) +0 == np.array(all_targets)+0) / len(all_targets)\n",
    "print(f\"overall accuracy on the test set is {accuracy}\")\n",
    "from sklearn.metrics import roc_auc_score\n",
    "\n",
    "auc = roc_auc_score(all_targets, all_predictions)\n",
    "print(f\"overall auc score is {auc}\")"
   ]
  },
  {
   "cell_type": "code",
   "execution_count": null,
   "metadata": {},
   "outputs": [],
   "source": []
  },
  {
   "cell_type": "code",
   "execution_count": null,
   "metadata": {
    "colab": {
     "base_uri": "https://localhost:8080/"
    },
    "id": "gemgLnKqXBCO",
    "outputId": "0ba304d0-56ef-4208-9e4f-5cc93cc0e4a7"
   },
   "outputs": [
    {
     "data": {
      "text/plain": [
       "array([0, 0, 1, 1], dtype=int8)"
      ]
     },
     "execution_count": 19,
     "metadata": {},
     "output_type": "execute_result"
    }
   ],
   "source": [
    "C[start_idxs[1]:start_idxs[2]]"
   ]
  },
  {
   "cell_type": "code",
   "execution_count": null,
   "metadata": {
    "id": "d55kM75SPxvb"
   },
   "outputs": [],
   "source": [
    "i = 0"
   ]
  },
  {
   "cell_type": "code",
   "execution_count": null,
   "metadata": {
    "colab": {
     "base_uri": "https://localhost:8080/"
    },
    "id": "_kCkv4qUQ9nA",
    "outputId": "ca2975e7-0fd3-4af2-8ac3-bfa819d371ac"
   },
   "outputs": [
    {
     "data": {
      "text/plain": [
       "array([1, 1, 1, 1, 1, 1, 1, 1, 1, 1, 1, 1, 1, 1, 1])"
      ]
     },
     "execution_count": 36,
     "metadata": {},
     "output_type": "execute_result"
    }
   ],
   "source": [
    "K[start_idxs[i]:start_idxs[i+1]]"
   ]
  },
  {
   "cell_type": "code",
   "execution_count": null,
   "metadata": {
    "id": "KsAZiBbXQ9rg"
   },
   "outputs": [],
   "source": [
    "C = C[start_idxs[i]:start_idxs[i+1]]"
   ]
  },
  {
   "cell_type": "code",
   "execution_count": null,
   "metadata": {
    "id": "gfXdFaE6RYHe"
   },
   "outputs": [],
   "source": [
    "def create_K(C):\n",
    "  K = np.ones_like(C)\n",
    "  cum_sum = np.cumsum(C*2-1)\n",
    "  if np.min(cum_sum)  > 0:\n",
    "    return K\n",
    "  K[:np.argmin(cum_sum)+1] = 0\n",
    "  return K"
   ]
  },
  {
   "cell_type": "code",
   "execution_count": null,
   "metadata": {
    "colab": {
     "base_uri": "https://localhost:8080/"
    },
    "id": "AdEOlrmHajxI",
    "outputId": "d4d1ba05-821b-478e-b652-e8ca10e3a593"
   },
   "outputs": [
    {
     "data": {
      "text/plain": [
       "array([0, 0, 0, 0, 0, 0, 0, 1, 1])"
      ]
     },
     "execution_count": 70,
     "metadata": {},
     "output_type": "execute_result"
    }
   ],
   "source": [
    "create_K(C)"
   ]
  },
  {
   "cell_type": "code",
   "execution_count": null,
   "metadata": {
    "id": "Eco0G77jVbDj"
   },
   "outputs": [],
   "source": []
  },
  {
   "cell_type": "code",
   "execution_count": null,
   "metadata": {
    "id": "qQIAc3l3S1j-"
   },
   "outputs": [],
   "source": [
    "C = np.array([1,1,0,0,1,0,0,1,0])"
   ]
  },
  {
   "cell_type": "code",
   "execution_count": null,
   "metadata": {
    "id": "LPGLasMIS1mr"
   },
   "outputs": [],
   "source": [
    "cum_sum = np.cumsum(C*2-1)"
   ]
  },
  {
   "cell_type": "code",
   "execution_count": null,
   "metadata": {
    "colab": {
     "base_uri": "https://localhost:8080/"
    },
    "id": "RkqUNmVGTiPv",
    "outputId": "5ff04384-146f-4467-f16c-e08b517ebf0e"
   },
   "outputs": [
    {
     "data": {
      "text/plain": [
       "6"
      ]
     },
     "execution_count": 52,
     "metadata": {},
     "output_type": "execute_result"
    }
   ],
   "source": [
    "np.argmin(cum_sum)"
   ]
  },
  {
   "cell_type": "code",
   "execution_count": null,
   "metadata": {
    "colab": {
     "base_uri": "https://localhost:8080/"
    },
    "id": "pozr1mBPTieP",
    "outputId": "702b6c53-ea4a-4fb0-8dda-bf7542c7e194"
   },
   "outputs": [
    {
     "data": {
      "text/plain": [
       "array([ True,  True,  True, False, False, False, False, False, False,\n",
       "       False])"
      ]
     },
     "execution_count": 50,
     "metadata": {},
     "output_type": "execute_result"
    }
   ],
   "source": [
    "cum_sum > 0"
   ]
  },
  {
   "cell_type": "code",
   "execution_count": null,
   "metadata": {
    "id": "Qo_vQjZ5dfAP"
   },
   "outputs": [],
   "source": [
    "map, counts = np.unique(train0['user_id'], return_counts=True)"
   ]
  },
  {
   "cell_type": "code",
   "execution_count": null,
   "metadata": {
    "id": "9s7iIGqfa2pO"
   },
   "outputs": [],
   "source": [
    "Lnot = np.mean((train0.iloc[np.append(0, np.cumsum(counts)[:-1])])['answered_correctly'])"
   ]
  },
  {
   "cell_type": "code",
   "execution_count": null,
   "metadata": {
    "id": "u9P3_bWUcDVV"
   },
   "outputs": [],
   "source": [
    "C = np.array(train0.iloc[0:110]['answered_correctly'])"
   ]
  },
  {
   "cell_type": "code",
   "execution_count": null,
   "metadata": {
    "id": "pfkbP2HjcJz8"
   },
   "outputs": [],
   "source": [
    "import cvxpy as cp"
   ]
  },
  {
   "cell_type": "code",
   "execution_count": null,
   "metadata": {
    "colab": {
     "base_uri": "https://localhost:8080/"
    },
    "id": "_ztm6gZMcah_",
    "outputId": "ec1ef5e5-7e2e-458f-8756-aa009e51fe5c"
   },
   "outputs": [
    {
     "data": {
      "text/plain": [
       "-0.7380540946656713"
      ]
     },
     "execution_count": 150,
     "metadata": {},
     "output_type": "execute_result"
    }
   ],
   "source": [
    "K = cp.Variable(110)\n",
    "constraints = [cp.hstack((0, K)) - cp.hstack((K, 1)) <= 0]\n",
    "obj = cp.Minimize(-K@C/110 - (1-K)@(1-C)/110 + 0.1*cp.sum_squares(cp.hstack((0, K)) - cp.hstack((K, 1))))\n",
    "problemn = cp.Problem(obj, constraints)\n",
    "problemn.solve()"
   ]
  },
  {
   "cell_type": "code",
   "execution_count": null,
   "metadata": {
    "colab": {
     "base_uri": "https://localhost:8080/",
     "height": 282
    },
    "id": "fjVLQ3jbiksY",
    "outputId": "253396b6-e74c-4113-fc62-e7afeab904b2"
   },
   "outputs": [
    {
     "data": {
      "text/plain": [
       "<matplotlib.collections.PathCollection at 0x7f229fb87590>"
      ]
     },
     "execution_count": 151,
     "metadata": {},
     "output_type": "execute_result"
    },
    {
     "data": {
      "image/png": "[encoded data removed]",
      "text/plain": [
       "<Figure size 432x288 with 1 Axes>"
      ]
     },
     "metadata": {
      "needs_background": "light"
     },
     "output_type": "display_data"
    }
   ],
   "source": [
    "plt.plot(K.value)\n",
    "plt.scatter(np.arange(110),C, color='orange')"
   ]
  },
  {
   "cell_type": "code",
   "execution_count": null,
   "metadata": {
    "colab": {
     "base_uri": "https://localhost:8080/"
    },
    "id": "3_87Rv0rixaP",
    "outputId": "2024dabb-8520-4198-e5ae-8f13eabc90e6"
   },
   "outputs": [
    {
     "data": {
      "text/plain": [
       "Expression(AFFINE, UNKNOWN, (110,))"
      ]
     },
     "execution_count": 88,
     "metadata": {},
     "output_type": "execute_result"
    }
   ],
   "source": []
  },
  {
   "cell_type": "code",
   "execution_count": null,
   "metadata": {
    "id": "ZuhJUxQjkxPm"
   },
   "outputs": [],
   "source": []
  },
  {
   "cell_type": "markdown",
   "metadata": {
    "id": "OEtmtsyPHkP7"
   },
   "source": [
    "# EM\n"
   ]
  },
  {
   "cell_type": "code",
   "execution_count": null,
   "metadata": {
    "colab": {
     "base_uri": "https://localhost:8080/",
     "height": 690
    },
    "id": "Ns2-TuJUHjTl",
    "outputId": "8e40aeff-0cd2-4b6f-f23e-4228f20ce493"
   },
   "outputs": [
    {
     "name": "stdout",
     "output_type": "stream",
     "text": [
      "training BKT using EM for part 1\n",
      "there are 95927 rows, 7955 students\n",
      "random initialization - BCE losss: 0.625, acc: 0.661%\n",
      "finished E step 0 0.15663961888701247\n",
      "finished E step 1 (array([0.39363187, 0.53279221]), array([1894, 6060]))\n",
      "finished E step 2  [0 0 0 ... 0 1 1]\n",
      "slip =  0.27978233507892486\n",
      "guess =  0.49018395419548294\n",
      "first states [0.39363187 0.53279221 0.39363187 ... 0.53279221 0.53279221 0.53279221]\n",
      "L_0 =  0.23986113971971182\n",
      "transition =  1.7189456543925807\n"
     ]
    },
    {
     "name": "stderr",
     "output_type": "stream",
     "text": [
      "/usr/local/lib/python3.7/dist-packages/ipykernel_launcher.py:28: RuntimeWarning: invalid value encountered in log\n"
     ]
    },
    {
     "name": "stdout",
     "output_type": "stream",
     "text": [
      "BCE loss: nan, acc: 0.708%\n",
      "finished E step 0 0.23986113971971182\n",
      "finished E step 1 (array([1.4912072 , 1.61282285]), array([6060, 1894]))\n",
      "finished E step 2  [0 0 0 ... 0 1 1]\n",
      "slip =  -0.15534514622702056\n",
      "guess =  0.990107061184552\n",
      "first states [1.61282285 1.4912072  1.61282285 ... 1.4912072  1.4912072  1.4912072 ]\n",
      "L_0 =  0.27648742326191633\n",
      "transition =  0.2109725524541635\n"
     ]
    },
    {
     "ename": "KeyboardInterrupt",
     "evalue": "ignored",
     "output_type": "error",
     "traceback": [
      "\u001b[0;31m---------------------------------------------------------------------------\u001b[0m",
      "\u001b[0;31mKeyboardInterrupt\u001b[0m                         Traceback (most recent call last)",
      "\u001b[0;32m<ipython-input-77-1d40ee430933>\u001b[0m in \u001b[0;36m<module>\u001b[0;34m()\u001b[0m\n\u001b[1;32m     88\u001b[0m   \u001b[0mprint\u001b[0m\u001b[0;34m(\u001b[0m\u001b[0;34m\"final BCE loss: {:.3f}, acc: {:.3f}%\"\u001b[0m\u001b[0;34m.\u001b[0m\u001b[0mformat\u001b[0m\u001b[0;34m(\u001b[0m\u001b[0mbce_loss\u001b[0m\u001b[0;34m,\u001b[0m \u001b[0macc\u001b[0m\u001b[0;34m)\u001b[0m\u001b[0;34m)\u001b[0m\u001b[0;34m\u001b[0m\u001b[0;34m\u001b[0m\u001b[0m\n\u001b[1;32m     89\u001b[0m \u001b[0;32mfor\u001b[0m \u001b[0mpart\u001b[0m \u001b[0;32min\u001b[0m \u001b[0mrange\u001b[0m\u001b[0;34m(\u001b[0m\u001b[0;36m1\u001b[0m\u001b[0;34m,\u001b[0m \u001b[0;36m2\u001b[0m\u001b[0;34m)\u001b[0m\u001b[0;34m:\u001b[0m\u001b[0;34m\u001b[0m\u001b[0;34m\u001b[0m\u001b[0m\n\u001b[0;32m---> 90\u001b[0;31m   \u001b[0mEM\u001b[0m\u001b[0;34m(\u001b[0m\u001b[0mpart\u001b[0m\u001b[0;34m)\u001b[0m\u001b[0;34m\u001b[0m\u001b[0;34m\u001b[0m\u001b[0m\n\u001b[0m",
      "\u001b[0;32m<ipython-input-77-1d40ee430933>\u001b[0m in \u001b[0;36mEM\u001b[0;34m(part)\u001b[0m\n\u001b[1;32m     73\u001b[0m       \u001b[0mLs\u001b[0m \u001b[0;34m=\u001b[0m \u001b[0mE_step\u001b[0m\u001b[0;34m(\u001b[0m\u001b[0mtrain0\u001b[0m\u001b[0;34m,\u001b[0m \u001b[0mP_L0\u001b[0m\u001b[0;34m,\u001b[0m \u001b[0mP_T\u001b[0m\u001b[0;34m,\u001b[0m \u001b[0mP_G\u001b[0m\u001b[0;34m,\u001b[0m \u001b[0mP_S\u001b[0m\u001b[0;34m,\u001b[0m \u001b[0mstart_idxs_train\u001b[0m\u001b[0;34m)\u001b[0m\u001b[0;34m\u001b[0m\u001b[0;34m\u001b[0m\u001b[0m\n\u001b[1;32m     74\u001b[0m       \u001b[0mP_T\u001b[0m\u001b[0;34m,\u001b[0m \u001b[0mP_G\u001b[0m\u001b[0;34m,\u001b[0m \u001b[0mP_S\u001b[0m\u001b[0;34m,\u001b[0m \u001b[0mP_L0\u001b[0m \u001b[0;34m=\u001b[0m \u001b[0mM_step\u001b[0m\u001b[0;34m(\u001b[0m\u001b[0mCs_train\u001b[0m\u001b[0;34m,\u001b[0m \u001b[0mLs\u001b[0m\u001b[0;34m,\u001b[0m \u001b[0mP_L0\u001b[0m\u001b[0;34m,\u001b[0m \u001b[0mP_T\u001b[0m\u001b[0;34m,\u001b[0m \u001b[0mP_G\u001b[0m\u001b[0;34m,\u001b[0m \u001b[0mP_S\u001b[0m\u001b[0;34m,\u001b[0m \u001b[0mstart_idxs_train\u001b[0m\u001b[0;34m)\u001b[0m\u001b[0;34m\u001b[0m\u001b[0;34m\u001b[0m\u001b[0m\n\u001b[0;32m---> 75\u001b[0;31m       \u001b[0mbce_loss\u001b[0m\u001b[0;34m,\u001b[0m \u001b[0macc\u001b[0m \u001b[0;34m=\u001b[0m \u001b[0mevaluate_BKT\u001b[0m\u001b[0;34m(\u001b[0m\u001b[0mtrain0\u001b[0m\u001b[0;34m,\u001b[0m \u001b[0mCs_train\u001b[0m\u001b[0;34m,\u001b[0m \u001b[0mP_L0\u001b[0m\u001b[0;34m,\u001b[0m \u001b[0mP_T\u001b[0m\u001b[0;34m,\u001b[0m \u001b[0mP_G\u001b[0m\u001b[0;34m,\u001b[0m \u001b[0mP_S\u001b[0m\u001b[0;34m,\u001b[0m\u001b[0mstart_idxs_train\u001b[0m\u001b[0;34m)\u001b[0m\u001b[0;34m\u001b[0m\u001b[0;34m\u001b[0m\u001b[0m\n\u001b[0m\u001b[1;32m     76\u001b[0m       \u001b[0mprint\u001b[0m\u001b[0;34m(\u001b[0m\u001b[0;34m\"BCE loss: {:.3f}, acc: {:.3f}%\"\u001b[0m\u001b[0;34m.\u001b[0m\u001b[0mformat\u001b[0m\u001b[0;34m(\u001b[0m\u001b[0mbce_loss\u001b[0m\u001b[0;34m,\u001b[0m \u001b[0macc\u001b[0m\u001b[0;34m)\u001b[0m\u001b[0;34m)\u001b[0m\u001b[0;34m\u001b[0m\u001b[0;34m\u001b[0m\u001b[0m\n\u001b[1;32m     77\u001b[0m       \u001b[0;32mif\u001b[0m \u001b[0mabs\u001b[0m\u001b[0;34m(\u001b[0m\u001b[0mbce_loss\u001b[0m \u001b[0;34m-\u001b[0m \u001b[0mprev_bce_loss\u001b[0m\u001b[0;34m)\u001b[0m \u001b[0;34m<\u001b[0m \u001b[0;36m1e-5\u001b[0m\u001b[0;34m:\u001b[0m\u001b[0;34m\u001b[0m\u001b[0;34m\u001b[0m\u001b[0m\n",
      "\u001b[0;32m<ipython-input-17-cdef317eecb4>\u001b[0m in \u001b[0;36mevaluate_BKT\u001b[0;34m(train0, C, P_L0, P_T, P_G, P_S, start_idxs)\u001b[0m\n\u001b[1;32m     11\u001b[0m   \u001b[0;32mfor\u001b[0m \u001b[0mi\u001b[0m \u001b[0;32min\u001b[0m \u001b[0mrange\u001b[0m\u001b[0;34m(\u001b[0m\u001b[0mlen\u001b[0m\u001b[0;34m(\u001b[0m\u001b[0mstart_idxs\u001b[0m\u001b[0;34m)\u001b[0m\u001b[0;34m-\u001b[0m\u001b[0;36m1\u001b[0m\u001b[0;34m)\u001b[0m\u001b[0;34m:\u001b[0m\u001b[0;34m\u001b[0m\u001b[0;34m\u001b[0m\u001b[0m\n\u001b[1;32m     12\u001b[0m     \u001b[0mL\u001b[0m \u001b[0;34m=\u001b[0m \u001b[0mP_L0\u001b[0m\u001b[0;34m\u001b[0m\u001b[0;34m\u001b[0m\u001b[0m\n\u001b[0;32m---> 13\u001b[0;31m     \u001b[0mstudent_history\u001b[0m \u001b[0;34m=\u001b[0m \u001b[0mnp\u001b[0m\u001b[0;34m.\u001b[0m\u001b[0marray\u001b[0m\u001b[0;34m(\u001b[0m\u001b[0mtrain0\u001b[0m\u001b[0;34m[\u001b[0m\u001b[0;34m\"answered_correctly\"\u001b[0m\u001b[0;34m]\u001b[0m\u001b[0;34m[\u001b[0m\u001b[0mstart_idxs\u001b[0m\u001b[0;34m[\u001b[0m\u001b[0mi\u001b[0m\u001b[0;34m]\u001b[0m\u001b[0;34m:\u001b[0m \u001b[0mstart_idxs\u001b[0m\u001b[0;34m[\u001b[0m\u001b[0mi\u001b[0m\u001b[0;34m+\u001b[0m\u001b[0;36m1\u001b[0m\u001b[0;34m]\u001b[0m\u001b[0;34m]\u001b[0m\u001b[0;34m)\u001b[0m\u001b[0;34m\u001b[0m\u001b[0;34m\u001b[0m\u001b[0m\n\u001b[0m\u001b[1;32m     14\u001b[0m     \u001b[0;32mfor\u001b[0m \u001b[0manswer\u001b[0m \u001b[0;32min\u001b[0m \u001b[0mstudent_history\u001b[0m\u001b[0;34m:\u001b[0m\u001b[0;34m\u001b[0m\u001b[0;34m\u001b[0m\u001b[0m\n\u001b[1;32m     15\u001b[0m       \u001b[0mprediction\u001b[0m \u001b[0;34m=\u001b[0m \u001b[0mL\u001b[0m\u001b[0;34m*\u001b[0m\u001b[0;34m(\u001b[0m\u001b[0;36m1\u001b[0m\u001b[0;34m-\u001b[0m\u001b[0mP_S\u001b[0m\u001b[0;34m)\u001b[0m \u001b[0;34m+\u001b[0m \u001b[0;34m(\u001b[0m\u001b[0;36m1\u001b[0m\u001b[0;34m-\u001b[0m\u001b[0mL\u001b[0m\u001b[0;34m)\u001b[0m\u001b[0;34m*\u001b[0m\u001b[0mP_G\u001b[0m\u001b[0;34m\u001b[0m\u001b[0;34m\u001b[0m\u001b[0m\n",
      "\u001b[0;31mKeyboardInterrupt\u001b[0m: "
     ]
    }
   ],
   "source": [
    "# E-step, fill in missing latent variables L\n",
    "def E_step(train0, P_L0, P_T, P_G, P_S, start_idxs):\n",
    "  Ls = []\n",
    "  for i in range(len(start_idxs)-1):\n",
    "    L = P_L0\n",
    "    student_history = np.array(train0[\"answered_correctly\"][start_idxs[i]: start_idxs[i+1]])\n",
    "    for answer in student_history:\n",
    "      P_L_obs= 0\n",
    "      if answer==1:\n",
    "        P_L_obs = (L*(1-P_S)) / (L*(1-P_S)+ (1-L)*P_G)\n",
    "      else:\n",
    "        P_L_obs = (L*(P_S)) / (L*(P_S)+ (1-L)*(1-P_G))\n",
    "      \n",
    "      newL = P_L_obs + (1-P_L_obs)*P_T\n",
    "      Ls.append(newL)\n",
    "      L = newL\n",
    "  Ls = np.array(Ls)\n",
    "  print(\"finished E step 0\",P_L0)\n",
    "\n",
    "  print(\"finished E step 1\", np.unique(Ls[start_idxs[:-1]], return_counts=True))\n",
    "  print(\"finished E step 2 \", np.array(train0[\"answered_correctly\"]))\n",
    "  return Ls\n",
    "\n",
    "# def M_step(Cs, Ls, P_L0, P_T, P_G, P_S, start_idxs):\n",
    "#   slip = np.sum((Ls>0.5)*(1-Cs)) / np.sum((Ls>0.5)) if np.sum(Ls>0.5)>0 else P_S\n",
    "#   # slip = np.mean(1- (Cs - (1-Ls)*P_G) / Ls )\n",
    "#   print(\"slip = \", slip)\n",
    "#   guess = np.sum((Ls<0.5)*(Cs)) / np.sum((Ls<0.5)) if np.sum(Ls<0.5)>0 else P_G\n",
    "#   # guess = np.mean( (Cs - Ls*(1-P_S))/(1-Ls+1e-8))\n",
    "#   print(\"guess = \", guess)\n",
    "#   L_0 = np.mean((Ls[start_idxs[:-1]] - P_T)/(1-P_T))\n",
    "#   print(\"first states\", Ls[start_idxs[:-1]])\n",
    "#   print(\"L_0 = \", L_0)\n",
    "#   transition = 0\n",
    "#   count = 0\n",
    "\n",
    "#   for i in range(len(start_idxs)-1):\n",
    "\n",
    "#     student_L = Ls[start_idxs[i]: start_idxs[i+1]]\n",
    "#   #   student_T = np.sum((student_L - np.append(P_L0, student_L[:-1] )) / (1-np.append(P_L0, student_L[:-1]) + 1e-8) )\n",
    "#     count += np.sum((np.append(P_L0, student_L[:-1])<0.5))\n",
    "#   #   transition+=student_T\n",
    "#     transition += np.sum((np.append(P_L0, student_L[:-1])<0.5)*(student_L>0.5))\n",
    "  \n",
    "#   transition /=count\n",
    "#   # transition = ((Ls<0.5))\n",
    "#   print(\"transition = \", transition)\n",
    "#   # print(transition)\n",
    "#   return transition, guess, slip, L_0\n",
    "\n",
    "def EM(part):\n",
    "  print(\"training BKT using EM for part {}\".format(part))\n",
    "  train0, start_idxs_train = prep_data_BKT(train, part)\n",
    "  Cs_train = np.array(train0[\"answered_correctly\"])\n",
    "\n",
    "  valid0, start_idxs_valid = prep_data_BKT(valid, part)\n",
    "  Cs_valid = np.array(valid0[\"answered_correctly\"])\n",
    "\n",
    "\n",
    "  best_model = []\n",
    "  best_bce_loss = float('inf')\n",
    "  print(\"there are {} rows, {} students\".format(len(train0), len(start_idxs_train)))\n",
    "  for m in range(5):\n",
    "    P_L0 = np.random.uniform(0.1, 0.3)\n",
    "    P_T = np.random.uniform(0.1, 0.5)\n",
    "    P_G = np.random.uniform(0.1, 0.5)\n",
    "    P_S= np.random.uniform(0.1, 0.5)\n",
    "    # print(\"starts with \", P_T, P_G, P_S, P_L0)\n",
    "    bce_loss, acc = evaluate_BKT(train0, Cs_train, P_L0, P_T, P_G, P_S, start_idxs_train)\n",
    "    print(\"random initialization - BCE losss: {:.3f}, acc: {:.3f}%\".format(bce_loss, acc))\n",
    "    prev_bce_loss = 0\n",
    "    for i in range(100):\n",
    "      Ls = E_step(train0, P_L0, P_T, P_G, P_S, start_idxs_train)\n",
    "      P_T, P_G, P_S, P_L0 = M_step(Cs_train, Ls, P_L0, P_T, P_G, P_S, start_idxs_train)      \n",
    "      bce_loss, acc = evaluate_BKT(train0, Cs_train, P_L0, P_T, P_G, P_S,start_idxs_train)\n",
    "      print(\"BCE loss: {:.3f}, acc: {:.3f}%\".format(bce_loss, acc))\n",
    "      if abs(bce_loss - prev_bce_loss) < 1e-5:\n",
    "        # print(\"ends with \", P_T, P_G, P_S, P_L0)\n",
    "        # print(\"BCE losss: {:.3f}, acc: {:.3f}%\".format(bce_loss, acc))\n",
    "        break\n",
    "      prev_bce_loss = bce_loss\n",
    "    if prev_bce_loss < best_bce_loss:\n",
    "      best_bce_loss = prev_bce_loss\n",
    "      best_model = [P_L0, P_T, P_G, P_S]\n",
    "      print(\"updated best model\")\n",
    "     \n",
    "  bce_loss, acc = evaluate_BKT(valid0, Cs_valid, best_model[0], best_model[1], best_model[2], best_model[3], start_idxs_valid)\n",
    "  print(\"final BCE loss: {:.3f}, acc: {:.3f}%\".format(bce_loss, acc))\n",
    "for part in range(1, 2):\n",
    "  EM(part)"
   ]
  },
  {
   "cell_type": "code",
   "execution_count": null,
   "metadata": {
    "id": "NmWikBJE4jmG"
   },
   "outputs": [],
   "source": [
    "def evaluate_BKT(train0, P_L0, P_T, P_G, P_S):\n",
    "  #for every student\n",
    "  predictions = []\n",
    "  for i in range(len(start_idxs)-1):\n",
    "    L = P_L0\n",
    "    student_history = np.array(train0[\"answered_correctly\"][start_idxs[i]: start_idxs[i+1]])\n",
    "    for answer in student_history:\n",
    "      prediction = L*(1-P_S) + (1-L)*P_G\n",
    "      predictions.append(prediction)\n",
    "      P_L_obs= 0\n",
    "      if answer==1:\n",
    "        P_L_obs = (L*(1-P_S)) / (L*(1-P_S)+ (1-L)*P_G)\n",
    "      else:\n",
    "        P_L_obs = (L*(P_S)) / (L*(P_S)+ (1-L)*(1-P_G))\n",
    "      L = P_L_obs + (1-P_L_obs)*P_T\n",
    "  predictions = np.array(predictions)\n",
    "  # print(predictions)\n",
    "  # plt.scatter(C[np.where(C==1)]+np.where(C==1), predictions[np.where(C==1)], c = \"red\", s = 0.1)\n",
    "  # plt.scatter(C[np.where(C==0)]+np.where(C==0), predictions[np.where(C==0)], c = \"green\", s = 0.1)\n",
    "  # plt.show()\n",
    "  bce_loss = np.sum(- C*np.log(predictions) - (1-C)*np.log(1-predictions))/len(predictions)\n",
    "  acc = np.sum(C*(predictions>0.5) + (1-C)*(predictions<0.5))/len(predictions)\n",
    "  return bce_loss, acc\n"
   ]
  },
  {
   "cell_type": "code",
   "execution_count": null,
   "metadata": {
    "id": "B7FyfLaMHNB4"
   },
   "outputs": [],
   "source": [
    "def M_step(Cs, Ls, P_L0, P_T, P_G, P_S, start_idxs):\n",
    "  slip = np.sum((Ls)*(1-Cs)) / (np.sum(Ls) + 1e-8)\n",
    "  # slip = np.mean(1- (Cs - (1-Ls)*P_G) / Ls )\n",
    "  print(\"slip = \", slip)\n",
    "  guess = np.sum((1-Ls)*(Cs)) / (np.sum((1-Ls)) + 1e-8)\n",
    "  # guess = np.mean( (Cs - Ls*(1-P_S))/(1-Ls+1e-8))\n",
    "  print(\"guess = \", guess)\n",
    "  L_0 = np.mean((Ls[start_idxs[:-1]] - P_T)/(1-P_T))\n",
    "  print(\"first states\", Ls[start_idxs[:-1]])\n",
    "  print(\"L_0 = \", L_0)\n",
    "  transition = 0\n",
    "  count = 0\n",
    "\n",
    "  for i in range(len(start_idxs)-1):\n",
    "    student_L = Ls[start_idxs[i]: start_idxs[i+1]]\n",
    "    student_T = np.sum((student_L - np.append(P_L0, student_L[:-1] )) / (1-np.append(P_L0, student_L[:-1]) + 1e-8))\n",
    "    count += np.sum(1-(np.append(P_L0, student_L[:-1])))\n",
    "    transition+=student_T\n",
    "    # transition += np.sum((1-np.append(P_L0, student_L[:-1]))*(student_L))\n",
    "  \n",
    "  transition /=count\n",
    "  # transition = ((Ls<0.5))\n",
    "  print(\"transition = \", transition)\n",
    "  # print(transition)\n",
    "  return transition, guess, slip, L_0\n"
   ]
  },
  {
   "cell_type": "markdown",
   "metadata": {
    "id": "H7zS1SpeXRlH"
   },
   "source": [
    "#Experiment"
   ]
  }
 ],
 "metadata": {
  "accelerator": "GPU",
  "colab": {
   "collapsed_sections": [],
   "name": "BKT.ipynb",
   "provenance": []
  },
  "kernelspec": {
   "display_name": "Python 3",
   "language": "python",
   "name": "python3"
  },
  "language_info": {
   "codemirror_mode": {
    "name": "ipython",
    "version": 3
   },
   "file_extension": ".py",
   "mimetype": "text/x-python",
   "name": "python",
   "nbconvert_exporter": "python",
   "pygments_lexer": "ipython3",
   "version": "3.6.9"
  }
 },
 "nbformat": 4,
 "nbformat_minor": 1
}
